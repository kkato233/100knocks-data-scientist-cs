{
 "cells": [
  {
   "cell_type": "markdown",
   "metadata": {},
   "source": [
    "データサイエンス100本ノック（構造化データ加工編） - C # \n",
    "--"
   ]
  },
  {
   "cell_type": "markdown",
   "metadata": {},
   "source": [
    "## はじめに\n",
    "- 初めに以下のセルを実行してください\n",
    "- 必要なライブラリのインポートとCSVファイルからのデータ読み込みを行います\n",
    "- 利用が想定されるライブラリは以下セルでインポートしています\n",
    "- その他利用したいライブラリがあれば適宜インストールしてください（\"#r \"nuget:ライブラリ名\" で nuget パッケージがインストール可能）\n",
    "- 処理は複数回に分けても構いません\n",
    "- 名前、住所等はダミーデータであり、実在するものではありません"
   ]
  },
  {
   "cell_type": "code",
   "execution_count": 1,
   "metadata": {
    "dotnet_interactive": {
     "language": "csharp"
    }
   },
   "outputs": [
    {
     "data": {
      "text/html": [
       "\r\n",
       "<div>\r\n",
       "    <div id='dotnet-interactive-this-cell-5771.Microsoft.DotNet.Interactive.Http.HttpPort' style='display: none'>\r\n",
       "        The below script needs to be able to find the current output cell; this is an easy method to get it.\r\n",
       "    </div>\r\n",
       "    <script type='text/javascript'>\r\n",
       "async function probeAddresses(probingAddresses) {\r\n",
       "    function timeout(ms, promise) {\r\n",
       "        return new Promise(function (resolve, reject) {\r\n",
       "            setTimeout(function () {\r\n",
       "                reject(new Error('timeout'))\r\n",
       "            }, ms)\r\n",
       "            promise.then(resolve, reject)\r\n",
       "        })\r\n",
       "    }\r\n",
       "\r\n",
       "    if (Array.isArray(probingAddresses)) {\r\n",
       "        for (let i = 0; i < probingAddresses.length; i++) {\r\n",
       "\r\n",
       "            let rootUrl = probingAddresses[i];\r\n",
       "\r\n",
       "            if (!rootUrl.endsWith('/')) {\r\n",
       "                rootUrl = `${rootUrl}/`;\r\n",
       "            }\r\n",
       "\r\n",
       "            try {\r\n",
       "                let response = await timeout(1000, fetch(`${rootUrl}discovery`, {\r\n",
       "                    method: 'POST',\r\n",
       "                    cache: 'no-cache',\r\n",
       "                    mode: 'cors',\r\n",
       "                    timeout: 1000,\r\n",
       "                    headers: {\r\n",
       "                        'Content-Type': 'text/plain'\r\n",
       "                    },\r\n",
       "                    body: probingAddresses[i]\r\n",
       "                }));\r\n",
       "\r\n",
       "                if (response.status == 200) {\r\n",
       "                    return rootUrl;\r\n",
       "                }\r\n",
       "            }\r\n",
       "            catch (e) { }\r\n",
       "        }\r\n",
       "    }\r\n",
       "}\r\n",
       "\r\n",
       "function loadDotnetInteractiveApi() {\r\n",
       "    probeAddresses([\"http://172.19.0.2:1007/\", \"http://127.0.0.1:1007/\"])\r\n",
       "        .then((root) => {\r\n",
       "        // use probing to find host url and api resources\r\n",
       "        // load interactive helpers and language services\r\n",
       "        let dotnetInteractiveRequire = require.config({\r\n",
       "        context: '5771.Microsoft.DotNet.Interactive.Http.HttpPort',\r\n",
       "                paths:\r\n",
       "            {\r\n",
       "                'dotnet-interactive': `${root}resources`\r\n",
       "                }\r\n",
       "        }) || require;\r\n",
       "\r\n",
       "            window.dotnetInteractiveRequire = dotnetInteractiveRequire;\r\n",
       "\r\n",
       "            window.configureRequireFromExtension = function(extensionName, extensionCacheBuster) {\r\n",
       "                let paths = {};\r\n",
       "                paths[extensionName] = `${root}extensions/${extensionName}/resources/`;\r\n",
       "                \r\n",
       "                let internalRequire = require.config({\r\n",
       "                    context: extensionCacheBuster,\r\n",
       "                    paths: paths,\r\n",
       "                    urlArgs: `cacheBuster=${extensionCacheBuster}`\r\n",
       "                    }) || require;\r\n",
       "\r\n",
       "                return internalRequire\r\n",
       "            };\r\n",
       "        \r\n",
       "            dotnetInteractiveRequire([\r\n",
       "                    'dotnet-interactive/dotnet-interactive'\r\n",
       "                ],\r\n",
       "                function (dotnet) {\r\n",
       "                    dotnet.init(window);\r\n",
       "                },\r\n",
       "                function (error) {\r\n",
       "                    console.log(error);\r\n",
       "                }\r\n",
       "            );\r\n",
       "        })\r\n",
       "        .catch(error => {console.log(error);});\r\n",
       "    }\r\n",
       "\r\n",
       "// ensure `require` is available globally\r\n",
       "if ((typeof(require) !==  typeof(Function)) || (typeof(require.config) !== typeof(Function))) {\r\n",
       "    let require_script = document.createElement('script');\r\n",
       "    require_script.setAttribute('src', 'https://cdnjs.cloudflare.com/ajax/libs/require.js/2.3.6/require.min.js');\r\n",
       "    require_script.setAttribute('type', 'text/javascript');\r\n",
       "    \r\n",
       "    \r\n",
       "    require_script.onload = function() {\r\n",
       "        loadDotnetInteractiveApi();\r\n",
       "    };\r\n",
       "\r\n",
       "    document.getElementsByTagName('head')[0].appendChild(require_script);\r\n",
       "}\r\n",
       "else {\r\n",
       "    loadDotnetInteractiveApi();\r\n",
       "}\r\n",
       "\r\n",
       "    </script>\r\n",
       "</div>"
      ]
     },
     "metadata": {},
     "output_type": "display_data"
    },
    {
     "data": {
      "text/html": [
       "<table><tbody><tr><td><img src=\"data:image/png;base64, iVBORw0KGgoAAAANSUhEUgAAAcgAAAHICAYAAADKoXrqAAAACXBIWXMAAAsTAAALEwEAmpwYAAAAAXNSR0IArs4c6QAAAARnQU1BAACxjwv8YQUAAA5XSURBVHgB7d1frNd1HcfxjyYNwUOUcUbiBaxWbHQbXoNb3dCwrcFNXhyuGmk3XcBWeWG2xUVXFnkFW3rD5pYuvHETug1ucVM3B6vB6DjSYJjhkn6fn2GkrwPn/M7n+/v7eGxMN5nTo5wn38/v+35/7vnejnM3CwBwu5v3FgDgMwQSAAKBBIBAIAEgEEgACAQSAAKBBIBAIAEgEEgACAQSAAKBBIBAIAEgEEgACAQSAAKBBIBAIAEgEEgACAQSAAKBBIBAIAEgEEgACAQSAAKBBIBAIAEgEEgACAQSAAKBBIBAIAEgEEgACAQSAAKBBIBAIAEgEEgACAQSAAKBBIBAIAEgEEgACAQSAAKBBIBAIAEgEEgACAQSAAKBBIBAIAEgEEgACAQSAAKBBIBAIAEgEEgACAQSAAKBBIBAIAEgEEgACAQSAAKBBIBAIAEgEEgACAQSAAKBBIBAIAEgEEgACAQSAAKBBIBAIAEgEEgACAQSAAKBBIBAIAEgEEgACAQSAAKBBIBAIAEgEEgACAQSAAKBBIBAIAEgEEgACAQSAAKBBIBAIAEgEEgACAQSAAKBBIBAIAEgEEgACAQSAAKBBIBAIAEgEEgACAQSAAKBBIBAIAEgEEgACAQSAAKBBIBAIAEgEEgACAQSAAKBBIBAIAEgEEgACAQSAAKBBIBAIAEgEEgACAQSAAKBBIBAIAEgEEgACAQSAAKBBIBAIAEgEEgACAQSAAKBBIBAIAEgEEgACAQSAAKBBIBAIAEgEEgACAQSAAKBBIBAIAEgEEgACAQSAAKBBIBAIAEgEEgACAQSAAKBBIBAIAEgEEgACAQSAAKBBIBAIAEgEEgACAQSAAKBBIBAIAEgEEgACAQSAAKBBIBAIAEgEEgACAQSAAKBBIBAIAEgEEgACAQSAAKBBIBAIAEgEEgACAQSAAKBBIBAIAEgEEgACAQSAAKBBIBAIAEgEEgACAQSAAKBBIBAIAEgEEgACAQSAAKBBIBAIAEgEEgACAQSAIL7ChPtuVe/XuYfWlNaO3f2enlq4UKZZju+tb784vjW0sIPv/1WWbz0YenS/oObej/my6xZvPhh+eF33rrrz+vq18IsO/2Hd8uzP79UZpUnSKJv9uKx5/EvFYBZJZAsqT6t+B05MKsEkiWtn/tcWTi8uQDMIoHkjh7ZvaF33LquAMwageSunnjm4f7TJMAsEUjuan7LmrLv4KYCMEsEkmX57uMPOmoFZopAsmz7ZnAGD5hdAsmymY0EZolAsiJmI4FZIZCsSH2b9YlfbikA004gWbF61Lpz91wBmGYCyUAOHPqK2UhgqgkkAzEbCUw7gWRgZiOBaeY+SFZloXfU+pPvv12YLNev/bucf+ODMgneuXhjWT/vQu/fZ3GZP7cr27avbfbRw+KlG/27MEfp/Jv/KrNMIFmV+g2hzkaefP7vhclR4zhtF2L/6sd/KaP29PGt/ZfYWjj90nvlxNF3CqPjiJVVMxsJTCOBZNXMRgLTSCBpwmwkMG0Ekmae7D1Fmo0EpoVA0kyNo9lIYFoIJE2ZjQSmhUDSd+7s9dJKnY0EmHQCSd/xI5dLK3U2cr+jVmDCCSR9mx5aU868dq20sqd31Go2EphkAklffcHmjy9cKa2YjQQmnUDSt37DveX13ueQLT+LrLORu/ZuLACTSCDpuzW/+JufXSwtHTi82WwkMJEEkv9Tbw9ouXjcbCQwqQSSvnW3PeWdOLrYv2qnFbORwCQSSPoemPvf/wr1rsBnf3qptPTEMw87agUmikAS1Rd2zpy6WlqZ37Kmf28kwKQQSJZ07Mjl/tNkK2YjgUkikCypvrBz4rftbjQ3GwlMEoHkjk6+cKX5bKSjVmASCCR31Xo2cv/BeS/sAGNPILmr/lHr0bZHrQuHNheAcSaQLMvJ5680nY3c/dhGs5HAWBNIlsVsJDBrBJJlq7ORLdfQmY0ExplAsiJ1DV3L2cj6wo7ZSGAcCSQr0slRq9lIYAwJJCtWV9CZjQSmnUAykDob2fqo1Qs7wDgRSAbSzRq6hwrAuBBIBtZ6Dd0juzeYjQTGhkCyKsePXC4tmY0ExoVAsirn3/jAbCQwle4rsEp1NnLnow+U+Yc+X1qoL+z8+dS1cqEXX7qxbfva8vTxrWVcnX7pvXL65fcKjJJAsmq3ZiN/0fAb7oFDm8tTCxcK3ajH2HW8Zly93vCzbRiUI1aaqN/Q6u/6WzEbCYyaQNLMsSOXraEDpoZA0kyNY+vZyIXD7o0ERkMgacpsJDAtBJLmWq+hMxsJjIJA0lxdQ9d6NnLfwU0FYJgEkk7U2cjzDecYv/v4g45agaESSDpzrPEaun0H5wvAsAgknamzkS2PWs1GAsMkkHSqHrUuXrpRWjEbCQyLQNKpW2voWvn43sgtBaBrAknn6lHrmVNXSyv1qHXn7rkC0CWBZCjqU2TL2cgDh75iNhLolEAyFK3X0JmNBLrmuiuGpq6h2/noXLNrlups5Nne0e25s+8XVqb+huX6tY/KuLp+dXz/2ZgdAslQ1TV0v37xq82ORxd6R60/+f7bhZWpSxzctwl35oiVoWq9hm7b9rVmI4FOCCRDZzYSmAQCyUiYjQTGnUAyEl2soTMbCbQkkIxM66PWJ3tPkWYjgVYEkpGpowbHfvW30kqNo9lIoBWBZKTO9OcYr5dW3BsJtCKQjFydjWy5hq7ORgKslkAycnU2suUaujobud9RK7BKAslYqGvoWh617ukdtZqNBFZDIBkbx49cLq2YjQRWSyAZG3U/6Imj7Y5a62zkrr0bC8AgBJKxcvL5K01nIw8c3mw2EhiIQDJW6tusrdfQmY0EBiGQjJ3Wa+jMRgKDEEjGUl1D13I28olnHv7MUev7V9v9/YHpI5CMpdZHrfNb1nzm3siWAQamj0AytlqvoTMbCayEQDLWWq6h+/Rs5PVrHxWApQgkY631Gro6G3nrqNURK3AnAsnYa72Gbv/B+U9e2BFJYCkCyURouWHn9tlIx6zAUgSSidDVbOTixXZbe4DpIpBMjDob2XIN3b7eUes7vc84ARKBZGK0no2sL+zs6P0ASASSiVKPWk+/9F5ppS4QAEgEkolz7Mhlb58CnRNIJk6NY8vZSIBEIJlIrWcjAT5NIJlYLdfQAXzafYUVWT93b9m194tlx851Zdv2+z9Zfl0Hzs+/8c/+arQ/vfxu7+nm/UK36te6zkbudyEy0AGBXKYaxnobxJ7Hv9z/8/TX69hA+VYpux/b+PEO0aOL5fTL7d645LPq13jn7rneb1bWFoCWHLEuQ31K/PWLX/vvDs/lfcnq+MCTv9xSFg5tLnSrvtUK0JonyLuocXz6+LaB5+XqSrP6dHPkx3/1eVlHbq2h+/SFyCxt/YbPTeTdmPXXkP25DItA3sFq43hLPXpdOLy5/OanFwvd6B+1PvpA77/Z5wt3t+0ba8tzr369TJr637nl4nq4E0esd1B3dbbatLJ770ZPOB1qvYYOQCCXUHd01pdtWrr9HkLaq0etZ05dLQAtCOQS9vzgwdJajeOux75Q6I41dEArArmERx6dK134ptsjOtUfr7GGDmhAIIMur0Da+o37C92yhg5oQSCDLj8ndL3ScNQ1dACrIZDB+g2+LJPu401GjlqBwSlBUL+5MvlOPn+lLF66UQAGIZDBOxe7+6Z6/s0PCsNhNhJYDYEMFi992P/RhXNnvDwyTLfW0AGslEAu4fRL3dzC8coLVwrDVdeTmY0EVkogl1A/v2r9TbVG1+ebw+eoFRiEQC6h9TfV+rLIid8tFkajrqAzGwmshEDeQf2m2mJUoMa2Xnfl6XG06myko1ZguQTyLlZ7vU59cnxq4UI5/4a3V0fNGjpgJdwHuQw1kosXb5T9P9q0ovsG6xuUz/aeWrp8cnzl91fKugaLDWYl4HUN3T29P65rvAxiGJf4njv7filHZ/uYvv81GGP1PYPXGx3lj/u/6yy453s7zt0sLNuuvRvLrsc2Lrl0vB7hnXntajn18j+a/UIBYOhuCuSA1s/dW7Zuv7+/t7WupqtPiXXBQFfzkwAM1U1HrAOqR2qeEAGml5d0ACAQSAAIBBIAAoEEgEAgASAQSAAIBBIAAoEEgEAgASAQSAAIBBIAAoEEgEAgASAQSAAIBBIAAoEEgEAgASAQSAAIBBIAAoEEgEAgASAQSAAIBBIAAoEEgEAgASAQSAAIBBIAAoEEgEAgASAQSAAIBBIAAoEEgEAgASAQSAAIBBIAAoEEgEAgASAQSAAIBBIAAoEEgEAgASAQSAAIBBIAAoEEgEAgASAQSAAIBBIAAoEEgEAgASAQSAAIBBIAAoEEgEAgASAQSAAIBBIAAoEEgEAgASAQSAAIBBIAAoEEgEAgASAQSAAIBBIAAoEEgEAgASAQSAAIBBIAAoEEgEAgASAQSAAIBBIAAoEEgEAgASAQSAAIBBIAAoEEgEAgASAQSAAIBBIAAoEEgEAgASAQSAAIBBIAAoEEgEAgASAQSAAIBBIAAoEEgEAgASAQSAAIBBIAAoEEgEAgASAQSAAIBBIAAoEEgEAgASAQSAAIBBIAAoEEgEAgASAQSAAIBBIAAoEEgEAgASAQSAAIBBIAAoEEgEAgASAQSAAIBBIAAoEEgEAgASAQSAAIBBIAAoEEgEAgASAQSAAIBBIAAoEEgEAgASAQSAAIBBIAAoEEgEAgASAQSAAIBBIAAoEEgEAgASAQSAAIBBIAAoEEgEAgASAQSAAIBBIAAoEEgEAgASAQSAAIBBIAAoEEgEAgASAQSAAIBBIAAoEEgEAgASAQSAAIBBIAAoEEgEAgASAQSAAIBBIAAoEEgEAgASAQSAAIBBIAAoEEgEAgASAQSAAIBBIAAoEEgEAgASAQSAAI7uv9uFkAgNvd/A8A1U9HVwv36gAAAABJRU5ErkJggg==\" width=\"125em\"></img></td><td style=\"line-height:.8em\"><p style=\"font-size:1.5em\"><b>.NET Interactive</b></p><p>&#169; 2020 Microsoft Corporation</p><p><b>Version: </b>1.0.207904+945c8e59098a9c4c60938304478775877ee8c89f</p><p><b>Build date: </b>2021-01-29T19:44:52.0000000Z</p><p><a href=\"https://github.com/dotnet/interactive\">https://github.com/dotnet/interactive</a></p></td></tr></tbody></table>"
      ]
     },
     "metadata": {},
     "output_type": "display_data"
    }
   ],
   "source": [
    "#!about"
   ]
  },
  {
   "cell_type": "code",
   "execution_count": 2,
   "metadata": {
    "dotnet_interactive": {
     "language": "csharp"
    }
   },
   "outputs": [
    {
     "data": {
      "text/plain": [
       "Installed package MathNet.Numerics version 4.15.0"
      ]
     },
     "metadata": {},
     "output_type": "display_data"
    },
    {
     "data": {
      "text/plain": [
       "Installed package CsvHelper version 19.0.0"
      ]
     },
     "metadata": {},
     "output_type": "display_data"
    }
   ],
   "source": [
    "// 必要なライブラリを nuget パッケージからインストールします。\n",
    "#r \"nuget:CsvHelper, 19.0.0\"\n",
    "#r \"nuget:MathNet.Numerics\""
   ]
  },
  {
   "cell_type": "code",
   "execution_count": 3,
   "metadata": {
    "dotnet_interactive": {
     "language": "csharp"
    }
   },
   "outputs": [],
   "source": [
    "// using 設定\n",
    "using System.Text.RegularExpressions;\n",
    "using CsvHelper.Configuration.Attributes;\n",
    "using MathNet.Numerics;\n",
    "\n",
    "using Microsoft.AspNetCore.Html;\n",
    "\n",
    "// 日付表示のキレイ化\n",
    "Formatter.Register<DateTime>((date, writer) => \n",
    "{\n",
    "    if (date.Hour == 0 && date.Minute == 0 && date.Second == 0) {\n",
    "        writer.Write(span(date.ToString(\"yyyy-MM-dd\")));\n",
    "    } else {\n",
    "        writer.Write(span(date.ToString(\"yyyy-MM-dd HH:mm:ss\")));\n",
    "    }\n",
    "}, \"text/html\");"
   ]
  },
  {
   "cell_type": "code",
   "execution_count": 4,
   "metadata": {
    "dotnet_interactive": {
     "language": "csharp"
    }
   },
   "outputs": [],
   "source": [
    "// データを CSV ファイルから取得する定義＆読み込み\n",
    "using CsvHelper.Configuration.Attributes;\n",
    "using System.IO;\n",
    "using System.Globalization;\n",
    "using CsvHelper;\n",
    "\n",
    "static List<T> LoadFromCsvFile<T>(string fileName) \n",
    "{\n",
    "    using (var reader = new StreamReader(fileName))\n",
    "    using (var csv = new CsvReader(reader, CultureInfo.InvariantCulture))\n",
    "    {\n",
    "        try {\n",
    "            csv.Configuration.HasHeaderRecord = true;\n",
    "            var records = csv.GetRecords<T>();\n",
    "            return records.ToList();\n",
    "        } catch(Exception exp) {\n",
    "            throw new Exception(\"file=\" + fileName, exp);\n",
    "        }\n",
    "    }\n",
    "}\n",
    "public class Category\n",
    "{\n",
    "    public string category_major_cd { get; set; }\n",
    "    public string category_major_name { get; set; }\n",
    "    public string category_medium_cd { get; set; }\n",
    "    public string category_medium_name { get; set; }\n",
    "    public string category_small_cd { get; set; }\n",
    "    public string category_small_name { get; set; }\n",
    "}\n",
    "\n",
    "public class Customer\n",
    "{\n",
    "    public string customer_id { get; set; }\n",
    "    public string customer_name { get; set; }\n",
    "    public string gender_cd { get; set; }\n",
    "    public string gender { get; set; }\n",
    "    public DateTime? birth_day { get; set; }\n",
    "    public int? age { get; set; }\n",
    "    public string postal_cd { get; set; }\n",
    "    public string address { get; set; }\n",
    "    public string application_store_cd { get; set; }\n",
    "    public string application_date { get; set; }\n",
    "    public string status_cd { get; set; }\n",
    "}\n",
    "\n",
    "public class Geocode\n",
    "{\n",
    "    public string postal_cd { get; set; }\n",
    "    public string prefecture { get; set; }\n",
    "    public string city { get; set; }\n",
    "    public string town { get; set; }\n",
    "    public string street { get; set; }\n",
    "    public string address { get; set; }\n",
    "    public string full_address { get; set; }\n",
    "    public decimal? longitude { get; set; }\n",
    "    [Name(\" latitude\")]\n",
    "    public decimal? latitude { get; set; }\n",
    "}\n",
    "// ※注：CSV ファイルの項目定義に合わせて \" latitude\" と修正\n",
    "\n",
    "public class Product\n",
    "{\n",
    "    public string product_cd { get; set; }\n",
    "    public string category_major_cd { get; set; }\n",
    "    public string category_medium_cd { get; set; }\n",
    "    public string category_small_cd { get; set; }\n",
    "    public int? unit_price { get; set; }\n",
    "    public int? unit_cost { get; set; }\n",
    "}\n",
    "\n",
    "public class Receipt\n",
    "{\n",
    "    public string sales_ymd { get; set; }\n",
    "    public int? sales_epoch { get; set; }\n",
    "    public string store_cd { get; set; }\n",
    "    public short receipt_no { get; set; }\n",
    "    public short receipt_sub_no { get; set; }\n",
    "    public string customer_id { get; set; }\n",
    "    public string product_cd { get; set; }\n",
    "    public int? quantity { get; set; }\n",
    "    public int? amount { get; set; }\n",
    "}\n",
    "\n",
    "public class Store\n",
    "{\n",
    "    public string store_cd { get; set; }\n",
    "    public string store_name { get; set; }\n",
    "    public string prefecture_cd { get; set; }\n",
    "    public string prefecture { get; set; }\n",
    "    public string address { get; set; }\n",
    "    public string address_kana { get; set; }\n",
    "    public string tel_no { get; set; }\n",
    "    public decimal ?longitude { get; set; }\n",
    "    public decimal ?latitude { get; set; }\n",
    "    public decimal ?floor_area { get; set; }\n",
    "}\n",
    "\n",
    "var df_customer = LoadFromCsvFile<Customer>(\"./customer.csv\");\n",
    "var df_category = LoadFromCsvFile<Category>(\"./category.csv\");\n",
    "var df_product = LoadFromCsvFile<Product>(\"./product.csv\");\n",
    "var df_receipt = LoadFromCsvFile<Receipt>(\"./receipt.csv\");\n",
    "var df_store = LoadFromCsvFile<Store>(\"./store.csv\");\n",
    "var df_geocode = LoadFromCsvFile<Geocode>(\"./geocode.csv\");"
   ]
  },
  {
   "cell_type": "markdown",
   "metadata": {},
   "source": [
    "# 演習問題"
   ]
  },
  {
   "cell_type": "markdown",
   "metadata": {},
   "source": [
    "---\n",
    "> P-001: レシート明細のデータフレーム（df_receipt）から全項目の先頭10件を表示し、どのようなデータを保有しているか目視で確認せよ。"
   ]
  },
  {
   "cell_type": "code",
   "execution_count": 5,
   "metadata": {
    "dotnet_interactive": {
     "language": "csharp"
    }
   },
   "outputs": [
    {
     "data": {
      "text/html": [
       "<table><thead><tr><th><i>index</i></th><th>sales_ymd</th><th>sales_epoch</th><th>store_cd</th><th>receipt_no</th><th>receipt_sub_no</th><th>customer_id</th><th>product_cd</th><th>quantity</th><th>amount</th></tr></thead><tbody><tr><td>0</td><td><div class=\"dni-plaintext\">20181103</div></td><td><div class=\"dni-plaintext\">1541203200</div></td><td><div class=\"dni-plaintext\">S14006</div></td><td><div class=\"dni-plaintext\">112</div></td><td><div class=\"dni-plaintext\">1</div></td><td><div class=\"dni-plaintext\">CS006214000001</div></td><td><div class=\"dni-plaintext\">P070305012</div></td><td><div class=\"dni-plaintext\">1</div></td><td><div class=\"dni-plaintext\">158</div></td></tr><tr><td>1</td><td><div class=\"dni-plaintext\">20181118</div></td><td><div class=\"dni-plaintext\">1542499200</div></td><td><div class=\"dni-plaintext\">S13008</div></td><td><div class=\"dni-plaintext\">1132</div></td><td><div class=\"dni-plaintext\">2</div></td><td><div class=\"dni-plaintext\">CS008415000097</div></td><td><div class=\"dni-plaintext\">P070701017</div></td><td><div class=\"dni-plaintext\">1</div></td><td><div class=\"dni-plaintext\">81</div></td></tr><tr><td>2</td><td><div class=\"dni-plaintext\">20170712</div></td><td><div class=\"dni-plaintext\">1499817600</div></td><td><div class=\"dni-plaintext\">S14028</div></td><td><div class=\"dni-plaintext\">1102</div></td><td><div class=\"dni-plaintext\">1</div></td><td><div class=\"dni-plaintext\">CS028414000014</div></td><td><div class=\"dni-plaintext\">P060101005</div></td><td><div class=\"dni-plaintext\">1</div></td><td><div class=\"dni-plaintext\">170</div></td></tr><tr><td>3</td><td><div class=\"dni-plaintext\">20190205</div></td><td><div class=\"dni-plaintext\">1549324800</div></td><td><div class=\"dni-plaintext\">S14042</div></td><td><div class=\"dni-plaintext\">1132</div></td><td><div class=\"dni-plaintext\">1</div></td><td><div class=\"dni-plaintext\">ZZ000000000000</div></td><td><div class=\"dni-plaintext\">P050301001</div></td><td><div class=\"dni-plaintext\">1</div></td><td><div class=\"dni-plaintext\">25</div></td></tr><tr><td>4</td><td><div class=\"dni-plaintext\">20180821</div></td><td><div class=\"dni-plaintext\">1534809600</div></td><td><div class=\"dni-plaintext\">S14025</div></td><td><div class=\"dni-plaintext\">1102</div></td><td><div class=\"dni-plaintext\">2</div></td><td><div class=\"dni-plaintext\">CS025415000050</div></td><td><div class=\"dni-plaintext\">P060102007</div></td><td><div class=\"dni-plaintext\">1</div></td><td><div class=\"dni-plaintext\">90</div></td></tr><tr><td>5</td><td><div class=\"dni-plaintext\">20190605</div></td><td><div class=\"dni-plaintext\">1559692800</div></td><td><div class=\"dni-plaintext\">S13003</div></td><td><div class=\"dni-plaintext\">1112</div></td><td><div class=\"dni-plaintext\">1</div></td><td><div class=\"dni-plaintext\">CS003515000195</div></td><td><div class=\"dni-plaintext\">P050102002</div></td><td><div class=\"dni-plaintext\">1</div></td><td><div class=\"dni-plaintext\">138</div></td></tr><tr><td>6</td><td><div class=\"dni-plaintext\">20181205</div></td><td><div class=\"dni-plaintext\">1543968000</div></td><td><div class=\"dni-plaintext\">S14024</div></td><td><div class=\"dni-plaintext\">1102</div></td><td><div class=\"dni-plaintext\">2</div></td><td><div class=\"dni-plaintext\">CS024514000042</div></td><td><div class=\"dni-plaintext\">P080101005</div></td><td><div class=\"dni-plaintext\">1</div></td><td><div class=\"dni-plaintext\">30</div></td></tr><tr><td>7</td><td><div class=\"dni-plaintext\">20190922</div></td><td><div class=\"dni-plaintext\">1569110400</div></td><td><div class=\"dni-plaintext\">S14040</div></td><td><div class=\"dni-plaintext\">1102</div></td><td><div class=\"dni-plaintext\">1</div></td><td><div class=\"dni-plaintext\">CS040415000178</div></td><td><div class=\"dni-plaintext\">P070501004</div></td><td><div class=\"dni-plaintext\">1</div></td><td><div class=\"dni-plaintext\">128</div></td></tr><tr><td>8</td><td><div class=\"dni-plaintext\">20170504</div></td><td><div class=\"dni-plaintext\">1493856000</div></td><td><div class=\"dni-plaintext\">S13020</div></td><td><div class=\"dni-plaintext\">1112</div></td><td><div class=\"dni-plaintext\">2</div></td><td><div class=\"dni-plaintext\">ZZ000000000000</div></td><td><div class=\"dni-plaintext\">P071302010</div></td><td><div class=\"dni-plaintext\">1</div></td><td><div class=\"dni-plaintext\">770</div></td></tr><tr><td>9</td><td><div class=\"dni-plaintext\">20191010</div></td><td><div class=\"dni-plaintext\">1570665600</div></td><td><div class=\"dni-plaintext\">S14027</div></td><td><div class=\"dni-plaintext\">1102</div></td><td><div class=\"dni-plaintext\">1</div></td><td><div class=\"dni-plaintext\">CS027514000015</div></td><td><div class=\"dni-plaintext\">P071101003</div></td><td><div class=\"dni-plaintext\">1</div></td><td><div class=\"dni-plaintext\">680</div></td></tr></tbody></table>"
      ]
     },
     "execution_count": 5,
     "metadata": {},
     "output_type": "execute_result"
    }
   ],
   "source": [
    "df_receipt.Take(10)"
   ]
  },
  {
   "cell_type": "markdown",
   "metadata": {},
   "source": [
    "---\n",
    "> P-002: レシート明細のデータフレーム（df_receipt）から売上日（sales_ymd）、顧客ID（customer_id）、商品コード（product_cd）、売上金額（amount）の順に列を指定し、10件表示させよ。"
   ]
  },
  {
   "cell_type": "code",
   "execution_count": 6,
   "metadata": {
    "dotnet_interactive": {
     "language": "csharp"
    }
   },
   "outputs": [
    {
     "data": {
      "text/html": [
       "<table><thead><tr><th><i>index</i></th><th>sales_ymd</th><th>customer_id</th><th>product_cd</th><th>amount</th></tr></thead><tbody><tr><td>0</td><td><div class=\"dni-plaintext\">20181103</div></td><td><div class=\"dni-plaintext\">CS006214000001</div></td><td><div class=\"dni-plaintext\">P070305012</div></td><td><div class=\"dni-plaintext\">158</div></td></tr><tr><td>1</td><td><div class=\"dni-plaintext\">20181118</div></td><td><div class=\"dni-plaintext\">CS008415000097</div></td><td><div class=\"dni-plaintext\">P070701017</div></td><td><div class=\"dni-plaintext\">81</div></td></tr><tr><td>2</td><td><div class=\"dni-plaintext\">20170712</div></td><td><div class=\"dni-plaintext\">CS028414000014</div></td><td><div class=\"dni-plaintext\">P060101005</div></td><td><div class=\"dni-plaintext\">170</div></td></tr><tr><td>3</td><td><div class=\"dni-plaintext\">20190205</div></td><td><div class=\"dni-plaintext\">ZZ000000000000</div></td><td><div class=\"dni-plaintext\">P050301001</div></td><td><div class=\"dni-plaintext\">25</div></td></tr><tr><td>4</td><td><div class=\"dni-plaintext\">20180821</div></td><td><div class=\"dni-plaintext\">CS025415000050</div></td><td><div class=\"dni-plaintext\">P060102007</div></td><td><div class=\"dni-plaintext\">90</div></td></tr><tr><td>5</td><td><div class=\"dni-plaintext\">20190605</div></td><td><div class=\"dni-plaintext\">CS003515000195</div></td><td><div class=\"dni-plaintext\">P050102002</div></td><td><div class=\"dni-plaintext\">138</div></td></tr><tr><td>6</td><td><div class=\"dni-plaintext\">20181205</div></td><td><div class=\"dni-plaintext\">CS024514000042</div></td><td><div class=\"dni-plaintext\">P080101005</div></td><td><div class=\"dni-plaintext\">30</div></td></tr><tr><td>7</td><td><div class=\"dni-plaintext\">20190922</div></td><td><div class=\"dni-plaintext\">CS040415000178</div></td><td><div class=\"dni-plaintext\">P070501004</div></td><td><div class=\"dni-plaintext\">128</div></td></tr><tr><td>8</td><td><div class=\"dni-plaintext\">20170504</div></td><td><div class=\"dni-plaintext\">ZZ000000000000</div></td><td><div class=\"dni-plaintext\">P071302010</div></td><td><div class=\"dni-plaintext\">770</div></td></tr><tr><td>9</td><td><div class=\"dni-plaintext\">20191010</div></td><td><div class=\"dni-plaintext\">CS027514000015</div></td><td><div class=\"dni-plaintext\">P071101003</div></td><td><div class=\"dni-plaintext\">680</div></td></tr></tbody></table>"
      ]
     },
     "execution_count": 6,
     "metadata": {},
     "output_type": "execute_result"
    }
   ],
   "source": [
    "df_receipt.Select(r => new { r.sales_ymd, r.customer_id, r.product_cd, r.amount }).Take(10)"
   ]
  },
  {
   "cell_type": "markdown",
   "metadata": {},
   "source": [
    "---\n",
    "> P-003: レシート明細のデータフレーム（df_receipt）から売上日（sales_ymd）、顧客ID（customer_id）、商品コード（product_cd）、売上金額（amount）の順に列を指定し、10件表示させよ。ただし、sales_ymdはsales_dateに項目名を変更しながら抽出すること。"
   ]
  },
  {
   "cell_type": "code",
   "execution_count": 7,
   "metadata": {
    "dotnet_interactive": {
     "language": "csharp"
    }
   },
   "outputs": [
    {
     "data": {
      "text/html": [
       "<table><thead><tr><th><i>index</i></th><th>sales_date</th><th>customer_id</th><th>product_cd</th><th>amount</th></tr></thead><tbody><tr><td>0</td><td><div class=\"dni-plaintext\">20181103</div></td><td><div class=\"dni-plaintext\">CS006214000001</div></td><td><div class=\"dni-plaintext\">P070305012</div></td><td><div class=\"dni-plaintext\">158</div></td></tr><tr><td>1</td><td><div class=\"dni-plaintext\">20181118</div></td><td><div class=\"dni-plaintext\">CS008415000097</div></td><td><div class=\"dni-plaintext\">P070701017</div></td><td><div class=\"dni-plaintext\">81</div></td></tr><tr><td>2</td><td><div class=\"dni-plaintext\">20170712</div></td><td><div class=\"dni-plaintext\">CS028414000014</div></td><td><div class=\"dni-plaintext\">P060101005</div></td><td><div class=\"dni-plaintext\">170</div></td></tr><tr><td>3</td><td><div class=\"dni-plaintext\">20190205</div></td><td><div class=\"dni-plaintext\">ZZ000000000000</div></td><td><div class=\"dni-plaintext\">P050301001</div></td><td><div class=\"dni-plaintext\">25</div></td></tr><tr><td>4</td><td><div class=\"dni-plaintext\">20180821</div></td><td><div class=\"dni-plaintext\">CS025415000050</div></td><td><div class=\"dni-plaintext\">P060102007</div></td><td><div class=\"dni-plaintext\">90</div></td></tr><tr><td>5</td><td><div class=\"dni-plaintext\">20190605</div></td><td><div class=\"dni-plaintext\">CS003515000195</div></td><td><div class=\"dni-plaintext\">P050102002</div></td><td><div class=\"dni-plaintext\">138</div></td></tr><tr><td>6</td><td><div class=\"dni-plaintext\">20181205</div></td><td><div class=\"dni-plaintext\">CS024514000042</div></td><td><div class=\"dni-plaintext\">P080101005</div></td><td><div class=\"dni-plaintext\">30</div></td></tr><tr><td>7</td><td><div class=\"dni-plaintext\">20190922</div></td><td><div class=\"dni-plaintext\">CS040415000178</div></td><td><div class=\"dni-plaintext\">P070501004</div></td><td><div class=\"dni-plaintext\">128</div></td></tr><tr><td>8</td><td><div class=\"dni-plaintext\">20170504</div></td><td><div class=\"dni-plaintext\">ZZ000000000000</div></td><td><div class=\"dni-plaintext\">P071302010</div></td><td><div class=\"dni-plaintext\">770</div></td></tr><tr><td>9</td><td><div class=\"dni-plaintext\">20191010</div></td><td><div class=\"dni-plaintext\">CS027514000015</div></td><td><div class=\"dni-plaintext\">P071101003</div></td><td><div class=\"dni-plaintext\">680</div></td></tr></tbody></table>"
      ]
     },
     "execution_count": 7,
     "metadata": {},
     "output_type": "execute_result"
    }
   ],
   "source": [
    "df_receipt.Select(r => new {\n",
    "    sales_date = r.sales_ymd,\n",
    "    r.customer_id,\n",
    "    r.product_cd, \n",
    "    r.amount\n",
    "}).Take(10)"
   ]
  },
  {
   "cell_type": "markdown",
   "metadata": {},
   "source": [
    "---\n",
    "> P-004: レシート明細のデータフレーム（df_receipt）から売上日（sales_ymd）、顧客ID（customer_id）、商品コード（product_cd）、売上金額（amount）の順に列を指定し、以下の条件を満たすデータを抽出せよ。\n",
    "> - 顧客ID（customer_id）が\"CS018205000001\""
   ]
  },
  {
   "cell_type": "code",
   "execution_count": 8,
   "metadata": {
    "dotnet_interactive": {
     "language": "csharp"
    }
   },
   "outputs": [
    {
     "data": {
      "text/html": [
       "<table><thead><tr><th><i>index</i></th><th>sales_ymd</th><th>customer_id</th><th>product_cd</th><th>amount</th></tr></thead><tbody><tr><td>0</td><td><div class=\"dni-plaintext\">20180911</div></td><td><div class=\"dni-plaintext\">CS018205000001</div></td><td><div class=\"dni-plaintext\">P071401012</div></td><td><div class=\"dni-plaintext\">2200</div></td></tr><tr><td>1</td><td><div class=\"dni-plaintext\">20180414</div></td><td><div class=\"dni-plaintext\">CS018205000001</div></td><td><div class=\"dni-plaintext\">P060104007</div></td><td><div class=\"dni-plaintext\">600</div></td></tr><tr><td>2</td><td><div class=\"dni-plaintext\">20170614</div></td><td><div class=\"dni-plaintext\">CS018205000001</div></td><td><div class=\"dni-plaintext\">P050206001</div></td><td><div class=\"dni-plaintext\">990</div></td></tr><tr><td>3</td><td><div class=\"dni-plaintext\">20170614</div></td><td><div class=\"dni-plaintext\">CS018205000001</div></td><td><div class=\"dni-plaintext\">P060702015</div></td><td><div class=\"dni-plaintext\">108</div></td></tr><tr><td>4</td><td><div class=\"dni-plaintext\">20190216</div></td><td><div class=\"dni-plaintext\">CS018205000001</div></td><td><div class=\"dni-plaintext\">P071005024</div></td><td><div class=\"dni-plaintext\">102</div></td></tr><tr><td>5</td><td><div class=\"dni-plaintext\">20180414</div></td><td><div class=\"dni-plaintext\">CS018205000001</div></td><td><div class=\"dni-plaintext\">P071101002</div></td><td><div class=\"dni-plaintext\">278</div></td></tr><tr><td>6</td><td><div class=\"dni-plaintext\">20190226</div></td><td><div class=\"dni-plaintext\">CS018205000001</div></td><td><div class=\"dni-plaintext\">P070902035</div></td><td><div class=\"dni-plaintext\">168</div></td></tr><tr><td>7</td><td><div class=\"dni-plaintext\">20190924</div></td><td><div class=\"dni-plaintext\">CS018205000001</div></td><td><div class=\"dni-plaintext\">P060805001</div></td><td><div class=\"dni-plaintext\">495</div></td></tr><tr><td>8</td><td><div class=\"dni-plaintext\">20190226</div></td><td><div class=\"dni-plaintext\">CS018205000001</div></td><td><div class=\"dni-plaintext\">P071401020</div></td><td><div class=\"dni-plaintext\">2200</div></td></tr><tr><td>9</td><td><div class=\"dni-plaintext\">20180911</div></td><td><div class=\"dni-plaintext\">CS018205000001</div></td><td><div class=\"dni-plaintext\">P071401005</div></td><td><div class=\"dni-plaintext\">1100</div></td></tr><tr><td>10</td><td><div class=\"dni-plaintext\">20190216</div></td><td><div class=\"dni-plaintext\">CS018205000001</div></td><td><div class=\"dni-plaintext\">P040101002</div></td><td><div class=\"dni-plaintext\">218</div></td></tr><tr><td>11</td><td><div class=\"dni-plaintext\">20190924</div></td><td><div class=\"dni-plaintext\">CS018205000001</div></td><td><div class=\"dni-plaintext\">P091503001</div></td><td><div class=\"dni-plaintext\">280</div></td></tr></tbody></table>"
      ]
     },
     "execution_count": 8,
     "metadata": {},
     "output_type": "execute_result"
    }
   ],
   "source": [
    "df_receipt.Select(r => new {r.sales_ymd, r.customer_id, r.product_cd, r.amount})\n",
    "    .Where(r => r.customer_id == \"CS018205000001\")    "
   ]
  },
  {
   "cell_type": "markdown",
   "metadata": {},
   "source": [
    "---\n",
    "> P-005: レシート明細のデータフレーム（df_receipt）から売上日（sales_ymd）、顧客ID（customer_id）、商品コード（product_cd）、売上金額（amount）の順に列を指定し、以下の条件を満たすデータを抽出せよ。\n",
    "> - 顧客ID（customer_id）が\"CS018205000001\"\n",
    "> - 売上金額（amount）が1,000以上"
   ]
  },
  {
   "cell_type": "code",
   "execution_count": 9,
   "metadata": {
    "dotnet_interactive": {
     "language": "csharp"
    }
   },
   "outputs": [
    {
     "data": {
      "text/html": [
       "<table><thead><tr><th><i>index</i></th><th>sales_ymd</th><th>customer_id</th><th>product_cd</th><th>amount</th></tr></thead><tbody><tr><td>0</td><td><div class=\"dni-plaintext\">20180911</div></td><td><div class=\"dni-plaintext\">CS018205000001</div></td><td><div class=\"dni-plaintext\">P071401012</div></td><td><div class=\"dni-plaintext\">2200</div></td></tr><tr><td>1</td><td><div class=\"dni-plaintext\">20190226</div></td><td><div class=\"dni-plaintext\">CS018205000001</div></td><td><div class=\"dni-plaintext\">P071401020</div></td><td><div class=\"dni-plaintext\">2200</div></td></tr><tr><td>2</td><td><div class=\"dni-plaintext\">20180911</div></td><td><div class=\"dni-plaintext\">CS018205000001</div></td><td><div class=\"dni-plaintext\">P071401005</div></td><td><div class=\"dni-plaintext\">1100</div></td></tr></tbody></table>"
      ]
     },
     "execution_count": 9,
     "metadata": {},
     "output_type": "execute_result"
    }
   ],
   "source": [
    "df_receipt.Select(r => new {r.sales_ymd, r.customer_id, r.product_cd, r.amount})\n",
    "    .Where(r => r.customer_id == \"CS018205000001\" && r.amount >= 1000)"
   ]
  },
  {
   "cell_type": "markdown",
   "metadata": {},
   "source": [
    "---\n",
    "> P-006: レシート明細データフレーム「df_receipt」から売上日（sales_ymd）、顧客ID（customer_id）、商品コード（product_cd）、売上数量（quantity）、売上金額（amount）の順に列を指定し、以下の条件を満たすデータを抽出せよ。\n",
    "> - 顧客ID（customer_id）が\"CS018205000001\"\n",
    "> - 売上金額（amount）が1,000以上または売上数量（quantity）が5以上"
   ]
  },
  {
   "cell_type": "code",
   "execution_count": 10,
   "metadata": {
    "dotnet_interactive": {
     "language": "csharp"
    }
   },
   "outputs": [
    {
     "data": {
      "text/html": [
       "<table><thead><tr><th><i>index</i></th><th>sales_ymd</th><th>customer_id</th><th>product_cd</th><th>amount</th><th>quantity</th></tr></thead><tbody><tr><td>0</td><td><div class=\"dni-plaintext\">20180911</div></td><td><div class=\"dni-plaintext\">CS018205000001</div></td><td><div class=\"dni-plaintext\">P071401012</div></td><td><div class=\"dni-plaintext\">2200</div></td><td><div class=\"dni-plaintext\">1</div></td></tr><tr><td>1</td><td><div class=\"dni-plaintext\">20180414</div></td><td><div class=\"dni-plaintext\">CS018205000001</div></td><td><div class=\"dni-plaintext\">P060104007</div></td><td><div class=\"dni-plaintext\">600</div></td><td><div class=\"dni-plaintext\">6</div></td></tr><tr><td>2</td><td><div class=\"dni-plaintext\">20170614</div></td><td><div class=\"dni-plaintext\">CS018205000001</div></td><td><div class=\"dni-plaintext\">P050206001</div></td><td><div class=\"dni-plaintext\">990</div></td><td><div class=\"dni-plaintext\">5</div></td></tr><tr><td>3</td><td><div class=\"dni-plaintext\">20190226</div></td><td><div class=\"dni-plaintext\">CS018205000001</div></td><td><div class=\"dni-plaintext\">P071401020</div></td><td><div class=\"dni-plaintext\">2200</div></td><td><div class=\"dni-plaintext\">1</div></td></tr><tr><td>4</td><td><div class=\"dni-plaintext\">20180911</div></td><td><div class=\"dni-plaintext\">CS018205000001</div></td><td><div class=\"dni-plaintext\">P071401005</div></td><td><div class=\"dni-plaintext\">1100</div></td><td><div class=\"dni-plaintext\">1</div></td></tr></tbody></table>"
      ]
     },
     "execution_count": 10,
     "metadata": {},
     "output_type": "execute_result"
    }
   ],
   "source": [
    "df_receipt.Select(r => new {r.sales_ymd, r.customer_id, r.product_cd, r.amount, r.quantity})\n",
    "    .Where(r => r.customer_id == \"CS018205000001\" && (r.amount >= 1000 || r.quantity >= 5))"
   ]
  },
  {
   "cell_type": "markdown",
   "metadata": {},
   "source": [
    "---\n",
    "> P-007: レシート明細のデータフレーム（df_receipt）から売上日（sales_ymd）、顧客ID（customer_id）、商品コード（product_cd）、売上金額（amount）の順に列を指定し、以下の条件を満たすデータを抽出せよ。\n",
    "> - 顧客ID（customer_id）が\"CS018205000001\"\n",
    "> - 売上金額（amount）が1,000以上2,000以下"
   ]
  },
  {
   "cell_type": "code",
   "execution_count": 11,
   "metadata": {
    "dotnet_interactive": {
     "language": "csharp"
    }
   },
   "outputs": [
    {
     "data": {
      "text/html": [
       "<table><thead><tr><th><i>index</i></th><th>sales_ymd</th><th>customer_id</th><th>product_cd</th><th>amount</th></tr></thead><tbody><tr><td>0</td><td><div class=\"dni-plaintext\">20180911</div></td><td><div class=\"dni-plaintext\">CS018205000001</div></td><td><div class=\"dni-plaintext\">P071401005</div></td><td><div class=\"dni-plaintext\">1100</div></td></tr></tbody></table>"
      ]
     },
     "execution_count": 11,
     "metadata": {},
     "output_type": "execute_result"
    }
   ],
   "source": [
    "df_receipt.Select(r => new {r.sales_ymd, r.customer_id, r.product_cd, r.amount})\n",
    "    .Where(r => r.customer_id == \"CS018205000001\" && (1000 <= r.amount && r.amount <= 2000))"
   ]
  },
  {
   "cell_type": "markdown",
   "metadata": {},
   "source": [
    "---\n",
    "> P-008: レシート明細のデータフレーム（df_receipt）から売上日（sales_ymd）、顧客ID（customer_id）、商品コード（product_cd）、売上金額（amount）の順に列を指定し、以下の条件を満たすデータを抽出せよ。\n",
    "> - 顧客ID（customer_id）が\"CS018205000001\"\n",
    "> - 商品コード（product_cd）が\"P071401019\"以外"
   ]
  },
  {
   "cell_type": "code",
   "execution_count": 12,
   "metadata": {
    "dotnet_interactive": {
     "language": "csharp"
    }
   },
   "outputs": [
    {
     "data": {
      "text/html": [
       "<table><thead><tr><th><i>index</i></th><th>sales_ymd</th><th>customer_id</th><th>product_cd</th><th>amount</th></tr></thead><tbody><tr><td>0</td><td><div class=\"dni-plaintext\">20180911</div></td><td><div class=\"dni-plaintext\">CS018205000001</div></td><td><div class=\"dni-plaintext\">P071401012</div></td><td><div class=\"dni-plaintext\">2200</div></td></tr><tr><td>1</td><td><div class=\"dni-plaintext\">20180414</div></td><td><div class=\"dni-plaintext\">CS018205000001</div></td><td><div class=\"dni-plaintext\">P060104007</div></td><td><div class=\"dni-plaintext\">600</div></td></tr><tr><td>2</td><td><div class=\"dni-plaintext\">20170614</div></td><td><div class=\"dni-plaintext\">CS018205000001</div></td><td><div class=\"dni-plaintext\">P050206001</div></td><td><div class=\"dni-plaintext\">990</div></td></tr><tr><td>3</td><td><div class=\"dni-plaintext\">20170614</div></td><td><div class=\"dni-plaintext\">CS018205000001</div></td><td><div class=\"dni-plaintext\">P060702015</div></td><td><div class=\"dni-plaintext\">108</div></td></tr><tr><td>4</td><td><div class=\"dni-plaintext\">20190216</div></td><td><div class=\"dni-plaintext\">CS018205000001</div></td><td><div class=\"dni-plaintext\">P071005024</div></td><td><div class=\"dni-plaintext\">102</div></td></tr><tr><td>5</td><td><div class=\"dni-plaintext\">20180414</div></td><td><div class=\"dni-plaintext\">CS018205000001</div></td><td><div class=\"dni-plaintext\">P071101002</div></td><td><div class=\"dni-plaintext\">278</div></td></tr><tr><td>6</td><td><div class=\"dni-plaintext\">20190226</div></td><td><div class=\"dni-plaintext\">CS018205000001</div></td><td><div class=\"dni-plaintext\">P070902035</div></td><td><div class=\"dni-plaintext\">168</div></td></tr><tr><td>7</td><td><div class=\"dni-plaintext\">20190924</div></td><td><div class=\"dni-plaintext\">CS018205000001</div></td><td><div class=\"dni-plaintext\">P060805001</div></td><td><div class=\"dni-plaintext\">495</div></td></tr><tr><td>8</td><td><div class=\"dni-plaintext\">20190226</div></td><td><div class=\"dni-plaintext\">CS018205000001</div></td><td><div class=\"dni-plaintext\">P071401020</div></td><td><div class=\"dni-plaintext\">2200</div></td></tr><tr><td>9</td><td><div class=\"dni-plaintext\">20180911</div></td><td><div class=\"dni-plaintext\">CS018205000001</div></td><td><div class=\"dni-plaintext\">P071401005</div></td><td><div class=\"dni-plaintext\">1100</div></td></tr><tr><td>10</td><td><div class=\"dni-plaintext\">20190216</div></td><td><div class=\"dni-plaintext\">CS018205000001</div></td><td><div class=\"dni-plaintext\">P040101002</div></td><td><div class=\"dni-plaintext\">218</div></td></tr><tr><td>11</td><td><div class=\"dni-plaintext\">20190924</div></td><td><div class=\"dni-plaintext\">CS018205000001</div></td><td><div class=\"dni-plaintext\">P091503001</div></td><td><div class=\"dni-plaintext\">280</div></td></tr></tbody></table>"
      ]
     },
     "execution_count": 12,
     "metadata": {},
     "output_type": "execute_result"
    }
   ],
   "source": [
    "df_receipt.Select(r => new {r.sales_ymd, r.customer_id, r.product_cd, r.amount})\n",
    "    .Where(r => r.customer_id == \"CS018205000001\" && r.product_cd != \"P071401019\")"
   ]
  },
  {
   "cell_type": "markdown",
   "metadata": {},
   "source": [
    "---\n",
    "> P-009: 以下の処理において、出力結果を変えずにORをANDに書き換えよ。\n",
    "\n",
    "`df_store.Where( r => !(r.prefecture_cd == \"13\" || r.floor_area > 900))`"
   ]
  },
  {
   "cell_type": "code",
   "execution_count": 13,
   "metadata": {
    "dotnet_interactive": {
     "language": "csharp"
    }
   },
   "outputs": [
    {
     "data": {
      "text/html": [
       "<table><thead><tr><th><i>index</i></th><th>store_cd</th><th>store_name</th><th>prefecture_cd</th><th>prefecture</th><th>address</th><th>address_kana</th><th>tel_no</th><th>longitude</th><th>latitude</th><th>floor_area</th></tr></thead><tbody><tr><td>0</td><td><div class=\"dni-plaintext\">S14046</div></td><td><div class=\"dni-plaintext\">北山田店</div></td><td><div class=\"dni-plaintext\">14</div></td><td><div class=\"dni-plaintext\">神奈川県</div></td><td><div class=\"dni-plaintext\">神奈川県横浜市都筑区北山田一丁目</div></td><td><div class=\"dni-plaintext\">カナガワケンヨコハマシツヅキクキタヤマタイッチョウメ</div></td><td><div class=\"dni-plaintext\">045-123-4049</div></td><td><div class=\"dni-plaintext\">139.5916</div></td><td><div class=\"dni-plaintext\">35.56189</div></td><td><div class=\"dni-plaintext\">831.0</div></td></tr><tr><td>1</td><td><div class=\"dni-plaintext\">S14011</div></td><td><div class=\"dni-plaintext\">日吉本町店</div></td><td><div class=\"dni-plaintext\">14</div></td><td><div class=\"dni-plaintext\">神奈川県</div></td><td><div class=\"dni-plaintext\">神奈川県横浜市港北区日吉本町四丁目</div></td><td><div class=\"dni-plaintext\">カナガワケンヨコハマシコウホククヒヨシホンチョウヨンチョウメ</div></td><td><div class=\"dni-plaintext\">045-123-4033</div></td><td><div class=\"dni-plaintext\">139.6316</div></td><td><div class=\"dni-plaintext\">35.54655</div></td><td><div class=\"dni-plaintext\">890.0</div></td></tr><tr><td>2</td><td><div class=\"dni-plaintext\">S12013</div></td><td><div class=\"dni-plaintext\">習志野店</div></td><td><div class=\"dni-plaintext\">12</div></td><td><div class=\"dni-plaintext\">千葉県</div></td><td><div class=\"dni-plaintext\">千葉県習志野市芝園一丁目</div></td><td><div class=\"dni-plaintext\">チバケンナラシノシシバゾノイッチョウメ</div></td><td><div class=\"dni-plaintext\">047-123-4002</div></td><td><div class=\"dni-plaintext\">140.022</div></td><td><div class=\"dni-plaintext\">35.66122</div></td><td><div class=\"dni-plaintext\">808.0</div></td></tr></tbody></table>"
      ]
     },
     "execution_count": 13,
     "metadata": {},
     "output_type": "execute_result"
    }
   ],
   "source": [
    "df_store.Where( r => r.prefecture_cd != \"13\" && r.floor_area <= 900)"
   ]
  },
  {
   "cell_type": "markdown",
   "metadata": {},
   "source": [
    "---\n",
    "> P-010: 店舗データフレーム（df_store）から、店舗コード（store_cd）が\"S14\"で始まるものだけ全項目抽出し、10件だけ表示せよ。"
   ]
  },
  {
   "cell_type": "code",
   "execution_count": 14,
   "metadata": {
    "dotnet_interactive": {
     "language": "csharp"
    }
   },
   "outputs": [
    {
     "data": {
      "text/html": [
       "<table><thead><tr><th><i>index</i></th><th>store_cd</th><th>store_name</th><th>prefecture_cd</th><th>prefecture</th><th>address</th><th>address_kana</th><th>tel_no</th><th>longitude</th><th>latitude</th><th>floor_area</th></tr></thead><tbody><tr><td>0</td><td><div class=\"dni-plaintext\">S14010</div></td><td><div class=\"dni-plaintext\">菊名店</div></td><td><div class=\"dni-plaintext\">14</div></td><td><div class=\"dni-plaintext\">神奈川県</div></td><td><div class=\"dni-plaintext\">神奈川県横浜市港北区菊名一丁目</div></td><td><div class=\"dni-plaintext\">カナガワケンヨコハマシコウホククキクナイッチョウメ</div></td><td><div class=\"dni-plaintext\">045-123-4032</div></td><td><div class=\"dni-plaintext\">139.6326</div></td><td><div class=\"dni-plaintext\">35.50049</div></td><td><div class=\"dni-plaintext\">1732.0</div></td></tr><tr><td>1</td><td><div class=\"dni-plaintext\">S14033</div></td><td><div class=\"dni-plaintext\">阿久和店</div></td><td><div class=\"dni-plaintext\">14</div></td><td><div class=\"dni-plaintext\">神奈川県</div></td><td><div class=\"dni-plaintext\">神奈川県横浜市瀬谷区阿久和西一丁目</div></td><td><div class=\"dni-plaintext\">カナガワケンヨコハマシセヤクアクワニシイッチョウメ</div></td><td><div class=\"dni-plaintext\">045-123-4043</div></td><td><div class=\"dni-plaintext\">139.4961</div></td><td><div class=\"dni-plaintext\">35.45918</div></td><td><div class=\"dni-plaintext\">1495.0</div></td></tr><tr><td>2</td><td><div class=\"dni-plaintext\">S14036</div></td><td><div class=\"dni-plaintext\">相模原中央店</div></td><td><div class=\"dni-plaintext\">14</div></td><td><div class=\"dni-plaintext\">神奈川県</div></td><td><div class=\"dni-plaintext\">神奈川県相模原市中央二丁目</div></td><td><div class=\"dni-plaintext\">カナガワケンサガミハラシチュウオウニチョウメ</div></td><td><div class=\"dni-plaintext\">042-123-4045</div></td><td><div class=\"dni-plaintext\">139.3716</div></td><td><div class=\"dni-plaintext\">35.57327</div></td><td><div class=\"dni-plaintext\">1679.0</div></td></tr><tr><td>3</td><td><div class=\"dni-plaintext\">S14040</div></td><td><div class=\"dni-plaintext\">長津田店</div></td><td><div class=\"dni-plaintext\">14</div></td><td><div class=\"dni-plaintext\">神奈川県</div></td><td><div class=\"dni-plaintext\">神奈川県横浜市緑区長津田みなみ台五丁目</div></td><td><div class=\"dni-plaintext\">カナガワケンヨコハマシミドリクナガツタミナミダイゴチョウメ</div></td><td><div class=\"dni-plaintext\">045-123-4046</div></td><td><div class=\"dni-plaintext\">139.4994</div></td><td><div class=\"dni-plaintext\">35.52398</div></td><td><div class=\"dni-plaintext\">1548.0</div></td></tr><tr><td>4</td><td><div class=\"dni-plaintext\">S14050</div></td><td><div class=\"dni-plaintext\">阿久和西店</div></td><td><div class=\"dni-plaintext\">14</div></td><td><div class=\"dni-plaintext\">神奈川県</div></td><td><div class=\"dni-plaintext\">神奈川県横浜市瀬谷区阿久和西一丁目</div></td><td><div class=\"dni-plaintext\">カナガワケンヨコハマシセヤクアクワニシイッチョウメ</div></td><td><div class=\"dni-plaintext\">045-123-4053</div></td><td><div class=\"dni-plaintext\">139.4961</div></td><td><div class=\"dni-plaintext\">35.45918</div></td><td><div class=\"dni-plaintext\">1830.0</div></td></tr><tr><td>5</td><td><div class=\"dni-plaintext\">S14028</div></td><td><div class=\"dni-plaintext\">二ツ橋店</div></td><td><div class=\"dni-plaintext\">14</div></td><td><div class=\"dni-plaintext\">神奈川県</div></td><td><div class=\"dni-plaintext\">神奈川県横浜市瀬谷区二ツ橋町</div></td><td><div class=\"dni-plaintext\">カナガワケンヨコハマシセヤクフタツバシチョウ</div></td><td><div class=\"dni-plaintext\">045-123-4042</div></td><td><div class=\"dni-plaintext\">139.4963</div></td><td><div class=\"dni-plaintext\">35.46304</div></td><td><div class=\"dni-plaintext\">1574.0</div></td></tr><tr><td>6</td><td><div class=\"dni-plaintext\">S14012</div></td><td><div class=\"dni-plaintext\">本牧和田店</div></td><td><div class=\"dni-plaintext\">14</div></td><td><div class=\"dni-plaintext\">神奈川県</div></td><td><div class=\"dni-plaintext\">神奈川県横浜市中区本牧和田</div></td><td><div class=\"dni-plaintext\">カナガワケンヨコハマシナカクホンモクワダ</div></td><td><div class=\"dni-plaintext\">045-123-4034</div></td><td><div class=\"dni-plaintext\">139.6582</div></td><td><div class=\"dni-plaintext\">35.42156</div></td><td><div class=\"dni-plaintext\">1341.0</div></td></tr><tr><td>7</td><td><div class=\"dni-plaintext\">S14046</div></td><td><div class=\"dni-plaintext\">北山田店</div></td><td><div class=\"dni-plaintext\">14</div></td><td><div class=\"dni-plaintext\">神奈川県</div></td><td><div class=\"dni-plaintext\">神奈川県横浜市都筑区北山田一丁目</div></td><td><div class=\"dni-plaintext\">カナガワケンヨコハマシツヅキクキタヤマタイッチョウメ</div></td><td><div class=\"dni-plaintext\">045-123-4049</div></td><td><div class=\"dni-plaintext\">139.5916</div></td><td><div class=\"dni-plaintext\">35.56189</div></td><td><div class=\"dni-plaintext\">831.0</div></td></tr><tr><td>8</td><td><div class=\"dni-plaintext\">S14022</div></td><td><div class=\"dni-plaintext\">逗子店</div></td><td><div class=\"dni-plaintext\">14</div></td><td><div class=\"dni-plaintext\">神奈川県</div></td><td><div class=\"dni-plaintext\">神奈川県逗子市逗子一丁目</div></td><td><div class=\"dni-plaintext\">カナガワケンズシシズシイッチョウメ</div></td><td><div class=\"dni-plaintext\">046-123-4036</div></td><td><div class=\"dni-plaintext\">139.5789</div></td><td><div class=\"dni-plaintext\">35.29642</div></td><td><div class=\"dni-plaintext\">1838.0</div></td></tr><tr><td>9</td><td><div class=\"dni-plaintext\">S14011</div></td><td><div class=\"dni-plaintext\">日吉本町店</div></td><td><div class=\"dni-plaintext\">14</div></td><td><div class=\"dni-plaintext\">神奈川県</div></td><td><div class=\"dni-plaintext\">神奈川県横浜市港北区日吉本町四丁目</div></td><td><div class=\"dni-plaintext\">カナガワケンヨコハマシコウホククヒヨシホンチョウヨンチョウメ</div></td><td><div class=\"dni-plaintext\">045-123-4033</div></td><td><div class=\"dni-plaintext\">139.6316</div></td><td><div class=\"dni-plaintext\">35.54655</div></td><td><div class=\"dni-plaintext\">890.0</div></td></tr></tbody></table>"
      ]
     },
     "execution_count": 14,
     "metadata": {},
     "output_type": "execute_result"
    }
   ],
   "source": [
    "df_store.Where(r => r.store_cd.StartsWith(\"S14\")).Take(10)"
   ]
  },
  {
   "cell_type": "markdown",
   "metadata": {},
   "source": [
    "---\n",
    "> P-011: 顧客データフレーム（df_customer）から顧客ID（customer_id）の末尾が1のものだけ全項目抽出し、10件だけ表示せよ。"
   ]
  },
  {
   "cell_type": "code",
   "execution_count": 15,
   "metadata": {
    "dotnet_interactive": {
     "language": "csharp"
    }
   },
   "outputs": [
    {
     "data": {
      "text/html": [
       "<table><thead><tr><th><i>index</i></th><th>customer_id</th><th>customer_name</th><th>gender_cd</th><th>gender</th><th>birth_day</th><th>age</th><th>postal_cd</th><th>address</th><th>application_store_cd</th><th>application_date</th><th>status_cd</th></tr></thead><tbody><tr><td>0</td><td><div class=\"dni-plaintext\">CS037613000071</div></td><td><div class=\"dni-plaintext\">六角 雅彦</div></td><td><div class=\"dni-plaintext\">9</div></td><td><div class=\"dni-plaintext\">不明</div></td><td><span>1952-04-01</span></td><td><div class=\"dni-plaintext\">66</div></td><td><div class=\"dni-plaintext\">136-0076</div></td><td><div class=\"dni-plaintext\">東京都江東区南砂**********</div></td><td><div class=\"dni-plaintext\">S13037</div></td><td><div class=\"dni-plaintext\">20150414</div></td><td><div class=\"dni-plaintext\">0-00000000-0</div></td></tr><tr><td>1</td><td><div class=\"dni-plaintext\">CS028811000001</div></td><td><div class=\"dni-plaintext\">堀井 かおり</div></td><td><div class=\"dni-plaintext\">1</div></td><td><div class=\"dni-plaintext\">女性</div></td><td><span>1933-03-27</span></td><td><div class=\"dni-plaintext\">86</div></td><td><div class=\"dni-plaintext\">245-0016</div></td><td><div class=\"dni-plaintext\">神奈川県横浜市泉区和泉町**********</div></td><td><div class=\"dni-plaintext\">S14028</div></td><td><div class=\"dni-plaintext\">20160115</div></td><td><div class=\"dni-plaintext\">0-00000000-0</div></td></tr><tr><td>2</td><td><div class=\"dni-plaintext\">CS040412000191</div></td><td><div class=\"dni-plaintext\">川井 郁恵</div></td><td><div class=\"dni-plaintext\">1</div></td><td><div class=\"dni-plaintext\">女性</div></td><td><span>1977-01-05</span></td><td><div class=\"dni-plaintext\">42</div></td><td><div class=\"dni-plaintext\">226-0021</div></td><td><div class=\"dni-plaintext\">神奈川県横浜市緑区北八朔町**********</div></td><td><div class=\"dni-plaintext\">S14040</div></td><td><div class=\"dni-plaintext\">20151101</div></td><td><div class=\"dni-plaintext\">1-20091025-4</div></td></tr><tr><td>3</td><td><div class=\"dni-plaintext\">CS028314000011</div></td><td><div class=\"dni-plaintext\">小菅 あおい</div></td><td><div class=\"dni-plaintext\">1</div></td><td><div class=\"dni-plaintext\">女性</div></td><td><span>1983-11-26</span></td><td><div class=\"dni-plaintext\">35</div></td><td><div class=\"dni-plaintext\">246-0038</div></td><td><div class=\"dni-plaintext\">神奈川県横浜市瀬谷区宮沢**********</div></td><td><div class=\"dni-plaintext\">S14028</div></td><td><div class=\"dni-plaintext\">20151123</div></td><td><div class=\"dni-plaintext\">1-20080426-5</div></td></tr><tr><td>4</td><td><div class=\"dni-plaintext\">CS039212000051</div></td><td><div class=\"dni-plaintext\">藤島 恵梨香</div></td><td><div class=\"dni-plaintext\">1</div></td><td><div class=\"dni-plaintext\">女性</div></td><td><span>1997-02-03</span></td><td><div class=\"dni-plaintext\">22</div></td><td><div class=\"dni-plaintext\">166-0001</div></td><td><div class=\"dni-plaintext\">東京都杉並区阿佐谷北**********</div></td><td><div class=\"dni-plaintext\">S13039</div></td><td><div class=\"dni-plaintext\">20171121</div></td><td><div class=\"dni-plaintext\">1-20100215-4</div></td></tr><tr><td>5</td><td><div class=\"dni-plaintext\">CS015412000111</div></td><td><div class=\"dni-plaintext\">松居 奈月</div></td><td><div class=\"dni-plaintext\">1</div></td><td><div class=\"dni-plaintext\">女性</div></td><td><span>1972-10-04</span></td><td><div class=\"dni-plaintext\">46</div></td><td><div class=\"dni-plaintext\">136-0071</div></td><td><div class=\"dni-plaintext\">東京都江東区亀戸**********</div></td><td><div class=\"dni-plaintext\">S13015</div></td><td><div class=\"dni-plaintext\">20150629</div></td><td><div class=\"dni-plaintext\">0-00000000-0</div></td></tr><tr><td>6</td><td><div class=\"dni-plaintext\">CS004702000041</div></td><td><div class=\"dni-plaintext\">野島 洋</div></td><td><div class=\"dni-plaintext\">0</div></td><td><div class=\"dni-plaintext\">男性</div></td><td><span>1943-08-24</span></td><td><div class=\"dni-plaintext\">75</div></td><td><div class=\"dni-plaintext\">176-0022</div></td><td><div class=\"dni-plaintext\">東京都練馬区向山**********</div></td><td><div class=\"dni-plaintext\">S13004</div></td><td><div class=\"dni-plaintext\">20170218</div></td><td><div class=\"dni-plaintext\">0-00000000-0</div></td></tr><tr><td>7</td><td><div class=\"dni-plaintext\">CS041515000001</div></td><td><div class=\"dni-plaintext\">栗田 千夏</div></td><td><div class=\"dni-plaintext\">1</div></td><td><div class=\"dni-plaintext\">女性</div></td><td><span>1967-01-02</span></td><td><div class=\"dni-plaintext\">52</div></td><td><div class=\"dni-plaintext\">206-0001</div></td><td><div class=\"dni-plaintext\">東京都多摩市和田**********</div></td><td><div class=\"dni-plaintext\">S13041</div></td><td><div class=\"dni-plaintext\">20160422</div></td><td><div class=\"dni-plaintext\">E-20100803-F</div></td></tr><tr><td>8</td><td><div class=\"dni-plaintext\">CS029313000221</div></td><td><div class=\"dni-plaintext\">北条 ひかり</div></td><td><div class=\"dni-plaintext\">1</div></td><td><div class=\"dni-plaintext\">女性</div></td><td><span>1987-06-19</span></td><td><div class=\"dni-plaintext\">31</div></td><td><div class=\"dni-plaintext\">279-0011</div></td><td><div class=\"dni-plaintext\">千葉県浦安市美浜**********</div></td><td><div class=\"dni-plaintext\">S12029</div></td><td><div class=\"dni-plaintext\">20180810</div></td><td><div class=\"dni-plaintext\">0-00000000-0</div></td></tr><tr><td>9</td><td><div class=\"dni-plaintext\">CS034312000071</div></td><td><div class=\"dni-plaintext\">望月 奈央</div></td><td><div class=\"dni-plaintext\">1</div></td><td><div class=\"dni-plaintext\">女性</div></td><td><span>1980-09-20</span></td><td><div class=\"dni-plaintext\">38</div></td><td><div class=\"dni-plaintext\">213-0026</div></td><td><div class=\"dni-plaintext\">神奈川県川崎市高津区久末**********</div></td><td><div class=\"dni-plaintext\">S14034</div></td><td><div class=\"dni-plaintext\">20160106</div></td><td><div class=\"dni-plaintext\">0-00000000-0</div></td></tr></tbody></table>"
      ]
     },
     "execution_count": 15,
     "metadata": {},
     "output_type": "execute_result"
    }
   ],
   "source": [
    "df_customer.Where(r => r.customer_id.EndsWith(\"1\")).Take(10)"
   ]
  },
  {
   "cell_type": "markdown",
   "metadata": {},
   "source": [
    "---\n",
    "> P-012: 店舗データフレーム（df_store）から横浜市の店舗だけ全項目表示せよ。"
   ]
  },
  {
   "cell_type": "code",
   "execution_count": 16,
   "metadata": {
    "dotnet_interactive": {
     "language": "csharp"
    }
   },
   "outputs": [
    {
     "data": {
      "text/html": [
       "<table><thead><tr><th><i>index</i></th><th>store_cd</th><th>store_name</th><th>prefecture_cd</th><th>prefecture</th><th>address</th><th>address_kana</th><th>tel_no</th><th>longitude</th><th>latitude</th><th>floor_area</th></tr></thead><tbody><tr><td>0</td><td><div class=\"dni-plaintext\">S14010</div></td><td><div class=\"dni-plaintext\">菊名店</div></td><td><div class=\"dni-plaintext\">14</div></td><td><div class=\"dni-plaintext\">神奈川県</div></td><td><div class=\"dni-plaintext\">神奈川県横浜市港北区菊名一丁目</div></td><td><div class=\"dni-plaintext\">カナガワケンヨコハマシコウホククキクナイッチョウメ</div></td><td><div class=\"dni-plaintext\">045-123-4032</div></td><td><div class=\"dni-plaintext\">139.6326</div></td><td><div class=\"dni-plaintext\">35.50049</div></td><td><div class=\"dni-plaintext\">1732.0</div></td></tr><tr><td>1</td><td><div class=\"dni-plaintext\">S14033</div></td><td><div class=\"dni-plaintext\">阿久和店</div></td><td><div class=\"dni-plaintext\">14</div></td><td><div class=\"dni-plaintext\">神奈川県</div></td><td><div class=\"dni-plaintext\">神奈川県横浜市瀬谷区阿久和西一丁目</div></td><td><div class=\"dni-plaintext\">カナガワケンヨコハマシセヤクアクワニシイッチョウメ</div></td><td><div class=\"dni-plaintext\">045-123-4043</div></td><td><div class=\"dni-plaintext\">139.4961</div></td><td><div class=\"dni-plaintext\">35.45918</div></td><td><div class=\"dni-plaintext\">1495.0</div></td></tr><tr><td>2</td><td><div class=\"dni-plaintext\">S14040</div></td><td><div class=\"dni-plaintext\">長津田店</div></td><td><div class=\"dni-plaintext\">14</div></td><td><div class=\"dni-plaintext\">神奈川県</div></td><td><div class=\"dni-plaintext\">神奈川県横浜市緑区長津田みなみ台五丁目</div></td><td><div class=\"dni-plaintext\">カナガワケンヨコハマシミドリクナガツタミナミダイゴチョウメ</div></td><td><div class=\"dni-plaintext\">045-123-4046</div></td><td><div class=\"dni-plaintext\">139.4994</div></td><td><div class=\"dni-plaintext\">35.52398</div></td><td><div class=\"dni-plaintext\">1548.0</div></td></tr><tr><td>3</td><td><div class=\"dni-plaintext\">S14050</div></td><td><div class=\"dni-plaintext\">阿久和西店</div></td><td><div class=\"dni-plaintext\">14</div></td><td><div class=\"dni-plaintext\">神奈川県</div></td><td><div class=\"dni-plaintext\">神奈川県横浜市瀬谷区阿久和西一丁目</div></td><td><div class=\"dni-plaintext\">カナガワケンヨコハマシセヤクアクワニシイッチョウメ</div></td><td><div class=\"dni-plaintext\">045-123-4053</div></td><td><div class=\"dni-plaintext\">139.4961</div></td><td><div class=\"dni-plaintext\">35.45918</div></td><td><div class=\"dni-plaintext\">1830.0</div></td></tr><tr><td>4</td><td><div class=\"dni-plaintext\">S14028</div></td><td><div class=\"dni-plaintext\">二ツ橋店</div></td><td><div class=\"dni-plaintext\">14</div></td><td><div class=\"dni-plaintext\">神奈川県</div></td><td><div class=\"dni-plaintext\">神奈川県横浜市瀬谷区二ツ橋町</div></td><td><div class=\"dni-plaintext\">カナガワケンヨコハマシセヤクフタツバシチョウ</div></td><td><div class=\"dni-plaintext\">045-123-4042</div></td><td><div class=\"dni-plaintext\">139.4963</div></td><td><div class=\"dni-plaintext\">35.46304</div></td><td><div class=\"dni-plaintext\">1574.0</div></td></tr><tr><td>5</td><td><div class=\"dni-plaintext\">S14012</div></td><td><div class=\"dni-plaintext\">本牧和田店</div></td><td><div class=\"dni-plaintext\">14</div></td><td><div class=\"dni-plaintext\">神奈川県</div></td><td><div class=\"dni-plaintext\">神奈川県横浜市中区本牧和田</div></td><td><div class=\"dni-plaintext\">カナガワケンヨコハマシナカクホンモクワダ</div></td><td><div class=\"dni-plaintext\">045-123-4034</div></td><td><div class=\"dni-plaintext\">139.6582</div></td><td><div class=\"dni-plaintext\">35.42156</div></td><td><div class=\"dni-plaintext\">1341.0</div></td></tr><tr><td>6</td><td><div class=\"dni-plaintext\">S14046</div></td><td><div class=\"dni-plaintext\">北山田店</div></td><td><div class=\"dni-plaintext\">14</div></td><td><div class=\"dni-plaintext\">神奈川県</div></td><td><div class=\"dni-plaintext\">神奈川県横浜市都筑区北山田一丁目</div></td><td><div class=\"dni-plaintext\">カナガワケンヨコハマシツヅキクキタヤマタイッチョウメ</div></td><td><div class=\"dni-plaintext\">045-123-4049</div></td><td><div class=\"dni-plaintext\">139.5916</div></td><td><div class=\"dni-plaintext\">35.56189</div></td><td><div class=\"dni-plaintext\">831.0</div></td></tr><tr><td>7</td><td><div class=\"dni-plaintext\">S14011</div></td><td><div class=\"dni-plaintext\">日吉本町店</div></td><td><div class=\"dni-plaintext\">14</div></td><td><div class=\"dni-plaintext\">神奈川県</div></td><td><div class=\"dni-plaintext\">神奈川県横浜市港北区日吉本町四丁目</div></td><td><div class=\"dni-plaintext\">カナガワケンヨコハマシコウホククヒヨシホンチョウヨンチョウメ</div></td><td><div class=\"dni-plaintext\">045-123-4033</div></td><td><div class=\"dni-plaintext\">139.6316</div></td><td><div class=\"dni-plaintext\">35.54655</div></td><td><div class=\"dni-plaintext\">890.0</div></td></tr><tr><td>8</td><td><div class=\"dni-plaintext\">S14048</div></td><td><div class=\"dni-plaintext\">中川中央店</div></td><td><div class=\"dni-plaintext\">14</div></td><td><div class=\"dni-plaintext\">神奈川県</div></td><td><div class=\"dni-plaintext\">神奈川県横浜市都筑区中川中央二丁目</div></td><td><div class=\"dni-plaintext\">カナガワケンヨコハマシツヅキクナカガワチュウオウニチョウメ</div></td><td><div class=\"dni-plaintext\">045-123-4051</div></td><td><div class=\"dni-plaintext\">139.5758</div></td><td><div class=\"dni-plaintext\">35.54912</div></td><td><div class=\"dni-plaintext\">1657.0</div></td></tr><tr><td>9</td><td><div class=\"dni-plaintext\">S14042</div></td><td><div class=\"dni-plaintext\">新山下店</div></td><td><div class=\"dni-plaintext\">14</div></td><td><div class=\"dni-plaintext\">神奈川県</div></td><td><div class=\"dni-plaintext\">神奈川県横浜市中区新山下二丁目</div></td><td><div class=\"dni-plaintext\">カナガワケンヨコハマシナカクシンヤマシタニチョウメ</div></td><td><div class=\"dni-plaintext\">045-123-4047</div></td><td><div class=\"dni-plaintext\">139.6593</div></td><td><div class=\"dni-plaintext\">35.43894</div></td><td><div class=\"dni-plaintext\">1044.0</div></td></tr><tr><td>10</td><td><div class=\"dni-plaintext\">S14006</div></td><td><div class=\"dni-plaintext\">葛が谷店</div></td><td><div class=\"dni-plaintext\">14</div></td><td><div class=\"dni-plaintext\">神奈川県</div></td><td><div class=\"dni-plaintext\">神奈川県横浜市都筑区葛が谷</div></td><td><div class=\"dni-plaintext\">カナガワケンヨコハマシツヅキククズガヤ</div></td><td><div class=\"dni-plaintext\">045-123-4031</div></td><td><div class=\"dni-plaintext\">139.5633</div></td><td><div class=\"dni-plaintext\">35.53573</div></td><td><div class=\"dni-plaintext\">1886.0</div></td></tr></tbody></table>"
      ]
     },
     "execution_count": 16,
     "metadata": {},
     "output_type": "execute_result"
    }
   ],
   "source": [
    "df_store.Where(r => r.address.Contains(\"横浜市\"))"
   ]
  },
  {
   "cell_type": "markdown",
   "metadata": {},
   "source": [
    "---\n",
    "> P-013: 顧客データフレーム（df_customer）から、ステータスコード（status_cd）の先頭がアルファベットのA〜Fで始まるデータを全項目抽出し、10件だけ表示せよ。"
   ]
  },
  {
   "cell_type": "code",
   "execution_count": 17,
   "metadata": {
    "dotnet_interactive": {
     "language": "csharp"
    }
   },
   "outputs": [
    {
     "data": {
      "text/html": [
       "<table><thead><tr><th><i>index</i></th><th>customer_id</th><th>customer_name</th><th>gender_cd</th><th>gender</th><th>birth_day</th><th>age</th><th>postal_cd</th><th>address</th><th>application_store_cd</th><th>application_date</th><th>status_cd</th></tr></thead><tbody><tr><td>0</td><td><div class=\"dni-plaintext\">CS031415000172</div></td><td><div class=\"dni-plaintext\">宇多田 貴美子</div></td><td><div class=\"dni-plaintext\">1</div></td><td><div class=\"dni-plaintext\">女性</div></td><td><span>1976-10-04</span></td><td><div class=\"dni-plaintext\">42</div></td><td><div class=\"dni-plaintext\">151-0053</div></td><td><div class=\"dni-plaintext\">東京都渋谷区代々木**********</div></td><td><div class=\"dni-plaintext\">S13031</div></td><td><div class=\"dni-plaintext\">20150529</div></td><td><div class=\"dni-plaintext\">D-20100325-C</div></td></tr><tr><td>1</td><td><div class=\"dni-plaintext\">CS015414000103</div></td><td><div class=\"dni-plaintext\">奥野 陽子</div></td><td><div class=\"dni-plaintext\">1</div></td><td><div class=\"dni-plaintext\">女性</div></td><td><span>1977-08-09</span></td><td><div class=\"dni-plaintext\">41</div></td><td><div class=\"dni-plaintext\">136-0073</div></td><td><div class=\"dni-plaintext\">東京都江東区北砂**********</div></td><td><div class=\"dni-plaintext\">S13015</div></td><td><div class=\"dni-plaintext\">20150722</div></td><td><div class=\"dni-plaintext\">B-20100609-B</div></td></tr><tr><td>2</td><td><div class=\"dni-plaintext\">CS011215000048</div></td><td><div class=\"dni-plaintext\">芦田 沙耶</div></td><td><div class=\"dni-plaintext\">1</div></td><td><div class=\"dni-plaintext\">女性</div></td><td><span>1992-02-01</span></td><td><div class=\"dni-plaintext\">27</div></td><td><div class=\"dni-plaintext\">223-0062</div></td><td><div class=\"dni-plaintext\">神奈川県横浜市港北区日吉本町**********</div></td><td><div class=\"dni-plaintext\">S14011</div></td><td><div class=\"dni-plaintext\">20150228</div></td><td><div class=\"dni-plaintext\">C-20100421-9</div></td></tr><tr><td>3</td><td><div class=\"dni-plaintext\">CS029415000023</div></td><td><div class=\"dni-plaintext\">梅田 里穂</div></td><td><div class=\"dni-plaintext\">1</div></td><td><div class=\"dni-plaintext\">女性</div></td><td><span>1976-01-17</span></td><td><div class=\"dni-plaintext\">43</div></td><td><div class=\"dni-plaintext\">279-0043</div></td><td><div class=\"dni-plaintext\">千葉県浦安市富士見**********</div></td><td><div class=\"dni-plaintext\">S12029</div></td><td><div class=\"dni-plaintext\">20150610</div></td><td><div class=\"dni-plaintext\">D-20100918-E</div></td></tr><tr><td>4</td><td><div class=\"dni-plaintext\">CS035415000029</div></td><td><div class=\"dni-plaintext\">寺沢 真希</div></td><td><div class=\"dni-plaintext\">9</div></td><td><div class=\"dni-plaintext\">不明</div></td><td><span>1977-09-27</span></td><td><div class=\"dni-plaintext\">41</div></td><td><div class=\"dni-plaintext\">158-0096</div></td><td><div class=\"dni-plaintext\">東京都世田谷区玉川台**********</div></td><td><div class=\"dni-plaintext\">S13035</div></td><td><div class=\"dni-plaintext\">20141220</div></td><td><div class=\"dni-plaintext\">F-20101029-F</div></td></tr><tr><td>5</td><td><div class=\"dni-plaintext\">CS031415000106</div></td><td><div class=\"dni-plaintext\">宇野 由美子</div></td><td><div class=\"dni-plaintext\">1</div></td><td><div class=\"dni-plaintext\">女性</div></td><td><span>1970-02-26</span></td><td><div class=\"dni-plaintext\">49</div></td><td><div class=\"dni-plaintext\">151-0053</div></td><td><div class=\"dni-plaintext\">東京都渋谷区代々木**********</div></td><td><div class=\"dni-plaintext\">S13031</div></td><td><div class=\"dni-plaintext\">20150201</div></td><td><div class=\"dni-plaintext\">F-20100511-E</div></td></tr><tr><td>6</td><td><div class=\"dni-plaintext\">CS029215000025</div></td><td><div class=\"dni-plaintext\">石倉 美帆</div></td><td><div class=\"dni-plaintext\">1</div></td><td><div class=\"dni-plaintext\">女性</div></td><td><span>1993-09-28</span></td><td><div class=\"dni-plaintext\">25</div></td><td><div class=\"dni-plaintext\">279-0022</div></td><td><div class=\"dni-plaintext\">千葉県浦安市今川**********</div></td><td><div class=\"dni-plaintext\">S12029</div></td><td><div class=\"dni-plaintext\">20150708</div></td><td><div class=\"dni-plaintext\">B-20100820-C</div></td></tr><tr><td>7</td><td><div class=\"dni-plaintext\">CS033605000005</div></td><td><div class=\"dni-plaintext\">猪股 雄太</div></td><td><div class=\"dni-plaintext\">0</div></td><td><div class=\"dni-plaintext\">男性</div></td><td><span>1955-12-05</span></td><td><div class=\"dni-plaintext\">63</div></td><td><div class=\"dni-plaintext\">246-0031</div></td><td><div class=\"dni-plaintext\">神奈川県横浜市瀬谷区瀬谷**********</div></td><td><div class=\"dni-plaintext\">S14033</div></td><td><div class=\"dni-plaintext\">20150425</div></td><td><div class=\"dni-plaintext\">F-20100917-E</div></td></tr><tr><td>8</td><td><div class=\"dni-plaintext\">CS033415000229</div></td><td><div class=\"dni-plaintext\">板垣 菜々美</div></td><td><div class=\"dni-plaintext\">1</div></td><td><div class=\"dni-plaintext\">女性</div></td><td><span>1977-11-07</span></td><td><div class=\"dni-plaintext\">41</div></td><td><div class=\"dni-plaintext\">246-0021</div></td><td><div class=\"dni-plaintext\">神奈川県横浜市瀬谷区二ツ橋町**********</div></td><td><div class=\"dni-plaintext\">S14033</div></td><td><div class=\"dni-plaintext\">20150712</div></td><td><div class=\"dni-plaintext\">F-20100326-E</div></td></tr><tr><td>9</td><td><div class=\"dni-plaintext\">CS008415000145</div></td><td><div class=\"dni-plaintext\">黒谷 麻緒</div></td><td><div class=\"dni-plaintext\">1</div></td><td><div class=\"dni-plaintext\">女性</div></td><td><span>1977-06-27</span></td><td><div class=\"dni-plaintext\">41</div></td><td><div class=\"dni-plaintext\">157-0067</div></td><td><div class=\"dni-plaintext\">東京都世田谷区喜多見**********</div></td><td><div class=\"dni-plaintext\">S13008</div></td><td><div class=\"dni-plaintext\">20150829</div></td><td><div class=\"dni-plaintext\">F-20100622-F</div></td></tr></tbody></table>"
      ]
     },
     "execution_count": 17,
     "metadata": {},
     "output_type": "execute_result"
    }
   ],
   "source": [
    "df_customer.Where(r => Regex.IsMatch(r.status_cd, \"^[A-F]\")).Take(10)"
   ]
  },
  {
   "cell_type": "markdown",
   "metadata": {},
   "source": [
    "---\n",
    "> P-014: 顧客データフレーム（df_customer）から、ステータスコード（status_cd）の末尾が数字の1〜9で終わるデータを全項目抽出し、10件だけ表示せよ。"
   ]
  },
  {
   "cell_type": "code",
   "execution_count": 18,
   "metadata": {
    "dotnet_interactive": {
     "language": "csharp"
    }
   },
   "outputs": [
    {
     "data": {
      "text/html": [
       "<table><thead><tr><th><i>index</i></th><th>customer_id</th><th>customer_name</th><th>gender_cd</th><th>gender</th><th>birth_day</th><th>age</th><th>postal_cd</th><th>address</th><th>application_store_cd</th><th>application_date</th><th>status_cd</th></tr></thead><tbody><tr><td>0</td><td><div class=\"dni-plaintext\">CS001215000145</div></td><td><div class=\"dni-plaintext\">田崎 美紀</div></td><td><div class=\"dni-plaintext\">1</div></td><td><div class=\"dni-plaintext\">女性</div></td><td><span>1995-03-29</span></td><td><div class=\"dni-plaintext\">24</div></td><td><div class=\"dni-plaintext\">144-0055</div></td><td><div class=\"dni-plaintext\">東京都大田区仲六郷**********</div></td><td><div class=\"dni-plaintext\">S13001</div></td><td><div class=\"dni-plaintext\">20170605</div></td><td><div class=\"dni-plaintext\">6-20090929-2</div></td></tr><tr><td>1</td><td><div class=\"dni-plaintext\">CS033513000180</div></td><td><div class=\"dni-plaintext\">安斎 遥</div></td><td><div class=\"dni-plaintext\">1</div></td><td><div class=\"dni-plaintext\">女性</div></td><td><span>1962-07-11</span></td><td><div class=\"dni-plaintext\">56</div></td><td><div class=\"dni-plaintext\">241-0823</div></td><td><div class=\"dni-plaintext\">神奈川県横浜市旭区善部町**********</div></td><td><div class=\"dni-plaintext\">S14033</div></td><td><div class=\"dni-plaintext\">20150728</div></td><td><div class=\"dni-plaintext\">6-20080506-5</div></td></tr><tr><td>2</td><td><div class=\"dni-plaintext\">CS011215000048</div></td><td><div class=\"dni-plaintext\">芦田 沙耶</div></td><td><div class=\"dni-plaintext\">1</div></td><td><div class=\"dni-plaintext\">女性</div></td><td><span>1992-02-01</span></td><td><div class=\"dni-plaintext\">27</div></td><td><div class=\"dni-plaintext\">223-0062</div></td><td><div class=\"dni-plaintext\">神奈川県横浜市港北区日吉本町**********</div></td><td><div class=\"dni-plaintext\">S14011</div></td><td><div class=\"dni-plaintext\">20150228</div></td><td><div class=\"dni-plaintext\">C-20100421-9</div></td></tr><tr><td>3</td><td><div class=\"dni-plaintext\">CS040412000191</div></td><td><div class=\"dni-plaintext\">川井 郁恵</div></td><td><div class=\"dni-plaintext\">1</div></td><td><div class=\"dni-plaintext\">女性</div></td><td><span>1977-01-05</span></td><td><div class=\"dni-plaintext\">42</div></td><td><div class=\"dni-plaintext\">226-0021</div></td><td><div class=\"dni-plaintext\">神奈川県横浜市緑区北八朔町**********</div></td><td><div class=\"dni-plaintext\">S14040</div></td><td><div class=\"dni-plaintext\">20151101</div></td><td><div class=\"dni-plaintext\">1-20091025-4</div></td></tr><tr><td>4</td><td><div class=\"dni-plaintext\">CS009315000023</div></td><td><div class=\"dni-plaintext\">皆川 文世</div></td><td><div class=\"dni-plaintext\">1</div></td><td><div class=\"dni-plaintext\">女性</div></td><td><span>1980-04-15</span></td><td><div class=\"dni-plaintext\">38</div></td><td><div class=\"dni-plaintext\">154-0012</div></td><td><div class=\"dni-plaintext\">東京都世田谷区駒沢**********</div></td><td><div class=\"dni-plaintext\">S13009</div></td><td><div class=\"dni-plaintext\">20150319</div></td><td><div class=\"dni-plaintext\">5-20080322-1</div></td></tr><tr><td>5</td><td><div class=\"dni-plaintext\">CS015315000033</div></td><td><div class=\"dni-plaintext\">福士 璃奈子</div></td><td><div class=\"dni-plaintext\">1</div></td><td><div class=\"dni-plaintext\">女性</div></td><td><span>1983-03-17</span></td><td><div class=\"dni-plaintext\">36</div></td><td><div class=\"dni-plaintext\">135-0043</div></td><td><div class=\"dni-plaintext\">東京都江東区塩浜**********</div></td><td><div class=\"dni-plaintext\">S13015</div></td><td><div class=\"dni-plaintext\">20141024</div></td><td><div class=\"dni-plaintext\">4-20080219-3</div></td></tr><tr><td>6</td><td><div class=\"dni-plaintext\">CS023513000066</div></td><td><div class=\"dni-plaintext\">神戸 そら</div></td><td><div class=\"dni-plaintext\">1</div></td><td><div class=\"dni-plaintext\">女性</div></td><td><span>1961-12-17</span></td><td><div class=\"dni-plaintext\">57</div></td><td><div class=\"dni-plaintext\">210-0005</div></td><td><div class=\"dni-plaintext\">神奈川県川崎市川崎区東田町**********</div></td><td><div class=\"dni-plaintext\">S14023</div></td><td><div class=\"dni-plaintext\">20150915</div></td><td><div class=\"dni-plaintext\">5-20100524-9</div></td></tr><tr><td>7</td><td><div class=\"dni-plaintext\">CS035513000134</div></td><td><div class=\"dni-plaintext\">市川 美帆</div></td><td><div class=\"dni-plaintext\">1</div></td><td><div class=\"dni-plaintext\">女性</div></td><td><span>1960-03-27</span></td><td><div class=\"dni-plaintext\">59</div></td><td><div class=\"dni-plaintext\">156-0053</div></td><td><div class=\"dni-plaintext\">東京都世田谷区桜**********</div></td><td><div class=\"dni-plaintext\">S13035</div></td><td><div class=\"dni-plaintext\">20150227</div></td><td><div class=\"dni-plaintext\">8-20100711-9</div></td></tr><tr><td>8</td><td><div class=\"dni-plaintext\">CS001515000263</div></td><td><div class=\"dni-plaintext\">高松 夏空</div></td><td><div class=\"dni-plaintext\">1</div></td><td><div class=\"dni-plaintext\">女性</div></td><td><span>1962-11-09</span></td><td><div class=\"dni-plaintext\">56</div></td><td><div class=\"dni-plaintext\">144-0051</div></td><td><div class=\"dni-plaintext\">東京都大田区西蒲田**********</div></td><td><div class=\"dni-plaintext\">S13001</div></td><td><div class=\"dni-plaintext\">20160812</div></td><td><div class=\"dni-plaintext\">1-20100804-1</div></td></tr><tr><td>9</td><td><div class=\"dni-plaintext\">CS040314000027</div></td><td><div class=\"dni-plaintext\">鶴田 きみまろ</div></td><td><div class=\"dni-plaintext\">9</div></td><td><div class=\"dni-plaintext\">不明</div></td><td><span>1986-03-26</span></td><td><div class=\"dni-plaintext\">33</div></td><td><div class=\"dni-plaintext\">226-0027</div></td><td><div class=\"dni-plaintext\">神奈川県横浜市緑区長津田**********</div></td><td><div class=\"dni-plaintext\">S14040</div></td><td><div class=\"dni-plaintext\">20150122</div></td><td><div class=\"dni-plaintext\">2-20080426-4</div></td></tr></tbody></table>"
      ]
     },
     "execution_count": 18,
     "metadata": {},
     "output_type": "execute_result"
    }
   ],
   "source": [
    "df_customer.Where(r => Regex.IsMatch(r.status_cd, \"[1-9]$\")).Take(10)"
   ]
  },
  {
   "cell_type": "markdown",
   "metadata": {},
   "source": [
    "---\n",
    "> P-015: 顧客データフレーム（df_customer）から、ステータスコード（status_cd）の先頭がアルファベットのA〜Fで始まり、末尾が数字の1〜9で終わるデータを全項目抽出し、10件だけ表示せよ。"
   ]
  },
  {
   "cell_type": "code",
   "execution_count": 19,
   "metadata": {
    "dotnet_interactive": {
     "language": "csharp"
    }
   },
   "outputs": [
    {
     "data": {
      "text/html": [
       "<table><thead><tr><th><i>index</i></th><th>customer_id</th><th>customer_name</th><th>gender_cd</th><th>gender</th><th>birth_day</th><th>age</th><th>postal_cd</th><th>address</th><th>application_store_cd</th><th>application_date</th><th>status_cd</th></tr></thead><tbody><tr><td>0</td><td><div class=\"dni-plaintext\">CS011215000048</div></td><td><div class=\"dni-plaintext\">芦田 沙耶</div></td><td><div class=\"dni-plaintext\">1</div></td><td><div class=\"dni-plaintext\">女性</div></td><td><span>1992-02-01</span></td><td><div class=\"dni-plaintext\">27</div></td><td><div class=\"dni-plaintext\">223-0062</div></td><td><div class=\"dni-plaintext\">神奈川県横浜市港北区日吉本町**********</div></td><td><div class=\"dni-plaintext\">S14011</div></td><td><div class=\"dni-plaintext\">20150228</div></td><td><div class=\"dni-plaintext\">C-20100421-9</div></td></tr><tr><td>1</td><td><div class=\"dni-plaintext\">CS022513000105</div></td><td><div class=\"dni-plaintext\">島村 貴美子</div></td><td><div class=\"dni-plaintext\">1</div></td><td><div class=\"dni-plaintext\">女性</div></td><td><span>1962-03-12</span></td><td><div class=\"dni-plaintext\">57</div></td><td><div class=\"dni-plaintext\">249-0002</div></td><td><div class=\"dni-plaintext\">神奈川県逗子市山の根**********</div></td><td><div class=\"dni-plaintext\">S14022</div></td><td><div class=\"dni-plaintext\">20150320</div></td><td><div class=\"dni-plaintext\">A-20091115-7</div></td></tr><tr><td>2</td><td><div class=\"dni-plaintext\">CS001515000096</div></td><td><div class=\"dni-plaintext\">水野 陽子</div></td><td><div class=\"dni-plaintext\">9</div></td><td><div class=\"dni-plaintext\">不明</div></td><td><span>1960-11-29</span></td><td><div class=\"dni-plaintext\">58</div></td><td><div class=\"dni-plaintext\">144-0053</div></td><td><div class=\"dni-plaintext\">東京都大田区蒲田本町**********</div></td><td><div class=\"dni-plaintext\">S13001</div></td><td><div class=\"dni-plaintext\">20150614</div></td><td><div class=\"dni-plaintext\">A-20100724-7</div></td></tr><tr><td>3</td><td><div class=\"dni-plaintext\">CS013615000053</div></td><td><div class=\"dni-plaintext\">西脇 季衣</div></td><td><div class=\"dni-plaintext\">1</div></td><td><div class=\"dni-plaintext\">女性</div></td><td><span>1953-10-18</span></td><td><div class=\"dni-plaintext\">65</div></td><td><div class=\"dni-plaintext\">261-0026</div></td><td><div class=\"dni-plaintext\">千葉県千葉市美浜区幕張西**********</div></td><td><div class=\"dni-plaintext\">S12013</div></td><td><div class=\"dni-plaintext\">20150128</div></td><td><div class=\"dni-plaintext\">B-20100329-6</div></td></tr><tr><td>4</td><td><div class=\"dni-plaintext\">CS020412000161</div></td><td><div class=\"dni-plaintext\">小宮 薫</div></td><td><div class=\"dni-plaintext\">1</div></td><td><div class=\"dni-plaintext\">女性</div></td><td><span>1974-05-21</span></td><td><div class=\"dni-plaintext\">44</div></td><td><div class=\"dni-plaintext\">174-0042</div></td><td><div class=\"dni-plaintext\">東京都板橋区東坂下**********</div></td><td><div class=\"dni-plaintext\">S13020</div></td><td><div class=\"dni-plaintext\">20150822</div></td><td><div class=\"dni-plaintext\">B-20081021-3</div></td></tr><tr><td>5</td><td><div class=\"dni-plaintext\">CS001215000097</div></td><td><div class=\"dni-plaintext\">竹中 あさみ</div></td><td><div class=\"dni-plaintext\">1</div></td><td><div class=\"dni-plaintext\">女性</div></td><td><span>1990-07-25</span></td><td><div class=\"dni-plaintext\">28</div></td><td><div class=\"dni-plaintext\">146-0095</div></td><td><div class=\"dni-plaintext\">東京都大田区多摩川**********</div></td><td><div class=\"dni-plaintext\">S13001</div></td><td><div class=\"dni-plaintext\">20170315</div></td><td><div class=\"dni-plaintext\">A-20100211-2</div></td></tr><tr><td>6</td><td><div class=\"dni-plaintext\">CS035212000007</div></td><td><div class=\"dni-plaintext\">内村 恵梨香</div></td><td><div class=\"dni-plaintext\">1</div></td><td><div class=\"dni-plaintext\">女性</div></td><td><span>1990-12-04</span></td><td><div class=\"dni-plaintext\">28</div></td><td><div class=\"dni-plaintext\">152-0023</div></td><td><div class=\"dni-plaintext\">東京都目黒区八雲**********</div></td><td><div class=\"dni-plaintext\">S13035</div></td><td><div class=\"dni-plaintext\">20151013</div></td><td><div class=\"dni-plaintext\">B-20101018-6</div></td></tr><tr><td>7</td><td><div class=\"dni-plaintext\">CS002515000386</div></td><td><div class=\"dni-plaintext\">野田 コウ</div></td><td><div class=\"dni-plaintext\">1</div></td><td><div class=\"dni-plaintext\">女性</div></td><td><span>1963-05-30</span></td><td><div class=\"dni-plaintext\">55</div></td><td><div class=\"dni-plaintext\">185-0013</div></td><td><div class=\"dni-plaintext\">東京都国分寺市西恋ケ窪**********</div></td><td><div class=\"dni-plaintext\">S13002</div></td><td><div class=\"dni-plaintext\">20160410</div></td><td><div class=\"dni-plaintext\">C-20100127-8</div></td></tr><tr><td>8</td><td><div class=\"dni-plaintext\">CS001615000372</div></td><td><div class=\"dni-plaintext\">稲垣 寿々花</div></td><td><div class=\"dni-plaintext\">1</div></td><td><div class=\"dni-plaintext\">女性</div></td><td><span>1956-10-29</span></td><td><div class=\"dni-plaintext\">62</div></td><td><div class=\"dni-plaintext\">144-0035</div></td><td><div class=\"dni-plaintext\">東京都大田区南蒲田**********</div></td><td><div class=\"dni-plaintext\">S13001</div></td><td><div class=\"dni-plaintext\">20170403</div></td><td><div class=\"dni-plaintext\">A-20100104-1</div></td></tr><tr><td>9</td><td><div class=\"dni-plaintext\">CS032512000121</div></td><td><div class=\"dni-plaintext\">松井 知世</div></td><td><div class=\"dni-plaintext\">1</div></td><td><div class=\"dni-plaintext\">女性</div></td><td><span>1962-09-04</span></td><td><div class=\"dni-plaintext\">56</div></td><td><div class=\"dni-plaintext\">210-0011</div></td><td><div class=\"dni-plaintext\">神奈川県川崎市川崎区富士見**********</div></td><td><div class=\"dni-plaintext\">S13032</div></td><td><div class=\"dni-plaintext\">20150727</div></td><td><div class=\"dni-plaintext\">A-20100103-5</div></td></tr></tbody></table>"
      ]
     },
     "execution_count": 19,
     "metadata": {},
     "output_type": "execute_result"
    }
   ],
   "source": [
    "df_customer.Where(r => Regex.IsMatch(r.status_cd, \"^[A-F].*[1-9]$\")).Take(10)"
   ]
  },
  {
   "cell_type": "markdown",
   "metadata": {},
   "source": [
    "---\n",
    "> P-016: 店舗データフレーム（df_store）から、電話番号（tel_no）が3桁-3桁-4桁のデータを全項目表示せよ。"
   ]
  },
  {
   "cell_type": "code",
   "execution_count": 20,
   "metadata": {
    "dotnet_interactive": {
     "language": "csharp"
    }
   },
   "outputs": [
    {
     "data": {
      "text/html": [
       "<table><thead><tr><th><i>index</i></th><th>store_cd</th><th>store_name</th><th>prefecture_cd</th><th>prefecture</th><th>address</th><th>address_kana</th><th>tel_no</th><th>longitude</th><th>latitude</th><th>floor_area</th></tr></thead><tbody><tr><td>0</td><td><div class=\"dni-plaintext\">S12014</div></td><td><div class=\"dni-plaintext\">千草台店</div></td><td><div class=\"dni-plaintext\">12</div></td><td><div class=\"dni-plaintext\">千葉県</div></td><td><div class=\"dni-plaintext\">千葉県千葉市稲毛区千草台一丁目</div></td><td><div class=\"dni-plaintext\">チバケンチバシイナゲクチグサダイイッチョウメ</div></td><td><div class=\"dni-plaintext\">043-123-4003</div></td><td><div class=\"dni-plaintext\">140.118</div></td><td><div class=\"dni-plaintext\">35.63559</div></td><td><div class=\"dni-plaintext\">1698.0</div></td></tr><tr><td>1</td><td><div class=\"dni-plaintext\">S13002</div></td><td><div class=\"dni-plaintext\">国分寺店</div></td><td><div class=\"dni-plaintext\">13</div></td><td><div class=\"dni-plaintext\">東京都</div></td><td><div class=\"dni-plaintext\">東京都国分寺市本多二丁目</div></td><td><div class=\"dni-plaintext\">トウキョウトコクブンジシホンダニチョウメ</div></td><td><div class=\"dni-plaintext\">042-123-4008</div></td><td><div class=\"dni-plaintext\">139.4802</div></td><td><div class=\"dni-plaintext\">35.70566</div></td><td><div class=\"dni-plaintext\">1735.0</div></td></tr><tr><td>2</td><td><div class=\"dni-plaintext\">S14010</div></td><td><div class=\"dni-plaintext\">菊名店</div></td><td><div class=\"dni-plaintext\">14</div></td><td><div class=\"dni-plaintext\">神奈川県</div></td><td><div class=\"dni-plaintext\">神奈川県横浜市港北区菊名一丁目</div></td><td><div class=\"dni-plaintext\">カナガワケンヨコハマシコウホククキクナイッチョウメ</div></td><td><div class=\"dni-plaintext\">045-123-4032</div></td><td><div class=\"dni-plaintext\">139.6326</div></td><td><div class=\"dni-plaintext\">35.50049</div></td><td><div class=\"dni-plaintext\">1732.0</div></td></tr><tr><td>3</td><td><div class=\"dni-plaintext\">S14033</div></td><td><div class=\"dni-plaintext\">阿久和店</div></td><td><div class=\"dni-plaintext\">14</div></td><td><div class=\"dni-plaintext\">神奈川県</div></td><td><div class=\"dni-plaintext\">神奈川県横浜市瀬谷区阿久和西一丁目</div></td><td><div class=\"dni-plaintext\">カナガワケンヨコハマシセヤクアクワニシイッチョウメ</div></td><td><div class=\"dni-plaintext\">045-123-4043</div></td><td><div class=\"dni-plaintext\">139.4961</div></td><td><div class=\"dni-plaintext\">35.45918</div></td><td><div class=\"dni-plaintext\">1495.0</div></td></tr><tr><td>4</td><td><div class=\"dni-plaintext\">S14036</div></td><td><div class=\"dni-plaintext\">相模原中央店</div></td><td><div class=\"dni-plaintext\">14</div></td><td><div class=\"dni-plaintext\">神奈川県</div></td><td><div class=\"dni-plaintext\">神奈川県相模原市中央二丁目</div></td><td><div class=\"dni-plaintext\">カナガワケンサガミハラシチュウオウニチョウメ</div></td><td><div class=\"dni-plaintext\">042-123-4045</div></td><td><div class=\"dni-plaintext\">139.3716</div></td><td><div class=\"dni-plaintext\">35.57327</div></td><td><div class=\"dni-plaintext\">1679.0</div></td></tr><tr><td>5</td><td><div class=\"dni-plaintext\">S14040</div></td><td><div class=\"dni-plaintext\">長津田店</div></td><td><div class=\"dni-plaintext\">14</div></td><td><div class=\"dni-plaintext\">神奈川県</div></td><td><div class=\"dni-plaintext\">神奈川県横浜市緑区長津田みなみ台五丁目</div></td><td><div class=\"dni-plaintext\">カナガワケンヨコハマシミドリクナガツタミナミダイゴチョウメ</div></td><td><div class=\"dni-plaintext\">045-123-4046</div></td><td><div class=\"dni-plaintext\">139.4994</div></td><td><div class=\"dni-plaintext\">35.52398</div></td><td><div class=\"dni-plaintext\">1548.0</div></td></tr><tr><td>6</td><td><div class=\"dni-plaintext\">S14050</div></td><td><div class=\"dni-plaintext\">阿久和西店</div></td><td><div class=\"dni-plaintext\">14</div></td><td><div class=\"dni-plaintext\">神奈川県</div></td><td><div class=\"dni-plaintext\">神奈川県横浜市瀬谷区阿久和西一丁目</div></td><td><div class=\"dni-plaintext\">カナガワケンヨコハマシセヤクアクワニシイッチョウメ</div></td><td><div class=\"dni-plaintext\">045-123-4053</div></td><td><div class=\"dni-plaintext\">139.4961</div></td><td><div class=\"dni-plaintext\">35.45918</div></td><td><div class=\"dni-plaintext\">1830.0</div></td></tr><tr><td>7</td><td><div class=\"dni-plaintext\">S13052</div></td><td><div class=\"dni-plaintext\">森野店</div></td><td><div class=\"dni-plaintext\">13</div></td><td><div class=\"dni-plaintext\">東京都</div></td><td><div class=\"dni-plaintext\">東京都町田市森野三丁目</div></td><td><div class=\"dni-plaintext\">トウキョウトマチダシモリノサンチョウメ</div></td><td><div class=\"dni-plaintext\">042-123-4030</div></td><td><div class=\"dni-plaintext\">139.4383</div></td><td><div class=\"dni-plaintext\">35.55293</div></td><td><div class=\"dni-plaintext\">1087.0</div></td></tr><tr><td>8</td><td><div class=\"dni-plaintext\">S14028</div></td><td><div class=\"dni-plaintext\">二ツ橋店</div></td><td><div class=\"dni-plaintext\">14</div></td><td><div class=\"dni-plaintext\">神奈川県</div></td><td><div class=\"dni-plaintext\">神奈川県横浜市瀬谷区二ツ橋町</div></td><td><div class=\"dni-plaintext\">カナガワケンヨコハマシセヤクフタツバシチョウ</div></td><td><div class=\"dni-plaintext\">045-123-4042</div></td><td><div class=\"dni-plaintext\">139.4963</div></td><td><div class=\"dni-plaintext\">35.46304</div></td><td><div class=\"dni-plaintext\">1574.0</div></td></tr><tr><td>9</td><td><div class=\"dni-plaintext\">S14012</div></td><td><div class=\"dni-plaintext\">本牧和田店</div></td><td><div class=\"dni-plaintext\">14</div></td><td><div class=\"dni-plaintext\">神奈川県</div></td><td><div class=\"dni-plaintext\">神奈川県横浜市中区本牧和田</div></td><td><div class=\"dni-plaintext\">カナガワケンヨコハマシナカクホンモクワダ</div></td><td><div class=\"dni-plaintext\">045-123-4034</div></td><td><div class=\"dni-plaintext\">139.6582</div></td><td><div class=\"dni-plaintext\">35.42156</div></td><td><div class=\"dni-plaintext\">1341.0</div></td></tr><tr><td>10</td><td><div class=\"dni-plaintext\">S14046</div></td><td><div class=\"dni-plaintext\">北山田店</div></td><td><div class=\"dni-plaintext\">14</div></td><td><div class=\"dni-plaintext\">神奈川県</div></td><td><div class=\"dni-plaintext\">神奈川県横浜市都筑区北山田一丁目</div></td><td><div class=\"dni-plaintext\">カナガワケンヨコハマシツヅキクキタヤマタイッチョウメ</div></td><td><div class=\"dni-plaintext\">045-123-4049</div></td><td><div class=\"dni-plaintext\">139.5916</div></td><td><div class=\"dni-plaintext\">35.56189</div></td><td><div class=\"dni-plaintext\">831.0</div></td></tr><tr><td>11</td><td><div class=\"dni-plaintext\">S14022</div></td><td><div class=\"dni-plaintext\">逗子店</div></td><td><div class=\"dni-plaintext\">14</div></td><td><div class=\"dni-plaintext\">神奈川県</div></td><td><div class=\"dni-plaintext\">神奈川県逗子市逗子一丁目</div></td><td><div class=\"dni-plaintext\">カナガワケンズシシズシイッチョウメ</div></td><td><div class=\"dni-plaintext\">046-123-4036</div></td><td><div class=\"dni-plaintext\">139.5789</div></td><td><div class=\"dni-plaintext\">35.29642</div></td><td><div class=\"dni-plaintext\">1838.0</div></td></tr><tr><td>12</td><td><div class=\"dni-plaintext\">S14011</div></td><td><div class=\"dni-plaintext\">日吉本町店</div></td><td><div class=\"dni-plaintext\">14</div></td><td><div class=\"dni-plaintext\">神奈川県</div></td><td><div class=\"dni-plaintext\">神奈川県横浜市港北区日吉本町四丁目</div></td><td><div class=\"dni-plaintext\">カナガワケンヨコハマシコウホククヒヨシホンチョウヨンチョウメ</div></td><td><div class=\"dni-plaintext\">045-123-4033</div></td><td><div class=\"dni-plaintext\">139.6316</div></td><td><div class=\"dni-plaintext\">35.54655</div></td><td><div class=\"dni-plaintext\">890.0</div></td></tr><tr><td>13</td><td><div class=\"dni-plaintext\">S13016</div></td><td><div class=\"dni-plaintext\">小金井店</div></td><td><div class=\"dni-plaintext\">13</div></td><td><div class=\"dni-plaintext\">東京都</div></td><td><div class=\"dni-plaintext\">東京都小金井市本町一丁目</div></td><td><div class=\"dni-plaintext\">トウキョウトコガネイシホンチョウイッチョウメ</div></td><td><div class=\"dni-plaintext\">042-123-4015</div></td><td><div class=\"dni-plaintext\">139.5094</div></td><td><div class=\"dni-plaintext\">35.70018</div></td><td><div class=\"dni-plaintext\">1399.0</div></td></tr><tr><td>14</td><td><div class=\"dni-plaintext\">S14034</div></td><td><div class=\"dni-plaintext\">川崎野川店</div></td><td><div class=\"dni-plaintext\">14</div></td><td><div class=\"dni-plaintext\">神奈川県</div></td><td><div class=\"dni-plaintext\">神奈川県川崎市宮前区野川</div></td><td><div class=\"dni-plaintext\">カナガワケンカワサキシミヤマエクノガワ</div></td><td><div class=\"dni-plaintext\">044-123-4044</div></td><td><div class=\"dni-plaintext\">139.5998</div></td><td><div class=\"dni-plaintext\">35.57693</div></td><td><div class=\"dni-plaintext\">1318.0</div></td></tr><tr><td>15</td><td><div class=\"dni-plaintext\">S14048</div></td><td><div class=\"dni-plaintext\">中川中央店</div></td><td><div class=\"dni-plaintext\">14</div></td><td><div class=\"dni-plaintext\">神奈川県</div></td><td><div class=\"dni-plaintext\">神奈川県横浜市都筑区中川中央二丁目</div></td><td><div class=\"dni-plaintext\">カナガワケンヨコハマシツヅキクナカガワチュウオウニチョウメ</div></td><td><div class=\"dni-plaintext\">045-123-4051</div></td><td><div class=\"dni-plaintext\">139.5758</div></td><td><div class=\"dni-plaintext\">35.54912</div></td><td><div class=\"dni-plaintext\">1657.0</div></td></tr><tr><td>16</td><td><div class=\"dni-plaintext\">S12007</div></td><td><div class=\"dni-plaintext\">佐倉店</div></td><td><div class=\"dni-plaintext\">12</div></td><td><div class=\"dni-plaintext\">千葉県</div></td><td><div class=\"dni-plaintext\">千葉県佐倉市上志津</div></td><td><div class=\"dni-plaintext\">チバケンサクラシカミシヅ</div></td><td><div class=\"dni-plaintext\">043-123-4001</div></td><td><div class=\"dni-plaintext\">140.1452</div></td><td><div class=\"dni-plaintext\">35.71872</div></td><td><div class=\"dni-plaintext\">1895.0</div></td></tr><tr><td>17</td><td><div class=\"dni-plaintext\">S14026</div></td><td><div class=\"dni-plaintext\">辻堂西海岸店</div></td><td><div class=\"dni-plaintext\">14</div></td><td><div class=\"dni-plaintext\">神奈川県</div></td><td><div class=\"dni-plaintext\">神奈川県藤沢市辻堂西海岸二丁目</div></td><td><div class=\"dni-plaintext\">カナガワケンフジサワシツジドウニシカイガンニチョウメ</div></td><td><div class=\"dni-plaintext\">046-123-4040</div></td><td><div class=\"dni-plaintext\">139.4466</div></td><td><div class=\"dni-plaintext\">35.32464</div></td><td><div class=\"dni-plaintext\">1732.0</div></td></tr><tr><td>18</td><td><div class=\"dni-plaintext\">S13041</div></td><td><div class=\"dni-plaintext\">八王子店</div></td><td><div class=\"dni-plaintext\">13</div></td><td><div class=\"dni-plaintext\">東京都</div></td><td><div class=\"dni-plaintext\">東京都八王子市大塚</div></td><td><div class=\"dni-plaintext\">トウキョウトハチオウジシオオツカ</div></td><td><div class=\"dni-plaintext\">042-123-4026</div></td><td><div class=\"dni-plaintext\">139.4235</div></td><td><div class=\"dni-plaintext\">35.63787</div></td><td><div class=\"dni-plaintext\">810.0</div></td></tr><tr><td>19</td><td><div class=\"dni-plaintext\">S14049</div></td><td><div class=\"dni-plaintext\">川崎大師店</div></td><td><div class=\"dni-plaintext\">14</div></td><td><div class=\"dni-plaintext\">神奈川県</div></td><td><div class=\"dni-plaintext\">神奈川県川崎市川崎区中瀬三丁目</div></td><td><div class=\"dni-plaintext\">カナガワケンカワサキシカワサキクナカゼサンチョウメ</div></td><td><div class=\"dni-plaintext\">044-123-4052</div></td><td><div class=\"dni-plaintext\">139.7327</div></td><td><div class=\"dni-plaintext\">35.53759</div></td><td><div class=\"dni-plaintext\">962.0</div></td></tr><tr><td>20</td><td><div class=\"dni-plaintext\">S14023</div></td><td><div class=\"dni-plaintext\">川崎店</div></td><td><div class=\"dni-plaintext\">14</div></td><td><div class=\"dni-plaintext\">神奈川県</div></td><td><div class=\"dni-plaintext\">神奈川県川崎市川崎区本町二丁目</div></td><td><div class=\"dni-plaintext\">カナガワケンカワサキシカワサキクホンチョウニチョウメ</div></td><td><div class=\"dni-plaintext\">044-123-4037</div></td><td><div class=\"dni-plaintext\">139.7028</div></td><td><div class=\"dni-plaintext\">35.53599</div></td><td><div class=\"dni-plaintext\">1804.0</div></td></tr><tr><td>21</td><td><div class=\"dni-plaintext\">S13018</div></td><td><div class=\"dni-plaintext\">清瀬店</div></td><td><div class=\"dni-plaintext\">13</div></td><td><div class=\"dni-plaintext\">東京都</div></td><td><div class=\"dni-plaintext\">東京都清瀬市松山一丁目</div></td><td><div class=\"dni-plaintext\">トウキョウトキヨセシマツヤマイッチョウメ</div></td><td><div class=\"dni-plaintext\">042-123-4017</div></td><td><div class=\"dni-plaintext\">139.5178</div></td><td><div class=\"dni-plaintext\">35.76885</div></td><td><div class=\"dni-plaintext\">1220.0</div></td></tr><tr><td>22</td><td><div class=\"dni-plaintext\">S14027</div></td><td><div class=\"dni-plaintext\">南藤沢店</div></td><td><div class=\"dni-plaintext\">14</div></td><td><div class=\"dni-plaintext\">神奈川県</div></td><td><div class=\"dni-plaintext\">神奈川県藤沢市南藤沢</div></td><td><div class=\"dni-plaintext\">カナガワケンフジサワシミナミフジサワ</div></td><td><div class=\"dni-plaintext\">046-123-4041</div></td><td><div class=\"dni-plaintext\">139.4896</div></td><td><div class=\"dni-plaintext\">35.33762</div></td><td><div class=\"dni-plaintext\">1521.0</div></td></tr><tr><td>23</td><td><div class=\"dni-plaintext\">S14021</div></td><td><div class=\"dni-plaintext\">伊勢原店</div></td><td><div class=\"dni-plaintext\">14</div></td><td><div class=\"dni-plaintext\">神奈川県</div></td><td><div class=\"dni-plaintext\">神奈川県伊勢原市伊勢原四丁目</div></td><td><div class=\"dni-plaintext\">カナガワケンイセハラシイセハラヨンチョウメ</div></td><td><div class=\"dni-plaintext\">046-123-4035</div></td><td><div class=\"dni-plaintext\">139.3129</div></td><td><div class=\"dni-plaintext\">35.40169</div></td><td><div class=\"dni-plaintext\">962.0</div></td></tr><tr><td>24</td><td><div class=\"dni-plaintext\">S14047</div></td><td><div class=\"dni-plaintext\">相模原店</div></td><td><div class=\"dni-plaintext\">14</div></td><td><div class=\"dni-plaintext\">神奈川県</div></td><td><div class=\"dni-plaintext\">神奈川県相模原市千代田六丁目</div></td><td><div class=\"dni-plaintext\">カナガワケンサガミハラシチヨダロクチョウメ</div></td><td><div class=\"dni-plaintext\">042-123-4050</div></td><td><div class=\"dni-plaintext\">139.3748</div></td><td><div class=\"dni-plaintext\">35.55959</div></td><td><div class=\"dni-plaintext\">1047.0</div></td></tr><tr><td>25</td><td><div class=\"dni-plaintext\">S12013</div></td><td><div class=\"dni-plaintext\">習志野店</div></td><td><div class=\"dni-plaintext\">12</div></td><td><div class=\"dni-plaintext\">千葉県</div></td><td><div class=\"dni-plaintext\">千葉県習志野市芝園一丁目</div></td><td><div class=\"dni-plaintext\">チバケンナラシノシシバゾノイッチョウメ</div></td><td><div class=\"dni-plaintext\">047-123-4002</div></td><td><div class=\"dni-plaintext\">140.022</div></td><td><div class=\"dni-plaintext\">35.66122</div></td><td><div class=\"dni-plaintext\">808.0</div></td></tr><tr><td>26</td><td><div class=\"dni-plaintext\">S14042</div></td><td><div class=\"dni-plaintext\">新山下店</div></td><td><div class=\"dni-plaintext\">14</div></td><td><div class=\"dni-plaintext\">神奈川県</div></td><td><div class=\"dni-plaintext\">神奈川県横浜市中区新山下二丁目</div></td><td><div class=\"dni-plaintext\">カナガワケンヨコハマシナカクシンヤマシタニチョウメ</div></td><td><div class=\"dni-plaintext\">045-123-4047</div></td><td><div class=\"dni-plaintext\">139.6593</div></td><td><div class=\"dni-plaintext\">35.43894</div></td><td><div class=\"dni-plaintext\">1044.0</div></td></tr><tr><td>27</td><td><div class=\"dni-plaintext\">S12030</div></td><td><div class=\"dni-plaintext\">八幡店</div></td><td><div class=\"dni-plaintext\">12</div></td><td><div class=\"dni-plaintext\">千葉県</div></td><td><div class=\"dni-plaintext\">千葉県市川市八幡三丁目</div></td><td><div class=\"dni-plaintext\">チバケンイチカワシヤワタサンチョウメ</div></td><td><div class=\"dni-plaintext\">047-123-4005</div></td><td><div class=\"dni-plaintext\">139.924</div></td><td><div class=\"dni-plaintext\">35.72318</div></td><td><div class=\"dni-plaintext\">1162.0</div></td></tr><tr><td>28</td><td><div class=\"dni-plaintext\">S14025</div></td><td><div class=\"dni-plaintext\">大和店</div></td><td><div class=\"dni-plaintext\">14</div></td><td><div class=\"dni-plaintext\">神奈川県</div></td><td><div class=\"dni-plaintext\">神奈川県大和市下和田</div></td><td><div class=\"dni-plaintext\">カナガワケンヤマトシシモワダ</div></td><td><div class=\"dni-plaintext\">046-123-4039</div></td><td><div class=\"dni-plaintext\">139.468</div></td><td><div class=\"dni-plaintext\">35.43414</div></td><td><div class=\"dni-plaintext\">1011.0</div></td></tr><tr><td>29</td><td><div class=\"dni-plaintext\">S14045</div></td><td><div class=\"dni-plaintext\">厚木店</div></td><td><div class=\"dni-plaintext\">14</div></td><td><div class=\"dni-plaintext\">神奈川県</div></td><td><div class=\"dni-plaintext\">神奈川県厚木市中町二丁目</div></td><td><div class=\"dni-plaintext\">カナガワケンアツギシナカチョウニチョウメ</div></td><td><div class=\"dni-plaintext\">046-123-4048</div></td><td><div class=\"dni-plaintext\">139.3651</div></td><td><div class=\"dni-plaintext\">35.44182</div></td><td><div class=\"dni-plaintext\">980.0</div></td></tr><tr><td>30</td><td><div class=\"dni-plaintext\">S12029</div></td><td><div class=\"dni-plaintext\">東野店</div></td><td><div class=\"dni-plaintext\">12</div></td><td><div class=\"dni-plaintext\">千葉県</div></td><td><div class=\"dni-plaintext\">千葉県浦安市東野一丁目</div></td><td><div class=\"dni-plaintext\">チバケンウラヤスシヒガシノイッチョウメ</div></td><td><div class=\"dni-plaintext\">047-123-4004</div></td><td><div class=\"dni-plaintext\">139.8968</div></td><td><div class=\"dni-plaintext\">35.65086</div></td><td><div class=\"dni-plaintext\">1101.0</div></td></tr><tr><td>31</td><td><div class=\"dni-plaintext\">S12053</div></td><td><div class=\"dni-plaintext\">高洲店</div></td><td><div class=\"dni-plaintext\">12</div></td><td><div class=\"dni-plaintext\">千葉県</div></td><td><div class=\"dni-plaintext\">千葉県浦安市高洲五丁目</div></td><td><div class=\"dni-plaintext\">チバケンウラヤスシタカスゴチョウメ</div></td><td><div class=\"dni-plaintext\">047-123-4006</div></td><td><div class=\"dni-plaintext\">139.9176</div></td><td><div class=\"dni-plaintext\">35.63755</div></td><td><div class=\"dni-plaintext\">1555.0</div></td></tr><tr><td>32</td><td><div class=\"dni-plaintext\">S14024</div></td><td><div class=\"dni-plaintext\">三田店</div></td><td><div class=\"dni-plaintext\">14</div></td><td><div class=\"dni-plaintext\">神奈川県</div></td><td><div class=\"dni-plaintext\">神奈川県川崎市多摩区三田四丁目</div></td><td><div class=\"dni-plaintext\">カナガワケンカワサキシタマクミタヨンチョウメ</div></td><td><div class=\"dni-plaintext\">044-123-4038</div></td><td><div class=\"dni-plaintext\">139.5424</div></td><td><div class=\"dni-plaintext\">35.6077</div></td><td><div class=\"dni-plaintext\">972.0</div></td></tr><tr><td>33</td><td><div class=\"dni-plaintext\">S14006</div></td><td><div class=\"dni-plaintext\">葛が谷店</div></td><td><div class=\"dni-plaintext\">14</div></td><td><div class=\"dni-plaintext\">神奈川県</div></td><td><div class=\"dni-plaintext\">神奈川県横浜市都筑区葛が谷</div></td><td><div class=\"dni-plaintext\">カナガワケンヨコハマシツヅキククズガヤ</div></td><td><div class=\"dni-plaintext\">045-123-4031</div></td><td><div class=\"dni-plaintext\">139.5633</div></td><td><div class=\"dni-plaintext\">35.53573</div></td><td><div class=\"dni-plaintext\">1886.0</div></td></tr></tbody></table>"
      ]
     },
     "metadata": {},
     "output_type": "display_data"
    }
   ],
   "source": [
    "\n",
    "Formatter.ListExpansionLimit = int.MaxValue; // 全データを表示するために制限解除\n",
    "\n",
    "display(df_store.Where(r => Regex.IsMatch(r.tel_no, \"^[0-9]{3}-[0-9]{3}-[0-9]{4}$\")));\n",
    "    \n",
    "Formatter.ListExpansionLimit = 20; // データ表示件数の制限\n"
   ]
  },
  {
   "cell_type": "markdown",
   "metadata": {},
   "source": [
    "---\n",
    "> P-17: 顧客データフレーム（df_customer）を生年月日（birth_day）で高齢順にソートし、先頭10件を全項目表示せよ。"
   ]
  },
  {
   "cell_type": "code",
   "execution_count": 21,
   "metadata": {
    "dotnet_interactive": {
     "language": "csharp"
    }
   },
   "outputs": [
    {
     "data": {
      "text/html": [
       "<table><thead><tr><th><i>index</i></th><th>customer_id</th><th>customer_name</th><th>gender_cd</th><th>gender</th><th>birth_day</th><th>age</th><th>postal_cd</th><th>address</th><th>application_store_cd</th><th>application_date</th><th>status_cd</th></tr></thead><tbody><tr><td>0</td><td><div class=\"dni-plaintext\">CS003813000014</div></td><td><div class=\"dni-plaintext\">村山 菜々美</div></td><td><div class=\"dni-plaintext\">1</div></td><td><div class=\"dni-plaintext\">女性</div></td><td><span>1928-11-26</span></td><td><div class=\"dni-plaintext\">90</div></td><td><div class=\"dni-plaintext\">182-0007</div></td><td><div class=\"dni-plaintext\">東京都調布市菊野台**********</div></td><td><div class=\"dni-plaintext\">S13003</div></td><td><div class=\"dni-plaintext\">20160214</div></td><td><div class=\"dni-plaintext\">0-00000000-0</div></td></tr><tr><td>1</td><td><div class=\"dni-plaintext\">CS026813000004</div></td><td><div class=\"dni-plaintext\">吉村 朝陽</div></td><td><div class=\"dni-plaintext\">1</div></td><td><div class=\"dni-plaintext\">女性</div></td><td><span>1928-12-14</span></td><td><div class=\"dni-plaintext\">90</div></td><td><div class=\"dni-plaintext\">251-0043</div></td><td><div class=\"dni-plaintext\">神奈川県藤沢市辻堂元町**********</div></td><td><div class=\"dni-plaintext\">S14026</div></td><td><div class=\"dni-plaintext\">20150723</div></td><td><div class=\"dni-plaintext\">0-00000000-0</div></td></tr><tr><td>2</td><td><div class=\"dni-plaintext\">CS018811000003</div></td><td><div class=\"dni-plaintext\">熊沢 美里</div></td><td><div class=\"dni-plaintext\">1</div></td><td><div class=\"dni-plaintext\">女性</div></td><td><span>1929-01-07</span></td><td><div class=\"dni-plaintext\">90</div></td><td><div class=\"dni-plaintext\">204-0004</div></td><td><div class=\"dni-plaintext\">東京都清瀬市野塩**********</div></td><td><div class=\"dni-plaintext\">S13018</div></td><td><div class=\"dni-plaintext\">20150403</div></td><td><div class=\"dni-plaintext\">0-00000000-0</div></td></tr><tr><td>3</td><td><div class=\"dni-plaintext\">CS027803000004</div></td><td><div class=\"dni-plaintext\">内村 拓郎</div></td><td><div class=\"dni-plaintext\">0</div></td><td><div class=\"dni-plaintext\">男性</div></td><td><span>1929-01-12</span></td><td><div class=\"dni-plaintext\">90</div></td><td><div class=\"dni-plaintext\">251-0031</div></td><td><div class=\"dni-plaintext\">神奈川県藤沢市鵠沼藤が谷**********</div></td><td><div class=\"dni-plaintext\">S14027</div></td><td><div class=\"dni-plaintext\">20151227</div></td><td><div class=\"dni-plaintext\">0-00000000-0</div></td></tr><tr><td>4</td><td><div class=\"dni-plaintext\">CS013801000003</div></td><td><div class=\"dni-plaintext\">天野 拓郎</div></td><td><div class=\"dni-plaintext\">0</div></td><td><div class=\"dni-plaintext\">男性</div></td><td><span>1929-01-15</span></td><td><div class=\"dni-plaintext\">90</div></td><td><div class=\"dni-plaintext\">274-0824</div></td><td><div class=\"dni-plaintext\">千葉県船橋市前原東**********</div></td><td><div class=\"dni-plaintext\">S12013</div></td><td><div class=\"dni-plaintext\">20160120</div></td><td><div class=\"dni-plaintext\">0-00000000-0</div></td></tr><tr><td>5</td><td><div class=\"dni-plaintext\">CS001814000022</div></td><td><div class=\"dni-plaintext\">鶴田 里穂</div></td><td><div class=\"dni-plaintext\">1</div></td><td><div class=\"dni-plaintext\">女性</div></td><td><span>1929-01-28</span></td><td><div class=\"dni-plaintext\">90</div></td><td><div class=\"dni-plaintext\">144-0045</div></td><td><div class=\"dni-plaintext\">東京都大田区南六郷**********</div></td><td><div class=\"dni-plaintext\">S13001</div></td><td><div class=\"dni-plaintext\">20161012</div></td><td><div class=\"dni-plaintext\">A-20090415-7</div></td></tr><tr><td>6</td><td><div class=\"dni-plaintext\">CS016815000002</div></td><td><div class=\"dni-plaintext\">山元 美紀</div></td><td><div class=\"dni-plaintext\">1</div></td><td><div class=\"dni-plaintext\">女性</div></td><td><span>1929-02-22</span></td><td><div class=\"dni-plaintext\">90</div></td><td><div class=\"dni-plaintext\">184-0005</div></td><td><div class=\"dni-plaintext\">東京都小金井市桜町**********</div></td><td><div class=\"dni-plaintext\">S13016</div></td><td><div class=\"dni-plaintext\">20150629</div></td><td><div class=\"dni-plaintext\">C-20090923-C</div></td></tr><tr><td>7</td><td><div class=\"dni-plaintext\">CS009815000003</div></td><td><div class=\"dni-plaintext\">中田 里穂</div></td><td><div class=\"dni-plaintext\">1</div></td><td><div class=\"dni-plaintext\">女性</div></td><td><span>1929-04-08</span></td><td><div class=\"dni-plaintext\">89</div></td><td><div class=\"dni-plaintext\">154-0014</div></td><td><div class=\"dni-plaintext\">東京都世田谷区新町**********</div></td><td><div class=\"dni-plaintext\">S13009</div></td><td><div class=\"dni-plaintext\">20150421</div></td><td><div class=\"dni-plaintext\">D-20091021-E</div></td></tr><tr><td>8</td><td><div class=\"dni-plaintext\">CS012813000013</div></td><td><div class=\"dni-plaintext\">宇野 南朋</div></td><td><div class=\"dni-plaintext\">1</div></td><td><div class=\"dni-plaintext\">女性</div></td><td><span>1929-04-09</span></td><td><div class=\"dni-plaintext\">89</div></td><td><div class=\"dni-plaintext\">231-0806</div></td><td><div class=\"dni-plaintext\">神奈川県横浜市中区本牧町**********</div></td><td><div class=\"dni-plaintext\">S14012</div></td><td><div class=\"dni-plaintext\">20150712</div></td><td><div class=\"dni-plaintext\">0-00000000-0</div></td></tr><tr><td>9</td><td><div class=\"dni-plaintext\">CS005813000015</div></td><td><div class=\"dni-plaintext\">金谷 恵梨香</div></td><td><div class=\"dni-plaintext\">1</div></td><td><div class=\"dni-plaintext\">女性</div></td><td><span>1929-04-09</span></td><td><div class=\"dni-plaintext\">89</div></td><td><div class=\"dni-plaintext\">165-0032</div></td><td><div class=\"dni-plaintext\">東京都中野区鷺宮**********</div></td><td><div class=\"dni-plaintext\">S13005</div></td><td><div class=\"dni-plaintext\">20150506</div></td><td><div class=\"dni-plaintext\">0-00000000-0</div></td></tr></tbody></table>"
      ]
     },
     "execution_count": 21,
     "metadata": {},
     "output_type": "execute_result"
    }
   ],
   "source": [
    "df_customer.OrderBy(r => r.birth_day).Take(10)"
   ]
  },
  {
   "cell_type": "markdown",
   "metadata": {},
   "source": [
    "---\n",
    "> P-18: 顧客データフレーム（df_customer）を生年月日（birth_day）で若い順にソートし、先頭10件を全項目表示せよ。"
   ]
  },
  {
   "cell_type": "code",
   "execution_count": 22,
   "metadata": {
    "dotnet_interactive": {
     "language": "csharp"
    }
   },
   "outputs": [
    {
     "data": {
      "text/html": [
       "<table><thead><tr><th><i>index</i></th><th>customer_id</th><th>customer_name</th><th>gender_cd</th><th>gender</th><th>birth_day</th><th>age</th><th>postal_cd</th><th>address</th><th>application_store_cd</th><th>application_date</th><th>status_cd</th></tr></thead><tbody><tr><td>0</td><td><div class=\"dni-plaintext\">CS035114000004</div></td><td><div class=\"dni-plaintext\">大村 美里</div></td><td><div class=\"dni-plaintext\">1</div></td><td><div class=\"dni-plaintext\">女性</div></td><td><span>2007-11-25</span></td><td><div class=\"dni-plaintext\">11</div></td><td><div class=\"dni-plaintext\">156-0053</div></td><td><div class=\"dni-plaintext\">東京都世田谷区桜**********</div></td><td><div class=\"dni-plaintext\">S13035</div></td><td><div class=\"dni-plaintext\">20150619</div></td><td><div class=\"dni-plaintext\">6-20091205-6</div></td></tr><tr><td>1</td><td><div class=\"dni-plaintext\">CS022103000002</div></td><td><div class=\"dni-plaintext\">福山 はじめ</div></td><td><div class=\"dni-plaintext\">9</div></td><td><div class=\"dni-plaintext\">不明</div></td><td><span>2007-10-02</span></td><td><div class=\"dni-plaintext\">11</div></td><td><div class=\"dni-plaintext\">249-0006</div></td><td><div class=\"dni-plaintext\">神奈川県逗子市逗子**********</div></td><td><div class=\"dni-plaintext\">S14022</div></td><td><div class=\"dni-plaintext\">20160909</div></td><td><div class=\"dni-plaintext\">0-00000000-0</div></td></tr><tr><td>2</td><td><div class=\"dni-plaintext\">CS002113000009</div></td><td><div class=\"dni-plaintext\">柴田 真悠子</div></td><td><div class=\"dni-plaintext\">1</div></td><td><div class=\"dni-plaintext\">女性</div></td><td><span>2007-09-17</span></td><td><div class=\"dni-plaintext\">11</div></td><td><div class=\"dni-plaintext\">184-0014</div></td><td><div class=\"dni-plaintext\">東京都小金井市貫井南町**********</div></td><td><div class=\"dni-plaintext\">S13002</div></td><td><div class=\"dni-plaintext\">20160304</div></td><td><div class=\"dni-plaintext\">0-00000000-0</div></td></tr><tr><td>3</td><td><div class=\"dni-plaintext\">CS004115000014</div></td><td><div class=\"dni-plaintext\">松井 京子</div></td><td><div class=\"dni-plaintext\">1</div></td><td><div class=\"dni-plaintext\">女性</div></td><td><span>2007-08-09</span></td><td><div class=\"dni-plaintext\">11</div></td><td><div class=\"dni-plaintext\">165-0031</div></td><td><div class=\"dni-plaintext\">東京都中野区上鷺宮**********</div></td><td><div class=\"dni-plaintext\">S13004</div></td><td><div class=\"dni-plaintext\">20161120</div></td><td><div class=\"dni-plaintext\">1-20081231-1</div></td></tr><tr><td>4</td><td><div class=\"dni-plaintext\">CS002114000010</div></td><td><div class=\"dni-plaintext\">山内 遥</div></td><td><div class=\"dni-plaintext\">1</div></td><td><div class=\"dni-plaintext\">女性</div></td><td><span>2007-06-03</span></td><td><div class=\"dni-plaintext\">11</div></td><td><div class=\"dni-plaintext\">184-0015</div></td><td><div class=\"dni-plaintext\">東京都小金井市貫井北町**********</div></td><td><div class=\"dni-plaintext\">S13002</div></td><td><div class=\"dni-plaintext\">20160920</div></td><td><div class=\"dni-plaintext\">6-20100510-1</div></td></tr><tr><td>5</td><td><div class=\"dni-plaintext\">CS025115000002</div></td><td><div class=\"dni-plaintext\">小柳 夏希</div></td><td><div class=\"dni-plaintext\">1</div></td><td><div class=\"dni-plaintext\">女性</div></td><td><span>2007-04-18</span></td><td><div class=\"dni-plaintext\">11</div></td><td><div class=\"dni-plaintext\">245-0018</div></td><td><div class=\"dni-plaintext\">神奈川県横浜市泉区上飯田町**********</div></td><td><div class=\"dni-plaintext\">S14025</div></td><td><div class=\"dni-plaintext\">20160116</div></td><td><div class=\"dni-plaintext\">D-20100913-D</div></td></tr><tr><td>6</td><td><div class=\"dni-plaintext\">CS002113000025</div></td><td><div class=\"dni-plaintext\">広末 まなみ</div></td><td><div class=\"dni-plaintext\">1</div></td><td><div class=\"dni-plaintext\">女性</div></td><td><span>2007-03-30</span></td><td><div class=\"dni-plaintext\">12</div></td><td><div class=\"dni-plaintext\">184-0015</div></td><td><div class=\"dni-plaintext\">東京都小金井市貫井北町**********</div></td><td><div class=\"dni-plaintext\">S13002</div></td><td><div class=\"dni-plaintext\">20171030</div></td><td><div class=\"dni-plaintext\">0-00000000-0</div></td></tr><tr><td>7</td><td><div class=\"dni-plaintext\">CS033112000003</div></td><td><div class=\"dni-plaintext\">長野 美紀</div></td><td><div class=\"dni-plaintext\">1</div></td><td><div class=\"dni-plaintext\">女性</div></td><td><span>2007-03-22</span></td><td><div class=\"dni-plaintext\">12</div></td><td><div class=\"dni-plaintext\">245-0051</div></td><td><div class=\"dni-plaintext\">神奈川県横浜市戸塚区名瀬町**********</div></td><td><div class=\"dni-plaintext\">S14033</div></td><td><div class=\"dni-plaintext\">20150606</div></td><td><div class=\"dni-plaintext\">0-00000000-0</div></td></tr><tr><td>8</td><td><div class=\"dni-plaintext\">CS007115000006</div></td><td><div class=\"dni-plaintext\">福岡 瞬</div></td><td><div class=\"dni-plaintext\">1</div></td><td><div class=\"dni-plaintext\">女性</div></td><td><span>2007-03-10</span></td><td><div class=\"dni-plaintext\">12</div></td><td><div class=\"dni-plaintext\">285-0845</div></td><td><div class=\"dni-plaintext\">千葉県佐倉市西志津**********</div></td><td><div class=\"dni-plaintext\">S12007</div></td><td><div class=\"dni-plaintext\">20151118</div></td><td><div class=\"dni-plaintext\">F-20101016-F</div></td></tr><tr><td>9</td><td><div class=\"dni-plaintext\">CS014113000008</div></td><td><div class=\"dni-plaintext\">矢口 莉緒</div></td><td><div class=\"dni-plaintext\">1</div></td><td><div class=\"dni-plaintext\">女性</div></td><td><span>2007-03-05</span></td><td><div class=\"dni-plaintext\">12</div></td><td><div class=\"dni-plaintext\">260-0041</div></td><td><div class=\"dni-plaintext\">千葉県千葉市中央区東千葉**********</div></td><td><div class=\"dni-plaintext\">S12014</div></td><td><div class=\"dni-plaintext\">20150622</div></td><td><div class=\"dni-plaintext\">3-20091108-6</div></td></tr></tbody></table>"
      ]
     },
     "execution_count": 22,
     "metadata": {},
     "output_type": "execute_result"
    }
   ],
   "source": [
    "df_customer.OrderByDescending(r => r.birth_day).Take(10)"
   ]
  },
  {
   "cell_type": "markdown",
   "metadata": {},
   "source": [
    "---\n",
    "> P-19: レシート明細データフレーム（df_receipt）に対し、1件あたりの売上金額（amount）が高い順にランクを付与し、先頭10件を抽出せよ。項目は顧客ID（customer_id）、売上金額（amount）、付与したランクを表示させること。なお、売上金額（amount）が等しい場合は同一順位を付与するものとする。"
   ]
  },
  {
   "cell_type": "code",
   "execution_count": 23,
   "metadata": {
    "dotnet_interactive": {
     "language": "csharp"
    }
   },
   "outputs": [
    {
     "data": {
      "text/html": [
       "<table><thead><tr><th><i>index</i></th><th>customer_id</th><th>amount</th><th>ranking</th></tr></thead><tbody><tr><td>0</td><td><div class=\"dni-plaintext\">CS011415000006</div></td><td><div class=\"dni-plaintext\">10925</div></td><td><div class=\"dni-plaintext\">1</div></td></tr><tr><td>1</td><td><div class=\"dni-plaintext\">ZZ000000000000</div></td><td><div class=\"dni-plaintext\">6800</div></td><td><div class=\"dni-plaintext\">2</div></td></tr><tr><td>2</td><td><div class=\"dni-plaintext\">CS028605000002</div></td><td><div class=\"dni-plaintext\">5780</div></td><td><div class=\"dni-plaintext\">3</div></td></tr><tr><td>3</td><td><div class=\"dni-plaintext\">CS015515000034</div></td><td><div class=\"dni-plaintext\">5480</div></td><td><div class=\"dni-plaintext\">4</div></td></tr><tr><td>4</td><td><div class=\"dni-plaintext\">ZZ000000000000</div></td><td><div class=\"dni-plaintext\">5480</div></td><td><div class=\"dni-plaintext\">4</div></td></tr><tr><td>5</td><td><div class=\"dni-plaintext\">ZZ000000000000</div></td><td><div class=\"dni-plaintext\">5480</div></td><td><div class=\"dni-plaintext\">4</div></td></tr><tr><td>6</td><td><div class=\"dni-plaintext\">ZZ000000000000</div></td><td><div class=\"dni-plaintext\">5440</div></td><td><div class=\"dni-plaintext\">7</div></td></tr><tr><td>7</td><td><div class=\"dni-plaintext\">CS021515000089</div></td><td><div class=\"dni-plaintext\">5440</div></td><td><div class=\"dni-plaintext\">7</div></td></tr><tr><td>8</td><td><div class=\"dni-plaintext\">CS015515000083</div></td><td><div class=\"dni-plaintext\">5280</div></td><td><div class=\"dni-plaintext\">9</div></td></tr><tr><td>9</td><td><div class=\"dni-plaintext\">CS017414000114</div></td><td><div class=\"dni-plaintext\">5280</div></td><td><div class=\"dni-plaintext\">9</div></td></tr></tbody></table>"
      ]
     },
     "execution_count": 23,
     "metadata": {},
     "output_type": "execute_result"
    }
   ],
   "source": [
    "// 小さい順に並び替えたランキングを計算。同じ値の場合は同じランキングにする\n",
    "var amount_rank = df_receipt.OrderByDescending(r => r.amount ?? 0)\n",
    "                .Select((r, index) => new { rank = index + 1, amount = r.amount ?? 0 })\n",
    "                .GroupBy(r => r.amount, r => r.rank,\n",
    "                    (amount, rankList) => new { amount = amount, rank = rankList.Min()})\n",
    "                .ToDictionary(r => r.amount);\n",
    "\n",
    "// 上記で計算した amount -> ranking の 値を参照する\n",
    "df_receipt.Select( r => new { r.customer_id, r.amount, ranking = amount_rank[r.amount ?? 0].rank})\n",
    "    .OrderBy(r => r.ranking).Take(10)"
   ]
  },
  {
   "cell_type": "markdown",
   "metadata": {},
   "source": [
    "---\n",
    "> P-020: レシート明細データフレーム（df_receipt）に対し、1件あたりの売上金額（amount）が高い順にランクを付与し、先頭10件を抽出せよ。項目は顧客ID（customer_id）、売上金額（amount）、付与したランクを表示させること。なお、売上金額（amount）が等しい場合でも別順位を付与すること。"
   ]
  },
  {
   "cell_type": "code",
   "execution_count": 24,
   "metadata": {
    "dotnet_interactive": {
     "language": "csharp"
    }
   },
   "outputs": [
    {
     "data": {
      "text/html": [
       "<table><thead><tr><th><i>index</i></th><th>customer_id</th><th>amount</th><th>ranking</th></tr></thead><tbody><tr><td>0</td><td><div class=\"dni-plaintext\">CS011415000006</div></td><td><div class=\"dni-plaintext\">10925</div></td><td><div class=\"dni-plaintext\">1</div></td></tr><tr><td>1</td><td><div class=\"dni-plaintext\">ZZ000000000000</div></td><td><div class=\"dni-plaintext\">6800</div></td><td><div class=\"dni-plaintext\">2</div></td></tr><tr><td>2</td><td><div class=\"dni-plaintext\">CS028605000002</div></td><td><div class=\"dni-plaintext\">5780</div></td><td><div class=\"dni-plaintext\">3</div></td></tr><tr><td>3</td><td><div class=\"dni-plaintext\">CS015515000034</div></td><td><div class=\"dni-plaintext\">5480</div></td><td><div class=\"dni-plaintext\">4</div></td></tr><tr><td>4</td><td><div class=\"dni-plaintext\">ZZ000000000000</div></td><td><div class=\"dni-plaintext\">5480</div></td><td><div class=\"dni-plaintext\">5</div></td></tr><tr><td>5</td><td><div class=\"dni-plaintext\">ZZ000000000000</div></td><td><div class=\"dni-plaintext\">5480</div></td><td><div class=\"dni-plaintext\">6</div></td></tr><tr><td>6</td><td><div class=\"dni-plaintext\">ZZ000000000000</div></td><td><div class=\"dni-plaintext\">5440</div></td><td><div class=\"dni-plaintext\">7</div></td></tr><tr><td>7</td><td><div class=\"dni-plaintext\">CS021515000089</div></td><td><div class=\"dni-plaintext\">5440</div></td><td><div class=\"dni-plaintext\">8</div></td></tr><tr><td>8</td><td><div class=\"dni-plaintext\">CS015515000083</div></td><td><div class=\"dni-plaintext\">5280</div></td><td><div class=\"dni-plaintext\">9</div></td></tr><tr><td>9</td><td><div class=\"dni-plaintext\">CS017414000114</div></td><td><div class=\"dni-plaintext\">5280</div></td><td><div class=\"dni-plaintext\">10</div></td></tr></tbody></table>"
      ]
     },
     "execution_count": 24,
     "metadata": {},
     "output_type": "execute_result"
    }
   ],
   "source": [
    "df_receipt.OrderByDescending(r => r.amount)\n",
    "    .Select((r,index) => new { r.customer_id, r.amount, ranking = index + 1})\n",
    "    .Take(10)"
   ]
  },
  {
   "cell_type": "markdown",
   "metadata": {},
   "source": [
    "---\n",
    "> P-021: レシート明細データフレーム（df_receipt）に対し、件数をカウントせよ。"
   ]
  },
  {
   "cell_type": "code",
   "execution_count": 25,
   "metadata": {
    "dotnet_interactive": {
     "language": "csharp"
    }
   },
   "outputs": [
    {
     "data": {
      "text/html": [
       "<div class=\"dni-plaintext\">104681</div>"
      ]
     },
     "execution_count": 25,
     "metadata": {},
     "output_type": "execute_result"
    }
   ],
   "source": [
    "df_receipt.Count"
   ]
  },
  {
   "cell_type": "markdown",
   "metadata": {},
   "source": [
    "---\n",
    "> P-022: レシート明細データフレーム（df_receipt）の顧客ID（customer_id）に対し、ユニーク件数をカウントせよ。"
   ]
  },
  {
   "cell_type": "code",
   "execution_count": 26,
   "metadata": {
    "dotnet_interactive": {
     "language": "csharp"
    }
   },
   "outputs": [
    {
     "data": {
      "text/html": [
       "<div class=\"dni-plaintext\">8307</div>"
      ]
     },
     "execution_count": 26,
     "metadata": {},
     "output_type": "execute_result"
    }
   ],
   "source": [
    "df_receipt.Select(r => r.customer_id).Distinct().Count()"
   ]
  },
  {
   "cell_type": "markdown",
   "metadata": {},
   "source": [
    "---\n",
    "> P-023: レシート明細データフレーム（df_receipt）に対し、店舗コード（store_cd）ごとに売上金額（amount）と売上数量（quantity）を合計せよ。"
   ]
  },
  {
   "cell_type": "code",
   "execution_count": 27,
   "metadata": {
    "dotnet_interactive": {
     "language": "csharp"
    }
   },
   "outputs": [
    {
     "data": {
      "text/html": [
       "<table><thead><tr><th><i>index</i></th><th>store_cd</th><th>sum_amount</th><th>sum_quantity</th></tr></thead><tbody><tr><td>0</td><td><div class=\"dni-plaintext\">S12007</div></td><td><div class=\"dni-plaintext\">638761</div></td><td><div class=\"dni-plaintext\">2099</div></td></tr><tr><td>1</td><td><div class=\"dni-plaintext\">S12013</div></td><td><div class=\"dni-plaintext\">787513</div></td><td><div class=\"dni-plaintext\">2425</div></td></tr><tr><td>2</td><td><div class=\"dni-plaintext\">S12014</div></td><td><div class=\"dni-plaintext\">725167</div></td><td><div class=\"dni-plaintext\">2358</div></td></tr><tr><td>3</td><td><div class=\"dni-plaintext\">S12029</div></td><td><div class=\"dni-plaintext\">794741</div></td><td><div class=\"dni-plaintext\">2555</div></td></tr><tr><td>4</td><td><div class=\"dni-plaintext\">S12030</div></td><td><div class=\"dni-plaintext\">684402</div></td><td><div class=\"dni-plaintext\">2403</div></td></tr><tr><td>5</td><td><div class=\"dni-plaintext\">S13001</div></td><td><div class=\"dni-plaintext\">811936</div></td><td><div class=\"dni-plaintext\">2347</div></td></tr><tr><td>6</td><td><div class=\"dni-plaintext\">S13002</div></td><td><div class=\"dni-plaintext\">727821</div></td><td><div class=\"dni-plaintext\">2340</div></td></tr><tr><td>7</td><td><div class=\"dni-plaintext\">S13003</div></td><td><div class=\"dni-plaintext\">764294</div></td><td><div class=\"dni-plaintext\">2197</div></td></tr><tr><td>8</td><td><div class=\"dni-plaintext\">S13004</div></td><td><div class=\"dni-plaintext\">779373</div></td><td><div class=\"dni-plaintext\">2390</div></td></tr><tr><td>9</td><td><div class=\"dni-plaintext\">S13005</div></td><td><div class=\"dni-plaintext\">629876</div></td><td><div class=\"dni-plaintext\">2004</div></td></tr><tr><td>10</td><td><div class=\"dni-plaintext\">S13008</div></td><td><div class=\"dni-plaintext\">809288</div></td><td><div class=\"dni-plaintext\">2491</div></td></tr><tr><td>11</td><td><div class=\"dni-plaintext\">S13009</div></td><td><div class=\"dni-plaintext\">808870</div></td><td><div class=\"dni-plaintext\">2486</div></td></tr><tr><td>12</td><td><div class=\"dni-plaintext\">S13015</div></td><td><div class=\"dni-plaintext\">780873</div></td><td><div class=\"dni-plaintext\">2248</div></td></tr><tr><td>13</td><td><div class=\"dni-plaintext\">S13016</div></td><td><div class=\"dni-plaintext\">793773</div></td><td><div class=\"dni-plaintext\">2432</div></td></tr><tr><td>14</td><td><div class=\"dni-plaintext\">S13017</div></td><td><div class=\"dni-plaintext\">748221</div></td><td><div class=\"dni-plaintext\">2376</div></td></tr><tr><td>15</td><td><div class=\"dni-plaintext\">S13018</div></td><td><div class=\"dni-plaintext\">790535</div></td><td><div class=\"dni-plaintext\">2562</div></td></tr><tr><td>16</td><td><div class=\"dni-plaintext\">S13019</div></td><td><div class=\"dni-plaintext\">827833</div></td><td><div class=\"dni-plaintext\">2541</div></td></tr><tr><td>17</td><td><div class=\"dni-plaintext\">S13020</div></td><td><div class=\"dni-plaintext\">796383</div></td><td><div class=\"dni-plaintext\">2383</div></td></tr><tr><td>18</td><td><div class=\"dni-plaintext\">S13031</div></td><td><div class=\"dni-plaintext\">705968</div></td><td><div class=\"dni-plaintext\">2336</div></td></tr><tr><td>19</td><td><div class=\"dni-plaintext\">S13032</div></td><td><div class=\"dni-plaintext\">790501</div></td><td><div class=\"dni-plaintext\">2491</div></td></tr><tr><td colspan=\"4\">(32 more)</td></tr></tbody></table>"
      ]
     },
     "execution_count": 27,
     "metadata": {},
     "output_type": "execute_result"
    }
   ],
   "source": [
    "//df_receipt.groupby('store_cd').agg({'amount':'sum', 'quantity':'sum'}).reset_index()\n",
    "df_receipt.GroupBy(r => r.store_cd)\n",
    "    .Select(r => new {\n",
    "        store_cd = r.Key,\n",
    "        sum_amount = r.Sum(t => t.amount ?? 0),\n",
    "        sum_quantity = r.Sum(t => t.quantity)\n",
    "    }).OrderBy(r => r.store_cd)"
   ]
  },
  {
   "cell_type": "markdown",
   "metadata": {},
   "source": [
    "---\n",
    "> P-024: レシート明細データフレーム（df_receipt）に対し、顧客ID（customer_id）ごとに最も新しい売上日（sales_ymd）を求め、10件表示せよ。"
   ]
  },
  {
   "cell_type": "code",
   "execution_count": 28,
   "metadata": {
    "dotnet_interactive": {
     "language": "csharp"
    }
   },
   "outputs": [
    {
     "data": {
      "text/html": [
       "<table><thead><tr><th><i>index</i></th><th>customer_id</th><th>sales_ymd</th></tr></thead><tbody><tr><td>0</td><td><div class=\"dni-plaintext\">CS001113000004</div></td><td><div class=\"dni-plaintext\">20190308</div></td></tr><tr><td>1</td><td><div class=\"dni-plaintext\">CS001114000005</div></td><td><div class=\"dni-plaintext\">20190731</div></td></tr><tr><td>2</td><td><div class=\"dni-plaintext\">CS001115000010</div></td><td><div class=\"dni-plaintext\">20190405</div></td></tr><tr><td>3</td><td><div class=\"dni-plaintext\">CS001205000004</div></td><td><div class=\"dni-plaintext\">20190625</div></td></tr><tr><td>4</td><td><div class=\"dni-plaintext\">CS001205000006</div></td><td><div class=\"dni-plaintext\">20190224</div></td></tr><tr><td>5</td><td><div class=\"dni-plaintext\">CS001211000025</div></td><td><div class=\"dni-plaintext\">20190322</div></td></tr><tr><td>6</td><td><div class=\"dni-plaintext\">CS001212000027</div></td><td><div class=\"dni-plaintext\">20170127</div></td></tr><tr><td>7</td><td><div class=\"dni-plaintext\">CS001212000031</div></td><td><div class=\"dni-plaintext\">20180906</div></td></tr><tr><td>8</td><td><div class=\"dni-plaintext\">CS001212000046</div></td><td><div class=\"dni-plaintext\">20170811</div></td></tr><tr><td>9</td><td><div class=\"dni-plaintext\">CS001212000070</div></td><td><div class=\"dni-plaintext\">20191018</div></td></tr></tbody></table>"
      ]
     },
     "execution_count": 28,
     "metadata": {},
     "output_type": "execute_result"
    }
   ],
   "source": [
    "df_receipt.GroupBy(r => r.customer_id).Select(r => new {customer_id = r.Key, sales_ymd = r.Max(t => t.sales_ymd)})\n",
    "    .OrderBy(r => r.customer_id).Take(10)"
   ]
  },
  {
   "cell_type": "markdown",
   "metadata": {},
   "source": [
    "---\n",
    "> P-025: レシート明細データフレーム（df_receipt）に対し、顧客ID（customer_id）ごとに最も古い売上日（sales_ymd）を求め、10件表示せよ。"
   ]
  },
  {
   "cell_type": "code",
   "execution_count": 29,
   "metadata": {
    "dotnet_interactive": {
     "language": "csharp"
    }
   },
   "outputs": [
    {
     "data": {
      "text/html": [
       "<table><thead><tr><th><i>index</i></th><th>customer_id</th><th>sales_ymd</th></tr></thead><tbody><tr><td>0</td><td><div class=\"dni-plaintext\">CS001113000004</div></td><td><div class=\"dni-plaintext\">20190308</div></td></tr><tr><td>1</td><td><div class=\"dni-plaintext\">CS001114000005</div></td><td><div class=\"dni-plaintext\">20180503</div></td></tr><tr><td>2</td><td><div class=\"dni-plaintext\">CS001115000010</div></td><td><div class=\"dni-plaintext\">20171228</div></td></tr><tr><td>3</td><td><div class=\"dni-plaintext\">CS001205000004</div></td><td><div class=\"dni-plaintext\">20170914</div></td></tr><tr><td>4</td><td><div class=\"dni-plaintext\">CS001205000006</div></td><td><div class=\"dni-plaintext\">20180207</div></td></tr><tr><td>5</td><td><div class=\"dni-plaintext\">CS001211000025</div></td><td><div class=\"dni-plaintext\">20190322</div></td></tr><tr><td>6</td><td><div class=\"dni-plaintext\">CS001212000027</div></td><td><div class=\"dni-plaintext\">20170127</div></td></tr><tr><td>7</td><td><div class=\"dni-plaintext\">CS001212000031</div></td><td><div class=\"dni-plaintext\">20180906</div></td></tr><tr><td>8</td><td><div class=\"dni-plaintext\">CS001212000046</div></td><td><div class=\"dni-plaintext\">20170811</div></td></tr><tr><td>9</td><td><div class=\"dni-plaintext\">CS001212000070</div></td><td><div class=\"dni-plaintext\">20191018</div></td></tr></tbody></table>"
      ]
     },
     "execution_count": 29,
     "metadata": {},
     "output_type": "execute_result"
    }
   ],
   "source": [
    "df_receipt.GroupBy(r => r.customer_id).Select(r => new {customer_id = r.Key, sales_ymd = r.Min(t => t.sales_ymd)})\n",
    "    .OrderBy(r => r.customer_id).Take(10)"
   ]
  },
  {
   "cell_type": "markdown",
   "metadata": {},
   "source": [
    "---\n",
    "> P-026: レシート明細データフレーム（df_receipt）に対し、顧客ID（customer_id）ごとに最も新しい売上日（sales_ymd）と古い売上日を求め、両者が異なるデータを10件表示せよ。"
   ]
  },
  {
   "cell_type": "code",
   "execution_count": 30,
   "metadata": {
    "dotnet_interactive": {
     "language": "csharp"
    }
   },
   "outputs": [
    {
     "data": {
      "text/html": [
       "<table><thead><tr><th><i>index</i></th><th>customer_id</th><th>max_sales_ymd</th><th>min_sales_ymd</th></tr></thead><tbody><tr><td>0</td><td><div class=\"dni-plaintext\">CS001114000005</div></td><td><div class=\"dni-plaintext\">20190731</div></td><td><div class=\"dni-plaintext\">20180503</div></td></tr><tr><td>1</td><td><div class=\"dni-plaintext\">CS001115000010</div></td><td><div class=\"dni-plaintext\">20190405</div></td><td><div class=\"dni-plaintext\">20171228</div></td></tr><tr><td>2</td><td><div class=\"dni-plaintext\">CS001205000004</div></td><td><div class=\"dni-plaintext\">20190625</div></td><td><div class=\"dni-plaintext\">20170914</div></td></tr><tr><td>3</td><td><div class=\"dni-plaintext\">CS001205000006</div></td><td><div class=\"dni-plaintext\">20190224</div></td><td><div class=\"dni-plaintext\">20180207</div></td></tr><tr><td>4</td><td><div class=\"dni-plaintext\">CS001214000009</div></td><td><div class=\"dni-plaintext\">20190902</div></td><td><div class=\"dni-plaintext\">20170306</div></td></tr><tr><td>5</td><td><div class=\"dni-plaintext\">CS001214000017</div></td><td><div class=\"dni-plaintext\">20191006</div></td><td><div class=\"dni-plaintext\">20180828</div></td></tr><tr><td>6</td><td><div class=\"dni-plaintext\">CS001214000048</div></td><td><div class=\"dni-plaintext\">20190929</div></td><td><div class=\"dni-plaintext\">20171109</div></td></tr><tr><td>7</td><td><div class=\"dni-plaintext\">CS001214000052</div></td><td><div class=\"dni-plaintext\">20190617</div></td><td><div class=\"dni-plaintext\">20180208</div></td></tr><tr><td>8</td><td><div class=\"dni-plaintext\">CS001215000005</div></td><td><div class=\"dni-plaintext\">20181021</div></td><td><div class=\"dni-plaintext\">20170206</div></td></tr><tr><td>9</td><td><div class=\"dni-plaintext\">CS001215000040</div></td><td><div class=\"dni-plaintext\">20171022</div></td><td><div class=\"dni-plaintext\">20170214</div></td></tr></tbody></table>"
      ]
     },
     "execution_count": 30,
     "metadata": {},
     "output_type": "execute_result"
    }
   ],
   "source": [
    "df_receipt.GroupBy(r => r.customer_id).Select(r => new {customer_id = r.Key, max_sales_ymd = r.Max(t => t.sales_ymd), min_sales_ymd = r.Min(t => t.sales_ymd) })\n",
    "    .Where(r => r.max_sales_ymd != r.min_sales_ymd)\n",
    "    .OrderBy(r => r.customer_id).Take(10)"
   ]
  },
  {
   "cell_type": "markdown",
   "metadata": {},
   "source": [
    "---\n",
    "> P-027: レシート明細データフレーム（df_receipt）に対し、店舗コード（store_cd）ごとに売上金額（amount）の平均を計算し、降順でTOP5を表示せよ。"
   ]
  },
  {
   "cell_type": "code",
   "execution_count": 31,
   "metadata": {
    "dotnet_interactive": {
     "language": "csharp"
    }
   },
   "outputs": [
    {
     "data": {
      "text/html": [
       "<table><thead><tr><th><i>index</i></th><th>store_cd</th><th>avg_amount</th></tr></thead><tbody><tr><td>0</td><td><div class=\"dni-plaintext\">S13052</div></td><td><div class=\"dni-plaintext\">402.86746987951807</div></td></tr><tr><td>1</td><td><div class=\"dni-plaintext\">S13015</div></td><td><div class=\"dni-plaintext\">351.11196043165467</div></td></tr><tr><td>2</td><td><div class=\"dni-plaintext\">S13003</div></td><td><div class=\"dni-plaintext\">350.9155188246097</div></td></tr><tr><td>3</td><td><div class=\"dni-plaintext\">S14010</div></td><td><div class=\"dni-plaintext\">348.79126213592235</div></td></tr><tr><td>4</td><td><div class=\"dni-plaintext\">S13001</div></td><td><div class=\"dni-plaintext\">348.4703862660944</div></td></tr></tbody></table>"
      ]
     },
     "execution_count": 31,
     "metadata": {},
     "output_type": "execute_result"
    }
   ],
   "source": [
    "df_receipt.GroupBy(r => r.store_cd).Select(r => new {\n",
    "    store_cd = r.Key,\n",
    "    avg_amount = r.Average(r => r.amount)\n",
    "}).OrderByDescending(r => r.avg_amount).Take(5)"
   ]
  },
  {
   "cell_type": "markdown",
   "metadata": {},
   "source": [
    "---\n",
    "> P-028: レシート明細データフレーム（df_receipt）に対し、店舗コード（store_cd）ごとに売上金額（amount）の中央値を計算し、降順でTOP5を表示せよ。"
   ]
  },
  {
   "cell_type": "code",
   "execution_count": 32,
   "metadata": {
    "dotnet_interactive": {
     "language": "csharp"
    }
   },
   "outputs": [
    {
     "data": {
      "text/html": [
       "<table><thead><tr><th><i>index</i></th><th>store_cd</th><th>median_amount</th></tr></thead><tbody><tr><td>0</td><td><div class=\"dni-plaintext\">S13052</div></td><td><div class=\"dni-plaintext\">190</div></td></tr><tr><td>1</td><td><div class=\"dni-plaintext\">S14010</div></td><td><div class=\"dni-plaintext\">188</div></td></tr><tr><td>2</td><td><div class=\"dni-plaintext\">S14050</div></td><td><div class=\"dni-plaintext\">185</div></td></tr><tr><td>3</td><td><div class=\"dni-plaintext\">S13003</div></td><td><div class=\"dni-plaintext\">180</div></td></tr><tr><td>4</td><td><div class=\"dni-plaintext\">S13018</div></td><td><div class=\"dni-plaintext\">180</div></td></tr></tbody></table>"
      ]
     },
     "execution_count": 32,
     "metadata": {},
     "output_type": "execute_result"
    }
   ],
   "source": [
    "using MathNet.Numerics.Statistics;\n",
    "\n",
    "df_receipt.GroupBy(r => r.store_cd).Select(r => new {\n",
    "    store_cd = r.Key,\n",
    "    median_amount = r.Select(t => (double) t.amount).Median()\n",
    "}).OrderByDescending(r => r.median_amount).ThenBy(r => r.store_cd).Take(5)"
   ]
  },
  {
   "cell_type": "markdown",
   "metadata": {},
   "source": [
    "---\n",
    "> P-029: レシート明細データフレーム（df_receipt）に対し、店舗コード（store_cd）ごとに商品コード（product_cd）の最頻値を求めよ。"
   ]
  },
  {
   "cell_type": "code",
   "execution_count": 33,
   "metadata": {
    "dotnet_interactive": {
     "language": "csharp"
    }
   },
   "outputs": [
    {
     "data": {
      "text/html": [
       "<table><thead><tr><th><i>index</i></th><th>store_cd</th><th>product_cd</th><th>count</th></tr></thead><tbody><tr><td>0</td><td><div class=\"dni-plaintext\">S12007</div></td><td><div class=\"dni-plaintext\">P060303001</div></td><td><div class=\"dni-plaintext\">72</div></td></tr><tr><td>1</td><td><div class=\"dni-plaintext\">S12013</div></td><td><div class=\"dni-plaintext\">P060303001</div></td><td><div class=\"dni-plaintext\">107</div></td></tr><tr><td>2</td><td><div class=\"dni-plaintext\">S12014</div></td><td><div class=\"dni-plaintext\">P060303001</div></td><td><div class=\"dni-plaintext\">65</div></td></tr><tr><td>3</td><td><div class=\"dni-plaintext\">S12029</div></td><td><div class=\"dni-plaintext\">P060303001</div></td><td><div class=\"dni-plaintext\">92</div></td></tr><tr><td>4</td><td><div class=\"dni-plaintext\">S12030</div></td><td><div class=\"dni-plaintext\">P060303001</div></td><td><div class=\"dni-plaintext\">115</div></td></tr><tr><td>5</td><td><div class=\"dni-plaintext\">S13001</div></td><td><div class=\"dni-plaintext\">P060303001</div></td><td><div class=\"dni-plaintext\">67</div></td></tr><tr><td>6</td><td><div class=\"dni-plaintext\">S13002</div></td><td><div class=\"dni-plaintext\">P060303001</div></td><td><div class=\"dni-plaintext\">78</div></td></tr><tr><td>7</td><td><div class=\"dni-plaintext\">S13003</div></td><td><div class=\"dni-plaintext\">P071401001</div></td><td><div class=\"dni-plaintext\">65</div></td></tr><tr><td>8</td><td><div class=\"dni-plaintext\">S13004</div></td><td><div class=\"dni-plaintext\">P060303001</div></td><td><div class=\"dni-plaintext\">88</div></td></tr><tr><td>9</td><td><div class=\"dni-plaintext\">S13005</div></td><td><div class=\"dni-plaintext\">P040503001</div></td><td><div class=\"dni-plaintext\">36</div></td></tr><tr><td>10</td><td><div class=\"dni-plaintext\">S13008</div></td><td><div class=\"dni-plaintext\">P060303001</div></td><td><div class=\"dni-plaintext\">77</div></td></tr><tr><td>11</td><td><div class=\"dni-plaintext\">S13009</div></td><td><div class=\"dni-plaintext\">P060303001</div></td><td><div class=\"dni-plaintext\">64</div></td></tr><tr><td>12</td><td><div class=\"dni-plaintext\">S13015</div></td><td><div class=\"dni-plaintext\">P071401001</div></td><td><div class=\"dni-plaintext\">34</div></td></tr><tr><td>13</td><td><div class=\"dni-plaintext\">S13016</div></td><td><div class=\"dni-plaintext\">P071102001</div></td><td><div class=\"dni-plaintext\">32</div></td></tr><tr><td>14</td><td><div class=\"dni-plaintext\">S13017</div></td><td><div class=\"dni-plaintext\">P060101002</div></td><td><div class=\"dni-plaintext\">31</div></td></tr><tr><td>15</td><td><div class=\"dni-plaintext\">S13018</div></td><td><div class=\"dni-plaintext\">P071401001</div></td><td><div class=\"dni-plaintext\">47</div></td></tr><tr><td>16</td><td><div class=\"dni-plaintext\">S13019</div></td><td><div class=\"dni-plaintext\">P071401001</div></td><td><div class=\"dni-plaintext\">70</div></td></tr><tr><td>17</td><td><div class=\"dni-plaintext\">S13020</div></td><td><div class=\"dni-plaintext\">P071401001</div></td><td><div class=\"dni-plaintext\">79</div></td></tr><tr><td>18</td><td><div class=\"dni-plaintext\">S13031</div></td><td><div class=\"dni-plaintext\">P060303001</div></td><td><div class=\"dni-plaintext\">115</div></td></tr><tr><td>19</td><td><div class=\"dni-plaintext\">S13032</div></td><td><div class=\"dni-plaintext\">P060303001</div></td><td><div class=\"dni-plaintext\">85</div></td></tr><tr><td colspan=\"4\">(32 more)</td></tr></tbody></table>"
      ]
     },
     "execution_count": 33,
     "metadata": {},
     "output_type": "execute_result"
    }
   ],
   "source": [
    "// store_cd product_cd をキーに データ件数をカウント\n",
    "var count_list = df_receipt\n",
    ".GroupBy(r => new { r.store_cd, r.product_cd })\n",
    ".Select(t => new { store_cd = t.Key.store_cd, product_cd = t.Key.product_cd, count = t.Count() });\n",
    "\n",
    "// store_cd 単位で 件数の多い最初の1件を抽出\n",
    "var store_top_count_item = count_list\n",
    ".GroupBy(r => r.store_cd)\n",
    ".Select(r => new { store_cd = r.Key, maxItem = r.OrderByDescending(r => r.count).First() });\n",
    "\n",
    "// 結果取得\n",
    "store_top_count_item.Select(r => new { r.store_cd, r.maxItem.product_cd, r.maxItem.count }).OrderBy(r => r.store_cd)"
   ]
  },
  {
   "cell_type": "markdown",
   "metadata": {},
   "source": [
    "---\n",
    "> P-030: レシート明細データフレーム（df_receipt）に対し、店舗コード（store_cd）ごとに売上金額（amount）の標本分散を計算し、降順でTOP5を表示せよ。"
   ]
  },
  {
   "cell_type": "code",
   "execution_count": 34,
   "metadata": {
    "dotnet_interactive": {
     "language": "csharp"
    }
   },
   "outputs": [
    {
     "data": {
      "text/html": [
       "<table><thead><tr><th><i>index</i></th><th>store_cd</th><th>variance_amount</th></tr></thead><tbody><tr><td>0</td><td><div class=\"dni-plaintext\">S13052</div></td><td><div class=\"dni-plaintext\">440088.70131126913</div></td></tr><tr><td>1</td><td><div class=\"dni-plaintext\">S14011</div></td><td><div class=\"dni-plaintext\">306314.5581638888</div></td></tr><tr><td>2</td><td><div class=\"dni-plaintext\">S14034</div></td><td><div class=\"dni-plaintext\">296920.0810112844</div></td></tr><tr><td>3</td><td><div class=\"dni-plaintext\">S13001</div></td><td><div class=\"dni-plaintext\">295431.993329035</div></td></tr><tr><td>4</td><td><div class=\"dni-plaintext\">S13015</div></td><td><div class=\"dni-plaintext\">295294.36111594073</div></td></tr></tbody></table>"
      ]
     },
     "execution_count": 34,
     "metadata": {},
     "output_type": "execute_result"
    }
   ],
   "source": [
    "using MathNet.Numerics.Statistics;\n",
    "\n",
    "df_receipt.GroupBy(r => r.store_cd).Select(r => new {\n",
    "    store_cd = r.Key,\n",
    "    variance_amount = r.Select(t => (double) t.amount).PopulationVariance()\n",
    "}).OrderByDescending(r => r.variance_amount).ThenBy(r => r.store_cd).Take(5)"
   ]
  },
  {
   "cell_type": "markdown",
   "metadata": {},
   "source": [
    "---\n",
    "> P-031: レシート明細データフレーム（df_receipt）に対し、店舗コード（store_cd）ごとに売上金額（amount）の標本標準偏差を計算し、降順でTOP5を表示せよ。"
   ]
  },
  {
   "cell_type": "markdown",
   "metadata": {},
   "source": [
    "```\n",
    "var_sample <- function(x){ var(x)*(length(x)-1)/length(x) }\n",
    "std_sample <- function(x){ sqrt(var_sample(x)) }\n",
    "```"
   ]
  },
  {
   "cell_type": "code",
   "execution_count": 35,
   "metadata": {
    "dotnet_interactive": {
     "language": "csharp"
    }
   },
   "outputs": [
    {
     "data": {
      "text/html": [
       "<table><thead><tr><th><i>index</i></th><th>key</th><th>std_amount</th></tr></thead><tbody><tr><td>0</td><td><div class=\"dni-plaintext\">S13052</div></td><td><div class=\"dni-plaintext\">663.3918158307872</div></td></tr><tr><td>1</td><td><div class=\"dni-plaintext\">S14011</div></td><td><div class=\"dni-plaintext\">553.456916267101</div></td></tr><tr><td>2</td><td><div class=\"dni-plaintext\">S14034</div></td><td><div class=\"dni-plaintext\">544.903735545357</div></td></tr><tr><td>3</td><td><div class=\"dni-plaintext\">S13001</div></td><td><div class=\"dni-plaintext\">543.5365611704838</div></td></tr><tr><td>4</td><td><div class=\"dni-plaintext\">S13015</div></td><td><div class=\"dni-plaintext\">543.4099383669209</div></td></tr></tbody></table>"
      ]
     },
     "execution_count": 35,
     "metadata": {},
     "output_type": "execute_result"
    }
   ],
   "source": [
    "using MathNet.Numerics.Statistics;\n",
    "\n",
    "df_receipt.GroupBy(r => r.store_cd)\n",
    "    .Select(r => new {key = r.Key, std_amount = Math.Sqrt(r.Select(t => (double) t.amount).PopulationVariance())})\n",
    "    .OrderByDescending(r => r.std_amount)\n",
    "    .Take(5)"
   ]
  },
  {
   "cell_type": "markdown",
   "metadata": {},
   "source": [
    "---\n",
    "> P-032: レシート明細データフレーム（df_receipt）の売上金額（amount）について、25％刻みでパーセンタイル値を求めよ。"
   ]
  },
  {
   "cell_type": "code",
   "execution_count": 36,
   "metadata": {
    "dotnet_interactive": {
     "language": "csharp"
    }
   },
   "outputs": [
    {
     "data": {
      "text/html": [
       "<table><thead><tr><th>amount_25per</th><th>amount_50per</th><th>amount_75per</th><th>amount_100per</th></tr></thead><tbody><tr><td><div class=\"dni-plaintext\">102</div></td><td><div class=\"dni-plaintext\">170</div></td><td><div class=\"dni-plaintext\">288</div></td><td><div class=\"dni-plaintext\">10925</div></td></tr></tbody></table>"
      ]
     },
     "execution_count": 36,
     "metadata": {},
     "output_type": "execute_result"
    }
   ],
   "source": [
    "using MathNet.Numerics.Statistics;\n",
    "\n",
    "// 売上金額のリスト\n",
    "var amountList = df_receipt.Select(r => (double) r.amount).ToList();\n",
    "\n",
    "// 結果\n",
    "new { \n",
    "    amount_25per = amountList.Percentile(25),\n",
    "    amount_50per = amountList.Percentile(50),\n",
    "    amount_75per = amountList.Percentile(75),\n",
    "    amount_100per = amountList.Percentile(100),\n",
    "}"
   ]
  },
  {
   "cell_type": "markdown",
   "metadata": {},
   "source": [
    "---\n",
    "> P-033: レシート明細データフレーム（df_receipt）に対し、店舗コード（store_cd）ごとに売上金額（amount）の平均を計算し、330以上のものを抽出せよ。"
   ]
  },
  {
   "cell_type": "code",
   "execution_count": 37,
   "metadata": {
    "dotnet_interactive": {
     "language": "csharp"
    }
   },
   "outputs": [
    {
     "data": {
      "text/html": [
       "<table><thead><tr><th><i>index</i></th><th>store_code</th><th>avg_amount</th></tr></thead><tbody><tr><td>0</td><td><div class=\"dni-plaintext\">S12013</div></td><td><div class=\"dni-plaintext\">330.19412997903567</div></td></tr><tr><td>1</td><td><div class=\"dni-plaintext\">S13001</div></td><td><div class=\"dni-plaintext\">348.4703862660944</div></td></tr><tr><td>2</td><td><div class=\"dni-plaintext\">S13003</div></td><td><div class=\"dni-plaintext\">350.9155188246097</div></td></tr><tr><td>3</td><td><div class=\"dni-plaintext\">S13004</div></td><td><div class=\"dni-plaintext\">330.94394904458596</div></td></tr><tr><td>4</td><td><div class=\"dni-plaintext\">S13015</div></td><td><div class=\"dni-plaintext\">351.11196043165467</div></td></tr><tr><td>5</td><td><div class=\"dni-plaintext\">S13019</div></td><td><div class=\"dni-plaintext\">330.20861587554845</div></td></tr><tr><td>6</td><td><div class=\"dni-plaintext\">S13020</div></td><td><div class=\"dni-plaintext\">337.879932117098</div></td></tr><tr><td>7</td><td><div class=\"dni-plaintext\">S13052</div></td><td><div class=\"dni-plaintext\">402.86746987951807</div></td></tr><tr><td>8</td><td><div class=\"dni-plaintext\">S14010</div></td><td><div class=\"dni-plaintext\">348.79126213592235</div></td></tr><tr><td>9</td><td><div class=\"dni-plaintext\">S14011</div></td><td><div class=\"dni-plaintext\">335.7183333333333</div></td></tr><tr><td>10</td><td><div class=\"dni-plaintext\">S14026</div></td><td><div class=\"dni-plaintext\">332.34058847239015</div></td></tr><tr><td>11</td><td><div class=\"dni-plaintext\">S14045</div></td><td><div class=\"dni-plaintext\">330.0820734341253</div></td></tr><tr><td>12</td><td><div class=\"dni-plaintext\">S14047</div></td><td><div class=\"dni-plaintext\">330.0770731707317</div></td></tr></tbody></table>"
      ]
     },
     "execution_count": 37,
     "metadata": {},
     "output_type": "execute_result"
    }
   ],
   "source": [
    "df_receipt.GroupBy(r => r.store_cd)\n",
    "    .Select(r => new { store_code = r.Key, avg_amount = r.Average(t => t.amount) })\n",
    "    .Where(r => r.avg_amount >= 330).OrderBy(r => r.store_code)"
   ]
  },
  {
   "cell_type": "markdown",
   "metadata": {},
   "source": [
    "---\n",
    "> P-034: レシート明細データフレーム（df_receipt）に対し、顧客ID（customer_id）ごとに売上金額（amount）を合計して全顧客の平均を求めよ。ただし、顧客IDが\"Z\"から始まるのものは非会員を表すため、除外して計算すること。"
   ]
  },
  {
   "cell_type": "code",
   "execution_count": 38,
   "metadata": {
    "dotnet_interactive": {
     "language": "csharp"
    }
   },
   "outputs": [
    {
     "data": {
      "text/html": [
       "<div class=\"dni-plaintext\">2547.742234529256</div>"
      ]
     },
     "execution_count": 38,
     "metadata": {},
     "output_type": "execute_result"
    }
   ],
   "source": [
    "df_receipt\n",
    "    .Where(r => !r.customer_id.StartsWith(\"Z\"))\n",
    "    .GroupBy(r => r.customer_id)\n",
    "    .Select(r => new { sum_amount = r.Sum(r => r.amount)})\n",
    "    .Average(r => r.sum_amount)"
   ]
  },
  {
   "cell_type": "markdown",
   "metadata": {},
   "source": [
    "---\n",
    "> P-035: レシート明細データフレーム（df_receipt）に対し、顧客ID（customer_id）ごとに売上金額（amount）を合計して全顧客の平均を求め、平均以上に買い物をしている顧客を抽出せよ。ただし、顧客IDが\"Z\"から始まるのものは非会員を表すため、除外して計算すること。なお、データは10件だけ表示させれば良い。"
   ]
  },
  {
   "cell_type": "code",
   "execution_count": 39,
   "metadata": {
    "dotnet_interactive": {
     "language": "csharp"
    }
   },
   "outputs": [
    {
     "data": {
      "text/html": [
       "<table><thead><tr><th><i>index</i></th><th>customer_id</th><th>sum_amount</th></tr></thead><tbody><tr><td>0</td><td><div class=\"dni-plaintext\">CS001115000010</div></td><td><div class=\"dni-plaintext\">3044</div></td></tr><tr><td>1</td><td><div class=\"dni-plaintext\">CS001205000006</div></td><td><div class=\"dni-plaintext\">3337</div></td></tr><tr><td>2</td><td><div class=\"dni-plaintext\">CS001214000009</div></td><td><div class=\"dni-plaintext\">4685</div></td></tr><tr><td>3</td><td><div class=\"dni-plaintext\">CS001214000017</div></td><td><div class=\"dni-plaintext\">4132</div></td></tr><tr><td>4</td><td><div class=\"dni-plaintext\">CS001214000052</div></td><td><div class=\"dni-plaintext\">5639</div></td></tr><tr><td>5</td><td><div class=\"dni-plaintext\">CS001215000040</div></td><td><div class=\"dni-plaintext\">3496</div></td></tr><tr><td>6</td><td><div class=\"dni-plaintext\">CS001304000006</div></td><td><div class=\"dni-plaintext\">3726</div></td></tr><tr><td>7</td><td><div class=\"dni-plaintext\">CS001305000005</div></td><td><div class=\"dni-plaintext\">3485</div></td></tr><tr><td>8</td><td><div class=\"dni-plaintext\">CS001305000011</div></td><td><div class=\"dni-plaintext\">4370</div></td></tr><tr><td>9</td><td><div class=\"dni-plaintext\">CS001315000180</div></td><td><div class=\"dni-plaintext\">3300</div></td></tr></tbody></table>"
      ]
     },
     "execution_count": 39,
     "metadata": {},
     "output_type": "execute_result"
    }
   ],
   "source": [
    "var cust_amount = df_receipt\n",
    "    .Where(r => !r.customer_id.StartsWith(\"Z\"))\n",
    "    .GroupBy(r => r.customer_id)\n",
    "    .Select(r => new { customer_id = r.Key, sum_amount = r.Sum(r => r.amount)});\n",
    "var avg_amount = cust_amount.Average(r => r.sum_amount);\n",
    "\n",
    "cust_amount.Where(r => r.sum_amount >= avg_amount).OrderBy(r => r.customer_id).Take(10)"
   ]
  },
  {
   "cell_type": "markdown",
   "metadata": {},
   "source": [
    "---\n",
    "> P-036: レシート明細データフレーム（df_receipt）と店舗データフレーム（df_store）を内部結合し、レシート明細データフレームの全項目と店舗データフレームの店舗名（store_name）を10件表示させよ。"
   ]
  },
  {
   "cell_type": "code",
   "execution_count": 40,
   "metadata": {
    "dotnet_interactive": {
     "language": "csharp"
    }
   },
   "outputs": [
    {
     "data": {
      "text/html": [
       "<table><thead><tr><th><i>index</i></th><th>sales_ymd</th><th>sales_epoch</th><th>store_cd</th><th>receipt_no</th><th>receipt_sub_no</th><th>customer_id</th><th>product_cd</th><th>quantity</th><th>amount</th><th>store_name</th></tr></thead><tbody><tr><td>0</td><td><div class=\"dni-plaintext\">20181103</div></td><td><div class=\"dni-plaintext\">1541203200</div></td><td><div class=\"dni-plaintext\">S14006</div></td><td><div class=\"dni-plaintext\">112</div></td><td><div class=\"dni-plaintext\">1</div></td><td><div class=\"dni-plaintext\">CS006214000001</div></td><td><div class=\"dni-plaintext\">P070305012</div></td><td><div class=\"dni-plaintext\">1</div></td><td><div class=\"dni-plaintext\">158</div></td><td><div class=\"dni-plaintext\">葛が谷店</div></td></tr><tr><td>1</td><td><div class=\"dni-plaintext\">20181118</div></td><td><div class=\"dni-plaintext\">1542499200</div></td><td><div class=\"dni-plaintext\">S13008</div></td><td><div class=\"dni-plaintext\">1132</div></td><td><div class=\"dni-plaintext\">2</div></td><td><div class=\"dni-plaintext\">CS008415000097</div></td><td><div class=\"dni-plaintext\">P070701017</div></td><td><div class=\"dni-plaintext\">1</div></td><td><div class=\"dni-plaintext\">81</div></td><td><div class=\"dni-plaintext\">成城店</div></td></tr><tr><td>2</td><td><div class=\"dni-plaintext\">20170712</div></td><td><div class=\"dni-plaintext\">1499817600</div></td><td><div class=\"dni-plaintext\">S14028</div></td><td><div class=\"dni-plaintext\">1102</div></td><td><div class=\"dni-plaintext\">1</div></td><td><div class=\"dni-plaintext\">CS028414000014</div></td><td><div class=\"dni-plaintext\">P060101005</div></td><td><div class=\"dni-plaintext\">1</div></td><td><div class=\"dni-plaintext\">170</div></td><td><div class=\"dni-plaintext\">二ツ橋店</div></td></tr><tr><td>3</td><td><div class=\"dni-plaintext\">20190205</div></td><td><div class=\"dni-plaintext\">1549324800</div></td><td><div class=\"dni-plaintext\">S14042</div></td><td><div class=\"dni-plaintext\">1132</div></td><td><div class=\"dni-plaintext\">1</div></td><td><div class=\"dni-plaintext\">ZZ000000000000</div></td><td><div class=\"dni-plaintext\">P050301001</div></td><td><div class=\"dni-plaintext\">1</div></td><td><div class=\"dni-plaintext\">25</div></td><td><div class=\"dni-plaintext\">新山下店</div></td></tr><tr><td>4</td><td><div class=\"dni-plaintext\">20180821</div></td><td><div class=\"dni-plaintext\">1534809600</div></td><td><div class=\"dni-plaintext\">S14025</div></td><td><div class=\"dni-plaintext\">1102</div></td><td><div class=\"dni-plaintext\">2</div></td><td><div class=\"dni-plaintext\">CS025415000050</div></td><td><div class=\"dni-plaintext\">P060102007</div></td><td><div class=\"dni-plaintext\">1</div></td><td><div class=\"dni-plaintext\">90</div></td><td><div class=\"dni-plaintext\">大和店</div></td></tr><tr><td>5</td><td><div class=\"dni-plaintext\">20190605</div></td><td><div class=\"dni-plaintext\">1559692800</div></td><td><div class=\"dni-plaintext\">S13003</div></td><td><div class=\"dni-plaintext\">1112</div></td><td><div class=\"dni-plaintext\">1</div></td><td><div class=\"dni-plaintext\">CS003515000195</div></td><td><div class=\"dni-plaintext\">P050102002</div></td><td><div class=\"dni-plaintext\">1</div></td><td><div class=\"dni-plaintext\">138</div></td><td><div class=\"dni-plaintext\">狛江店</div></td></tr><tr><td>6</td><td><div class=\"dni-plaintext\">20181205</div></td><td><div class=\"dni-plaintext\">1543968000</div></td><td><div class=\"dni-plaintext\">S14024</div></td><td><div class=\"dni-plaintext\">1102</div></td><td><div class=\"dni-plaintext\">2</div></td><td><div class=\"dni-plaintext\">CS024514000042</div></td><td><div class=\"dni-plaintext\">P080101005</div></td><td><div class=\"dni-plaintext\">1</div></td><td><div class=\"dni-plaintext\">30</div></td><td><div class=\"dni-plaintext\">三田店</div></td></tr><tr><td>7</td><td><div class=\"dni-plaintext\">20190922</div></td><td><div class=\"dni-plaintext\">1569110400</div></td><td><div class=\"dni-plaintext\">S14040</div></td><td><div class=\"dni-plaintext\">1102</div></td><td><div class=\"dni-plaintext\">1</div></td><td><div class=\"dni-plaintext\">CS040415000178</div></td><td><div class=\"dni-plaintext\">P070501004</div></td><td><div class=\"dni-plaintext\">1</div></td><td><div class=\"dni-plaintext\">128</div></td><td><div class=\"dni-plaintext\">長津田店</div></td></tr><tr><td>8</td><td><div class=\"dni-plaintext\">20170504</div></td><td><div class=\"dni-plaintext\">1493856000</div></td><td><div class=\"dni-plaintext\">S13020</div></td><td><div class=\"dni-plaintext\">1112</div></td><td><div class=\"dni-plaintext\">2</div></td><td><div class=\"dni-plaintext\">ZZ000000000000</div></td><td><div class=\"dni-plaintext\">P071302010</div></td><td><div class=\"dni-plaintext\">1</div></td><td><div class=\"dni-plaintext\">770</div></td><td><div class=\"dni-plaintext\">十条仲原店</div></td></tr><tr><td>9</td><td><div class=\"dni-plaintext\">20191010</div></td><td><div class=\"dni-plaintext\">1570665600</div></td><td><div class=\"dni-plaintext\">S14027</div></td><td><div class=\"dni-plaintext\">1102</div></td><td><div class=\"dni-plaintext\">1</div></td><td><div class=\"dni-plaintext\">CS027514000015</div></td><td><div class=\"dni-plaintext\">P071101003</div></td><td><div class=\"dni-plaintext\">1</div></td><td><div class=\"dni-plaintext\">680</div></td><td><div class=\"dni-plaintext\">南藤沢店</div></td></tr></tbody></table>"
      ]
     },
     "execution_count": 40,
     "metadata": {},
     "output_type": "execute_result"
    }
   ],
   "source": [
    "df_receipt.Join(df_store,\n",
    "    receipt => receipt.store_cd,\n",
    "    store => store.store_cd,\n",
    "    (receipt, store) =>\n",
    "    new\n",
    "    {\n",
    "        receipt.sales_ymd,\n",
    "        receipt.sales_epoch,\n",
    "        receipt.store_cd,\n",
    "        receipt.receipt_no,\n",
    "        receipt.receipt_sub_no,\n",
    "        receipt.customer_id,\n",
    "        receipt.product_cd,\n",
    "        receipt.quantity,\n",
    "        receipt.amount,\n",
    "        store_name = store.store_name,\n",
    "    }).Take(10)"
   ]
  },
  {
   "cell_type": "markdown",
   "metadata": {},
   "source": [
    "---\n",
    "> P-037: 商品データフレーム（df_product）とカテゴリデータフレーム（df_category）を内部結合し、商品データフレームの全項目とカテゴリデータフレームの小区分名（category_small_name）を10件表示させよ。"
   ]
  },
  {
   "cell_type": "code",
   "execution_count": 41,
   "metadata": {
    "dotnet_interactive": {
     "language": "csharp"
    }
   },
   "outputs": [
    {
     "data": {
      "text/html": [
       "<table><thead><tr><th><i>index</i></th><th>product_cd</th><th>category_major_cd</th><th>category_medium_cd</th><th>category_small_cd</th><th>unit_price</th><th>unit_cost</th><th>category_small_name</th></tr></thead><tbody><tr><td>0</td><td><div class=\"dni-plaintext\">P040101001</div></td><td><div class=\"dni-plaintext\">04</div></td><td><div class=\"dni-plaintext\">0401</div></td><td><div class=\"dni-plaintext\">040101</div></td><td><div class=\"dni-plaintext\">198</div></td><td><div class=\"dni-plaintext\">149</div></td><td><div class=\"dni-plaintext\">弁当類</div></td></tr><tr><td>1</td><td><div class=\"dni-plaintext\">P040101002</div></td><td><div class=\"dni-plaintext\">04</div></td><td><div class=\"dni-plaintext\">0401</div></td><td><div class=\"dni-plaintext\">040101</div></td><td><div class=\"dni-plaintext\">218</div></td><td><div class=\"dni-plaintext\">164</div></td><td><div class=\"dni-plaintext\">弁当類</div></td></tr><tr><td>2</td><td><div class=\"dni-plaintext\">P040101003</div></td><td><div class=\"dni-plaintext\">04</div></td><td><div class=\"dni-plaintext\">0401</div></td><td><div class=\"dni-plaintext\">040101</div></td><td><div class=\"dni-plaintext\">230</div></td><td><div class=\"dni-plaintext\">173</div></td><td><div class=\"dni-plaintext\">弁当類</div></td></tr><tr><td>3</td><td><div class=\"dni-plaintext\">P040101004</div></td><td><div class=\"dni-plaintext\">04</div></td><td><div class=\"dni-plaintext\">0401</div></td><td><div class=\"dni-plaintext\">040101</div></td><td><div class=\"dni-plaintext\">248</div></td><td><div class=\"dni-plaintext\">186</div></td><td><div class=\"dni-plaintext\">弁当類</div></td></tr><tr><td>4</td><td><div class=\"dni-plaintext\">P040101005</div></td><td><div class=\"dni-plaintext\">04</div></td><td><div class=\"dni-plaintext\">0401</div></td><td><div class=\"dni-plaintext\">040101</div></td><td><div class=\"dni-plaintext\">268</div></td><td><div class=\"dni-plaintext\">201</div></td><td><div class=\"dni-plaintext\">弁当類</div></td></tr><tr><td>5</td><td><div class=\"dni-plaintext\">P040101006</div></td><td><div class=\"dni-plaintext\">04</div></td><td><div class=\"dni-plaintext\">0401</div></td><td><div class=\"dni-plaintext\">040101</div></td><td><div class=\"dni-plaintext\">298</div></td><td><div class=\"dni-plaintext\">224</div></td><td><div class=\"dni-plaintext\">弁当類</div></td></tr><tr><td>6</td><td><div class=\"dni-plaintext\">P040101007</div></td><td><div class=\"dni-plaintext\">04</div></td><td><div class=\"dni-plaintext\">0401</div></td><td><div class=\"dni-plaintext\">040101</div></td><td><div class=\"dni-plaintext\">338</div></td><td><div class=\"dni-plaintext\">254</div></td><td><div class=\"dni-plaintext\">弁当類</div></td></tr><tr><td>7</td><td><div class=\"dni-plaintext\">P040101008</div></td><td><div class=\"dni-plaintext\">04</div></td><td><div class=\"dni-plaintext\">0401</div></td><td><div class=\"dni-plaintext\">040101</div></td><td><div class=\"dni-plaintext\">420</div></td><td><div class=\"dni-plaintext\">315</div></td><td><div class=\"dni-plaintext\">弁当類</div></td></tr><tr><td>8</td><td><div class=\"dni-plaintext\">P040101009</div></td><td><div class=\"dni-plaintext\">04</div></td><td><div class=\"dni-plaintext\">0401</div></td><td><div class=\"dni-plaintext\">040101</div></td><td><div class=\"dni-plaintext\">498</div></td><td><div class=\"dni-plaintext\">374</div></td><td><div class=\"dni-plaintext\">弁当類</div></td></tr><tr><td>9</td><td><div class=\"dni-plaintext\">P040101010</div></td><td><div class=\"dni-plaintext\">04</div></td><td><div class=\"dni-plaintext\">0401</div></td><td><div class=\"dni-plaintext\">040101</div></td><td><div class=\"dni-plaintext\">580</div></td><td><div class=\"dni-plaintext\">435</div></td><td><div class=\"dni-plaintext\">弁当類</div></td></tr></tbody></table>"
      ]
     },
     "execution_count": 41,
     "metadata": {},
     "output_type": "execute_result"
    }
   ],
   "source": [
    "df_product.Join(df_category,\n",
    "    product => product.category_small_cd,\n",
    "    category => category.category_small_cd,\n",
    "    (product, cateogory) => new {\n",
    "        product.product_cd ,\n",
    "        product.category_major_cd ,\n",
    "        product.category_medium_cd ,\n",
    "        product.category_small_cd ,\n",
    "        product.unit_price ,\n",
    "        product.unit_cost ,\n",
    "        cateogory.category_small_name\n",
    "    }).Take(10)"
   ]
  },
  {
   "cell_type": "markdown",
   "metadata": {},
   "source": [
    "---\n",
    "> P-038: 顧客データフレーム（df_customer）とレシート明細データフレーム（df_receipt）から、各顧客ごとの売上金額合計を求めよ。ただし、買い物の実績がない顧客については売上金額を0として表示させること。また、顧客は性別コード（gender_cd）が女性（1）であるものを対象とし、非会員（顧客IDが'Z'から始まるもの）は除外すること。なお、結果は10件だけ表示させれば良い。"
   ]
  },
  {
   "cell_type": "code",
   "execution_count": 42,
   "metadata": {
    "dotnet_interactive": {
     "language": "csharp"
    }
   },
   "outputs": [
    {
     "data": {
      "text/html": [
       "<table><thead><tr><th><i>index</i></th><th>customer_id</th><th>sum_amount</th></tr></thead><tbody><tr><td>0</td><td><div class=\"dni-plaintext\">CS021313000114</div></td><td><div class=\"dni-plaintext\">0</div></td></tr><tr><td>1</td><td><div class=\"dni-plaintext\">CS031415000172</div></td><td><div class=\"dni-plaintext\">5088</div></td></tr><tr><td>2</td><td><div class=\"dni-plaintext\">CS028811000001</div></td><td><div class=\"dni-plaintext\">0</div></td></tr><tr><td>3</td><td><div class=\"dni-plaintext\">CS001215000145</div></td><td><div class=\"dni-plaintext\">875</div></td></tr><tr><td>4</td><td><div class=\"dni-plaintext\">CS015414000103</div></td><td><div class=\"dni-plaintext\">3122</div></td></tr><tr><td>5</td><td><div class=\"dni-plaintext\">CS033513000180</div></td><td><div class=\"dni-plaintext\">868</div></td></tr><tr><td>6</td><td><div class=\"dni-plaintext\">CS035614000014</div></td><td><div class=\"dni-plaintext\">0</div></td></tr><tr><td>7</td><td><div class=\"dni-plaintext\">CS011215000048</div></td><td><div class=\"dni-plaintext\">3444</div></td></tr><tr><td>8</td><td><div class=\"dni-plaintext\">CS009413000079</div></td><td><div class=\"dni-plaintext\">0</div></td></tr><tr><td>9</td><td><div class=\"dni-plaintext\">CS040412000191</div></td><td><div class=\"dni-plaintext\">210</div></td></tr></tbody></table>"
      ]
     },
     "execution_count": 42,
     "metadata": {},
     "output_type": "execute_result"
    }
   ],
   "source": [
    "// 顧客毎の売り上げ金額\n",
    "var customer_amount_sum = df_receipt.GroupBy(r => r.customer_id).Select(r => new {customer_id = r.Key, sum_amount = r.Sum(t => t.amount ?? 0)})\n",
    "    .ToDictionary(r => r.customer_id);\n",
    "\n",
    "// 対象顧客\n",
    "var customer_id_list = df_customer.Where(r => r.gender_cd == \"1\" && !r.customer_id.StartsWith(\"Z\"));\n",
    "\n",
    "// 顧客単位に表示\n",
    "customer_id_list.Select(r => new {\n",
    "    r.customer_id,\n",
    "    sum_amount = customer_amount_sum.GetValueOrDefault(r.customer_id)?.sum_amount ?? 0,\n",
    "}).Take(10)"
   ]
  },
  {
   "cell_type": "markdown",
   "metadata": {},
   "source": [
    "---\n",
    "> P-039: レシート明細データフレーム（df_receipt）から売上日数の多い顧客の上位20件と、売上金額合計の多い顧客の上位20件を抽出し、完全外部結合せよ。ただし、非会員（顧客IDが'Z'から始まるもの）は除外すること。"
   ]
  },
  {
   "cell_type": "code",
   "execution_count": 43,
   "metadata": {
    "dotnet_interactive": {
     "language": "csharp"
    }
   },
   "outputs": [
    {
     "data": {
      "text/html": [
       "<table><thead><tr><th><i>index</i></th><th>customer_id</th><th>sum_amount</th><th>come_days</th></tr></thead><tbody><tr><td>0</td><td><div class=\"dni-plaintext\">CS017415000097</div></td><td><div class=\"dni-plaintext\">23086</div></td><td><div class=\"dni-plaintext\">20</div></td></tr><tr><td>1</td><td><div class=\"dni-plaintext\">CS015415000185</div></td><td><div class=\"dni-plaintext\">20153</div></td><td><div class=\"dni-plaintext\">22</div></td></tr><tr><td>2</td><td><div class=\"dni-plaintext\">CS031414000051</div></td><td><div class=\"dni-plaintext\">19202</div></td><td><div class=\"dni-plaintext\">19</div></td></tr><tr><td>3</td><td><div class=\"dni-plaintext\">CS028415000007</div></td><td><div class=\"dni-plaintext\">19127</div></td><td><div class=\"dni-plaintext\">21</div></td></tr><tr><td>4</td><td><div class=\"dni-plaintext\">CS001605000009</div></td><td><div class=\"dni-plaintext\">18925</div></td><td><div class=\"dni-plaintext\">&lt;null&gt;</div></td></tr><tr><td>5</td><td><div class=\"dni-plaintext\">CS010214000010</div></td><td><div class=\"dni-plaintext\">18585</div></td><td><div class=\"dni-plaintext\">22</div></td></tr><tr><td>6</td><td><div class=\"dni-plaintext\">CS016415000141</div></td><td><div class=\"dni-plaintext\">18372</div></td><td><div class=\"dni-plaintext\">20</div></td></tr><tr><td>7</td><td><div class=\"dni-plaintext\">CS006515000023</div></td><td><div class=\"dni-plaintext\">18372</div></td><td><div class=\"dni-plaintext\">&lt;null&gt;</div></td></tr><tr><td>8</td><td><div class=\"dni-plaintext\">CS011414000106</div></td><td><div class=\"dni-plaintext\">18338</div></td><td><div class=\"dni-plaintext\">&lt;null&gt;</div></td></tr><tr><td>9</td><td><div class=\"dni-plaintext\">CS038415000104</div></td><td><div class=\"dni-plaintext\">17847</div></td><td><div class=\"dni-plaintext\">&lt;null&gt;</div></td></tr><tr><td>10</td><td><div class=\"dni-plaintext\">CS035414000024</div></td><td><div class=\"dni-plaintext\">17615</div></td><td><div class=\"dni-plaintext\">&lt;null&gt;</div></td></tr><tr><td>11</td><td><div class=\"dni-plaintext\">CS021515000089</div></td><td><div class=\"dni-plaintext\">17580</div></td><td><div class=\"dni-plaintext\">&lt;null&gt;</div></td></tr><tr><td>12</td><td><div class=\"dni-plaintext\">CS032414000072</div></td><td><div class=\"dni-plaintext\">16563</div></td><td><div class=\"dni-plaintext\">&lt;null&gt;</div></td></tr><tr><td>13</td><td><div class=\"dni-plaintext\">CS016415000101</div></td><td><div class=\"dni-plaintext\">16348</div></td><td><div class=\"dni-plaintext\">&lt;null&gt;</div></td></tr><tr><td>14</td><td><div class=\"dni-plaintext\">CS011415000006</div></td><td><div class=\"dni-plaintext\">16094</div></td><td><div class=\"dni-plaintext\">&lt;null&gt;</div></td></tr><tr><td>15</td><td><div class=\"dni-plaintext\">CS034415000047</div></td><td><div class=\"dni-plaintext\">16083</div></td><td><div class=\"dni-plaintext\">&lt;null&gt;</div></td></tr><tr><td>16</td><td><div class=\"dni-plaintext\">CS007514000094</div></td><td><div class=\"dni-plaintext\">15735</div></td><td><div class=\"dni-plaintext\">&lt;null&gt;</div></td></tr><tr><td>17</td><td><div class=\"dni-plaintext\">CS009414000059</div></td><td><div class=\"dni-plaintext\">15492</div></td><td><div class=\"dni-plaintext\">&lt;null&gt;</div></td></tr><tr><td>18</td><td><div class=\"dni-plaintext\">CS030415000034</div></td><td><div class=\"dni-plaintext\">15468</div></td><td><div class=\"dni-plaintext\">&lt;null&gt;</div></td></tr><tr><td>19</td><td><div class=\"dni-plaintext\">CS015515000034</div></td><td><div class=\"dni-plaintext\">15300</div></td><td><div class=\"dni-plaintext\">&lt;null&gt;</div></td></tr></tbody></table>"
      ]
     },
     "execution_count": 43,
     "metadata": {},
     "output_type": "execute_result"
    }
   ],
   "source": [
    "// 売上金額の多い顧客 TOP 20\n",
    "var df_sum = df_receipt.GroupBy(r => r.customer_id).Select(r => new { customer_id = r.Key, sum_amount = r.Sum(t => t.amount)}).ToList();\n",
    "df_sum = df_sum.Where(r => ! r.customer_id.StartsWith(\"Z\")).ToList();\n",
    "df_sum = df_sum.OrderByDescending(r => r.sum_amount).Take(20).ToList();\n",
    "\n",
    "// 売上日数の多い顧客\n",
    "var df_cnt = df_receipt.GroupBy(r => r.customer_id).Select(r => new {\n",
    "    customer_id = r.Key, \n",
    "    sales_ymd_count = r.Select(t => t.sales_ymd).Distinct().Count()});\n",
    "// 対象外を取り除く\n",
    "df_cnt = df_cnt.Where(r => !r.customer_id.StartsWith(\"Z\"))\n",
    "    .OrderByDescending(r => r.sales_ymd_count).Take(20).ToList();\n",
    "// 顧客一覧\n",
    "var customer_id_list = df_sum.Select(r => new {r.customer_id} ).Union(df_cnt.Select(r => new {r.customer_id})).Distinct().ToList();\n",
    "\n",
    "// LEFT JOIN 形式のクエリーを書くのは この形式が書きやすい\n",
    "var query = from customer_id_list in customer_id_list\n",
    "        join df_cnt in df_cnt on customer_id_list.customer_id equals df_cnt.customer_id into df_cnt_grouping\n",
    "        from pp_cnt in df_cnt_grouping.DefaultIfEmpty()\n",
    "        join df_sum in df_sum on customer_id_list.customer_id equals df_sum.customer_id into df_sum_grouping\n",
    "        from PP_sum in df_sum_grouping.DefaultIfEmpty()\n",
    "        select new { \n",
    "            customer_id_list.customer_id, \n",
    "            PP_sum?.sum_amount, \n",
    "            come_days = pp_cnt?.sales_ymd_count,\n",
    "        };\n",
    "\n",
    "query.Take(20).ToList()"
   ]
  },
  {
   "cell_type": "markdown",
   "metadata": {},
   "source": [
    "---\n",
    "> P-040: 全ての店舗と全ての商品を組み合わせると何件のデータとなるか調査したい。店舗（df_store）と商品（df_product）を直積した件数を計算せよ。"
   ]
  },
  {
   "cell_type": "code",
   "execution_count": 44,
   "metadata": {
    "dotnet_interactive": {
     "language": "csharp"
    }
   },
   "outputs": [
    {
     "data": {
      "text/html": [
       "<div class=\"dni-plaintext\">531590</div>"
      ]
     },
     "execution_count": 44,
     "metadata": {},
     "output_type": "execute_result"
    }
   ],
   "source": [
    "int n_store = df_store.Count();\n",
    "int n_product = df_product.Count();\n",
    "\n",
    "n_store * n_product"
   ]
  },
  {
   "cell_type": "markdown",
   "metadata": {},
   "source": [
    "---\n",
    "> P-041: レシート明細データフレーム（df_receipt）の売上金額（amount）を日付（sales_ymd）ごとに集計し、前日からの売上金額増減を計算せよ。なお、計算結果は10件表示すればよい。"
   ]
  },
  {
   "cell_type": "code",
   "execution_count": 45,
   "metadata": {
    "dotnet_interactive": {
     "language": "csharp"
    }
   },
   "outputs": [
    {
     "data": {
      "text/html": [
       "<table><thead><tr><th><i>index</i></th><th>sale_ymd</th><th>amount</th><th>befor_ymd</th><th>befor_amount</th><th>diff_amount</th></tr></thead><tbody><tr><td>0</td><td><div class=\"dni-plaintext\">20170101</div></td><td><div class=\"dni-plaintext\">33723</div></td><td><div class=\"dni-plaintext\">20161231</div></td><td><div class=\"dni-plaintext\">&lt;null&gt;</div></td><td><div class=\"dni-plaintext\">0</div></td></tr><tr><td>1</td><td><div class=\"dni-plaintext\">20170102</div></td><td><div class=\"dni-plaintext\">24165</div></td><td><div class=\"dni-plaintext\">20170101</div></td><td><div class=\"dni-plaintext\">33723</div></td><td><div class=\"dni-plaintext\">-9558</div></td></tr><tr><td>2</td><td><div class=\"dni-plaintext\">20170103</div></td><td><div class=\"dni-plaintext\">27503</div></td><td><div class=\"dni-plaintext\">20170102</div></td><td><div class=\"dni-plaintext\">24165</div></td><td><div class=\"dni-plaintext\">3338</div></td></tr><tr><td>3</td><td><div class=\"dni-plaintext\">20170104</div></td><td><div class=\"dni-plaintext\">36165</div></td><td><div class=\"dni-plaintext\">20170103</div></td><td><div class=\"dni-plaintext\">27503</div></td><td><div class=\"dni-plaintext\">8662</div></td></tr><tr><td>4</td><td><div class=\"dni-plaintext\">20170105</div></td><td><div class=\"dni-plaintext\">37830</div></td><td><div class=\"dni-plaintext\">20170104</div></td><td><div class=\"dni-plaintext\">36165</div></td><td><div class=\"dni-plaintext\">1665</div></td></tr><tr><td>5</td><td><div class=\"dni-plaintext\">20170106</div></td><td><div class=\"dni-plaintext\">32387</div></td><td><div class=\"dni-plaintext\">20170105</div></td><td><div class=\"dni-plaintext\">37830</div></td><td><div class=\"dni-plaintext\">-5443</div></td></tr><tr><td>6</td><td><div class=\"dni-plaintext\">20170107</div></td><td><div class=\"dni-plaintext\">23415</div></td><td><div class=\"dni-plaintext\">20170106</div></td><td><div class=\"dni-plaintext\">32387</div></td><td><div class=\"dni-plaintext\">-8972</div></td></tr><tr><td>7</td><td><div class=\"dni-plaintext\">20170108</div></td><td><div class=\"dni-plaintext\">24737</div></td><td><div class=\"dni-plaintext\">20170107</div></td><td><div class=\"dni-plaintext\">23415</div></td><td><div class=\"dni-plaintext\">1322</div></td></tr><tr><td>8</td><td><div class=\"dni-plaintext\">20170109</div></td><td><div class=\"dni-plaintext\">26718</div></td><td><div class=\"dni-plaintext\">20170108</div></td><td><div class=\"dni-plaintext\">24737</div></td><td><div class=\"dni-plaintext\">1981</div></td></tr><tr><td>9</td><td><div class=\"dni-plaintext\">20170110</div></td><td><div class=\"dni-plaintext\">20143</div></td><td><div class=\"dni-plaintext\">20170109</div></td><td><div class=\"dni-plaintext\">26718</div></td><td><div class=\"dni-plaintext\">-6575</div></td></tr></tbody></table>"
      ]
     },
     "execution_count": 45,
     "metadata": {},
     "output_type": "execute_result"
    }
   ],
   "source": [
    "// 日付毎の売り上げ額\n",
    "var day_sales_amount = df_receipt.GroupBy(r => r.sales_ymd)\n",
    "    .Select(r => new {sales_ymd = r.Key, sum_amount = r.Sum(t => t.amount?? 0)})\n",
    "    .ToDictionary(r => r.sales_ymd);\n",
    "// 日付計算\n",
    "string yyyymmdd_add_day(String yyyymmdd, int add_days) {\n",
    "    DateTime tm = DateTime.Parse(yyyymmdd.Substring(0,4) + \"/\" + yyyymmdd.Substring(4,2) + \"/\" + yyyymmdd.Substring(6));\n",
    "    tm = tm.AddDays(add_days);\n",
    "    return tm.ToString(\"yyyyMMdd\");\n",
    "}\n",
    "\n",
    "var date_list = df_receipt.Select(r => r.sales_ymd).Distinct().OrderBy(r => r).ToList();\n",
    "date_list.Select(yyyymmdd => new {\n",
    "    sale_ymd = yyyymmdd,\n",
    "    amount = day_sales_amount.GetValueOrDefault(yyyymmdd)?.sum_amount ?? 0,\n",
    "    befor_ymd = yyyymmdd_add_day(yyyymmdd , -1),\n",
    "}).Select(r => new {\n",
    "    r.sale_ymd,\n",
    "    r.amount,\n",
    "    r.befor_ymd,\n",
    "    befor_amount = day_sales_amount.GetValueOrDefault(r.befor_ymd)?.sum_amount,\n",
    "    diff_amount = r.amount - day_sales_amount.GetValueOrDefault(r.befor_ymd)?.sum_amount ?? 0,\n",
    "}).Take(10)"
   ]
  },
  {
   "cell_type": "markdown",
   "metadata": {},
   "source": [
    "---\n",
    "> P-042: レシート明細データフレーム（df_receipt）の売上金額（amount）を日付（sales_ymd）ごとに集計し、各日付のデータに対し、１日前、２日前、３日前のデータを結合せよ。結果は10件表示すればよい。"
   ]
  },
  {
   "cell_type": "code",
   "execution_count": 46,
   "metadata": {
    "dotnet_interactive": {
     "language": "csharp"
    }
   },
   "outputs": [
    {
     "data": {
      "text/html": [
       "<table><thead><tr><th><i>index</i></th><th>sales_ymd</th><th>amount</th><th>lag_ymd_1</th><th>lag_amount_1</th><th>lag_ymd_2</th><th>lag_amount_2</th><th>lag_ymd_3</th><th>lag_amount_3</th></tr></thead><tbody><tr><td>0</td><td><div class=\"dni-plaintext\">20170101</div></td><td><div class=\"dni-plaintext\">33723</div></td><td><div class=\"dni-plaintext\">20161231</div></td><td><div class=\"dni-plaintext\">&lt;null&gt;</div></td><td><div class=\"dni-plaintext\">20161230</div></td><td><div class=\"dni-plaintext\">&lt;null&gt;</div></td><td><div class=\"dni-plaintext\">20161229</div></td><td><div class=\"dni-plaintext\">&lt;null&gt;</div></td></tr><tr><td>1</td><td><div class=\"dni-plaintext\">20170102</div></td><td><div class=\"dni-plaintext\">24165</div></td><td><div class=\"dni-plaintext\">20170101</div></td><td><div class=\"dni-plaintext\">33723</div></td><td><div class=\"dni-plaintext\">20161231</div></td><td><div class=\"dni-plaintext\">&lt;null&gt;</div></td><td><div class=\"dni-plaintext\">20161230</div></td><td><div class=\"dni-plaintext\">&lt;null&gt;</div></td></tr><tr><td>2</td><td><div class=\"dni-plaintext\">20170103</div></td><td><div class=\"dni-plaintext\">27503</div></td><td><div class=\"dni-plaintext\">20170102</div></td><td><div class=\"dni-plaintext\">24165</div></td><td><div class=\"dni-plaintext\">20170101</div></td><td><div class=\"dni-plaintext\">33723</div></td><td><div class=\"dni-plaintext\">20161231</div></td><td><div class=\"dni-plaintext\">&lt;null&gt;</div></td></tr><tr><td>3</td><td><div class=\"dni-plaintext\">20170104</div></td><td><div class=\"dni-plaintext\">36165</div></td><td><div class=\"dni-plaintext\">20170103</div></td><td><div class=\"dni-plaintext\">27503</div></td><td><div class=\"dni-plaintext\">20170102</div></td><td><div class=\"dni-plaintext\">24165</div></td><td><div class=\"dni-plaintext\">20170101</div></td><td><div class=\"dni-plaintext\">33723</div></td></tr><tr><td>4</td><td><div class=\"dni-plaintext\">20170105</div></td><td><div class=\"dni-plaintext\">37830</div></td><td><div class=\"dni-plaintext\">20170104</div></td><td><div class=\"dni-plaintext\">36165</div></td><td><div class=\"dni-plaintext\">20170103</div></td><td><div class=\"dni-plaintext\">27503</div></td><td><div class=\"dni-plaintext\">20170102</div></td><td><div class=\"dni-plaintext\">24165</div></td></tr><tr><td>5</td><td><div class=\"dni-plaintext\">20170106</div></td><td><div class=\"dni-plaintext\">32387</div></td><td><div class=\"dni-plaintext\">20170105</div></td><td><div class=\"dni-plaintext\">37830</div></td><td><div class=\"dni-plaintext\">20170104</div></td><td><div class=\"dni-plaintext\">36165</div></td><td><div class=\"dni-plaintext\">20170103</div></td><td><div class=\"dni-plaintext\">27503</div></td></tr><tr><td>6</td><td><div class=\"dni-plaintext\">20170107</div></td><td><div class=\"dni-plaintext\">23415</div></td><td><div class=\"dni-plaintext\">20170106</div></td><td><div class=\"dni-plaintext\">32387</div></td><td><div class=\"dni-plaintext\">20170105</div></td><td><div class=\"dni-plaintext\">37830</div></td><td><div class=\"dni-plaintext\">20170104</div></td><td><div class=\"dni-plaintext\">36165</div></td></tr><tr><td>7</td><td><div class=\"dni-plaintext\">20170108</div></td><td><div class=\"dni-plaintext\">24737</div></td><td><div class=\"dni-plaintext\">20170107</div></td><td><div class=\"dni-plaintext\">23415</div></td><td><div class=\"dni-plaintext\">20170106</div></td><td><div class=\"dni-plaintext\">32387</div></td><td><div class=\"dni-plaintext\">20170105</div></td><td><div class=\"dni-plaintext\">37830</div></td></tr><tr><td>8</td><td><div class=\"dni-plaintext\">20170109</div></td><td><div class=\"dni-plaintext\">26718</div></td><td><div class=\"dni-plaintext\">20170108</div></td><td><div class=\"dni-plaintext\">24737</div></td><td><div class=\"dni-plaintext\">20170107</div></td><td><div class=\"dni-plaintext\">23415</div></td><td><div class=\"dni-plaintext\">20170106</div></td><td><div class=\"dni-plaintext\">32387</div></td></tr><tr><td>9</td><td><div class=\"dni-plaintext\">20170110</div></td><td><div class=\"dni-plaintext\">20143</div></td><td><div class=\"dni-plaintext\">20170109</div></td><td><div class=\"dni-plaintext\">26718</div></td><td><div class=\"dni-plaintext\">20170108</div></td><td><div class=\"dni-plaintext\">24737</div></td><td><div class=\"dni-plaintext\">20170107</div></td><td><div class=\"dni-plaintext\">23415</div></td></tr><tr><td>10</td><td><div class=\"dni-plaintext\">20170111</div></td><td><div class=\"dni-plaintext\">24287</div></td><td><div class=\"dni-plaintext\">20170110</div></td><td><div class=\"dni-plaintext\">20143</div></td><td><div class=\"dni-plaintext\">20170109</div></td><td><div class=\"dni-plaintext\">26718</div></td><td><div class=\"dni-plaintext\">20170108</div></td><td><div class=\"dni-plaintext\">24737</div></td></tr><tr><td>11</td><td><div class=\"dni-plaintext\">20170112</div></td><td><div class=\"dni-plaintext\">23526</div></td><td><div class=\"dni-plaintext\">20170111</div></td><td><div class=\"dni-plaintext\">24287</div></td><td><div class=\"dni-plaintext\">20170110</div></td><td><div class=\"dni-plaintext\">20143</div></td><td><div class=\"dni-plaintext\">20170109</div></td><td><div class=\"dni-plaintext\">26718</div></td></tr><tr><td>12</td><td><div class=\"dni-plaintext\">20170113</div></td><td><div class=\"dni-plaintext\">28004</div></td><td><div class=\"dni-plaintext\">20170112</div></td><td><div class=\"dni-plaintext\">23526</div></td><td><div class=\"dni-plaintext\">20170111</div></td><td><div class=\"dni-plaintext\">24287</div></td><td><div class=\"dni-plaintext\">20170110</div></td><td><div class=\"dni-plaintext\">20143</div></td></tr><tr><td>13</td><td><div class=\"dni-plaintext\">20170114</div></td><td><div class=\"dni-plaintext\">27452</div></td><td><div class=\"dni-plaintext\">20170113</div></td><td><div class=\"dni-plaintext\">28004</div></td><td><div class=\"dni-plaintext\">20170112</div></td><td><div class=\"dni-plaintext\">23526</div></td><td><div class=\"dni-plaintext\">20170111</div></td><td><div class=\"dni-plaintext\">24287</div></td></tr><tr><td>14</td><td><div class=\"dni-plaintext\">20170115</div></td><td><div class=\"dni-plaintext\">18793</div></td><td><div class=\"dni-plaintext\">20170114</div></td><td><div class=\"dni-plaintext\">27452</div></td><td><div class=\"dni-plaintext\">20170113</div></td><td><div class=\"dni-plaintext\">28004</div></td><td><div class=\"dni-plaintext\">20170112</div></td><td><div class=\"dni-plaintext\">23526</div></td></tr><tr><td>15</td><td><div class=\"dni-plaintext\">20170116</div></td><td><div class=\"dni-plaintext\">34075</div></td><td><div class=\"dni-plaintext\">20170115</div></td><td><div class=\"dni-plaintext\">18793</div></td><td><div class=\"dni-plaintext\">20170114</div></td><td><div class=\"dni-plaintext\">27452</div></td><td><div class=\"dni-plaintext\">20170113</div></td><td><div class=\"dni-plaintext\">28004</div></td></tr><tr><td>16</td><td><div class=\"dni-plaintext\">20170117</div></td><td><div class=\"dni-plaintext\">36709</div></td><td><div class=\"dni-plaintext\">20170116</div></td><td><div class=\"dni-plaintext\">34075</div></td><td><div class=\"dni-plaintext\">20170115</div></td><td><div class=\"dni-plaintext\">18793</div></td><td><div class=\"dni-plaintext\">20170114</div></td><td><div class=\"dni-plaintext\">27452</div></td></tr><tr><td>17</td><td><div class=\"dni-plaintext\">20170118</div></td><td><div class=\"dni-plaintext\">33976</div></td><td><div class=\"dni-plaintext\">20170117</div></td><td><div class=\"dni-plaintext\">36709</div></td><td><div class=\"dni-plaintext\">20170116</div></td><td><div class=\"dni-plaintext\">34075</div></td><td><div class=\"dni-plaintext\">20170115</div></td><td><div class=\"dni-plaintext\">18793</div></td></tr><tr><td>18</td><td><div class=\"dni-plaintext\">20170119</div></td><td><div class=\"dni-plaintext\">26022</div></td><td><div class=\"dni-plaintext\">20170118</div></td><td><div class=\"dni-plaintext\">33976</div></td><td><div class=\"dni-plaintext\">20170117</div></td><td><div class=\"dni-plaintext\">36709</div></td><td><div class=\"dni-plaintext\">20170116</div></td><td><div class=\"dni-plaintext\">34075</div></td></tr><tr><td>19</td><td><div class=\"dni-plaintext\">20170120</div></td><td><div class=\"dni-plaintext\">26326</div></td><td><div class=\"dni-plaintext\">20170119</div></td><td><div class=\"dni-plaintext\">26022</div></td><td><div class=\"dni-plaintext\">20170118</div></td><td><div class=\"dni-plaintext\">33976</div></td><td><div class=\"dni-plaintext\">20170117</div></td><td><div class=\"dni-plaintext\">36709</div></td></tr><tr><td colspan=\"9\">(1014 more)</td></tr></tbody></table>"
      ]
     },
     "execution_count": 46,
     "metadata": {},
     "output_type": "execute_result"
    }
   ],
   "source": [
    "// 日付毎に集計して 売上金額の 合計を計算\n",
    "var sales_ymd_to_amount = df_receipt.GroupBy(r => r.sales_ymd).Select(r => new {\n",
    "    sales_ymd = r.Key,\n",
    "    amount = r.Sum(t => t.amount),\n",
    "}).ToDictionary(r => r.sales_ymd); // 日付をキーに検索できるように Dictionary 変換\n",
    "//display(sales_ymd_to_amount);\n",
    "\n",
    "// 日付加減算処理\n",
    "string yyyymmdd_add_day(String yyyymmdd, int add_days) {\n",
    "    DateTime tm = DateTime.Parse(yyyymmdd.Substring(0,4) + \"/\" + yyyymmdd.Substring(4,2) + \"/\" + yyyymmdd.Substring(6));\n",
    "    tm = tm.AddDays(add_days);\n",
    "    return tm.ToString(\"yyyyMMdd\");\n",
    "}\n",
    "\n",
    "sales_ymd_to_amount.Values\n",
    ".OrderBy(r => r.sales_ymd)    // データを日付順に並び替え\n",
    ".Select(r => new {\n",
    "    // 1日前、2日前、3日前の計算\n",
    "    sales_ymd = r.sales_ymd,\n",
    "    amount = r.amount,\n",
    "    lag_ymd_1 = yyyymmdd_add_day(r.sales_ymd, -1),\n",
    "    lag_ymd_2 = yyyymmdd_add_day(r.sales_ymd, -2),\n",
    "    lag_ymd_3 = yyyymmdd_add_day(r.sales_ymd, -3),\n",
    "}).Select(r => new {\n",
    "    // 指定の日の 売上金額 設定\n",
    "    sales_ymd = r.sales_ymd,\n",
    "    amount = r.amount,\n",
    "    lag_ymd_1 = r.lag_ymd_1,\n",
    "    lag_amount_1 = sales_ymd_to_amount.GetValueOrDefault(r.lag_ymd_1)?.amount,\n",
    "    lag_ymd_2 = r.lag_ymd_2,\n",
    "    lag_amount_2 = sales_ymd_to_amount.GetValueOrDefault(r.lag_ymd_2)?.amount,\n",
    "    lag_ymd_3 = r.lag_ymd_3,\n",
    "    lag_amount_3 = sales_ymd_to_amount.GetValueOrDefault(r.lag_ymd_3)?.amount,\n",
    "})"
   ]
  },
  {
   "cell_type": "markdown",
   "metadata": {},
   "source": [
    "---\n",
    "> P-043： レシート明細データフレーム（df_receipt）と顧客データフレーム（df_customer）を結合し、性別（gender）と年代（ageから計算）ごとに売上金額（amount）を合計した売上サマリデータフレーム（df_sales_summary）を作成せよ。性別は0が男性、1が女性、9が不明を表すものとする。\n",
    ">\n",
    "> ただし、項目構成は年代、女性の売上金額、男性の売上金額、性別不明の売上金額の4項目とすること（縦に年代、横に性別のクロス集計）。また、年代は10歳ごとの階級とすること。"
   ]
  },
  {
   "cell_type": "code",
   "execution_count": 47,
   "metadata": {
    "dotnet_interactive": {
     "language": "csharp"
    }
   },
   "outputs": [
    {
     "data": {
      "text/html": [
       "<table><thead><tr><th><i>index</i></th><th>era</th><th>male</th><th>female</th><th>unknown</th><th>null_data</th></tr></thead><tbody><tr><td>0</td><td><div class=\"dni-plaintext\">10</div></td><td><div class=\"dni-plaintext\">1591</div></td><td><div class=\"dni-plaintext\">149836</div></td><td><div class=\"dni-plaintext\">4317</div></td><td><div class=\"dni-plaintext\">0</div></td></tr><tr><td>1</td><td><div class=\"dni-plaintext\">20</div></td><td><div class=\"dni-plaintext\">72940</div></td><td><div class=\"dni-plaintext\">1363724</div></td><td><div class=\"dni-plaintext\">44328</div></td><td><div class=\"dni-plaintext\">0</div></td></tr><tr><td>2</td><td><div class=\"dni-plaintext\">30</div></td><td><div class=\"dni-plaintext\">177322</div></td><td><div class=\"dni-plaintext\">693047</div></td><td><div class=\"dni-plaintext\">50441</div></td><td><div class=\"dni-plaintext\">0</div></td></tr><tr><td>3</td><td><div class=\"dni-plaintext\">40</div></td><td><div class=\"dni-plaintext\">19355</div></td><td><div class=\"dni-plaintext\">9320791</div></td><td><div class=\"dni-plaintext\">483512</div></td><td><div class=\"dni-plaintext\">0</div></td></tr><tr><td>4</td><td><div class=\"dni-plaintext\">50</div></td><td><div class=\"dni-plaintext\">54320</div></td><td><div class=\"dni-plaintext\">6685192</div></td><td><div class=\"dni-plaintext\">342923</div></td><td><div class=\"dni-plaintext\">0</div></td></tr><tr><td>5</td><td><div class=\"dni-plaintext\">60</div></td><td><div class=\"dni-plaintext\">272469</div></td><td><div class=\"dni-plaintext\">987741</div></td><td><div class=\"dni-plaintext\">71418</div></td><td><div class=\"dni-plaintext\">0</div></td></tr><tr><td>6</td><td><div class=\"dni-plaintext\">70</div></td><td><div class=\"dni-plaintext\">13435</div></td><td><div class=\"dni-plaintext\">29764</div></td><td><div class=\"dni-plaintext\">2427</div></td><td><div class=\"dni-plaintext\">0</div></td></tr><tr><td>7</td><td><div class=\"dni-plaintext\">80</div></td><td><div class=\"dni-plaintext\">46360</div></td><td><div class=\"dni-plaintext\">262923</div></td><td><div class=\"dni-plaintext\">5111</div></td><td><div class=\"dni-plaintext\">0</div></td></tr><tr><td>8</td><td><div class=\"dni-plaintext\">90</div></td><td><div class=\"dni-plaintext\">0</div></td><td><div class=\"dni-plaintext\">6260</div></td><td><div class=\"dni-plaintext\">0</div></td><td><div class=\"dni-plaintext\">0</div></td></tr></tbody></table>"
      ]
     },
     "metadata": {},
     "output_type": "display_data"
    }
   ],
   "source": [
    "string gender_cd_to_name(string gender_cd) {\n",
    "    switch(gender_cd) {\n",
    "        case \"0\": return \"男性\";\n",
    "        case \"1\": return \"女性\";\n",
    "        case \"9\": return \"不明\";\n",
    "        default: return null;\n",
    "    }\n",
    "}\n",
    "var list = from df_receipt in df_receipt\n",
    "    join df_customer in df_customer on df_receipt.customer_id equals df_customer.customer_id into df_receipt_cusomer\n",
    "    from df_data in df_receipt_cusomer\n",
    "    select new {\n",
    "        df_receipt_customer_id = df_receipt.customer_id,\n",
    "        df_receipt.amount,\n",
    "        df_data?.customer_id,\n",
    "        df_data?.age,\n",
    "        gender_cd = df_data?.gender_cd,\n",
    "        era = (df_data?.age ?? 0) / 10 * 10,\n",
    "    };\n",
    "\n",
    "var list_sum = list\n",
    "    .GroupBy(r => r.era) // 世代でグループ化\n",
    "    .Select(r => new {\n",
    "        era = r.Key,\n",
    "        male = r.Where(t => t.gender_cd == \"0\").Sum(r => r.amount),\n",
    "        female = r.Where(t => t.gender_cd == \"1\").Sum(r => r.amount),\n",
    "        unknown = r.Where(t => t.gender_cd == \"9\").Sum(r => r.amount),\n",
    "        null_data = r.Where(t => t.gender_cd == null).Sum(r => r.amount),\n",
    "    }).OrderBy(r => r.era).ToList();\n",
    "\n",
    "display(list_sum);"
   ]
  },
  {
   "cell_type": "markdown",
   "metadata": {},
   "source": [
    "---\n",
    "> P-044： 前設問で作成した売上サマリデータフレーム（df_sales_summary）は性別の売上を横持ちさせたものであった。このデータフレームから性別を縦持ちさせ、年代、性別コード、売上金額の3項目に変換せよ。ただし、性別コードは男性を'00'、女性を'01'、不明を'99'とする。"
   ]
  },
  {
   "cell_type": "code",
   "execution_count": 48,
   "metadata": {
    "dotnet_interactive": {
     "language": "csharp"
    }
   },
   "outputs": [
    {
     "data": {
      "text/html": [
       "<table><thead><tr><th><i>index</i></th><th>era</th><th>gender_cd</th><th>sum_amount</th></tr></thead><tbody><tr><td>0</td><td><div class=\"dni-plaintext\">10</div></td><td><div class=\"dni-plaintext\">00</div></td><td><div class=\"dni-plaintext\">1591</div></td></tr><tr><td>1</td><td><div class=\"dni-plaintext\">20</div></td><td><div class=\"dni-plaintext\">00</div></td><td><div class=\"dni-plaintext\">72940</div></td></tr><tr><td>2</td><td><div class=\"dni-plaintext\">30</div></td><td><div class=\"dni-plaintext\">00</div></td><td><div class=\"dni-plaintext\">177322</div></td></tr><tr><td>3</td><td><div class=\"dni-plaintext\">40</div></td><td><div class=\"dni-plaintext\">00</div></td><td><div class=\"dni-plaintext\">19355</div></td></tr><tr><td>4</td><td><div class=\"dni-plaintext\">50</div></td><td><div class=\"dni-plaintext\">00</div></td><td><div class=\"dni-plaintext\">54320</div></td></tr><tr><td>5</td><td><div class=\"dni-plaintext\">60</div></td><td><div class=\"dni-plaintext\">00</div></td><td><div class=\"dni-plaintext\">272469</div></td></tr><tr><td>6</td><td><div class=\"dni-plaintext\">70</div></td><td><div class=\"dni-plaintext\">00</div></td><td><div class=\"dni-plaintext\">13435</div></td></tr><tr><td>7</td><td><div class=\"dni-plaintext\">80</div></td><td><div class=\"dni-plaintext\">00</div></td><td><div class=\"dni-plaintext\">46360</div></td></tr><tr><td>8</td><td><div class=\"dni-plaintext\">10</div></td><td><div class=\"dni-plaintext\">01</div></td><td><div class=\"dni-plaintext\">149836</div></td></tr><tr><td>9</td><td><div class=\"dni-plaintext\">20</div></td><td><div class=\"dni-plaintext\">01</div></td><td><div class=\"dni-plaintext\">1363724</div></td></tr><tr><td>10</td><td><div class=\"dni-plaintext\">30</div></td><td><div class=\"dni-plaintext\">01</div></td><td><div class=\"dni-plaintext\">693047</div></td></tr><tr><td>11</td><td><div class=\"dni-plaintext\">40</div></td><td><div class=\"dni-plaintext\">01</div></td><td><div class=\"dni-plaintext\">9320791</div></td></tr><tr><td>12</td><td><div class=\"dni-plaintext\">50</div></td><td><div class=\"dni-plaintext\">01</div></td><td><div class=\"dni-plaintext\">6685192</div></td></tr><tr><td>13</td><td><div class=\"dni-plaintext\">60</div></td><td><div class=\"dni-plaintext\">01</div></td><td><div class=\"dni-plaintext\">987741</div></td></tr><tr><td>14</td><td><div class=\"dni-plaintext\">70</div></td><td><div class=\"dni-plaintext\">01</div></td><td><div class=\"dni-plaintext\">29764</div></td></tr><tr><td>15</td><td><div class=\"dni-plaintext\">80</div></td><td><div class=\"dni-plaintext\">01</div></td><td><div class=\"dni-plaintext\">262923</div></td></tr><tr><td>16</td><td><div class=\"dni-plaintext\">90</div></td><td><div class=\"dni-plaintext\">01</div></td><td><div class=\"dni-plaintext\">6260</div></td></tr><tr><td>17</td><td><div class=\"dni-plaintext\">10</div></td><td><div class=\"dni-plaintext\">99</div></td><td><div class=\"dni-plaintext\">4317</div></td></tr><tr><td>18</td><td><div class=\"dni-plaintext\">20</div></td><td><div class=\"dni-plaintext\">99</div></td><td><div class=\"dni-plaintext\">44328</div></td></tr><tr><td>19</td><td><div class=\"dni-plaintext\">30</div></td><td><div class=\"dni-plaintext\">99</div></td><td><div class=\"dni-plaintext\">50441</div></td></tr><tr><td colspan=\"4\">(5 more)</td></tr></tbody></table>"
      ]
     },
     "execution_count": 48,
     "metadata": {},
     "output_type": "execute_result"
    }
   ],
   "source": [
    "string gender_cd_convert(string gender_cd) {\n",
    "        switch(gender_cd) {\n",
    "            case \"0\": return \"00\";\n",
    "            case \"1\": return \"01\";\n",
    "            case \"9\": return \"99\";\n",
    "            default: return null;\n",
    "        }\n",
    "    }\n",
    "\n",
    "var list = from df_receipt in df_receipt\n",
    "    join df_customer in df_customer on df_receipt.customer_id equals df_customer.customer_id into df_receipt_cusomer\n",
    "    from df_data in df_receipt_cusomer\n",
    "    select new {\n",
    "        df_receipt.amount,\n",
    "        gender_cd = gender_cd_convert(df_data?.gender_cd),\n",
    "        era = (df_data?.age ?? 0) / 10 * 10,\n",
    "    };\n",
    "\n",
    "list.GroupBy(r => new { r.era, r.gender_cd})\n",
    "    .Select(r => new { era = r.Key.era, gender_cd = r.Key.gender_cd, sum_amount = r.Sum(t => t.amount)})\n",
    "    .OrderBy(r => r.gender_cd).ThenBy(r => r.era)"
   ]
  },
  {
   "cell_type": "markdown",
   "metadata": {},
   "source": [
    "---\n",
    "> P-045: 顧客データフレーム（df_customer）の生年月日（birth_day）は日付型（Date）でデータを保有している。これをYYYYMMDD形式の文字列に変換し、顧客ID（customer_id）とともに抽出せよ。データは10件を抽出すれば良い。"
   ]
  },
  {
   "cell_type": "code",
   "execution_count": 49,
   "metadata": {
    "dotnet_interactive": {
     "language": "csharp"
    }
   },
   "outputs": [
    {
     "data": {
      "text/html": [
       "<table><thead><tr><th><i>index</i></th><th>customer_id</th><th>birth_day</th></tr></thead><tbody><tr><td>0</td><td><div class=\"dni-plaintext\">CS021313000114</div></td><td><div class=\"dni-plaintext\">19810429</div></td></tr><tr><td>1</td><td><div class=\"dni-plaintext\">CS037613000071</div></td><td><div class=\"dni-plaintext\">19520401</div></td></tr><tr><td>2</td><td><div class=\"dni-plaintext\">CS031415000172</div></td><td><div class=\"dni-plaintext\">19761004</div></td></tr><tr><td>3</td><td><div class=\"dni-plaintext\">CS028811000001</div></td><td><div class=\"dni-plaintext\">19330327</div></td></tr><tr><td>4</td><td><div class=\"dni-plaintext\">CS001215000145</div></td><td><div class=\"dni-plaintext\">19950329</div></td></tr><tr><td>5</td><td><div class=\"dni-plaintext\">CS020401000016</div></td><td><div class=\"dni-plaintext\">19740915</div></td></tr><tr><td>6</td><td><div class=\"dni-plaintext\">CS015414000103</div></td><td><div class=\"dni-plaintext\">19770809</div></td></tr><tr><td>7</td><td><div class=\"dni-plaintext\">CS029403000008</div></td><td><div class=\"dni-plaintext\">19730817</div></td></tr><tr><td>8</td><td><div class=\"dni-plaintext\">CS015804000004</div></td><td><div class=\"dni-plaintext\">19310502</div></td></tr><tr><td>9</td><td><div class=\"dni-plaintext\">CS033513000180</div></td><td><div class=\"dni-plaintext\">19620711</div></td></tr></tbody></table>"
      ]
     },
     "execution_count": 49,
     "metadata": {},
     "output_type": "execute_result"
    }
   ],
   "source": [
    "df_customer.Select(r => new {\n",
    "    r.customer_id,\n",
    "    birth_day = r.birth_day?.ToString(\"yyyyMMdd\"),\n",
    "}).Take(10)"
   ]
  },
  {
   "cell_type": "markdown",
   "metadata": {},
   "source": [
    "---\n",
    "> P-046: 顧客データフレーム（df_customer）の申し込み日（application_date）はYYYYMMDD形式の文字列型でデータを保有している。これを日付型（dateやdatetime）に変換し、顧客ID（customer_id）とともに抽出せよ。データは10件を抽出すれば良い。"
   ]
  },
  {
   "cell_type": "code",
   "execution_count": 50,
   "metadata": {
    "dotnet_interactive": {
     "language": "csharp"
    }
   },
   "outputs": [
    {
     "data": {
      "text/html": [
       "<table><thead><tr><th><i>index</i></th><th>customer_id</th><th>application_date</th></tr></thead><tbody><tr><td>0</td><td><div class=\"dni-plaintext\">CS021313000114</div></td><td><span>2015-09-09</span></td></tr><tr><td>1</td><td><div class=\"dni-plaintext\">CS037613000071</div></td><td><span>2015-04-04</span></td></tr><tr><td>2</td><td><div class=\"dni-plaintext\">CS031415000172</div></td><td><span>2015-05-05</span></td></tr><tr><td>3</td><td><div class=\"dni-plaintext\">CS028811000001</div></td><td><span>2016-01-01</span></td></tr><tr><td>4</td><td><div class=\"dni-plaintext\">CS001215000145</div></td><td><span>2017-06-06</span></td></tr></tbody></table>"
      ]
     },
     "execution_count": 50,
     "metadata": {},
     "output_type": "execute_result"
    }
   ],
   "source": [
    "\n",
    "DateTime ?yyyymmdd_to_date(string yyyymmdd) {\n",
    "    if (yyyymmdd == null) return null;\n",
    "    return DateTime.Parse(yyyymmdd.Substring(0,4) + \"/\" + yyyymmdd.Substring(4,2) + \"/\" + yyyymmdd.Substring(4,2));\n",
    "}\n",
    "df_customer.Select(r => new {\n",
    "    r.customer_id,\n",
    "    application_date = yyyymmdd_to_date(r.application_date),\n",
    "}).Take(5)"
   ]
  },
  {
   "cell_type": "markdown",
   "metadata": {},
   "source": [
    "---\n",
    "> P-047: レシート明細データフレーム（df_receipt）の売上日（sales_ymd）はYYYYMMDD形式の数値型でデータを保有している。これを日付型（dateやdatetime）に変換し、レシート番号(receipt_no)、レシートサブ番号（receipt_sub_no）とともに抽出せよ。データは10件を抽出すれば良い。"
   ]
  },
  {
   "cell_type": "code",
   "execution_count": 51,
   "metadata": {
    "dotnet_interactive": {
     "language": "csharp"
    }
   },
   "outputs": [
    {
     "data": {
      "text/html": [
       "<table><thead><tr><th><i>index</i></th><th>receipt_no</th><th>receipt_sub_no</th><th>sales_ymd</th></tr></thead><tbody><tr><td>0</td><td><div class=\"dni-plaintext\">112</div></td><td><div class=\"dni-plaintext\">1</div></td><td><span>2018-11-03</span></td></tr><tr><td>1</td><td><div class=\"dni-plaintext\">1132</div></td><td><div class=\"dni-plaintext\">2</div></td><td><span>2018-11-18</span></td></tr><tr><td>2</td><td><div class=\"dni-plaintext\">1102</div></td><td><div class=\"dni-plaintext\">1</div></td><td><span>2017-07-12</span></td></tr><tr><td>3</td><td><div class=\"dni-plaintext\">1132</div></td><td><div class=\"dni-plaintext\">1</div></td><td><span>2019-02-05</span></td></tr><tr><td>4</td><td><div class=\"dni-plaintext\">1102</div></td><td><div class=\"dni-plaintext\">2</div></td><td><span>2018-08-21</span></td></tr><tr><td>5</td><td><div class=\"dni-plaintext\">1112</div></td><td><div class=\"dni-plaintext\">1</div></td><td><span>2019-06-05</span></td></tr><tr><td>6</td><td><div class=\"dni-plaintext\">1102</div></td><td><div class=\"dni-plaintext\">2</div></td><td><span>2018-12-05</span></td></tr><tr><td>7</td><td><div class=\"dni-plaintext\">1102</div></td><td><div class=\"dni-plaintext\">1</div></td><td><span>2019-09-22</span></td></tr><tr><td>8</td><td><div class=\"dni-plaintext\">1112</div></td><td><div class=\"dni-plaintext\">2</div></td><td><span>2017-05-04</span></td></tr><tr><td>9</td><td><div class=\"dni-plaintext\">1102</div></td><td><div class=\"dni-plaintext\">1</div></td><td><span>2019-10-10</span></td></tr></tbody></table>"
      ]
     },
     "execution_count": 51,
     "metadata": {},
     "output_type": "execute_result"
    }
   ],
   "source": [
    "DateTime ?yyyymmdd_to_date(string yyyymmdd) {\n",
    "    if (yyyymmdd == null) return null;\n",
    "    return DateTime.Parse(yyyymmdd.Substring(0,4) + \"/\" + yyyymmdd.Substring(4,2) + \"/\" + yyyymmdd.Substring(6));\n",
    "}\n",
    "\n",
    "df_receipt.Select(r => new {\n",
    "    r.receipt_no,\n",
    "    r.receipt_sub_no,\n",
    "    sales_ymd = yyyymmdd_to_date(r.sales_ymd),\n",
    "}).Take(10)"
   ]
  },
  {
   "cell_type": "markdown",
   "metadata": {},
   "source": [
    "---\n",
    "> P-048: レシート明細データフレーム（df_receipt）の売上エポック秒（sales_epoch）は数値型のUNIX秒でデータを保有している。これを日付型（dateやdatetime）に変換し、レシート番号(receipt_no)、レシートサブ番号（receipt_sub_no）とともに抽出せよ。データは10件を抽出すれば良い。"
   ]
  },
  {
   "cell_type": "code",
   "execution_count": 52,
   "metadata": {
    "dotnet_interactive": {
     "language": "csharp"
    }
   },
   "outputs": [
    {
     "data": {
      "text/html": [
       "<table><thead><tr><th><i>index</i></th><th>receipt_no</th><th>receipt_sub_no</th><th>sales_ymd</th></tr></thead><tbody><tr><td>0</td><td><div class=\"dni-plaintext\">112</div></td><td><div class=\"dni-plaintext\">1</div></td><td><span>2018-11-03</span></td></tr><tr><td>1</td><td><div class=\"dni-plaintext\">1132</div></td><td><div class=\"dni-plaintext\">2</div></td><td><span>2018-11-18</span></td></tr><tr><td>2</td><td><div class=\"dni-plaintext\">1102</div></td><td><div class=\"dni-plaintext\">1</div></td><td><span>2017-07-12</span></td></tr><tr><td>3</td><td><div class=\"dni-plaintext\">1132</div></td><td><div class=\"dni-plaintext\">1</div></td><td><span>2019-02-05</span></td></tr><tr><td>4</td><td><div class=\"dni-plaintext\">1102</div></td><td><div class=\"dni-plaintext\">2</div></td><td><span>2018-08-21</span></td></tr><tr><td>5</td><td><div class=\"dni-plaintext\">1112</div></td><td><div class=\"dni-plaintext\">1</div></td><td><span>2019-06-05</span></td></tr><tr><td>6</td><td><div class=\"dni-plaintext\">1102</div></td><td><div class=\"dni-plaintext\">2</div></td><td><span>2018-12-05</span></td></tr><tr><td>7</td><td><div class=\"dni-plaintext\">1102</div></td><td><div class=\"dni-plaintext\">1</div></td><td><span>2019-09-22</span></td></tr><tr><td>8</td><td><div class=\"dni-plaintext\">1112</div></td><td><div class=\"dni-plaintext\">2</div></td><td><span>2017-05-04</span></td></tr><tr><td>9</td><td><div class=\"dni-plaintext\">1102</div></td><td><div class=\"dni-plaintext\">1</div></td><td><span>2019-10-10</span></td></tr></tbody></table>"
      ]
     },
     "execution_count": 52,
     "metadata": {},
     "output_type": "execute_result"
    }
   ],
   "source": [
    "// df_receipt.Where(r => r.sales_epoch == null).Count()\n",
    "// null は 0 件\n",
    "DateTime epoch_to_date(int? epoch) {\n",
    "    return DateTime.UnixEpoch.AddSeconds(epoch ?? 0);\n",
    "}\n",
    "\n",
    "df_receipt.Select(r => new {\n",
    "    r.receipt_no,\n",
    "    r.receipt_sub_no,\n",
    "    sales_ymd = epoch_to_date(r.sales_epoch),\n",
    "}).Take(10)"
   ]
  },
  {
   "cell_type": "markdown",
   "metadata": {},
   "source": [
    "---\n",
    "> P-049: レシート明細データフレーム（df_receipt）の売上エポック秒（sales_epoch）を日付型（timestamp型）に変換し、\"年\"だけ取り出してレシート番号(receipt_no)、レシートサブ番号（receipt_sub_no）とともに抽出せよ。データは10件を抽出すれば良い。"
   ]
  },
  {
   "cell_type": "code",
   "execution_count": 53,
   "metadata": {
    "dotnet_interactive": {
     "language": "csharp"
    }
   },
   "outputs": [
    {
     "data": {
      "text/html": [
       "<table><thead><tr><th><i>index</i></th><th>receipt_no</th><th>receipt_sub_no</th><th>sales_year</th></tr></thead><tbody><tr><td>0</td><td><div class=\"dni-plaintext\">112</div></td><td><div class=\"dni-plaintext\">1</div></td><td><div class=\"dni-plaintext\">2018</div></td></tr><tr><td>1</td><td><div class=\"dni-plaintext\">1132</div></td><td><div class=\"dni-plaintext\">2</div></td><td><div class=\"dni-plaintext\">2018</div></td></tr><tr><td>2</td><td><div class=\"dni-plaintext\">1102</div></td><td><div class=\"dni-plaintext\">1</div></td><td><div class=\"dni-plaintext\">2017</div></td></tr><tr><td>3</td><td><div class=\"dni-plaintext\">1132</div></td><td><div class=\"dni-plaintext\">1</div></td><td><div class=\"dni-plaintext\">2019</div></td></tr><tr><td>4</td><td><div class=\"dni-plaintext\">1102</div></td><td><div class=\"dni-plaintext\">2</div></td><td><div class=\"dni-plaintext\">2018</div></td></tr><tr><td>5</td><td><div class=\"dni-plaintext\">1112</div></td><td><div class=\"dni-plaintext\">1</div></td><td><div class=\"dni-plaintext\">2019</div></td></tr><tr><td>6</td><td><div class=\"dni-plaintext\">1102</div></td><td><div class=\"dni-plaintext\">2</div></td><td><div class=\"dni-plaintext\">2018</div></td></tr><tr><td>7</td><td><div class=\"dni-plaintext\">1102</div></td><td><div class=\"dni-plaintext\">1</div></td><td><div class=\"dni-plaintext\">2019</div></td></tr><tr><td>8</td><td><div class=\"dni-plaintext\">1112</div></td><td><div class=\"dni-plaintext\">2</div></td><td><div class=\"dni-plaintext\">2017</div></td></tr><tr><td>9</td><td><div class=\"dni-plaintext\">1102</div></td><td><div class=\"dni-plaintext\">1</div></td><td><div class=\"dni-plaintext\">2019</div></td></tr></tbody></table>"
      ]
     },
     "execution_count": 53,
     "metadata": {},
     "output_type": "execute_result"
    }
   ],
   "source": [
    "df_receipt.Select(r => new {\n",
    "    r.receipt_no,\n",
    "    r.receipt_sub_no,\n",
    "    sales_year = epoch_to_date(r.sales_epoch).Year,\n",
    "}).Take(10)"
   ]
  },
  {
   "cell_type": "markdown",
   "metadata": {},
   "source": [
    "---\n",
    "> P-050: レシート明細データフレーム（df_receipt）の売上エポック秒（sales_epoch）を日付型（timestamp型）に変換し、\"月\"だけ取り出してレシート番号(receipt_no)、レシートサブ番号（receipt_sub_no）とともに抽出せよ。なお、\"月\"は0埋め2桁で取り出すこと。データは10件を抽出すれば良い。"
   ]
  },
  {
   "cell_type": "code",
   "execution_count": 54,
   "metadata": {
    "dotnet_interactive": {
     "language": "csharp"
    }
   },
   "outputs": [
    {
     "data": {
      "text/html": [
       "<table><thead><tr><th><i>index</i></th><th>receipt_no</th><th>receipt_sub_no</th><th>sales_month</th></tr></thead><tbody><tr><td>0</td><td><div class=\"dni-plaintext\">112</div></td><td><div class=\"dni-plaintext\">1</div></td><td><div class=\"dni-plaintext\">11</div></td></tr><tr><td>1</td><td><div class=\"dni-plaintext\">1132</div></td><td><div class=\"dni-plaintext\">2</div></td><td><div class=\"dni-plaintext\">11</div></td></tr><tr><td>2</td><td><div class=\"dni-plaintext\">1102</div></td><td><div class=\"dni-plaintext\">1</div></td><td><div class=\"dni-plaintext\">07</div></td></tr><tr><td>3</td><td><div class=\"dni-plaintext\">1132</div></td><td><div class=\"dni-plaintext\">1</div></td><td><div class=\"dni-plaintext\">02</div></td></tr><tr><td>4</td><td><div class=\"dni-plaintext\">1102</div></td><td><div class=\"dni-plaintext\">2</div></td><td><div class=\"dni-plaintext\">08</div></td></tr><tr><td>5</td><td><div class=\"dni-plaintext\">1112</div></td><td><div class=\"dni-plaintext\">1</div></td><td><div class=\"dni-plaintext\">06</div></td></tr><tr><td>6</td><td><div class=\"dni-plaintext\">1102</div></td><td><div class=\"dni-plaintext\">2</div></td><td><div class=\"dni-plaintext\">12</div></td></tr><tr><td>7</td><td><div class=\"dni-plaintext\">1102</div></td><td><div class=\"dni-plaintext\">1</div></td><td><div class=\"dni-plaintext\">09</div></td></tr><tr><td>8</td><td><div class=\"dni-plaintext\">1112</div></td><td><div class=\"dni-plaintext\">2</div></td><td><div class=\"dni-plaintext\">05</div></td></tr><tr><td>9</td><td><div class=\"dni-plaintext\">1102</div></td><td><div class=\"dni-plaintext\">1</div></td><td><div class=\"dni-plaintext\">10</div></td></tr></tbody></table>"
      ]
     },
     "execution_count": 54,
     "metadata": {},
     "output_type": "execute_result"
    }
   ],
   "source": [
    "df_receipt.Select(r => new {\n",
    "    r.receipt_no,\n",
    "    r.receipt_sub_no,\n",
    "    sales_month = epoch_to_date(r.sales_epoch).Month.ToString(\"D2\"),\n",
    "}).Take(10)"
   ]
  },
  {
   "cell_type": "markdown",
   "metadata": {},
   "source": [
    "---\n",
    "> P-051: レシート明細データフレーム（df_receipt）の売上エポック秒（sales_epoch）を日付型（timestamp型）に変換し、\"日\"だけ取り出してレシート番号(receipt_no)、レシートサブ番号（receipt_sub_no）とともに抽出せよ。なお、\"日\"は0埋め2桁で取り出すこと。データは10件を抽出すれば良い。"
   ]
  },
  {
   "cell_type": "code",
   "execution_count": 55,
   "metadata": {
    "dotnet_interactive": {
     "language": "csharp"
    }
   },
   "outputs": [
    {
     "data": {
      "text/html": [
       "<table><thead><tr><th><i>index</i></th><th>receipt_no</th><th>receipt_sub_no</th><th>sales_month</th></tr></thead><tbody><tr><td>0</td><td><div class=\"dni-plaintext\">112</div></td><td><div class=\"dni-plaintext\">1</div></td><td><div class=\"dni-plaintext\">03</div></td></tr><tr><td>1</td><td><div class=\"dni-plaintext\">1132</div></td><td><div class=\"dni-plaintext\">2</div></td><td><div class=\"dni-plaintext\">18</div></td></tr><tr><td>2</td><td><div class=\"dni-plaintext\">1102</div></td><td><div class=\"dni-plaintext\">1</div></td><td><div class=\"dni-plaintext\">12</div></td></tr><tr><td>3</td><td><div class=\"dni-plaintext\">1132</div></td><td><div class=\"dni-plaintext\">1</div></td><td><div class=\"dni-plaintext\">05</div></td></tr><tr><td>4</td><td><div class=\"dni-plaintext\">1102</div></td><td><div class=\"dni-plaintext\">2</div></td><td><div class=\"dni-plaintext\">21</div></td></tr><tr><td>5</td><td><div class=\"dni-plaintext\">1112</div></td><td><div class=\"dni-plaintext\">1</div></td><td><div class=\"dni-plaintext\">05</div></td></tr><tr><td>6</td><td><div class=\"dni-plaintext\">1102</div></td><td><div class=\"dni-plaintext\">2</div></td><td><div class=\"dni-plaintext\">05</div></td></tr><tr><td>7</td><td><div class=\"dni-plaintext\">1102</div></td><td><div class=\"dni-plaintext\">1</div></td><td><div class=\"dni-plaintext\">22</div></td></tr><tr><td>8</td><td><div class=\"dni-plaintext\">1112</div></td><td><div class=\"dni-plaintext\">2</div></td><td><div class=\"dni-plaintext\">04</div></td></tr><tr><td>9</td><td><div class=\"dni-plaintext\">1102</div></td><td><div class=\"dni-plaintext\">1</div></td><td><div class=\"dni-plaintext\">10</div></td></tr></tbody></table>"
      ]
     },
     "execution_count": 55,
     "metadata": {},
     "output_type": "execute_result"
    }
   ],
   "source": [
    "df_receipt.Select(r => new {\n",
    "    r.receipt_no,\n",
    "    r.receipt_sub_no,\n",
    "    sales_month = epoch_to_date(r.sales_epoch).Day.ToString(\"D2\"),\n",
    "}).Take(10)"
   ]
  },
  {
   "cell_type": "markdown",
   "metadata": {},
   "source": [
    "---\n",
    "> P-052: レシート明細データフレーム（df_receipt）の売上金額（amount）を顧客ID（customer_id）ごとに合計の上、売上金額合計に対して2000円以下を0、2000円超を1に2値化し、顧客ID、売上金額合計とともに10件表示せよ。ただし、顧客IDが\"Z\"から始まるのものは非会員を表すため、除外して計算すること。"
   ]
  },
  {
   "cell_type": "code",
   "execution_count": 56,
   "metadata": {
    "dotnet_interactive": {
     "language": "csharp"
    }
   },
   "outputs": [
    {
     "data": {
      "text/html": [
       "<table><thead><tr><th><i>index</i></th><th>cusomer_id</th><th>sum_amount</th><th>bit_amount</th></tr></thead><tbody><tr><td>0</td><td><div class=\"dni-plaintext\">CS001113000004</div></td><td><div class=\"dni-plaintext\">1298</div></td><td><div class=\"dni-plaintext\">0</div></td></tr><tr><td>1</td><td><div class=\"dni-plaintext\">CS001114000005</div></td><td><div class=\"dni-plaintext\">626</div></td><td><div class=\"dni-plaintext\">0</div></td></tr><tr><td>2</td><td><div class=\"dni-plaintext\">CS001115000010</div></td><td><div class=\"dni-plaintext\">3044</div></td><td><div class=\"dni-plaintext\">1</div></td></tr><tr><td>3</td><td><div class=\"dni-plaintext\">CS001205000004</div></td><td><div class=\"dni-plaintext\">1988</div></td><td><div class=\"dni-plaintext\">0</div></td></tr><tr><td>4</td><td><div class=\"dni-plaintext\">CS001205000006</div></td><td><div class=\"dni-plaintext\">3337</div></td><td><div class=\"dni-plaintext\">1</div></td></tr><tr><td>5</td><td><div class=\"dni-plaintext\">CS001211000025</div></td><td><div class=\"dni-plaintext\">456</div></td><td><div class=\"dni-plaintext\">0</div></td></tr><tr><td>6</td><td><div class=\"dni-plaintext\">CS001212000027</div></td><td><div class=\"dni-plaintext\">448</div></td><td><div class=\"dni-plaintext\">0</div></td></tr><tr><td>7</td><td><div class=\"dni-plaintext\">CS001212000031</div></td><td><div class=\"dni-plaintext\">296</div></td><td><div class=\"dni-plaintext\">0</div></td></tr><tr><td>8</td><td><div class=\"dni-plaintext\">CS001212000046</div></td><td><div class=\"dni-plaintext\">228</div></td><td><div class=\"dni-plaintext\">0</div></td></tr><tr><td>9</td><td><div class=\"dni-plaintext\">CS001212000070</div></td><td><div class=\"dni-plaintext\">456</div></td><td><div class=\"dni-plaintext\">0</div></td></tr></tbody></table>"
      ]
     },
     "execution_count": 56,
     "metadata": {},
     "output_type": "execute_result"
    }
   ],
   "source": [
    "df_receipt\n",
    "    .Where(r => !r.customer_id.StartsWith(\"Z\")) // 顧客ID が Z から始まるデータは除外\n",
    "    .GroupBy(r => r.customer_id)\n",
    "    .Select(r => new {\n",
    "        cusomer_id = r.Key,\n",
    "        sum_amount = r.Sum(t => t.amount)\n",
    "    })\n",
    "    .Select(r => new {\n",
    "        r.cusomer_id,\n",
    "        r.sum_amount,\n",
    "        bit_amount = r.sum_amount <= 2000 ? 0 : 1,\n",
    "    })\n",
    "    .OrderBy(r => r.cusomer_id).Take(10)"
   ]
  },
  {
   "cell_type": "markdown",
   "metadata": {},
   "source": [
    "---\n",
    "> P-053: 顧客データフレーム（df_customer）の郵便番号（postal_cd）に対し、東京（先頭3桁が100〜209のもの）を1、それ以外のものを0に２値化せよ。さらにレシート明細データフレーム（df_receipt）と結合し、全期間において買い物実績のある顧客数を、作成した2値ごとにカウントせよ。"
   ]
  },
  {
   "cell_type": "code",
   "execution_count": 57,
   "metadata": {
    "dotnet_interactive": {
     "language": "csharp"
    }
   },
   "outputs": [
    {
     "data": {
      "text/html": [
       "<table><thead><tr><th><i>index</i></th><th>postal_flg</th><th>sum_customer_id</th></tr></thead><tbody><tr><td>0</td><td><div class=\"dni-plaintext\">0</div></td><td><div class=\"dni-plaintext\">3906</div></td></tr><tr><td>1</td><td><div class=\"dni-plaintext\">1</div></td><td><div class=\"dni-plaintext\">4400</div></td></tr><tr><td>2</td><td><div class=\"dni-plaintext\">&lt;null&gt;</div></td><td><div class=\"dni-plaintext\">1</div></td></tr></tbody></table>"
      ]
     },
     "execution_count": 57,
     "metadata": {},
     "output_type": "execute_result"
    }
   ],
   "source": [
    "// 郵便番号先頭3桁を 分類\n",
    "string bit_postal_cd(string postal_cd) {\n",
    "    if (postal_cd.Length < 3) return \"0\";\n",
    "    string postal_3 = postal_cd.Substring(0,3);\n",
    "    int posCode;\n",
    "    if (int.TryParse(postal_3, out posCode)) {\n",
    "        if (100 <= posCode && posCode <= 209) {\n",
    "            return \"1\";\n",
    "        }\n",
    "    }\n",
    "    return \"0\";\n",
    "}\n",
    "\n",
    "// カスタマーID 毎に 住所コードからフラグ判定\n",
    "var postal_flg_dic = df_customer.Select(r => new {\n",
    "    postal_flg = bit_postal_cd(r.postal_cd),\n",
    "    r.customer_id,\n",
    "}).ToDictionary(r => r.customer_id);\n",
    "\n",
    "df_receipt.Select(r => r.customer_id).Distinct()\n",
    "    .Select(cusomer_id => new {\n",
    "        cusomer_id = cusomer_id,\n",
    "        postal_flg = postal_flg_dic.GetValueOrDefault(cusomer_id)?.postal_flg,\n",
    "    })\n",
    "    .GroupBy(r => r.postal_flg)\n",
    "    .Select(r => new {\n",
    "        postal_flg = r.Key,\n",
    "        sum_customer_id = r.Count()\n",
    "    })"
   ]
  },
  {
   "cell_type": "markdown",
   "metadata": {},
   "source": [
    "---\n",
    "> P-054: 顧客データデータフレーム（df_customer）の住所（address）は、埼玉県、千葉県、東京都、神奈川県のいずれかとなっている。都道府県毎にコード値を作成し、顧客ID、住所とともに抽出せよ。値は埼玉県を11、千葉県を12、東京都を13、神奈川県を14とすること。結果は10件表示させれば良い。"
   ]
  },
  {
   "cell_type": "code",
   "execution_count": 58,
   "metadata": {
    "dotnet_interactive": {
     "language": "csharp"
    }
   },
   "outputs": [
    {
     "data": {
      "text/html": [
       "<table><thead><tr><th><i>index</i></th><th>customer_id</th><th>address</th><th>address_code</th></tr></thead><tbody><tr><td>0</td><td><div class=\"dni-plaintext\">CS021313000114</div></td><td><div class=\"dni-plaintext\">神奈川県伊勢原市粟窪**********</div></td><td><div class=\"dni-plaintext\">14</div></td></tr><tr><td>1</td><td><div class=\"dni-plaintext\">CS037613000071</div></td><td><div class=\"dni-plaintext\">東京都江東区南砂**********</div></td><td><div class=\"dni-plaintext\">13</div></td></tr><tr><td>2</td><td><div class=\"dni-plaintext\">CS031415000172</div></td><td><div class=\"dni-plaintext\">東京都渋谷区代々木**********</div></td><td><div class=\"dni-plaintext\">13</div></td></tr><tr><td>3</td><td><div class=\"dni-plaintext\">CS028811000001</div></td><td><div class=\"dni-plaintext\">神奈川県横浜市泉区和泉町**********</div></td><td><div class=\"dni-plaintext\">14</div></td></tr><tr><td>4</td><td><div class=\"dni-plaintext\">CS001215000145</div></td><td><div class=\"dni-plaintext\">東京都大田区仲六郷**********</div></td><td><div class=\"dni-plaintext\">13</div></td></tr><tr><td>5</td><td><div class=\"dni-plaintext\">CS020401000016</div></td><td><div class=\"dni-plaintext\">東京都板橋区若木**********</div></td><td><div class=\"dni-plaintext\">13</div></td></tr><tr><td>6</td><td><div class=\"dni-plaintext\">CS015414000103</div></td><td><div class=\"dni-plaintext\">東京都江東区北砂**********</div></td><td><div class=\"dni-plaintext\">13</div></td></tr><tr><td>7</td><td><div class=\"dni-plaintext\">CS029403000008</div></td><td><div class=\"dni-plaintext\">千葉県浦安市海楽**********</div></td><td><div class=\"dni-plaintext\">12</div></td></tr><tr><td>8</td><td><div class=\"dni-plaintext\">CS015804000004</div></td><td><div class=\"dni-plaintext\">東京都江東区北砂**********</div></td><td><div class=\"dni-plaintext\">13</div></td></tr><tr><td>9</td><td><div class=\"dni-plaintext\">CS033513000180</div></td><td><div class=\"dni-plaintext\">神奈川県横浜市旭区善部町**********</div></td><td><div class=\"dni-plaintext\">14</div></td></tr></tbody></table>"
      ]
     },
     "execution_count": 58,
     "metadata": {},
     "output_type": "execute_result"
    }
   ],
   "source": [
    "//pd.concat([df_customer[['customer_id', 'address']], df_customer['address'].str[0:3].map({'埼玉県': '11',\n",
    "//                                                                           '千葉県':'12', \n",
    "//                                                                           '東京都':'13', \n",
    "//                                                                           '神奈川':'14'})], axis=1).head(10)\n",
    "string addressToCode(string address) {\n",
    "    if (address.StartsWith(\"埼玉県\")) return \"11\";\n",
    "    if (address.StartsWith(\"千葉県\")) return \"12\";\n",
    "    if (address.StartsWith(\"東京都\")) return \"13\";\n",
    "    if (address.StartsWith(\"神奈川県\")) return \"14\";\n",
    "    else return \"\";\n",
    "}\n",
    "\n",
    "df_customer.Select(r => new {\n",
    "    r.customer_id,\n",
    "    r.address,\n",
    "    address_code = addressToCode(r.address),\n",
    "}).Take(10)"
   ]
  },
  {
   "cell_type": "markdown",
   "metadata": {},
   "source": [
    "---\n",
    "> P-055: レシート明細データフレーム（df_receipt）の売上金額（amount）を顧客ID（customer_id）ごとに合計し、その合計金額の四分位点を求めよ。その上で、顧客ごとの売上金額合計に対して以下の基準でカテゴリ値を作成し、顧客ID、売上金額と合計ともに表示せよ。カテゴリ値は上から順に1〜4とする。結果は10件表示させれば良い。\n",
    ">\n",
    "> - 最小値以上第一四分位未満\n",
    "> - 第一四分位以上第二四分位未満\n",
    "> - 第二四分位以上第三四分位未満\n",
    "> - 第三四分位以上"
   ]
  },
  {
   "cell_type": "code",
   "execution_count": 59,
   "metadata": {
    "dotnet_interactive": {
     "language": "csharp"
    }
   },
   "outputs": [
    {
     "data": {
      "text/html": [
       "<table><thead><tr><th>pct25</th><th>pct50</th><th>pct75</th></tr></thead><tbody><tr><td><div class=\"dni-plaintext\">548.166666666667</div></td><td><div class=\"dni-plaintext\">1478</div></td><td><div class=\"dni-plaintext\">3651.666666666666</div></td></tr></tbody></table>"
      ]
     },
     "metadata": {},
     "output_type": "display_data"
    },
    {
     "data": {
      "text/html": [
       "<table><thead><tr><th><i>index</i></th><th>customer_id</th><th>sum_amount</th><th>amount_category</th></tr></thead><tbody><tr><td>0</td><td><div class=\"dni-plaintext\">CS001113000004</div></td><td><div class=\"dni-plaintext\">1298</div></td><td><div class=\"dni-plaintext\">2</div></td></tr><tr><td>1</td><td><div class=\"dni-plaintext\">CS001114000005</div></td><td><div class=\"dni-plaintext\">626</div></td><td><div class=\"dni-plaintext\">2</div></td></tr><tr><td>2</td><td><div class=\"dni-plaintext\">CS001115000010</div></td><td><div class=\"dni-plaintext\">3044</div></td><td><div class=\"dni-plaintext\">3</div></td></tr><tr><td>3</td><td><div class=\"dni-plaintext\">CS001205000004</div></td><td><div class=\"dni-plaintext\">1988</div></td><td><div class=\"dni-plaintext\">3</div></td></tr><tr><td>4</td><td><div class=\"dni-plaintext\">CS001205000006</div></td><td><div class=\"dni-plaintext\">3337</div></td><td><div class=\"dni-plaintext\">3</div></td></tr><tr><td>5</td><td><div class=\"dni-plaintext\">CS001211000025</div></td><td><div class=\"dni-plaintext\">456</div></td><td><div class=\"dni-plaintext\">1</div></td></tr><tr><td>6</td><td><div class=\"dni-plaintext\">CS001212000027</div></td><td><div class=\"dni-plaintext\">448</div></td><td><div class=\"dni-plaintext\">1</div></td></tr><tr><td>7</td><td><div class=\"dni-plaintext\">CS001212000031</div></td><td><div class=\"dni-plaintext\">296</div></td><td><div class=\"dni-plaintext\">1</div></td></tr><tr><td>8</td><td><div class=\"dni-plaintext\">CS001212000046</div></td><td><div class=\"dni-plaintext\">228</div></td><td><div class=\"dni-plaintext\">1</div></td></tr><tr><td>9</td><td><div class=\"dni-plaintext\">CS001212000070</div></td><td><div class=\"dni-plaintext\">456</div></td><td><div class=\"dni-plaintext\">1</div></td></tr></tbody></table>"
      ]
     },
     "execution_count": 59,
     "metadata": {},
     "output_type": "execute_result"
    }
   ],
   "source": [
    "using MathNet.Numerics.Statistics;\n",
    "\n",
    "// 顧客ID 毎の 売上金額合計\n",
    "var df_sum = df_receipt.GroupBy(r => r.customer_id)\n",
    "    .Select(r => new { customer_id = r.Key, sum_amount = (double) r.Sum(t => t.amount)});\n",
    "\n",
    "// 分位点を求める\n",
    "var pct = new {\n",
    "    pct25 = Statistics.Quantile(df_sum.Select(r => r.sum_amount), 0.25),\n",
    "    pct50 = Statistics.Quantile(df_sum.Select(r => r.sum_amount), 0.5),\n",
    "    pct75 = Statistics.Quantile(df_sum.Select(r => r.sum_amount), 0.75),\n",
    "};\n",
    "display(pct);\n",
    "// 分位点のカテゴリ計算\n",
    "int amountCategory(double amount) {\n",
    "    if (amount < pct.pct25) return 1;\n",
    "    if (amount < pct.pct50) return 2;\n",
    "    if (amount < pct.pct75) return 3;\n",
    "    return 4;\n",
    "}\n",
    "// 集計\n",
    "df_sum.Select(r => new {\n",
    "    r.customer_id,\n",
    "    r.sum_amount,\n",
    "    amount_category = amountCategory(r.sum_amount),\n",
    "}).OrderBy(r => r.customer_id).Take(10)"
   ]
  },
  {
   "cell_type": "markdown",
   "metadata": {},
   "source": [
    "---\n",
    "> P-056: 顧客データフレーム（df_customer）の年齢（age）をもとに10歳刻みで年代を算出し、顧客ID（customer_id）、生年月日（birth_day）とともに抽出せよ。ただし、60歳以上は全て60歳代とすること。年代を表すカテゴリ名は任意とする。先頭10件を表示させればよい。"
   ]
  },
  {
   "cell_type": "code",
   "execution_count": 60,
   "metadata": {
    "dotnet_interactive": {
     "language": "csharp"
    }
   },
   "outputs": [
    {
     "data": {
      "text/html": [
       "<table><thead><tr><th><i>index</i></th><th>customer_id</th><th>birth_day</th><th>era</th></tr></thead><tbody><tr><td>0</td><td><div class=\"dni-plaintext\">CS021313000114</div></td><td><span>1981-04-29</span></td><td><div class=\"dni-plaintext\">30</div></td></tr><tr><td>1</td><td><div class=\"dni-plaintext\">CS037613000071</div></td><td><span>1952-04-01</span></td><td><div class=\"dni-plaintext\">60</div></td></tr><tr><td>2</td><td><div class=\"dni-plaintext\">CS031415000172</div></td><td><span>1976-10-04</span></td><td><div class=\"dni-plaintext\">40</div></td></tr><tr><td>3</td><td><div class=\"dni-plaintext\">CS028811000001</div></td><td><span>1933-03-27</span></td><td><div class=\"dni-plaintext\">60</div></td></tr><tr><td>4</td><td><div class=\"dni-plaintext\">CS001215000145</div></td><td><span>1995-03-29</span></td><td><div class=\"dni-plaintext\">20</div></td></tr><tr><td>5</td><td><div class=\"dni-plaintext\">CS020401000016</div></td><td><span>1974-09-15</span></td><td><div class=\"dni-plaintext\">40</div></td></tr><tr><td>6</td><td><div class=\"dni-plaintext\">CS015414000103</div></td><td><span>1977-08-09</span></td><td><div class=\"dni-plaintext\">40</div></td></tr><tr><td>7</td><td><div class=\"dni-plaintext\">CS029403000008</div></td><td><span>1973-08-17</span></td><td><div class=\"dni-plaintext\">40</div></td></tr><tr><td>8</td><td><div class=\"dni-plaintext\">CS015804000004</div></td><td><span>1931-05-02</span></td><td><div class=\"dni-plaintext\">60</div></td></tr><tr><td>9</td><td><div class=\"dni-plaintext\">CS033513000180</div></td><td><span>1962-07-11</span></td><td><div class=\"dni-plaintext\">50</div></td></tr></tbody></table>"
      ]
     },
     "execution_count": 60,
     "metadata": {},
     "output_type": "execute_result"
    }
   ],
   "source": [
    "int? ageCategory(int? age) {\n",
    "    if (age == null) return null;\n",
    "    if (age >= 60) return 60;\n",
    "    return ((int) age / 10) * 10;\n",
    "}\n",
    "\n",
    "df_customer.Select(r => new {\n",
    "    r.customer_id,\n",
    "    r.birth_day,\n",
    "    era = ageCategory(r.age),\n",
    "}).Take(10)"
   ]
  },
  {
   "cell_type": "markdown",
   "metadata": {},
   "source": [
    "---\n",
    "> P-057: 前問題の抽出結果と性別（gender）を組み合わせ、新たに性別×年代の組み合わせを表すカテゴリデータを作成せよ。組み合わせを表すカテゴリの値は任意とする。先頭10件を表示させればよい。"
   ]
  },
  {
   "cell_type": "code",
   "execution_count": 61,
   "metadata": {
    "dotnet_interactive": {
     "language": "csharp"
    }
   },
   "outputs": [
    {
     "data": {
      "text/html": [
       "<table><thead><tr><th><i>index</i></th><th>customer_id</th><th>birth_day</th><th>age</th><th>gender_era_cd</th></tr></thead><tbody><tr><td>0</td><td><div class=\"dni-plaintext\">CS021313000114</div></td><td><span>1981-04-29</span></td><td><div class=\"dni-plaintext\">30</div></td><td><div class=\"dni-plaintext\">1_30</div></td></tr><tr><td>1</td><td><div class=\"dni-plaintext\">CS037613000071</div></td><td><span>1952-04-01</span></td><td><div class=\"dni-plaintext\">60</div></td><td><div class=\"dni-plaintext\">9_60</div></td></tr><tr><td>2</td><td><div class=\"dni-plaintext\">CS031415000172</div></td><td><span>1976-10-04</span></td><td><div class=\"dni-plaintext\">40</div></td><td><div class=\"dni-plaintext\">1_40</div></td></tr><tr><td>3</td><td><div class=\"dni-plaintext\">CS028811000001</div></td><td><span>1933-03-27</span></td><td><div class=\"dni-plaintext\">60</div></td><td><div class=\"dni-plaintext\">1_60</div></td></tr><tr><td>4</td><td><div class=\"dni-plaintext\">CS001215000145</div></td><td><span>1995-03-29</span></td><td><div class=\"dni-plaintext\">20</div></td><td><div class=\"dni-plaintext\">1_20</div></td></tr><tr><td>5</td><td><div class=\"dni-plaintext\">CS020401000016</div></td><td><span>1974-09-15</span></td><td><div class=\"dni-plaintext\">40</div></td><td><div class=\"dni-plaintext\">0_40</div></td></tr><tr><td>6</td><td><div class=\"dni-plaintext\">CS015414000103</div></td><td><span>1977-08-09</span></td><td><div class=\"dni-plaintext\">40</div></td><td><div class=\"dni-plaintext\">1_40</div></td></tr><tr><td>7</td><td><div class=\"dni-plaintext\">CS029403000008</div></td><td><span>1973-08-17</span></td><td><div class=\"dni-plaintext\">40</div></td><td><div class=\"dni-plaintext\">0_40</div></td></tr><tr><td>8</td><td><div class=\"dni-plaintext\">CS015804000004</div></td><td><span>1931-05-02</span></td><td><div class=\"dni-plaintext\">60</div></td><td><div class=\"dni-plaintext\">0_60</div></td></tr><tr><td>9</td><td><div class=\"dni-plaintext\">CS033513000180</div></td><td><span>1962-07-11</span></td><td><div class=\"dni-plaintext\">50</div></td><td><div class=\"dni-plaintext\">1_50</div></td></tr></tbody></table>"
      ]
     },
     "execution_count": 61,
     "metadata": {},
     "output_type": "execute_result"
    }
   ],
   "source": [
    "int? ageCategory(int? age) {\n",
    "    if (age == null) return null;\n",
    "    if (age >= 60) return 60;\n",
    "    return ((int) age / 10) * 10;\n",
    "}\n",
    "\n",
    "df_customer.Select(r => new {\n",
    "    r.customer_id,\n",
    "    r.birth_day,\n",
    "    r.gender_cd,\n",
    "    age = ageCategory(r.age),\n",
    "}).Select(r => new {\n",
    "    r.customer_id,\n",
    "    r.birth_day,\n",
    "    r.age,\n",
    "    gender_era_cd = r.gender_cd + \"_\" + r.age ,\n",
    "}).Take(10)"
   ]
  },
  {
   "cell_type": "markdown",
   "metadata": {},
   "source": [
    "---\n",
    "> P-058: 顧客データフレーム（df_customer）の性別コード（gender_cd）をダミー変数化し、顧客ID（customer_id）とともに抽出せよ。結果は10件表示させれば良い。"
   ]
  },
  {
   "cell_type": "code",
   "execution_count": 62,
   "metadata": {
    "dotnet_interactive": {
     "language": "csharp"
    }
   },
   "outputs": [
    {
     "data": {
      "text/html": [
       "<table><thead><tr><th><i>index</i></th><th>customer_id</th><th>gender_cd_0</th><th>gender_cd_1</th><th>gender_cd_9</th></tr></thead><tbody><tr><td>0</td><td><div class=\"dni-plaintext\">CS021313000114</div></td><td><div class=\"dni-plaintext\">0</div></td><td><div class=\"dni-plaintext\">1</div></td><td><div class=\"dni-plaintext\">0</div></td></tr><tr><td>1</td><td><div class=\"dni-plaintext\">CS037613000071</div></td><td><div class=\"dni-plaintext\">0</div></td><td><div class=\"dni-plaintext\">0</div></td><td><div class=\"dni-plaintext\">1</div></td></tr><tr><td>2</td><td><div class=\"dni-plaintext\">CS031415000172</div></td><td><div class=\"dni-plaintext\">0</div></td><td><div class=\"dni-plaintext\">1</div></td><td><div class=\"dni-plaintext\">0</div></td></tr><tr><td>3</td><td><div class=\"dni-plaintext\">CS028811000001</div></td><td><div class=\"dni-plaintext\">0</div></td><td><div class=\"dni-plaintext\">1</div></td><td><div class=\"dni-plaintext\">0</div></td></tr><tr><td>4</td><td><div class=\"dni-plaintext\">CS001215000145</div></td><td><div class=\"dni-plaintext\">0</div></td><td><div class=\"dni-plaintext\">1</div></td><td><div class=\"dni-plaintext\">0</div></td></tr><tr><td>5</td><td><div class=\"dni-plaintext\">CS020401000016</div></td><td><div class=\"dni-plaintext\">1</div></td><td><div class=\"dni-plaintext\">0</div></td><td><div class=\"dni-plaintext\">0</div></td></tr><tr><td>6</td><td><div class=\"dni-plaintext\">CS015414000103</div></td><td><div class=\"dni-plaintext\">0</div></td><td><div class=\"dni-plaintext\">1</div></td><td><div class=\"dni-plaintext\">0</div></td></tr><tr><td>7</td><td><div class=\"dni-plaintext\">CS029403000008</div></td><td><div class=\"dni-plaintext\">1</div></td><td><div class=\"dni-plaintext\">0</div></td><td><div class=\"dni-plaintext\">0</div></td></tr><tr><td>8</td><td><div class=\"dni-plaintext\">CS015804000004</div></td><td><div class=\"dni-plaintext\">1</div></td><td><div class=\"dni-plaintext\">0</div></td><td><div class=\"dni-plaintext\">0</div></td></tr><tr><td>9</td><td><div class=\"dni-plaintext\">CS033513000180</div></td><td><div class=\"dni-plaintext\">0</div></td><td><div class=\"dni-plaintext\">1</div></td><td><div class=\"dni-plaintext\">0</div></td></tr></tbody></table>"
      ]
     },
     "execution_count": 62,
     "metadata": {},
     "output_type": "execute_result"
    }
   ],
   "source": [
    "df_customer.Select(r => new {\n",
    "    r.customer_id,\n",
    "    gender_cd_0 = r.gender_cd == \"0\" ? \"1\" : \"0\",\n",
    "    gender_cd_1 = r.gender_cd == \"1\" ? \"1\" : \"0\",\n",
    "    gender_cd_9 = r.gender_cd == \"9\" ? \"1\" : \"0\",\n",
    "}).Take(10)"
   ]
  },
  {
   "cell_type": "markdown",
   "metadata": {},
   "source": [
    "---\n",
    "> P-059: レシート明細データフレーム（df_receipt）の売上金額（amount）を顧客ID（customer_id）ごとに合計し、合計した売上金額を平均0、標準偏差1に標準化して顧客ID、売上金額合計とともに表示せよ。標準化に使用する標準偏差は、不偏標準偏差と標本標準偏差のどちらでも良いものとする。ただし、顧客IDが\"Z\"から始まるのものは非会員を表すため、除外して計算すること。結果は10件表示させれば良い。"
   ]
  },
  {
   "cell_type": "code",
   "execution_count": 63,
   "metadata": {
    "dotnet_interactive": {
     "language": "csharp"
    }
   },
   "outputs": [
    {
     "data": {
      "text/html": [
       "<table><thead><tr><th><i>index</i></th><th>customer_id</th><th>normalized_amount</th></tr></thead><tbody><tr><td>0</td><td><div class=\"dni-plaintext\">CS001113000004</div></td><td><div class=\"dni-plaintext\">-0.4593502260498646</div></td></tr><tr><td>1</td><td><div class=\"dni-plaintext\">CS001114000005</div></td><td><div class=\"dni-plaintext\">-0.7063478415395753</div></td></tr><tr><td>2</td><td><div class=\"dni-plaintext\">CS001115000010</div></td><td><div class=\"dni-plaintext\">0.18240250705286576</div></td></tr><tr><td>3</td><td><div class=\"dni-plaintext\">CS001205000004</div></td><td><div class=\"dni-plaintext\">-0.20573660300239383</div></td></tr><tr><td>4</td><td><div class=\"dni-plaintext\">CS001205000006</div></td><td><div class=\"dni-plaintext\">0.29009640785418306</div></td></tr><tr><td>5</td><td><div class=\"dni-plaintext\">CS001211000025</div></td><td><div class=\"dni-plaintext\">-0.7688323573628651</div></td></tr><tr><td>6</td><td><div class=\"dni-plaintext\">CS001212000027</div></td><td><div class=\"dni-plaintext\">-0.7717728051663141</div></td></tr><tr><td>7</td><td><div class=\"dni-plaintext\">CS001212000031</div></td><td><div class=\"dni-plaintext\">-0.8276413134318439</div></td></tr><tr><td>8</td><td><div class=\"dni-plaintext\">CS001212000046</div></td><td><div class=\"dni-plaintext\">-0.8526351197611598</div></td></tr><tr><td>9</td><td><div class=\"dni-plaintext\">CS001212000070</div></td><td><div class=\"dni-plaintext\">-0.7688323573628651</div></td></tr></tbody></table>"
      ]
     },
     "execution_count": 63,
     "metadata": {},
     "output_type": "execute_result"
    }
   ],
   "source": [
    "using MathNet.Numerics.Statistics;\n",
    "\n",
    "var df_sum = df_receipt.Where(r => ! r.customer_id.StartsWith(\"Z\"))\n",
    "    .GroupBy(r => r.customer_id)\n",
    "    .Select(r => new {\n",
    "        customer_id = r.Key,\n",
    "        sum_amount = r.Sum(t => t.amount),\n",
    "    }).ToList();\n",
    "\n",
    "// 平均と 標準偏差を求める\n",
    "var def = new {\n",
    "    avg = df_sum.Select(r => (double) r.sum_amount).Average(),\n",
    "    st_dev = df_sum.Select(r => (double) r.sum_amount).StandardDeviation(),\n",
    "};\n",
    "\n",
    "var df_sum2 = df_sum.Select(r => new {\n",
    "    r.customer_id,\n",
    "    // 平均0、標準偏差1に標準化するために 計算\n",
    "    normalized_amount = (r.sum_amount - def.avg ) / def.st_dev \n",
    "});\n",
    "\n",
    "df_sum2.OrderBy(r => r.customer_id).Take(10)\n"
   ]
  },
  {
   "cell_type": "markdown",
   "metadata": {},
   "source": [
    "---\n",
    "> P-060: レシート明細データフレーム（df_receipt）の売上金額（amount）を顧客ID（customer_id）ごとに合計し、合計した売上金額を最小値0、最大値1に正規化して顧客ID、売上金額合計とともに表示せよ。ただし、顧客IDが\"Z\"から始まるのものは非会員を表すため、除外して計算すること。結果は10件表示させれば良い。"
   ]
  },
  {
   "cell_type": "code",
   "execution_count": 64,
   "metadata": {
    "dotnet_interactive": {
     "language": "csharp"
    }
   },
   "outputs": [
    {
     "data": {
      "text/html": [
       "<table><thead><tr><th><i>index</i></th><th>customer_id</th><th>normalized_amount</th></tr></thead><tbody><tr><td>0</td><td><div class=\"dni-plaintext\">CS001113000004</div></td><td><div class=\"dni-plaintext\">0.05335418839068474</div></td></tr><tr><td>1</td><td><div class=\"dni-plaintext\">CS001114000005</div></td><td><div class=\"dni-plaintext\">0.02415710809871394</div></td></tr><tr><td>2</td><td><div class=\"dni-plaintext\">CS001115000010</div></td><td><div class=\"dni-plaintext\">0.12921445950643032</div></td></tr><tr><td>3</td><td><div class=\"dni-plaintext\">CS001205000004</div></td><td><div class=\"dni-plaintext\">0.08333333333333333</div></td></tr><tr><td>4</td><td><div class=\"dni-plaintext\">CS001205000006</div></td><td><div class=\"dni-plaintext\">0.14194473409801878</div></td></tr><tr><td>5</td><td><div class=\"dni-plaintext\">CS001211000025</div></td><td><div class=\"dni-plaintext\">0.016770941953423706</div></td></tr><tr><td>6</td><td><div class=\"dni-plaintext\">CS001212000027</div></td><td><div class=\"dni-plaintext\">0.016423357664233577</div></td></tr><tr><td>7</td><td><div class=\"dni-plaintext\">CS001212000031</div></td><td><div class=\"dni-plaintext\">0.009819256169621133</div></td></tr><tr><td>8</td><td><div class=\"dni-plaintext\">CS001212000046</div></td><td><div class=\"dni-plaintext\">0.00686478971150504</div></td></tr><tr><td>9</td><td><div class=\"dni-plaintext\">CS001212000070</div></td><td><div class=\"dni-plaintext\">0.016770941953423706</div></td></tr></tbody></table>"
      ]
     },
     "execution_count": 64,
     "metadata": {},
     "output_type": "execute_result"
    }
   ],
   "source": [
    "using MathNet.Numerics.Statistics;\n",
    "\n",
    "var df_sum = df_receipt.Where(r => ! r.customer_id.StartsWith(\"Z\"))\n",
    "    .GroupBy(r => r.customer_id)\n",
    "    .Select(r => new {\n",
    "        customer_id = r.Key,\n",
    "        sum_amount = r.Sum(t => t.amount),\n",
    "    }).ToList();\n",
    "\n",
    "// 最大と最小を求める\n",
    "var def = new {\n",
    "    max = df_sum.Select(r => (double) r.sum_amount).Max(),\n",
    "    min = df_sum.Select(r => (double) r.sum_amount).Min(),\n",
    "};\n",
    "\n",
    "var df_sum2 = df_sum.Select(r => new {\n",
    "    r.customer_id,\n",
    "    // 最小値0、最大値1に正規化\n",
    "    normalized_amount = (r.sum_amount - def.min ) / ( def.max - def.min) ,\n",
    "});\n",
    "\n",
    "df_sum2.OrderBy(r => r.customer_id).Take(10)"
   ]
  },
  {
   "cell_type": "markdown",
   "metadata": {},
   "source": [
    "---\n",
    "> P-061: レシート明細データフレーム（df_receipt）の売上金額（amount）を顧客ID（customer_id）ごとに合計し、合計した売上金額を常用対数化（底=10）して顧客ID、売上金額合計とともに表示せよ。ただし、顧客IDが\"Z\"から始まるのものは非会員を表すため、除外して計算すること。結果は10件表示させれば良い。"
   ]
  },
  {
   "cell_type": "code",
   "execution_count": 65,
   "metadata": {
    "dotnet_interactive": {
     "language": "csharp"
    }
   },
   "outputs": [
    {
     "data": {
      "text/html": [
       "<table><thead><tr><th><i>index</i></th><th>customer_id</th><th>sum_amount</th><th>amount_log10</th></tr></thead><tbody><tr><td>0</td><td><div class=\"dni-plaintext\">CS001113000004</div></td><td><div class=\"dni-plaintext\">1298</div></td><td><div class=\"dni-plaintext\">3.1132746924643504</div></td></tr><tr><td>1</td><td><div class=\"dni-plaintext\">CS001114000005</div></td><td><div class=\"dni-plaintext\">626</div></td><td><div class=\"dni-plaintext\">2.7965743332104296</div></td></tr><tr><td>2</td><td><div class=\"dni-plaintext\">CS001115000010</div></td><td><div class=\"dni-plaintext\">3044</div></td><td><div class=\"dni-plaintext\">3.4834446480985353</div></td></tr><tr><td>3</td><td><div class=\"dni-plaintext\">CS001205000004</div></td><td><div class=\"dni-plaintext\">1988</div></td><td><div class=\"dni-plaintext\">3.2984163800612945</div></td></tr><tr><td>4</td><td><div class=\"dni-plaintext\">CS001205000006</div></td><td><div class=\"dni-plaintext\">3337</div></td><td><div class=\"dni-plaintext\">3.5233562066547925</div></td></tr><tr><td>5</td><td><div class=\"dni-plaintext\">CS001211000025</div></td><td><div class=\"dni-plaintext\">456</div></td><td><div class=\"dni-plaintext\">2.6589648426644352</div></td></tr><tr><td>6</td><td><div class=\"dni-plaintext\">CS001212000027</div></td><td><div class=\"dni-plaintext\">448</div></td><td><div class=\"dni-plaintext\">2.651278013998144</div></td></tr><tr><td>7</td><td><div class=\"dni-plaintext\">CS001212000031</div></td><td><div class=\"dni-plaintext\">296</div></td><td><div class=\"dni-plaintext\">2.4712917110589387</div></td></tr><tr><td>8</td><td><div class=\"dni-plaintext\">CS001212000046</div></td><td><div class=\"dni-plaintext\">228</div></td><td><div class=\"dni-plaintext\">2.357934847000454</div></td></tr><tr><td>9</td><td><div class=\"dni-plaintext\">CS001212000070</div></td><td><div class=\"dni-plaintext\">456</div></td><td><div class=\"dni-plaintext\">2.6589648426644352</div></td></tr></tbody></table>"
      ]
     },
     "execution_count": 65,
     "metadata": {},
     "output_type": "execute_result"
    }
   ],
   "source": [
    "df_receipt\n",
    "    .Where(r => !r.customer_id.StartsWith(\"Z\")) // 対象外を除外\n",
    "    .GroupBy(r => r.customer_id) // 顧客ID で集計\n",
    "    .Select(r => new {\n",
    "        customer_id = r.Key,\n",
    "        sum_amount = r.Sum(t => t.amount) // 売上金額を合計\n",
    "    })\n",
    "    .Select(r => new {\n",
    "        r.customer_id,\n",
    "        r.sum_amount,\n",
    "        amount_log10 = Math.Log10((double)r.sum_amount), // Log （底 = 10) の計算\n",
    "    }).OrderBy(r => r.customer_id).Take(10) // 結果を10件表示"
   ]
  },
  {
   "cell_type": "markdown",
   "metadata": {},
   "source": [
    "---\n",
    "> P-062: レシート明細データフレーム（df_receipt）の売上金額（amount）を顧客ID（customer_id）ごとに合計し、合計した売上金額を自然対数化(底=e）して顧客ID、売上金額合計とともに表示せよ。ただし、顧客IDが\"Z\"から始まるのものは非会員を表すため、除外して計算すること。結果は10件表示させれば良い。"
   ]
  },
  {
   "cell_type": "code",
   "execution_count": 66,
   "metadata": {
    "dotnet_interactive": {
     "language": "csharp"
    }
   },
   "outputs": [
    {
     "data": {
      "text/html": [
       "<table><thead><tr><th><i>index</i></th><th>customer_id</th><th>sum_amount</th><th>amount_log10</th></tr></thead><tbody><tr><td>0</td><td><div class=\"dni-plaintext\">CS001113000004</div></td><td><div class=\"dni-plaintext\">1298</div></td><td><div class=\"dni-plaintext\">7.168579897264035</div></td></tr><tr><td>1</td><td><div class=\"dni-plaintext\">CS001114000005</div></td><td><div class=\"dni-plaintext\">626</div></td><td><div class=\"dni-plaintext\">6.439350371100098</div></td></tr><tr><td>2</td><td><div class=\"dni-plaintext\">CS001115000010</div></td><td><div class=\"dni-plaintext\">3044</div></td><td><div class=\"dni-plaintext\">8.020927718981577</div></td></tr><tr><td>3</td><td><div class=\"dni-plaintext\">CS001205000004</div></td><td><div class=\"dni-plaintext\">1988</div></td><td><div class=\"dni-plaintext\">7.59488438721652</div></td></tr><tr><td>4</td><td><div class=\"dni-plaintext\">CS001205000006</div></td><td><div class=\"dni-plaintext\">3337</div></td><td><div class=\"dni-plaintext\">8.112827478751374</div></td></tr><tr><td>5</td><td><div class=\"dni-plaintext\">CS001211000025</div></td><td><div class=\"dni-plaintext\">456</div></td><td><div class=\"dni-plaintext\">6.1224928095143865</div></td></tr><tr><td>6</td><td><div class=\"dni-plaintext\">CS001212000027</div></td><td><div class=\"dni-plaintext\">448</div></td><td><div class=\"dni-plaintext\">6.104793232414985</div></td></tr><tr><td>7</td><td><div class=\"dni-plaintext\">CS001212000031</div></td><td><div class=\"dni-plaintext\">296</div></td><td><div class=\"dni-plaintext\">5.69035945432406</div></td></tr><tr><td>8</td><td><div class=\"dni-plaintext\">CS001212000046</div></td><td><div class=\"dni-plaintext\">228</div></td><td><div class=\"dni-plaintext\">5.429345628954441</div></td></tr><tr><td>9</td><td><div class=\"dni-plaintext\">CS001212000070</div></td><td><div class=\"dni-plaintext\">456</div></td><td><div class=\"dni-plaintext\">6.1224928095143865</div></td></tr></tbody></table>"
      ]
     },
     "execution_count": 66,
     "metadata": {},
     "output_type": "execute_result"
    }
   ],
   "source": [
    "df_receipt\n",
    "    .Where(r => !r.customer_id.StartsWith(\"Z\")) // 対象外を除外\n",
    "    .GroupBy(r => r.customer_id) // 顧客ID で集計\n",
    "    .Select(r => new {\n",
    "        customer_id = r.Key,\n",
    "        sum_amount = r.Sum(t => t.amount) // 売上金額を合計\n",
    "    })\n",
    "    .Select(r => new {\n",
    "        r.customer_id,\n",
    "        r.sum_amount,\n",
    "        amount_log10 = Math.Log((double)r.sum_amount), // Log （底 = e) の計算\n",
    "    }).OrderBy(r => r.customer_id).Take(10) // 結果を10件表示\n",
    "\n",
    "    // 回答例では 対数計算の時に +1 していた。 Log(0) は マイナス無限大になることの回避だと思うが・・ あまり良いアイデアだとは思わない。"
   ]
  },
  {
   "cell_type": "markdown",
   "metadata": {},
   "source": [
    "---\n",
    "> P-063: 商品データフレーム（df_product）の単価（unit_price）と原価（unit_cost）から、各商品の利益額を算出せよ。結果は10件表示させれば良い。"
   ]
  },
  {
   "cell_type": "code",
   "execution_count": 67,
   "metadata": {
    "dotnet_interactive": {
     "language": "csharp"
    }
   },
   "outputs": [
    {
     "data": {
      "text/html": [
       "<table><thead><tr><th><i>index</i></th><th>product_cd</th><th>category_major_cd</th><th>category_medium_cd</th><th>category_small_cd</th><th>unit_price</th><th>unit_cost</th><th>unit_profit</th></tr></thead><tbody><tr><td>0</td><td><div class=\"dni-plaintext\">P040101001</div></td><td><div class=\"dni-plaintext\">04</div></td><td><div class=\"dni-plaintext\">0401</div></td><td><div class=\"dni-plaintext\">040101</div></td><td><div class=\"dni-plaintext\">198</div></td><td><div class=\"dni-plaintext\">149</div></td><td><div class=\"dni-plaintext\">49</div></td></tr><tr><td>1</td><td><div class=\"dni-plaintext\">P040101002</div></td><td><div class=\"dni-plaintext\">04</div></td><td><div class=\"dni-plaintext\">0401</div></td><td><div class=\"dni-plaintext\">040101</div></td><td><div class=\"dni-plaintext\">218</div></td><td><div class=\"dni-plaintext\">164</div></td><td><div class=\"dni-plaintext\">54</div></td></tr><tr><td>2</td><td><div class=\"dni-plaintext\">P040101003</div></td><td><div class=\"dni-plaintext\">04</div></td><td><div class=\"dni-plaintext\">0401</div></td><td><div class=\"dni-plaintext\">040101</div></td><td><div class=\"dni-plaintext\">230</div></td><td><div class=\"dni-plaintext\">173</div></td><td><div class=\"dni-plaintext\">57</div></td></tr><tr><td>3</td><td><div class=\"dni-plaintext\">P040101004</div></td><td><div class=\"dni-plaintext\">04</div></td><td><div class=\"dni-plaintext\">0401</div></td><td><div class=\"dni-plaintext\">040101</div></td><td><div class=\"dni-plaintext\">248</div></td><td><div class=\"dni-plaintext\">186</div></td><td><div class=\"dni-plaintext\">62</div></td></tr><tr><td>4</td><td><div class=\"dni-plaintext\">P040101005</div></td><td><div class=\"dni-plaintext\">04</div></td><td><div class=\"dni-plaintext\">0401</div></td><td><div class=\"dni-plaintext\">040101</div></td><td><div class=\"dni-plaintext\">268</div></td><td><div class=\"dni-plaintext\">201</div></td><td><div class=\"dni-plaintext\">67</div></td></tr><tr><td>5</td><td><div class=\"dni-plaintext\">P040101006</div></td><td><div class=\"dni-plaintext\">04</div></td><td><div class=\"dni-plaintext\">0401</div></td><td><div class=\"dni-plaintext\">040101</div></td><td><div class=\"dni-plaintext\">298</div></td><td><div class=\"dni-plaintext\">224</div></td><td><div class=\"dni-plaintext\">74</div></td></tr><tr><td>6</td><td><div class=\"dni-plaintext\">P040101007</div></td><td><div class=\"dni-plaintext\">04</div></td><td><div class=\"dni-plaintext\">0401</div></td><td><div class=\"dni-plaintext\">040101</div></td><td><div class=\"dni-plaintext\">338</div></td><td><div class=\"dni-plaintext\">254</div></td><td><div class=\"dni-plaintext\">84</div></td></tr><tr><td>7</td><td><div class=\"dni-plaintext\">P040101008</div></td><td><div class=\"dni-plaintext\">04</div></td><td><div class=\"dni-plaintext\">0401</div></td><td><div class=\"dni-plaintext\">040101</div></td><td><div class=\"dni-plaintext\">420</div></td><td><div class=\"dni-plaintext\">315</div></td><td><div class=\"dni-plaintext\">105</div></td></tr><tr><td>8</td><td><div class=\"dni-plaintext\">P040101009</div></td><td><div class=\"dni-plaintext\">04</div></td><td><div class=\"dni-plaintext\">0401</div></td><td><div class=\"dni-plaintext\">040101</div></td><td><div class=\"dni-plaintext\">498</div></td><td><div class=\"dni-plaintext\">374</div></td><td><div class=\"dni-plaintext\">124</div></td></tr><tr><td>9</td><td><div class=\"dni-plaintext\">P040101010</div></td><td><div class=\"dni-plaintext\">04</div></td><td><div class=\"dni-plaintext\">0401</div></td><td><div class=\"dni-plaintext\">040101</div></td><td><div class=\"dni-plaintext\">580</div></td><td><div class=\"dni-plaintext\">435</div></td><td><div class=\"dni-plaintext\">145</div></td></tr></tbody></table>"
      ]
     },
     "execution_count": 67,
     "metadata": {},
     "output_type": "execute_result"
    }
   ],
   "source": [
    "df_product.Select(r => new {\n",
    "    r.product_cd,\n",
    "    r.category_major_cd,\n",
    "    r.category_medium_cd,\n",
    "    r.category_small_cd,\n",
    "    r.unit_price,\n",
    "    r.unit_cost,\n",
    "    unit_profit = r.unit_price - r.unit_cost,\n",
    "}).Take(10)"
   ]
  },
  {
   "cell_type": "markdown",
   "metadata": {},
   "source": [
    "---\n",
    "> P-064: 商品データフレーム（df_product）の単価（unit_price）と原価（unit_cost）から、各商品の利益率の全体平均を算出せよ。\n",
    "ただし、単価と原価にはNULLが存在することに注意せよ。"
   ]
  },
  {
   "cell_type": "code",
   "execution_count": 68,
   "metadata": {
    "dotnet_interactive": {
     "language": "csharp"
    }
   },
   "outputs": [
    {
     "data": {
      "text/html": [
       "<div class=\"dni-plaintext\">0.24911389885176904</div>"
      ]
     },
     "execution_count": 68,
     "metadata": {},
     "output_type": "execute_result"
    }
   ],
   "source": [
    "df_product\n",
    ".Where(r => r.unit_cost != null && r.unit_price != null)\n",
    ".Select(r => new {\n",
    "    r.product_cd,\n",
    "    unit_profit_rate = (double) (r.unit_price - r.unit_cost) / r.unit_price,\n",
    "})\n",
    ".Average(r => r.unit_profit_rate)"
   ]
  },
  {
   "cell_type": "markdown",
   "metadata": {},
   "source": [
    "---\n",
    "> P-065: 商品データフレーム（df_product）の各商品について、利益率が30%となる新たな単価を求めよ。ただし、1円未満は切り捨てること。そして結果を10件表示させ、利益率がおよそ30％付近であることを確認せよ。ただし、単価（unit_price）と原価（unit_cost）にはNULLが存在することに注意せよ。"
   ]
  },
  {
   "cell_type": "code",
   "execution_count": 69,
   "metadata": {
    "dotnet_interactive": {
     "language": "csharp"
    }
   },
   "outputs": [
    {
     "data": {
      "text/html": [
       "<table><thead><tr><th><i>index</i></th><th>product_cd</th><th>new_price</th><th>unit_cost</th><th>unit_profit_rate</th></tr></thead><tbody><tr><td>0</td><td><div class=\"dni-plaintext\">P040101001</div></td><td><div class=\"dni-plaintext\">212</div></td><td><div class=\"dni-plaintext\">149</div></td><td><div class=\"dni-plaintext\">0.2971698113207547</div></td></tr><tr><td>1</td><td><div class=\"dni-plaintext\">P040101002</div></td><td><div class=\"dni-plaintext\">234</div></td><td><div class=\"dni-plaintext\">164</div></td><td><div class=\"dni-plaintext\">0.29914529914529914</div></td></tr><tr><td>2</td><td><div class=\"dni-plaintext\">P040101003</div></td><td><div class=\"dni-plaintext\">247</div></td><td><div class=\"dni-plaintext\">173</div></td><td><div class=\"dni-plaintext\">0.29959514170040485</div></td></tr><tr><td>3</td><td><div class=\"dni-plaintext\">P040101004</div></td><td><div class=\"dni-plaintext\">265</div></td><td><div class=\"dni-plaintext\">186</div></td><td><div class=\"dni-plaintext\">0.2981132075471698</div></td></tr><tr><td>4</td><td><div class=\"dni-plaintext\">P040101005</div></td><td><div class=\"dni-plaintext\">287</div></td><td><div class=\"dni-plaintext\">201</div></td><td><div class=\"dni-plaintext\">0.29965156794425085</div></td></tr><tr><td>5</td><td><div class=\"dni-plaintext\">P040101006</div></td><td><div class=\"dni-plaintext\">320</div></td><td><div class=\"dni-plaintext\">224</div></td><td><div class=\"dni-plaintext\">0.3</div></td></tr><tr><td>6</td><td><div class=\"dni-plaintext\">P040101007</div></td><td><div class=\"dni-plaintext\">362</div></td><td><div class=\"dni-plaintext\">254</div></td><td><div class=\"dni-plaintext\">0.2983425414364641</div></td></tr><tr><td>7</td><td><div class=\"dni-plaintext\">P040101008</div></td><td><div class=\"dni-plaintext\">450</div></td><td><div class=\"dni-plaintext\">315</div></td><td><div class=\"dni-plaintext\">0.3</div></td></tr><tr><td>8</td><td><div class=\"dni-plaintext\">P040101009</div></td><td><div class=\"dni-plaintext\">534</div></td><td><div class=\"dni-plaintext\">374</div></td><td><div class=\"dni-plaintext\">0.299625468164794</div></td></tr><tr><td>9</td><td><div class=\"dni-plaintext\">P040101010</div></td><td><div class=\"dni-plaintext\">621</div></td><td><div class=\"dni-plaintext\">435</div></td><td><div class=\"dni-plaintext\">0.2995169082125604</div></td></tr></tbody></table>"
      ]
     },
     "execution_count": 69,
     "metadata": {},
     "output_type": "execute_result"
    }
   ],
   "source": [
    "var new_df = \n",
    "df_product\n",
    ".Where(r => r.unit_cost != null)\n",
    ".Select(r => new {\n",
    "    r.product_cd,\n",
    "    r.unit_cost,\n",
    "    new_price = Math.Floor((r.unit_cost ?? 0) / 0.7) // 小数点以下切り捨て\n",
    "});\n",
    "\n",
    "new_df\n",
    ".Select(r => new {\n",
    "    r.product_cd,\n",
    "    r.new_price,\n",
    "    r.unit_cost,\n",
    "    unit_profit_rate = (double) (r.new_price - r.unit_cost) / r.new_price,\n",
    "}).Take(10)"
   ]
  },
  {
   "cell_type": "markdown",
   "metadata": {},
   "source": [
    "---\n",
    "> P-066: 商品データフレーム（df_product）の各商品について、利益率が30%となる新たな単価を求めよ。今回は、1円未満を四捨五入すること（0.5については偶数方向の丸めで良い）。そして結果を10件表示させ、利益率がおよそ30％付近であることを確認せよ。ただし、単価（unit_price）と原価（unit_cost）にはNULLが存在することに注意せよ。"
   ]
  },
  {
   "cell_type": "code",
   "execution_count": 70,
   "metadata": {
    "dotnet_interactive": {
     "language": "csharp"
    }
   },
   "outputs": [
    {
     "data": {
      "text/html": [
       "<table><thead><tr><th><i>index</i></th><th>product_cd</th><th>new_price</th><th>unit_cost</th><th>unit_profit_rate</th></tr></thead><tbody><tr><td>0</td><td><div class=\"dni-plaintext\">P040101001</div></td><td><div class=\"dni-plaintext\">213</div></td><td><div class=\"dni-plaintext\">149</div></td><td><div class=\"dni-plaintext\">0.3004694835680751</div></td></tr><tr><td>1</td><td><div class=\"dni-plaintext\">P040101002</div></td><td><div class=\"dni-plaintext\">234</div></td><td><div class=\"dni-plaintext\">164</div></td><td><div class=\"dni-plaintext\">0.29914529914529914</div></td></tr><tr><td>2</td><td><div class=\"dni-plaintext\">P040101003</div></td><td><div class=\"dni-plaintext\">247</div></td><td><div class=\"dni-plaintext\">173</div></td><td><div class=\"dni-plaintext\">0.29959514170040485</div></td></tr><tr><td>3</td><td><div class=\"dni-plaintext\">P040101004</div></td><td><div class=\"dni-plaintext\">266</div></td><td><div class=\"dni-plaintext\">186</div></td><td><div class=\"dni-plaintext\">0.3007518796992481</div></td></tr><tr><td>4</td><td><div class=\"dni-plaintext\">P040101005</div></td><td><div class=\"dni-plaintext\">287</div></td><td><div class=\"dni-plaintext\">201</div></td><td><div class=\"dni-plaintext\">0.29965156794425085</div></td></tr><tr><td>5</td><td><div class=\"dni-plaintext\">P040101006</div></td><td><div class=\"dni-plaintext\">320</div></td><td><div class=\"dni-plaintext\">224</div></td><td><div class=\"dni-plaintext\">0.3</div></td></tr><tr><td>6</td><td><div class=\"dni-plaintext\">P040101007</div></td><td><div class=\"dni-plaintext\">363</div></td><td><div class=\"dni-plaintext\">254</div></td><td><div class=\"dni-plaintext\">0.3002754820936639</div></td></tr><tr><td>7</td><td><div class=\"dni-plaintext\">P040101008</div></td><td><div class=\"dni-plaintext\">450</div></td><td><div class=\"dni-plaintext\">315</div></td><td><div class=\"dni-plaintext\">0.3</div></td></tr><tr><td>8</td><td><div class=\"dni-plaintext\">P040101009</div></td><td><div class=\"dni-plaintext\">534</div></td><td><div class=\"dni-plaintext\">374</div></td><td><div class=\"dni-plaintext\">0.299625468164794</div></td></tr><tr><td>9</td><td><div class=\"dni-plaintext\">P040101010</div></td><td><div class=\"dni-plaintext\">621</div></td><td><div class=\"dni-plaintext\">435</div></td><td><div class=\"dni-plaintext\">0.2995169082125604</div></td></tr></tbody></table>"
      ]
     },
     "execution_count": 70,
     "metadata": {},
     "output_type": "execute_result"
    }
   ],
   "source": [
    "var new_df = \n",
    "df_product\n",
    ".Where(r => r.unit_cost != null)\n",
    ".Select(r => new {\n",
    "    r.product_cd,\n",
    "    r.unit_cost,\n",
    "    new_price = Math.Round((r.unit_cost ?? 0) / 0.7 ) // 1円未満を四捨五入 ( 明示的に指定しない場合は 偶数丸め )\n",
    "    // https://docs.microsoft.com/ja-jp/dotnet/api/system.math.round?view=net-5.0#System_Math_Round_System_Decimal_\n",
    "});\n",
    "\n",
    "new_df\n",
    ".Select(r => new {\n",
    "    r.product_cd,\n",
    "    r.new_price,\n",
    "    r.unit_cost,\n",
    "    unit_profit_rate = (double) (r.new_price - r.unit_cost) / r.new_price,\n",
    "}).Take(10)"
   ]
  },
  {
   "cell_type": "markdown",
   "metadata": {},
   "source": [
    "---\n",
    "> P-067: 商品データフレーム（df_product）の各商品について、利益率が30%となる新たな単価を求めよ。今回は、1円未満を切り上げること。そして結果を10件表示させ、利益率がおよそ30％付近であることを確認せよ。ただし、単価（unit_price）と原価（unit_cost）にはNULLが存在することに注意せよ。"
   ]
  },
  {
   "cell_type": "code",
   "execution_count": 71,
   "metadata": {
    "dotnet_interactive": {
     "language": "csharp"
    }
   },
   "outputs": [
    {
     "data": {
      "text/html": [
       "<table><thead><tr><th><i>index</i></th><th>product_cd</th><th>new_price</th><th>unit_cost</th><th>unit_profit_rate</th></tr></thead><tbody><tr><td>0</td><td><div class=\"dni-plaintext\">P040101001</div></td><td><div class=\"dni-plaintext\">213</div></td><td><div class=\"dni-plaintext\">149</div></td><td><div class=\"dni-plaintext\">0.3004694835680751</div></td></tr><tr><td>1</td><td><div class=\"dni-plaintext\">P040101002</div></td><td><div class=\"dni-plaintext\">235</div></td><td><div class=\"dni-plaintext\">164</div></td><td><div class=\"dni-plaintext\">0.3021276595744681</div></td></tr><tr><td>2</td><td><div class=\"dni-plaintext\">P040101003</div></td><td><div class=\"dni-plaintext\">248</div></td><td><div class=\"dni-plaintext\">173</div></td><td><div class=\"dni-plaintext\">0.3024193548387097</div></td></tr><tr><td>3</td><td><div class=\"dni-plaintext\">P040101004</div></td><td><div class=\"dni-plaintext\">266</div></td><td><div class=\"dni-plaintext\">186</div></td><td><div class=\"dni-plaintext\">0.3007518796992481</div></td></tr><tr><td>4</td><td><div class=\"dni-plaintext\">P040101005</div></td><td><div class=\"dni-plaintext\">288</div></td><td><div class=\"dni-plaintext\">201</div></td><td><div class=\"dni-plaintext\">0.3020833333333333</div></td></tr><tr><td>5</td><td><div class=\"dni-plaintext\">P040101006</div></td><td><div class=\"dni-plaintext\">320</div></td><td><div class=\"dni-plaintext\">224</div></td><td><div class=\"dni-plaintext\">0.3</div></td></tr><tr><td>6</td><td><div class=\"dni-plaintext\">P040101007</div></td><td><div class=\"dni-plaintext\">363</div></td><td><div class=\"dni-plaintext\">254</div></td><td><div class=\"dni-plaintext\">0.3002754820936639</div></td></tr><tr><td>7</td><td><div class=\"dni-plaintext\">P040101008</div></td><td><div class=\"dni-plaintext\">451</div></td><td><div class=\"dni-plaintext\">315</div></td><td><div class=\"dni-plaintext\">0.30155210643015523</div></td></tr><tr><td>8</td><td><div class=\"dni-plaintext\">P040101009</div></td><td><div class=\"dni-plaintext\">535</div></td><td><div class=\"dni-plaintext\">374</div></td><td><div class=\"dni-plaintext\">0.30093457943925234</div></td></tr><tr><td>9</td><td><div class=\"dni-plaintext\">P040101010</div></td><td><div class=\"dni-plaintext\">622</div></td><td><div class=\"dni-plaintext\">435</div></td><td><div class=\"dni-plaintext\">0.30064308681672025</div></td></tr></tbody></table>"
      ]
     },
     "execution_count": 71,
     "metadata": {},
     "output_type": "execute_result"
    }
   ],
   "source": [
    "var new_df = \n",
    "df_product\n",
    ".Where(r => r.unit_cost != null)\n",
    ".Select(r => new {\n",
    "    r.product_cd,\n",
    "    r.unit_cost,\n",
    "    new_price = Math.Ceiling((r.unit_cost ?? 0) / 0.7 ) // 1円未満を切り上げ( 正の大きい方へ 丸め )\n",
    "    // https://docs.microsoft.com/ja-jp/dotnet/api/system.math.ceiling?view=net-5.0#System_Math_Ceiling_System_Double_\n",
    "});\n",
    "\n",
    "new_df\n",
    ".Select(r => new {\n",
    "    r.product_cd,\n",
    "    r.new_price,\n",
    "    r.unit_cost,\n",
    "    unit_profit_rate = (double) (r.new_price - r.unit_cost) / r.new_price,\n",
    "}).Take(10)"
   ]
  },
  {
   "cell_type": "markdown",
   "metadata": {},
   "source": [
    "---\n",
    "> P-068: 商品データフレーム（df_product）の各商品について、消費税率10%の税込み金額を求めよ。 1円未満の端数は切り捨てとし、結果は10件表示すれば良い。ただし、単価（unit_price）にはNULLが存在することに注意せよ。"
   ]
  },
  {
   "cell_type": "code",
   "execution_count": 72,
   "metadata": {
    "dotnet_interactive": {
     "language": "csharp"
    }
   },
   "outputs": [
    {
     "data": {
      "text/html": [
       "<table><thead><tr><th><i>index</i></th><th>product_cd</th><th>unit_price</th><th>price_tax</th></tr></thead><tbody><tr><td>0</td><td><div class=\"dni-plaintext\">P040101001</div></td><td><div class=\"dni-plaintext\">198</div></td><td><div class=\"dni-plaintext\">217</div></td></tr><tr><td>1</td><td><div class=\"dni-plaintext\">P040101002</div></td><td><div class=\"dni-plaintext\">218</div></td><td><div class=\"dni-plaintext\">239</div></td></tr><tr><td>2</td><td><div class=\"dni-plaintext\">P040101003</div></td><td><div class=\"dni-plaintext\">230</div></td><td><div class=\"dni-plaintext\">253</div></td></tr><tr><td>3</td><td><div class=\"dni-plaintext\">P040101004</div></td><td><div class=\"dni-plaintext\">248</div></td><td><div class=\"dni-plaintext\">272</div></td></tr><tr><td>4</td><td><div class=\"dni-plaintext\">P040101005</div></td><td><div class=\"dni-plaintext\">268</div></td><td><div class=\"dni-plaintext\">294</div></td></tr><tr><td>5</td><td><div class=\"dni-plaintext\">P040101006</div></td><td><div class=\"dni-plaintext\">298</div></td><td><div class=\"dni-plaintext\">327</div></td></tr><tr><td>6</td><td><div class=\"dni-plaintext\">P040101007</div></td><td><div class=\"dni-plaintext\">338</div></td><td><div class=\"dni-plaintext\">371</div></td></tr><tr><td>7</td><td><div class=\"dni-plaintext\">P040101008</div></td><td><div class=\"dni-plaintext\">420</div></td><td><div class=\"dni-plaintext\">462</div></td></tr><tr><td>8</td><td><div class=\"dni-plaintext\">P040101009</div></td><td><div class=\"dni-plaintext\">498</div></td><td><div class=\"dni-plaintext\">547</div></td></tr><tr><td>9</td><td><div class=\"dni-plaintext\">P040101010</div></td><td><div class=\"dni-plaintext\">580</div></td><td><div class=\"dni-plaintext\">638</div></td></tr></tbody></table>"
      ]
     },
     "execution_count": 72,
     "metadata": {},
     "output_type": "execute_result"
    }
   ],
   "source": [
    "df_product.Select(r => new {\n",
    "    r.product_cd,\n",
    "    r.unit_price,\n",
    "    price_tax = ( r.unit_price != null ? Math.Floor(r.unit_price.Value * 1.1 ) : (double?) null) \n",
    "}).Take(10)"
   ]
  },
  {
   "cell_type": "markdown",
   "metadata": {},
   "source": [
    "---\n",
    "> P-069: レシート明細データフレーム（df_receipt）と商品データフレーム（df_product）を結合し、顧客毎に全商品の売上金額合計と、カテゴリ大区分（category_major_cd）が\"07\"（瓶詰缶詰）の売上金額合計を計算の上、両者の比率を求めよ。抽出対象はカテゴリ大区分\"07\"（瓶詰缶詰）の購入実績がある顧客のみとし、結果は10件表示させればよい。"
   ]
  },
  {
   "cell_type": "code",
   "execution_count": 73,
   "metadata": {
    "dotnet_interactive": {
     "language": "csharp"
    }
   },
   "outputs": [
    {
     "data": {
      "text/html": [
       "<table><thead><tr><th><i>index</i></th><th>customer_id</th><th>amount_all</th><th>amount_cat_7</th><th>amount_rate</th></tr></thead><tbody><tr><td>0</td><td><div class=\"dni-plaintext\">CS001113000004</div></td><td><div class=\"dni-plaintext\">1298</div></td><td><div class=\"dni-plaintext\">1298</div></td><td><div class=\"dni-plaintext\">1</div></td></tr><tr><td>1</td><td><div class=\"dni-plaintext\">CS001114000005</div></td><td><div class=\"dni-plaintext\">626</div></td><td><div class=\"dni-plaintext\">486</div></td><td><div class=\"dni-plaintext\">0.7763578274760383</div></td></tr><tr><td>2</td><td><div class=\"dni-plaintext\">CS001115000010</div></td><td><div class=\"dni-plaintext\">3044</div></td><td><div class=\"dni-plaintext\">2694</div></td><td><div class=\"dni-plaintext\">0.8850197109067017</div></td></tr><tr><td>3</td><td><div class=\"dni-plaintext\">CS001205000004</div></td><td><div class=\"dni-plaintext\">1988</div></td><td><div class=\"dni-plaintext\">346</div></td><td><div class=\"dni-plaintext\">0.17404426559356137</div></td></tr><tr><td>4</td><td><div class=\"dni-plaintext\">CS001205000006</div></td><td><div class=\"dni-plaintext\">3337</div></td><td><div class=\"dni-plaintext\">2004</div></td><td><div class=\"dni-plaintext\">0.600539406652682</div></td></tr><tr><td>5</td><td><div class=\"dni-plaintext\">CS001212000027</div></td><td><div class=\"dni-plaintext\">448</div></td><td><div class=\"dni-plaintext\">200</div></td><td><div class=\"dni-plaintext\">0.44642857142857145</div></td></tr><tr><td>6</td><td><div class=\"dni-plaintext\">CS001212000031</div></td><td><div class=\"dni-plaintext\">296</div></td><td><div class=\"dni-plaintext\">296</div></td><td><div class=\"dni-plaintext\">1</div></td></tr><tr><td>7</td><td><div class=\"dni-plaintext\">CS001212000046</div></td><td><div class=\"dni-plaintext\">228</div></td><td><div class=\"dni-plaintext\">108</div></td><td><div class=\"dni-plaintext\">0.47368421052631576</div></td></tr><tr><td>8</td><td><div class=\"dni-plaintext\">CS001212000070</div></td><td><div class=\"dni-plaintext\">456</div></td><td><div class=\"dni-plaintext\">308</div></td><td><div class=\"dni-plaintext\">0.6754385964912281</div></td></tr><tr><td>9</td><td><div class=\"dni-plaintext\">CS001213000018</div></td><td><div class=\"dni-plaintext\">243</div></td><td><div class=\"dni-plaintext\">145</div></td><td><div class=\"dni-plaintext\">0.5967078189300411</div></td></tr></tbody></table>"
      ]
     },
     "execution_count": 73,
     "metadata": {},
     "output_type": "execute_result"
    }
   ],
   "source": [
    "// 顧客毎の全商品の売上金額合計\n",
    "var df_cust_amount = df_receipt.GroupBy(r => r.customer_id)\n",
    "    .Select(r => new {\n",
    "        customer_id = r.Key,\n",
    "        sum_amount = r.Sum(t => t.amount)\n",
    "    }).ToDictionary(r => r.customer_id);\n",
    "\n",
    "// 顧客毎の カテゴリ大分類７ の 売上金額合計\n",
    "var df_cat7_receipt = from df_receipt in df_receipt \n",
    "    join df_product in df_product on df_receipt.product_cd equals df_product.product_cd\n",
    "    where df_product.category_major_cd == \"07\"\n",
    "    select new {\n",
    "        df_receipt.customer_id,\n",
    "        df_receipt.amount\n",
    "    };\n",
    "var df_cat7_amount = df_cat7_receipt.GroupBy(r => r.customer_id)\n",
    "    .Select(r => new {\n",
    "        customer_id = r.Key,\n",
    "        sum_amount = r.Sum(t => t.amount)\n",
    "    }).ToDictionary(r => r.customer_id);\n",
    "\n",
    "// 抽出対象顧客一覧\n",
    "var custno_list = df_cat7_amount.Keys.OrderBy(r => r).ToList();\n",
    "\n",
    "// 結果出力\n",
    "custno_list.Select(customer_id => new {\n",
    "    customer_id = customer_id,\n",
    "    amount_all = df_cust_amount.GetValueOrDefault(customer_id)?.sum_amount,\n",
    "    amount_cat_7 = df_cat7_amount.GetValueOrDefault(customer_id)?.sum_amount,\n",
    "}).Select(r => new {\n",
    "    r.customer_id,\n",
    "    r.amount_all,\n",
    "    r.amount_cat_7,\n",
    "    amount_rate = (double) r.amount_cat_7 / r.amount_all,\n",
    "}).Take(10)"
   ]
  },
  {
   "cell_type": "markdown",
   "metadata": {},
   "source": [
    "---\n",
    "> P-070: レシート明細データフレーム（df_receipt）の売上日（sales_ymd）に対し、顧客データフレーム（df_customer）の会員申込日（application_date）からの経過日数を計算し、顧客ID（customer_id）、売上日、会員申込日とともに表示せよ。結果は10件表示させれば良い（なお、sales_ymdは数値、application_dateは文字列でデータを保持している点に注意）。"
   ]
  },
  {
   "cell_type": "code",
   "execution_count": 74,
   "metadata": {
    "dotnet_interactive": {
     "language": "csharp"
    }
   },
   "outputs": [
    {
     "data": {
      "text/html": [
       "<table><thead><tr><th><i>index</i></th><th>customer_id</th><th>sales_ymd</th><th>application_date</th><th>elapsed_date</th></tr></thead><tbody><tr><td>0</td><td><div class=\"dni-plaintext\">CS006214000001</div></td><td><div class=\"dni-plaintext\">20181103</div></td><td><div class=\"dni-plaintext\">20150201</div></td><td><div class=\"dni-plaintext\">1371</div></td></tr><tr><td>1</td><td><div class=\"dni-plaintext\">CS008415000097</div></td><td><div class=\"dni-plaintext\">20181118</div></td><td><div class=\"dni-plaintext\">20150322</div></td><td><div class=\"dni-plaintext\">1337</div></td></tr><tr><td>2</td><td><div class=\"dni-plaintext\">CS028414000014</div></td><td><div class=\"dni-plaintext\">20170712</div></td><td><div class=\"dni-plaintext\">20150711</div></td><td><div class=\"dni-plaintext\">732</div></td></tr><tr><td>3</td><td><div class=\"dni-plaintext\">CS025415000050</div></td><td><div class=\"dni-plaintext\">20180821</div></td><td><div class=\"dni-plaintext\">20160131</div></td><td><div class=\"dni-plaintext\">933</div></td></tr><tr><td>4</td><td><div class=\"dni-plaintext\">CS003515000195</div></td><td><div class=\"dni-plaintext\">20190605</div></td><td><div class=\"dni-plaintext\">20150306</div></td><td><div class=\"dni-plaintext\">1552</div></td></tr><tr><td>5</td><td><div class=\"dni-plaintext\">CS024514000042</div></td><td><div class=\"dni-plaintext\">20181205</div></td><td><div class=\"dni-plaintext\">20151010</div></td><td><div class=\"dni-plaintext\">1152</div></td></tr><tr><td>6</td><td><div class=\"dni-plaintext\">CS040415000178</div></td><td><div class=\"dni-plaintext\">20190922</div></td><td><div class=\"dni-plaintext\">20150627</div></td><td><div class=\"dni-plaintext\">1548</div></td></tr><tr><td>7</td><td><div class=\"dni-plaintext\">CS027514000015</div></td><td><div class=\"dni-plaintext\">20191010</div></td><td><div class=\"dni-plaintext\">20151101</div></td><td><div class=\"dni-plaintext\">1439</div></td></tr><tr><td>8</td><td><div class=\"dni-plaintext\">CS025415000134</div></td><td><div class=\"dni-plaintext\">20190918</div></td><td><div class=\"dni-plaintext\">20150720</div></td><td><div class=\"dni-plaintext\">1521</div></td></tr><tr><td>9</td><td><div class=\"dni-plaintext\">CS021515000126</div></td><td><div class=\"dni-plaintext\">20171010</div></td><td><div class=\"dni-plaintext\">20150508</div></td><td><div class=\"dni-plaintext\">886</div></td></tr></tbody></table>"
      ]
     },
     "execution_count": 74,
     "metadata": {},
     "output_type": "execute_result"
    }
   ],
   "source": [
    "// YYYYMMDD 形式の日付を DateTime 型に変換する\n",
    "DateTime ?YYYYMMDDToDateTime(string yyyymmdd) {\n",
    "    if (yyyymmdd != null && yyyymmdd.Length == 8) {\n",
    "        return new DateTime(\n",
    "            int.Parse(yyyymmdd.Substring(0,4)),\n",
    "            int.Parse(yyyymmdd.Substring(4,2)),\n",
    "            int.Parse(yyyymmdd.Substring(6)));\n",
    "    } else {\n",
    "        return null;\n",
    "    }\n",
    "}\n",
    "// ２つの日付の差の日を計算\n",
    "int? DiffDate(string yyyymmdd1 , string yyyymmdd2) {\n",
    "    DateTime ?t1 = YYYYMMDDToDateTime(yyyymmdd1);\n",
    "    DateTime ?t2 = YYYYMMDDToDateTime(yyyymmdd2);\n",
    "    if (t1 != null && t2 != null) {\n",
    "        int diffDay = (int) t2.Value.Subtract(t1.Value).TotalDays;\n",
    "        return Math.Abs(diffDay);\n",
    "    } else {\n",
    "        return null;\n",
    "    }\n",
    "}\n",
    "\n",
    "// レシート明細 join 顧客 \n",
    "var query = from df_receipt in df_receipt\n",
    "    join df_customer in df_customer on df_receipt.customer_id equals df_customer.customer_id\n",
    "    select new {\n",
    "        df_receipt.customer_id,\n",
    "        df_receipt.sales_ymd,\n",
    "        df_customer.application_date,\n",
    "        // 経過した日を求める\n",
    "        elapsed_date = DiffDate(df_receipt.sales_ymd, df_customer.application_date),\n",
    "    };\n",
    "\n",
    "// 結果の表示\n",
    "query.Take(10)"
   ]
  },
  {
   "cell_type": "markdown",
   "metadata": {},
   "source": [
    "---\n",
    "> P-071: レシート明細データフレーム（df_receipt）の売上日（sales_ymd）に対し、顧客データフレーム（df_customer）の会員申込日（application_date）からの経過月数を計算し、顧客ID（customer_id）、売上日、会員申込日とともに表示せよ。結果は10件表示させれば良い（なお、sales_ymdは数値、application_dateは文字列でデータを保持している点に注意）。1ヶ月未満は切り捨てること。"
   ]
  },
  {
   "cell_type": "code",
   "execution_count": 75,
   "metadata": {
    "dotnet_interactive": {
     "language": "csharp"
    }
   },
   "outputs": [
    {
     "data": {
      "text/html": [
       "<table><thead><tr><th><i>index</i></th><th>customer_id</th><th>sales_ymd</th><th>application_date</th><th>elapsed_month</th></tr></thead><tbody><tr><td>0</td><td><div class=\"dni-plaintext\">CS006214000001</div></td><td><div class=\"dni-plaintext\">20181103</div></td><td><div class=\"dni-plaintext\">20150201</div></td><td><div class=\"dni-plaintext\">45</div></td></tr><tr><td>1</td><td><div class=\"dni-plaintext\">CS008415000097</div></td><td><div class=\"dni-plaintext\">20181118</div></td><td><div class=\"dni-plaintext\">20150322</div></td><td><div class=\"dni-plaintext\">43</div></td></tr><tr><td>2</td><td><div class=\"dni-plaintext\">CS028414000014</div></td><td><div class=\"dni-plaintext\">20170712</div></td><td><div class=\"dni-plaintext\">20150711</div></td><td><div class=\"dni-plaintext\">24</div></td></tr><tr><td>3</td><td><div class=\"dni-plaintext\">CS025415000050</div></td><td><div class=\"dni-plaintext\">20180821</div></td><td><div class=\"dni-plaintext\">20160131</div></td><td><div class=\"dni-plaintext\">30</div></td></tr><tr><td>4</td><td><div class=\"dni-plaintext\">CS003515000195</div></td><td><div class=\"dni-plaintext\">20190605</div></td><td><div class=\"dni-plaintext\">20150306</div></td><td><div class=\"dni-plaintext\">50</div></td></tr><tr><td>5</td><td><div class=\"dni-plaintext\">CS024514000042</div></td><td><div class=\"dni-plaintext\">20181205</div></td><td><div class=\"dni-plaintext\">20151010</div></td><td><div class=\"dni-plaintext\">37</div></td></tr><tr><td>6</td><td><div class=\"dni-plaintext\">CS040415000178</div></td><td><div class=\"dni-plaintext\">20190922</div></td><td><div class=\"dni-plaintext\">20150627</div></td><td><div class=\"dni-plaintext\">50</div></td></tr><tr><td>7</td><td><div class=\"dni-plaintext\">CS027514000015</div></td><td><div class=\"dni-plaintext\">20191010</div></td><td><div class=\"dni-plaintext\">20151101</div></td><td><div class=\"dni-plaintext\">47</div></td></tr><tr><td>8</td><td><div class=\"dni-plaintext\">CS025415000134</div></td><td><div class=\"dni-plaintext\">20190918</div></td><td><div class=\"dni-plaintext\">20150720</div></td><td><div class=\"dni-plaintext\">49</div></td></tr><tr><td>9</td><td><div class=\"dni-plaintext\">CS021515000126</div></td><td><div class=\"dni-plaintext\">20171010</div></td><td><div class=\"dni-plaintext\">20150508</div></td><td><div class=\"dni-plaintext\">29</div></td></tr></tbody></table>"
      ]
     },
     "execution_count": 75,
     "metadata": {},
     "output_type": "execute_result"
    }
   ],
   "source": [
    "DateTime ?YYYYMMDDToDateTime(string yyyymmdd) {\n",
    "    if (yyyymmdd != null && yyyymmdd.Length == 8) {\n",
    "        return new DateTime(\n",
    "            int.Parse(yyyymmdd.Substring(0,4)),\n",
    "            int.Parse(yyyymmdd.Substring(4,2)),\n",
    "            int.Parse(yyyymmdd.Substring(6)));\n",
    "    } else {\n",
    "        return null;\n",
    "    }\n",
    "}\n",
    "// ２つの日付の差の月を計算\n",
    "int? DiffMonth(string yyyymmdd1 , string yyyymmdd2) {\n",
    "    DateTime ?t1 = YYYYMMDDToDateTime(yyyymmdd1);\n",
    "    DateTime ?t2 = YYYYMMDDToDateTime(yyyymmdd2);\n",
    "    if (t1 != null && t2 != null) {\n",
    "        if (t1.Value > t2.Value) {\n",
    "            (t1,t2) = (t2,t1); // 値の入れ替え\n",
    "        }\n",
    "        int diff_month = 0;\n",
    "#if false\n",
    "        // 29日30日31日 の扱いを工夫\n",
    "        while (t1.Value.AddMonths(1) <= t2.Value) {\n",
    "            t1 = t1.Value.AddMonths(1);\n",
    "            diff_month++;\n",
    "        }\n",
    "#else\n",
    "        // ２つの日付の月の差\n",
    "        int month1 = t1.Value.Year * 12 + t1.Value.Month;\n",
    "        int month2 = t2.Value.Year * 12 + t2.Value.Month;\n",
    "        diff_month = month2 - month1;\n",
    "        // 日数の大小関係を見て 月を減らす\n",
    "        if (t1.Value.Day > t2.Value.Day) {\n",
    "            diff_month --;\n",
    "        }\n",
    "#endif\n",
    "        return diff_month;\n",
    "    } else {\n",
    "        return null;\n",
    "    }\n",
    "}\n",
    "\n",
    "// レシート明細 join 顧客 \n",
    "var query = from df_receipt in df_receipt\n",
    "    join df_customer in df_customer on df_receipt.customer_id equals df_customer.customer_id\n",
    "    select new {\n",
    "        df_receipt.customer_id,\n",
    "        df_receipt.sales_ymd,\n",
    "        df_customer.application_date,\n",
    "        // 経過した日を求める\n",
    "        elapsed_month = DiffMonth(df_receipt.sales_ymd, df_customer.application_date),\n",
    "    };\n",
    "\n",
    "query.Take(10)\n",
    "// 考察：２つの日付の 月の差 を計算する場合、月末の扱いが 多少異なる"
   ]
  },
  {
   "cell_type": "markdown",
   "metadata": {},
   "source": [
    "---\n",
    "> P-072: レシート明細データフレーム（df_receipt）の売上日（sales_ymd）に対し、顧客データフレーム（df_customer）の会員申込日（application_date）からの経過年数を計算し、顧客ID（customer_id）、売上日、会員申込日とともに表示せよ。結果は10件表示させれば良い。（なお、sales_ymdは数値、application_dateは文字列でデータを保持している点に注意）。1年未満は切り捨てること。"
   ]
  },
  {
   "cell_type": "code",
   "execution_count": 76,
   "metadata": {
    "dotnet_interactive": {
     "language": "csharp"
    }
   },
   "outputs": [
    {
     "data": {
      "text/html": [
       "<table><thead><tr><th><i>index</i></th><th>customer_id</th><th>sales_ymd</th><th>application_date</th><th>elapsed_year</th></tr></thead><tbody><tr><td>0</td><td><div class=\"dni-plaintext\">CS006214000001</div></td><td><div class=\"dni-plaintext\">20181103</div></td><td><div class=\"dni-plaintext\">20150201</div></td><td><div class=\"dni-plaintext\">3</div></td></tr><tr><td>1</td><td><div class=\"dni-plaintext\">CS008415000097</div></td><td><div class=\"dni-plaintext\">20181118</div></td><td><div class=\"dni-plaintext\">20150322</div></td><td><div class=\"dni-plaintext\">3</div></td></tr><tr><td>2</td><td><div class=\"dni-plaintext\">CS028414000014</div></td><td><div class=\"dni-plaintext\">20170712</div></td><td><div class=\"dni-plaintext\">20150711</div></td><td><div class=\"dni-plaintext\">2</div></td></tr><tr><td>3</td><td><div class=\"dni-plaintext\">CS025415000050</div></td><td><div class=\"dni-plaintext\">20180821</div></td><td><div class=\"dni-plaintext\">20160131</div></td><td><div class=\"dni-plaintext\">2</div></td></tr><tr><td>4</td><td><div class=\"dni-plaintext\">CS003515000195</div></td><td><div class=\"dni-plaintext\">20190605</div></td><td><div class=\"dni-plaintext\">20150306</div></td><td><div class=\"dni-plaintext\">4</div></td></tr><tr><td>5</td><td><div class=\"dni-plaintext\">CS024514000042</div></td><td><div class=\"dni-plaintext\">20181205</div></td><td><div class=\"dni-plaintext\">20151010</div></td><td><div class=\"dni-plaintext\">3</div></td></tr><tr><td>6</td><td><div class=\"dni-plaintext\">CS040415000178</div></td><td><div class=\"dni-plaintext\">20190922</div></td><td><div class=\"dni-plaintext\">20150627</div></td><td><div class=\"dni-plaintext\">4</div></td></tr><tr><td>7</td><td><div class=\"dni-plaintext\">CS027514000015</div></td><td><div class=\"dni-plaintext\">20191010</div></td><td><div class=\"dni-plaintext\">20151101</div></td><td><div class=\"dni-plaintext\">3</div></td></tr><tr><td>8</td><td><div class=\"dni-plaintext\">CS025415000134</div></td><td><div class=\"dni-plaintext\">20190918</div></td><td><div class=\"dni-plaintext\">20150720</div></td><td><div class=\"dni-plaintext\">4</div></td></tr><tr><td>9</td><td><div class=\"dni-plaintext\">CS021515000126</div></td><td><div class=\"dni-plaintext\">20171010</div></td><td><div class=\"dni-plaintext\">20150508</div></td><td><div class=\"dni-plaintext\">2</div></td></tr></tbody></table>"
      ]
     },
     "execution_count": 76,
     "metadata": {},
     "output_type": "execute_result"
    }
   ],
   "source": [
    "DateTime ?YYYYMMDDToDateTime(string yyyymmdd) {\n",
    "    if (yyyymmdd != null && yyyymmdd.Length == 8) {\n",
    "        return new DateTime(\n",
    "            int.Parse(yyyymmdd.Substring(0,4)),\n",
    "            int.Parse(yyyymmdd.Substring(4,2)),\n",
    "            int.Parse(yyyymmdd.Substring(6)));\n",
    "    } else {\n",
    "        return null;\n",
    "    }\n",
    "}\n",
    "// ２つの日付の差の月を計算\n",
    "int? DiffYear(string yyyymmdd1 , string yyyymmdd2) {\n",
    "    DateTime ?t1 = YYYYMMDDToDateTime(yyyymmdd1);\n",
    "    DateTime ?t2 = YYYYMMDDToDateTime(yyyymmdd2);\n",
    "    if (t1 != null && t2 != null) {\n",
    "        if (t1.Value > t2.Value) {\n",
    "            (t1,t2) = (t2,t1); // 値の入れ替え\n",
    "        }\n",
    "        int diff_year = t2.Value.Year - t1.Value.Year;\n",
    "        // ２つの日付の月の差\n",
    "        int mmdd1 = t1.Value.Month * 100 + t1.Value.Day;\n",
    "        int mmdd2 = t2.Value.Month * 100 + t2.Value.Day;\n",
    "        // 1年未満の場合：１減らす\n",
    "        if (mmdd1> mmdd2) {\n",
    "            diff_year --;\n",
    "        }\n",
    "        return diff_year;\n",
    "    } else {\n",
    "        return null;\n",
    "    }\n",
    "}\n",
    "\n",
    "// レシート明細 join 顧客 \n",
    "var query = from df_receipt in df_receipt\n",
    "    join df_customer in df_customer on df_receipt.customer_id equals df_customer.customer_id\n",
    "    select new {\n",
    "        df_receipt.customer_id,\n",
    "        df_receipt.sales_ymd,\n",
    "        df_customer.application_date,\n",
    "        // 経過した年を求める：1年未満は切り捨て\n",
    "        elapsed_year = DiffYear(df_receipt.sales_ymd, df_customer.application_date),\n",
    "    };\n",
    "\n",
    "query.Take(10)"
   ]
  },
  {
   "cell_type": "markdown",
   "metadata": {},
   "source": [
    "---\n",
    "> P-073: レシート明細データフレーム（df_receipt）の売上日（sales_ymd）に対し、顧客データフレーム（df_customer）の会員申込日（application_date）からのエポック秒による経過時間を計算し、顧客ID（customer_id）、売上日、会員申込日とともに表示せよ。結果は10件表示させれば良い（なお、sales_ymdは数値、application_dateは文字列でデータを保持している点に注意）。なお、時間情報は保有していないため各日付は0時0分0秒を表すものとする。"
   ]
  },
  {
   "cell_type": "code",
   "execution_count": 77,
   "metadata": {
    "dotnet_interactive": {
     "language": "csharp"
    }
   },
   "outputs": [
    {
     "data": {
      "text/html": [
       "<table><thead><tr><th><i>index</i></th><th>customer_id</th><th>sales_ymd</th><th>application_date</th><th>elapsed_seconds</th></tr></thead><tbody><tr><td>0</td><td><div class=\"dni-plaintext\">CS006214000001</div></td><td><div class=\"dni-plaintext\">20181103</div></td><td><div class=\"dni-plaintext\">20150201</div></td><td><div class=\"dni-plaintext\">118454400</div></td></tr><tr><td>1</td><td><div class=\"dni-plaintext\">CS008415000097</div></td><td><div class=\"dni-plaintext\">20181118</div></td><td><div class=\"dni-plaintext\">20150322</div></td><td><div class=\"dni-plaintext\">115516800</div></td></tr><tr><td>2</td><td><div class=\"dni-plaintext\">CS028414000014</div></td><td><div class=\"dni-plaintext\">20170712</div></td><td><div class=\"dni-plaintext\">20150711</div></td><td><div class=\"dni-plaintext\">63244800</div></td></tr><tr><td>3</td><td><div class=\"dni-plaintext\">CS025415000050</div></td><td><div class=\"dni-plaintext\">20180821</div></td><td><div class=\"dni-plaintext\">20160131</div></td><td><div class=\"dni-plaintext\">80611200</div></td></tr><tr><td>4</td><td><div class=\"dni-plaintext\">CS003515000195</div></td><td><div class=\"dni-plaintext\">20190605</div></td><td><div class=\"dni-plaintext\">20150306</div></td><td><div class=\"dni-plaintext\">134092800</div></td></tr><tr><td>5</td><td><div class=\"dni-plaintext\">CS024514000042</div></td><td><div class=\"dni-plaintext\">20181205</div></td><td><div class=\"dni-plaintext\">20151010</div></td><td><div class=\"dni-plaintext\">99532800</div></td></tr><tr><td>6</td><td><div class=\"dni-plaintext\">CS040415000178</div></td><td><div class=\"dni-plaintext\">20190922</div></td><td><div class=\"dni-plaintext\">20150627</div></td><td><div class=\"dni-plaintext\">133747200</div></td></tr><tr><td>7</td><td><div class=\"dni-plaintext\">CS027514000015</div></td><td><div class=\"dni-plaintext\">20191010</div></td><td><div class=\"dni-plaintext\">20151101</div></td><td><div class=\"dni-plaintext\">124329600</div></td></tr><tr><td>8</td><td><div class=\"dni-plaintext\">CS025415000134</div></td><td><div class=\"dni-plaintext\">20190918</div></td><td><div class=\"dni-plaintext\">20150720</div></td><td><div class=\"dni-plaintext\">131414400</div></td></tr><tr><td>9</td><td><div class=\"dni-plaintext\">CS021515000126</div></td><td><div class=\"dni-plaintext\">20171010</div></td><td><div class=\"dni-plaintext\">20150508</div></td><td><div class=\"dni-plaintext\">76550400</div></td></tr></tbody></table>"
      ]
     },
     "execution_count": 77,
     "metadata": {},
     "output_type": "execute_result"
    }
   ],
   "source": [
    "DateTime ?YYYYMMDDToDateTime(string yyyymmdd) {\n",
    "    if (yyyymmdd != null && yyyymmdd.Length == 8) {\n",
    "        return new DateTime(\n",
    "            int.Parse(yyyymmdd.Substring(0,4)),\n",
    "            int.Parse(yyyymmdd.Substring(4,2)),\n",
    "            int.Parse(yyyymmdd.Substring(6)));\n",
    "    } else {\n",
    "        return null;\n",
    "    }\n",
    "}\n",
    "// ２つの日付の差の秒を計算\n",
    "double? DiffSeconds(string yyyymmdd1 , string yyyymmdd2) {\n",
    "    DateTime ?t1 = YYYYMMDDToDateTime(yyyymmdd1);\n",
    "    DateTime ?t2 = YYYYMMDDToDateTime(yyyymmdd2);\n",
    "    if (t1 != null && t2 != null) {\n",
    "        if (t1.Value > t2.Value) {\n",
    "            (t1,t2) = (t2,t1); // 値の入れ替え\n",
    "        }\n",
    "        double diffSeconds = t2.Value.Subtract(t1.Value).TotalSeconds;\n",
    "        return diffSeconds;\n",
    "    } else {\n",
    "        return null;\n",
    "    }\n",
    "}\n",
    "\n",
    "// レシート明細 join 顧客 \n",
    "var query = from df_receipt in df_receipt\n",
    "    join df_customer in df_customer on df_receipt.customer_id equals df_customer.customer_id\n",
    "    select new {\n",
    "        df_receipt.customer_id,\n",
    "        df_receipt.sales_ymd,\n",
    "        df_customer.application_date,\n",
    "        // 経過した秒を求める\n",
    "        elapsed_seconds = DiffSeconds(df_receipt.sales_ymd, df_customer.application_date),\n",
    "    };\n",
    "\n",
    "query.Take(10)"
   ]
  },
  {
   "cell_type": "markdown",
   "metadata": {},
   "source": [
    "---\n",
    "> P-074: レシート明細データフレーム（df_receipt）の売上日（sales_ymd）に対し、当該週の月曜日からの経過日数を計算し、売上日、当該週の月曜日付とともに表示せよ。結果は10件表示させれば良い（なお、sales_ymdは数値でデータを保持している点に注意）。"
   ]
  },
  {
   "cell_type": "code",
   "execution_count": 78,
   "metadata": {
    "dotnet_interactive": {
     "language": "csharp"
    }
   },
   "outputs": [
    {
     "data": {
      "text/html": [
       "<table><thead><tr><th><i>index</i></th><th>customer_id</th><th>sales_ymd</th><th>monday</th><th>elapsed_weekday</th></tr></thead><tbody><tr><td>0</td><td><div class=\"dni-plaintext\">CS006214000001</div></td><td><div class=\"dni-plaintext\">20181103</div></td><td><span>2018-10-29</span></td><td><div class=\"dni-plaintext\">5 days</div></td></tr><tr><td>1</td><td><div class=\"dni-plaintext\">CS008415000097</div></td><td><div class=\"dni-plaintext\">20181118</div></td><td><span>2018-11-12</span></td><td><div class=\"dni-plaintext\">1 days</div></td></tr><tr><td>2</td><td><div class=\"dni-plaintext\">CS028414000014</div></td><td><div class=\"dni-plaintext\">20170712</div></td><td><span>2017-07-10</span></td><td><div class=\"dni-plaintext\">2 days</div></td></tr><tr><td>3</td><td><div class=\"dni-plaintext\">ZZ000000000000</div></td><td><div class=\"dni-plaintext\">20190205</div></td><td><span>2019-02-04</span></td><td><div class=\"dni-plaintext\">1 days</div></td></tr><tr><td>4</td><td><div class=\"dni-plaintext\">CS025415000050</div></td><td><div class=\"dni-plaintext\">20180821</div></td><td><span>2018-08-20</span></td><td><div class=\"dni-plaintext\">1 days</div></td></tr><tr><td>5</td><td><div class=\"dni-plaintext\">CS003515000195</div></td><td><div class=\"dni-plaintext\">20190605</div></td><td><span>2019-06-03</span></td><td><div class=\"dni-plaintext\">2 days</div></td></tr><tr><td>6</td><td><div class=\"dni-plaintext\">CS024514000042</div></td><td><div class=\"dni-plaintext\">20181205</div></td><td><span>2018-12-03</span></td><td><div class=\"dni-plaintext\">2 days</div></td></tr><tr><td>7</td><td><div class=\"dni-plaintext\">CS040415000178</div></td><td><div class=\"dni-plaintext\">20190922</div></td><td><span>2019-09-16</span></td><td><div class=\"dni-plaintext\">1 days</div></td></tr><tr><td>8</td><td><div class=\"dni-plaintext\">ZZ000000000000</div></td><td><div class=\"dni-plaintext\">20170504</div></td><td><span>2017-05-01</span></td><td><div class=\"dni-plaintext\">3 days</div></td></tr><tr><td>9</td><td><div class=\"dni-plaintext\">CS027514000015</div></td><td><div class=\"dni-plaintext\">20191010</div></td><td><span>2019-10-07</span></td><td><div class=\"dni-plaintext\">3 days</div></td></tr></tbody></table>"
      ]
     },
     "execution_count": 78,
     "metadata": {},
     "output_type": "execute_result"
    }
   ],
   "source": [
    "// 該当週の月曜日 と その日からの経過日数を求める\n",
    "static (DateTime, int) DiffMonday(this DateTime tm) {\n",
    "    // 曜日によって 月曜日の日付と 月曜日からの経過日数を求める\n",
    "    var diff = tm.DayOfWeek switch {\n",
    "        // 月曜日(1)の場合0\n",
    "        DayOfWeek.Monday => (tm , 0),\n",
    "        // 日曜日(0)の場合は 6日前の日 、 1日 経過\n",
    "        DayOfWeek.Sunday => (tm.AddDays(-6) , 1),\n",
    "        // 火曜(2) の場合は 月曜は 1日前 (DayOfWeek - 1) , 経過日数は dayOfWeek - 1\n",
    "        // 水(3) ～土(6) も同様の計算となる\n",
    "        _ => ( tm.AddDays(- ((int) tm.DayOfWeek - 1)), (int) tm.DayOfWeek - 1)\n",
    "    };\n",
    "\n",
    "    return diff;\n",
    "}\n",
    "DateTime ?YYYYMMDDToDateTime(string yyyymmdd) {\n",
    "    if (yyyymmdd != null && yyyymmdd.Length == 8) {\n",
    "        return new DateTime(\n",
    "            int.Parse(yyyymmdd.Substring(0,4)),\n",
    "            int.Parse(yyyymmdd.Substring(4,2)),\n",
    "            int.Parse(yyyymmdd.Substring(6)));\n",
    "    } else {\n",
    "        return null;\n",
    "    }\n",
    "}\n",
    "\n",
    "df_receipt.Select(r => new {\n",
    "    r.customer_id,\n",
    "    r.sales_ymd,\n",
    "    diff_monday = YYYYMMDDToDateTime(r.sales_ymd)?.DiffMonday(),\n",
    "}).Select(r => new {\n",
    "    r.customer_id,\n",
    "    r.sales_ymd,\n",
    "    monday = r.diff_monday?.Item1,\n",
    "    elapsed_weekday = r.diff_monday?.Item2 + \" days\",\n",
    "}).Take(10)"
   ]
  },
  {
   "cell_type": "markdown",
   "metadata": {},
   "source": [
    "---\n",
    "> P-075: 顧客データフレーム（df_customer）からランダムに1%のデータを抽出し、先頭から10件データを抽出せよ。"
   ]
  },
  {
   "cell_type": "code",
   "execution_count": 79,
   "metadata": {
    "dotnet_interactive": {
     "language": "csharp"
    }
   },
   "outputs": [
    {
     "data": {
      "text/html": [
       "<table><thead><tr><th><i>index</i></th><th>customer_id</th><th>customer_name</th><th>gender_cd</th><th>gender</th><th>birth_day</th><th>age</th><th>postal_cd</th><th>address</th><th>application_store_cd</th><th>application_date</th><th>status_cd</th></tr></thead><tbody><tr><td>0</td><td><div class=\"dni-plaintext\">CS017315000132</div></td><td><div class=\"dni-plaintext\">宮内 千夏</div></td><td><div class=\"dni-plaintext\">1</div></td><td><div class=\"dni-plaintext\">女性</div></td><td><span>1986-11-28</span></td><td><div class=\"dni-plaintext\">32</div></td><td><div class=\"dni-plaintext\">166-0000</div></td><td><div class=\"dni-plaintext\">東京都杉並区**********</div></td><td><div class=\"dni-plaintext\">S13017</div></td><td><div class=\"dni-plaintext\">20150316</div></td><td><div class=\"dni-plaintext\">1-20080419-3</div></td></tr><tr><td>1</td><td><div class=\"dni-plaintext\">CS015612000104</div></td><td><div class=\"dni-plaintext\">大原 しぼり</div></td><td><div class=\"dni-plaintext\">1</div></td><td><div class=\"dni-plaintext\">女性</div></td><td><span>1956-08-23</span></td><td><div class=\"dni-plaintext\">62</div></td><td><div class=\"dni-plaintext\">136-0071</div></td><td><div class=\"dni-plaintext\">東京都江東区亀戸**********</div></td><td><div class=\"dni-plaintext\">S13015</div></td><td><div class=\"dni-plaintext\">20161116</div></td><td><div class=\"dni-plaintext\">0-00000000-0</div></td></tr><tr><td>2</td><td><div class=\"dni-plaintext\">CS026415000157</div></td><td><div class=\"dni-plaintext\">多岐川 早紀</div></td><td><div class=\"dni-plaintext\">1</div></td><td><div class=\"dni-plaintext\">女性</div></td><td><span>1976-08-22</span></td><td><div class=\"dni-plaintext\">42</div></td><td><div class=\"dni-plaintext\">253-0032</div></td><td><div class=\"dni-plaintext\">神奈川県茅ヶ崎市常盤町**********</div></td><td><div class=\"dni-plaintext\">S14026</div></td><td><div class=\"dni-plaintext\">20150210</div></td><td><div class=\"dni-plaintext\">B-20090512-A</div></td></tr><tr><td>3</td><td><div class=\"dni-plaintext\">CS001613000036</div></td><td><div class=\"dni-plaintext\">小平 まなみ</div></td><td><div class=\"dni-plaintext\">1</div></td><td><div class=\"dni-plaintext\">女性</div></td><td><span>1957-05-25</span></td><td><div class=\"dni-plaintext\">61</div></td><td><div class=\"dni-plaintext\">144-0056</div></td><td><div class=\"dni-plaintext\">東京都大田区西六郷**********</div></td><td><div class=\"dni-plaintext\">S13001</div></td><td><div class=\"dni-plaintext\">20150906</div></td><td><div class=\"dni-plaintext\">0-00000000-0</div></td></tr><tr><td>4</td><td><div class=\"dni-plaintext\">CS031215000008</div></td><td><div class=\"dni-plaintext\">浜口 恵梨香</div></td><td><div class=\"dni-plaintext\">1</div></td><td><div class=\"dni-plaintext\">女性</div></td><td><span>1997-03-08</span></td><td><div class=\"dni-plaintext\">22</div></td><td><div class=\"dni-plaintext\">151-0066</div></td><td><div class=\"dni-plaintext\">東京都渋谷区西原**********</div></td><td><div class=\"dni-plaintext\">S13031</div></td><td><div class=\"dni-plaintext\">20150202</div></td><td><div class=\"dni-plaintext\">C-20091009-C</div></td></tr><tr><td>5</td><td><div class=\"dni-plaintext\">CS001313000390</div></td><td><div class=\"dni-plaintext\">吉原 さやか</div></td><td><div class=\"dni-plaintext\">1</div></td><td><div class=\"dni-plaintext\">女性</div></td><td><span>1986-12-07</span></td><td><div class=\"dni-plaintext\">32</div></td><td><div class=\"dni-plaintext\">144-0044</div></td><td><div class=\"dni-plaintext\">東京都大田区本羽田**********</div></td><td><div class=\"dni-plaintext\">S13001</div></td><td><div class=\"dni-plaintext\">20170815</div></td><td><div class=\"dni-plaintext\">0-00000000-0</div></td></tr><tr><td>6</td><td><div class=\"dni-plaintext\">CS016615000115</div></td><td><div class=\"dni-plaintext\">菊地 瞳</div></td><td><div class=\"dni-plaintext\">1</div></td><td><div class=\"dni-plaintext\">女性</div></td><td><span>1954-12-13</span></td><td><div class=\"dni-plaintext\">64</div></td><td><div class=\"dni-plaintext\">184-0012</div></td><td><div class=\"dni-plaintext\">東京都小金井市中町**********</div></td><td><div class=\"dni-plaintext\">S13016</div></td><td><div class=\"dni-plaintext\">20150227</div></td><td><div class=\"dni-plaintext\">6-20081216-3</div></td></tr><tr><td>7</td><td><div class=\"dni-plaintext\">CS001312000361</div></td><td><div class=\"dni-plaintext\">中井 礼子</div></td><td><div class=\"dni-plaintext\">1</div></td><td><div class=\"dni-plaintext\">女性</div></td><td><span>1982-02-02</span></td><td><div class=\"dni-plaintext\">37</div></td><td><div class=\"dni-plaintext\">212-0016</div></td><td><div class=\"dni-plaintext\">神奈川県川崎市幸区南幸町**********</div></td><td><div class=\"dni-plaintext\">S13001</div></td><td><div class=\"dni-plaintext\">20170502</div></td><td><div class=\"dni-plaintext\">0-00000000-0</div></td></tr><tr><td>8</td><td><div class=\"dni-plaintext\">CS025304000004</div></td><td><div class=\"dni-plaintext\">島 有起哉</div></td><td><div class=\"dni-plaintext\">0</div></td><td><div class=\"dni-plaintext\">男性</div></td><td><span>1984-11-12</span></td><td><div class=\"dni-plaintext\">34</div></td><td><div class=\"dni-plaintext\">242-0024</div></td><td><div class=\"dni-plaintext\">神奈川県大和市福田**********</div></td><td><div class=\"dni-plaintext\">S14025</div></td><td><div class=\"dni-plaintext\">20160104</div></td><td><div class=\"dni-plaintext\">D-20100416-E</div></td></tr><tr><td>9</td><td><div class=\"dni-plaintext\">CS001501000012</div></td><td><div class=\"dni-plaintext\">久保田 ひとり</div></td><td><div class=\"dni-plaintext\">0</div></td><td><div class=\"dni-plaintext\">男性</div></td><td><span>1962-04-29</span></td><td><div class=\"dni-plaintext\">56</div></td><td><div class=\"dni-plaintext\">212-0004</div></td><td><div class=\"dni-plaintext\">神奈川県川崎市幸区小向西町**********</div></td><td><div class=\"dni-plaintext\">S13001</div></td><td><div class=\"dni-plaintext\">20150917</div></td><td><div class=\"dni-plaintext\">0-00000000-0</div></td></tr></tbody></table>"
      ]
     },
     "execution_count": 79,
     "metadata": {},
     "output_type": "execute_result"
    }
   ],
   "source": [
    "static IEnumerable<T> GetRandumItems<T>(this IEnumerable<T> items, double getRate) {\n",
    "    // 全要素の中から ランダムにデータをピックアップして \n",
    "    // 指定のデータ件数を取得する\n",
    "    int count = items.Count();\n",
    "    // 最大データ取得件数：合計 * 取得データ率 : 1.0 ですべて 0.1 で 10％ \n",
    "    int get_count = (int)(getRate * count);\n",
    "    Random r = new Random();\n",
    "    for(int i=0;i<get_count;i++) {\n",
    "        int rand_i = r.Next(count);\n",
    "        T item = items.ElementAt(rand_i);\n",
    "        yield return item;\n",
    "    }\n",
    "}\n",
    "\n",
    "df_customer.GetRandumItems(0.01).Take(10)"
   ]
  },
  {
   "cell_type": "markdown",
   "metadata": {},
   "source": [
    "---\n",
    "> P-076: 顧客データフレーム（df_customer）から性別（gender_cd）の割合に基づきランダムに10%のデータを層化抽出データし、性別ごとに件数を集計せよ。"
   ]
  },
  {
   "cell_type": "code",
   "execution_count": 80,
   "metadata": {
    "dotnet_interactive": {
     "language": "csharp"
    }
   },
   "outputs": [
    {
     "data": {
      "text/html": [
       "<table><thead><tr><th><i>key</i></th><th>gender_cd</th><th>gender_count</th><th>gender_rate</th><th>get_count</th></tr></thead><tbody><tr><td><div class=\"dni-plaintext\">1</div></td><td><div class=\"dni-plaintext\">1</div></td><td><div class=\"dni-plaintext\">17918</div></td><td><div class=\"dni-plaintext\">0.8155295616949615</div></td><td><div class=\"dni-plaintext\">1791</div></td></tr><tr><td><div class=\"dni-plaintext\">9</div></td><td><div class=\"dni-plaintext\">9</div></td><td><div class=\"dni-plaintext\">1072</div></td><td><div class=\"dni-plaintext\">0.04879158891265759</div></td><td><div class=\"dni-plaintext\">107</div></td></tr><tr><td><div class=\"dni-plaintext\">0</div></td><td><div class=\"dni-plaintext\">0</div></td><td><div class=\"dni-plaintext\">2981</div></td><td><div class=\"dni-plaintext\">0.13567884939238087</div></td><td><div class=\"dni-plaintext\">298</div></td></tr></tbody></table>"
      ]
     },
     "metadata": {},
     "output_type": "display_data"
    },
    {
     "data": {
      "text/html": [
       "<table><thead><tr><th>count_0</th><th>count_1</th><th>count_9</th></tr></thead><tbody><tr><td><div class=\"dni-plaintext\">298</div></td><td><div class=\"dni-plaintext\">1791</div></td><td><div class=\"dni-plaintext\">107</div></td></tr></tbody></table>"
      ]
     },
     "metadata": {},
     "output_type": "display_data"
    },
    {
     "data": {
      "text/html": [
       "<div class=\"dni-plaintext\">2093</div>"
      ]
     },
     "metadata": {},
     "output_type": "display_data"
    },
    {
     "data": {
      "text/html": [
       "<div class=\"dni-plaintext\">2196</div>"
      ]
     },
     "metadata": {},
     "output_type": "display_data"
    },
    {
     "data": {
      "text/html": [
       "<html><b>ランダムに抽出しているため 同じデータを2回取得する場合がある</b></html>"
      ]
     },
     "metadata": {},
     "output_type": "display_data"
    },
    {
     "data": {
      "text/html": [
       "<table><thead><tr><th>gender_0_データ件数</th><th>gender_0_重複なし_データ件数</th></tr></thead><tbody><tr><td><div class=\"dni-plaintext\">298</div></td><td><div class=\"dni-plaintext\">283</div></td></tr></tbody></table>"
      ]
     },
     "metadata": {},
     "output_type": "display_data"
    }
   ],
   "source": [
    "// 取得件数を指定して ランダムにデータ抽出\n",
    "static IEnumerable<T> GetRandumItemsByNum<T>(this IList<T> items, int getCount) {\n",
    "    // 全要素の中から ランダムにデータをピックアップして \n",
    "    // 指定のデータ件数を取得する\n",
    "    int count = items.Count();\n",
    "    Random r = new Random();\n",
    "    // 指定の件数だけ取得する\n",
    "    for(int i=0;i<getCount;i++) {\n",
    "        int rand_i = r.Next(count);\n",
    "        T item = items[rand_i];\n",
    "        yield return item;\n",
    "    }\n",
    "}\n",
    "\n",
    "// 性別 毎の 数と 率を表示\n",
    "int dataNum = df_customer.Count();\n",
    "var df_gender_rate = df_customer.GroupBy(r => r.gender_cd).Select(r => new {\n",
    "    gender_cd = r.Key,\n",
    "    gender_count = r.Count(),\n",
    "    gender_rate = (double) r.Count() / dataNum,\n",
    "    get_count = (int) (r.Count() * 0.1 )\n",
    "}).ToDictionary(r => r.gender_cd);\n",
    "display(df_gender_rate);\n",
    "// 指定の比率で ランダムにデータ抽出\n",
    "var df_customer_sample_gender_0 = df_customer.Where(r => r.gender_cd == \"0\").ToList().GetRandumItemsByNum(df_gender_rate[\"0\"].get_count).ToList();\n",
    "var df_customer_sample_gender_1 = df_customer.Where(r => r.gender_cd == \"1\").ToList().GetRandumItemsByNum(df_gender_rate[\"1\"].get_count).ToList();\n",
    "var df_customer_sample_gender_9 = df_customer.Where(r => r.gender_cd == \"9\").ToList().GetRandumItemsByNum(df_gender_rate[\"9\"].get_count).ToList();\n",
    "// ※ ToList しないと リストの内容を確認するときにランダムの値を取得しようとして処理速度\n",
    "\n",
    "display(new {\n",
    "    count_0 = df_customer_sample_gender_0.Count(),\n",
    "    count_1 = df_customer_sample_gender_1.Count(),\n",
    "    count_9 = df_customer_sample_gender_9.Count(),\n",
    "});\n",
    "\n",
    "// 重複なくデータ連結するのは Union を利用\n",
    "// Union の場合 重複していると判断されたデータが削除される\n",
    "var df_customer_sample_gender = df_customer_sample_gender_0\n",
    "    .Concat(df_customer_sample_gender_1)\n",
    "    .Concat(df_customer_sample_gender_9);\n",
    "\n",
    "// Union は重複データを削除してしまう。\n",
    "var df_customer_sample_gender2 = df_customer_sample_gender_0\n",
    "    .Union(df_customer_sample_gender_1)\n",
    "    .Union(df_customer_sample_gender_9);\n",
    "\n",
    "display(df_customer_sample_gender2.Count());\n",
    "display(df_customer_sample_gender.Count());\n",
    "\n",
    "display(html(b(\"ランダムに抽出しているため 同じデータを2回取得する場合がある\")));\n",
    "display(new {\n",
    "    gender_0_データ件数 = df_customer_sample_gender_0.Count(),\n",
    "    gender_0_重複なし_データ件数 = df_customer_sample_gender_0.Distinct().Count(),\n",
    "})"
   ]
  },
  {
   "cell_type": "code",
   "execution_count": 81,
   "metadata": {
    "dotnet_interactive": {
     "language": "csharp"
    }
   },
   "outputs": [
    {
     "data": {
      "text/html": [
       "<div id=\"0f57aadd-f8f0-47d7-a86f-a20f071c0c4d\" style=\"width: 900px; height: 500px;\"></div>\r\n",
       "<script type=\"text/javascript\">\n",
       "\r\n",
       "var renderPlotly = function() {\r\n",
       "    var xplotRequire = require.config({context:'xplot-3.0.1',paths:{plotly:'https://cdn.plot.ly/plotly-1.49.2.min'}}) || require;\r\n",
       "    xplotRequire(['plotly'], function(Plotly) {\n",
       "\n",
       "            var data = [{\"type\":\"box\",\"y\":[52,43,77,59,52,43,48,53,48,43,34,27,69,42,30,64,43,62,82,36,62,43,34,55,47,32,48,48,47,43,52,39,35,54,71,57,47,53,37,53,57,53,47,47,56,44,49,46,68,60,24,78,78,49,71,51,46,57,54,36,47,56,76,70,48,76,77,63,58,52,43,77,75,53,46,34,49,59,43,45,47,41,53,71,47,45,61,53,67,80,52,47,59,54,53,44,80,56,74,78,58,41,76,58,75,66,24,59,69,66,47,63,61,64,70,36,41,64,77,42,73,41,46,48,36,74,31,57,43,64,52,46,42,49,33,38,65,51,52,61,52,35,47,76,57,64,77,53,77,63,48,72,53,44,53,46,47,67,64,69,46,75,39,66,45,41,45,68,51,34,18,53,65,80,64,37,46,33,52,52,58,65,59,49,47,54,46,42,57,54,54,42,47,69,42,53,67,54,64,69,54,44,39,67,47,68,32,75,36,70,44,39,75,83,62,45,45,64,42,41,44,53,78,78,47,41,57,28,68,38,88,78,52,69,53,37,44,46,55,49,49,56,62,73,45,42,42,89,33,43,76,50,48,59,43,46,51,51,43,77,34,47,53,67,63,44,23,64,34,78,66,52,49,55,53,32,76,42,37,41,24,74,31,76,59,36,72,62,44,69,73,52,49,46,38,59,58,47],\"boxpoints\":\"all\",\"jitter\":0.3,\"pointpos\":-1.8}];\n",
       "            var layout = \"\";\n",
       "            Plotly.newPlot('0f57aadd-f8f0-47d7-a86f-a20f071c0c4d', data, layout);\n",
       "        \n",
       "});\r\n",
       "};\n",
       "// ensure `require` is available globally\r\n",
       "if ((typeof(require) !==  typeof(Function)) || (typeof(require.config) !== typeof(Function))) {\r\n",
       "    let require_script = document.createElement('script');\r\n",
       "    require_script.setAttribute('src', 'https://cdnjs.cloudflare.com/ajax/libs/require.js/2.3.6/require.min.js');\r\n",
       "    require_script.setAttribute('type', 'text/javascript');\r\n",
       "    \r\n",
       "    \r\n",
       "    require_script.onload = function() {\r\n",
       "        renderPlotly();\r\n",
       "    };\r\n",
       "\r\n",
       "    document.getElementsByTagName('head')[0].appendChild(require_script);\r\n",
       "}\r\n",
       "else {\r\n",
       "    renderPlotly();\r\n",
       "}\r\n",
       "\n",
       "</script>\n"
      ]
     },
     "metadata": {},
     "output_type": "display_data"
    },
    {
     "data": {
      "text/html": [
       "<div id=\"76143ef2-de98-45bc-8144-d721a7cc480d\" style=\"width: 900px; height: 500px;\"></div>\r\n",
       "<script type=\"text/javascript\">\n",
       "\r\n",
       "var renderPlotly = function() {\r\n",
       "    var xplotRequire = require.config({context:'xplot-3.0.1',paths:{plotly:'https://cdn.plot.ly/plotly-1.49.2.min'}}) || require;\r\n",
       "    xplotRequire(['plotly'], function(Plotly) {\n",
       "\n",
       "            var data = [{\"type\":\"box\",\"y\":[71,58,66,64,64,67,52,55,64,48,71,67,46,42,67,31,52,46,55,46,27,32,42,31,58,28,41,43,36,88,43,23,23,47,46,67,32,49,33,49,62,73,67,42,54,54,63,48,34,50,53,73,39,55,79,33,39,46,51,45,28,56,18,58,74,39,49,31,51,36,37,57,16,49,79,46,39,78,77,57,39,76,86,79,59,58,48,67,36,25,54,31,32,42,55,47,41,61,52,58,47,48,45,57,32,56,51,43,56,41,43,52,33,25,37,68,35,41,45,32,61,39,39,59,54,59,36,44,51,48,54,73,70,55,54,45,29,75,79,43,52,48,43,75,31,47,23,87,44,47,51,49,63,39,35,25,25,43,62,85,42,52,47,48,64,42,39,49,58,46,87,59,64,42,39,37,56,62,37,59,52,42,49,48,35,21,53,37,41,51,75,23,38,35,48,48,32,67,37,23,51,47,70,42,49,30,58,34,41,45,24,89,64,45,68,41,35,33,50,42,68,23,45,32,59,59,49,61,71,67,36,77,53,59,58,72,71,76,45,74,63,55,31,58,56,69,68,70,62,48,43,53,68,35,38,44,60,38,51,58,82,42,56,59,64,58,61,36,57,44,58,19,33,72,68,59,31,49,48,65,41,44,33,51,77,36,56,68,88,63,69,49,48,72,50,31,48,44,42,59,76,76,37,42,66,76,32,51,57,57,46,35,69,44,72,37,47,49,76,44,43,52,59,66,71,37,41,64,68,58,79,64,72,44,41,42,37,76,54,42,49,52,74,23,37,37,58,44,39,60,49,76,53,32,34,48,86,77,39,70,42,54,47,48,45,31,49,67,88,58,59,76,64,44,31,55,48,27,45,33,52,54,74,44,72,66,43,46,53,46,35,65,57,41,22,48,54,37,36,64,45,48,67,44,67,46,61,62,59,29,37,57,47,41,67,81,46,52,44,43,32,37,25,62,59,80,43,68,64,39,53,57,23,29,54,67,48,36,45,52,68,42,44,53,42,44,49,68,43,44,46,47,39,21,34,48,28,57,45,56,31,28,59,24,37,49,57,78,60,33,73,53,44,62,41,36,38,73,87,35,44,31,67,55,38,58,67,21,42,54,45,45,45,48,37,61,43,19,64,45,52,52,37,56,56,36,58,51,65,23,71,41,77,62,88,39,28,47,53,67,47,47,66,53,56,73,29,53,23,73,70,45,35,19,78,46,48,32,45,74,46,49,54,45,56,43,66,49,42,48,50,67,71,44,55,31,46,56,59,69,46,44,36,65,47,69,55,80,53,48,50,75,46,77,75,57,47,72,34,44,33,31,34,47,48,57,52,46,51,35,56,42,52,72,50,55,73,55,65,29,55,61,39,34,45,44,57,76,52,66,53,57,57,49,89,51,41,47,39,43,48,27,39,41,74,35,45,58,53,49,39,32,58,80,63,59,37,52,58,32,37,76,33,55,41,41,81,52,54,47,48,65,45,68,57,38,26,62,32,46,56,65,74,33,48,33,67,65,61,53,24,32,62,81,41,68,44,69,78,67,36,51,53,47,67,41,45,72,27,83,37,54,65,57,35,32,56,57,51,43,73,84,54,45,72,39,51,61,34,31,14,25,63,79,43,68,56,35,69,58,74,36,45,74,34,56,27,34,42,59,42,59,51,46,45,41,52,21,52,56,60,64,24,23,46,48,36,76,72,45,41,53,42,42,32,77,54,71,42,75,11,50,24,64,46,42,53,28,47,46,54,66,53,36,43,60,55,53,64,52,38,24,77,59,57,63,29,57,52,59,68,43,58,73,72,42,79,48,66,75,46,75,59,51,59,42,63,31,39,42,52,67,51,41,59,69,46,32,68,45,73,78,51,39,68,47,79,39,41,25,43,49,77,35,49,44,53,52,87,37,57,32,52,54,64,48,55,45,48,56,48,31,55,54,47,56,65,45,53,37,59,43,38,29,31,82,52,64,55,56,42,32,47,54,35,32,40,77,41,57,42,64,27,45,53,47,59,34,52,31,52,15,50,39,46,56,68,61,64,88,54,36,56,57,44,61,33,35,35,47,57,66,54,37,58,46,67,42,39,41,47,65,45,49,35,45,79,44,72,46,61,35,65,73,63,60,46,40,61,54,33,51,85,68,49,36,84,39,48,45,57,47,58,52,59,74,31,42,42,64,47,52,64,34,37,51,40,66,48,62,59,78,71,49,56,54,35,39,54,85,57,30,71,57,52,43,59,52,47,24,38,42,46,53,38,65,69,37,35,31,63,49,36,46,34,41,43,54,43,57,38,45,44,67,25,77,48,44,39,55,39,62,26,64,38,68,38,45,38,60,41,53,45,44,38,63,43,42,54,34,43,74,73,31,55,55,58,51,34,35,40,56,57,74,53,33,48,62,62,43,58,56,39,36,13,54,66,51,38,36,23,25,45,43,33,60,66,50,74,52,43,45,54,31,32,42,52,48,58,42,22,46,72,32,49,64,42,53,43,35,68,65,51,66,62,68,45,41,59,53,59,23,33,57,58,36,58,48,41,22,46,34,45,55,36,36,84,46,59,24,54,27,35,57,52,68,47,48,45,63,37,53,58,68,43,73,44,52,46,38,55,46,31,59,78,48,21,42,59,54,42,39,37,45,53,54,79,61,57,46,48,42,42,33,50,39,47,66,73,46,68,62,43,47,76,83,71,26,89,69,44,75,45,53,36,34,63,39,47,32,58,49,85,25,45,81,49,49,63,67,67,34,43,45,40,51,69,41,75,79,83,37,45,51,79,55,56,45,74,54,43,59,65,52,31,77,34,39,48,54,69,51,42,33,67,57,66,45,33,71,60,63,47,46,54,59,57,50,43,41,38,45,34,53,43,61,47,57,86,34,46,56,52,33,44,36,31,87,57,33,48,32,71,21,57,69,51,65,32,43,55,49,38,49,56,45,33,32,63,43,61,59,34,64,46,44,47,64,50,36,48,57,75,75,84,36,27,45,22,44,53,78,54,66,54,25,41,71,35,69,45,52,68,62,42,62,51,57,68,36,78,46,29,25,53,35,69,52,43,39,67,42,61,52,54,50,41,82,51,46,46,38,21,27,63,67,37,47,26,12,22,78,57,31,57,52,38,68,23,55,35,33,57,59,52,52,43,33,53,27,21,45,67,62,51,57,65,57,54,57,78,66,56,58,52,46,42,53,67,68,57,34,62,55,64,59,40,52,56,33,31,57,65,57,58,44,33,58,86,68,32,72,78,64,48,63,61,58,49,47,72,55,36,47,34,26,57,52,56,88,44,33,43,38,54,82,47,55,73,43,42,64,73,31,53,51,46,52,58,39,55,45,44,58,49,66,42,49,67,54,34,76,64,41,69,41,58,45,32,55,41,43,36,32,79,49,49,71,62,66,79,55,74,55,41,34,42,54,64,41,78,64,49,43,39,25,89,51,64,56,51,21,54,57,65,52,33,12,35,57,31,19,58,17,61,66,35,45,42,64,42,59,27,43,44,43,41,54,41,78,79,54,42,43,34,52,65,43,48,41,26,69,51,64,42,45,35,36,63,67,84,53,22,60,77,63,49,49,62,49,43,34,48,69,25,49,50,55,34,32,68,29,33,58,62,29,45,78,49,52,83,79,79,55,51,51,55,52,32,48,32,25,54,49,79,48,67,48,22,39,55,36,41,33,53,55,57,54,57,76,27,42,55,43,57,60,75,45,35,51,29,65,38,33,53,77,32,59,34,32,48,42,41,63,40,55,63,63,75,67,50,75,51,48,65,37,24,59,62,85,44,48,73,62,50,39,59,41,55,50,78,59,49,47,53,54,51,44,67,58,60,51,47,57,44,51,68,45,61,59,39,26,24,64,45,63,46,72,62,77,47,42,49,64,45,29,25,65,34,58,48,76,45,78,57,37,79,39,59,75,62,43,46,58,53,76,34,65,57,41,79,63,53,67,43,52,31,49,48,37,41,47,62,45,27,67,32,46,78,65,43,58,47,63,32,45,66,70,68,65,78,38,22,68,33,32,44,63,49,45,59,72,65,42,47,32,63,38,65,47,57],\"boxpoints\":\"all\",\"jitter\":0.3,\"pointpos\":-1.8}];\n",
       "            var layout = \"\";\n",
       "            Plotly.newPlot('76143ef2-de98-45bc-8144-d721a7cc480d', data, layout);\n",
       "        \n",
       "});\r\n",
       "};\n",
       "// ensure `require` is available globally\r\n",
       "if ((typeof(require) !==  typeof(Function)) || (typeof(require.config) !== typeof(Function))) {\r\n",
       "    let require_script = document.createElement('script');\r\n",
       "    require_script.setAttribute('src', 'https://cdnjs.cloudflare.com/ajax/libs/require.js/2.3.6/require.min.js');\r\n",
       "    require_script.setAttribute('type', 'text/javascript');\r\n",
       "    \r\n",
       "    \r\n",
       "    require_script.onload = function() {\r\n",
       "        renderPlotly();\r\n",
       "    };\r\n",
       "\r\n",
       "    document.getElementsByTagName('head')[0].appendChild(require_script);\r\n",
       "}\r\n",
       "else {\r\n",
       "    renderPlotly();\r\n",
       "}\r\n",
       "\n",
       "</script>\n"
      ]
     },
     "metadata": {},
     "output_type": "display_data"
    }
   ],
   "source": [
    "using XPlot.Plotly;\n",
    "using System.Linq;\n",
    "\n",
    "display(Chart.Plot(\n",
    "    new Graph.Box()\n",
    "    {\n",
    "        y = df_customer_sample_gender_0.Select(r => r.age).ToList(),\n",
    "        boxpoints = \"all\",\n",
    "        jitter = 0.3,\n",
    "        pointpos = -1.8\n",
    "    }\n",
    "));\n",
    "display(Chart.Plot(\n",
    "    new Graph.Box()\n",
    "    {\n",
    "        y = df_customer_sample_gender_1.Select(r => r.age).ToList(),\n",
    "        boxpoints = \"all\",\n",
    "        jitter = 0.3,\n",
    "        pointpos = -1.8\n",
    "    }\n",
    "));"
   ]
  },
  {
   "cell_type": "markdown",
   "metadata": {},
   "source": [
    "---\n",
    "> P-077: レシート明細データフレーム（df_receipt）の売上金額（amount）を顧客単位に合計し、合計した売上金額の外れ値を抽出せよ。ただし、顧客IDが\"Z\"から始まるのものは非会員を表すため、除外して計算すること。なお、ここでは外れ値を平均から3σ以上離れたものとする。結果は10件表示させれば良い。"
   ]
  },
  {
   "cell_type": "code",
   "execution_count": 82,
   "metadata": {
    "dotnet_interactive": {
     "language": "csharp"
    }
   },
   "outputs": [
    {
     "data": {
      "text/html": [
       "<table><thead><tr><th>average</th><th>stdDev</th><th>min</th><th>max</th><th>min_3</th><th>max_3</th></tr></thead><tbody><tr><td><div class=\"dni-plaintext\">1478</div></td><td><div class=\"dni-plaintext\">2720.674038361289</div></td><td><div class=\"dni-plaintext\">-1242.6740383612891</div></td><td><div class=\"dni-plaintext\">4198.674038361289</div></td><td><div class=\"dni-plaintext\">-6684.022115083868</div></td><td><div class=\"dni-plaintext\">9640.022115083868</div></td></tr></tbody></table>"
      ]
     },
     "metadata": {},
     "output_type": "display_data"
    },
    {
     "data": {
      "text/html": [
       "<div id=\"7e928921-dee6-4c7e-bd16-a7e899ebe990\" style=\"width: 900px; height: 500px;\"></div>\r\n",
       "<script type=\"text/javascript\">\n",
       "\r\n",
       "var renderPlotly = function() {\r\n",
       "    var xplotRequire = require.config({context:'xplot-3.0.1',paths:{plotly:'https://cdn.plot.ly/plotly-1.49.2.min'}}) || require;\r\n",
       "    xplotRequire(['plotly'], function(Plotly) {\n",
       "\n",
       "            var data = [{\"type\":\"box\",\"y\":[7364.0,1895.0,6222.0,5736.0,5412.0,533.0,6149.0,2788.0,4902.0,9693.0,11438.0,1906.0,6866.0,5244.0,4715.0,9466.0,7492.0,5359.0,5657.0,240.0,5659.0,3351.0,7167.0,8739.0,2270.0,5058.0,2444.0,3928.0,3650.0,8942.0,14076.0,4703.0,1209.0,5377.0,216.0,3968.0,919.0,2885.0,4106.0,11907.0,4017.0,1591.0,3133.0,654.0,638.0,7698.0,5293.0,5597.0,640.0,2598.0,8856.0,6597.0,4477.0,2518.0,8177.0,4855.0,7781.0,674.0,6056.0,4960.0,3737.0,9694.0,7448.0,2378.0,451.0,2293.0,6937.0,8065.0,4994.0,1097.0,805.0,7251.0,8140.0,6057.0,4781.0,2348.0,4861.0,1387.0,5515.0,7016.0,1287.0,7068.0,11972.0,465.0,4405.0,809.0,3978.0,5831.0,14033.0,3755.0,3920.0,2014.0,7118.0,1473.0,2523.0,5520.0,4535.0,501.0,9349.0,5589.0,4800.0,9614.0,1864.0,5088.0,8153.0,4811.0,2082.0,7438.0,10357.0,2944.0,9622.0,784.0,1361.0,12036.0,8271.0,5127.0,7315.0,8891.0,10688.0,9594.0,2848.0,1371.0,4301.0,1358.0,7902.0,6085.0,5057.0,3617.0,5574.0,3379.0,8854.0,2771.0,6553.0,8744.0,2332.0,3962.0,5796.0,1859.0,2398.0,3083.0,1821.0,4171.0,2910.0,13698.0,2079.0,549.0,2798.0,3265.0,365.0,8022.0,8234.0,4502.0,1986.0,12276.0,5040.0,916.0,2643.0,1802.0,1384.0,3306.0,7579.0,8323.0,5682.0,2540.0,3595.0,1801.0,6553.0,2254.0,7655.0,8044.0,4570.0,373.0,1402.0,2467.0,2090.0,1180.0,8775.0,14363.0,443.0,7873.0,10179.0,9731.0,8550.0,5065.0,3747.0,862.0,3140.0,4246.0,2726.0,5292.0,6886.0,4769.0,3301.0,964.0,922.0,9974.0,5111.0,7453.0,5333.0,4380.0,14944.0,548.0,12313.0,17580.0,648.0,2149.0,7214.0,3535.0,14055.0,4650.0,3372.0,7001.0,9969.0,2835.0,7993.0,2846.0,4679.0,1004.0,1327.0,2949.0,1024.0,5222.0,1967.0,2240.0,1729.0,1232.0,5196.0,4818.0,3966.0,1867.0,9546.0,10538.0,3271.0,1390.0,3923.0,5495.0,1574.0,1712.0,3781.0,8268.0,2521.0,6189.0,1472.0,1535.0,2222.0,10401.0,493.0,8943.0,1772.0,2247.0,2014.0,2802.0,7474.0,1102.0,4171.0,4751.0,4051.0,1426.0,2668.0,533.0,5110.0,6059.0,3312.0,1608.0,9307.0,9829.0,861.0,6398.0,7749.0,15468.0,258.0,3840.0,3978.0,9317.0,3163.0,5715.0,396.0,2413.0,6826.0,3588.0,3415.0,5850.0,2382.0,1603.0,784.0,1382.0,3557.0,230.0,9251.0,1164.0,1724.0,10877.0,1114.0,2941.0,8569.0,3582.0,7145.0,1099.0,7995.0,9129.0,3082.0,977.0,9827.0,153.0,5274.0,288.0,5190.0,12903.0,2848.0,5393.0,3944.0,8183.0,4494.0,8589.0,6273.0,2919.0,3037.0,696.0,7441.0,1436.0,8648.0,8033.0,2236.0,7685.0,3821.0,7134.0,2317.0,2589.0,688.0,5616.0,6381.0,8225.0,2711.0,889.0,496.0,862.0,3469.0,308.0,4439.0,1198.0,12270.0,2784.0,6183.0,3517.0,178.0,1556.0,3986.0,8338.0,1119.0,23086.0,2427.0,4177.0,7355.0,9229.0,8064.0,2375.0,3832.0,7064.0,4767.0,4552.0,2045.0,4129.0,5259.0,2123.0,7477.0,735.0,2470.0,298.0,2280.0,744.0,1158.0,10298.0,2943.0,1269.0,8341.0,2149.0,12315.0,4763.0,2584.0,539.0,4372.0,878.0,4350.0,2283.0,1502.0,3455.0,418.0,2086.0,3226.0,5949.0,2309.0,5366.0,3108.0,6342.0,5743.0,8385.0,1081.0,10356.0,576.0,2660.0,1212.0,8248.0,656.0,574.0,1679.0,4399.0,3162.0,5301.0,9887.0,4098.0,2659.0,16083.0,1309.0,4205.0,949.0,7032.0,906.0,2648.0,6414.0,7321.0,2995.0,3881.0,551.0,1827.0,10909.0,1102.0,1901.0,5544.0,2172.0,2262.0,781.0,426.0,1170.0,6211.0,2726.0,5936.0,8264.0,1536.0,3823.0,8412.0,694.0,528.0,1973.0,4285.0,7722.0,1065.0,6011.0,4631.0,3538.0,6796.0,553.0,3064.0,2428.0,1988.0,11718.0,4818.0,3420.0,286.0,480.0,5916.0,3122.0,8073.0,1493.0,2730.0,9200.0,2201.0,11829.0,5811.0,6119.0,6180.0,1791.0,1792.0,11188.0,4210.0,5169.0,1304.0,3122.0,8494.0,5352.0,3366.0,3986.0,3661.0,349.0,8993.0,9301.0,6103.0,4553.0,9386.0,8552.0,1601.0,3803.0,2874.0,2956.0,5506.0,763.0,523.0,1442.0,7799.0,486.0,6676.0,5942.0,12459.0,3269.0,2929.0,3705.0,3896.0,10616.0,6370.0,2340.0,5054.0,473.0,11138.0,1745.0,5294.0,685.0,5818.0,10259.0,6213.0,3725.0,5180.0,3692.0,7432.0,2188.0,406.0,4391.0,11778.0,4256.0,4412.0,4588.0,3149.0,1816.0,4227.0,1078.0,471.0,6890.0,6355.0,7598.0,1650.0,5764.0,2916.0,1364.0,14867.0,2746.0,7481.0,6264.0,11705.0,10003.0,3026.0,1400.0,10694.0,7593.0,7563.0,1684.0,318.0,7023.0,2369.0,4459.0,3156.0,3986.0,239.0,1069.0,4167.0,8584.0,4761.0,2875.0,4839.0,3803.0,3408.0,4179.0,4237.0,6483.0,3820.0,5197.0,2030.0,10339.0,4765.0,6247.0,118.0,3799.0,9376.0,9666.0,8029.0,6865.0,5826.0,884.0,2647.0,7838.0,7738.0,9270.0,8432.0,4843.0,260.0,4807.0,955.0,3750.0,4331.0,2567.0,13521.0,6861.0,6247.0,2193.0,5645.0,7503.0,9738.0,298.0,376.0,547.0,16563.0,886.0,11041.0,10960.0,6707.0,2561.0,9074.0,876.0,9240.0,4776.0,926.0,2870.0,7235.0,1969.0,310.0,7612.0,8103.0,8565.0,1155.0,3106.0,5290.0,1958.0,8082.0,488.0,7486.0,2221.0,6578.0,482.0,5063.0,4162.0,19202.0,3627.0,413.0,7943.0,7215.0,2062.0,2247.0,4113.0,2738.0,1259.0,4341.0,4323.0,1338.0,1201.0,11587.0,7468.0,3545.0,4290.0,2042.0,4323.0,6423.0,2653.0,3462.0,5597.0,1667.0,12784.0,4030.0,7100.0,14515.0,8033.0,9741.0,5270.0,1477.0,3768.0,1835.0,2035.0,1481.0,448.0,6742.0,3078.0,1218.0,1778.0,1242.0,2347.0,1816.0,2721.0,3843.0,315.0,4049.0,1491.0,16094.0,2222.0,7559.0,631.0,3080.0,8855.0,486.0,2971.0,12696.0,4773.0,5859.0,5991.0,3590.0,3364.0,7126.0,7860.0,7348.0,4372.0,1773.0,11959.0,3025.0,4916.0,5273.0,6111.0,11144.0,5115.0,2578.0,6017.0,4775.0,820.0,2447.0,7167.0,5295.0,4461.0,10075.0,7912.0,20153.0,3293.0,3591.0,2345.0,436.0,398.0,5125.0,1046.0,5377.0,674.0,8310.0,8972.0,6645.0,2329.0,1488.0,9816.0,8162.0,6545.0,3834.0,3128.0,2075.0,3046.0,160.0,2908.0,1861.0,735.0,175.0,2337.0,5499.0,3377.0,1319.0,10244.0,5015.0,752.0,2066.0,862.0,3138.0,3155.0,458.0,6206.0,9222.0,4559.0,505.0,9852.0,5071.0,3878.0,496.0,3407.0,870.0,2102.0,12839.0,8793.0,3102.0,5226.0,3805.0,4202.0,5371.0,7697.0,426.0,5663.0,1365.0,8129.0,4106.0,2432.0,4875.0,2880.0,8473.0,1904.0,3095.0,1674.0,9068.0,2365.0,1252.0,3762.0,5925.0,3918.0,827.0,618.0,6845.0,1564.0,1338.0,3385.0,1074.0,293.0,7214.0,3727.0,2994.0,5160.0,10881.0,6218.0,3546.0,3467.0,6276.0,12060.0,3081.0,6902.0,8556.0,1041.0,6387.0,5034.0,5515.0,1568.0,4861.0,7167.0,4062.0,8927.0,6288.0,4870.0,8005.0,2873.0,14297.0,1777.0,6810.0,4524.0,605.0,623.0,1162.0,4321.0,1852.0,4065.0,3657.0,1297.0,1313.0,2285.0,1718.0,6078.0,6132.0,4811.0,3418.0,1700.0,366.0,4998.0,5524.0,578.0,10029.0,9971.0,240.0,6055.0,8621.0,4062.0,808.0,9745.0,222.0,6309.0,959.0,774.0,7463.0,2663.0,15735.0,473.0,3478.0,9161.0,13275.0,3276.0,4606.0,4371.0,1525.0,6447.0,919.0,2149.0,6102.0,11743.0,10267.0,1471.0,3060.0,6346.0,9612.0,2338.0,4491.0,478.0,2276.0,4598.0,5895.0,1196.0,1387.0,1583.0,9950.0,2613.0,765.0,1458.0,2735.0,5408.0,8839.0,5300.0,13958.0,2056.0,1431.0,5410.0,3009.0,1139.0,947.0,7803.0,3403.0,1598.0,6151.0,2222.0,2117.0,1867.0,4224.0,1241.0,578.0,5329.0,6528.0,7965.0,4477.0,908.0,268.0,3218.0,2136.0,6444.0,7425.0,3018.0,5542.0,2863.0,699.0,7022.0,1082.0,3427.0,11330.0,6060.0,1766.0,7123.0,1345.0,3814.0,4152.0,816.0,584.0,5452.0,4918.0,403.0,8465.0,2084.0,6938.0,7922.0,4816.0,4730.0,2923.0,3058.0,3781.0,5763.0,1422.0,6669.0,6226.0,2488.0,3626.0,2809.0,794.0,2401.0,2816.0,6346.0,5036.0,6058.0,3664.0,236.0,290.0,5480.0,5367.0,190.0,500.0,9653.0,2838.0,1261.0,3371.0,2682.0,576.0,2293.0,3699.0,4505.0,5282.0,2776.0,7958.0,438.0,956.0,6192.0,9986.0,3656.0,276.0,4808.0,3699.0,4238.0,235.0,467.0,3862.0,4062.0,888.0,14274.0,7736.0,3038.0,5554.0,8108.0,3810.0,6545.0,4003.0,2812.0,806.0,307.0,2025.0,4570.0,408.0,802.0,1130.0,1183.0,4489.0,1952.0,8723.0,373.0,378.0,11137.0,5082.0,753.0,2380.0,926.0,2222.0,15300.0,2167.0,10772.0,5002.0,5311.0,2623.0,11528.0,1268.0,588.0,246.0,2863.0,913.0,1115.0,6877.0,939.0,4398.0,832.0,10880.0,3360.0,3770.0,2649.0,4638.0,10358.0,5686.0,4969.0,5507.0,6416.0,7574.0,8656.0,2038.0,12317.0,12575.0,4777.0,3456.0,8293.0,18585.0,2533.0,8419.0,897.0,1319.0,5989.0,4024.0,2087.0,6048.0,8841.0,210.0,1198.0,3767.0,5409.0,4195.0,8937.0,593.0,3761.0,2338.0,9702.0,1743.0,2468.0,466.0,5770.0,6265.0,772.0,7328.0,2351.0,5619.0,1114.0,2865.0,12029.0,3972.0,353.0,1535.0,7957.0,496.0,9661.0,1289.0,3597.0,1019.0,8028.0,4915.0,4369.0,4149.0,4065.0,4169.0,6571.0,5873.0,6233.0,621.0,2615.0,712.0,2392.0,6351.0,1260.0,5579.0,1411.0,1225.0,11270.0,3863.0,738.0,7038.0,5926.0,5505.0,13966.0,7806.0,3681.0,3159.0,10148.0,593.0,1602.0,566.0,493.0,1929.0,1642.0,7860.0,9954.0,822.0,1658.0,7115.0,1303.0,7408.0,1581.0,6667.0,18372.0,4020.0,1062.0,3001.0,7897.0,6241.0,3240.0,326.0,6480.0,1271.0,982.0,1664.0,1172.0,3010.0,1468.0,5272.0,2134.0,1719.0,6677.0,4338.0,1020.0,350.0,679.0,4464.0,4000.0,865.0,128.0,3265.0,6019.0,284.0,4429.0,1396.0,491.0,793.0,978.0,3344.0,1046.0,3706.0,1452.0,2630.0,11761.0,4768.0,6297.0,4736.0,8164.0,228.0,1235.0,226.0,850.0,3976.0,4317.0,764.0,2256.0,8977.0,238.0,18925.0,9401.0,4482.0,621.0,999.0,5473.0,5437.0,168.0,5399.0,8123.0,1450.0,564.0,1362.0,1881.0,3067.0,2294.0,519.0,4472.0,2084.0,2276.0,5469.0,300.0,1535.0,4024.0,6620.0,5921.0,9305.0,306.0,9454.0,4661.0,5125.0,805.0,1836.0,4870.0,4685.0,2839.0,1546.0,6075.0,426.0,6279.0,1135.0,4210.0,5593.0,9309.0,1897.0,444.0,13691.0,601.0,306.0,2028.0,2206.0,3705.0,736.0,4110.0,511.0,3850.0,6884.0,5158.0,4387.0,10895.0,1490.0,4491.0,2562.0,3055.0,5070.0,3320.0,9156.0,1259.0,1326.0,426.0,7749.0,7146.0,2996.0,1288.0,4838.0,1282.0,962.0,7949.0,380.0,5620.0,3434.0,5858.0,3780.0,3557.0,2494.0,2302.0,2826.0,731.0,2047.0,1201.0,3491.0,1788.0,6401.0,8283.0,636.0,6307.0,1534.0,1505.0,3714.0,614.0,2875.0,446.0,1560.0,2790.0,10744.0,2241.0,1556.0,2162.0,6815.0,308.0,11282.0,6497.0,5098.0,6966.0,11322.0,11912.0,1546.0,5584.0,9675.0,3264.0,188.0,6114.0,552.0,9054.0,8540.0,1219.0,4140.0,784.0,1217.0,6427.0,1881.0,4237.0,426.0,3060.0,748.0,413.0,168.0,1848.0,5187.0,3532.0,989.0,4212.0,250.0,4173.0,588.0,1944.0,1894.0,3148.0,1702.0,1986.0,1218.0,5100.0,4886.0,4972.0,2602.0,746.0,3818.0,1164.0,7218.0,5117.0,3058.0,2272.0,718.0,2224.0,7226.0,4233.0,256.0,2975.0,7410.0,782.0,628.0,7234.0,4812.0,2992.0,1379.0,4518.0,4026.0,640.0,396.0,4664.0,565.0,4188.0,14093.0,2093.0,4358.0,4060.0,423.0,6915.0,8709.0,6352.0,268.0,1197.0,789.0,7003.0,869.0,4872.0,5195.0,2244.0,4502.0,1394.0,3136.0,2382.0,10675.0,13400.0,418.0,1132.0,3550.0,2486.0,183.0,1256.0,1784.0,1401.0,3783.0,8149.0,8287.0,4897.0,561.0,2351.0,6134.0,5016.0,2852.0,1997.0,3010.0,356.0,8483.0,1951.0,246.0,5075.0,3888.0,549.0,8936.0,2878.0,3489.0,1628.0,6132.0,5938.0,4523.0,14508.0,8556.0,6119.0,3459.0,14323.0,4655.0,263.0,2952.0,6387.0,610.0,3148.0,654.0,350.0,18338.0,6672.0,210.0,8380.0,2769.0,783.0,473.0,1580.0,3330.0,3733.0,5224.0,5612.0,1656.0,7281.0,566.0,1618.0,5429.0,9160.0,5136.0,3476.0,943.0,386.0,1038.0,8010.0,6422.0,626.0,3398.0,238.0,922.0,3090.0,5944.0,4969.0,578.0,373.0,2879.0,1661.0,3271.0,6770.0,6154.0,13487.0,12723.0,574.0,6717.0,1982.0,3791.0,4984.0,878.0,5876.0,4301.0,390.0,2674.0,5250.0,5663.0,1654.0,2172.0,8159.0,416.0,4854.0,463.0,6171.0,7512.0,1617.0,3400.0,216.0,1685.0,837.0,5482.0,4327.0,3511.0,3582.0,686.0,9763.0,15492.0,570.0,708.0,847.0,4747.0,2373.0,338.0,856.0,3260.0,5896.0,2875.0,2525.0,4876.0,8798.0,4162.0,3200.0,7844.0,13120.0,5011.0,2440.0,4873.0,3566.0,6181.0,3005.0,6193.0,3769.0,1072.0,3086.0,5646.0,498.0,176.0,6068.0,3896.0,4732.0,7547.0,8405.0,378.0,2302.0,5562.0,3831.0,1907.0,8475.0,10327.0,3869.0,2352.0,9306.0,1530.0,2194.0,3298.0,13582.0,3932.0,6171.0,4138.0,8040.0,1596.0,2743.0,3817.0,6753.0,4790.0,8068.0,1410.0,2761.0,7625.0,1733.0,13290.0,215.0,11229.0,766.0,7765.0,4117.0,6489.0,2992.0,458.0,360.0,4724.0,2687.0,3878.0,3128.0,4421.0,7536.0,568.0,649.0,1528.0,13637.0,3492.0,4282.0,9496.0,11117.0,6302.0,9011.0,8546.0,2236.0,2516.0,1126.0,813.0,4484.0,702.0,1661.0,6952.0,964.0,210.0,10684.0,2350.0,7441.0,2771.0,1280.0,556.0,4441.0,4450.0,8169.0,6609.0,3359.0,838.0,6569.0,3134.0,1955.0,198.0,914.0,5110.0,727.0,1263.0,3267.0,3711.0,8779.0,3810.0,594.0,1445.0,2876.0,2695.0,4438.0,6079.0,1893.0,3536.0,6855.0,1144.0,3447.0,1578.0,1941.0,488.0,3174.0,4822.0,5442.0,3144.0,1757.0,7613.0,3063.0,5010.0,3195.0,4349.0,1139.0,3879.0,248.0,4917.0,2843.0,3383.0,674.0,1228.0,2637.0,4075.0,1765.0,1443.0,6744.0,1294.0,7482.0,4553.0,531.0,3581.0,2761.0,1198.0,198.0,1131.0,2202.0,8927.0,5602.0,7259.0,1883.0,373.0,1966.0,7756.0,8229.0,3534.0,5190.0,7476.0,4056.0,8496.0,3837.0,3708.0,7460.0,1769.0,5973.0,784.0,6672.0,12764.0,8059.0,1853.0,586.0,1247.0,4410.0,458.0,3929.0,3011.0,6466.0,8423.0,236.0,1475.0,1881.0,1004.0,388.0,5505.0,2588.0,1334.0,3812.0,1264.0,1535.0,4405.0,3081.0,1276.0,7045.0,5747.0,4593.0,2478.0,484.0,5889.0,3587.0,3962.0,6686.0,13368.0,4905.0,346.0,1358.0,6572.0,1264.0,3151.0,1018.0,1065.0,6434.0,3852.0,353.0,3462.0,974.0,6616.0,303.0,628.0,5262.0,4695.0,1994.0,2944.0,763.0,17615.0,1502.0,3511.0,2304.0,1863.0,1225.0,7976.0,2798.0,3121.0,629.0,4128.0,5996.0,4979.0,2078.0,2699.0,138.0,10641.0,3406.0,2336.0,2884.0,6589.0,2339.0,7000.0,1266.0,4641.0,4780.0,9370.0,259.0,7088.0,5214.0,984.0,3165.0,4857.0,3759.0,1290.0,662.0,208.0,1339.0,2528.0,1454.0,6791.0,4527.0,3276.0,8951.0,446.0,2963.0,4016.0,8369.0,5904.0,5832.0,585.0,1252.0,576.0,3127.0,10704.0,4507.0,7295.0,1288.0,2129.0,6527.0,3824.0,4063.0,2746.0,1827.0,345.0,1210.0,629.0,3664.0,238.0,875.0,7034.0,2040.0,941.0,1268.0,9568.0,7935.0,4753.0,3626.0,2312.0,1078.0,8536.0,7541.0,472.0,2999.0,4051.0,2066.0,6066.0,2394.0,2262.0,1190.0,7519.0,7494.0,9316.0,5372.0,3689.0,3340.0,1636.0,533.0,7839.0,5817.0,4081.0,5128.0,819.0,2726.0,2138.0,1238.0,10285.0,1093.0,4288.0,2334.0,1142.0,4769.0,1319.0,6675.0,1368.0,11743.0,1751.0,6422.0,3324.0,7264.0,2875.0,8473.0,8841.0,7630.0,5630.0,967.0,670.0,756.0,6132.0,7741.0,822.0,3156.0,376.0,1342.0,3116.0,1935.0,7079.0,2290.0,3723.0,6167.0,3872.0,6530.0,957.0,1259.0,386.0,4540.0,3406.0,1853.0,11564.0,393.0,3949.0,2331.0,3631.0,1635.0,6505.0,936.0,855.0,9902.0,1299.0,136.0,872.0,1475.0,722.0,2612.0,3161.0,9103.0,4466.0,1912.0,12563.0,8007.0,7120.0,3403.0,13523.0,3357.0,5311.0,1205.0,3310.0,808.0,436.0,3754.0,2141.0,2401.0,4301.0,3464.0,1756.0,936.0,5691.0,5331.0,5361.0,2886.0,2554.0,7674.0,306.0,6409.0,506.0,286.0,2847.0,13293.0,6809.0,1746.0,3581.0,424.0,1578.0,7046.0,1385.0,8329.0,1951.0,3807.0,1530.0,2624.0,3870.0,490.0,3607.0,7320.0,10144.0,6152.0,2350.0,5568.0,1930.0,2835.0,13742.0,3291.0,2348.0,1894.0,3757.0,3396.0,756.0,3593.0,11192.0,226.0,1110.0,424.0,3649.0,9021.0,3899.0,6455.0,3276.0,5088.0,7626.0,11373.0,1131.0,5548.0,7702.0,3900.0,1587.0,2026.0,6019.0,1548.0,7601.0,378.0,398.0,4475.0,5929.0,1283.0,446.0,1398.0,4200.0,5752.0,555.0,6619.0,242.0,280.0,1908.0,6062.0,6835.0,530.0,3978.0,1421.0,778.0,290.0,2786.0,448.0,653.0,2432.0,7623.0,1022.0,2459.0,6624.0,8137.0,7021.0,703.0,1984.0,248.0,3001.0,7583.0,496.0,7024.0,2254.0,6369.0,18372.0,2215.0,9886.0,1341.0,4004.0,4208.0,869.0,3291.0,892.0,2518.0,7945.0,2106.0,1267.0,1438.0,3853.0,7793.0,4075.0,2897.0,2431.0,253.0,2878.0,265.0,4296.0,3489.0,2416.0,5995.0,3159.0,1812.0,1804.0,466.0,8013.0,2487.0,5733.0,8870.0,4331.0,1784.0,627.0,1996.0,1774.0,14962.0,1065.0,5058.0,4842.0,1244.0,6486.0,1448.0,3062.0,3200.0,11329.0,8748.0,1674.0,6567.0,4092.0,2627.0,7656.0,2110.0,138.0,4207.0,1052.0,3478.0,2984.0,4110.0,698.0,4399.0,3916.0,315.0,1094.0,8352.0,2163.0,3873.0,9948.0,16348.0,3397.0,1146.0,5903.0,3689.0,1727.0,2495.0,2431.0,2282.0,3896.0,3735.0,2066.0,1506.0,1650.0,796.0,1386.0,396.0,4722.0,2592.0,7325.0,4058.0,5997.0,5439.0,296.0,2208.0,7761.0,563.0,5317.0,4613.0,386.0,3895.0,2723.0,8351.0,2194.0,4103.0,1801.0,8420.0,346.0,5280.0,4377.0,5691.0,1891.0,628.0,10598.0,4723.0,2676.0,138.0,6452.0,3202.0,3952.0,7127.0,932.0,5609.0,2668.0,263.0,13116.0,9553.0,6057.0,178.0,6476.0,3563.0,6433.0,2807.0,868.0,4302.0,1675.0,6095.0,1078.0,358.0,2206.0,5583.0,6463.0,6361.0,8254.0,8436.0,786.0,5352.0,1995.0,3044.0,1673.0,10042.0,6420.0,5667.0,4440.0,338.0,2792.0,3800.0,3820.0,6120.0,2952.0,7714.0,3531.0,6395.0,6011.0,628.0,4828.0,5005.0,2798.0,3204.0,495.0,6797.0,2750.0,5450.0,4133.0,5682.0,7659.0,5389.0,2468.0,741.0,554.0,944.0,1596.0,3568.0,5126.0,653.0,1394.0,9552.0,386.0,6476.0,4059.0,1964.0,2814.0,632.0,4695.0,263.0,5417.0,8033.0,6924.0,3334.0,4493.0,2671.0,1992.0,4998.0,708.0,8814.0,2676.0,2383.0,932.0,2481.0,1304.0,2508.0,645.0,5708.0,11897.0,6331.0,2380.0,9033.0,1767.0,5031.0,2832.0,1652.0,2550.0,6232.0,664.0,2541.0,7499.0,368.0,2967.0,2999.0,4384.0,1225.0,1811.0,1248.0,2980.0,4729.0,1723.0,3294.0,10142.0,3609.0,2601.0,1380.0,5319.0,604.0,3871.0,5101.0,854.0,266.0,2007.0,11024.0,8039.0,1404.0,4311.0,8218.0,3688.0,2320.0,446.0,4499.0,456.0,5386.0,3218.0,3712.0,4288.0,9479.0,3160.0,826.0,5542.0,1251.0,9932.0,3995.0,2622.0,4919.0,5009.0,2207.0,13524.0,1202.0,2360.0,2819.0,1866.0,811.0,1666.0,2224.0,2198.0,7585.0,681.0,6953.0,2224.0,7388.0,10347.0,11017.0,6485.0,3084.0,1748.0,2120.0,1718.0,295.0,3530.0,2900.0,275.0,8912.0,260.0,2125.0,2003.0,1391.0,2942.0,3503.0,4861.0,6124.0,736.0,280.0,3289.0,4754.0,7978.0,786.0,878.0,3936.0,686.0,268.0,3961.0,10489.0,5045.0,4637.0,5373.0,1909.0,4016.0,5589.0,6555.0,1834.0,2268.0,1175.0,4006.0,954.0,10008.0,6912.0,303.0,9639.0,238.0,2505.0,6658.0,3578.0,1141.0,10292.0,1288.0,2994.0,1660.0,2082.0,752.0,3697.0,278.0,6878.0,323.0,325.0,203.0,1553.0,5089.0,3337.0,3558.0,6091.0,2755.0,2410.0,2122.0,2734.0,3636.0,446.0,2728.0,476.0,238.0,4987.0,3485.0,4094.0,1448.0,1764.0,680.0,1202.0,611.0,1673.0,14324.0,2298.0,5558.0,2520.0,366.0,7741.0,1871.0,3856.0,889.0,1035.0,2560.0,3005.0,378.0,1540.0,246.0,958.0,3164.0,3362.0,2091.0,916.0,2373.0,2430.0,2864.0,5248.0,2751.0,6497.0,231.0,3679.0,972.0,4028.0,8721.0,4273.0,3250.0,8351.0,4902.0,1585.0,1168.0,1618.0,4790.0,807.0,4593.0,2952.0,2298.0,5163.0,3274.0,3058.0,1370.0,9296.0,6482.0,6780.0,8564.0,3525.0,8820.0,5065.0,337.0,3855.0,1399.0,3182.0,2213.0,3452.0,1900.0,2938.0,6054.0,7044.0,9547.0,396.0,10047.0,2298.0,8965.0,10599.0,3856.0,4018.0,682.0,2776.0,5550.0,2516.0,5943.0,416.0,300.0,5753.0,1278.0,448.0,9504.0,6824.0,4609.0,4605.0,2569.0,5999.0,2140.0,1378.0,3351.0,346.0,13974.0,2413.0,5446.0,12147.0,864.0,9423.0,4710.0,6085.0,676.0,1611.0,408.0,7109.0,433.0,4000.0,2636.0,666.0,278.0,4079.0,393.0,13324.0,916.0,2858.0,246.0,729.0,6339.0,3263.0,1194.0,1700.0,1688.0,625.0,4421.0,1729.0,5278.0,202.0,924.0,536.0,266.0,2640.0,1992.0,241.0,2822.0,4626.0,1524.0,7972.0,876.0,6106.0,755.0,2005.0,1873.0,363.0,2995.0,14524.0,4940.0,1645.0,2080.0,5564.0,248.0,570.0,1064.0,1653.0,5164.0,2134.0,4762.0,2738.0,2673.0,8211.0,871.0,3175.0,4051.0,7504.0,874.0,646.0,5563.0,1245.0,700.0,1201.0,3369.0,426.0,3462.0,5093.0,4172.0,3256.0,586.0,1252.0,2199.0,306.0,336.0,1200.0,1006.0,324.0,899.0,386.0,2809.0,786.0,3839.0,861.0,3975.0,3213.0,4550.0,310.0,555.0,2550.0,3526.0,3563.0,358.0,576.0,4255.0,1263.0,3772.0,6173.0,2279.0,2548.0,2986.0,3222.0,4331.0,1209.0,6232.0,2345.0,3914.0,4534.0,4956.0,8518.0,2644.0,2219.0,2496.0,8247.0,6504.0,9342.0,4532.0,599.0,3698.0,478.0,6284.0,5827.0,794.0,1362.0,3859.0,339.0,2832.0,3407.0,19127.0,6196.0,3562.0,1856.0,812.0,8678.0,5307.0,2310.0,4571.0,4481.0,4021.0,731.0,956.0,908.0,3104.0,3832.0,1082.0,2086.0,2673.0,410.0,396.0,6278.0,643.0,4264.0,3185.0,3699.0,9307.0,1649.0,3054.0,4227.0,3849.0,4974.0,821.0,2604.0,1288.0,2381.0,694.0,2356.0,3358.0,2036.0,521.0,3421.0,4606.0,1332.0,4280.0,176.0,1505.0,3756.0,286.0,1894.0,4045.0,398.0,3429.0,8405.0,3876.0,286.0,5341.0,1547.0,4382.0,6786.0,4136.0,6293.0,913.0,1470.0,5784.0,840.0,2736.0,898.0,13512.0,4324.0,336.0,3196.0,2150.0,204.0,527.0,10419.0,1580.0,5075.0,818.0,5152.0,11342.0,2840.0,2590.0,2404.0,4036.0,1740.0,1939.0,4968.0,963.0,10415.0,824.0,386.0,1277.0,3534.0,6530.0,8901.0,506.0,9164.0,1770.0,2320.0,9920.0,10091.0,2872.0,4759.0,1384.0,4050.0,635.0,603.0,2516.0,1471.0,1105.0,1200.0,1784.0,2251.0,526.0,9869.0,5365.0,956.0,454.0,3179.0,1460.0,936.0,3694.0,2716.0,7885.0,5343.0,2768.0,2060.0,872.0,1679.0,5538.0,2913.0,418.0,4154.0,4853.0,446.0,6649.0,971.0,486.0,2930.0,2839.0,6393.0,2820.0,7122.0,2251.0,378.0,1694.0,1312.0,4843.0,536.0,1858.0,3526.0,4011.0,1332.0,7490.0,676.0,3129.0,1232.0,3700.0,215.0,376.0,771.0,2194.0,372.0,258.0,3969.0,295.0,9196.0,7040.0,3272.0,7449.0,306.0,3712.0,5361.0,373.0,188.0,832.0,533.0,1691.0,2885.0,9435.0,1903.0,2686.0,1544.0,336.0,889.0,896.0,902.0,6154.0,5170.0,2982.0,5288.0,8551.0,5985.0,2453.0,4757.0,1268.0,529.0,3120.0,632.0,3034.0,7017.0,10891.0,466.0,1278.0,1060.0,6090.0,382.0,14901.0,3778.0,1403.0,2701.0,2167.0,3333.0,588.0,11198.0,3155.0,1660.0,1638.0,679.0,6840.0,3392.0,672.0,981.0,3409.0,6378.0,213.0,4004.0,1130.0,669.0,3858.0,2816.0,2061.0,5396.0,6837.0,748.0,376.0,563.0,8800.0,3430.0,4265.0,4158.0,1574.0,4503.0,2854.0,3172.0,8172.0,1663.0,6686.0,1588.0,7066.0,7179.0,5060.0,6454.0,914.0,1468.0,6522.0,12505.0,2135.0,3360.0,14148.0,266.0,4716.0,4889.0,2664.0,4511.0,2679.0,1200.0,1309.0,8272.0,5996.0,7103.0,8093.0,5392.0,4681.0,11472.0,1092.0,1085.0,2491.0,8745.0,538.0,2440.0,2811.0,3654.0,2235.0,796.0,9143.0,4326.0,748.0,2651.0,483.0,2981.0,5605.0,6021.0,5380.0,4112.0,1420.0,252.0,491.0,586.0,4072.0,6722.0,9365.0,348.0,3699.0,3864.0,186.0,4546.0,3692.0,5080.0,3454.0,1508.0,3475.0,566.0,2716.0,4754.0,1370.0,582.0,1606.0,1011.0,2632.0,3604.0,2939.0,772.0,768.0,6549.0,5935.0,5389.0,200.0,1944.0,4005.0,2372.0,924.0,3188.0,685.0,1702.0,4817.0,326.0,1713.0,3454.0,4848.0,400.0,4732.0,3324.0,718.0,718.0,756.0,7554.0,5039.0,2200.0,682.0,6109.0,1810.0,198.0,2977.0,503.0,286.0,954.0,1632.0,200.0,1291.0,3290.0,1738.0,5681.0,1642.0,330.0,1239.0,3903.0,219.0,70.0,2302.0,1542.0,6356.0,4051.0,831.0,4712.0,613.0,6085.0,1968.0,3638.0,436.0,3828.0,4620.0,1350.0,188.0,2724.0,6402.0,8250.0,678.0,6695.0,2432.0,4167.0,200.0,7978.0,4635.0,1211.0,1813.0,2306.0,2564.0,2793.0,2310.0,1202.0,2710.0,1278.0,2289.0,2999.0,2722.0,2796.0,2534.0,3260.0,403.0,6908.0,829.0,2010.0,1211.0,2490.0,3363.0,822.0,415.0,4517.0,6731.0,2278.0,1358.0,1271.0,2619.0,4840.0,1842.0,2802.0,300.0,8364.0,3534.0,5153.0,3798.0,3119.0,3250.0,1383.0,938.0,1416.0,7501.0,338.0,1778.0,849.0,3125.0,4692.0,586.0,4241.0,4197.0,992.0,2540.0,275.0,7504.0,416.0,316.0,1675.0,308.0,4034.0,1368.0,5196.0,4512.0,6407.0,2188.0,743.0,2823.0,1540.0,2428.0,4432.0,987.0,4263.0,1462.0,10894.0,524.0,223.0,2543.0,190.0,3166.0,1133.0,1250.0,1739.0,210.0,1424.0,2300.0,466.0,1436.0,3474.0,2754.0,824.0,8181.0,3186.0,5445.0,1994.0,508.0,2115.0,2649.0,2403.0,8117.0,1503.0,4550.0,2731.0,5167.0,3278.0,2074.0,969.0,2618.0,764.0,761.0,546.0,1409.0,4028.0,8407.0,325.0,6804.0,3847.0,272.0,5014.0,4883.0,6635.0,1167.0,1548.0,4662.0,1645.0,247.0,8752.0,1445.0,4406.0,4043.0,263.0,428.0,6095.0,546.0,7172.0,9076.0,566.0,466.0,4718.0,1159.0,901.0,5426.0,2163.0,2709.0,576.0,664.0,4936.0,5248.0,3270.0,1923.0,2498.0,2016.0,3703.0,3496.0,915.0,326.0,438.0,4555.0,226.0,8407.0,1267.0,1098.0,7780.0,1147.0,526.0,8599.0,5386.0,1671.0,6949.0,525.0,3161.0,1619.0,699.0,641.0,1728.0,5960.0,6112.0,478.0,1031.0,3716.0,406.0,1068.0,4534.0,4910.0,3624.0,1079.0,12383.0,4192.0,433.0,3946.0,5502.0,270.0,1160.0,3481.0,2573.0,6488.0,1082.0,348.0,1254.0,255.0,664.0,2632.0,5499.0,4144.0,714.0,556.0,9388.0,448.0,2336.0,346.0,3058.0,1100.0,1971.0,7076.0,1937.0,293.0,6145.0,1764.0,1048.0,1260.0,1174.0,538.0,7510.0,4133.0,678.0,190.0,4380.0,660.0,8176.0,1198.0,4982.0,3031.0,588.0,4141.0,4530.0,5263.0,690.0,3664.0,1794.0,8857.0,1624.0,2594.0,239.0,534.0,11038.0,6708.0,501.0,7715.0,1434.0,4160.0,424.0,5300.0,514.0,6652.0,571.0,1179.0,240.0,3226.0,4121.0,1380.0,2802.0,7434.0,4116.0,3726.0,3381.0,4665.0,268.0,1798.0,597.0,258.0,192.0,3641.0,534.0,564.0,8538.0,3112.0,206.0,1487.0,768.0,461.0,8330.0,5775.0,1624.0,2935.0,266.0,3154.0,3136.0,4240.0,4435.0,336.0,5979.0,8876.0,2204.0,4209.0,4935.0,218.0,2228.0,3406.0,879.0,3334.0,220.0,4769.0,3636.0,1683.0,8734.0,3622.0,315.0,734.0,4263.0,7157.0,3368.0,1588.0,493.0,942.0,4927.0,9226.0,368.0,3561.0,7388.0,484.0,1401.0,10354.0,2022.0,446.0,541.0,1211.0,2056.0,2638.0,2728.0,2839.0,806.0,5972.0,5319.0,10414.0,968.0,2378.0,5384.0,175.0,3680.0,390.0,386.0,1247.0,2296.0,333.0,476.0,918.0,3091.0,1404.0,906.0,418.0,3944.0,3400.0,6898.0,604.0,1787.0,3372.0,496.0,1129.0,318.0,2278.0,406.0,3631.0,220.0,8161.0,2541.0,200.0,3073.0,2408.0,977.0,12830.0,120.0,2294.0,5954.0,10648.0,7087.0,679.0,3930.0,7633.0,396.0,6592.0,1082.0,17847.0,12944.0,1714.0,6460.0,4242.0,3652.0,2302.0,11432.0,1386.0,4564.0,1290.0,11913.0,288.0,3703.0,2272.0,6116.0,4968.0,3348.0,7103.0,2704.0,316.0,2200.0,355.0,2385.0,613.0,3415.0,4137.0,5864.0,643.0,1280.0,3394.0,248.0,326.0,9697.0,785.0,7843.0,2716.0,1426.0,3787.0,3155.0,5011.0,810.0,3204.0,2504.0,9130.0,6317.0,2016.0,1972.0,1029.0,1042.0,881.0,3419.0,2469.0,313.0,1511.0,3813.0,5530.0,1864.0,3024.0,238.0,1282.0,3259.0,2356.0,1104.0,4767.0,1753.0,2200.0,2533.0,4684.0,4941.0,4390.0,636.0,5810.0,1591.0,299.0,606.0,1448.0,1129.0,2374.0,771.0,3010.0,1104.0,426.0,5388.0,8843.0,656.0,1435.0,3547.0,5157.0,498.0,3114.0,241.0,1465.0,8913.0,1327.0,1015.0,1300.0,3788.0,556.0,2819.0,3455.0,3361.0,1571.0,3194.0,1837.0,2062.0,1290.0,9545.0,1392.0,2609.0,561.0,5160.0,3524.0,4312.0,1974.0,1766.0,3076.0,5636.0,989.0,866.0,1598.0,9860.0,2833.0,1903.0,366.0,3703.0,498.0,819.0,1128.0,624.0,1476.0,2945.0,791.0,902.0,5742.0,1349.0,5639.0,3524.0,5013.0,4396.0,2182.0,415.0,2319.0,428.0,3444.0,328.0,2597.0,878.0,196.0,2321.0,5817.0,960.0,5493.0,7165.0,924.0,11976.0,3262.0,7076.0,203.0,1226.0,1876.0,353.0,3451.0,824.0,1290.0,2311.0,3392.0,198.0,573.0,4155.0,2288.0,4048.0,2102.0,778.0,253.0,3390.0,1196.0,323.0,3767.0,699.0,748.0,821.0,693.0,596.0,1587.0,2018.0,5045.0,2929.0,5927.0,6564.0,7800.0,4132.0,701.0,1714.0,168.0,2338.0,10166.0,398.0,12134.0,2040.0,1178.0,2000.0,6197.0,9568.0,1817.0,7446.0,2355.0,1798.0,7412.0,458.0,323.0,4027.0,1840.0,2469.0,360.0,2832.0,529.0,792.0,2010.0,2786.0,853.0,3329.0,306.0,4158.0,3070.0,136.0,286.0,2735.0,666.0,5814.0,346.0,896.0,2162.0,396.0,2654.0,4203.0,4107.0,825.0,2400.0,2524.0,831.0,1298.0,1241.0,356.0,440.0,3152.0,2846.0,745.0,320.0,818.0,3185.0,1184.0,1354.0,348.0,4706.0,4816.0,3576.0,15153.0,142.0,1121.0,4745.0,2003.0,1678.0,1576.0,808.0,566.0,5294.0,9584.0,396.0,2751.0,1485.0,832.0,621.0,1665.0,1553.0,8426.0,1854.0,1446.0,415.0,2202.0,1001.0,235.0,626.0,1104.0,210.0,3679.0,6446.0,1000.0,1720.0,9163.0,3520.0,1605.0,1278.0,396.0,1274.0,5230.0,4829.0,1230.0,6872.0,5754.0,2341.0,4561.0,4051.0,260.0,7605.0,2384.0,3524.0,1437.0,10648.0,602.0,423.0,1989.0,4296.0,878.0,1241.0,1389.0,2892.0,2492.0,346.0,2811.0,1732.0,5151.0,2314.0,2562.0,3118.0,290.0,516.0,1450.0,303.0,5104.0,5537.0,1129.0,2296.0,486.0,5134.0,1542.0,622.0,2636.0,693.0,778.0,4664.0,1180.0,7724.0,995.0,3067.0,5233.0,2724.0,645.0,1365.0,2320.0,2789.0,590.0,6687.0,11030.0,1020.0,438.0,788.0,1295.0,3346.0,2934.0,268.0,306.0,1525.0,476.0,596.0,1429.0,4877.0,4878.0,1746.0,9118.0,5347.0,328.0,4596.0,6697.0,405.0,1439.0,398.0,2310.0,1288.0,3076.0,1548.0,1453.0,1299.0,3276.0,2242.0,1278.0,1175.0,1338.0,4433.0,990.0,168.0,5047.0,1610.0,436.0,696.0,649.0,6592.0,4789.0,526.0,938.0,1391.0,4837.0,278.0,5088.0,2074.0,313.0,1576.0,5910.0,1628.0,2053.0,2305.0,166.0,2448.0,7187.0,2272.0,2051.0,1316.0,398.0,2833.0,1922.0,1411.0,1189.0,2717.0,1613.0,4149.0,905.0,2913.0,8368.0,690.0,556.0,4439.0,3943.0,588.0,2475.0,846.0,840.0,3810.0,436.0,2845.0,268.0,2681.0,2079.0,215.0,4337.0,2394.0,1250.0,1289.0,3583.0,4128.0,747.0,2612.0,373.0,123.0,1748.0,406.0,3302.0,3437.0,4453.0,9981.0,5618.0,6794.0,330.0,256.0,1654.0,1816.0,2365.0,3295.0,2560.0,296.0,2174.0,3022.0,6125.0,4293.0,942.0,115.0,1500.0,967.0,996.0,2738.0,2664.0,5009.0,8603.0,1238.0,4126.0,3333.0,3260.0,1774.0,1370.0,2530.0,7885.0,2927.0,3041.0,586.0,1330.0,2468.0,1133.0,356.0,178.0,1025.0,2087.0,1576.0,708.0,1930.0,9948.0,2581.0,728.0,1178.0,7856.0,3098.0,2492.0,3984.0,496.0,4338.0,4790.0,4892.0,2674.0,1726.0,1010.0,5155.0,686.0,1593.0,1308.0,2888.0,4612.0,10830.0,5611.0,531.0,8979.0,632.0,2027.0,268.0,7373.0,5134.0,1564.0,1140.0,4194.0,443.0,328.0,667.0,278.0,1822.0,2386.0,240.0,147.0,1482.0,3706.0,1498.0,855.0,576.0,480.0,1043.0,2202.0,4596.0,666.0,6671.0,188.0,2824.0,1348.0,182.0,1914.0,2391.0,205.0,1418.0,6871.0,423.0,3332.0,6644.0,288.0,3604.0,11160.0,450.0,208.0,959.0,4143.0,1476.0,386.0,233.0,1412.0,2578.0,388.0,2194.0,2408.0,967.0,2164.0,2020.0,5863.0,1364.0,3889.0,1000.0,546.0,574.0,7341.0,745.0,4009.0,3176.0,835.0,6705.0,2385.0,308.0,3380.0,986.0,3997.0,7850.0,325.0,446.0,5537.0,396.0,896.0,656.0,3819.0,4869.0,5714.0,1878.0,5386.0,6407.0,709.0,276.0,1744.0,5041.0,378.0,1300.0,723.0,2976.0,3792.0,4893.0,888.0,1507.0,8252.0,4306.0,5483.0,10074.0,7551.0,1839.0,6368.0,1188.0,2317.0,1678.0,12719.0,2530.0,1468.0,947.0,700.0,5355.0,1672.0,1134.0,2599.0,368.0,1599.0,1437.0,378.0,5219.0,1297.0,5185.0,1305.0,1309.0,1160.0,4413.0,763.0,1846.0,1634.0,140.0,5270.0,2485.0,6794.0,1937.0,892.0,855.0,2304.0,1378.0,3533.0,487.0,3330.0,2331.0,6258.0,190.0,2484.0,4052.0,939.0,1149.0,4914.0,3616.0,896.0,2256.0,8675.0,1146.0,984.0,188.0,2962.0,5543.0,2519.0,781.0,1198.0,1389.0,461.0,3988.0,1220.0,3080.0,2863.0,4928.0,440.0,515.0,246.0,3236.0,1348.0,302.0,382.0,3666.0,816.0,4845.0,1069.0,8280.0,8064.0,4370.0,683.0,2318.0,2131.0,4782.0,1841.0,6150.0,805.0,2480.0,3962.0,2068.0,892.0,8176.0,370.0,5856.0,1674.0,3670.0,286.0,403.0,11681.0,1871.0,2106.0,2291.0,4444.0,8394.0,1385.0,1144.0,7458.0,5443.0,3404.0,4789.0,1338.0,2201.0,5595.0,2247.0,1592.0,3452.0,4262.0,3282.0,2702.0,6583.0,979.0,2558.0,2301.0,2764.0,343.0,801.0,4400.0,8031.0,366.0,2558.0,7645.0,5453.0,3229.0,1417.0,824.0,196.0,4544.0,1466.0,730.0,4830.0,711.0,671.0,1410.0,826.0,3801.0,732.0,3582.0,8346.0,1745.0,376.0,205.0,9545.0,708.0,421.0,4275.0,779.0,1528.0,238.0,2904.0,2853.0,3249.0,2921.0,1548.0,626.0,248.0,866.0,248.0,1372.0,10696.0,3184.0,2040.0,4755.0,498.0,4132.0,868.0,1412.0,476.0,7826.0,646.0,8689.0,1034.0,2394.0,1515.0,730.0,1331.0,6644.0,3012.0,875.0,233.0,832.0,5492.0,3560.0,1218.0,3119.0,230.0,4727.0,794.0,2993.0,5192.0,2298.0,4371.0,1668.0,9347.0,152.0,859.0,4274.0,4619.0,1073.0,2927.0,2286.0,5108.0,2951.0,703.0,346.0,1418.0,2200.0,3181.0,218.0,176.0,203.0,1942.0,549.0,2632.0,3166.0,411.0,2310.0,7460.0,897.0,433.0,5257.0,383.0,1444.0,1758.0,1131.0,938.0,1250.0,5562.0,2608.0,471.0,6717.0,2467.0,5227.0,656.0,4788.0,1174.0,381.0,2586.0,7189.0,370.0,850.0,803.0,3143.0,2766.0,924.0,2323.0,4356.0,2443.0,1252.0,4450.0,883.0,4905.0,3505.0,1230.0,226.0,2427.0,658.0,370.0,3500.0,2692.0,846.0,1024.0,638.0,1879.0,1960.0,248.0,1176.0,1094.0,2237.0,2900.0,298.0,2079.0,958.0,2130.0,424.0,1111.0,576.0,4950.0,4208.0,1150.0,1902.0,2726.0,588.0,298.0,6927.0,3410.0,276.0,7050.0,3349.0,3908.0,4739.0,2685.0,4676.0,2544.0,218.0,2291.0,4125.0,458.0,578.0,432.0,929.0,841.0,1544.0,776.0,1054.0,1097.0,3323.0,6188.0,6273.0,308.0,950.0,1348.0,2770.0,713.0,418.0,1873.0,1312.0,648.0,2600.0,4661.0,5258.0,478.0,10158.0,7972.0,1352.0,2858.0,2293.0,1560.0,2044.0,1074.0,2767.0,619.0,7688.0,413.0,223.0,4552.0,3420.0,5095.0,1660.0,841.0,4660.0,2117.0,1078.0,7681.0,3001.0,2471.0,1630.0,1210.0,536.0,2171.0,2859.0,3647.0,376.0,501.0,418.0,2336.0,466.0,2432.0,546.0,2568.0,2386.0,768.0,575.0,2645.0,1814.0,2759.0,1278.0,3129.0,4937.0,3455.0,2094.0,7581.0,5518.0,1108.0,5321.0,2086.0,566.0,2796.0,1302.0,320.0,1107.0,1377.0,3956.0,5254.0,8872.0,4137.0,746.0,5794.0,802.0,2728.0,1354.0,3394.0,1348.0,3857.0,1716.0,651.0,556.0,425.0,2476.0,1255.0,1184.0,1411.0,1859.0,786.0,2516.0,2420.0,4149.0,3585.0,1821.0,4156.0,4648.0,408.0,5383.0,1777.0,3507.0,323.0,3724.0,3923.0,416.0,488.0,3164.0,2533.0,195.0,1468.0,333.0,2898.0,749.0,826.0,690.0,2328.0,1618.0,7407.0,3782.0,506.0,2209.0,2043.0,612.0,206.0,329.0,3185.0,6417.0,1540.0,554.0,412.0,1642.0,392.0,4645.0,2228.0,386.0,236.0,6439.0,1288.0,712.0,4238.0,348.0,3068.0,746.0,906.0,1959.0,325.0,2096.0,3798.0,2063.0,336.0,4643.0,1607.0,3240.0,2835.0,508.0,6298.0,308.0,318.0,9303.0,258.0,516.0,1051.0,5146.0,3202.0,2269.0,2924.0,254.0,477.0,3578.0,393.0,1252.0,1581.0,5017.0,1199.0,876.0,1705.0,2656.0,368.0,278.0,566.0,2381.0,3660.0,1505.0,6539.0,283.0,1006.0,6754.0,328.0,2896.0,466.0,308.0,3886.0,836.0,1800.0,218.0,3259.0,2512.0,276.0,396.0,857.0,206.0,2334.0,246.0,1348.0,3218.0,5242.0,6118.0,1916.0,2938.0,3104.0,1818.0,5608.0,333.0,8851.0,4773.0,3220.0,1665.0,679.0,2501.0,4699.0,105.0,806.0,774.0,278.0,2626.0,478.0,228.0,1153.0,278.0,5452.0,5641.0,2756.0,526.0,2349.0,2966.0,796.0,5148.0,794.0,688.0,426.0,4433.0,368.0,1077.0,2567.0,536.0,772.0,1748.0,1239.0,654.0,873.0,3830.0,1277.0,3340.0,6177.0,2077.0,986.0,197.0,1989.0,1358.0,697.0,610.0,1362.0,1214.0,1656.0,1514.0,3218.0,1055.0,1405.0,496.0,7152.0,290.0,360.0,1688.0,258.0,5955.0,2022.0,585.0,343.0,356.0,3035.0,558.0,984.0,1877.0,1739.0,2230.0,3842.0,267.0,3961.0,679.0,1773.0,200.0,486.0,1500.0,205.0,712.0,3318.0,6775.0,1051.0,2300.0,1482.0,2436.0,2014.0,2292.0,336.0,5212.0,778.0,1202.0,630.0,3455.0,920.0,1134.0,896.0,528.0,3905.0,4045.0,1349.0,6530.0,1017.0,4028.0,5931.0,1898.0,2674.0,514.0,8473.0,4449.0,682.0,710.0,2521.0,694.0,340.0,576.0,835.0,1074.0,606.0,2230.0,831.0,4685.0,3940.0,198.0,346.0,3899.0,3752.0,686.0,2236.0,1338.0,1206.0,1998.0,175.0,612.0,3485.0,4224.0,2706.0,4067.0,396.0,1611.0,200.0,607.0,7220.0,2337.0,4307.0,356.0,1210.0,709.0,1846.0,3299.0,376.0,3795.0,5571.0,3294.0,226.0,1914.0,1078.0,6466.0,1328.0,968.0,2570.0,838.0,2364.0,5415.0,2024.0,2218.0,1501.0,7177.0,4694.0,466.0,1136.0,594.0,645.0,1260.0,1397.0,1434.0,1814.0,1899.0,1549.0,1032.0,4064.0,1074.0,703.0,1548.0,704.0,558.0,1036.0,1325.0,889.0,230.0,2430.0,4740.0,836.0,688.0,3944.0,240.0,636.0,1752.0,660.0,393.0,1791.0,2054.0,2134.0,779.0,413.0,186.0,368.0,240.0,446.0,1403.0,1437.0,316.0,1468.0,604.0,6497.0,8322.0,7142.0,1902.0,1598.0,4351.0,1176.0,1618.0,1991.0,152.0,1031.0,403.0,5533.0,796.0,2306.0,724.0,614.0,1623.0,145.0,3902.0,1421.0,393.0,1188.0,2328.0,4168.0,6488.0,4076.0,1668.0,736.0,1911.0,2582.0,692.0,288.0,2377.0,186.0,372.0,500.0,958.0,702.0,1977.0,3675.0,1114.0,7013.0,485.0,1375.0,4090.0,2437.0,7330.0,1208.0,4660.0,4144.0,298.0,4769.0,3353.0,611.0,2486.0,436.0,506.0,1686.0,1868.0,6727.0,3026.0,766.0,1089.0,834.0,2360.0,766.0,1295.0,1248.0,183.0,2432.0,5925.0,4417.0,2196.0,1892.0,2154.0,2984.0,1441.0,326.0,6233.0,3064.0,4517.0,586.0,1923.0,559.0,1846.0,3910.0,664.0,1457.0,1588.0,516.0,240.0,3536.0,4169.0,2838.0,3564.0,433.0,2684.0,1162.0,438.0,732.0,4769.0,1648.0,3097.0,8021.0,5414.0,376.0,4912.0,1886.0,428.0,3620.0,2198.0,336.0,1431.0,2209.0,5151.0,753.0,4385.0,2785.0,426.0,522.0,2443.0,226.0,569.0,2466.0,3286.0,1278.0,1673.0,1072.0,5466.0,2300.0,889.0,1679.0,336.0,386.0,1458.0,9519.0,3154.0,396.0,2952.0,4014.0,396.0,2586.0,943.0,1606.0,466.0,3171.0,671.0,2731.0,1980.0,1124.0,2606.0,3158.0,188.0,1097.0,4923.0,2078.0,2322.0,290.0,816.0,1096.0,426.0,333.0,3219.0,1065.0,906.0,3592.0,8258.0,870.0,828.0,380.0,3552.0,2690.0,2002.0,655.0,4142.0,2806.0,378.0,556.0,1621.0,1268.0,1574.0,1470.0,2114.0,198.0,1131.0,278.0,4186.0,333.0,3070.0,1885.0,576.0,689.0,3309.0,193.0,2934.0,663.0,1761.0,909.0,4666.0,2537.0,2166.0,2995.0,656.0,668.0,841.0,2611.0,488.0,2784.0,228.0,748.0,316.0,1639.0,2884.0,2176.0,616.0,5784.0,474.0,145.0,1244.0,1074.0,1378.0,1498.0,406.0,318.0,674.0,468.0,195.0,230.0,1238.0,931.0,454.0,1922.0,571.0,346.0,1681.0,1110.0,12237.0,1255.0,2917.0,476.0,688.0,1478.0,1734.0,368.0,1336.0,296.0,7887.0,6986.0,3433.0,1014.0,4178.0,2126.0,9179.0,250.0,1507.0,3632.0,680.0,376.0,2059.0,308.0,1832.0,3864.0,290.0,5182.0,3131.0,978.0,945.0,336.0,2914.0,3771.0,527.0,404.0,746.0,820.0,476.0,6195.0,2042.0,2309.0,2878.0,2609.0,278.0,1136.0,2240.0,508.0,550.0,1567.0,6207.0,1698.0,814.0,544.0,1332.0,1464.0,1418.0,544.0,1034.0,280.0,176.0,6119.0,356.0,226.0,363.0,446.0,7877.0,796.0,1248.0,406.0,2855.0,358.0,3054.0,2118.0,449.0,3648.0,456.0,1510.0,1086.0,366.0,3823.0,2348.0,2292.0,178.0,308.0,256.0,275.0,2458.0,1323.0,1600.0,1005.0,188.0,939.0,458.0,702.0,303.0,5949.0,1024.0,2084.0,1603.0,3356.0,423.0,526.0,846.0,950.0,1335.0,3898.0,662.0,2193.0,4054.0,418.0,3400.0,4459.0,818.0,2901.0,505.0,3701.0,1971.0,263.0,378.0,686.0,828.0,4982.0,951.0,678.0,246.0,1890.0,1398.0,1982.0,1277.0,120.0,1434.0,2478.0,3571.0,823.0,2373.0,458.0,418.0,226.0,890.0,2364.0,416.0,818.0,158.0,531.0,2770.0,378.0,674.0,176.0,3272.0,410.0,2181.0,1710.0,3172.0,506.0,2476.0,2668.0,330.0,2386.0,366.0,718.0,742.0,4326.0,376.0,636.0,180.0,881.0,1238.0,338.0,256.0,356.0,366.0,1864.0,5539.0,1294.0,290.0,378.0,1238.0,716.0,2605.0,196.0,165.0,2252.0,9247.0,553.0,618.0,328.0,1645.0,696.0,995.0,672.0,1116.0,556.0,1242.0,376.0,147.0,456.0,2482.0,358.0,263.0,843.0,3825.0,436.0,919.0,1420.0,4499.0,2698.0,992.0,6041.0,1182.0,2460.0,4599.0,1729.0,566.0,686.0,1208.0,3774.0,6594.0,3980.0,1322.0,2683.0,793.0,1620.0,3292.0,1240.0,3256.0,202.0,568.0,590.0,739.0,3737.0,801.0,210.0,436.0,270.0,396.0,582.0,632.0,462.0,1554.0,1136.0,2686.0,4328.0,1143.0,366.0,228.0,192.0,6206.0,338.0,1764.0,4900.0,1016.0,1573.0,1397.0,440.0,694.0,6831.0,243.0,199.0,1545.0,4866.0,510.0,2908.0,290.0,1530.0,1373.0,555.0,386.0,1448.0,906.0,170.0,506.0,308.0,5952.0,4134.0,325.0,878.0,782.0,679.0,1597.0,8103.0,3608.0,511.0,801.0,1098.0,781.0,1925.0,496.0,2741.0,398.0,526.0,8354.0,619.0,410.0,905.0,376.0,1734.0,952.0,1827.0,5391.0,2122.0,654.0,661.0,608.0,1671.0,3110.0,831.0,216.0,2406.0,869.0,2212.0,646.0,283.0,1619.0,976.0,333.0,296.0,1116.0,1148.0,6246.0,2328.0,436.0,4773.0,586.0,396.0,198.0,358.0,718.0,2544.0,168.0,768.0,3033.0,4783.0,3234.0,4255.0,519.0,891.0,934.0,908.0,5426.0,5813.0,2336.0,3527.0,1543.0,5345.0,2536.0,3681.0,5102.0,173.0,1434.0,701.0,5074.0,1685.0,323.0,5734.0,510.0,3271.0,453.0,160.0,6750.0,1298.0,4202.0,1482.0,5588.0,1049.0,995.0,997.0,408.0,521.0,896.0,320.0,323.0,2698.0,276.0,393.0,348.0,2586.0,1164.0,168.0,3414.0,228.0,1296.0,1238.0,1084.0,13449.0,4404.0,2288.0,493.0,1034.0,646.0,866.0,403.0,328.0,443.0,1696.0,2783.0,452.0,546.0,278.0,1174.0,591.0,706.0,741.0,584.0,3778.0,1345.0,398.0,530.0,378.0,6606.0,534.0,2276.0,3619.0,785.0,2382.0,1270.0,3607.0,3609.0,550.0,428.0,6468.0,6087.0,736.0,2910.0,301.0,3004.0,290.0,323.0,2901.0,9345.0,338.0,1805.0,1059.0,718.0,438.0,494.0,816.0,673.0,4718.0,1714.0,1720.0,2112.0,1783.0,3884.0,360.0,973.0,270.0,3298.0,2343.0,1476.0,366.0,546.0,996.0,403.0,316.0,2224.0,273.0,1060.0,4829.0,178.0,1180.0,1228.0,576.0,806.0,786.0,1248.0,774.0,2747.0,456.0,3496.0,4232.0,596.0,1902.0,1346.0,1097.0,1094.0,552.0,4816.0,3102.0,1298.0,1200.0,511.0,748.0,5608.0,388.0,406.0,248.0,794.0,3693.0,398.0,546.0,4279.0,709.0,140.0,574.0,968.0,3410.0,4354.0,3315.0,4681.0,2448.0,1558.0,1375.0,6064.0,594.0,3806.0,1837.0,691.0,466.0,336.0,2739.0,1478.0,804.0,495.0,1332.0,2878.0,548.0,3686.0,3654.0,1158.0,4706.0,495.0,4786.0,240.0,378.0,276.0,4024.0,6334.0,1401.0,198.0,205.0,236.0,296.0,3017.0,416.0,526.0,1528.0,278.0,1563.0,1751.0,674.0,931.0,661.0,408.0,170.0,8362.0,938.0,1027.0,1866.0,799.0,496.0,698.0,1928.0,433.0,633.0,3040.0,4558.0,476.0,791.0,4261.0,466.0,3728.0,1661.0,358.0,1386.0,2944.0,436.0,2288.0,5394.0,415.0,862.0,488.0,338.0,448.0,616.0,1556.0,933.0,554.0,290.0,2479.0,495.0,1168.0,978.0,336.0,2278.0,1587.0,2768.0,2176.0,2826.0,388.0,812.0,1354.0,1776.0,286.0,614.0,440.0,1048.0,1098.0,768.0,2780.0,486.0,603.0,1663.0,3393.0,2028.0,903.0,666.0,2611.0,1349.0,3442.0,3220.0,689.0,559.0,1450.0,772.0,226.0,1165.0,1002.0,163.0,448.0,1907.0,421.0,3755.0,836.0,1046.0,438.0,4424.0,4376.0,962.0,208.0,378.0,460.0,691.0,1242.0,503.0,1388.0,1349.0,2290.0,256.0,565.0,2490.0,1646.0,248.0,5815.0,816.0,3771.0,626.0,1298.0,425.0,288.0,2440.0,1582.0,1208.0,1678.0,668.0,1060.0,256.0,6697.0,185.0,1101.0,2722.0,352.0,1199.0,1178.0,1596.0,256.0,366.0,6171.0,936.0,190.0,1132.0,1208.0,3282.0,323.0,470.0,2869.0,1198.0,1479.0,4559.0,1845.0,517.0,511.0,836.0,748.0,433.0,1261.0,862.0,3602.0,556.0,1431.0,356.0,1261.0,5986.0,3020.0,3435.0,676.0,1932.0,203.0,4423.0,733.0,683.0,1048.0,804.0,421.0,2816.0,1118.0,408.0,959.0,1468.0,1538.0,148.0,266.0,225.0,356.0,343.0,584.0,619.0,2490.0,292.0,278.0,456.0,1739.0,832.0,4179.0,410.0,3726.0,1052.0,942.0,650.0,826.0,703.0,276.0,2538.0,3576.0,1960.0,876.0,5240.0,543.0,280.0,2166.0,200.0,1122.0,1364.0,1528.0,5702.0,583.0,711.0,3277.0,1188.0,781.0,2308.0,2098.0,1052.0,208.0,765.0,916.0,867.0,4956.0,1386.0,1044.0,1608.0,5158.0,656.0,5942.0,722.0,290.0,416.0,1906.0,2742.0,1852.0,165.0,945.0,674.0,396.0,1576.0,518.0,4152.0,1856.0,2008.0,2448.0,706.0,658.0,7661.0,263.0,6136.0,4312.0,978.0,1117.0,308.0,516.0,118.0,1414.0,266.0,190.0,703.0,478.0,388.0,494.0,6356.0,608.0,346.0,298.0,3833.0,3176.0,2676.0,318.0,4440.0,1748.0,1290.0,2227.0,1076.0,1453.0,3615.0,2266.0,3032.0,228.0,485.0,217.0,1090.0,894.0,218.0,3187.0,1746.0,376.0,3222.0,782.0,1983.0,2743.0,734.0,1245.0,3700.0,1680.0,1258.0,561.0,4814.0,1175.0,400.0,2309.0,466.0,1288.0,1761.0,436.0,1166.0,2286.0,308.0,3411.0,498.0,720.0,398.0,601.0,1188.0,240.0,2190.0,376.0,1189.0,326.0,1234.0,379.0,4256.0,320.0,968.0,5769.0,836.0,1196.0,1710.0,1198.0,809.0,600.0,425.0,1477.0,2852.0,428.0,298.0,1072.0,1694.0,1958.0,194.0,380.0,7752.0,836.0,280.0,168.0,2153.0,688.0,2880.0,310.0,506.0,1078.0,2603.0,446.0,620.0,2228.0,223.0,4474.0,358.0,413.0,275.0,1108.0,416.0,3930.0,3081.0,228.0,1284.0,3716.0,2716.0,1318.0,2629.0,2370.0,4923.0,4092.0,2988.0,2302.0,318.0,500.0,3597.0,338.0,178.0,5268.0,176.0,2264.0,894.0,1924.0,818.0,3756.0,1508.0,928.0,1204.0,948.0,959.0,400.0,237.0,250.0,4527.0,268.0,694.0,510.0,155.0,178.0,1648.0,3810.0,3419.0,366.0,702.0,1063.0,216.0,216.0,2584.0,258.0,4000.0,346.0,753.0,1354.0,430.0,1269.0,366.0,773.0,3300.0,303.0,1305.0,734.0,896.0,1504.0,619.0,378.0,223.0,338.0,1786.0,528.0,2895.0,1901.0,12099.0,1383.0,1220.0,1432.0,1387.0,1258.0,795.0,1248.0,403.0,268.0,2512.0,398.0,3025.0,1451.0,1816.0,480.0,2798.0,1062.0,536.0,1302.0,3470.0,2853.0,428.0,1420.0,953.0,548.0,1868.0,2343.0,230.0,873.0,2498.0,231.0,2565.0,335.0,1538.0,1799.0,358.0,3438.0,276.0,2839.0,1625.0,645.0,216.0,8146.0,1554.0,612.0,1149.0,668.0,1408.0,283.0,2606.0,333.0,1353.0,986.0,748.0,979.0,1046.0,789.0,905.0,203.0,3380.0,268.0,505.0,180.0,303.0,13119.0,276.0,1544.0,1158.0,266.0,918.0,1005.0,1182.0,1690.0,393.0,1154.0,2953.0,1105.0,350.0,722.0,498.0,606.0,120.0,1405.0,388.0,273.0,1282.0,202.0,7084.0,4222.0,3234.0,1518.0,1248.0,145.0,1674.0,551.0,2477.0,243.0,4165.0,7779.0,1513.0,1022.0,807.0,2950.0,206.0,368.0,3397.0,503.0,599.0,1016.0,698.0,3866.0,2255.0,432.0,1370.0,1170.0,208.0,633.0,128.0,160.0,415.0,1401.0,1578.0,1458.0,218.0,868.0,810.0,140.0,692.0,173.0,2350.0,188.0,345.0,2260.0,1555.0,435.0,1168.0,205.0,1746.0,2598.0,370.0,596.0,356.0,860.0,2445.0,676.0,946.0,890.0,896.0,534.0,1170.0,370.0,1278.0,2679.0,2496.0,1348.0,471.0,428.0,875.0,788.0,828.0,4096.0,694.0,488.0,879.0,709.0,4370.0,541.0,2691.0,366.0,5884.0,1038.0,2858.0,648.0,1968.0,2635.0,318.0,223.0,947.0,210.0,1240.0,1158.0,6051.0,701.0,1746.0,353.0,188.0,550.0,248.0,1693.0,438.0,1788.0,376.0,2814.0,316.0,720.0,5870.0,1390.0,512.0,828.0,300.0,5283.0,2636.0,156.0,4028.0,208.0,3420.0,406.0,1145.0,250.0,546.0,716.0,1285.0,446.0,506.0,1576.0,871.0,1058.0,210.0,2348.0,3934.0,2545.0,2217.0,569.0,1434.0,884.0,1249.0,978.0,532.0,320.0,2034.0,356.0,737.0,4508.0,1594.0,466.0,343.0,1761.0,1646.0,2440.0,2062.0,2548.0,276.0,1982.0,2868.0,448.0,1300.0,838.0,496.0,433.0,1330.0,526.0,366.0,2598.0,1841.0,752.0,1896.0,2133.0,1879.0,1496.0,2109.0,546.0,704.0,1254.0,401.0,1074.0,368.0,466.0,1719.0,469.0,488.0,658.0,694.0,386.0,413.0,870.0,3034.0,396.0,198.0,2686.0,2648.0,2864.0,516.0,3212.0,223.0,591.0,788.0,398.0,286.0,4260.0,2485.0,1571.0,566.0,2167.0,1098.0,388.0,524.0,3558.0,350.0,486.0,4063.0,2128.0,466.0,1435.0,268.0,5842.0,380.0,181.0,316.0,672.0,828.0,776.0,770.0,884.0,988.0,4240.0,1606.0,1053.0,2842.0,618.0,566.0,676.0,215.0,203.0,2762.0,490.0,356.0,1588.0,778.0,316.0,563.0,1223.0,2818.0,1787.0,1880.0,656.0,1550.0,2580.0,1019.0,1086.0,762.0,328.0,1172.0,457.0,996.0,1596.0,446.0,249.0,136.0,1198.0,1708.0,276.0,198.0,538.0,665.0,968.0,812.0,286.0,270.0,266.0,1096.0,2261.0,178.0,723.0,1520.0,1318.0,237.0,2899.0,3698.0,878.0,366.0,1646.0,878.0,3361.0,842.0,2629.0,506.0,286.0,1298.0,556.0,1422.0,918.0,771.0,2348.0,2498.0,1794.0,303.0,325.0,343.0,599.0,1157.0,1864.0,300.0,453.0,858.0,115.0,536.0,836.0,5504.0,155.0,1028.0,2106.0,626.0,2112.0,925.0,666.0,646.0,7185.0,1489.0,306.0,876.0,348.0,1506.0,928.0,3188.0,528.0,1243.0,2886.0,1833.0,568.0,722.0,353.0,1038.0,594.0,3633.0,336.0,2831.0,242.0,303.0,596.0,778.0,692.0,1198.0,1450.0,156.0,1761.0,258.0,829.0,468.0,2277.0,646.0,1555.0,1253.0,1356.0,1435.0,255.0,3085.0,2565.0,601.0,343.0,493.0,2700.0,1438.0,248.0,2538.0,6253.0,292.0,626.0,218.0,2558.0,278.0,1924.0,1526.0,297.0,277.0,2426.0,540.0,476.0,2496.0,541.0,1629.0,497.0,2388.0,2590.0,1594.0,856.0,408.0,984.0,203.0,705.0,1278.0,2594.0,507.0,198.0,223.0,821.0,210.0,611.0,1464.0,374.0,618.0,528.0,1013.0,2544.0,419.0,346.0,597.0,2951.0,714.0,296.0,4330.0,404.0,208.0,794.0,2602.0,326.0,1056.0,478.0,458.0,576.0,298.0,446.0,6504.0,248.0,1795.0,806.0,1138.0,268.0,1376.0,2993.0,336.0,904.0,1342.0,649.0,240.0,293.0,1685.0,596.0,368.0,892.0,1497.0,413.0,3196.0,2488.0,6657.0,3058.0,2878.0,626.0,613.0,2630.0,275.0,755.0,168.0,338.0,396.0,398.0,198.0,162.0,1071.0,1761.0,506.0,216.0,568.0,3279.0,275.0,441.0,210.0,233.0,2998.0,1596.0,548.0,3825.0,393.0,1238.0,1447.0,686.0,2273.0,1318.0,608.0,263.0,746.0,246.0,444.0,730.0,248.0,180.0,2428.0,2288.0,520.0,608.0,466.0,1258.0,3034.0,3222.0,616.0,1973.0,530.0,936.0,693.0,1520.0,3940.0,1006.0,500.0,737.0,641.0,200.0,1192.0,768.0,1216.0,390.0,1248.0,1310.0,844.0,288.0,223.0,970.0,718.0,1198.0,636.0,328.0,408.0,2675.0,504.0,286.0,566.0,820.0,5128.0,1360.0,868.0,873.0,2010.0,306.0,368.0,288.0,964.0,798.0,973.0,685.0,716.0,9083.0,596.0,222.0,268.0,556.0,844.0,393.0,876.0,1357.0,202.0,3824.0,378.0,396.0,403.0,6343.0,955.0,300.0,1412.0,987.0,874.0,293.0,2283.0,1804.0,426.0,759.0,1180.0,396.0,416.0,364.0,598.0,2764.0,696.0,586.0,400.0,268.0,1508.0,173.0,4966.0,724.0,3151.0,396.0,246.0,177.0,528.0,824.0,526.0,296.0,238.0,751.0,616.0,316.0,316.0,3076.0,3510.0,1166.0,396.0,1328.0,1140.0,743.0,172.0,2128.0,346.0,415.0,438.0,2335.0,248.0,303.0,444.0,2288.0,285.0,466.0,1785.0,188.0,486.0,317.0,343.0,4938.0,623.0,1300.0,2548.0,658.0,4081.0,1188.0,2553.0,1318.0,2894.0,482.0,794.0,221.0,225.0,3420.0,278.0,238.0,265.0,1238.0,1048.0,378.0,238.0,2428.0,1181.0,1210.0,238.0,323.0,2945.0,306.0,1781.0,846.0,982.0,1640.0,353.0,256.0,168.0,941.0,720.0,668.0,635.0,356.0,682.0,240.0,689.0,3209.0,4026.0,276.0,576.0,346.0,3300.0,2438.0,440.0,340.0,496.0,790.0,4336.0,1545.0,225.0,1188.0,3988.0,978.0,2908.0,388.0,423.0,6046.0,356.0,2613.0,594.0,595.0,286.0,496.0,509.0,650.0,492.0,380.0,220.0,276.0,598.0,910.0,250.0,148.0,260.0,338.0,133.0,323.0,386.0,1338.0,592.0,645.0,786.0,1149.0,486.0,3111.0,944.0,780.0,7881.0,1366.0,1978.0,415.0,233.0,208.0,220.0,247.0,376.0,531.0,1442.0,736.0,1477.0,846.0,829.0,313.0,1684.0,734.0,2508.0,173.0,278.0,877.0,198.0,496.0,188.0,815.0,296.0,258.0,457.0,726.0,240.0,456.0,293.0,248.0,543.0,290.0,2088.0,1302.0,576.0,764.0,732.0,1395.0,1441.0,1559.0,2298.0,876.0,1155.0,694.0,228.0,1874.0,1173.0,1438.0,1930.0,613.0,370.0,466.0,278.0,984.0,911.0,366.0,1478.0,220.0,1558.0,243.0,1408.0,368.0,701.0,577.0,770.0,918.0,1728.0,538.0,1140.0,368.0,666.0,363.0,1306.0,1390.0,305.0,428.0,318.0,300.0,178.0,253.0,1202.0,740.0,770.0,486.0,2280.0,408.0,368.0,496.0,478.0,338.0,180.0,1198.0,238.0,248.0,842.0,674.0,1788.0,428.0,1073.0,1300.0,352.0,186.0,469.0,433.0,2980.0,202.0,497.0,775.0,1877.0,246.0,2544.0,2520.0,1200.0,278.0,356.0,566.0,1322.0,949.0,3970.0,378.0,1163.0,742.0,2172.0,3770.0,176.0,2895.0,2042.0,2896.0,812.0,516.0,929.0,830.0,316.0,2650.0,546.0,2266.0,2050.0,338.0,386.0,483.0,868.0,791.0,256.0,671.0,754.0,1210.0,350.0,1166.0,346.0,463.0,578.0,956.0,889.0,496.0,372.0,1776.0,348.0,1108.0,1534.0,376.0,340.0,364.0,209.0,276.0,1904.0,408.0,3135.0,721.0,202.0,1531.0,790.0,1144.0,3290.0,326.0,918.0,278.0,396.0,1991.0,548.0,1470.0,2026.0,253.0,979.0,358.0,643.0,1625.0,1360.0,764.0,193.0,326.0,622.0,1152.0,307.0,400.0,786.0,486.0,717.0,513.0,1278.0,952.0,1178.0,466.0,3951.0,260.0,888.0,2363.0,403.0,2025.0,1296.0,3438.0,348.0,362.0,1308.0,318.0,368.0,2556.0,1409.0,2463.0,2726.0,376.0,496.0,3653.0,298.0,350.0,1548.0,424.0,531.0,1168.0,226.0,426.0,475.0,2638.0,205.0,1348.0,276.0,968.0,276.0,1044.0,238.0,2348.0,270.0,1378.0,1195.0,384.0,366.0,1908.0,147.0,406.0,178.0,298.0,1516.0,231.0,546.0,366.0,1124.0,276.0,2880.0,513.0,493.0,395.0,1636.0,338.0,3704.0,406.0,225.0,266.0,403.0,669.0,226.0,190.0,380.0,859.0,2478.0,1108.0,746.0,247.0,799.0,4182.0,1821.0,277.0,413.0,566.0,208.0,426.0,836.0,966.0,468.0,3590.0,690.0,378.0,945.0,466.0,236.0,2994.0,604.0,1446.0,898.0,791.0,278.0,276.0,488.0,1384.0,2518.0,446.0,3904.0,433.0,529.0,1662.0,498.0,1558.0,436.0,1350.0,564.0,455.0,2722.0,812.0,466.0,200.0,484.0,613.0,285.0,270.0,450.0,516.0,218.0,238.0,2200.0,353.0,583.0,446.0,2008.0,146.0,226.0,929.0,2488.0,2716.0,286.0,208.0,756.0,928.0,338.0,273.0,787.0,445.0,2015.0,376.0,278.0,333.0,208.0,533.0,663.0,827.0,2708.0,176.0,3691.0,145.0,771.0,1749.0,591.0,1261.0,456.0,438.0,646.0,478.0,714.0,446.0,996.0,330.0,348.0,738.0,386.0,328.0,454.0,1032.0,1050.0,2698.0,326.0,595.0,596.0,673.0,240.0,1088.0,2956.0,784.0,476.0,426.0,278.0,1658.0,1614.0,180.0,7658.0,456.0,382.0,468.0,228.0,559.0,2458.0,273.0,548.0,1128.0,884.0,1444.0,832.0,1548.0,1054.0,246.0,204.0,290.0,831.0,486.0,423.0,3598.0,1598.0,1448.0,618.0,4430.0,435.0,824.0,476.0,366.0,496.0,238.0,306.0,646.0,328.0,500.0,1139.0,336.0,750.0,348.0,356.0,658.0,266.0,904.0,243.0,1348.0,1250.0,504.0,480.0,658.0,739.0,240.0,358.0,466.0,2622.0,222.0,2260.0,300.0,868.0,688.0,471.0,438.0,998.0,1028.0,208.0,1531.0,1090.0,300.0,881.0,3208.0,998.0,3226.0,216.0,398.0,186.0,340.0,283.0,2878.0,2608.0,594.0,2939.0,2295.0,202.0,1235.0,1329.0,180.0,1119.0,534.0,2968.0,490.0,612.0,736.0,322.0,763.0,328.0,578.0,200.0,300.0,463.0,536.0,1298.0,195.0,1198.0,276.0,1099.0,373.0,846.0,1525.0,205.0,348.0,348.0,241.0,378.0,1528.0,1486.0,246.0,1364.0,376.0,1328.0,323.0,3211.0,336.0,268.0,258.0,2116.0,348.0,186.0,256.0,196.0,2923.0,238.0,115.0,456.0,2617.0,260.0,316.0,3300.0,258.0,918.0,841.0,648.0,1405.0,306.0,333.0,331.0,248.0,350.0,1202.0,300.0,485.0,488.0,556.0,436.0,1408.0,326.0,186.0,333.0,1620.0,1200.0,746.0,383.0,464.0,606.0,172.0,671.0,386.0,1003.0,444.0,226.0,566.0,2780.0,446.0,655.0,870.0,986.0,328.0,1298.0,1238.0,538.0,1432.0,1325.0,1188.0,648.0,818.0,1628.0,2300.0,308.0,3356.0,696.0,935.0,2498.0,752.0,336.0,370.0,1784.0,313.0,125.0,1534.0,2793.0,320.0,286.0,2390.0,386.0,1270.0,7461.0,488.0,3163.0,428.0,796.0,950.0,386.0,1318.0,1780.0,2451.0,2370.0,484.0,368.0,1914.0,210.0,632.0,306.0,313.0,246.0,368.0,566.0,216.0,246.0,246.0,336.0,576.0,398.0,183.0,1398.0,138.0,1001.0,792.0,562.0,968.0,780.0,1426.0,312.0,845.0,596.0,700.0,616.0,218.0,290.0,3179.0,337.0,198.0,182.0,326.0,396.0,238.0,699.0,386.0,522.0,1245.0,698.0,156.0,1438.0,413.0,506.0,1357.0,2256.0,240.0,1378.0,1078.0,436.0,196.0,345.0,223.0,780.0,448.0,283.0,2000.0,767.0,336.0,3097.0,346.0,208.0,386.0,2881.0,586.0,346.0,498.0,316.0,2778.0,885.0,1698.0,590.0,285.0,1264.0,208.0,216.0,376.0,328.0,1498.0,316.0,396.0,373.0,325.0,598.0,93.0,818.0,256.0,185.0,914.0,1298.0,824.0,275.0,1620.0,738.0,1418.0,2260.0,486.0,2302.0,618.0,466.0,1108.0,3091.0,218.0,2613.0,538.0,286.0,1496.0,1347.0,236.0,343.0,1331.0,378.0,428.0,1681.0,250.0,5100.0,300.0,1195.0,633.0,436.0,516.0,1290.0,3378.0,1250.0,188.0,882.0,1266.0,235.0,494.0,371.0,265.0,533.0,1192.0,443.0,1335.0,654.0,1641.0,358.0,466.0,215.0,178.0,484.0,1218.0,426.0,306.0,508.0,2750.0,828.0,584.0,1280.0,366.0,1258.0,1689.0,2181.0,376.0,338.0,753.0,546.0,724.0,408.0,220.0,3861.0,1124.0,406.0,530.0,918.0,639.0,432.0,300.0,286.0,1200.0,196.0,498.0,248.0,3556.0,1338.0,286.0,3459.0,366.0,640.0,2698.0,253.0,668.0,250.0,1736.0,1068.0,670.0,198.0,383.0,491.0,898.0,248.0,178.0,1252.0,230.0,428.0,506.0,358.0,305.0,1248.0,778.0,1230.0,1278.0,526.0,1298.0,4888.0,578.0,478.0,656.0,721.0,609.0,348.0,345.0,1030.0,919.0,3180.0,496.0,506.0,268.0,246.0,573.0,446.0,343.0,1180.0,218.0,273.0,436.0,238.0,380.0,1302.0,273.0,408.0,346.0,4046.0,656.0,832.0,977.0,446.0,1565.0,216.0,248.0,210.0,1354.0,724.0,323.0,266.0,290.0,2348.0,986.0,436.0,618.0,280.0,448.0,246.0,266.0,1677.0,4813.0,768.0,1700.0,3330.0,748.0,297.0,162.0,828.0,336.0,260.0,2363.0,1332.0,388.0,346.0,1280.0,338.0,1468.0,388.0,243.0,541.0,731.0,642.0,1288.0,208.0,328.0,823.0,436.0,393.0,1646.0,170.0,138.0,545.0,156.0,318.0,258.0,2614.0,2528.0,696.0,2338.0,246.0,440.0,473.0,345.0,436.0,200.0,228.0,218.0,172.0,534.0,433.0,476.0,358.0,1250.0,683.0,1681.0,798.0,790.0,2583.0,550.0,386.0,828.0,646.0,273.0,438.0,794.0,2395.0,1066.0,418.0,316.0,1310.0,1568.0,678.0,1598.0,168.0,476.0,330.0,468.0,624.0,208.0,428.0,1198.0,410.0,308.0,272.0,494.0,296.0,433.0,328.0,848.0,476.0,168.0,280.0,735.0,316.0,316.0,188.0,436.0,368.0,1108.0,238.0,865.0,498.0,678.0,656.0,626.0,762.0,1302.0,268.0,2893.0,605.0,2633.0,323.0,356.0,1315.0,285.0,526.0,1258.0,476.0,918.0,732.0,346.0,458.0,2338.0,400.0,1580.0,443.0,145.0,486.0,718.0,426.0,486.0,1380.0,250.0,151.0,1400.0,311.0,416.0,370.0,905.0,2633.0,168.0,210.0,619.0,280.0,386.0,400.0,383.0,228.0,276.0,296.0,216.0,256.0,596.0,718.0,512.0,418.0,228.0,2684.0,356.0,518.0,1514.0,338.0,393.0,338.0,570.0,210.0,218.0,1045.0,176.0,438.0,398.0,488.0,400.0,508.0,315.0,226.0,1238.0,296.0,4680.0,426.0,436.0,3280.0,165.0,556.0,176.0,484.0,250.0,3181.0,1202.0,229.0,436.0,1558.0,808.0,296.0,245.0,212.0,1673.0,2360.0,315.0,908.0,786.0,580.0,628.0,386.0,1528.0,595.0,496.0,593.0,316.0,353.0,202.0,255.0,363.0,348.0,226.0,1978.0,1183.0,526.0,1328.0,1898.0,335.0,305.0,1248.0,236.0,293.0,1487.0,516.0,168.0,1358.0,1200.0,298.0,238.0,533.0,826.0,706.0,2268.0,1065.0,1228.0,298.0,436.0,558.0,1480.0,198.0,356.0,383.0,1338.0,1090.0,666.0,1049.0,238.0,436.0,566.0,438.0,338.0,198.0,1348.0,216.0,343.0,656.0,396.0,336.0,383.0,1210.0,130.0,313.0,628.0,2298.0,200.0,376.0,98.0,566.0,572.0,553.0,496.0,2568.0,160.0,236.0,3124.0,266.0,138.0,4964.0,913.0,338.0,318.0,506.0,253.0,248.0,546.0,2580.0,2908.0,2878.0,250.0,204.0,486.0,308.0,2576.0,1370.0,267.0,516.0,456.0,290.0,202.0,228.0,378.0,328.0,1190.0,446.0,738.0,426.0,216.0,1754.0,272.0,739.0,368.0,135.0,230.0,443.0,516.0,246.0,210.0,468.0,2300.0,1028.0,706.0,195.0,828.0,226.0,195.0,799.0,2300.0,365.0,376.0,245.0,472.0,278.0,419.0,226.0,378.0,204.0,298.0,430.0,125.0,1308.0,508.0,623.0,436.0,1118.0,996.0,413.0,1298.0,1701.0,220.0,358.0,416.0,578.0,188.0,258.0,1135.0,208.0,168.0,286.0,395.0,423.0,758.0,1018.0,318.0,556.0,636.0,330.0,843.0,260.0,336.0,1318.0,168.0,305.0,795.0,276.0,2308.0,1220.0,1780.0,368.0,326.0,205.0,318.0,276.0,328.0,860.0,336.0,290.0,236.0,406.0,198.0,560.0,229.0,368.0,1046.0,1080.0,446.0,141.0,253.0,2338.0,2200.0,193.0,306.0,558.0,440.0,273.0,2338.0,2570.0,3300.0,456.0,733.0,398.0,608.0,268.0,386.0,1110.0,306.0,236.0,503.0,788.0,348.0,343.0,166.0,193.0,506.0,338.0,188.0,293.0,546.0,403.0,248.0,328.0,516.0,416.0,689.0,2658.0,1220.0,479.0,948.0,386.0,353.0,380.0,2335.0,1030.0,333.0,240.0,263.0,683.0,3726.0,446.0,536.0,436.0,1418.0,192.0,1475.0,230.0,283.0,1348.0,200.0,450.0,1108.0,213.0,1536.0,242.0,276.0,386.0,3300.0,1302.0,718.0,905.0,768.0,436.0,175.0,413.0,204.0,236.0,786.0,283.0,1398.0,204.0,246.0,240.0,1178.0,760.0,443.0,533.0,486.0,278.0,210.0,1448.0,300.0,675.0,378.0,508.0,456.0,190.0,323.0,148.0,306.0,1066.0,946.0,548.0,448.0,743.0,456.0,226.0,2530.0,443.0,663.0,220.0,455.0,373.0,1868.0,278.0,246.0,198.0,243.0,378.0,268.0,2380.0,1298.0,635.0,236.0,1298.0,498.0,250.0,243.0,768.0,390.0,2568.0,542.0,413.0,188.0,2545.0,1348.0,188.0,1368.0,350.0,496.0,358.0,403.0,1288.0,429.0,508.0,1558.0,383.0,398.0,80.0,236.0,283.0,346.0,300.0,313.0,298.0,349.0,282.0,348.0,288.0,1230.0,868.0,3500.0,605.0,243.0,338.0,276.0,286.0,632.0,396.0,146.0,288.0,1400.0,330.0,198.0,405.0,788.0,2650.0,266.0,203.0,143.0,276.0,246.0,2328.0,243.0,188.0,473.0,5058.0,726.0,483.0,336.0,3180.0],\"boxpoints\":\"all\",\"jitter\":0.3,\"pointpos\":-1.8}];\n",
       "            var layout = \"\";\n",
       "            Plotly.newPlot('7e928921-dee6-4c7e-bd16-a7e899ebe990', data, layout);\n",
       "        \n",
       "});\r\n",
       "};\n",
       "// ensure `require` is available globally\r\n",
       "if ((typeof(require) !==  typeof(Function)) || (typeof(require.config) !== typeof(Function))) {\r\n",
       "    let require_script = document.createElement('script');\r\n",
       "    require_script.setAttribute('src', 'https://cdnjs.cloudflare.com/ajax/libs/require.js/2.3.6/require.min.js');\r\n",
       "    require_script.setAttribute('type', 'text/javascript');\r\n",
       "    \r\n",
       "    \r\n",
       "    require_script.onload = function() {\r\n",
       "        renderPlotly();\r\n",
       "    };\r\n",
       "\r\n",
       "    document.getElementsByTagName('head')[0].appendChild(require_script);\r\n",
       "}\r\n",
       "else {\r\n",
       "    renderPlotly();\r\n",
       "}\r\n",
       "\n",
       "</script>\n"
      ]
     },
     "metadata": {},
     "output_type": "display_data"
    },
    {
     "data": {
      "text/html": [
       "<table><thead><tr><th><i>index</i></th><th>customer_id</th><th>sum_amount</th></tr></thead><tbody><tr><td>0</td><td><div class=\"dni-plaintext\">CS021515000126</div></td><td><div class=\"dni-plaintext\">9693</div></td></tr><tr><td>1</td><td><div class=\"dni-plaintext\">CS039414000052</div></td><td><div class=\"dni-plaintext\">11438</div></td></tr><tr><td>2</td><td><div class=\"dni-plaintext\">CS014415000077</div></td><td><div class=\"dni-plaintext\">14076</div></td></tr><tr><td>3</td><td><div class=\"dni-plaintext\">CS027414000084</div></td><td><div class=\"dni-plaintext\">11907</div></td></tr><tr><td>4</td><td><div class=\"dni-plaintext\">CS041411000001</div></td><td><div class=\"dni-plaintext\">9694</div></td></tr><tr><td>5</td><td><div class=\"dni-plaintext\">CS030415000197</div></td><td><div class=\"dni-plaintext\">11972</div></td></tr><tr><td>6</td><td><div class=\"dni-plaintext\">CS009415000038</div></td><td><div class=\"dni-plaintext\">14033</div></td></tr><tr><td>7</td><td><div class=\"dni-plaintext\">CS030214000008</div></td><td><div class=\"dni-plaintext\">10357</div></td></tr><tr><td>8</td><td><div class=\"dni-plaintext\">CS021515000056</div></td><td><div class=\"dni-plaintext\">12036</div></td></tr><tr><td>9</td><td><div class=\"dni-plaintext\">CS023515000195</div></td><td><div class=\"dni-plaintext\">10688</div></td></tr></tbody></table>"
      ]
     },
     "execution_count": 82,
     "metadata": {},
     "output_type": "execute_result"
    }
   ],
   "source": [
    "//# skleanのpreprocessing.scaleを利用するため、標本標準偏差で計算されている\n",
    "//df_sales_amount = df_receipt.query('not customer_id.str.startswith(\"Z\")', engine='python'). \\\n",
    "//    groupby('customer_id').agg({'amount':'sum'}).reset_index()\n",
    "//df_sales_amount['amount_ss'] = preprocessing.scale(df_sales_amount['amount'])\n",
    "//df_sales_amount.query('abs(amount_ss) >= 3').head(10)\n",
    "var df_tmp = df_receipt.Where(r => ! r.customer_id.StartsWith(\"Z\"))\n",
    "    .GroupBy(r => r.customer_id)\n",
    "    .Select(r => new {\n",
    "        customer_id = r.Key,\n",
    "        sum_amount = r.Sum(t => t.amount),\n",
    "    }).ToList();\n",
    "var dataList = df_tmp\n",
    "    .Select(r => (double) r.sum_amount).ToList();\n",
    "\n",
    "// 3σ（サン・シグマ） : 標準正規分布の 99.7％ 信頼区間 の間から 外れている値を抽出する。\n",
    "var average = dataList.Median();\n",
    "var stdDev = dataList.StandardDeviation(); // 標準偏差\n",
    "var diffArea = new {\n",
    "    average,\n",
    "    stdDev, // 標準偏差\n",
    "    min = average - stdDev ,\n",
    "    max = average + stdDev ,\n",
    "    min_3 = average - stdDev  * 3, // 3σ の 下限値\n",
    "    max_3 = average + stdDev  * 3, // 3σ の 上限値\n",
    "};\n",
    "// 値の表示\n",
    "display(diffArea);\n",
    "\n",
    "// 散布状態の表示\n",
    "display(Chart.Plot(\n",
    "    new Graph.Box()\n",
    "    {\n",
    "        y = dataList,\n",
    "        boxpoints = \"all\",\n",
    "        jitter = 0.3,\n",
    "        pointpos = -1.8\n",
    "    }  \n",
    "));\n",
    "\n",
    "df_tmp.Where(r => r.sum_amount < diffArea.min_3 || diffArea.max_3 < r.sum_amount)\n",
    "    .Take(10)\n",
    "// 結果 "
   ]
  },
  {
   "cell_type": "markdown",
   "metadata": {},
   "source": [
    "---\n",
    "> P-078: レシート明細データフレーム（df_receipt）の売上金額（amount）を顧客単位に合計し、合計した売上金額の外れ値を抽出せよ。ただし、顧客IDが\"Z\"から始まるのものは非会員を表すため、除外して計算すること。なお、ここでは外れ値を第一四分位と第三四分位の差であるIQRを用いて、「第一四分位数-1.5×IQR」よりも下回るもの、または「第三四分位数+1.5×IQR」を超えるものとする。結果は10件表示させれば良い。"
   ]
  },
  {
   "cell_type": "code",
   "execution_count": 83,
   "metadata": {
    "dotnet_interactive": {
     "language": "csharp"
    }
   },
   "outputs": [
    {
     "data": {
      "text/html": [
       "<table><thead><tr><th><i>index</i></th><th>customer_id</th><th>sum_amount</th></tr></thead><tbody><tr><td>0</td><td><div class=\"dni-plaintext\">CS021515000126</div></td><td><div class=\"dni-plaintext\">9693</div></td></tr><tr><td>1</td><td><div class=\"dni-plaintext\">CS039414000052</div></td><td><div class=\"dni-plaintext\">11438</div></td></tr><tr><td>2</td><td><div class=\"dni-plaintext\">CS026414000062</div></td><td><div class=\"dni-plaintext\">9466</div></td></tr><tr><td>3</td><td><div class=\"dni-plaintext\">CS018205000001</div></td><td><div class=\"dni-plaintext\">8739</div></td></tr><tr><td>4</td><td><div class=\"dni-plaintext\">CS010515000120</div></td><td><div class=\"dni-plaintext\">8942</div></td></tr><tr><td>5</td><td><div class=\"dni-plaintext\">CS014415000077</div></td><td><div class=\"dni-plaintext\">14076</div></td></tr><tr><td>6</td><td><div class=\"dni-plaintext\">CS027414000084</div></td><td><div class=\"dni-plaintext\">11907</div></td></tr><tr><td>7</td><td><div class=\"dni-plaintext\">CS015415000061</div></td><td><div class=\"dni-plaintext\">8856</div></td></tr><tr><td>8</td><td><div class=\"dni-plaintext\">CS041411000001</div></td><td><div class=\"dni-plaintext\">9694</div></td></tr><tr><td>9</td><td><div class=\"dni-plaintext\">CS030415000197</div></td><td><div class=\"dni-plaintext\">11972</div></td></tr></tbody></table>"
      ]
     },
     "execution_count": 83,
     "metadata": {},
     "output_type": "execute_result"
    }
   ],
   "source": [
    "var df_sales_amount = df_receipt.Where(r => !r.customer_id.StartsWith(\"Z\"))\n",
    "    .GroupBy(r => r.customer_id)\n",
    "    .Select(r => new {\n",
    "        customer_id = r.Key,\n",
    "        sum_amount = (double) r.Sum(t => t.amount),\n",
    "    });\n",
    "\n",
    "// https://numerics.mathdotnet.com/api/MathNet.Numerics.Statistics/Statistics.htm#Percentile\n",
    "double pct25 = df_sales_amount.Select(r => r.sum_amount).Percentile(25);\n",
    "double pct75 = df_sales_amount.Select(r => r.sum_amount).Percentile(75);\n",
    "double iqr = pct75 - pct25;\n",
    "double amount_low = pct25 - (iqr * 1.5);\n",
    "double amount_hight = pct75 + (iqr * 1.5);\n",
    "\n",
    "// 結果表示\n",
    "df_sales_amount\n",
    "    .Where(r => r.sum_amount < amount_low || amount_hight < r.sum_amount)\n",
    "    .Take(10)"
   ]
  },
  {
   "cell_type": "markdown",
   "metadata": {},
   "source": [
    "---\n",
    "> P-079: 商品データフレーム（df_product）の各項目に対し、欠損数を確認せよ。"
   ]
  },
  {
   "cell_type": "code",
   "execution_count": 84,
   "metadata": {
    "dotnet_interactive": {
     "language": "csharp"
    }
   },
   "outputs": [
    {
     "data": {
      "text/html": [
       "<table><thead><tr><th>product_cd_null</th><th>category_major_cd</th><th>category_medium_cd</th><th>category_small_cd</th><th>unit_price</th><th>unit_cost</th></tr></thead><tbody><tr><td><div class=\"dni-plaintext\">0</div></td><td><div class=\"dni-plaintext\">0</div></td><td><div class=\"dni-plaintext\">0</div></td><td><div class=\"dni-plaintext\">0</div></td><td><div class=\"dni-plaintext\">7</div></td><td><div class=\"dni-plaintext\">7</div></td></tr></tbody></table>"
      ]
     },
     "execution_count": 84,
     "metadata": {},
     "output_type": "execute_result"
    }
   ],
   "source": [
    "var nullCount = new {\n",
    "    product_cd_null = df_product.Where(r => r.product_cd == null).Count(),\n",
    "    category_major_cd = df_product.Where(r => r.category_major_cd == null).Count(),\n",
    "    category_medium_cd = df_product.Where(r => r.category_medium_cd == null).Count(),\n",
    "    category_small_cd = df_product.Where(r => r.category_small_cd == null).Count(),\n",
    "    unit_price = df_product.Where(r => r.unit_price == null).Count(),\n",
    "    unit_cost = df_product.Where(r => r.unit_cost == null).Count(),\n",
    "};\n",
    "\n",
    "nullCount"
   ]
  },
  {
   "cell_type": "markdown",
   "metadata": {},
   "source": [
    "---\n",
    "> P-080: 商品データフレーム（df_product）のいずれかの項目に欠損が発生しているレコードを全て削除した新たなdf_product_1を作成せよ。なお、削除前後の件数を表示させ、前設問で確認した件数だけ減少していることも確認すること。"
   ]
  },
  {
   "cell_type": "code",
   "execution_count": 85,
   "metadata": {
    "dotnet_interactive": {
     "language": "csharp"
    }
   },
   "outputs": [
    {
     "data": {
      "text/html": [
       "<table><thead><tr><th>count_削除前</th><th>count_削除後</th></tr></thead><tbody><tr><td><div class=\"dni-plaintext\">10030</div></td><td><div class=\"dni-plaintext\">10023</div></td></tr></tbody></table>"
      ]
     },
     "execution_count": 85,
     "metadata": {},
     "output_type": "execute_result"
    }
   ],
   "source": [
    "// いずれかの値が null の場合に true を返す\n",
    "bool AnyIsNull(Product c) {\n",
    "    if (c.product_cd == null) return true;\n",
    "    if (c.category_major_cd == null) return true;\n",
    "    if (c.category_medium_cd == null) return true;\n",
    "    if (c.category_small_cd == null) return true;\n",
    "    if (c.unit_cost == null) return true;\n",
    "    if (c.unit_price == null) return true;\n",
    "    return false;\n",
    "}\n",
    "\n",
    "// 欠損の無い物を注sh津\n",
    "var df_product_1 = df_product.Where(r => ! AnyIsNull(r)).ToList();\n",
    "\n",
    "new {\n",
    "    count_削除前 = df_product.Count(),\n",
    "    count_削除後 = df_product_1.Count(),\n",
    "}"
   ]
  },
  {
   "cell_type": "code",
   "execution_count": 86,
   "metadata": {
    "dotnet_interactive": {
     "language": "csharp"
    }
   },
   "outputs": [
    {
     "data": {
      "text/html": [
       "<table><thead><tr><th><i>index</i></th><th>product_cd</th><th>category_major_cd</th><th>category_medium_cd</th><th>category_small_cd</th><th>unit_price</th><th>unit_cost</th></tr></thead><tbody><tr><td>0</td><td><div class=\"dni-plaintext\">P040802007</div></td><td><div class=\"dni-plaintext\">04</div></td><td><div class=\"dni-plaintext\">0408</div></td><td><div class=\"dni-plaintext\">040802</div></td><td><div class=\"dni-plaintext\">&lt;null&gt;</div></td><td><div class=\"dni-plaintext\">&lt;null&gt;</div></td></tr><tr><td>1</td><td><div class=\"dni-plaintext\">P050103021</div></td><td><div class=\"dni-plaintext\">05</div></td><td><div class=\"dni-plaintext\">0501</div></td><td><div class=\"dni-plaintext\">050103</div></td><td><div class=\"dni-plaintext\">&lt;null&gt;</div></td><td><div class=\"dni-plaintext\">&lt;null&gt;</div></td></tr><tr><td>2</td><td><div class=\"dni-plaintext\">P050405009</div></td><td><div class=\"dni-plaintext\">05</div></td><td><div class=\"dni-plaintext\">0504</div></td><td><div class=\"dni-plaintext\">050405</div></td><td><div class=\"dni-plaintext\">&lt;null&gt;</div></td><td><div class=\"dni-plaintext\">&lt;null&gt;</div></td></tr><tr><td>3</td><td><div class=\"dni-plaintext\">P060802026</div></td><td><div class=\"dni-plaintext\">06</div></td><td><div class=\"dni-plaintext\">0608</div></td><td><div class=\"dni-plaintext\">060802</div></td><td><div class=\"dni-plaintext\">&lt;null&gt;</div></td><td><div class=\"dni-plaintext\">&lt;null&gt;</div></td></tr><tr><td>4</td><td><div class=\"dni-plaintext\">P070202092</div></td><td><div class=\"dni-plaintext\">07</div></td><td><div class=\"dni-plaintext\">0702</div></td><td><div class=\"dni-plaintext\">070202</div></td><td><div class=\"dni-plaintext\">&lt;null&gt;</div></td><td><div class=\"dni-plaintext\">&lt;null&gt;</div></td></tr><tr><td>5</td><td><div class=\"dni-plaintext\">P080504027</div></td><td><div class=\"dni-plaintext\">08</div></td><td><div class=\"dni-plaintext\">0805</div></td><td><div class=\"dni-plaintext\">080504</div></td><td><div class=\"dni-plaintext\">&lt;null&gt;</div></td><td><div class=\"dni-plaintext\">&lt;null&gt;</div></td></tr><tr><td>6</td><td><div class=\"dni-plaintext\">P090204185</div></td><td><div class=\"dni-plaintext\">09</div></td><td><div class=\"dni-plaintext\">0902</div></td><td><div class=\"dni-plaintext\">090204</div></td><td><div class=\"dni-plaintext\">&lt;null&gt;</div></td><td><div class=\"dni-plaintext\">&lt;null&gt;</div></td></tr></tbody></table>"
      ]
     },
     "execution_count": 86,
     "metadata": {},
     "output_type": "execute_result"
    }
   ],
   "source": [
    "// いずれかの値が null の場合に true を返す\n",
    "bool AnyIsNull(Product c) {\n",
    "    if (c.product_cd == null) return true;\n",
    "    if (c.category_major_cd == null) return true;\n",
    "    if (c.category_medium_cd == null) return true;\n",
    "    if (c.category_small_cd == null) return true;\n",
    "    if (c.unit_cost == null) return true;\n",
    "    if (c.unit_price == null) return true;\n",
    "    return false;\n",
    "}\n",
    "\n",
    "// null となっているデータを確認のため表示： 7件の null は 同じレコードで発生\n",
    "df_product.Where(r => AnyIsNull(r)).ToList()"
   ]
  },
  {
   "cell_type": "markdown",
   "metadata": {},
   "source": [
    "---\n",
    "> P-081: 単価（unit_price）と原価（unit_cost）の欠損値について、それぞれの平均値で補完した新たなdf_product_2を作成せよ。なお、平均値について1円未満は四捨五入とし、0.5については偶数寄せでかまわない。補完実施後、各項目について欠損が生じていないことも確認すること。"
   ]
  },
  {
   "cell_type": "code",
   "execution_count": 87,
   "metadata": {
    "dotnet_interactive": {
     "language": "csharp"
    }
   },
   "outputs": [
    {
     "data": {
      "text/html": [
       "<div class=\"dni-plaintext\">0</div>"
      ]
     },
     "execution_count": 87,
     "metadata": {},
     "output_type": "execute_result"
    }
   ],
   "source": [
    "// いずれかの値が null の場合に true を返す\n",
    "bool AnyIsNull(Product c) {\n",
    "    if (c.product_cd == null) return true;\n",
    "    if (c.category_major_cd == null) return true;\n",
    "    if (c.category_medium_cd == null) return true;\n",
    "    if (c.category_small_cd == null) return true;\n",
    "    if (c.unit_cost == null) return true;\n",
    "    if (c.unit_price == null) return true;\n",
    "    return false;\n",
    "}\n",
    "\n",
    "// https://docs.microsoft.com/ja-jp/dotnet/api/system.math.round?view=net-5.0 \n",
    "// Math.Round : 偶数丸め\n",
    "var fix_unit_price = (int) Math.Round(df_product.Where(r => r.unit_price != null).Average(r => r.unit_price.Value));\n",
    "var fix_unit_cost = (int) Math.Round(df_product.Where(r => r.unit_cost != null).Average(r => r.unit_cost.Value));\n",
    "\n",
    "var df_product_2 = df_product.Select(r => new Product() {\n",
    "    product_cd = r.product_cd,\n",
    "    category_major_cd = r.category_major_cd,\n",
    "    category_medium_cd = r.category_medium_cd,\n",
    "    category_small_cd = r.category_small_cd,\n",
    "    unit_price = r.unit_price ?? fix_unit_price,\n",
    "    unit_cost = r.unit_cost ?? fix_unit_cost,\n",
    "});\n",
    "\n",
    "// null が存在しない事の確認\n",
    "df_product_2.Where(r => AnyIsNull(r)).Count()\n"
   ]
  },
  {
   "cell_type": "markdown",
   "metadata": {},
   "source": [
    "---\n",
    "> P-082: 単価（unit_price）と原価（unit_cost）の欠損値について、それぞれの中央値で補完した新たなdf_product_3を作成せよ。なお、中央値について1円未満は四捨五入とし、0.5については偶数寄せでかまわない。補完実施後、各項目について欠損が生じていないことも確認すること。"
   ]
  },
  {
   "cell_type": "code",
   "execution_count": 88,
   "metadata": {
    "dotnet_interactive": {
     "language": "csharp"
    }
   },
   "outputs": [
    {
     "data": {
      "text/html": [
       "<div class=\"dni-plaintext\">0</div>"
      ]
     },
     "execution_count": 88,
     "metadata": {},
     "output_type": "execute_result"
    }
   ],
   "source": [
    "// 中央値 : Median \n",
    "//https://numerics.mathdotnet.com/api/MathNet.Numerics.Statistics/Statistics.htm#Median\n",
    "using MathNet.Numerics.Statistics;\n",
    "\n",
    "// https://docs.microsoft.com/ja-jp/dotnet/api/system.math.round?view=net-5.0 \n",
    "// Math.Round : 偶数丸め\n",
    "\n",
    "var fix_unit_price = (int) Math.Round(df_product.Where(r => r.unit_price != null).Select(r => (double) r.unit_price).Median());\n",
    "var fix_unit_cost = (int) Math.Round(df_product.Where(r => r.unit_cost != null).Select(r => (double) r.unit_cost).Median());\n",
    "\n",
    "var df_product_2 = df_product.Select(r => new Product() { // AnyIsNull で判定するため 厳密な型に合わせる\n",
    "    product_cd = r.product_cd,\n",
    "    category_major_cd = r.category_major_cd,\n",
    "    category_medium_cd = r.category_medium_cd,\n",
    "    category_small_cd = r.category_small_cd,\n",
    "    unit_price = r.unit_price ?? fix_unit_price,\n",
    "    unit_cost = r.unit_cost ?? fix_unit_cost,\n",
    "});\n",
    "\n",
    "// いずれかの値が null の場合に true を返す\n",
    "bool AnyIsNull(Product c) {\n",
    "    if (c.product_cd == null) return true;\n",
    "    if (c.category_major_cd == null) return true;\n",
    "    if (c.category_medium_cd == null) return true;\n",
    "    if (c.category_small_cd == null) return true;\n",
    "    if (c.unit_cost == null) return true;\n",
    "    if (c.unit_price == null) return true;\n",
    "    return false;\n",
    "}\n",
    "\n",
    "// null が存在しない事の確認\n",
    "df_product_2.Where(r => AnyIsNull(r)).Count()"
   ]
  },
  {
   "cell_type": "markdown",
   "metadata": {},
   "source": [
    "---\n",
    "> P-083: 単価（unit_price）と原価（unit_cost）の欠損値について、各商品の小区分（category_small_cd）ごとに算出した中央値で補完した新たなdf_product_4を作成せよ。なお、中央値について1円未満は四捨五入とし、0.5については偶数寄せでかまわない。補完実施後、各項目について欠損が生じていないことも確認すること。"
   ]
  },
  {
   "cell_type": "code",
   "execution_count": 89,
   "metadata": {
    "dotnet_interactive": {
     "language": "csharp"
    }
   },
   "outputs": [
    {
     "data": {
      "text/plain": [
       "category_small_cd 毎の中央値"
      ]
     },
     "metadata": {},
     "output_type": "display_data"
    },
    {
     "data": {
      "text/html": [
       "<table><thead><tr><th><i>index</i></th><th>Key</th><th>Value</th></tr></thead><tbody><tr><td>0</td><td><div class=\"dni-plaintext\">040101</div></td><td><div class=\"dni-plaintext\">{ category_small_cd = 040101, median_unit_price = 283, median_unit_cost = 212.5 }</div></td></tr><tr><td>1</td><td><div class=\"dni-plaintext\">040102</div></td><td><div class=\"dni-plaintext\">{ category_small_cd = 040102, median_unit_price = 378, median_unit_cost = 284 }</div></td></tr><tr><td>2</td><td><div class=\"dni-plaintext\">040201</div></td><td><div class=\"dni-plaintext\">{ category_small_cd = 040201, median_unit_price = 223, median_unit_cost = 167.5 }</div></td></tr><tr><td>3</td><td><div class=\"dni-plaintext\">040202</div></td><td><div class=\"dni-plaintext\">{ category_small_cd = 040202, median_unit_price = 178, median_unit_cost = 134 }</div></td></tr><tr><td>4</td><td><div class=\"dni-plaintext\">040203</div></td><td><div class=\"dni-plaintext\">{ category_small_cd = 040203, median_unit_price = 308, median_unit_cost = 231 }</div></td></tr><tr><td>5</td><td><div class=\"dni-plaintext\">040204</div></td><td><div class=\"dni-plaintext\">{ category_small_cd = 040204, median_unit_price = 198, median_unit_cost = 149 }</div></td></tr><tr><td>6</td><td><div class=\"dni-plaintext\">040301</div></td><td><div class=\"dni-plaintext\">{ category_small_cd = 040301, median_unit_price = 278, median_unit_cost = 209 }</div></td></tr><tr><td>7</td><td><div class=\"dni-plaintext\">040401</div></td><td><div class=\"dni-plaintext\">{ category_small_cd = 040401, median_unit_price = 288, median_unit_cost = 216.5 }</div></td></tr><tr><td>8</td><td><div class=\"dni-plaintext\">040402</div></td><td><div class=\"dni-plaintext\">{ category_small_cd = 040402, median_unit_price = 228, median_unit_cost = 171 }</div></td></tr><tr><td>9</td><td><div class=\"dni-plaintext\">040403</div></td><td><div class=\"dni-plaintext\">{ category_small_cd = 040403, median_unit_price = 248, median_unit_cost = 186 }</div></td></tr><tr><td>10</td><td><div class=\"dni-plaintext\">040404</div></td><td><div class=\"dni-plaintext\">{ category_small_cd = 040404, median_unit_price = 278, median_unit_cost = 209 }</div></td></tr><tr><td>11</td><td><div class=\"dni-plaintext\">040501</div></td><td><div class=\"dni-plaintext\">{ category_small_cd = 040501, median_unit_price = 288, median_unit_cost = 216.5 }</div></td></tr><tr><td>12</td><td><div class=\"dni-plaintext\">040502</div></td><td><div class=\"dni-plaintext\">{ category_small_cd = 040502, median_unit_price = 298, median_unit_cost = 224 }</div></td></tr><tr><td>13</td><td><div class=\"dni-plaintext\">040503</div></td><td><div class=\"dni-plaintext\">{ category_small_cd = 040503, median_unit_price = 298, median_unit_cost = 224 }</div></td></tr><tr><td>14</td><td><div class=\"dni-plaintext\">040504</div></td><td><div class=\"dni-plaintext\">{ category_small_cd = 040504, median_unit_price = 323, median_unit_cost = 242.5 }</div></td></tr><tr><td>15</td><td><div class=\"dni-plaintext\">040601</div></td><td><div class=\"dni-plaintext\">{ category_small_cd = 040601, median_unit_price = 278, median_unit_cost = 209 }</div></td></tr><tr><td>16</td><td><div class=\"dni-plaintext\">040602</div></td><td><div class=\"dni-plaintext\">{ category_small_cd = 040602, median_unit_price = 422.5, median_unit_cost = 317 }</div></td></tr><tr><td>17</td><td><div class=\"dni-plaintext\">040603</div></td><td><div class=\"dni-plaintext\">{ category_small_cd = 040603, median_unit_price = 1980, median_unit_cost = 1485 }</div></td></tr><tr><td>18</td><td><div class=\"dni-plaintext\">040701</div></td><td><div class=\"dni-plaintext\">{ category_small_cd = 040701, median_unit_price = 288, median_unit_cost = 216 }</div></td></tr><tr><td>19</td><td><div class=\"dni-plaintext\">040801</div></td><td><div class=\"dni-plaintext\">{ category_small_cd = 040801, median_unit_price = 148, median_unit_cost = 111 }</div></td></tr></tbody></table>"
      ]
     },
     "metadata": {},
     "output_type": "display_data"
    },
    {
     "data": {
      "text/plain": [
       "df_product4 の 表示"
      ]
     },
     "metadata": {},
     "output_type": "display_data"
    },
    {
     "data": {
      "text/html": [
       "<table><thead><tr><th><i>index</i></th><th>product_cd</th><th>category_major_cd</th><th>category_medium_cd</th><th>category_small_cd</th><th>unit_price</th><th>unit_cost</th></tr></thead><tbody><tr><td>0</td><td><div class=\"dni-plaintext\">P040101001</div></td><td><div class=\"dni-plaintext\">04</div></td><td><div class=\"dni-plaintext\">0401</div></td><td><div class=\"dni-plaintext\">040101</div></td><td><div class=\"dni-plaintext\">198</div></td><td><div class=\"dni-plaintext\">149</div></td></tr><tr><td>1</td><td><div class=\"dni-plaintext\">P040101002</div></td><td><div class=\"dni-plaintext\">04</div></td><td><div class=\"dni-plaintext\">0401</div></td><td><div class=\"dni-plaintext\">040101</div></td><td><div class=\"dni-plaintext\">218</div></td><td><div class=\"dni-plaintext\">164</div></td></tr><tr><td>2</td><td><div class=\"dni-plaintext\">P040101003</div></td><td><div class=\"dni-plaintext\">04</div></td><td><div class=\"dni-plaintext\">0401</div></td><td><div class=\"dni-plaintext\">040101</div></td><td><div class=\"dni-plaintext\">230</div></td><td><div class=\"dni-plaintext\">173</div></td></tr><tr><td>3</td><td><div class=\"dni-plaintext\">P040101004</div></td><td><div class=\"dni-plaintext\">04</div></td><td><div class=\"dni-plaintext\">0401</div></td><td><div class=\"dni-plaintext\">040101</div></td><td><div class=\"dni-plaintext\">248</div></td><td><div class=\"dni-plaintext\">186</div></td></tr><tr><td>4</td><td><div class=\"dni-plaintext\">P040101005</div></td><td><div class=\"dni-plaintext\">04</div></td><td><div class=\"dni-plaintext\">0401</div></td><td><div class=\"dni-plaintext\">040101</div></td><td><div class=\"dni-plaintext\">268</div></td><td><div class=\"dni-plaintext\">201</div></td></tr><tr><td>5</td><td><div class=\"dni-plaintext\">P040101006</div></td><td><div class=\"dni-plaintext\">04</div></td><td><div class=\"dni-plaintext\">0401</div></td><td><div class=\"dni-plaintext\">040101</div></td><td><div class=\"dni-plaintext\">298</div></td><td><div class=\"dni-plaintext\">224</div></td></tr><tr><td>6</td><td><div class=\"dni-plaintext\">P040101007</div></td><td><div class=\"dni-plaintext\">04</div></td><td><div class=\"dni-plaintext\">0401</div></td><td><div class=\"dni-plaintext\">040101</div></td><td><div class=\"dni-plaintext\">338</div></td><td><div class=\"dni-plaintext\">254</div></td></tr><tr><td>7</td><td><div class=\"dni-plaintext\">P040101008</div></td><td><div class=\"dni-plaintext\">04</div></td><td><div class=\"dni-plaintext\">0401</div></td><td><div class=\"dni-plaintext\">040101</div></td><td><div class=\"dni-plaintext\">420</div></td><td><div class=\"dni-plaintext\">315</div></td></tr><tr><td>8</td><td><div class=\"dni-plaintext\">P040101009</div></td><td><div class=\"dni-plaintext\">04</div></td><td><div class=\"dni-plaintext\">0401</div></td><td><div class=\"dni-plaintext\">040101</div></td><td><div class=\"dni-plaintext\">498</div></td><td><div class=\"dni-plaintext\">374</div></td></tr><tr><td>9</td><td><div class=\"dni-plaintext\">P040101010</div></td><td><div class=\"dni-plaintext\">04</div></td><td><div class=\"dni-plaintext\">0401</div></td><td><div class=\"dni-plaintext\">040101</div></td><td><div class=\"dni-plaintext\">580</div></td><td><div class=\"dni-plaintext\">435</div></td></tr><tr><td>10</td><td><div class=\"dni-plaintext\">P040102001</div></td><td><div class=\"dni-plaintext\">04</div></td><td><div class=\"dni-plaintext\">0401</div></td><td><div class=\"dni-plaintext\">040102</div></td><td><div class=\"dni-plaintext\">268</div></td><td><div class=\"dni-plaintext\">201</div></td></tr><tr><td>11</td><td><div class=\"dni-plaintext\">P040102002</div></td><td><div class=\"dni-plaintext\">04</div></td><td><div class=\"dni-plaintext\">0401</div></td><td><div class=\"dni-plaintext\">040102</div></td><td><div class=\"dni-plaintext\">268</div></td><td><div class=\"dni-plaintext\">201</div></td></tr><tr><td>12</td><td><div class=\"dni-plaintext\">P040102003</div></td><td><div class=\"dni-plaintext\">04</div></td><td><div class=\"dni-plaintext\">0401</div></td><td><div class=\"dni-plaintext\">040102</div></td><td><div class=\"dni-plaintext\">278</div></td><td><div class=\"dni-plaintext\">209</div></td></tr><tr><td>13</td><td><div class=\"dni-plaintext\">P040102004</div></td><td><div class=\"dni-plaintext\">04</div></td><td><div class=\"dni-plaintext\">0401</div></td><td><div class=\"dni-plaintext\">040102</div></td><td><div class=\"dni-plaintext\">318</div></td><td><div class=\"dni-plaintext\">239</div></td></tr><tr><td>14</td><td><div class=\"dni-plaintext\">P040102005</div></td><td><div class=\"dni-plaintext\">04</div></td><td><div class=\"dni-plaintext\">0401</div></td><td><div class=\"dni-plaintext\">040102</div></td><td><div class=\"dni-plaintext\">318</div></td><td><div class=\"dni-plaintext\">239</div></td></tr><tr><td>15</td><td><div class=\"dni-plaintext\">P040102006</div></td><td><div class=\"dni-plaintext\">04</div></td><td><div class=\"dni-plaintext\">0401</div></td><td><div class=\"dni-plaintext\">040102</div></td><td><div class=\"dni-plaintext\">318</div></td><td><div class=\"dni-plaintext\">239</div></td></tr><tr><td>16</td><td><div class=\"dni-plaintext\">P040102007</div></td><td><div class=\"dni-plaintext\">04</div></td><td><div class=\"dni-plaintext\">0401</div></td><td><div class=\"dni-plaintext\">040102</div></td><td><div class=\"dni-plaintext\">338</div></td><td><div class=\"dni-plaintext\">254</div></td></tr><tr><td>17</td><td><div class=\"dni-plaintext\">P040102008</div></td><td><div class=\"dni-plaintext\">04</div></td><td><div class=\"dni-plaintext\">0401</div></td><td><div class=\"dni-plaintext\">040102</div></td><td><div class=\"dni-plaintext\">358</div></td><td><div class=\"dni-plaintext\">269</div></td></tr><tr><td>18</td><td><div class=\"dni-plaintext\">P040102009</div></td><td><div class=\"dni-plaintext\">04</div></td><td><div class=\"dni-plaintext\">0401</div></td><td><div class=\"dni-plaintext\">040102</div></td><td><div class=\"dni-plaintext\">358</div></td><td><div class=\"dni-plaintext\">269</div></td></tr><tr><td>19</td><td><div class=\"dni-plaintext\">P040102010</div></td><td><div class=\"dni-plaintext\">04</div></td><td><div class=\"dni-plaintext\">0401</div></td><td><div class=\"dni-plaintext\">040102</div></td><td><div class=\"dni-plaintext\">358</div></td><td><div class=\"dni-plaintext\">269</div></td></tr></tbody></table>"
      ]
     },
     "metadata": {},
     "output_type": "display_data"
    },
    {
     "data": {
      "text/plain": [
       "いずれか null の データ件数 0"
      ]
     },
     "metadata": {},
     "output_type": "display_data"
    }
   ],
   "source": [
    "using MathNet.Numerics.Statistics;\n",
    "\n",
    "var median_tmp = df_product.GroupBy(r => r.category_small_cd)\n",
    "    .Select(r => new {\n",
    "        category_small_cd = r.Key,\n",
    "        median_unit_price = r.Where(t => t.unit_price != null).Select(t => (double) t.unit_price).Median(),\n",
    "        median_unit_cost = r.Where(t => t.unit_cost != null).Select(t => (double) t.unit_cost).Median(),\n",
    "    })\n",
    "    .ToDictionary(r => r.category_small_cd);\n",
    "\n",
    "display(\"category_small_cd 毎の中央値\");\n",
    "display(median_tmp.Take(20));\n",
    "\n",
    "var df_product4 = df_product.Select(r => new Product() {\n",
    "    product_cd = r.product_cd,\n",
    "    category_major_cd = r.category_major_cd,\n",
    "    category_medium_cd = r.category_medium_cd,\n",
    "    category_small_cd = r.category_small_cd,\n",
    "    unit_price = r.unit_price ?? (int) Math.Round(median_tmp[r.category_small_cd].median_unit_price),\n",
    "    unit_cost = r.unit_cost ?? (int) Math.Round(median_tmp[r.category_small_cd].median_unit_cost),\n",
    "});\n",
    "\n",
    "display(\"df_product4 の 表示\");\n",
    "display(df_product4.Take(20));\n",
    "\n",
    "// いずれかの値が null の場合に true を返す\n",
    "bool AnyIsNull(Product c) {\n",
    "    if (c.product_cd == null) return true;\n",
    "    if (c.category_major_cd == null) return true;\n",
    "    if (c.category_medium_cd == null) return true;\n",
    "    if (c.category_small_cd == null) return true;\n",
    "    if (c.unit_cost == null) return true;\n",
    "    if (c.unit_price == null) return true;\n",
    "    return false;\n",
    "}\n",
    "\n",
    "display($\"いずれか null の データ件数 { df_product4.Where(r => AnyIsNull(r)).Count() }\");"
   ]
  },
  {
   "cell_type": "markdown",
   "metadata": {},
   "source": [
    "---\n",
    "> P-084: 顧客データフレーム（df_customer）の全顧客に対し、全期間の売上金額に占める2019年売上金額の割合を計算せよ。ただし、販売実績のない場合は0として扱うこと。そして計算した割合が0超のものを抽出せよ。 結果は10件表示させれば良い。また、作成したデータにNAやNANが存在しないことを確認せよ。"
   ]
  },
  {
   "cell_type": "code",
   "execution_count": 90,
   "metadata": {
    "dotnet_interactive": {
     "language": "csharp"
    }
   },
   "outputs": [
    {
     "data": {
      "text/html": [
       "<table><thead><tr><th><i>index</i></th><th>customer_id</th><th>sum_amount_2019</th><th>rate_amount</th></tr></thead><tbody><tr><td>0</td><td><div class=\"dni-plaintext\">CS001113000004</div></td><td><div class=\"dni-plaintext\">1298</div></td><td><div class=\"dni-plaintext\">1</div></td></tr><tr><td>1</td><td><div class=\"dni-plaintext\">CS001114000005</div></td><td><div class=\"dni-plaintext\">188</div></td><td><div class=\"dni-plaintext\">0.3003194888178914</div></td></tr><tr><td>2</td><td><div class=\"dni-plaintext\">CS001115000010</div></td><td><div class=\"dni-plaintext\">578</div></td><td><div class=\"dni-plaintext\">0.18988173455978974</div></td></tr><tr><td>3</td><td><div class=\"dni-plaintext\">CS001205000004</div></td><td><div class=\"dni-plaintext\">702</div></td><td><div class=\"dni-plaintext\">0.35311871227364183</div></td></tr><tr><td>4</td><td><div class=\"dni-plaintext\">CS001205000006</div></td><td><div class=\"dni-plaintext\">486</div></td><td><div class=\"dni-plaintext\">0.14563979622415343</div></td></tr><tr><td>5</td><td><div class=\"dni-plaintext\">CS001211000025</div></td><td><div class=\"dni-plaintext\">456</div></td><td><div class=\"dni-plaintext\">1</div></td></tr><tr><td>6</td><td><div class=\"dni-plaintext\">CS001212000070</div></td><td><div class=\"dni-plaintext\">456</div></td><td><div class=\"dni-plaintext\">1</div></td></tr><tr><td>7</td><td><div class=\"dni-plaintext\">CS001214000009</div></td><td><div class=\"dni-plaintext\">664</div></td><td><div class=\"dni-plaintext\">0.14172892209178228</div></td></tr><tr><td>8</td><td><div class=\"dni-plaintext\">CS001214000017</div></td><td><div class=\"dni-plaintext\">2962</div></td><td><div class=\"dni-plaintext\">0.7168441432720233</div></td></tr><tr><td>9</td><td><div class=\"dni-plaintext\">CS001214000048</div></td><td><div class=\"dni-plaintext\">1889</div></td><td><div class=\"dni-plaintext\">0.7957034540859309</div></td></tr></tbody></table>"
      ]
     },
     "metadata": {},
     "output_type": "display_data"
    },
    {
     "data": {
      "text/plain": [
       "Null の件数 0"
      ]
     },
     "metadata": {},
     "output_type": "display_data"
    }
   ],
   "source": [
    "// 顧客データフレーム（df_customer）の全顧客に対し、全期間の売上金額に占める2019年売上金額の割合を計算せよ。\n",
    "// ただし、販売実績のない場合は0として扱うこと。そして計算した割合が0超のものを抽出せよ。 \n",
    "// 結果は10件表示させれば良い。また、作成したデータにNAやNANが存在しないことを確認せよ。\n",
    "\n",
    "// 対象となる顧客は 2019年度に売上のある顧客\n",
    "var df_tmp_1 = df_receipt.Where(r => r.sales_ymd.Substring(0,4) == \"2019\")\n",
    "    .GroupBy(r => r.customer_id)\n",
    "    .Select(r => new {\n",
    "        customer_id = r.Key,\n",
    "        sum_amount_2019 = r.Sum(t => t.amount),\n",
    "    });\n",
    "// 全期間の顧客毎の売り上げ\n",
    "var df_sum_amount_dic = df_receipt\n",
    ".GroupBy(r => r.customer_id)\n",
    ".Select(r => new {\n",
    "    customer_id = r.Key,\n",
    "    sum_amount = r.Sum(t => t.amount ?? 0),\n",
    "}).ToDictionary(r => r.customer_id);\n",
    "\n",
    "// 割合を計算する\n",
    "var df_ans = df_tmp_1\n",
    "    .Where(r => r.sum_amount_2019 > 0)  // 2019年に0以上の売り上げがある人\n",
    "    .Select(r => new {\n",
    "    r.customer_id,\n",
    "    r.sum_amount_2019,\n",
    "    rate_amount = (double) r.sum_amount_2019 / df_sum_amount_dic[r.customer_id].sum_amount,\n",
    "}).OrderBy(r => r.customer_id).ToList();\n",
    "\n",
    "// NA や NAN が無い事を確認する\n",
    "var null_count = df_ans.Where(r => r.sum_amount_2019 == null).Count();\n",
    "\n",
    "display(df_ans.Take(10));\n",
    "display($\"Null の件数 { null_count }\")"
   ]
  },
  {
   "cell_type": "markdown",
   "metadata": {},
   "source": [
    "---\n",
    "> P-085: 顧客データフレーム（df_customer）の全顧客に対し、郵便番号（postal_cd）を用いて経度緯度変換用データフレーム（df_geocode）を紐付け、新たなdf_customer_1を作成せよ。ただし、複数紐づく場合は経度（longitude）、緯度（latitude）それぞれ平均を算出すること。"
   ]
  },
  {
   "cell_type": "code",
   "execution_count": 91,
   "metadata": {
    "dotnet_interactive": {
     "language": "csharp"
    }
   },
   "outputs": [
    {
     "data": {
      "text/html": [
       "<table><thead><tr><th><i>index</i></th><th>customer_id</th><th>customer_name</th><th>gender_cd</th><th>gender</th><th>birth_day</th><th>age</th><th>postal_cd</th><th>address</th><th>application_store_cd</th><th>application_date</th><th>status_cd</th><th>m_longitude</th><th>m_latitude</th></tr></thead><tbody><tr><td>0</td><td><div class=\"dni-plaintext\">CS021313000114</div></td><td><div class=\"dni-plaintext\">大野 あや子</div></td><td><div class=\"dni-plaintext\">1</div></td><td><div class=\"dni-plaintext\">女性</div></td><td><span>1981-04-29</span></td><td><div class=\"dni-plaintext\">37</div></td><td><div class=\"dni-plaintext\">259-1113</div></td><td><div class=\"dni-plaintext\">神奈川県伊勢原市粟窪**********</div></td><td><div class=\"dni-plaintext\">S14021</div></td><td><div class=\"dni-plaintext\">20150905</div></td><td><div class=\"dni-plaintext\">0-00000000-0</div></td><td><div class=\"dni-plaintext\">139.31779</div></td><td><div class=\"dni-plaintext\">35.41358</div></td></tr><tr><td>1</td><td><div class=\"dni-plaintext\">CS037613000071</div></td><td><div class=\"dni-plaintext\">六角 雅彦</div></td><td><div class=\"dni-plaintext\">9</div></td><td><div class=\"dni-plaintext\">不明</div></td><td><span>1952-04-01</span></td><td><div class=\"dni-plaintext\">66</div></td><td><div class=\"dni-plaintext\">136-0076</div></td><td><div class=\"dni-plaintext\">東京都江東区南砂**********</div></td><td><div class=\"dni-plaintext\">S13037</div></td><td><div class=\"dni-plaintext\">20150414</div></td><td><div class=\"dni-plaintext\">0-00000000-0</div></td><td><div class=\"dni-plaintext\">139.83502</div></td><td><div class=\"dni-plaintext\">35.67193</div></td></tr><tr><td>2</td><td><div class=\"dni-plaintext\">CS031415000172</div></td><td><div class=\"dni-plaintext\">宇多田 貴美子</div></td><td><div class=\"dni-plaintext\">1</div></td><td><div class=\"dni-plaintext\">女性</div></td><td><span>1976-10-04</span></td><td><div class=\"dni-plaintext\">42</div></td><td><div class=\"dni-plaintext\">151-0053</div></td><td><div class=\"dni-plaintext\">東京都渋谷区代々木**********</div></td><td><div class=\"dni-plaintext\">S13031</div></td><td><div class=\"dni-plaintext\">20150529</div></td><td><div class=\"dni-plaintext\">D-20100325-C</div></td><td><div class=\"dni-plaintext\">139.68965</div></td><td><div class=\"dni-plaintext\">35.67374</div></td></tr><tr><td>3</td><td><div class=\"dni-plaintext\">CS028811000001</div></td><td><div class=\"dni-plaintext\">堀井 かおり</div></td><td><div class=\"dni-plaintext\">1</div></td><td><div class=\"dni-plaintext\">女性</div></td><td><span>1933-03-27</span></td><td><div class=\"dni-plaintext\">86</div></td><td><div class=\"dni-plaintext\">245-0016</div></td><td><div class=\"dni-plaintext\">神奈川県横浜市泉区和泉町**********</div></td><td><div class=\"dni-plaintext\">S14028</div></td><td><div class=\"dni-plaintext\">20160115</div></td><td><div class=\"dni-plaintext\">0-00000000-0</div></td><td><div class=\"dni-plaintext\">139.4836</div></td><td><div class=\"dni-plaintext\">35.39125</div></td></tr><tr><td>4</td><td><div class=\"dni-plaintext\">CS001215000145</div></td><td><div class=\"dni-plaintext\">田崎 美紀</div></td><td><div class=\"dni-plaintext\">1</div></td><td><div class=\"dni-plaintext\">女性</div></td><td><span>1995-03-29</span></td><td><div class=\"dni-plaintext\">24</div></td><td><div class=\"dni-plaintext\">144-0055</div></td><td><div class=\"dni-plaintext\">東京都大田区仲六郷**********</div></td><td><div class=\"dni-plaintext\">S13001</div></td><td><div class=\"dni-plaintext\">20170605</div></td><td><div class=\"dni-plaintext\">6-20090929-2</div></td><td><div class=\"dni-plaintext\">139.70775</div></td><td><div class=\"dni-plaintext\">35.54084</div></td></tr><tr><td>5</td><td><div class=\"dni-plaintext\">CS020401000016</div></td><td><div class=\"dni-plaintext\">宮下 達士</div></td><td><div class=\"dni-plaintext\">0</div></td><td><div class=\"dni-plaintext\">男性</div></td><td><span>1974-09-15</span></td><td><div class=\"dni-plaintext\">44</div></td><td><div class=\"dni-plaintext\">174-0065</div></td><td><div class=\"dni-plaintext\">東京都板橋区若木**********</div></td><td><div class=\"dni-plaintext\">S13020</div></td><td><div class=\"dni-plaintext\">20150225</div></td><td><div class=\"dni-plaintext\">0-00000000-0</div></td><td><div class=\"dni-plaintext\">139.67245</div></td><td><div class=\"dni-plaintext\">35.77073</div></td></tr><tr><td>6</td><td><div class=\"dni-plaintext\">CS015414000103</div></td><td><div class=\"dni-plaintext\">奥野 陽子</div></td><td><div class=\"dni-plaintext\">1</div></td><td><div class=\"dni-plaintext\">女性</div></td><td><span>1977-08-09</span></td><td><div class=\"dni-plaintext\">41</div></td><td><div class=\"dni-plaintext\">136-0073</div></td><td><div class=\"dni-plaintext\">東京都江東区北砂**********</div></td><td><div class=\"dni-plaintext\">S13015</div></td><td><div class=\"dni-plaintext\">20150722</div></td><td><div class=\"dni-plaintext\">B-20100609-B</div></td><td><div class=\"dni-plaintext\">139.83601</div></td><td><div class=\"dni-plaintext\">35.67818</div></td></tr><tr><td>7</td><td><div class=\"dni-plaintext\">CS029403000008</div></td><td><div class=\"dni-plaintext\">釈 人志</div></td><td><div class=\"dni-plaintext\">0</div></td><td><div class=\"dni-plaintext\">男性</div></td><td><span>1973-08-17</span></td><td><div class=\"dni-plaintext\">45</div></td><td><div class=\"dni-plaintext\">279-0003</div></td><td><div class=\"dni-plaintext\">千葉県浦安市海楽**********</div></td><td><div class=\"dni-plaintext\">S12029</div></td><td><div class=\"dni-plaintext\">20150515</div></td><td><div class=\"dni-plaintext\">0-00000000-0</div></td><td><div class=\"dni-plaintext\">139.90469</div></td><td><div class=\"dni-plaintext\">35.65422</div></td></tr><tr><td>8</td><td><div class=\"dni-plaintext\">CS015804000004</div></td><td><div class=\"dni-plaintext\">松谷 米蔵</div></td><td><div class=\"dni-plaintext\">0</div></td><td><div class=\"dni-plaintext\">男性</div></td><td><span>1931-05-02</span></td><td><div class=\"dni-plaintext\">87</div></td><td><div class=\"dni-plaintext\">136-0073</div></td><td><div class=\"dni-plaintext\">東京都江東区北砂**********</div></td><td><div class=\"dni-plaintext\">S13015</div></td><td><div class=\"dni-plaintext\">20150607</div></td><td><div class=\"dni-plaintext\">0-00000000-0</div></td><td><div class=\"dni-plaintext\">139.83601</div></td><td><div class=\"dni-plaintext\">35.67818</div></td></tr><tr><td>9</td><td><div class=\"dni-plaintext\">CS033513000180</div></td><td><div class=\"dni-plaintext\">安斎 遥</div></td><td><div class=\"dni-plaintext\">1</div></td><td><div class=\"dni-plaintext\">女性</div></td><td><span>1962-07-11</span></td><td><div class=\"dni-plaintext\">56</div></td><td><div class=\"dni-plaintext\">241-0823</div></td><td><div class=\"dni-plaintext\">神奈川県横浜市旭区善部町**********</div></td><td><div class=\"dni-plaintext\">S14033</div></td><td><div class=\"dni-plaintext\">20150728</div></td><td><div class=\"dni-plaintext\">6-20080506-5</div></td><td><div class=\"dni-plaintext\">139.51463</div></td><td><div class=\"dni-plaintext\">35.45013</div></td></tr><tr><td>10</td><td><div class=\"dni-plaintext\">CS007403000016</div></td><td><div class=\"dni-plaintext\">依田 満</div></td><td><div class=\"dni-plaintext\">0</div></td><td><div class=\"dni-plaintext\">男性</div></td><td><span>1975-08-18</span></td><td><div class=\"dni-plaintext\">43</div></td><td><div class=\"dni-plaintext\">276-0022</div></td><td><div class=\"dni-plaintext\">千葉県八千代市上高野**********</div></td><td><div class=\"dni-plaintext\">S12007</div></td><td><div class=\"dni-plaintext\">20150914</div></td><td><div class=\"dni-plaintext\">0-00000000-0</div></td><td><div class=\"dni-plaintext\">140.1326</div></td><td><div class=\"dni-plaintext\">35.73264</div></td></tr><tr><td>11</td><td><div class=\"dni-plaintext\">CS035614000014</div></td><td><div class=\"dni-plaintext\">板倉 菜々美</div></td><td><div class=\"dni-plaintext\">1</div></td><td><div class=\"dni-plaintext\">女性</div></td><td><span>1954-07-16</span></td><td><div class=\"dni-plaintext\">64</div></td><td><div class=\"dni-plaintext\">154-0015</div></td><td><div class=\"dni-plaintext\">東京都世田谷区桜新町**********</div></td><td><div class=\"dni-plaintext\">S13035</div></td><td><div class=\"dni-plaintext\">20150804</div></td><td><div class=\"dni-plaintext\">0-00000000-0</div></td><td><div class=\"dni-plaintext\">139.64297</div></td><td><div class=\"dni-plaintext\">35.62889</div></td></tr><tr><td>12</td><td><div class=\"dni-plaintext\">CS011215000048</div></td><td><div class=\"dni-plaintext\">芦田 沙耶</div></td><td><div class=\"dni-plaintext\">1</div></td><td><div class=\"dni-plaintext\">女性</div></td><td><span>1992-02-01</span></td><td><div class=\"dni-plaintext\">27</div></td><td><div class=\"dni-plaintext\">223-0062</div></td><td><div class=\"dni-plaintext\">神奈川県横浜市港北区日吉本町**********</div></td><td><div class=\"dni-plaintext\">S14011</div></td><td><div class=\"dni-plaintext\">20150228</div></td><td><div class=\"dni-plaintext\">C-20100421-9</div></td><td><div class=\"dni-plaintext\">139.62946</div></td><td><div class=\"dni-plaintext\">35.5537</div></td></tr><tr><td>13</td><td><div class=\"dni-plaintext\">CS009413000079</div></td><td><div class=\"dni-plaintext\">市川 コウ</div></td><td><div class=\"dni-plaintext\">1</div></td><td><div class=\"dni-plaintext\">女性</div></td><td><span>1975-12-28</span></td><td><div class=\"dni-plaintext\">43</div></td><td><div class=\"dni-plaintext\">158-0093</div></td><td><div class=\"dni-plaintext\">東京都世田谷区上野毛**********</div></td><td><div class=\"dni-plaintext\">S13009</div></td><td><div class=\"dni-plaintext\">20151209</div></td><td><div class=\"dni-plaintext\">0-00000000-0</div></td><td><div class=\"dni-plaintext\">139.63684</div></td><td><div class=\"dni-plaintext\">35.60832</div></td></tr><tr><td>14</td><td><div class=\"dni-plaintext\">CS040412000191</div></td><td><div class=\"dni-plaintext\">川井 郁恵</div></td><td><div class=\"dni-plaintext\">1</div></td><td><div class=\"dni-plaintext\">女性</div></td><td><span>1977-01-05</span></td><td><div class=\"dni-plaintext\">42</div></td><td><div class=\"dni-plaintext\">226-0021</div></td><td><div class=\"dni-plaintext\">神奈川県横浜市緑区北八朔町**********</div></td><td><div class=\"dni-plaintext\">S14040</div></td><td><div class=\"dni-plaintext\">20151101</div></td><td><div class=\"dni-plaintext\">1-20091025-4</div></td><td><div class=\"dni-plaintext\">139.53964</div></td><td><div class=\"dni-plaintext\">35.52763</div></td></tr><tr><td>15</td><td><div class=\"dni-plaintext\">CS029415000023</div></td><td><div class=\"dni-plaintext\">梅田 里穂</div></td><td><div class=\"dni-plaintext\">1</div></td><td><div class=\"dni-plaintext\">女性</div></td><td><span>1976-01-17</span></td><td><div class=\"dni-plaintext\">43</div></td><td><div class=\"dni-plaintext\">279-0043</div></td><td><div class=\"dni-plaintext\">千葉県浦安市富士見**********</div></td><td><div class=\"dni-plaintext\">S12029</div></td><td><div class=\"dni-plaintext\">20150610</div></td><td><div class=\"dni-plaintext\">D-20100918-E</div></td><td><div class=\"dni-plaintext\">139.89255</div></td><td><div class=\"dni-plaintext\">35.65067</div></td></tr><tr><td>16</td><td><div class=\"dni-plaintext\">CS009315000023</div></td><td><div class=\"dni-plaintext\">皆川 文世</div></td><td><div class=\"dni-plaintext\">1</div></td><td><div class=\"dni-plaintext\">女性</div></td><td><span>1980-04-15</span></td><td><div class=\"dni-plaintext\">38</div></td><td><div class=\"dni-plaintext\">154-0012</div></td><td><div class=\"dni-plaintext\">東京都世田谷区駒沢**********</div></td><td><div class=\"dni-plaintext\">S13009</div></td><td><div class=\"dni-plaintext\">20150319</div></td><td><div class=\"dni-plaintext\">5-20080322-1</div></td><td><div class=\"dni-plaintext\">139.6573</div></td><td><div class=\"dni-plaintext\">35.62466</div></td></tr><tr><td>17</td><td><div class=\"dni-plaintext\">CS040702000012</div></td><td><div class=\"dni-plaintext\">根本 六郎</div></td><td><div class=\"dni-plaintext\">0</div></td><td><div class=\"dni-plaintext\">男性</div></td><td><span>1939-07-02</span></td><td><div class=\"dni-plaintext\">79</div></td><td><div class=\"dni-plaintext\">226-0018</div></td><td><div class=\"dni-plaintext\">神奈川県横浜市緑区長津田みなみ台**********</div></td><td><div class=\"dni-plaintext\">S14040</div></td><td><div class=\"dni-plaintext\">20150112</div></td><td><div class=\"dni-plaintext\">0-00000000-0</div></td><td><div class=\"dni-plaintext\">139.49529</div></td><td><div class=\"dni-plaintext\">35.51802</div></td></tr><tr><td>18</td><td><div class=\"dni-plaintext\">CS046615000013</div></td><td><div class=\"dni-plaintext\">河野 花</div></td><td><div class=\"dni-plaintext\">1</div></td><td><div class=\"dni-plaintext\">女性</div></td><td><span>1953-04-06</span></td><td><div class=\"dni-plaintext\">65</div></td><td><div class=\"dni-plaintext\">224-0026</div></td><td><div class=\"dni-plaintext\">神奈川県横浜市都筑区南山田町**********</div></td><td><div class=\"dni-plaintext\">S14046</div></td><td><div class=\"dni-plaintext\">20181207</div></td><td><div class=\"dni-plaintext\">0-00000000-0</div></td><td><div class=\"dni-plaintext\">139.59666</div></td><td><div class=\"dni-plaintext\">35.55262</div></td></tr><tr><td>19</td><td><div class=\"dni-plaintext\">CS025412000147</div></td><td><div class=\"dni-plaintext\">堀口 陽子</div></td><td><div class=\"dni-plaintext\">1</div></td><td><div class=\"dni-plaintext\">女性</div></td><td><span>1974-10-22</span></td><td><div class=\"dni-plaintext\">44</div></td><td><div class=\"dni-plaintext\">242-0015</div></td><td><div class=\"dni-plaintext\">神奈川県大和市下和田**********</div></td><td><div class=\"dni-plaintext\">S14025</div></td><td><div class=\"dni-plaintext\">20150417</div></td><td><div class=\"dni-plaintext\">0-00000000-0</div></td><td><div class=\"dni-plaintext\">139.46986</div></td><td><div class=\"dni-plaintext\">35.4296</div></td></tr><tr><td colspan=\"14\">(21951 more)</td></tr></tbody></table>"
      ]
     },
     "metadata": {},
     "output_type": "display_data"
    }
   ],
   "source": [
    "// 郵便番号と それに紐づく 経度（longitude）、緯度（latitude） の平均の値 : 郵便番号をキーに検索できる Dictionary 型データ\n",
    "var df_geocode_avg_dic = df_geocode.GroupBy(r => r.postal_cd)\n",
    "    .Select(r => new {\n",
    "        postal_cd = r.Key,\n",
    "        m_longitude = r.Average(t => t.longitude),\n",
    "        m_latitude = r.Average(t => t.latitude),\n",
    "    })\n",
    "    .ToDictionary(r => r.postal_cd);\n",
    "\n",
    "var df_customer_1 = df_customer.Select(r => new {\n",
    "    r.customer_id,\n",
    "    r.customer_name,\n",
    "    r.gender_cd,\n",
    "    r.gender,\n",
    "    r.birth_day,\n",
    "    r.age,\n",
    "    r.postal_cd,\n",
    "    r.address,\n",
    "    r.application_store_cd,\n",
    "    r.application_date,\n",
    "    r.status_cd,\n",
    "    m_longitude = df_geocode_avg_dic[r.postal_cd].m_longitude,\n",
    "    m_latitude = df_geocode_avg_dic[r.postal_cd].m_latitude,\n",
    "}).ToList();\n",
    "\n",
    "display(df_customer_1);\n",
    "\n",
    "// customer_id\tcustomer_name\tgender_cd\tgender\tbirth_day\tage\tpostal_cd\taddress\tapplication_store_cd\tapplication_date\tstatus_cd\tage_group\tm_longitude\tm_latitude"
   ]
  },
  {
   "cell_type": "markdown",
   "metadata": {},
   "source": [
    "---\n",
    "> P-086: 前設問で作成した緯度経度つき顧客データフレーム（df_customer_1）に対し、申込み店舗コード（application_store_cd）をキーに店舗データフレーム（df_store）と結合せよ。そして申込み店舗の緯度（latitude）・経度情報（longitude)と顧客の緯度・経度を用いて距離（km）を求め、顧客ID（customer_id）、顧客住所（address）、店舗住所（address）とともに表示せよ。計算式は簡易式で良いものとするが、その他精度の高い方式を利用したライブラリを利用してもかまわない。結果は10件表示すれば良い。"
   ]
  },
  {
   "cell_type": "markdown",
   "metadata": {},
   "source": [
    "```\n",
    "緯度（ラジアン）：\\phi \\\\\n",
    "経度（ラジアン）：\\lambda \\\\\n",
    "距離L = 6371 * arccos(sin \\phi_1 * sin \\phi_2\n",
    "+ cos \\phi_1 * cos \\phi_2 * cos(\\lambda_1 − \\lambda_2))\n",
    "```"
   ]
  },
  {
   "cell_type": "code",
   "execution_count": 92,
   "metadata": {
    "dotnet_interactive": {
     "language": "csharp"
    }
   },
   "outputs": [
    {
     "data": {
      "text/html": [
       "<table><thead><tr><th><i>index</i></th><th>customer_id</th><th>address</th><th>store_address</th><th>distance</th></tr></thead><tbody><tr><td>0</td><td><div class=\"dni-plaintext\">CS021313000114</div></td><td><div class=\"dni-plaintext\">神奈川県伊勢原市粟窪**********</div></td><td><div class=\"dni-plaintext\">神奈川県伊勢原市伊勢原四丁目</div></td><td><div class=\"dni-plaintext\">1.3944087027154715</div></td></tr><tr><td>1</td><td><div class=\"dni-plaintext\">CS037613000071</div></td><td><div class=\"dni-plaintext\">東京都江東区南砂**********</div></td><td><div class=\"dni-plaintext\">東京都江東区南砂一丁目</div></td><td><div class=\"dni-plaintext\">1.4511822099658445</div></td></tr><tr><td>2</td><td><div class=\"dni-plaintext\">CS031415000172</div></td><td><div class=\"dni-plaintext\">東京都渋谷区代々木**********</div></td><td><div class=\"dni-plaintext\">東京都渋谷区初台二丁目</div></td><td><div class=\"dni-plaintext\">0.4117334789298223</div></td></tr><tr><td>3</td><td><div class=\"dni-plaintext\">CS028811000001</div></td><td><div class=\"dni-plaintext\">神奈川県横浜市泉区和泉町**********</div></td><td><div class=\"dni-plaintext\">神奈川県横浜市瀬谷区二ツ橋町</div></td><td><div class=\"dni-plaintext\">8.065196026704987</div></td></tr><tr><td>4</td><td><div class=\"dni-plaintext\">CS001215000145</div></td><td><div class=\"dni-plaintext\">東京都大田区仲六郷**********</div></td><td><div class=\"dni-plaintext\">東京都大田区仲六郷二丁目</div></td><td><div class=\"dni-plaintext\">1.2684209720729687</div></td></tr><tr><td>5</td><td><div class=\"dni-plaintext\">CS020401000016</div></td><td><div class=\"dni-plaintext\">東京都板橋区若木**********</div></td><td><div class=\"dni-plaintext\">東京都北区十条仲原三丁目</div></td><td><div class=\"dni-plaintext\">4.18590461529678</div></td></tr><tr><td>6</td><td><div class=\"dni-plaintext\">CS015414000103</div></td><td><div class=\"dni-plaintext\">東京都江東区北砂**********</div></td><td><div class=\"dni-plaintext\">東京都江東区南砂二丁目</div></td><td><div class=\"dni-plaintext\">1.4496734114236336</div></td></tr><tr><td>7</td><td><div class=\"dni-plaintext\">CS029403000008</div></td><td><div class=\"dni-plaintext\">千葉県浦安市海楽**********</div></td><td><div class=\"dni-plaintext\">千葉県浦安市東野一丁目</div></td><td><div class=\"dni-plaintext\">0.804858125326335</div></td></tr><tr><td>8</td><td><div class=\"dni-plaintext\">CS015804000004</div></td><td><div class=\"dni-plaintext\">東京都江東区北砂**********</div></td><td><div class=\"dni-plaintext\">東京都江東区南砂二丁目</div></td><td><div class=\"dni-plaintext\">1.4496734114236336</div></td></tr><tr><td>9</td><td><div class=\"dni-plaintext\">CS033513000180</div></td><td><div class=\"dni-plaintext\">神奈川県横浜市旭区善部町**********</div></td><td><div class=\"dni-plaintext\">神奈川県横浜市瀬谷区阿久和西一丁目</div></td><td><div class=\"dni-plaintext\">1.9569470032302752</div></td></tr></tbody></table>"
      ]
     },
     "execution_count": 92,
     "metadata": {},
     "output_type": "execute_result"
    }
   ],
   "source": [
    "var df_store_dic = df_store.ToDictionary(r => r.store_cd);\n",
    "\n",
    "//def calc_distance(x1, y1, x2, y2):\n",
    "//    x1_r = np.radians(x1)\n",
    "//    x2_r = np.radians(x2)\n",
    "//    y1_r = np.radians(y1)\n",
    "//    y2_r = np.radians(y2)\n",
    "//    return 6371 * np.arccos(np.sin(y1_r) * np.sin(y2_r) \n",
    "//                            + np.cos(y1_r) * np.cos(y2_r) \n",
    "//                            * np.cos(x1_r - x2_r))\n",
    "//    return distance\n",
    "double DegreeToRadian(double deg) {\n",
    "    return Math.PI * deg / 180.0;\n",
    "}\n",
    "double CalcDistance(double x1, double y1, double x2, double y2) {\n",
    "    double x1_r = DegreeToRadian(x1);\n",
    "    double x2_r = DegreeToRadian(x2);\n",
    "    double y1_r = DegreeToRadian(y1);\n",
    "    double y2_r = DegreeToRadian(y2);\n",
    "\n",
    "    return 6371 * Math.Acos(Math.Sin(y1_r) * Math.Sin(y2_r) \n",
    "                    + Math.Cos(y1_r) * Math.Cos(y2_r) \n",
    "                        * Math.Cos(x1_r - x2_r));\n",
    "}\n",
    "\n",
    "df_customer_1.Select(r => new {\n",
    "    r.customer_id,\n",
    "    r.address,\n",
    "    store_address = df_store_dic[r.application_store_cd].address,\n",
    "    //r.m_latitude,\n",
    "    //r.m_longitude,\n",
    "    //application_store_latitude = df_store_dic[r.application_store_cd].latitude,\n",
    "    //application_store_longitude = df_store_dic[r.application_store_cd].longitude,\n",
    "    distance = CalcDistance((double) r.m_longitude, (double) r.m_latitude, (double) df_store_dic[r.application_store_cd].longitude, (double) df_store_dic[r.application_store_cd].latitude),\n",
    "}).Take(10)"
   ]
  },
  {
   "cell_type": "markdown",
   "metadata": {},
   "source": [
    "---\n",
    "> P-087:  顧客データフレーム（df_customer）では、異なる店舗での申込みなどにより同一顧客が複数登録されている。名前（customer_name）と郵便番号（postal_cd）が同じ顧客は同一顧客とみなし、1顧客1レコードとなるように名寄せした名寄顧客データフレーム（df_customer_u）を作成せよ。ただし、同一顧客に対しては売上金額合計が最も高いものを残すものとし、売上金額合計が同一もしくは売上実績の無い顧客については顧客ID（customer_id）の番号が小さいものを残すこととする。"
   ]
  },
  {
   "cell_type": "code",
   "execution_count": 93,
   "metadata": {
    "dotnet_interactive": {
     "language": "csharp"
    }
   },
   "outputs": [
    {
     "data": {
      "text/html": [
       "<div class=\"dni-plaintext\">30</div>"
      ]
     },
     "execution_count": 93,
     "metadata": {},
     "output_type": "execute_result"
    }
   ],
   "source": [
    "//df_tmp = df_receipt.groupby('customer_id').agg({'amount':sum}).reset_index()\n",
    "//df_customer_u = pd.merge(df_customer, df_tmp, how='left', on='customer_id').sort_values(['amount', 'customer_id']\n",
    "//                                                                                        , ascending=[False, True])\n",
    "//df_customer_u.drop_duplicates(subset=['customer_name', 'postal_cd'], keep='first', inplace=True)\n",
    "//\n",
    "//print('減少数: ', len(df_customer) - len(df_customer_u))\n",
    "// 顧客ID 毎の売上金額の計算\n",
    "var df_amount_dic = df_receipt.GroupBy(r => r.customer_id).Select(r => new {\n",
    "    customer_id = r.Key,\n",
    "    sum_amount = r.Sum(t => t.amount),\n",
    "}).ToDictionary(r => r.customer_id);\n",
    "\n",
    "var df_customer_u = df_customer\n",
    "    .Select(r => new {\n",
    "        r.customer_id,\n",
    "        nayose_key = r.customer_name + \"\\t\" + r.postal_cd,\n",
    "        sum_amount = df_amount_dic.GetValueOrDefault(r.customer_id)?.sum_amount ?? 0,\n",
    "    })\n",
    "    .GroupBy(r => r.nayose_key)\n",
    "    .Select(r => new {\n",
    "        nayose_key = r.Key,\n",
    "        customer_id = r.OrderByDescending(t => t.sum_amount).FirstOrDefault()?.customer_id,\n",
    "    })\n",
    "    .ToList();\n",
    "\n",
    "// 現象数をカウント\n",
    "df_customer.Count() - df_customer_u.Count()"
   ]
  },
  {
   "cell_type": "markdown",
   "metadata": {},
   "source": [
    "---\n",
    "> P-088: 前設問で作成したデータを元に、顧客データフレームに統合名寄IDを付与したデータフレーム（df_customer_n）を作成せよ。ただし、統合名寄IDは以下の仕様で付与するものとする。\n",
    ">\n",
    "> - 重複していない顧客：顧客ID（customer_id）を設定\n",
    "> - 重複している顧客：前設問で抽出したレコードの顧客IDを設定"
   ]
  },
  {
   "cell_type": "code",
   "execution_count": 94,
   "metadata": {
    "dotnet_interactive": {
     "language": "csharp"
    }
   },
   "outputs": [],
   "source": [
    "//df_customer_n = pd.merge(df_customer, df_customer_u[['customer_name', 'postal_cd', 'customer_id']],\n",
    "//                        how='inner', on =['customer_name', 'postal_cd'])\n",
    "//df_customer_n.rename(columns={'customer_id_x':'customer_id', 'customer_id_y':'integration_id'}, inplace=True)\n",
    "//\n",
    "//print('ID数の差', len(df_customer_n['customer_id'].unique()) - len(df_customer_n['integration_id'].unique()))\n",
    "var nayose_customer_id_dic = df_customer_u.ToDictionary(r => r.nayose_key);\n",
    "\n",
    "var df_customer_n = df_customer.Select(r => new {\n",
    "    customer_id = nayose_customer_id_dic[r.customer_name + \"\\t\" + r.postal_cd].customer_id,\n",
    "    r.customer_name,\n",
    "    r.gender_cd, r.gender,\n",
    "    r.postal_cd,r.address,\n",
    "    r.age,\n",
    "    r.application_date,\n",
    "    r.application_store_cd,\n",
    "    r.birth_day,\n",
    "    r.status_cd,\n",
    "});\n",
    "\n"
   ]
  },
  {
   "cell_type": "markdown",
   "metadata": {},
   "source": [
    "---\n",
    "> P-089: 売上実績のある顧客に対し、予測モデル構築のため学習用データとテスト用データに分割したい。それぞれ8:2の割合でランダムにデータを分割せよ。"
   ]
  },
  {
   "cell_type": "code",
   "execution_count": 95,
   "metadata": {
    "dotnet_interactive": {
     "language": "csharp"
    }
   },
   "outputs": [
    {
     "data": {
      "text/html": [
       "<table><thead><tr><th>train_size</th><th>test_size</th></tr></thead><tbody><tr><td><div class=\"dni-plaintext\">6645</div></td><td><div class=\"dni-plaintext\">1661</div></td></tr></tbody></table>"
      ]
     },
     "execution_count": 95,
     "metadata": {},
     "output_type": "execute_result"
    }
   ],
   "source": [
    "// df_tmp = pd.merge(df_customer, df_receipt['customer_id'], how='inner', on='customer_id')\n",
    "// df_train, df_test = train_test_split(df_tmp, test_size=0.2, random_state=71)\n",
    "// print('学習データ割合: ', len(df_train) / len(df_tmp))\n",
    "// print('テストデータ割合: ', len(df_test) / len(df_tmp))\n",
    "\n",
    "\n",
    "// 指定の件数になるまでデータを抽出する\n",
    "static HashSet<string> GetListRandum(List<string> items, int getSize) {\n",
    "    // 全要素の中から ランダムにデータをピックアップして \n",
    "    // 指定のデータ件数になるまで繰り返す\n",
    "    Random r = new Random();\n",
    "    int count = items.Count();\n",
    "    if (count < getSize) {\n",
    "        getSize = count;\n",
    "    }\n",
    "    HashSet<string> ansSet = new HashSet<string>();\n",
    "    while(ansSet.Count < getSize) {\n",
    "        var ix = r.Next(count);\n",
    "        string id = items[ix];\n",
    "        ansSet.Add(id);\n",
    "    }\n",
    "\n",
    "    return ansSet;\n",
    "}\n",
    "\n",
    "// 売上実績のある顧客の抽出\n",
    "var query_cust = from df_receipt in df_receipt \n",
    "    join df_customer in df_customer on df_receipt.customer_id equals df_customer.customer_id\n",
    "    select df_customer.customer_id;\n",
    "\n",
    "// 対象となる顧客\n",
    "var targetCustmerList = query_cust.Distinct().ToList();\n",
    "int pct20 = (int) (targetCustmerList.Count() * 0.2);\n",
    "// 20％ に含まれる人\n",
    "var df_cusomer_20 = GetListRandum(targetCustmerList, pct20);\n",
    "// 残りの 80% \n",
    "var df_cusomer_80 = targetCustmerList.Except(df_cusomer_20).ToHashSet();\n",
    "\n",
    "//print(nrow(df_customer_train))\n",
    "//print(nrow(df_customer_test))\n",
    "// 80% の人が含まれている\n",
    "var df_customer_train = df_customer.Where(r => df_cusomer_80.Contains(r.customer_id)).ToList();\n",
    "// 20% の人が含まれている\n",
    "var df_customer_test = df_customer.Where(r => df_cusomer_20.Contains(r.customer_id)).ToList();\n",
    "\n",
    "new {\n",
    "    train_size = df_customer_train.Count(),\n",
    "    test_size = df_customer_test.Count(),\n",
    "}"
   ]
  },
  {
   "cell_type": "markdown",
   "metadata": {},
   "source": [
    "---\n",
    "> P-090: レシート明細データフレーム（df_receipt）は2017年1月1日〜2019年10月31日までのデータを有している。売上金額（amount）を月次で集計し、学習用に12ヶ月、テスト用に6ヶ月のモデル構築用データを3セット作成せよ。"
   ]
  },
  {
   "cell_type": "code",
   "execution_count": 96,
   "metadata": {
    "dotnet_interactive": {
     "language": "csharp"
    }
   },
   "outputs": [
    {
     "data": {
      "text/html": [
       "<table><thead><tr><th>max</th><th>min</th></tr></thead><tbody><tr><td><div class=\"dni-plaintext\">20191031</div></td><td><div class=\"dni-plaintext\">20170101</div></td></tr></tbody></table>"
      ]
     },
     "execution_count": 96,
     "metadata": {},
     "output_type": "execute_result"
    }
   ],
   "source": [
    "//df_tmp = df_receipt[['sales_ymd', 'amount']].copy()\n",
    "//df_tmp['sales_ym'] = df_tmp['sales_ymd'].astype('str').str[0:6]\n",
    "//df_tmp = df_tmp.groupby('sales_ym').agg({'amount':'sum'}).reset_index()\n",
    "\n",
    "//# 関数化することで長期間データに対する多数のデータセットもループなどで処理できるようにする\n",
    "//def split_data(df, train_size, test_size, slide_window, start_point):\n",
    "//    train_start = start_point * slide_window\n",
    "//    test_start = train_start + train_size\n",
    "//    return df[train_start : test_start], df[test_start : test_start + test_size]\n",
    "\n",
    "//df_train_1, df_test_1 = split_data(df_tmp, train_size=12, test_size=6, slide_window=6, start_point=0)\n",
    "//df_train_2, df_test_2 = split_data(df_tmp, train_size=12, test_size=6, slide_window=6, start_point=1)\n",
    "//df_train_3, df_test_3 = split_data(df_tmp, train_size=12, test_size=6, slide_window=6, start_point=2)\n",
    "\n",
    "new {\n",
    "    max = df_receipt.Max(r => r.sales_ymd),\n",
    "    min = df_receipt.Min(r => r.sales_ymd),\n",
    "}"
   ]
  },
  {
   "cell_type": "markdown",
   "metadata": {},
   "source": [
    "---\n",
    "> P-091: 顧客データフレーム（df_customer）の各顧客に対し、売上実績のある顧客数と売上実績のない顧客数が1:1となるようにアンダーサンプリングで抽出せよ。"
   ]
  },
  {
   "cell_type": "code",
   "execution_count": 97,
   "metadata": {
    "dotnet_interactive": {
     "language": "csharp"
    }
   },
   "outputs": [
    {
     "data": {
      "text/html": [
       "<div class=\"dni-plaintext\">8307</div>"
      ]
     },
     "metadata": {},
     "output_type": "display_data"
    },
    {
     "data": {
      "text/html": [
       "<table><thead><tr><th>売上実績のある顧客_件数</th><th>売上実績のない顧客_件数</th></tr></thead><tbody><tr><td><div class=\"dni-plaintext\">8307</div></td><td><div class=\"dni-plaintext\">8307</div></td></tr></tbody></table>"
      ]
     },
     "metadata": {},
     "output_type": "display_data"
    }
   ],
   "source": [
    "// 顧客単位の売り上げを計算\n",
    "var cus_amount = df_receipt.GroupBy(r => r.customer_id).Select(r => new {\n",
    "    customer_id = r.Key,\n",
    "    sum_amount = r.Sum(t => t.amount),\n",
    "}).ToDictionary(r => r.customer_id);\n",
    "\n",
    "// 売上実績のある顧客\n",
    "var amount_customer = df_receipt.Where(r => r.amount > 0).Select(r => r.customer_id).Distinct().ToHashSet();\n",
    "// 売上実績のない顧客\n",
    "var no_amount_customer = df_customer.Where(r => ! amount_customer.Contains(r.customer_id)).Select(r => r.customer_id).ToHashSet();\n",
    "\n",
    "display(amount_customer.Count());\n",
    "\n",
    "int get_n = Math.Min(amount_customer.Count(), no_amount_customer.Count());\n",
    "// 条件を指定してランダムにデータ件数抽出\n",
    "\n",
    "// 指定の件数になるまでデータを抽出する\n",
    "static HashSet<string> GetListRandumOrAll(HashSet<string> items, int getSize) {\n",
    "    // 求める件数より多い場合はすべてを返す\n",
    "    if (getSize >= items.Count) {\n",
    "        return items;\n",
    "    }\n",
    "    // 全要素の中から ランダムにデータをピックアップして \n",
    "    // 指定のデータ件数になるまで繰り返す\n",
    "    Random r = new Random();\n",
    "    int count = items.Count();\n",
    "    if (count < getSize) {\n",
    "        getSize = count;\n",
    "    }\n",
    "    HashSet<string> ansSet = new HashSet<string>();\n",
    "    var list = items.ToList();\n",
    "    while(ansSet.Count < getSize) {\n",
    "        var ix = r.Next(count);\n",
    "        string id = list[ix];\n",
    "        ansSet.Add(id);\n",
    "    }\n",
    "\n",
    "    return ansSet;\n",
    "}\n",
    "\n",
    "var sample_amount_cust_id = GetListRandumOrAll(amount_customer, get_n);\n",
    "var sample_no_amount_cust_id = GetListRandumOrAll(no_amount_customer, get_n);\n",
    "\n",
    "display(new {\n",
    "    売上実績のある顧客_件数 = sample_amount_cust_id.Count(),\n",
    "    売上実績のない顧客_件数 = sample_no_amount_cust_id.Count()\n",
    "});"
   ]
  },
  {
   "cell_type": "markdown",
   "metadata": {},
   "source": [
    "---\n",
    "> P-092: 顧客データフレーム（df_customer）では、性別に関する情報が非正規化の状態で保持されている。これを第三正規化せよ。"
   ]
  },
  {
   "cell_type": "code",
   "execution_count": 98,
   "metadata": {
    "dotnet_interactive": {
     "language": "csharp"
    }
   },
   "outputs": [
    {
     "data": {
      "text/html": [
       "<table><thead><tr><th><i>index</i></th><th>customer_id</th><th>customer_name</th><th>birth_day</th><th>age</th><th>postal_cd</th><th>address</th><th>application_store_cd</th><th>application_date</th><th>status_cd</th><th>gender</th></tr></thead><tbody><tr><td>0</td><td><div class=\"dni-plaintext\">CS021313000114</div></td><td><div class=\"dni-plaintext\">大野 あや子</div></td><td><span>1981-04-29</span></td><td><div class=\"dni-plaintext\">37</div></td><td><div class=\"dni-plaintext\">259-1113</div></td><td><div class=\"dni-plaintext\">神奈川県伊勢原市粟窪**********</div></td><td><div class=\"dni-plaintext\">S14021</div></td><td><div class=\"dni-plaintext\">20150905</div></td><td><div class=\"dni-plaintext\">0-00000000-0</div></td><td><div class=\"dni-plaintext\">Gender { gender_cd = 1, gender = 女性 }</div></td></tr><tr><td>1</td><td><div class=\"dni-plaintext\">CS037613000071</div></td><td><div class=\"dni-plaintext\">六角 雅彦</div></td><td><span>1952-04-01</span></td><td><div class=\"dni-plaintext\">66</div></td><td><div class=\"dni-plaintext\">136-0076</div></td><td><div class=\"dni-plaintext\">東京都江東区南砂**********</div></td><td><div class=\"dni-plaintext\">S13037</div></td><td><div class=\"dni-plaintext\">20150414</div></td><td><div class=\"dni-plaintext\">0-00000000-0</div></td><td><div class=\"dni-plaintext\">Gender { gender_cd = 9, gender = 不明 }</div></td></tr><tr><td>2</td><td><div class=\"dni-plaintext\">CS031415000172</div></td><td><div class=\"dni-plaintext\">宇多田 貴美子</div></td><td><span>1976-10-04</span></td><td><div class=\"dni-plaintext\">42</div></td><td><div class=\"dni-plaintext\">151-0053</div></td><td><div class=\"dni-plaintext\">東京都渋谷区代々木**********</div></td><td><div class=\"dni-plaintext\">S13031</div></td><td><div class=\"dni-plaintext\">20150529</div></td><td><div class=\"dni-plaintext\">D-20100325-C</div></td><td><div class=\"dni-plaintext\">Gender { gender_cd = 1, gender = 女性 }</div></td></tr><tr><td>3</td><td><div class=\"dni-plaintext\">CS028811000001</div></td><td><div class=\"dni-plaintext\">堀井 かおり</div></td><td><span>1933-03-27</span></td><td><div class=\"dni-plaintext\">86</div></td><td><div class=\"dni-plaintext\">245-0016</div></td><td><div class=\"dni-plaintext\">神奈川県横浜市泉区和泉町**********</div></td><td><div class=\"dni-plaintext\">S14028</div></td><td><div class=\"dni-plaintext\">20160115</div></td><td><div class=\"dni-plaintext\">0-00000000-0</div></td><td><div class=\"dni-plaintext\">Gender { gender_cd = 1, gender = 女性 }</div></td></tr><tr><td>4</td><td><div class=\"dni-plaintext\">CS001215000145</div></td><td><div class=\"dni-plaintext\">田崎 美紀</div></td><td><span>1995-03-29</span></td><td><div class=\"dni-plaintext\">24</div></td><td><div class=\"dni-plaintext\">144-0055</div></td><td><div class=\"dni-plaintext\">東京都大田区仲六郷**********</div></td><td><div class=\"dni-plaintext\">S13001</div></td><td><div class=\"dni-plaintext\">20170605</div></td><td><div class=\"dni-plaintext\">6-20090929-2</div></td><td><div class=\"dni-plaintext\">Gender { gender_cd = 1, gender = 女性 }</div></td></tr><tr><td>5</td><td><div class=\"dni-plaintext\">CS020401000016</div></td><td><div class=\"dni-plaintext\">宮下 達士</div></td><td><span>1974-09-15</span></td><td><div class=\"dni-plaintext\">44</div></td><td><div class=\"dni-plaintext\">174-0065</div></td><td><div class=\"dni-plaintext\">東京都板橋区若木**********</div></td><td><div class=\"dni-plaintext\">S13020</div></td><td><div class=\"dni-plaintext\">20150225</div></td><td><div class=\"dni-plaintext\">0-00000000-0</div></td><td><div class=\"dni-plaintext\">Gender { gender_cd = 0, gender = 男性 }</div></td></tr><tr><td>6</td><td><div class=\"dni-plaintext\">CS015414000103</div></td><td><div class=\"dni-plaintext\">奥野 陽子</div></td><td><span>1977-08-09</span></td><td><div class=\"dni-plaintext\">41</div></td><td><div class=\"dni-plaintext\">136-0073</div></td><td><div class=\"dni-plaintext\">東京都江東区北砂**********</div></td><td><div class=\"dni-plaintext\">S13015</div></td><td><div class=\"dni-plaintext\">20150722</div></td><td><div class=\"dni-plaintext\">B-20100609-B</div></td><td><div class=\"dni-plaintext\">Gender { gender_cd = 1, gender = 女性 }</div></td></tr><tr><td>7</td><td><div class=\"dni-plaintext\">CS029403000008</div></td><td><div class=\"dni-plaintext\">釈 人志</div></td><td><span>1973-08-17</span></td><td><div class=\"dni-plaintext\">45</div></td><td><div class=\"dni-plaintext\">279-0003</div></td><td><div class=\"dni-plaintext\">千葉県浦安市海楽**********</div></td><td><div class=\"dni-plaintext\">S12029</div></td><td><div class=\"dni-plaintext\">20150515</div></td><td><div class=\"dni-plaintext\">0-00000000-0</div></td><td><div class=\"dni-plaintext\">Gender { gender_cd = 0, gender = 男性 }</div></td></tr><tr><td>8</td><td><div class=\"dni-plaintext\">CS015804000004</div></td><td><div class=\"dni-plaintext\">松谷 米蔵</div></td><td><span>1931-05-02</span></td><td><div class=\"dni-plaintext\">87</div></td><td><div class=\"dni-plaintext\">136-0073</div></td><td><div class=\"dni-plaintext\">東京都江東区北砂**********</div></td><td><div class=\"dni-plaintext\">S13015</div></td><td><div class=\"dni-plaintext\">20150607</div></td><td><div class=\"dni-plaintext\">0-00000000-0</div></td><td><div class=\"dni-plaintext\">Gender { gender_cd = 0, gender = 男性 }</div></td></tr><tr><td>9</td><td><div class=\"dni-plaintext\">CS033513000180</div></td><td><div class=\"dni-plaintext\">安斎 遥</div></td><td><span>1962-07-11</span></td><td><div class=\"dni-plaintext\">56</div></td><td><div class=\"dni-plaintext\">241-0823</div></td><td><div class=\"dni-plaintext\">神奈川県横浜市旭区善部町**********</div></td><td><div class=\"dni-plaintext\">S14033</div></td><td><div class=\"dni-plaintext\">20150728</div></td><td><div class=\"dni-plaintext\">6-20080506-5</div></td><td><div class=\"dni-plaintext\">Gender { gender_cd = 1, gender = 女性 }</div></td></tr><tr><td>10</td><td><div class=\"dni-plaintext\">CS007403000016</div></td><td><div class=\"dni-plaintext\">依田 満</div></td><td><span>1975-08-18</span></td><td><div class=\"dni-plaintext\">43</div></td><td><div class=\"dni-plaintext\">276-0022</div></td><td><div class=\"dni-plaintext\">千葉県八千代市上高野**********</div></td><td><div class=\"dni-plaintext\">S12007</div></td><td><div class=\"dni-plaintext\">20150914</div></td><td><div class=\"dni-plaintext\">0-00000000-0</div></td><td><div class=\"dni-plaintext\">Gender { gender_cd = 0, gender = 男性 }</div></td></tr><tr><td>11</td><td><div class=\"dni-plaintext\">CS035614000014</div></td><td><div class=\"dni-plaintext\">板倉 菜々美</div></td><td><span>1954-07-16</span></td><td><div class=\"dni-plaintext\">64</div></td><td><div class=\"dni-plaintext\">154-0015</div></td><td><div class=\"dni-plaintext\">東京都世田谷区桜新町**********</div></td><td><div class=\"dni-plaintext\">S13035</div></td><td><div class=\"dni-plaintext\">20150804</div></td><td><div class=\"dni-plaintext\">0-00000000-0</div></td><td><div class=\"dni-plaintext\">Gender { gender_cd = 1, gender = 女性 }</div></td></tr><tr><td>12</td><td><div class=\"dni-plaintext\">CS011215000048</div></td><td><div class=\"dni-plaintext\">芦田 沙耶</div></td><td><span>1992-02-01</span></td><td><div class=\"dni-plaintext\">27</div></td><td><div class=\"dni-plaintext\">223-0062</div></td><td><div class=\"dni-plaintext\">神奈川県横浜市港北区日吉本町**********</div></td><td><div class=\"dni-plaintext\">S14011</div></td><td><div class=\"dni-plaintext\">20150228</div></td><td><div class=\"dni-plaintext\">C-20100421-9</div></td><td><div class=\"dni-plaintext\">Gender { gender_cd = 1, gender = 女性 }</div></td></tr><tr><td>13</td><td><div class=\"dni-plaintext\">CS009413000079</div></td><td><div class=\"dni-plaintext\">市川 コウ</div></td><td><span>1975-12-28</span></td><td><div class=\"dni-plaintext\">43</div></td><td><div class=\"dni-plaintext\">158-0093</div></td><td><div class=\"dni-plaintext\">東京都世田谷区上野毛**********</div></td><td><div class=\"dni-plaintext\">S13009</div></td><td><div class=\"dni-plaintext\">20151209</div></td><td><div class=\"dni-plaintext\">0-00000000-0</div></td><td><div class=\"dni-plaintext\">Gender { gender_cd = 1, gender = 女性 }</div></td></tr><tr><td>14</td><td><div class=\"dni-plaintext\">CS040412000191</div></td><td><div class=\"dni-plaintext\">川井 郁恵</div></td><td><span>1977-01-05</span></td><td><div class=\"dni-plaintext\">42</div></td><td><div class=\"dni-plaintext\">226-0021</div></td><td><div class=\"dni-plaintext\">神奈川県横浜市緑区北八朔町**********</div></td><td><div class=\"dni-plaintext\">S14040</div></td><td><div class=\"dni-plaintext\">20151101</div></td><td><div class=\"dni-plaintext\">1-20091025-4</div></td><td><div class=\"dni-plaintext\">Gender { gender_cd = 1, gender = 女性 }</div></td></tr><tr><td>15</td><td><div class=\"dni-plaintext\">CS029415000023</div></td><td><div class=\"dni-plaintext\">梅田 里穂</div></td><td><span>1976-01-17</span></td><td><div class=\"dni-plaintext\">43</div></td><td><div class=\"dni-plaintext\">279-0043</div></td><td><div class=\"dni-plaintext\">千葉県浦安市富士見**********</div></td><td><div class=\"dni-plaintext\">S12029</div></td><td><div class=\"dni-plaintext\">20150610</div></td><td><div class=\"dni-plaintext\">D-20100918-E</div></td><td><div class=\"dni-plaintext\">Gender { gender_cd = 1, gender = 女性 }</div></td></tr><tr><td>16</td><td><div class=\"dni-plaintext\">CS009315000023</div></td><td><div class=\"dni-plaintext\">皆川 文世</div></td><td><span>1980-04-15</span></td><td><div class=\"dni-plaintext\">38</div></td><td><div class=\"dni-plaintext\">154-0012</div></td><td><div class=\"dni-plaintext\">東京都世田谷区駒沢**********</div></td><td><div class=\"dni-plaintext\">S13009</div></td><td><div class=\"dni-plaintext\">20150319</div></td><td><div class=\"dni-plaintext\">5-20080322-1</div></td><td><div class=\"dni-plaintext\">Gender { gender_cd = 1, gender = 女性 }</div></td></tr><tr><td>17</td><td><div class=\"dni-plaintext\">CS040702000012</div></td><td><div class=\"dni-plaintext\">根本 六郎</div></td><td><span>1939-07-02</span></td><td><div class=\"dni-plaintext\">79</div></td><td><div class=\"dni-plaintext\">226-0018</div></td><td><div class=\"dni-plaintext\">神奈川県横浜市緑区長津田みなみ台**********</div></td><td><div class=\"dni-plaintext\">S14040</div></td><td><div class=\"dni-plaintext\">20150112</div></td><td><div class=\"dni-plaintext\">0-00000000-0</div></td><td><div class=\"dni-plaintext\">Gender { gender_cd = 0, gender = 男性 }</div></td></tr><tr><td>18</td><td><div class=\"dni-plaintext\">CS046615000013</div></td><td><div class=\"dni-plaintext\">河野 花</div></td><td><span>1953-04-06</span></td><td><div class=\"dni-plaintext\">65</div></td><td><div class=\"dni-plaintext\">224-0026</div></td><td><div class=\"dni-plaintext\">神奈川県横浜市都筑区南山田町**********</div></td><td><div class=\"dni-plaintext\">S14046</div></td><td><div class=\"dni-plaintext\">20181207</div></td><td><div class=\"dni-plaintext\">0-00000000-0</div></td><td><div class=\"dni-plaintext\">Gender { gender_cd = 1, gender = 女性 }</div></td></tr><tr><td>19</td><td><div class=\"dni-plaintext\">CS025412000147</div></td><td><div class=\"dni-plaintext\">堀口 陽子</div></td><td><span>1974-10-22</span></td><td><div class=\"dni-plaintext\">44</div></td><td><div class=\"dni-plaintext\">242-0015</div></td><td><div class=\"dni-plaintext\">神奈川県大和市下和田**********</div></td><td><div class=\"dni-plaintext\">S14025</div></td><td><div class=\"dni-plaintext\">20150417</div></td><td><div class=\"dni-plaintext\">0-00000000-0</div></td><td><div class=\"dni-plaintext\">Gender { gender_cd = 1, gender = 女性 }</div></td></tr><tr><td colspan=\"11\">(21951 more)</td></tr></tbody></table>"
      ]
     },
     "execution_count": 98,
     "metadata": {},
     "output_type": "execute_result"
    }
   ],
   "source": [
    "public record Gender {\n",
    "    public string gender_cd {get; init;}\n",
    "    public string gender {get;init;}\n",
    "}\n",
    "\n",
    "public class CustomerS\n",
    "{\n",
    "    public string customer_id { get; init; }\n",
    "    public string customer_name { get; init; }\n",
    "    public DateTime? birth_day { get; init; }\n",
    "    public int? age { get; init; }\n",
    "    public string postal_cd { get; init; }\n",
    "    public string address { get; init; }\n",
    "    public string application_store_cd { get; init; }\n",
    "    public string application_date { get; init; }\n",
    "    public string status_cd { get; init; }\n",
    "\n",
    "    public Gender gender {get;init;}\n",
    "}\n",
    "\n",
    "var df_gender = df_customer.GroupBy(r => r.gender_cd)\n",
    "    .Select(r => new Gender() {\n",
    "        gender_cd = r.Key,\n",
    "        gender = r.Select(t => t.gender).FirstOrDefault(),\n",
    "    })\n",
    "    .ToDictionary(r => r.gender_cd);\n",
    "\n",
    "var df_customer_s = df_customer.Select(r => new CustomerS() {\n",
    "    customer_id = r.customer_id,\n",
    "    customer_name = r.customer_name,\n",
    "    birth_day = r.birth_day,\n",
    "    age = r.age,\n",
    "    address = r.address,\n",
    "    postal_cd = r.postal_cd,\n",
    "    application_store_cd = r.application_store_cd,\n",
    "    application_date = r.application_date,\n",
    "    status_cd = r.status_cd,\n",
    "    gender = df_gender.GetValueOrDefault(r.gender_cd),\n",
    "}).ToList();\n",
    "\n",
    "df_customer_s"
   ]
  },
  {
   "cell_type": "markdown",
   "metadata": {},
   "source": [
    "---\n",
    "> P-093: 商品データフレーム（df_product）では各カテゴリのコード値だけを保有し、カテゴリ名は保有していない。カテゴリデータフレーム（df_category）と組み合わせて非正規化し、カテゴリ名を保有した新たな商品データフレームを作成せよ。"
   ]
  },
  {
   "cell_type": "code",
   "execution_count": 99,
   "metadata": {
    "dotnet_interactive": {
     "language": "csharp"
    }
   },
   "outputs": [
    {
     "data": {
      "text/html": [
       "<table><thead><tr><th><i>index</i></th><th>product_cd</th><th>category_major_cd</th><th>category_major_name</th><th>category_medium_cd</th><th>category_medium_name</th><th>category_small_cd</th><th>category_small_name</th><th>unit_price</th><th>unit_cost</th></tr></thead><tbody><tr><td>0</td><td><div class=\"dni-plaintext\">P040101001</div></td><td><div class=\"dni-plaintext\">04</div></td><td><div class=\"dni-plaintext\">惣菜</div></td><td><div class=\"dni-plaintext\">0401</div></td><td><div class=\"dni-plaintext\">御飯類</div></td><td><div class=\"dni-plaintext\">040101</div></td><td><div class=\"dni-plaintext\">弁当類</div></td><td><div class=\"dni-plaintext\">198</div></td><td><div class=\"dni-plaintext\">149</div></td></tr><tr><td>1</td><td><div class=\"dni-plaintext\">P040101002</div></td><td><div class=\"dni-plaintext\">04</div></td><td><div class=\"dni-plaintext\">惣菜</div></td><td><div class=\"dni-plaintext\">0401</div></td><td><div class=\"dni-plaintext\">御飯類</div></td><td><div class=\"dni-plaintext\">040101</div></td><td><div class=\"dni-plaintext\">弁当類</div></td><td><div class=\"dni-plaintext\">218</div></td><td><div class=\"dni-plaintext\">164</div></td></tr><tr><td>2</td><td><div class=\"dni-plaintext\">P040101003</div></td><td><div class=\"dni-plaintext\">04</div></td><td><div class=\"dni-plaintext\">惣菜</div></td><td><div class=\"dni-plaintext\">0401</div></td><td><div class=\"dni-plaintext\">御飯類</div></td><td><div class=\"dni-plaintext\">040101</div></td><td><div class=\"dni-plaintext\">弁当類</div></td><td><div class=\"dni-plaintext\">230</div></td><td><div class=\"dni-plaintext\">173</div></td></tr><tr><td>3</td><td><div class=\"dni-plaintext\">P040101004</div></td><td><div class=\"dni-plaintext\">04</div></td><td><div class=\"dni-plaintext\">惣菜</div></td><td><div class=\"dni-plaintext\">0401</div></td><td><div class=\"dni-plaintext\">御飯類</div></td><td><div class=\"dni-plaintext\">040101</div></td><td><div class=\"dni-plaintext\">弁当類</div></td><td><div class=\"dni-plaintext\">248</div></td><td><div class=\"dni-plaintext\">186</div></td></tr><tr><td>4</td><td><div class=\"dni-plaintext\">P040101005</div></td><td><div class=\"dni-plaintext\">04</div></td><td><div class=\"dni-plaintext\">惣菜</div></td><td><div class=\"dni-plaintext\">0401</div></td><td><div class=\"dni-plaintext\">御飯類</div></td><td><div class=\"dni-plaintext\">040101</div></td><td><div class=\"dni-plaintext\">弁当類</div></td><td><div class=\"dni-plaintext\">268</div></td><td><div class=\"dni-plaintext\">201</div></td></tr><tr><td>5</td><td><div class=\"dni-plaintext\">P040101006</div></td><td><div class=\"dni-plaintext\">04</div></td><td><div class=\"dni-plaintext\">惣菜</div></td><td><div class=\"dni-plaintext\">0401</div></td><td><div class=\"dni-plaintext\">御飯類</div></td><td><div class=\"dni-plaintext\">040101</div></td><td><div class=\"dni-plaintext\">弁当類</div></td><td><div class=\"dni-plaintext\">298</div></td><td><div class=\"dni-plaintext\">224</div></td></tr><tr><td>6</td><td><div class=\"dni-plaintext\">P040101007</div></td><td><div class=\"dni-plaintext\">04</div></td><td><div class=\"dni-plaintext\">惣菜</div></td><td><div class=\"dni-plaintext\">0401</div></td><td><div class=\"dni-plaintext\">御飯類</div></td><td><div class=\"dni-plaintext\">040101</div></td><td><div class=\"dni-plaintext\">弁当類</div></td><td><div class=\"dni-plaintext\">338</div></td><td><div class=\"dni-plaintext\">254</div></td></tr><tr><td>7</td><td><div class=\"dni-plaintext\">P040101008</div></td><td><div class=\"dni-plaintext\">04</div></td><td><div class=\"dni-plaintext\">惣菜</div></td><td><div class=\"dni-plaintext\">0401</div></td><td><div class=\"dni-plaintext\">御飯類</div></td><td><div class=\"dni-plaintext\">040101</div></td><td><div class=\"dni-plaintext\">弁当類</div></td><td><div class=\"dni-plaintext\">420</div></td><td><div class=\"dni-plaintext\">315</div></td></tr><tr><td>8</td><td><div class=\"dni-plaintext\">P040101009</div></td><td><div class=\"dni-plaintext\">04</div></td><td><div class=\"dni-plaintext\">惣菜</div></td><td><div class=\"dni-plaintext\">0401</div></td><td><div class=\"dni-plaintext\">御飯類</div></td><td><div class=\"dni-plaintext\">040101</div></td><td><div class=\"dni-plaintext\">弁当類</div></td><td><div class=\"dni-plaintext\">498</div></td><td><div class=\"dni-plaintext\">374</div></td></tr><tr><td>9</td><td><div class=\"dni-plaintext\">P040101010</div></td><td><div class=\"dni-plaintext\">04</div></td><td><div class=\"dni-plaintext\">惣菜</div></td><td><div class=\"dni-plaintext\">0401</div></td><td><div class=\"dni-plaintext\">御飯類</div></td><td><div class=\"dni-plaintext\">040101</div></td><td><div class=\"dni-plaintext\">弁当類</div></td><td><div class=\"dni-plaintext\">580</div></td><td><div class=\"dni-plaintext\">435</div></td></tr><tr><td>10</td><td><div class=\"dni-plaintext\">P040102001</div></td><td><div class=\"dni-plaintext\">04</div></td><td><div class=\"dni-plaintext\">惣菜</div></td><td><div class=\"dni-plaintext\">0401</div></td><td><div class=\"dni-plaintext\">御飯類</div></td><td><div class=\"dni-plaintext\">040102</div></td><td><div class=\"dni-plaintext\">寿司類</div></td><td><div class=\"dni-plaintext\">268</div></td><td><div class=\"dni-plaintext\">201</div></td></tr><tr><td>11</td><td><div class=\"dni-plaintext\">P040102002</div></td><td><div class=\"dni-plaintext\">04</div></td><td><div class=\"dni-plaintext\">惣菜</div></td><td><div class=\"dni-plaintext\">0401</div></td><td><div class=\"dni-plaintext\">御飯類</div></td><td><div class=\"dni-plaintext\">040102</div></td><td><div class=\"dni-plaintext\">寿司類</div></td><td><div class=\"dni-plaintext\">268</div></td><td><div class=\"dni-plaintext\">201</div></td></tr><tr><td>12</td><td><div class=\"dni-plaintext\">P040102003</div></td><td><div class=\"dni-plaintext\">04</div></td><td><div class=\"dni-plaintext\">惣菜</div></td><td><div class=\"dni-plaintext\">0401</div></td><td><div class=\"dni-plaintext\">御飯類</div></td><td><div class=\"dni-plaintext\">040102</div></td><td><div class=\"dni-plaintext\">寿司類</div></td><td><div class=\"dni-plaintext\">278</div></td><td><div class=\"dni-plaintext\">209</div></td></tr><tr><td>13</td><td><div class=\"dni-plaintext\">P040102004</div></td><td><div class=\"dni-plaintext\">04</div></td><td><div class=\"dni-plaintext\">惣菜</div></td><td><div class=\"dni-plaintext\">0401</div></td><td><div class=\"dni-plaintext\">御飯類</div></td><td><div class=\"dni-plaintext\">040102</div></td><td><div class=\"dni-plaintext\">寿司類</div></td><td><div class=\"dni-plaintext\">318</div></td><td><div class=\"dni-plaintext\">239</div></td></tr><tr><td>14</td><td><div class=\"dni-plaintext\">P040102005</div></td><td><div class=\"dni-plaintext\">04</div></td><td><div class=\"dni-plaintext\">惣菜</div></td><td><div class=\"dni-plaintext\">0401</div></td><td><div class=\"dni-plaintext\">御飯類</div></td><td><div class=\"dni-plaintext\">040102</div></td><td><div class=\"dni-plaintext\">寿司類</div></td><td><div class=\"dni-plaintext\">318</div></td><td><div class=\"dni-plaintext\">239</div></td></tr><tr><td>15</td><td><div class=\"dni-plaintext\">P040102006</div></td><td><div class=\"dni-plaintext\">04</div></td><td><div class=\"dni-plaintext\">惣菜</div></td><td><div class=\"dni-plaintext\">0401</div></td><td><div class=\"dni-plaintext\">御飯類</div></td><td><div class=\"dni-plaintext\">040102</div></td><td><div class=\"dni-plaintext\">寿司類</div></td><td><div class=\"dni-plaintext\">318</div></td><td><div class=\"dni-plaintext\">239</div></td></tr><tr><td>16</td><td><div class=\"dni-plaintext\">P040102007</div></td><td><div class=\"dni-plaintext\">04</div></td><td><div class=\"dni-plaintext\">惣菜</div></td><td><div class=\"dni-plaintext\">0401</div></td><td><div class=\"dni-plaintext\">御飯類</div></td><td><div class=\"dni-plaintext\">040102</div></td><td><div class=\"dni-plaintext\">寿司類</div></td><td><div class=\"dni-plaintext\">338</div></td><td><div class=\"dni-plaintext\">254</div></td></tr><tr><td>17</td><td><div class=\"dni-plaintext\">P040102008</div></td><td><div class=\"dni-plaintext\">04</div></td><td><div class=\"dni-plaintext\">惣菜</div></td><td><div class=\"dni-plaintext\">0401</div></td><td><div class=\"dni-plaintext\">御飯類</div></td><td><div class=\"dni-plaintext\">040102</div></td><td><div class=\"dni-plaintext\">寿司類</div></td><td><div class=\"dni-plaintext\">358</div></td><td><div class=\"dni-plaintext\">269</div></td></tr><tr><td>18</td><td><div class=\"dni-plaintext\">P040102009</div></td><td><div class=\"dni-plaintext\">04</div></td><td><div class=\"dni-plaintext\">惣菜</div></td><td><div class=\"dni-plaintext\">0401</div></td><td><div class=\"dni-plaintext\">御飯類</div></td><td><div class=\"dni-plaintext\">040102</div></td><td><div class=\"dni-plaintext\">寿司類</div></td><td><div class=\"dni-plaintext\">358</div></td><td><div class=\"dni-plaintext\">269</div></td></tr><tr><td>19</td><td><div class=\"dni-plaintext\">P040102010</div></td><td><div class=\"dni-plaintext\">04</div></td><td><div class=\"dni-plaintext\">惣菜</div></td><td><div class=\"dni-plaintext\">0401</div></td><td><div class=\"dni-plaintext\">御飯類</div></td><td><div class=\"dni-plaintext\">040102</div></td><td><div class=\"dni-plaintext\">寿司類</div></td><td><div class=\"dni-plaintext\">358</div></td><td><div class=\"dni-plaintext\">269</div></td></tr><tr><td colspan=\"10\">(10010 more)</td></tr></tbody></table>"
      ]
     },
     "execution_count": 99,
     "metadata": {},
     "output_type": "execute_result"
    }
   ],
   "source": [
    "/// Prodoct と Category の 項目を 持つクラス\n",
    "public class ProductFull\n",
    "{\n",
    "    public string product_cd { get; set; }\n",
    "    public string category_major_cd { get; set; }\n",
    "    public string category_major_name { get; set; }\n",
    "    public string category_medium_cd { get; set; }\n",
    "    public string category_medium_name { get; set; }\n",
    "    public string category_small_cd { get; set; }\n",
    "    public string category_small_name { get; set; }\n",
    "    public int? unit_price { get; set; }\n",
    "    public int? unit_cost { get; set; }\n",
    "}\n",
    "\n",
    "// category_small_cd で Join した結合データを作成\n",
    "var query = from df_category in df_category \n",
    "            join df_product in df_product \n",
    "            on df_category.category_small_cd equals df_product.category_small_cd\n",
    "            select new ProductFull() {\n",
    "                product_cd = df_product.product_cd,\n",
    "                category_major_cd = df_product.category_major_cd,\n",
    "                category_medium_cd = df_product.category_medium_cd,\n",
    "                category_small_cd = df_product.category_small_cd,\n",
    "                unit_price = df_product.unit_price,\n",
    "                unit_cost = df_product.unit_cost,\n",
    "                category_major_name = df_category.category_major_name,\n",
    "                category_medium_name = df_category.category_medium_name,\n",
    "                category_small_name = df_category.category_small_name,\n",
    "            };\n",
    "\n",
    "var df_product_full = query.ToList();\n",
    "\n",
    "df_product_full"
   ]
  },
  {
   "cell_type": "markdown",
   "metadata": {},
   "source": [
    "---\n",
    "> P-094: 先に作成したカテゴリ名付き商品データを以下の仕様でファイル出力せよ。なお、出力先のパスはdata配下とする。\n",
    ">\n",
    "> - ファイル形式はCSV（カンマ区切り）\n",
    "> - ヘッダ有り\n",
    "> - 文字コードはUTF-8"
   ]
  },
  {
   "cell_type": "code",
   "execution_count": 100,
   "metadata": {},
   "outputs": [],
   "source": [
    "using System.IO;\n",
    "\n",
    "using (StreamWriter sw = new StreamWriter(@\"P_df_product_full_UTF-8_header.csv\"))\n",
    "using (CsvWriter csv = new CsvWriter(sw, CultureInfo.InvariantCulture))\n",
    "{\n",
    "    csv.WriteRecords(df_product_full);\n",
    "}"
   ]
  },
  {
   "cell_type": "markdown",
   "metadata": {},
   "source": [
    "---\n",
    "> P-095: 先に作成したカテゴリ名付き商品データを以下の仕様でファイル出力せよ。なお、出力先のパスはdata配下とする。\n",
    ">\n",
    "> - ファイル形式はCSV（カンマ区切り）\n",
    "> - ヘッダ有り\n",
    "> - 文字コードはCP932"
   ]
  },
  {
   "cell_type": "code",
   "execution_count": 101,
   "metadata": {},
   "outputs": [
    {
     "data": {
      "text/plain": [
       "Installed package System.Text.Encoding.CodePages version 5.0.0"
      ]
     },
     "metadata": {},
     "output_type": "display_data"
    }
   ],
   "source": [
    "#r \"nuget:System.Text.Encoding.CodePages\"\n",
    "\n",
    "using System.Text;\n",
    "Encoding.RegisterProvider(CodePagesEncodingProvider.Instance);"
   ]
  },
  {
   "cell_type": "code",
   "execution_count": 102,
   "metadata": {},
   "outputs": [],
   "source": [
    "using System.IO;\n",
    "using System.Text;\n",
    "\n",
    "using (StreamWriter sw = new StreamWriter(@\"P_df_product_full_CP932_header.csv\", false, Encoding.GetEncoding(\"Shift_JIS\")))\n",
    "using (CsvWriter csv = new CsvWriter(sw, CultureInfo.InvariantCulture))\n",
    "{\n",
    "    csv.Configuration.HasHeaderRecord = true;\n",
    "    csv.WriteRecords(df_product_full);\n",
    "}"
   ]
  },
  {
   "cell_type": "markdown",
   "metadata": {},
   "source": [
    "---\n",
    "> P-096: 先に作成したカテゴリ名付き商品データを以下の仕様でファイル出力せよ。なお、出力先のパスはdata配下とする。\n",
    ">\n",
    "> - ファイル形式はCSV（カンマ区切り）\n",
    "> - ヘッダ無し\n",
    "> - 文字コードはUTF-8"
   ]
  },
  {
   "cell_type": "code",
   "execution_count": 103,
   "metadata": {},
   "outputs": [],
   "source": [
    "using System.IO;\n",
    "\n",
    "using (StreamWriter sw = new StreamWriter(@\"P_df_product_full_UTF-8_noh.csv\"))\n",
    "using (CsvWriter csv = new CsvWriter(sw, CultureInfo.InvariantCulture))\n",
    "{\n",
    "    csv.Configuration.HasHeaderRecord = false;\n",
    "    csv.WriteRecords(df_product_full);\n",
    "}"
   ]
  },
  {
   "cell_type": "markdown",
   "metadata": {},
   "source": [
    "---\n",
    "> P-097: 先に作成した以下形式のファイルを読み込み、データフレームを作成せよ。また、先頭10件を表示させ、正しくとりまれていることを確認せよ。\n",
    ">\n",
    "> - ファイル形式はCSV（カンマ区切り）\n",
    "> - ヘッダ有り\n",
    "> - 文字コードはUTF-8"
   ]
  },
  {
   "cell_type": "code",
   "execution_count": 104,
   "metadata": {},
   "outputs": [
    {
     "data": {
      "text/html": [
       "<table><thead><tr><th><i>index</i></th><th>product_cd</th><th>category_major_cd</th><th>category_major_name</th><th>category_medium_cd</th><th>category_medium_name</th><th>category_small_cd</th><th>category_small_name</th><th>unit_price</th><th>unit_cost</th></tr></thead><tbody><tr><td>0</td><td><div class=\"dni-plaintext\">P040101001</div></td><td><div class=\"dni-plaintext\">04</div></td><td><div class=\"dni-plaintext\">惣菜</div></td><td><div class=\"dni-plaintext\">0401</div></td><td><div class=\"dni-plaintext\">御飯類</div></td><td><div class=\"dni-plaintext\">040101</div></td><td><div class=\"dni-plaintext\">弁当類</div></td><td><div class=\"dni-plaintext\">198</div></td><td><div class=\"dni-plaintext\">149</div></td></tr><tr><td>1</td><td><div class=\"dni-plaintext\">P040101002</div></td><td><div class=\"dni-plaintext\">04</div></td><td><div class=\"dni-plaintext\">惣菜</div></td><td><div class=\"dni-plaintext\">0401</div></td><td><div class=\"dni-plaintext\">御飯類</div></td><td><div class=\"dni-plaintext\">040101</div></td><td><div class=\"dni-plaintext\">弁当類</div></td><td><div class=\"dni-plaintext\">218</div></td><td><div class=\"dni-plaintext\">164</div></td></tr><tr><td>2</td><td><div class=\"dni-plaintext\">P040101003</div></td><td><div class=\"dni-plaintext\">04</div></td><td><div class=\"dni-plaintext\">惣菜</div></td><td><div class=\"dni-plaintext\">0401</div></td><td><div class=\"dni-plaintext\">御飯類</div></td><td><div class=\"dni-plaintext\">040101</div></td><td><div class=\"dni-plaintext\">弁当類</div></td><td><div class=\"dni-plaintext\">230</div></td><td><div class=\"dni-plaintext\">173</div></td></tr><tr><td>3</td><td><div class=\"dni-plaintext\">P040101004</div></td><td><div class=\"dni-plaintext\">04</div></td><td><div class=\"dni-plaintext\">惣菜</div></td><td><div class=\"dni-plaintext\">0401</div></td><td><div class=\"dni-plaintext\">御飯類</div></td><td><div class=\"dni-plaintext\">040101</div></td><td><div class=\"dni-plaintext\">弁当類</div></td><td><div class=\"dni-plaintext\">248</div></td><td><div class=\"dni-plaintext\">186</div></td></tr><tr><td>4</td><td><div class=\"dni-plaintext\">P040101005</div></td><td><div class=\"dni-plaintext\">04</div></td><td><div class=\"dni-plaintext\">惣菜</div></td><td><div class=\"dni-plaintext\">0401</div></td><td><div class=\"dni-plaintext\">御飯類</div></td><td><div class=\"dni-plaintext\">040101</div></td><td><div class=\"dni-plaintext\">弁当類</div></td><td><div class=\"dni-plaintext\">268</div></td><td><div class=\"dni-plaintext\">201</div></td></tr><tr><td>5</td><td><div class=\"dni-plaintext\">P040101006</div></td><td><div class=\"dni-plaintext\">04</div></td><td><div class=\"dni-plaintext\">惣菜</div></td><td><div class=\"dni-plaintext\">0401</div></td><td><div class=\"dni-plaintext\">御飯類</div></td><td><div class=\"dni-plaintext\">040101</div></td><td><div class=\"dni-plaintext\">弁当類</div></td><td><div class=\"dni-plaintext\">298</div></td><td><div class=\"dni-plaintext\">224</div></td></tr><tr><td>6</td><td><div class=\"dni-plaintext\">P040101007</div></td><td><div class=\"dni-plaintext\">04</div></td><td><div class=\"dni-plaintext\">惣菜</div></td><td><div class=\"dni-plaintext\">0401</div></td><td><div class=\"dni-plaintext\">御飯類</div></td><td><div class=\"dni-plaintext\">040101</div></td><td><div class=\"dni-plaintext\">弁当類</div></td><td><div class=\"dni-plaintext\">338</div></td><td><div class=\"dni-plaintext\">254</div></td></tr><tr><td>7</td><td><div class=\"dni-plaintext\">P040101008</div></td><td><div class=\"dni-plaintext\">04</div></td><td><div class=\"dni-plaintext\">惣菜</div></td><td><div class=\"dni-plaintext\">0401</div></td><td><div class=\"dni-plaintext\">御飯類</div></td><td><div class=\"dni-plaintext\">040101</div></td><td><div class=\"dni-plaintext\">弁当類</div></td><td><div class=\"dni-plaintext\">420</div></td><td><div class=\"dni-plaintext\">315</div></td></tr><tr><td>8</td><td><div class=\"dni-plaintext\">P040101009</div></td><td><div class=\"dni-plaintext\">04</div></td><td><div class=\"dni-plaintext\">惣菜</div></td><td><div class=\"dni-plaintext\">0401</div></td><td><div class=\"dni-plaintext\">御飯類</div></td><td><div class=\"dni-plaintext\">040101</div></td><td><div class=\"dni-plaintext\">弁当類</div></td><td><div class=\"dni-plaintext\">498</div></td><td><div class=\"dni-plaintext\">374</div></td></tr><tr><td>9</td><td><div class=\"dni-plaintext\">P040101010</div></td><td><div class=\"dni-plaintext\">04</div></td><td><div class=\"dni-plaintext\">惣菜</div></td><td><div class=\"dni-plaintext\">0401</div></td><td><div class=\"dni-plaintext\">御飯類</div></td><td><div class=\"dni-plaintext\">040101</div></td><td><div class=\"dni-plaintext\">弁当類</div></td><td><div class=\"dni-plaintext\">580</div></td><td><div class=\"dni-plaintext\">435</div></td></tr></tbody></table>"
      ]
     },
     "execution_count": 104,
     "metadata": {},
     "output_type": "execute_result"
    }
   ],
   "source": [
    "var fileName = \"P_df_product_full_UTF-8_header.csv\";\n",
    "List<ProductFull> ans097;\n",
    "using (var reader = new StreamReader(fileName))\n",
    "    using (var csv = new CsvReader(reader, CultureInfo.InvariantCulture))\n",
    "    {\n",
    "        csv.Configuration.HasHeaderRecord = true;\n",
    "        var records = csv.GetRecords<ProductFull>();\n",
    "        ans097 = records.ToList();\n",
    "    }\n",
    "\n",
    "ans097.Take(10)"
   ]
  },
  {
   "cell_type": "markdown",
   "metadata": {},
   "source": [
    "---\n",
    "> P-098: 先に作成した以下形式のファイルを読み込み、データフレームを作成せよ。また、先頭10件を表示させ、正しくとりまれていることを確認せよ。\n",
    ">\n",
    "> - ファイル形式はCSV（カンマ区切り）\n",
    "> - ヘッダ無し\n",
    "> - 文字コードはUTF-8"
   ]
  },
  {
   "cell_type": "code",
   "execution_count": 105,
   "metadata": {},
   "outputs": [
    {
     "data": {
      "text/html": [
       "<table><thead><tr><th><i>index</i></th><th>product_cd</th><th>category_major_cd</th><th>category_major_name</th><th>category_medium_cd</th><th>category_medium_name</th><th>category_small_cd</th><th>category_small_name</th><th>unit_price</th><th>unit_cost</th></tr></thead><tbody><tr><td>0</td><td><div class=\"dni-plaintext\">P040101001</div></td><td><div class=\"dni-plaintext\">04</div></td><td><div class=\"dni-plaintext\">惣菜</div></td><td><div class=\"dni-plaintext\">0401</div></td><td><div class=\"dni-plaintext\">御飯類</div></td><td><div class=\"dni-plaintext\">040101</div></td><td><div class=\"dni-plaintext\">弁当類</div></td><td><div class=\"dni-plaintext\">198</div></td><td><div class=\"dni-plaintext\">149</div></td></tr><tr><td>1</td><td><div class=\"dni-plaintext\">P040101002</div></td><td><div class=\"dni-plaintext\">04</div></td><td><div class=\"dni-plaintext\">惣菜</div></td><td><div class=\"dni-plaintext\">0401</div></td><td><div class=\"dni-plaintext\">御飯類</div></td><td><div class=\"dni-plaintext\">040101</div></td><td><div class=\"dni-plaintext\">弁当類</div></td><td><div class=\"dni-plaintext\">218</div></td><td><div class=\"dni-plaintext\">164</div></td></tr><tr><td>2</td><td><div class=\"dni-plaintext\">P040101003</div></td><td><div class=\"dni-plaintext\">04</div></td><td><div class=\"dni-plaintext\">惣菜</div></td><td><div class=\"dni-plaintext\">0401</div></td><td><div class=\"dni-plaintext\">御飯類</div></td><td><div class=\"dni-plaintext\">040101</div></td><td><div class=\"dni-plaintext\">弁当類</div></td><td><div class=\"dni-plaintext\">230</div></td><td><div class=\"dni-plaintext\">173</div></td></tr><tr><td>3</td><td><div class=\"dni-plaintext\">P040101004</div></td><td><div class=\"dni-plaintext\">04</div></td><td><div class=\"dni-plaintext\">惣菜</div></td><td><div class=\"dni-plaintext\">0401</div></td><td><div class=\"dni-plaintext\">御飯類</div></td><td><div class=\"dni-plaintext\">040101</div></td><td><div class=\"dni-plaintext\">弁当類</div></td><td><div class=\"dni-plaintext\">248</div></td><td><div class=\"dni-plaintext\">186</div></td></tr><tr><td>4</td><td><div class=\"dni-plaintext\">P040101005</div></td><td><div class=\"dni-plaintext\">04</div></td><td><div class=\"dni-plaintext\">惣菜</div></td><td><div class=\"dni-plaintext\">0401</div></td><td><div class=\"dni-plaintext\">御飯類</div></td><td><div class=\"dni-plaintext\">040101</div></td><td><div class=\"dni-plaintext\">弁当類</div></td><td><div class=\"dni-plaintext\">268</div></td><td><div class=\"dni-plaintext\">201</div></td></tr><tr><td>5</td><td><div class=\"dni-plaintext\">P040101006</div></td><td><div class=\"dni-plaintext\">04</div></td><td><div class=\"dni-plaintext\">惣菜</div></td><td><div class=\"dni-plaintext\">0401</div></td><td><div class=\"dni-plaintext\">御飯類</div></td><td><div class=\"dni-plaintext\">040101</div></td><td><div class=\"dni-plaintext\">弁当類</div></td><td><div class=\"dni-plaintext\">298</div></td><td><div class=\"dni-plaintext\">224</div></td></tr><tr><td>6</td><td><div class=\"dni-plaintext\">P040101007</div></td><td><div class=\"dni-plaintext\">04</div></td><td><div class=\"dni-plaintext\">惣菜</div></td><td><div class=\"dni-plaintext\">0401</div></td><td><div class=\"dni-plaintext\">御飯類</div></td><td><div class=\"dni-plaintext\">040101</div></td><td><div class=\"dni-plaintext\">弁当類</div></td><td><div class=\"dni-plaintext\">338</div></td><td><div class=\"dni-plaintext\">254</div></td></tr><tr><td>7</td><td><div class=\"dni-plaintext\">P040101008</div></td><td><div class=\"dni-plaintext\">04</div></td><td><div class=\"dni-plaintext\">惣菜</div></td><td><div class=\"dni-plaintext\">0401</div></td><td><div class=\"dni-plaintext\">御飯類</div></td><td><div class=\"dni-plaintext\">040101</div></td><td><div class=\"dni-plaintext\">弁当類</div></td><td><div class=\"dni-plaintext\">420</div></td><td><div class=\"dni-plaintext\">315</div></td></tr><tr><td>8</td><td><div class=\"dni-plaintext\">P040101009</div></td><td><div class=\"dni-plaintext\">04</div></td><td><div class=\"dni-plaintext\">惣菜</div></td><td><div class=\"dni-plaintext\">0401</div></td><td><div class=\"dni-plaintext\">御飯類</div></td><td><div class=\"dni-plaintext\">040101</div></td><td><div class=\"dni-plaintext\">弁当類</div></td><td><div class=\"dni-plaintext\">498</div></td><td><div class=\"dni-plaintext\">374</div></td></tr><tr><td>9</td><td><div class=\"dni-plaintext\">P040101010</div></td><td><div class=\"dni-plaintext\">04</div></td><td><div class=\"dni-plaintext\">惣菜</div></td><td><div class=\"dni-plaintext\">0401</div></td><td><div class=\"dni-plaintext\">御飯類</div></td><td><div class=\"dni-plaintext\">040101</div></td><td><div class=\"dni-plaintext\">弁当類</div></td><td><div class=\"dni-plaintext\">580</div></td><td><div class=\"dni-plaintext\">435</div></td></tr></tbody></table>"
      ]
     },
     "execution_count": 105,
     "metadata": {},
     "output_type": "execute_result"
    }
   ],
   "source": [
    "var fileName = \"P_df_product_full_UTF-8_noh.csv\";\n",
    "List<ProductFull> ans098;\n",
    "using (var reader = new StreamReader(fileName))\n",
    "    using (var csv = new CsvReader(reader, CultureInfo.InvariantCulture))\n",
    "    {\n",
    "        csv.Configuration.HasHeaderRecord = false;\n",
    "        var records = csv.GetRecords<ProductFull>();\n",
    "        ans098 = records.ToList();\n",
    "    }\n",
    "\n",
    "ans098.Take(10)"
   ]
  },
  {
   "cell_type": "markdown",
   "metadata": {},
   "source": [
    "---\n",
    "> P-099: 先に作成したカテゴリ名付き商品データを以下の仕様でファイル出力せよ。なお、出力先のパスはdata配下とする。\n",
    ">\n",
    "> - ファイル形式はTSV（タブ区切り）\n",
    "> - ヘッダ有り\n",
    "> - 文字コードはUTF-8"
   ]
  },
  {
   "cell_type": "code",
   "execution_count": 106,
   "metadata": {},
   "outputs": [],
   "source": [
    "//df_product_full.to_csv('../data/P_df_product_full_UTF-8_header.tsv', sep='\\t', encoding='UTF-8', index=False)\n",
    "\n",
    "using System.IO;\n",
    "using CsvHelper.Configuration;\n",
    "\n",
    "// CSV 出力定義（タブ区切り）\n",
    "CsvConfiguration conf = new CsvConfiguration(CultureInfo.InvariantCulture)\n",
    "{\n",
    "    Delimiter = \"\\t\"\n",
    "};\n",
    "\n",
    "using (StreamWriter sw = new StreamWriter(@\"P_df_product_full_UTF-8_header.tsv\"))\n",
    "using (CsvWriter csv = new CsvWriter(sw, conf))\n",
    "{\n",
    "    csv.WriteRecords(df_product_full);\n",
    "}"
   ]
  },
  {
   "cell_type": "markdown",
   "metadata": {},
   "source": [
    "---\n",
    "> P-100: 先に作成した以下形式のファイルを読み込み、データフレームを作成せよ。また、先頭10件を表示させ、正しくとりまれていることを確認せよ。\n",
    ">\n",
    "> - ファイル形式はTSV（タブ区切り）\n",
    "> - ヘッダ有り\n",
    "> - 文字コードはUTF-8"
   ]
  },
  {
   "cell_type": "code",
   "execution_count": 107,
   "metadata": {},
   "outputs": [
    {
     "data": {
      "text/html": [
       "<table><thead><tr><th><i>index</i></th><th>product_cd</th><th>category_major_cd</th><th>category_major_name</th><th>category_medium_cd</th><th>category_medium_name</th><th>category_small_cd</th><th>category_small_name</th><th>unit_price</th><th>unit_cost</th></tr></thead><tbody><tr><td>0</td><td><div class=\"dni-plaintext\">P040101001</div></td><td><div class=\"dni-plaintext\">04</div></td><td><div class=\"dni-plaintext\">惣菜</div></td><td><div class=\"dni-plaintext\">0401</div></td><td><div class=\"dni-plaintext\">御飯類</div></td><td><div class=\"dni-plaintext\">040101</div></td><td><div class=\"dni-plaintext\">弁当類</div></td><td><div class=\"dni-plaintext\">198</div></td><td><div class=\"dni-plaintext\">149</div></td></tr><tr><td>1</td><td><div class=\"dni-plaintext\">P040101002</div></td><td><div class=\"dni-plaintext\">04</div></td><td><div class=\"dni-plaintext\">惣菜</div></td><td><div class=\"dni-plaintext\">0401</div></td><td><div class=\"dni-plaintext\">御飯類</div></td><td><div class=\"dni-plaintext\">040101</div></td><td><div class=\"dni-plaintext\">弁当類</div></td><td><div class=\"dni-plaintext\">218</div></td><td><div class=\"dni-plaintext\">164</div></td></tr><tr><td>2</td><td><div class=\"dni-plaintext\">P040101003</div></td><td><div class=\"dni-plaintext\">04</div></td><td><div class=\"dni-plaintext\">惣菜</div></td><td><div class=\"dni-plaintext\">0401</div></td><td><div class=\"dni-plaintext\">御飯類</div></td><td><div class=\"dni-plaintext\">040101</div></td><td><div class=\"dni-plaintext\">弁当類</div></td><td><div class=\"dni-plaintext\">230</div></td><td><div class=\"dni-plaintext\">173</div></td></tr><tr><td>3</td><td><div class=\"dni-plaintext\">P040101004</div></td><td><div class=\"dni-plaintext\">04</div></td><td><div class=\"dni-plaintext\">惣菜</div></td><td><div class=\"dni-plaintext\">0401</div></td><td><div class=\"dni-plaintext\">御飯類</div></td><td><div class=\"dni-plaintext\">040101</div></td><td><div class=\"dni-plaintext\">弁当類</div></td><td><div class=\"dni-plaintext\">248</div></td><td><div class=\"dni-plaintext\">186</div></td></tr><tr><td>4</td><td><div class=\"dni-plaintext\">P040101005</div></td><td><div class=\"dni-plaintext\">04</div></td><td><div class=\"dni-plaintext\">惣菜</div></td><td><div class=\"dni-plaintext\">0401</div></td><td><div class=\"dni-plaintext\">御飯類</div></td><td><div class=\"dni-plaintext\">040101</div></td><td><div class=\"dni-plaintext\">弁当類</div></td><td><div class=\"dni-plaintext\">268</div></td><td><div class=\"dni-plaintext\">201</div></td></tr><tr><td>5</td><td><div class=\"dni-plaintext\">P040101006</div></td><td><div class=\"dni-plaintext\">04</div></td><td><div class=\"dni-plaintext\">惣菜</div></td><td><div class=\"dni-plaintext\">0401</div></td><td><div class=\"dni-plaintext\">御飯類</div></td><td><div class=\"dni-plaintext\">040101</div></td><td><div class=\"dni-plaintext\">弁当類</div></td><td><div class=\"dni-plaintext\">298</div></td><td><div class=\"dni-plaintext\">224</div></td></tr><tr><td>6</td><td><div class=\"dni-plaintext\">P040101007</div></td><td><div class=\"dni-plaintext\">04</div></td><td><div class=\"dni-plaintext\">惣菜</div></td><td><div class=\"dni-plaintext\">0401</div></td><td><div class=\"dni-plaintext\">御飯類</div></td><td><div class=\"dni-plaintext\">040101</div></td><td><div class=\"dni-plaintext\">弁当類</div></td><td><div class=\"dni-plaintext\">338</div></td><td><div class=\"dni-plaintext\">254</div></td></tr><tr><td>7</td><td><div class=\"dni-plaintext\">P040101008</div></td><td><div class=\"dni-plaintext\">04</div></td><td><div class=\"dni-plaintext\">惣菜</div></td><td><div class=\"dni-plaintext\">0401</div></td><td><div class=\"dni-plaintext\">御飯類</div></td><td><div class=\"dni-plaintext\">040101</div></td><td><div class=\"dni-plaintext\">弁当類</div></td><td><div class=\"dni-plaintext\">420</div></td><td><div class=\"dni-plaintext\">315</div></td></tr><tr><td>8</td><td><div class=\"dni-plaintext\">P040101009</div></td><td><div class=\"dni-plaintext\">04</div></td><td><div class=\"dni-plaintext\">惣菜</div></td><td><div class=\"dni-plaintext\">0401</div></td><td><div class=\"dni-plaintext\">御飯類</div></td><td><div class=\"dni-plaintext\">040101</div></td><td><div class=\"dni-plaintext\">弁当類</div></td><td><div class=\"dni-plaintext\">498</div></td><td><div class=\"dni-plaintext\">374</div></td></tr><tr><td>9</td><td><div class=\"dni-plaintext\">P040101010</div></td><td><div class=\"dni-plaintext\">04</div></td><td><div class=\"dni-plaintext\">惣菜</div></td><td><div class=\"dni-plaintext\">0401</div></td><td><div class=\"dni-plaintext\">御飯類</div></td><td><div class=\"dni-plaintext\">040101</div></td><td><div class=\"dni-plaintext\">弁当類</div></td><td><div class=\"dni-plaintext\">580</div></td><td><div class=\"dni-plaintext\">435</div></td></tr></tbody></table>"
      ]
     },
     "execution_count": 107,
     "metadata": {},
     "output_type": "execute_result"
    }
   ],
   "source": [
    "using System.IO;\n",
    "using CsvHelper.Configuration;\n",
    "\n",
    "//df_tmp = pd.read_table('../data/P_df_product_full_UTF-8_header.tsv', encoding='UTF-8')\n",
    "var fileName = \"P_df_product_full_UTF-8_header.tsv\";\n",
    "\n",
    "// CSV 読み込み定義\n",
    "CsvConfiguration conf = new CsvConfiguration(CultureInfo.InvariantCulture)\n",
    "{\n",
    "    Delimiter = \"\\t\"\n",
    "};\n",
    "\n",
    "List<ProductFull> ans100;\n",
    "using (var reader = new StreamReader(fileName))\n",
    "    using (var csv = new CsvReader(reader, conf))\n",
    "    {\n",
    "        var records = csv.GetRecords<ProductFull>();\n",
    "        ans100 = records.ToList();\n",
    "    }\n",
    "\n",
    "ans100.Take(10)"
   ]
  },
  {
   "cell_type": "markdown",
   "metadata": {},
   "source": [
    "# これで１００本終わりです。おつかれさまでした！"
   ]
  }
 ],
 "metadata": {
  "kernelspec": {
   "display_name": ".NET (C#)",
   "language": "C#",
   "name": ".net-csharp"
  },
  "language_info": {
   "file_extension": ".cs",
   "mimetype": "text/x-csharp",
   "name": "C#",
   "pygments_lexer": "csharp",
   "version": "8.0"
  }
 },
 "nbformat": 4,
 "nbformat_minor": 4
}
