{
 "cells": [
  {
   "cell_type": "markdown",
   "metadata": {},
   "source": [
    "データサイエンス100本ノック（構造化データ加工編） - C # \n",
    "--"
   ]
  },
  {
   "cell_type": "markdown",
   "metadata": {},
   "source": [
    "## はじめに\n",
    "- 初めに以下のセルを実行してください\n",
    "- 必要なライブラリのインポートとCSVファイルからのデータ読み込みを行います\n",
    "- 利用が想定されるライブラリは以下セルでインポートしています\n",
    "- その他利用したいライブラリがあれば適宜インストールしてください（\"#r \"nuget:ライブラリ名\" で nuget パッケージがインストール可能）\n",
    "- 処理は複数回に分けても構いません\n",
    "- 名前、住所等はダミーデータであり、実在するものではありません"
   ]
  },
  {
   "cell_type": "code",
   "execution_count": 112,
   "metadata": {
    "dotnet_interactive": {
     "language": "csharp"
    }
   },
   "outputs": [
    {
     "data": {
      "text/html": [
       "<table><tbody><tr><td><img src=\"data:image/png;base64, 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\" width=\"125em\"></img></td><td style=\"line-height:.8em\"><p style=\"font-size:1.5em\"><b>.NET Interactive</b></p><p>&#169; 2020 Microsoft Corporation</p><p><b>Version: </b>1.0.456201+e5dc02dbdc933d895d722e69bfa98d580dcda8d9</p><p><b>Library version: </b>1.0.0-beta.23562.1+e5dc02dbdc933d895d722e69bfa98d580dcda8d9</p><p><b>Build date: </b>2023-11-29T14:04:54.2696190Z</p><p><a href=\"https://github.com/dotnet/interactive\">https://github.com/dotnet/interactive</a></p></td></tr></tbody></table>"
      ]
     },
     "metadata": {},
     "output_type": "display_data"
    }
   ],
   "source": [
    "#!about"
   ]
  },
  {
   "cell_type": "code",
   "execution_count": 231,
   "metadata": {
    "dotnet_interactive": {
     "language": "powershell"
    },
    "polyglot_notebook": {
     "kernelName": "powershell"
    }
   },
   "outputs": [
    {
     "name": "stdout",
     "output_type": "stream",
     "text": [
      "MSBuild のバージョン 17.8.3+195e7f5a3 (.NET)\n",
      "  復元対象のプロジェクトを決定しています...\n",
      "  復元対象のすべてのプロジェクトは最新です。\n",
      "  df_ext -> D:\\work\\2023-11-29-jupyter\\100knocks-data-scientist-cs\\work\\df_ext\\bin\\Debug\\net7.0\\df_ext.dll\n",
      "\n",
      "ビルドに成功しました。\n",
      "    0 個の警告\n",
      "    0 エラー\n",
      "\n",
      "経過時間 00:00:00.97\n"
     ]
    }
   ],
   "source": [
    "#!pwsh\n",
    "cd df_ext\n",
    "dotnet build\n",
    "cd .."
   ]
  },
  {
   "cell_type": "code",
   "execution_count": 115,
   "metadata": {
    "dotnet_interactive": {
     "language": "csharp"
    },
    "tags": []
   },
   "outputs": [
    {
     "data": {
      "text/html": [
       "<div><div></div><div></div><div><strong>Installed Packages</strong><ul><li><span>Microsoft.Data.Analysis, 0.21.0</span></li><li><span>XPlot.Plotly.Interactive, 4.0.7</span></li></ul></div></div>"
      ]
     },
     "metadata": {},
     "output_type": "display_data"
    }
   ],
   "source": [
    "// 必要なライブラリを nuget パッケージからインストールします。\n",
    "#r \"nuget:Microsoft.Data.Analysis\"\n",
    "#r \"nuget:XPlot.Plotly.Interactive, 4.0.7\"\n",
    "\n",
    "\n",
    "using Microsoft.Data.Analysis;\n"
   ]
  },
  {
   "cell_type": "code",
   "execution_count": 116,
   "metadata": {
    "dotnet_interactive": {
     "language": "csharp"
    },
    "polyglot_notebook": {
     "kernelName": "csharp"
    },
    "tags": []
   },
   "outputs": [],
   "source": [
    "// ローカルにあるライブラリを参照します。\n",
    "#r \"df_ext/bin/Debug/net7.0/df_ext.dll\"\n",
    "\n",
    "\n",
    "using df_ext;"
   ]
  },
  {
   "cell_type": "code",
   "execution_count": 117,
   "metadata": {
    "dotnet_interactive": {
     "language": "csharp"
    },
    "tags": []
   },
   "outputs": [],
   "source": [
    "// using 設定\n",
    "using System.Text.RegularExpressions;\n",
    "using Microsoft.DotNet.Interactive.Formatting;\n",
    "using static Microsoft.DotNet.Interactive.Formatting.PocketViewTags;\n",
    "using Microsoft.AspNetCore.Html;\n",
    "\n",
    "// 日付表示のキレイ化\n",
    "Formatter.Register<DateTime>((date, writer) => \n",
    "{\n",
    "    if (date.Hour == 0 && date.Minute == 0 && date.Second == 0) {\n",
    "        writer.Write(span(date.ToString(\"yyyy-MM-dd\")));\n",
    "    } else {\n",
    "        writer.Write(span(date.ToString(\"yyyy-MM-dd HH:mm:ss\")));\n",
    "    }\n",
    "}, \"text/html\");"
   ]
  },
  {
   "cell_type": "code",
   "execution_count": 118,
   "metadata": {
    "dotnet_interactive": {
     "language": "csharp"
    },
    "tags": []
   },
   "outputs": [],
   "source": [
    "// データを CSV ファイルから取得する定義＆読み込み\n",
    "\n",
    "\n",
    "\n",
    "public class Customer\n",
    "{\n",
    "    public string customer_id { get; set; }\n",
    "    public string customer_name { get; set; }\n",
    "    public string gender_cd { get; set; }\n",
    "    public string gender { get; set; }\n",
    "    public DateTime? birth_day { get; set; }\n",
    "    public int? age { get; set; }\n",
    "    public string postal_cd { get; set; }\n",
    "    public string address { get; set; }\n",
    "    public string application_store_cd { get; set; }\n",
    "    public string application_date { get; set; }\n",
    "    public string status_cd { get; set; }\n",
    "}\n",
    "var df_customer = DataFrame.LoadCsv(\"./customer.csv\",\n",
    "    columnNames: new string[] {\"customer_id\",\"customer_name\",\"gender_cd\",\"gender\",\"birth_day\",\"age\",\"postal_cd\",\"address\",\"application_store_cd\",\"application_date\",\"status_cd\"}, \n",
    "    dataTypes: new Type[] {typeof(string), typeof(string), typeof(string), typeof(string), typeof(DateTime), typeof(int), typeof(string), typeof(string), typeof(string), typeof(string), typeof(string)});\n",
    "    \n",
    "public class Category\n",
    "{\n",
    "    public string category_major_cd { get; set; }\n",
    "    public string category_major_name { get; set; }\n",
    "    public string category_medium_cd { get; set; }\n",
    "    public string category_medium_name { get; set; }\n",
    "    public string category_small_cd { get; set; }\n",
    "    public string category_small_name { get; set; }\n",
    "}\n",
    "\n",
    "var df_category = DataFrame.LoadCsv(\"./category.csv\",\n",
    "    columnNames: new string[] {\"category_major_cd\",\"category_major_name\",\"category_medium_cd\",\"category_medium_name\",\"category_small_cd\",\"category_small_name\"},\n",
    "    dataTypes: new Type[] {typeof(string), typeof(string), typeof(string), typeof(string), typeof(string), typeof(string)}\n",
    ");\n",
    "\n",
    "public class Product\n",
    "{\n",
    "    public string product_cd { get; set; }\n",
    "    public string category_major_cd { get; set; }\n",
    "    public string category_medium_cd { get; set; }\n",
    "    public string category_small_cd { get; set; }\n",
    "    public int? unit_price { get; set; }\n",
    "    public int? unit_cost { get; set; }\n",
    "}\n",
    "\n",
    "\n",
    "var df_product = DataFrame.LoadCsv(\"./product.csv\",\n",
    "    columnNames: new string[] {\"product_cd\",\"category_major_cd\",\"category_medium_cd\",\"category_small_cd\",\"unit_price\",\"unit_cost\"},\n",
    "    dataTypes: new Type[] {typeof(string), typeof(string), typeof(string), typeof(string), typeof(int), typeof(int)});\n",
    "\n",
    "\n",
    "public class Receipt\n",
    "{\n",
    "    public string sales_ymd { get; set; }\n",
    "    public int? sales_epoch { get; set; }\n",
    "    public string store_cd { get; set; }\n",
    "    public short receipt_no { get; set; }\n",
    "    public short receipt_sub_no { get; set; }\n",
    "    public string customer_id { get; set; }\n",
    "    public string product_cd { get; set; }\n",
    "    public int? quantity { get; set; }\n",
    "    public int? amount { get; set; }\n",
    "}\n",
    "\n",
    "\n",
    "var df_receipt = DataFrame.LoadCsv(\"./receipt.csv\",\n",
    "    columnNames: new string[] {\"sales_ymd\",\"sales_epoch\",\"store_cd\",\"receipt_no\",\"receipt_sub_no\",\"customer_id\",\"product_cd\",\"quantity\",\"amount\"},\n",
    "    dataTypes: new Type[] {typeof(string), typeof(int), typeof(string), typeof(short), typeof(short), typeof(string), typeof(string), typeof(int), typeof(int)});\n",
    "\n",
    "public class Store\n",
    "{\n",
    "    public string store_cd { get; set; }\n",
    "    public string store_name { get; set; }\n",
    "    public string prefecture_cd { get; set; }\n",
    "    public string prefecture { get; set; }\n",
    "    public string address { get; set; }\n",
    "    public string address_kana { get; set; }\n",
    "    public string tel_no { get; set; }\n",
    "    public decimal ?longitude { get; set; }\n",
    "    public decimal ?latitude { get; set; }\n",
    "    public decimal ?floor_area { get; set; }\n",
    "}\n",
    "\n",
    "var df_store = DataFrame.LoadCsv(\"./store.csv\",\n",
    "    columnNames: new string[] {\"store_cd\",\"store_name\",\"prefecture_cd\",\"prefecture\",\"address\",\"address_kana\",\"tel_no\",\"longitude\",\"latitude\",\"floor_area\"},\n",
    "    dataTypes: new Type[] {typeof(string), typeof(string), typeof(string), typeof(string), typeof(string), typeof(string), typeof(string), typeof(decimal), typeof(decimal), typeof(decimal)});\n",
    "\n",
    "public class Geocode\n",
    "{\n",
    "    public string postal_cd { get; set; }\n",
    "    public string prefecture { get; set; }\n",
    "    public string city { get; set; }\n",
    "    public string town { get; set; }\n",
    "    public string street { get; set; }\n",
    "    public string address { get; set; }\n",
    "    public string full_address { get; set; }\n",
    "    public decimal? longitude { get; set; }\n",
    "    public decimal? latitude { get; set; }\n",
    "}\n",
    "var df_geocode = DataFrame.LoadCsv(\"./geocode.csv\",\n",
    "    columnNames: new string[] {\"postal_cd\",\"prefecture\",\"city\",\"town\",\"street\",\"address\",\"full_address\",\"longitude\",\"latitude\"},\n",
    "    dataTypes: new Type[] {typeof(string), typeof(string), typeof(string), typeof(string), typeof(string), typeof(string), typeof(string), typeof(decimal), typeof(decimal)});\n"
   ]
  },
  {
   "cell_type": "markdown",
   "metadata": {},
   "source": [
    "# 演習問題"
   ]
  },
  {
   "cell_type": "markdown",
   "metadata": {},
   "source": [
    "---\n",
    "> P-001: レシート明細のデータフレーム（df_receipt）から全項目の先頭10件を表示し、どのようなデータを保有しているか目視で確認せよ。"
   ]
  },
  {
   "cell_type": "code",
   "execution_count": 119,
   "metadata": {
    "dotnet_interactive": {
     "language": "csharp"
    },
    "tags": []
   },
   "outputs": [
    {
     "data": {
      "text/html": [
       "<table id=\"table_638369472577477625\"><thead><tr><th><i>index</i></th><th>sales_ymd</th><th>sales_epoch</th><th>store_cd</th><th>receipt_no</th><th>receipt_sub_no</th><th>customer_id</th><th>product_cd</th><th>quantity</th><th>amount</th></tr></thead><tbody><tr><td><i><div class=\"dni-plaintext\"><pre>0</pre></div></i></td><td>20181103</td><td><div class=\"dni-plaintext\"><pre>1541203200</pre></div></td><td>S14006</td><td><div class=\"dni-plaintext\"><pre>112</pre></div></td><td><div class=\"dni-plaintext\"><pre>1</pre></div></td><td>CS006214000001</td><td>P070305012</td><td><div class=\"dni-plaintext\"><pre>1</pre></div></td><td><div class=\"dni-plaintext\"><pre>158</pre></div></td></tr><tr><td><i><div class=\"dni-plaintext\"><pre>1</pre></div></i></td><td>20181118</td><td><div class=\"dni-plaintext\"><pre>1542499200</pre></div></td><td>S13008</td><td><div class=\"dni-plaintext\"><pre>1132</pre></div></td><td><div class=\"dni-plaintext\"><pre>2</pre></div></td><td>CS008415000097</td><td>P070701017</td><td><div class=\"dni-plaintext\"><pre>1</pre></div></td><td><div class=\"dni-plaintext\"><pre>81</pre></div></td></tr><tr><td><i><div class=\"dni-plaintext\"><pre>2</pre></div></i></td><td>20170712</td><td><div class=\"dni-plaintext\"><pre>1499817600</pre></div></td><td>S14028</td><td><div class=\"dni-plaintext\"><pre>1102</pre></div></td><td><div class=\"dni-plaintext\"><pre>1</pre></div></td><td>CS028414000014</td><td>P060101005</td><td><div class=\"dni-plaintext\"><pre>1</pre></div></td><td><div class=\"dni-plaintext\"><pre>170</pre></div></td></tr><tr><td><i><div class=\"dni-plaintext\"><pre>3</pre></div></i></td><td>20190205</td><td><div class=\"dni-plaintext\"><pre>1549324800</pre></div></td><td>S14042</td><td><div class=\"dni-plaintext\"><pre>1132</pre></div></td><td><div class=\"dni-plaintext\"><pre>1</pre></div></td><td>ZZ000000000000</td><td>P050301001</td><td><div class=\"dni-plaintext\"><pre>1</pre></div></td><td><div class=\"dni-plaintext\"><pre>25</pre></div></td></tr><tr><td><i><div class=\"dni-plaintext\"><pre>4</pre></div></i></td><td>20180821</td><td><div class=\"dni-plaintext\"><pre>1534809600</pre></div></td><td>S14025</td><td><div class=\"dni-plaintext\"><pre>1102</pre></div></td><td><div class=\"dni-plaintext\"><pre>2</pre></div></td><td>CS025415000050</td><td>P060102007</td><td><div class=\"dni-plaintext\"><pre>1</pre></div></td><td><div class=\"dni-plaintext\"><pre>90</pre></div></td></tr></tbody></table><style>\r\n",
       ".dni-code-hint {\r\n",
       "    font-style: italic;\r\n",
       "    overflow: hidden;\r\n",
       "    white-space: nowrap;\r\n",
       "}\r\n",
       ".dni-treeview {\r\n",
       "    white-space: nowrap;\r\n",
       "}\r\n",
       ".dni-treeview td {\r\n",
       "    vertical-align: top;\r\n",
       "    text-align: start;\r\n",
       "}\r\n",
       "details.dni-treeview {\r\n",
       "    padding-left: 1em;\r\n",
       "}\r\n",
       "table td {\r\n",
       "    text-align: start;\r\n",
       "}\r\n",
       "table tr { \r\n",
       "    vertical-align: top; \r\n",
       "    margin: 0em 0px;\r\n",
       "}\r\n",
       "table tr td pre \r\n",
       "{ \r\n",
       "    vertical-align: top !important; \r\n",
       "    margin: 0em 0px !important;\r\n",
       "} \r\n",
       "table th {\r\n",
       "    text-align: start;\r\n",
       "}\r\n",
       "</style>"
      ]
     },
     "metadata": {},
     "output_type": "display_data"
    }
   ],
   "source": [
    "df_receipt.Head(5)\n"
   ]
  },
  {
   "cell_type": "code",
   "execution_count": 120,
   "metadata": {
    "dotnet_interactive": {
     "language": "powershell"
    },
    "polyglot_notebook": {
     "kernelName": "powershell"
    }
   },
   "outputs": [],
   "source": []
  },
  {
   "cell_type": "markdown",
   "metadata": {},
   "source": [
    "---\n",
    "> P-002: レシート明細のデータフレーム（df_receipt）から売上日（sales_ymd）、顧客ID（customer_id）、商品コード（product_cd）、売上金額（amount）の順に列を指定し、10件表示させよ。"
   ]
  },
  {
   "cell_type": "code",
   "execution_count": 121,
   "metadata": {
    "dotnet_interactive": {
     "language": "csharp"
    },
    "tags": []
   },
   "outputs": [
    {
     "data": {
      "text/html": [
       "<table id=\"table_638369472585164626\"><thead><tr><th><i>index</i></th><th>sales_ymd</th><th>customer_id</th><th>product_cd</th><th>amount</th></tr></thead><tbody><tr><td><i><div class=\"dni-plaintext\"><pre>0</pre></div></i></td><td>20181103</td><td>CS006214000001</td><td>P070305012</td><td><div class=\"dni-plaintext\"><pre>158</pre></div></td></tr><tr><td><i><div class=\"dni-plaintext\"><pre>1</pre></div></i></td><td>20181118</td><td>CS008415000097</td><td>P070701017</td><td><div class=\"dni-plaintext\"><pre>81</pre></div></td></tr><tr><td><i><div class=\"dni-plaintext\"><pre>2</pre></div></i></td><td>20170712</td><td>CS028414000014</td><td>P060101005</td><td><div class=\"dni-plaintext\"><pre>170</pre></div></td></tr><tr><td><i><div class=\"dni-plaintext\"><pre>3</pre></div></i></td><td>20190205</td><td>ZZ000000000000</td><td>P050301001</td><td><div class=\"dni-plaintext\"><pre>25</pre></div></td></tr><tr><td><i><div class=\"dni-plaintext\"><pre>4</pre></div></i></td><td>20180821</td><td>CS025415000050</td><td>P060102007</td><td><div class=\"dni-plaintext\"><pre>90</pre></div></td></tr><tr><td><i><div class=\"dni-plaintext\"><pre>5</pre></div></i></td><td>20190605</td><td>CS003515000195</td><td>P050102002</td><td><div class=\"dni-plaintext\"><pre>138</pre></div></td></tr><tr><td><i><div class=\"dni-plaintext\"><pre>6</pre></div></i></td><td>20181205</td><td>CS024514000042</td><td>P080101005</td><td><div class=\"dni-plaintext\"><pre>30</pre></div></td></tr><tr><td><i><div class=\"dni-plaintext\"><pre>7</pre></div></i></td><td>20190922</td><td>CS040415000178</td><td>P070501004</td><td><div class=\"dni-plaintext\"><pre>128</pre></div></td></tr><tr><td><i><div class=\"dni-plaintext\"><pre>8</pre></div></i></td><td>20170504</td><td>ZZ000000000000</td><td>P071302010</td><td><div class=\"dni-plaintext\"><pre>770</pre></div></td></tr><tr><td><i><div class=\"dni-plaintext\"><pre>9</pre></div></i></td><td>20191010</td><td>CS027514000015</td><td>P071101003</td><td><div class=\"dni-plaintext\"><pre>680</pre></div></td></tr></tbody></table><style>\r\n",
       ".dni-code-hint {\r\n",
       "    font-style: italic;\r\n",
       "    overflow: hidden;\r\n",
       "    white-space: nowrap;\r\n",
       "}\r\n",
       ".dni-treeview {\r\n",
       "    white-space: nowrap;\r\n",
       "}\r\n",
       ".dni-treeview td {\r\n",
       "    vertical-align: top;\r\n",
       "    text-align: start;\r\n",
       "}\r\n",
       "details.dni-treeview {\r\n",
       "    padding-left: 1em;\r\n",
       "}\r\n",
       "table td {\r\n",
       "    text-align: start;\r\n",
       "}\r\n",
       "table tr { \r\n",
       "    vertical-align: top; \r\n",
       "    margin: 0em 0px;\r\n",
       "}\r\n",
       "table tr td pre \r\n",
       "{ \r\n",
       "    vertical-align: top !important; \r\n",
       "    margin: 0em 0px !important;\r\n",
       "} \r\n",
       "table th {\r\n",
       "    text-align: start;\r\n",
       "}\r\n",
       "</style>"
      ]
     },
     "metadata": {},
     "output_type": "display_data"
    }
   ],
   "source": [
    "df_receipt.SelectWithColumn(\"sales_ymd\", \"customer_id\", \"product_cd\", \"amount\").Head(10).Display();"
   ]
  },
  {
   "cell_type": "markdown",
   "metadata": {},
   "source": [
    "---\n",
    "> P-003: レシート明細のデータフレーム（df_receipt）から売上日（sales_ymd）、顧客ID（customer_id）、商品コード（product_cd）、売上金額（amount）の順に列を指定し、10件表示させよ。ただし、sales_ymdはsales_dateに項目名を変更しながら抽出すること。"
   ]
  },
  {
   "cell_type": "code",
   "execution_count": 122,
   "metadata": {
    "dotnet_interactive": {
     "language": "csharp"
    },
    "tags": []
   },
   "outputs": [
    {
     "data": {
      "text/html": [
       "<table id=\"table_638369472589133367\"><thead><tr><th><i>index</i></th><th>sales_date</th><th>customer_id</th><th>product_cd</th><th>amount</th></tr></thead><tbody><tr><td><i><div class=\"dni-plaintext\"><pre>0</pre></div></i></td><td>20181103</td><td>CS006214000001</td><td>P070305012</td><td><div class=\"dni-plaintext\"><pre>158</pre></div></td></tr><tr><td><i><div class=\"dni-plaintext\"><pre>1</pre></div></i></td><td>20181118</td><td>CS008415000097</td><td>P070701017</td><td><div class=\"dni-plaintext\"><pre>81</pre></div></td></tr><tr><td><i><div class=\"dni-plaintext\"><pre>2</pre></div></i></td><td>20170712</td><td>CS028414000014</td><td>P060101005</td><td><div class=\"dni-plaintext\"><pre>170</pre></div></td></tr><tr><td><i><div class=\"dni-plaintext\"><pre>3</pre></div></i></td><td>20190205</td><td>ZZ000000000000</td><td>P050301001</td><td><div class=\"dni-plaintext\"><pre>25</pre></div></td></tr><tr><td><i><div class=\"dni-plaintext\"><pre>4</pre></div></i></td><td>20180821</td><td>CS025415000050</td><td>P060102007</td><td><div class=\"dni-plaintext\"><pre>90</pre></div></td></tr><tr><td><i><div class=\"dni-plaintext\"><pre>5</pre></div></i></td><td>20190605</td><td>CS003515000195</td><td>P050102002</td><td><div class=\"dni-plaintext\"><pre>138</pre></div></td></tr><tr><td><i><div class=\"dni-plaintext\"><pre>6</pre></div></i></td><td>20181205</td><td>CS024514000042</td><td>P080101005</td><td><div class=\"dni-plaintext\"><pre>30</pre></div></td></tr><tr><td><i><div class=\"dni-plaintext\"><pre>7</pre></div></i></td><td>20190922</td><td>CS040415000178</td><td>P070501004</td><td><div class=\"dni-plaintext\"><pre>128</pre></div></td></tr><tr><td><i><div class=\"dni-plaintext\"><pre>8</pre></div></i></td><td>20170504</td><td>ZZ000000000000</td><td>P071302010</td><td><div class=\"dni-plaintext\"><pre>770</pre></div></td></tr><tr><td><i><div class=\"dni-plaintext\"><pre>9</pre></div></i></td><td>20191010</td><td>CS027514000015</td><td>P071101003</td><td><div class=\"dni-plaintext\"><pre>680</pre></div></td></tr></tbody></table><style>\r\n",
       ".dni-code-hint {\r\n",
       "    font-style: italic;\r\n",
       "    overflow: hidden;\r\n",
       "    white-space: nowrap;\r\n",
       "}\r\n",
       ".dni-treeview {\r\n",
       "    white-space: nowrap;\r\n",
       "}\r\n",
       ".dni-treeview td {\r\n",
       "    vertical-align: top;\r\n",
       "    text-align: start;\r\n",
       "}\r\n",
       "details.dni-treeview {\r\n",
       "    padding-left: 1em;\r\n",
       "}\r\n",
       "table td {\r\n",
       "    text-align: start;\r\n",
       "}\r\n",
       "table tr { \r\n",
       "    vertical-align: top; \r\n",
       "    margin: 0em 0px;\r\n",
       "}\r\n",
       "table tr td pre \r\n",
       "{ \r\n",
       "    vertical-align: top !important; \r\n",
       "    margin: 0em 0px !important;\r\n",
       "} \r\n",
       "table th {\r\n",
       "    text-align: start;\r\n",
       "}\r\n",
       "</style>"
      ]
     },
     "metadata": {},
     "output_type": "display_data"
    }
   ],
   "source": [
    "\n",
    "df_receipt.SelectWithColumn(\"sales_ymd\", \"customer_id\", \"product_cd\", \"amount\")\n",
    "    .ChangeColumnName(\"sales_ymd\", \"sales_date\")\n",
    "    .Head(10).Display();\n"
   ]
  },
  {
   "cell_type": "markdown",
   "metadata": {},
   "source": [
    "---\n",
    "> P-004: レシート明細のデータフレーム（df_receipt）から売上日（sales_ymd）、顧客ID（customer_id）、商品コード（product_cd）、売上金額（amount）の順に列を指定し、以下の条件を満たすデータを抽出せよ。\n",
    "> - 顧客ID（customer_id）が\"CS018205000001\""
   ]
  },
  {
   "cell_type": "code",
   "execution_count": 123,
   "metadata": {
    "dotnet_interactive": {
     "language": "csharp"
    },
    "tags": []
   },
   "outputs": [
    {
     "data": {
      "text/html": [
       "<table id=\"table_638369472593139949\"><thead><tr><th><i>index</i></th><th>sales_ymd</th><th>customer_id</th><th>product_cd</th><th>amount</th></tr></thead><tbody><tr><td><i><div class=\"dni-plaintext\"><pre>0</pre></div></i></td><td>20180911</td><td>CS018205000001</td><td>P071401012</td><td><div class=\"dni-plaintext\"><pre>2200</pre></div></td></tr><tr><td><i><div class=\"dni-plaintext\"><pre>1</pre></div></i></td><td>20180414</td><td>CS018205000001</td><td>P060104007</td><td><div class=\"dni-plaintext\"><pre>600</pre></div></td></tr><tr><td><i><div class=\"dni-plaintext\"><pre>2</pre></div></i></td><td>20170614</td><td>CS018205000001</td><td>P050206001</td><td><div class=\"dni-plaintext\"><pre>990</pre></div></td></tr><tr><td><i><div class=\"dni-plaintext\"><pre>3</pre></div></i></td><td>20170614</td><td>CS018205000001</td><td>P060702015</td><td><div class=\"dni-plaintext\"><pre>108</pre></div></td></tr><tr><td><i><div class=\"dni-plaintext\"><pre>4</pre></div></i></td><td>20190216</td><td>CS018205000001</td><td>P071005024</td><td><div class=\"dni-plaintext\"><pre>102</pre></div></td></tr><tr><td><i><div class=\"dni-plaintext\"><pre>5</pre></div></i></td><td>20180414</td><td>CS018205000001</td><td>P071101002</td><td><div class=\"dni-plaintext\"><pre>278</pre></div></td></tr><tr><td><i><div class=\"dni-plaintext\"><pre>6</pre></div></i></td><td>20190226</td><td>CS018205000001</td><td>P070902035</td><td><div class=\"dni-plaintext\"><pre>168</pre></div></td></tr><tr><td><i><div class=\"dni-plaintext\"><pre>7</pre></div></i></td><td>20190924</td><td>CS018205000001</td><td>P060805001</td><td><div class=\"dni-plaintext\"><pre>495</pre></div></td></tr><tr><td><i><div class=\"dni-plaintext\"><pre>8</pre></div></i></td><td>20190226</td><td>CS018205000001</td><td>P071401020</td><td><div class=\"dni-plaintext\"><pre>2200</pre></div></td></tr><tr><td><i><div class=\"dni-plaintext\"><pre>9</pre></div></i></td><td>20180911</td><td>CS018205000001</td><td>P071401005</td><td><div class=\"dni-plaintext\"><pre>1100</pre></div></td></tr><tr><td><i><div class=\"dni-plaintext\"><pre>10</pre></div></i></td><td>20190216</td><td>CS018205000001</td><td>P040101002</td><td><div class=\"dni-plaintext\"><pre>218</pre></div></td></tr><tr><td><i><div class=\"dni-plaintext\"><pre>11</pre></div></i></td><td>20190924</td><td>CS018205000001</td><td>P091503001</td><td><div class=\"dni-plaintext\"><pre>280</pre></div></td></tr></tbody></table><style>\r\n",
       ".dni-code-hint {\r\n",
       "    font-style: italic;\r\n",
       "    overflow: hidden;\r\n",
       "    white-space: nowrap;\r\n",
       "}\r\n",
       ".dni-treeview {\r\n",
       "    white-space: nowrap;\r\n",
       "}\r\n",
       ".dni-treeview td {\r\n",
       "    vertical-align: top;\r\n",
       "    text-align: start;\r\n",
       "}\r\n",
       "details.dni-treeview {\r\n",
       "    padding-left: 1em;\r\n",
       "}\r\n",
       "table td {\r\n",
       "    text-align: start;\r\n",
       "}\r\n",
       "table tr { \r\n",
       "    vertical-align: top; \r\n",
       "    margin: 0em 0px;\r\n",
       "}\r\n",
       "table tr td pre \r\n",
       "{ \r\n",
       "    vertical-align: top !important; \r\n",
       "    margin: 0em 0px !important;\r\n",
       "} \r\n",
       "table th {\r\n",
       "    text-align: start;\r\n",
       "}\r\n",
       "</style>"
      ]
     },
     "metadata": {},
     "output_type": "display_data"
    }
   ],
   "source": [
    "/*\n",
    "df_receipt.Select(r => new {r.sales_ymd, r.customer_id, r.product_cd, r.amount})\n",
    "    .Where(r => r.customer_id == \"CS018205000001\").DisplayTable()   \n",
    "*/\n",
    "df_receipt.Filter(df_receipt[\"customer_id\"].ElementwiseEquals(\"CS018205000001\"))\n",
    "    .SelectWithColumn(\"sales_ymd\", \"customer_id\", \"product_cd\", \"amount\")"
   ]
  },
  {
   "cell_type": "markdown",
   "metadata": {},
   "source": [
    "---\n",
    "> P-005: レシート明細のデータフレーム（df_receipt）から売上日（sales_ymd）、顧客ID（customer_id）、商品コード（product_cd）、売上金額（amount）の順に列を指定し、以下の条件を満たすデータを抽出せよ。\n",
    "> - 顧客ID（customer_id）が\"CS018205000001\"\n",
    "> - 売上金額（amount）が1,000以上"
   ]
  },
  {
   "cell_type": "markdown",
   "metadata": {},
   "source": [
    "# 以下はまだ未実装"
   ]
  },
  {
   "cell_type": "code",
   "execution_count": 124,
   "metadata": {
    "dotnet_interactive": {
     "language": "csharp"
    },
    "tags": []
   },
   "outputs": [
    {
     "ename": "Error",
     "evalue": "(1,12): error CS1061: 'DataFrame' に 'Select' の定義が含まれておらず、型 'DataFrame' の最初の引数を受け付けるアクセス可能な拡張メソッド 'Select' が見つかりませんでした。using ディレクティブまたはアセンブリ参照が不足していないことを確認してください",
     "output_type": "error",
     "traceback": [
      "(1,12): error CS1061: 'DataFrame' に 'Select' の定義が含まれておらず、型 'DataFrame' の最初の引数を受け付けるアクセス可能な拡張メソッド 'Select' が見つかりませんでした。using ディレクティブまたはアセンブリ参照が不足していないことを確認してください"
     ]
    }
   ],
   "source": [
    "df_receipt.Select(r => new {r.sales_ymd, r.customer_id, r.product_cd, r.amount})\n",
    "    .Where(r => r.customer_id == \"CS018205000001\" && r.amount >= 1000)\n",
    "    .DisplayTable()"
   ]
  },
  {
   "cell_type": "markdown",
   "metadata": {},
   "source": [
    "---\n",
    "> P-006: レシート明細データフレーム「df_receipt」から売上日（sales_ymd）、顧客ID（customer_id）、商品コード（product_cd）、売上数量（quantity）、売上金額（amount）の順に列を指定し、以下の条件を満たすデータを抽出せよ。\n",
    "> - 顧客ID（customer_id）が\"CS018205000001\"\n",
    "> - 売上金額（amount）が1,000以上または売上数量（quantity）が5以上"
   ]
  },
  {
   "cell_type": "code",
   "execution_count": 125,
   "metadata": {
    "dotnet_interactive": {
     "language": "csharp"
    }
   },
   "outputs": [
    {
     "ename": "Error",
     "evalue": "(1,12): error CS1061: 'DataFrame' に 'Select' の定義が含まれておらず、型 'DataFrame' の最初の引数を受け付けるアクセス可能な拡張メソッド 'Select' が見つかりませんでした。using ディレクティブまたはアセンブリ参照が不足していないことを確認してください",
     "output_type": "error",
     "traceback": [
      "(1,12): error CS1061: 'DataFrame' に 'Select' の定義が含まれておらず、型 'DataFrame' の最初の引数を受け付けるアクセス可能な拡張メソッド 'Select' が見つかりませんでした。using ディレクティブまたはアセンブリ参照が不足していないことを確認してください"
     ]
    }
   ],
   "source": [
    "df_receipt.Select(r => new {r.sales_ymd, r.customer_id, r.product_cd, r.amount, r.quantity})\n",
    "    .Where(r => r.customer_id == \"CS018205000001\" && (r.amount >= 1000 || r.quantity >= 5))\n",
    "    .DisplayTable()"
   ]
  },
  {
   "cell_type": "markdown",
   "metadata": {},
   "source": [
    "---\n",
    "> P-007: レシート明細のデータフレーム（df_receipt）から売上日（sales_ymd）、顧客ID（customer_id）、商品コード（product_cd）、売上金額（amount）の順に列を指定し、以下の条件を満たすデータを抽出せよ。\n",
    "> - 顧客ID（customer_id）が\"CS018205000001\"\n",
    "> - 売上金額（amount）が1,000以上2,000以下"
   ]
  },
  {
   "cell_type": "code",
   "execution_count": 126,
   "metadata": {
    "dotnet_interactive": {
     "language": "csharp"
    }
   },
   "outputs": [
    {
     "ename": "Error",
     "evalue": "(1,12): error CS1061: 'DataFrame' に 'Select' の定義が含まれておらず、型 'DataFrame' の最初の引数を受け付けるアクセス可能な拡張メソッド 'Select' が見つかりませんでした。using ディレクティブまたはアセンブリ参照が不足していないことを確認してください",
     "output_type": "error",
     "traceback": [
      "(1,12): error CS1061: 'DataFrame' に 'Select' の定義が含まれておらず、型 'DataFrame' の最初の引数を受け付けるアクセス可能な拡張メソッド 'Select' が見つかりませんでした。using ディレクティブまたはアセンブリ参照が不足していないことを確認してください"
     ]
    }
   ],
   "source": [
    "df_receipt.Select(r => new {r.sales_ymd, r.customer_id, r.product_cd, r.amount})\n",
    "    .Where(r => r.customer_id == \"CS018205000001\" && (1000 <= r.amount && r.amount <= 2000))\n",
    "    .DisplayTable()"
   ]
  },
  {
   "cell_type": "markdown",
   "metadata": {},
   "source": [
    "---\n",
    "> P-008: レシート明細のデータフレーム（df_receipt）から売上日（sales_ymd）、顧客ID（customer_id）、商品コード（product_cd）、売上金額（amount）の順に列を指定し、以下の条件を満たすデータを抽出せよ。\n",
    "> - 顧客ID（customer_id）が\"CS018205000001\"\n",
    "> - 商品コード（product_cd）が\"P071401019\"以外"
   ]
  },
  {
   "cell_type": "code",
   "execution_count": 127,
   "metadata": {
    "dotnet_interactive": {
     "language": "csharp"
    }
   },
   "outputs": [
    {
     "ename": "Error",
     "evalue": "(1,12): error CS1061: 'DataFrame' に 'Select' の定義が含まれておらず、型 'DataFrame' の最初の引数を受け付けるアクセス可能な拡張メソッド 'Select' が見つかりませんでした。using ディレクティブまたはアセンブリ参照が不足していないことを確認してください",
     "output_type": "error",
     "traceback": [
      "(1,12): error CS1061: 'DataFrame' に 'Select' の定義が含まれておらず、型 'DataFrame' の最初の引数を受け付けるアクセス可能な拡張メソッド 'Select' が見つかりませんでした。using ディレクティブまたはアセンブリ参照が不足していないことを確認してください"
     ]
    }
   ],
   "source": [
    "df_receipt.Select(r => new {r.sales_ymd, r.customer_id, r.product_cd, r.amount})\n",
    "    .Where(r => r.customer_id == \"CS018205000001\" && r.product_cd != \"P071401019\")\n",
    "    .DisplayTable()"
   ]
  },
  {
   "cell_type": "markdown",
   "metadata": {},
   "source": [
    "---\n",
    "> P-009: 以下の処理において、出力結果を変えずにORをANDに書き換えよ。\n",
    "\n",
    "`df_store.Where( r => !(r.prefecture_cd == \"13\" || r.floor_area > 900))`"
   ]
  },
  {
   "cell_type": "code",
   "execution_count": 128,
   "metadata": {
    "dotnet_interactive": {
     "language": "csharp"
    }
   },
   "outputs": [
    {
     "ename": "Error",
     "evalue": "(1,10): error CS1061: 'DataFrame' に 'Where' の定義が含まれておらず、型 'DataFrame' の最初の引数を受け付けるアクセス可能な拡張メソッド 'Where' が見つかりませんでした。using ディレクティブまたはアセンブリ参照が不足していないことを確認してください",
     "output_type": "error",
     "traceback": [
      "(1,10): error CS1061: 'DataFrame' に 'Where' の定義が含まれておらず、型 'DataFrame' の最初の引数を受け付けるアクセス可能な拡張メソッド 'Where' が見つかりませんでした。using ディレクティブまたはアセンブリ参照が不足していないことを確認してください"
     ]
    }
   ],
   "source": [
    "df_store.Where( r => r.prefecture_cd != \"13\" && r.floor_area <= 900)\n",
    ".DisplayTable()"
   ]
  },
  {
   "cell_type": "markdown",
   "metadata": {},
   "source": [
    "---\n",
    "> P-010: 店舗データフレーム（df_store）から、店舗コード（store_cd）が\"S14\"で始まるものだけ全項目抽出し、10件だけ表示せよ。"
   ]
  },
  {
   "cell_type": "code",
   "execution_count": 129,
   "metadata": {
    "dotnet_interactive": {
     "language": "csharp"
    }
   },
   "outputs": [
    {
     "ename": "Error",
     "evalue": "(1,10): error CS1061: 'DataFrame' に 'Where' の定義が含まれておらず、型 'DataFrame' の最初の引数を受け付けるアクセス可能な拡張メソッド 'Where' が見つかりませんでした。using ディレクティブまたはアセンブリ参照が不足していないことを確認してください",
     "output_type": "error",
     "traceback": [
      "(1,10): error CS1061: 'DataFrame' に 'Where' の定義が含まれておらず、型 'DataFrame' の最初の引数を受け付けるアクセス可能な拡張メソッド 'Where' が見つかりませんでした。using ディレクティブまたはアセンブリ参照が不足していないことを確認してください"
     ]
    }
   ],
   "source": [
    "df_store.Where(r => r.store_cd.StartsWith(\"S14\")).Take(10).DisplayTable()"
   ]
  },
  {
   "cell_type": "markdown",
   "metadata": {},
   "source": [
    "---\n",
    "> P-011: 顧客データフレーム（df_customer）から顧客ID（customer_id）の末尾が1のものだけ全項目抽出し、10件だけ表示せよ。"
   ]
  },
  {
   "cell_type": "code",
   "execution_count": 130,
   "metadata": {
    "dotnet_interactive": {
     "language": "csharp"
    }
   },
   "outputs": [
    {
     "ename": "Error",
     "evalue": "(1,13): error CS1061: 'DataFrame' に 'Where' の定義が含まれておらず、型 'DataFrame' の最初の引数を受け付けるアクセス可能な拡張メソッド 'Where' が見つかりませんでした。using ディレクティブまたはアセンブリ参照が不足していないことを確認してください",
     "output_type": "error",
     "traceback": [
      "(1,13): error CS1061: 'DataFrame' に 'Where' の定義が含まれておらず、型 'DataFrame' の最初の引数を受け付けるアクセス可能な拡張メソッド 'Where' が見つかりませんでした。using ディレクティブまたはアセンブリ参照が不足していないことを確認してください"
     ]
    }
   ],
   "source": [
    "df_customer.Where(r => r.customer_id.EndsWith(\"1\")).Take(10).DisplayTable()"
   ]
  },
  {
   "cell_type": "markdown",
   "metadata": {},
   "source": [
    "---\n",
    "> P-012: 店舗データフレーム（df_store）から横浜市の店舗だけ全項目表示せよ。"
   ]
  },
  {
   "cell_type": "code",
   "execution_count": 131,
   "metadata": {
    "dotnet_interactive": {
     "language": "csharp"
    }
   },
   "outputs": [
    {
     "ename": "Error",
     "evalue": "(1,10): error CS1061: 'DataFrame' に 'Where' の定義が含まれておらず、型 'DataFrame' の最初の引数を受け付けるアクセス可能な拡張メソッド 'Where' が見つかりませんでした。using ディレクティブまたはアセンブリ参照が不足していないことを確認してください",
     "output_type": "error",
     "traceback": [
      "(1,10): error CS1061: 'DataFrame' に 'Where' の定義が含まれておらず、型 'DataFrame' の最初の引数を受け付けるアクセス可能な拡張メソッド 'Where' が見つかりませんでした。using ディレクティブまたはアセンブリ参照が不足していないことを確認してください"
     ]
    }
   ],
   "source": [
    "df_store.Where(r => r.address.Contains(\"横浜市\")).DisplayTable()"
   ]
  },
  {
   "cell_type": "markdown",
   "metadata": {},
   "source": [
    "---\n",
    "> P-013: 顧客データフレーム（df_customer）から、ステータスコード（status_cd）の先頭がアルファベットのA〜Fで始まるデータを全項目抽出し、10件だけ表示せよ。"
   ]
  },
  {
   "cell_type": "code",
   "execution_count": 132,
   "metadata": {
    "dotnet_interactive": {
     "language": "csharp"
    }
   },
   "outputs": [
    {
     "ename": "Error",
     "evalue": "(1,13): error CS1061: 'DataFrame' に 'Where' の定義が含まれておらず、型 'DataFrame' の最初の引数を受け付けるアクセス可能な拡張メソッド 'Where' が見つかりませんでした。using ディレクティブまたはアセンブリ参照が不足していないことを確認してください",
     "output_type": "error",
     "traceback": [
      "(1,13): error CS1061: 'DataFrame' に 'Where' の定義が含まれておらず、型 'DataFrame' の最初の引数を受け付けるアクセス可能な拡張メソッド 'Where' が見つかりませんでした。using ディレクティブまたはアセンブリ参照が不足していないことを確認してください"
     ]
    }
   ],
   "source": [
    "df_customer.Where(r => Regex.IsMatch(r.status_cd, \"^[A-F]\")).Take(10).DisplayTable()"
   ]
  },
  {
   "cell_type": "markdown",
   "metadata": {},
   "source": [
    "---\n",
    "> P-014: 顧客データフレーム（df_customer）から、ステータスコード（status_cd）の末尾が数字の1〜9で終わるデータを全項目抽出し、10件だけ表示せよ。"
   ]
  },
  {
   "cell_type": "code",
   "execution_count": 133,
   "metadata": {
    "dotnet_interactive": {
     "language": "csharp"
    }
   },
   "outputs": [
    {
     "ename": "Error",
     "evalue": "(1,13): error CS1061: 'DataFrame' に 'Where' の定義が含まれておらず、型 'DataFrame' の最初の引数を受け付けるアクセス可能な拡張メソッド 'Where' が見つかりませんでした。using ディレクティブまたはアセンブリ参照が不足していないことを確認してください",
     "output_type": "error",
     "traceback": [
      "(1,13): error CS1061: 'DataFrame' に 'Where' の定義が含まれておらず、型 'DataFrame' の最初の引数を受け付けるアクセス可能な拡張メソッド 'Where' が見つかりませんでした。using ディレクティブまたはアセンブリ参照が不足していないことを確認してください"
     ]
    }
   ],
   "source": [
    "df_customer.Where(r => Regex.IsMatch(r.status_cd, \"[1-9]$\")).Take(10).DisplayTable()"
   ]
  },
  {
   "cell_type": "markdown",
   "metadata": {},
   "source": [
    "---\n",
    "> P-015: 顧客データフレーム（df_customer）から、ステータスコード（status_cd）の先頭がアルファベットのA〜Fで始まり、末尾が数字の1〜9で終わるデータを全項目抽出し、10件だけ表示せよ。"
   ]
  },
  {
   "cell_type": "code",
   "execution_count": 134,
   "metadata": {
    "dotnet_interactive": {
     "language": "csharp"
    }
   },
   "outputs": [
    {
     "ename": "Error",
     "evalue": "(1,13): error CS1061: 'DataFrame' に 'Where' の定義が含まれておらず、型 'DataFrame' の最初の引数を受け付けるアクセス可能な拡張メソッド 'Where' が見つかりませんでした。using ディレクティブまたはアセンブリ参照が不足していないことを確認してください",
     "output_type": "error",
     "traceback": [
      "(1,13): error CS1061: 'DataFrame' に 'Where' の定義が含まれておらず、型 'DataFrame' の最初の引数を受け付けるアクセス可能な拡張メソッド 'Where' が見つかりませんでした。using ディレクティブまたはアセンブリ参照が不足していないことを確認してください"
     ]
    }
   ],
   "source": [
    "df_customer.Where(r => Regex.IsMatch(r.status_cd, \"^[A-F].*[1-9]$\")).Take(10).DisplayTable()"
   ]
  },
  {
   "cell_type": "markdown",
   "metadata": {},
   "source": [
    "---\n",
    "> P-016: 店舗データフレーム（df_store）から、電話番号（tel_no）が3桁-3桁-4桁のデータを全項目表示せよ。"
   ]
  },
  {
   "cell_type": "code",
   "execution_count": 135,
   "metadata": {
    "dotnet_interactive": {
     "language": "csharp"
    }
   },
   "outputs": [
    {
     "ename": "Error",
     "evalue": "(4,10): error CS1061: 'DataFrame' に 'Where' の定義が含まれておらず、型 'DataFrame' の最初の引数を受け付けるアクセス可能な拡張メソッド 'Where' が見つかりませんでした。using ディレクティブまたはアセンブリ参照が不足していないことを確認してください",
     "output_type": "error",
     "traceback": [
      "(4,10): error CS1061: 'DataFrame' に 'Where' の定義が含まれておらず、型 'DataFrame' の最初の引数を受け付けるアクセス可能な拡張メソッド 'Where' が見つかりませんでした。using ディレクティブまたはアセンブリ参照が不足していないことを確認してください"
     ]
    }
   ],
   "source": [
    "\n",
    "Formatter.ListExpansionLimit = int.MaxValue; // 全データを表示するために制限解除\n",
    "\n",
    "df_store.Where(r => Regex.IsMatch(r.tel_no, \"^[0-9]{3}-[0-9]{3}-[0-9]{4}$\")).DisplayTable();\n",
    "    \n",
    "Formatter.ListExpansionLimit = 20; // データ表示件数の制限\n"
   ]
  },
  {
   "cell_type": "markdown",
   "metadata": {},
   "source": [
    "---\n",
    "> P-17: 顧客データフレーム（df_customer）を生年月日（birth_day）で高齢順にソートし、先頭10件を全項目表示せよ。"
   ]
  },
  {
   "cell_type": "code",
   "execution_count": 136,
   "metadata": {
    "dotnet_interactive": {
     "language": "csharp"
    }
   },
   "outputs": [
    {
     "ename": "Error",
     "evalue": "(1,21): error CS1660: ラムダ式 はデリゲート型ではないため、'string' 型に変換できません",
     "output_type": "error",
     "traceback": [
      "(1,21): error CS1660: ラムダ式 はデリゲート型ではないため、'string' 型に変換できません"
     ]
    }
   ],
   "source": [
    "df_customer.OrderBy(r => r.birth_day).Take(10).DisplayTable()"
   ]
  },
  {
   "cell_type": "markdown",
   "metadata": {},
   "source": [
    "---\n",
    "> P-18: 顧客データフレーム（df_customer）を生年月日（birth_day）で若い順にソートし、先頭10件を全項目表示せよ。"
   ]
  },
  {
   "cell_type": "code",
   "execution_count": 137,
   "metadata": {
    "dotnet_interactive": {
     "language": "csharp"
    }
   },
   "outputs": [
    {
     "ename": "Error",
     "evalue": "(1,31): error CS1660: ラムダ式 はデリゲート型ではないため、'string' 型に変換できません",
     "output_type": "error",
     "traceback": [
      "(1,31): error CS1660: ラムダ式 はデリゲート型ではないため、'string' 型に変換できません"
     ]
    }
   ],
   "source": [
    "df_customer.OrderByDescending(r => r.birth_day).Take(10).DisplayTable()"
   ]
  },
  {
   "cell_type": "markdown",
   "metadata": {},
   "source": [
    "---\n",
    "> P-19: レシート明細データフレーム（df_receipt）に対し、1件あたりの売上金額（amount）が高い順にランクを付与し、先頭10件を抽出せよ。項目は顧客ID（customer_id）、売上金額（amount）、付与したランクを表示させること。なお、売上金額（amount）が等しい場合は同一順位を付与するものとする。"
   ]
  },
  {
   "cell_type": "code",
   "execution_count": 138,
   "metadata": {
    "dotnet_interactive": {
     "language": "csharp"
    }
   },
   "outputs": [
    {
     "ename": "Error",
     "evalue": "(2,48): error CS1660: ラムダ式 はデリゲート型ではないため、'string' 型に変換できません\r\n(9,12): error CS1061: 'DataFrame' に 'Select' の定義が含まれておらず、型 'DataFrame' の最初の引数を受け付けるアクセス可能な拡張メソッド 'Select' が見つかりませんでした。using ディレクティブまたはアセンブリ参照が不足していないことを確認してください",
     "output_type": "error",
     "traceback": [
      "(2,48): error CS1660: ラムダ式 はデリゲート型ではないため、'string' 型に変換できません\r\n",
      "(9,12): error CS1061: 'DataFrame' に 'Select' の定義が含まれておらず、型 'DataFrame' の最初の引数を受け付けるアクセス可能な拡張メソッド 'Select' が見つかりませんでした。using ディレクティブまたはアセンブリ参照が不足していないことを確認してください"
     ]
    }
   ],
   "source": [
    "// 小さい順に並び替えたランキングを計算。同じ値の場合は同じランキングにする\n",
    "var amount_rank = df_receipt.OrderByDescending(r => r.amount ?? 0)\n",
    "                .Select((r, index) => new { rank = index + 1, amount = r.amount ?? 0 })\n",
    "                .GroupBy(r => r.amount, r => r.rank,\n",
    "                    (amount, rankList) => new { amount = amount, rank = rankList.Min()})\n",
    "                .ToDictionary(r => r.amount);\n",
    "\n",
    "// 上記で計算した amount -> ranking の 値を参照する\n",
    "df_receipt.Select( r => new { r.customer_id, r.amount, ranking = amount_rank[r.amount ?? 0].rank})\n",
    "    .OrderBy(r => r.ranking).Take(10).DisplayTable()"
   ]
  },
  {
   "cell_type": "markdown",
   "metadata": {},
   "source": [
    "---\n",
    "> P-020: レシート明細データフレーム（df_receipt）に対し、1件あたりの売上金額（amount）が高い順にランクを付与し、先頭10件を抽出せよ。項目は顧客ID（customer_id）、売上金額（amount）、付与したランクを表示させること。なお、売上金額（amount）が等しい場合でも別順位を付与すること。"
   ]
  },
  {
   "cell_type": "code",
   "execution_count": 139,
   "metadata": {
    "dotnet_interactive": {
     "language": "csharp"
    }
   },
   "outputs": [
    {
     "ename": "Error",
     "evalue": "(1,30): error CS1660: ラムダ式 はデリゲート型ではないため、'string' 型に変換できません",
     "output_type": "error",
     "traceback": [
      "(1,30): error CS1660: ラムダ式 はデリゲート型ではないため、'string' 型に変換できません"
     ]
    }
   ],
   "source": [
    "df_receipt.OrderByDescending(r => r.amount)\n",
    "    .Select((r,index) => new { r.customer_id, r.amount, ranking = index + 1})\n",
    "    .Take(10).DisplayTable()"
   ]
  },
  {
   "cell_type": "markdown",
   "metadata": {},
   "source": [
    "---\n",
    "> P-021: レシート明細データフレーム（df_receipt）に対し、件数をカウントせよ。"
   ]
  },
  {
   "cell_type": "code",
   "execution_count": 140,
   "metadata": {
    "dotnet_interactive": {
     "language": "csharp"
    }
   },
   "outputs": [
    {
     "ename": "Error",
     "evalue": "(1,12): error CS8917: デリゲート型を推論できませんでした。",
     "output_type": "error",
     "traceback": [
      "(1,12): error CS8917: デリゲート型を推論できませんでした。"
     ]
    }
   ],
   "source": [
    "df_receipt.Count"
   ]
  },
  {
   "cell_type": "markdown",
   "metadata": {},
   "source": [
    "---\n",
    "> P-022: レシート明細データフレーム（df_receipt）の顧客ID（customer_id）に対し、ユニーク件数をカウントせよ。"
   ]
  },
  {
   "cell_type": "code",
   "execution_count": 141,
   "metadata": {
    "dotnet_interactive": {
     "language": "csharp"
    }
   },
   "outputs": [
    {
     "ename": "Error",
     "evalue": "(1,12): error CS1061: 'DataFrame' に 'Select' の定義が含まれておらず、型 'DataFrame' の最初の引数を受け付けるアクセス可能な拡張メソッド 'Select' が見つかりませんでした。using ディレクティブまたはアセンブリ参照が不足していないことを確認してください",
     "output_type": "error",
     "traceback": [
      "(1,12): error CS1061: 'DataFrame' に 'Select' の定義が含まれておらず、型 'DataFrame' の最初の引数を受け付けるアクセス可能な拡張メソッド 'Select' が見つかりませんでした。using ディレクティブまたはアセンブリ参照が不足していないことを確認してください"
     ]
    }
   ],
   "source": [
    "df_receipt.Select(r => r.customer_id).Distinct().Count()"
   ]
  },
  {
   "cell_type": "markdown",
   "metadata": {},
   "source": [
    "---\n",
    "> P-023: レシート明細データフレーム（df_receipt）に対し、店舗コード（store_cd）ごとに売上金額（amount）と売上数量（quantity）を合計せよ。"
   ]
  },
  {
   "cell_type": "code",
   "execution_count": 142,
   "metadata": {
    "dotnet_interactive": {
     "language": "csharp"
    }
   },
   "outputs": [
    {
     "ename": "Error",
     "evalue": "(2,20): error CS1660: ラムダ式 はデリゲート型ではないため、'string' 型に変換できません",
     "output_type": "error",
     "traceback": [
      "(2,20): error CS1660: ラムダ式 はデリゲート型ではないため、'string' 型に変換できません"
     ]
    }
   ],
   "source": [
    "//df_receipt.groupby('store_cd').agg({'amount':'sum', 'quantity':'sum'}).reset_index()\n",
    "df_receipt.GroupBy(r => r.store_cd)\n",
    "    .Select(r => new {\n",
    "        store_cd = r.Key,\n",
    "        sum_amount = r.Sum(t => t.amount ?? 0),\n",
    "        sum_quantity = r.Sum(t => t.quantity)\n",
    "    }).OrderBy(r => r.store_cd).DisplayTable()"
   ]
  },
  {
   "cell_type": "markdown",
   "metadata": {},
   "source": [
    "---\n",
    "> P-024: レシート明細データフレーム（df_receipt）に対し、顧客ID（customer_id）ごとに最も新しい売上日（sales_ymd）を求め、10件表示せよ。"
   ]
  },
  {
   "cell_type": "code",
   "execution_count": 143,
   "metadata": {
    "dotnet_interactive": {
     "language": "csharp"
    }
   },
   "outputs": [
    {
     "ename": "Error",
     "evalue": "(1,20): error CS1660: ラムダ式 はデリゲート型ではないため、'string' 型に変換できません",
     "output_type": "error",
     "traceback": [
      "(1,20): error CS1660: ラムダ式 はデリゲート型ではないため、'string' 型に変換できません"
     ]
    }
   ],
   "source": [
    "df_receipt.GroupBy(r => r.customer_id).Select(r => new {customer_id = r.Key, sales_ymd = r.Max(t => t.sales_ymd)})\n",
    "    .OrderBy(r => r.customer_id).Take(10).DisplayTable()"
   ]
  },
  {
   "cell_type": "markdown",
   "metadata": {},
   "source": [
    "---\n",
    "> P-025: レシート明細データフレーム（df_receipt）に対し、顧客ID（customer_id）ごとに最も古い売上日（sales_ymd）を求め、10件表示せよ。"
   ]
  },
  {
   "cell_type": "code",
   "execution_count": 144,
   "metadata": {
    "dotnet_interactive": {
     "language": "csharp"
    }
   },
   "outputs": [
    {
     "ename": "Error",
     "evalue": "(1,20): error CS1660: ラムダ式 はデリゲート型ではないため、'string' 型に変換できません",
     "output_type": "error",
     "traceback": [
      "(1,20): error CS1660: ラムダ式 はデリゲート型ではないため、'string' 型に変換できません"
     ]
    }
   ],
   "source": [
    "df_receipt.GroupBy(r => r.customer_id).Select(r => new {customer_id = r.Key, sales_ymd = r.Min(t => t.sales_ymd)})\n",
    "    .OrderBy(r => r.customer_id).Take(10).DisplayTable()"
   ]
  },
  {
   "cell_type": "markdown",
   "metadata": {},
   "source": [
    "---\n",
    "> P-026: レシート明細データフレーム（df_receipt）に対し、顧客ID（customer_id）ごとに最も新しい売上日（sales_ymd）と古い売上日を求め、両者が異なるデータを10件表示せよ。"
   ]
  },
  {
   "cell_type": "code",
   "execution_count": 145,
   "metadata": {
    "dotnet_interactive": {
     "language": "csharp"
    }
   },
   "outputs": [
    {
     "ename": "Error",
     "evalue": "(1,20): error CS1660: ラムダ式 はデリゲート型ではないため、'string' 型に変換できません",
     "output_type": "error",
     "traceback": [
      "(1,20): error CS1660: ラムダ式 はデリゲート型ではないため、'string' 型に変換できません"
     ]
    }
   ],
   "source": [
    "df_receipt.GroupBy(r => r.customer_id).Select(r => new {customer_id = r.Key, max_sales_ymd = r.Max(t => t.sales_ymd), min_sales_ymd = r.Min(t => t.sales_ymd) })\n",
    "    .Where(r => r.max_sales_ymd != r.min_sales_ymd)\n",
    "    .OrderBy(r => r.customer_id).Take(10).DisplayTable()"
   ]
  },
  {
   "cell_type": "markdown",
   "metadata": {},
   "source": [
    "---\n",
    "> P-027: レシート明細データフレーム（df_receipt）に対し、店舗コード（store_cd）ごとに売上金額（amount）の平均を計算し、降順でTOP5を表示せよ。"
   ]
  },
  {
   "cell_type": "code",
   "execution_count": 146,
   "metadata": {
    "dotnet_interactive": {
     "language": "csharp"
    }
   },
   "outputs": [
    {
     "ename": "Error",
     "evalue": "(1,20): error CS1660: ラムダ式 はデリゲート型ではないため、'string' 型に変換できません",
     "output_type": "error",
     "traceback": [
      "(1,20): error CS1660: ラムダ式 はデリゲート型ではないため、'string' 型に変換できません"
     ]
    }
   ],
   "source": [
    "df_receipt.GroupBy(r => r.store_cd).Select(r => new {\n",
    "    store_cd = r.Key,\n",
    "    avg_amount = r.Average(r => r.amount)\n",
    "}).OrderByDescending(r => r.avg_amount).Take(5).DisplayTable()"
   ]
  },
  {
   "cell_type": "markdown",
   "metadata": {},
   "source": [
    "---\n",
    "> P-028: レシート明細データフレーム（df_receipt）に対し、店舗コード（store_cd）ごとに売上金額（amount）の中央値を計算し、降順でTOP5を表示せよ。"
   ]
  },
  {
   "cell_type": "code",
   "execution_count": 147,
   "metadata": {
    "dotnet_interactive": {
     "language": "csharp"
    }
   },
   "outputs": [
    {
     "ename": "Error",
     "evalue": "(1,7): error CS0246: 型または名前空間の名前 'MathNet' が見つかりませんでした (using ディレクティブまたはアセンブリ参照が指定されていることを確認してください)\r\n(3,20): error CS1660: ラムダ式 はデリゲート型ではないため、'string' 型に変換できません",
     "output_type": "error",
     "traceback": [
      "(1,7): error CS0246: 型または名前空間の名前 'MathNet' が見つかりませんでした (using ディレクティブまたはアセンブリ参照が指定されていることを確認してください)\r\n",
      "(3,20): error CS1660: ラムダ式 はデリゲート型ではないため、'string' 型に変換できません"
     ]
    }
   ],
   "source": [
    "using MathNet.Numerics.Statistics;\n",
    "\n",
    "df_receipt.GroupBy(r => r.store_cd).Select(r => new {\n",
    "    store_cd = r.Key,\n",
    "    median_amount = r.Select(t => (double) t.amount).Median()\n",
    "}).OrderByDescending(r => r.median_amount).ThenBy(r => r.store_cd).Take(5).DisplayTable()"
   ]
  },
  {
   "cell_type": "markdown",
   "metadata": {},
   "source": [
    "---\n",
    "> P-029: レシート明細データフレーム（df_receipt）に対し、店舗コード（store_cd）ごとに商品コード（product_cd）の最頻値を求めよ。"
   ]
  },
  {
   "cell_type": "code",
   "execution_count": 148,
   "metadata": {
    "dotnet_interactive": {
     "language": "csharp"
    }
   },
   "outputs": [
    {
     "ename": "Error",
     "evalue": "(3,10): error CS1660: ラムダ式 はデリゲート型ではないため、'string' 型に変換できません",
     "output_type": "error",
     "traceback": [
      "(3,10): error CS1660: ラムダ式 はデリゲート型ではないため、'string' 型に変換できません"
     ]
    }
   ],
   "source": [
    "// store_cd product_cd をキーに データ件数をカウント\n",
    "var count_list = df_receipt\n",
    ".GroupBy(r => new { r.store_cd, r.product_cd })\n",
    ".Select(t => new { store_cd = t.Key.store_cd, product_cd = t.Key.product_cd, count = t.Count() });\n",
    "\n",
    "// store_cd 単位で 件数の多い最初の1件を抽出\n",
    "var store_top_count_item = count_list\n",
    ".GroupBy(r => r.store_cd)\n",
    ".Select(r => new { store_cd = r.Key, maxItem = r.OrderByDescending(r => r.count).First() });\n",
    "\n",
    "// 結果取得\n",
    "store_top_count_item.Select(r => new { r.store_cd, r.maxItem.product_cd, r.maxItem.count }).OrderBy(r => r.store_cd)\n",
    ".DisplayTable()"
   ]
  },
  {
   "cell_type": "markdown",
   "metadata": {},
   "source": [
    "---\n",
    "> P-030: レシート明細データフレーム（df_receipt）に対し、店舗コード（store_cd）ごとに売上金額（amount）の標本分散を計算し、降順でTOP5を表示せよ。"
   ]
  },
  {
   "cell_type": "code",
   "execution_count": 149,
   "metadata": {
    "dotnet_interactive": {
     "language": "csharp"
    }
   },
   "outputs": [
    {
     "ename": "Error",
     "evalue": "(1,7): error CS0246: 型または名前空間の名前 'MathNet' が見つかりませんでした (using ディレクティブまたはアセンブリ参照が指定されていることを確認してください)\r\n(3,20): error CS1660: ラムダ式 はデリゲート型ではないため、'string' 型に変換できません",
     "output_type": "error",
     "traceback": [
      "(1,7): error CS0246: 型または名前空間の名前 'MathNet' が見つかりませんでした (using ディレクティブまたはアセンブリ参照が指定されていることを確認してください)\r\n",
      "(3,20): error CS1660: ラムダ式 はデリゲート型ではないため、'string' 型に変換できません"
     ]
    }
   ],
   "source": [
    "using MathNet.Numerics.Statistics;\n",
    "\n",
    "df_receipt.GroupBy(r => r.store_cd).Select(r => new {\n",
    "    store_cd = r.Key,\n",
    "    variance_amount = r.Select(t => (double) t.amount).PopulationVariance()\n",
    "}).OrderByDescending(r => r.variance_amount).ThenBy(r => r.store_cd).Take(5).DisplayTable()"
   ]
  },
  {
   "cell_type": "markdown",
   "metadata": {},
   "source": [
    "---\n",
    "> P-031: レシート明細データフレーム（df_receipt）に対し、店舗コード（store_cd）ごとに売上金額（amount）の標本標準偏差を計算し、降順でTOP5を表示せよ。"
   ]
  },
  {
   "cell_type": "markdown",
   "metadata": {},
   "source": [
    "```\n",
    "var_sample <- function(x){ var(x)*(length(x)-1)/length(x) }\n",
    "std_sample <- function(x){ sqrt(var_sample(x)) }\n",
    "```"
   ]
  },
  {
   "cell_type": "code",
   "execution_count": 150,
   "metadata": {
    "dotnet_interactive": {
     "language": "csharp"
    }
   },
   "outputs": [
    {
     "ename": "Error",
     "evalue": "(1,7): error CS0246: 型または名前空間の名前 'MathNet' が見つかりませんでした (using ディレクティブまたはアセンブリ参照が指定されていることを確認してください)\r\n(3,20): error CS1660: ラムダ式 はデリゲート型ではないため、'string' 型に変換できません",
     "output_type": "error",
     "traceback": [
      "(1,7): error CS0246: 型または名前空間の名前 'MathNet' が見つかりませんでした (using ディレクティブまたはアセンブリ参照が指定されていることを確認してください)\r\n",
      "(3,20): error CS1660: ラムダ式 はデリゲート型ではないため、'string' 型に変換できません"
     ]
    }
   ],
   "source": [
    "using MathNet.Numerics.Statistics;\n",
    "\n",
    "df_receipt.GroupBy(r => r.store_cd)\n",
    "    .Select(r => new {key = r.Key, std_amount = Math.Sqrt(r.Select(t => (double) t.amount).PopulationVariance())})\n",
    "    .OrderByDescending(r => r.std_amount)\n",
    "    .Take(5).DisplayTable()"
   ]
  },
  {
   "cell_type": "markdown",
   "metadata": {},
   "source": [
    "---\n",
    "> P-032: レシート明細データフレーム（df_receipt）の売上金額（amount）について、25％刻みでパーセンタイル値を求めよ。"
   ]
  },
  {
   "cell_type": "code",
   "execution_count": 151,
   "metadata": {
    "dotnet_interactive": {
     "language": "csharp"
    }
   },
   "outputs": [
    {
     "ename": "Error",
     "evalue": "(1,7): error CS0246: 型または名前空間の名前 'MathNet' が見つかりませんでした (using ディレクティブまたはアセンブリ参照が指定されていることを確認してください)\r\n(4,29): error CS1061: 'DataFrame' に 'Select' の定義が含まれておらず、型 'DataFrame' の最初の引数を受け付けるアクセス可能な拡張メソッド 'Select' が見つかりませんでした。using ディレクティブまたはアセンブリ参照が不足していないことを確認してください",
     "output_type": "error",
     "traceback": [
      "(1,7): error CS0246: 型または名前空間の名前 'MathNet' が見つかりませんでした (using ディレクティブまたはアセンブリ参照が指定されていることを確認してください)\r\n",
      "(4,29): error CS1061: 'DataFrame' に 'Select' の定義が含まれておらず、型 'DataFrame' の最初の引数を受け付けるアクセス可能な拡張メソッド 'Select' が見つかりませんでした。using ディレクティブまたはアセンブリ参照が不足していないことを確認してください"
     ]
    }
   ],
   "source": [
    "using MathNet.Numerics.Statistics;\n",
    "\n",
    "// 売上金額のリスト\n",
    "var amountList = df_receipt.Select(r => (double) r.amount).ToList();\n",
    "\n",
    "// 結果\n",
    "new { \n",
    "    amount_25per = amountList.Percentile(25),\n",
    "    amount_50per = amountList.Percentile(50),\n",
    "    amount_75per = amountList.Percentile(75),\n",
    "    amount_100per = amountList.Percentile(100),\n",
    "}"
   ]
  },
  {
   "cell_type": "markdown",
   "metadata": {},
   "source": [
    "---\n",
    "> P-033: レシート明細データフレーム（df_receipt）に対し、店舗コード（store_cd）ごとに売上金額（amount）の平均を計算し、330以上のものを抽出せよ。"
   ]
  },
  {
   "cell_type": "code",
   "execution_count": 152,
   "metadata": {
    "dotnet_interactive": {
     "language": "csharp"
    }
   },
   "outputs": [
    {
     "ename": "Error",
     "evalue": "(1,20): error CS1660: ラムダ式 はデリゲート型ではないため、'string' 型に変換できません",
     "output_type": "error",
     "traceback": [
      "(1,20): error CS1660: ラムダ式 はデリゲート型ではないため、'string' 型に変換できません"
     ]
    }
   ],
   "source": [
    "df_receipt.GroupBy(r => r.store_cd)\n",
    "    .Select(r => new { store_code = r.Key, avg_amount = r.Average(t => t.amount) })\n",
    "    .Where(r => r.avg_amount >= 330).OrderBy(r => r.store_code).DisplayTable()"
   ]
  },
  {
   "cell_type": "markdown",
   "metadata": {},
   "source": [
    "---\n",
    "> P-034: レシート明細データフレーム（df_receipt）に対し、顧客ID（customer_id）ごとに売上金額（amount）を合計して全顧客の平均を求めよ。ただし、顧客IDが\"Z\"から始まるのものは非会員を表すため、除外して計算すること。"
   ]
  },
  {
   "cell_type": "code",
   "execution_count": 153,
   "metadata": {
    "dotnet_interactive": {
     "language": "csharp"
    }
   },
   "outputs": [
    {
     "ename": "Error",
     "evalue": "(2,6): error CS1061: 'DataFrame' に 'Where' の定義が含まれておらず、型 'DataFrame' の最初の引数を受け付けるアクセス可能な拡張メソッド 'Where' が見つかりませんでした。using ディレクティブまたはアセンブリ参照が不足していないことを確認してください",
     "output_type": "error",
     "traceback": [
      "(2,6): error CS1061: 'DataFrame' に 'Where' の定義が含まれておらず、型 'DataFrame' の最初の引数を受け付けるアクセス可能な拡張メソッド 'Where' が見つかりませんでした。using ディレクティブまたはアセンブリ参照が不足していないことを確認してください"
     ]
    }
   ],
   "source": [
    "df_receipt\n",
    "    .Where(r => !r.customer_id.StartsWith(\"Z\"))\n",
    "    .GroupBy(r => r.customer_id)\n",
    "    .Select(r => new { sum_amount = r.Sum(r => r.amount)})\n",
    "    .Average(r => r.sum_amount)"
   ]
  },
  {
   "cell_type": "markdown",
   "metadata": {},
   "source": [
    "---\n",
    "> P-035: レシート明細データフレーム（df_receipt）に対し、顧客ID（customer_id）ごとに売上金額（amount）を合計して全顧客の平均を求め、平均以上に買い物をしている顧客を抽出せよ。ただし、顧客IDが\"Z\"から始まるのものは非会員を表すため、除外して計算すること。なお、データは10件だけ表示させれば良い。"
   ]
  },
  {
   "cell_type": "code",
   "execution_count": 154,
   "metadata": {
    "dotnet_interactive": {
     "language": "csharp"
    }
   },
   "outputs": [
    {
     "ename": "Error",
     "evalue": "(2,6): error CS1061: 'DataFrame' に 'Where' の定義が含まれておらず、型 'DataFrame' の最初の引数を受け付けるアクセス可能な拡張メソッド 'Where' が見つかりませんでした。using ディレクティブまたはアセンブリ参照が不足していないことを確認してください",
     "output_type": "error",
     "traceback": [
      "(2,6): error CS1061: 'DataFrame' に 'Where' の定義が含まれておらず、型 'DataFrame' の最初の引数を受け付けるアクセス可能な拡張メソッド 'Where' が見つかりませんでした。using ディレクティブまたはアセンブリ参照が不足していないことを確認してください"
     ]
    }
   ],
   "source": [
    "var cust_amount = df_receipt\n",
    "    .Where(r => !r.customer_id.StartsWith(\"Z\"))\n",
    "    .GroupBy(r => r.customer_id)\n",
    "    .Select(r => new { customer_id = r.Key, sum_amount = r.Sum(r => r.amount)});\n",
    "var avg_amount = cust_amount.Average(r => r.sum_amount);\n",
    "\n",
    "cust_amount.Where(r => r.sum_amount >= avg_amount).OrderBy(r => r.customer_id).Take(10).DisplayTable()"
   ]
  },
  {
   "cell_type": "markdown",
   "metadata": {},
   "source": [
    "---\n",
    "> P-036: レシート明細データフレーム（df_receipt）と店舗データフレーム（df_store）を内部結合し、レシート明細データフレームの全項目と店舗データフレームの店舗名（store_name）を10件表示させよ。"
   ]
  },
  {
   "cell_type": "code",
   "execution_count": 155,
   "metadata": {
    "dotnet_interactive": {
     "language": "csharp"
    }
   },
   "outputs": [
    {
     "ename": "Error",
     "evalue": "(2,5): error CS1660: ラムダ式 はデリゲート型ではないため、'string' 型に変換できません\r\n(3,5): error CS1660: ラムダ式 はデリゲート型ではないため、'string' 型に変換できません\r\n(4,5): error CS1660: ラムダ式 はデリゲート型ではないため、'JoinAlgorithm' 型に変換できません",
     "output_type": "error",
     "traceback": [
      "(2,5): error CS1660: ラムダ式 はデリゲート型ではないため、'string' 型に変換できません\r\n",
      "(3,5): error CS1660: ラムダ式 はデリゲート型ではないため、'string' 型に変換できません\r\n",
      "(4,5): error CS1660: ラムダ式 はデリゲート型ではないため、'JoinAlgorithm' 型に変換できません"
     ]
    }
   ],
   "source": [
    "df_receipt.Join(df_store,\n",
    "    receipt => receipt.store_cd,\n",
    "    store => store.store_cd,\n",
    "    (receipt, store) =>\n",
    "    new\n",
    "    {\n",
    "        receipt.sales_ymd,\n",
    "        receipt.sales_epoch,\n",
    "        receipt.store_cd,\n",
    "        receipt.receipt_no,\n",
    "        receipt.receipt_sub_no,\n",
    "        receipt.customer_id,\n",
    "        receipt.product_cd,\n",
    "        receipt.quantity,\n",
    "        receipt.amount,\n",
    "        store_name = store.store_name,\n",
    "    }).Take(10).DisplayTable()"
   ]
  },
  {
   "cell_type": "markdown",
   "metadata": {},
   "source": [
    "---\n",
    "> P-037: 商品データフレーム（df_product）とカテゴリデータフレーム（df_category）を内部結合し、商品データフレームの全項目とカテゴリデータフレームの小区分名（category_small_name）を10件表示させよ。"
   ]
  },
  {
   "cell_type": "code",
   "execution_count": 156,
   "metadata": {
    "dotnet_interactive": {
     "language": "csharp"
    }
   },
   "outputs": [
    {
     "ename": "Error",
     "evalue": "(2,5): error CS1660: ラムダ式 はデリゲート型ではないため、'string' 型に変換できません\r\n(3,5): error CS1660: ラムダ式 はデリゲート型ではないため、'string' 型に変換できません\r\n(4,5): error CS1660: ラムダ式 はデリゲート型ではないため、'JoinAlgorithm' 型に変換できません",
     "output_type": "error",
     "traceback": [
      "(2,5): error CS1660: ラムダ式 はデリゲート型ではないため、'string' 型に変換できません\r\n",
      "(3,5): error CS1660: ラムダ式 はデリゲート型ではないため、'string' 型に変換できません\r\n",
      "(4,5): error CS1660: ラムダ式 はデリゲート型ではないため、'JoinAlgorithm' 型に変換できません"
     ]
    }
   ],
   "source": [
    "df_product.Join(df_category,\n",
    "    product => product.category_small_cd,\n",
    "    category => category.category_small_cd,\n",
    "    (product, cateogory) => new {\n",
    "        product.product_cd ,\n",
    "        product.category_major_cd ,\n",
    "        product.category_medium_cd ,\n",
    "        product.category_small_cd ,\n",
    "        product.unit_price ,\n",
    "        product.unit_cost ,\n",
    "        cateogory.category_small_name\n",
    "    }).Take(10).DisplayTable()"
   ]
  },
  {
   "cell_type": "markdown",
   "metadata": {},
   "source": [
    "---\n",
    "> P-038: 顧客データフレーム（df_customer）とレシート明細データフレーム（df_receipt）から、各顧客ごとの売上金額合計を求めよ。ただし、買い物の実績がない顧客については売上金額を0として表示させること。また、顧客は性別コード（gender_cd）が女性（1）であるものを対象とし、非会員（顧客IDが'Z'から始まるもの）は除外すること。なお、結果は10件だけ表示させれば良い。"
   ]
  },
  {
   "cell_type": "code",
   "execution_count": 157,
   "metadata": {
    "dotnet_interactive": {
     "language": "csharp"
    }
   },
   "outputs": [
    {
     "ename": "Error",
     "evalue": "(2,46): error CS1660: ラムダ式 はデリゲート型ではないため、'string' 型に変換できません\r\n(6,36): error CS1061: 'DataFrame' に 'Where' の定義が含まれておらず、型 'DataFrame' の最初の引数を受け付けるアクセス可能な拡張メソッド 'Where' が見つかりませんでした。using ディレクティブまたはアセンブリ参照が不足していないことを確認してください",
     "output_type": "error",
     "traceback": [
      "(2,46): error CS1660: ラムダ式 はデリゲート型ではないため、'string' 型に変換できません\r\n",
      "(6,36): error CS1061: 'DataFrame' に 'Where' の定義が含まれておらず、型 'DataFrame' の最初の引数を受け付けるアクセス可能な拡張メソッド 'Where' が見つかりませんでした。using ディレクティブまたはアセンブリ参照が不足していないことを確認してください"
     ]
    }
   ],
   "source": [
    "// 顧客毎の売り上げ金額\n",
    "var customer_amount_sum = df_receipt.GroupBy(r => r.customer_id).Select(r => new {customer_id = r.Key, sum_amount = r.Sum(t => t.amount ?? 0)})\n",
    "    .ToDictionary(r => r.customer_id);\n",
    "\n",
    "// 対象顧客\n",
    "var customer_id_list = df_customer.Where(r => r.gender_cd == \"1\" && !r.customer_id.StartsWith(\"Z\"));\n",
    "\n",
    "// 顧客単位に表示\n",
    "customer_id_list.Select(r => new {\n",
    "    r.customer_id,\n",
    "    sum_amount = customer_amount_sum.GetValueOrDefault(r.customer_id)?.sum_amount ?? 0,\n",
    "}).Take(10).DisplayTable()"
   ]
  },
  {
   "cell_type": "markdown",
   "metadata": {},
   "source": [
    "---\n",
    "> P-039: レシート明細データフレーム（df_receipt）から売上日数の多い顧客の上位20件と、売上金額合計の多い顧客の上位20件を抽出し、完全外部結合せよ。ただし、非会員（顧客IDが'Z'から始まるもの）は除外すること。"
   ]
  },
  {
   "cell_type": "code",
   "execution_count": 158,
   "metadata": {
    "dotnet_interactive": {
     "language": "csharp"
    }
   },
   "outputs": [
    {
     "ename": "Error",
     "evalue": "(2,33): error CS1660: ラムダ式 はデリゲート型ではないため、'string' 型に変換できません\r\n(7,33): error CS1660: ラムダ式 はデリゲート型ではないため、'string' 型に変換できません",
     "output_type": "error",
     "traceback": [
      "(2,33): error CS1660: ラムダ式 はデリゲート型ではないため、'string' 型に変換できません\r\n",
      "(7,33): error CS1660: ラムダ式 はデリゲート型ではないため、'string' 型に変換できません"
     ]
    }
   ],
   "source": [
    "// 売上金額の多い顧客 TOP 20\n",
    "var df_sum = df_receipt.GroupBy(r => r.customer_id).Select(r => new { customer_id = r.Key, sum_amount = r.Sum(t => t.amount)}).ToList();\n",
    "df_sum = df_sum.Where(r => ! r.customer_id.StartsWith(\"Z\")).ToList();\n",
    "df_sum = df_sum.OrderByDescending(r => r.sum_amount).Take(20).ToList();\n",
    "\n",
    "// 売上日数の多い顧客\n",
    "var df_cnt = df_receipt.GroupBy(r => r.customer_id).Select(r => new {\n",
    "    customer_id = r.Key, \n",
    "    sales_ymd_count = r.Select(t => t.sales_ymd).Distinct().Count()});\n",
    "// 対象外を取り除く\n",
    "df_cnt = df_cnt.Where(r => !r.customer_id.StartsWith(\"Z\"))\n",
    "    .OrderByDescending(r => r.sales_ymd_count).Take(20).ToList();\n",
    "// 顧客一覧\n",
    "var customer_id_list = df_sum.Select(r => new {r.customer_id} ).Union(df_cnt.Select(r => new {r.customer_id})).Distinct().ToList();\n",
    "\n",
    "// LEFT JOIN 形式のクエリーを書くのは この形式が書きやすい\n",
    "var query = from customer_id_list in customer_id_list\n",
    "        join df_cnt in df_cnt on customer_id_list.customer_id equals df_cnt.customer_id into df_cnt_grouping\n",
    "        from pp_cnt in df_cnt_grouping.DefaultIfEmpty()\n",
    "        join df_sum in df_sum on customer_id_list.customer_id equals df_sum.customer_id into df_sum_grouping\n",
    "        from PP_sum in df_sum_grouping.DefaultIfEmpty()\n",
    "        select new { \n",
    "            customer_id_list.customer_id, \n",
    "            PP_sum?.sum_amount, \n",
    "            come_days = pp_cnt?.sales_ymd_count,\n",
    "        };\n",
    "\n",
    "query.Take(20).ToList().DisplayTable()"
   ]
  },
  {
   "cell_type": "markdown",
   "metadata": {},
   "source": [
    "---\n",
    "> P-040: 全ての店舗と全ての商品を組み合わせると何件のデータとなるか調査したい。店舗（df_store）と商品（df_product）を直積した件数を計算せよ。"
   ]
  },
  {
   "cell_type": "code",
   "execution_count": 159,
   "metadata": {
    "dotnet_interactive": {
     "language": "csharp"
    }
   },
   "outputs": [
    {
     "ename": "Error",
     "evalue": "(1,24): error CS1061: 'DataFrame' に 'Count' の定義が含まれておらず、型 'DataFrame' の最初の引数を受け付けるアクセス可能な拡張メソッド 'Count' が見つかりませんでした。using ディレクティブまたはアセンブリ参照が不足していないことを確認してください\r\n(2,28): error CS1061: 'DataFrame' に 'Count' の定義が含まれておらず、型 'DataFrame' の最初の引数を受け付けるアクセス可能な拡張メソッド 'Count' が見つかりませんでした。using ディレクティブまたはアセンブリ参照が不足していないことを確認してください",
     "output_type": "error",
     "traceback": [
      "(1,24): error CS1061: 'DataFrame' に 'Count' の定義が含まれておらず、型 'DataFrame' の最初の引数を受け付けるアクセス可能な拡張メソッド 'Count' が見つかりませんでした。using ディレクティブまたはアセンブリ参照が不足していないことを確認してください\r\n",
      "(2,28): error CS1061: 'DataFrame' に 'Count' の定義が含まれておらず、型 'DataFrame' の最初の引数を受け付けるアクセス可能な拡張メソッド 'Count' が見つかりませんでした。using ディレクティブまたはアセンブリ参照が不足していないことを確認してください"
     ]
    }
   ],
   "source": [
    "int n_store = df_store.Count();\n",
    "int n_product = df_product.Count();\n",
    "\n",
    "n_store * n_product"
   ]
  },
  {
   "cell_type": "markdown",
   "metadata": {},
   "source": [
    "---\n",
    "> P-041: レシート明細データフレーム（df_receipt）の売上金額（amount）を日付（sales_ymd）ごとに集計し、前日からの売上金額増減を計算せよ。なお、計算結果は10件表示すればよい。"
   ]
  },
  {
   "cell_type": "code",
   "execution_count": 160,
   "metadata": {
    "dotnet_interactive": {
     "language": "csharp"
    }
   },
   "outputs": [
    {
     "ename": "Error",
     "evalue": "(2,43): error CS1660: ラムダ式 はデリゲート型ではないため、'string' 型に変換できません\r\n(12,28): error CS1061: 'DataFrame' に 'Select' の定義が含まれておらず、型 'DataFrame' の最初の引数を受け付けるアクセス可能な拡張メソッド 'Select' が見つかりませんでした。using ディレクティブまたはアセンブリ参照が不足していないことを確認してください",
     "output_type": "error",
     "traceback": [
      "(2,43): error CS1660: ラムダ式 はデリゲート型ではないため、'string' 型に変換できません\r\n",
      "(12,28): error CS1061: 'DataFrame' に 'Select' の定義が含まれておらず、型 'DataFrame' の最初の引数を受け付けるアクセス可能な拡張メソッド 'Select' が見つかりませんでした。using ディレクティブまたはアセンブリ参照が不足していないことを確認してください"
     ]
    }
   ],
   "source": [
    "// 日付毎の売り上げ額\n",
    "var day_sales_amount = df_receipt.GroupBy(r => r.sales_ymd)\n",
    "    .Select(r => new {sales_ymd = r.Key, sum_amount = r.Sum(t => t.amount?? 0)})\n",
    "    .ToDictionary(r => r.sales_ymd);\n",
    "// 日付計算\n",
    "string yyyymmdd_add_day(String yyyymmdd, int add_days) {\n",
    "    DateTime tm = DateTime.Parse(yyyymmdd.Substring(0,4) + \"/\" + yyyymmdd.Substring(4,2) + \"/\" + yyyymmdd.Substring(6));\n",
    "    tm = tm.AddDays(add_days);\n",
    "    return tm.ToString(\"yyyyMMdd\");\n",
    "}\n",
    "\n",
    "var date_list = df_receipt.Select(r => r.sales_ymd).Distinct().OrderBy(r => r).ToList();\n",
    "date_list.Select(yyyymmdd => new {\n",
    "    sale_ymd = yyyymmdd,\n",
    "    amount = day_sales_amount.GetValueOrDefault(yyyymmdd)?.sum_amount ?? 0,\n",
    "    befor_ymd = yyyymmdd_add_day(yyyymmdd , -1),\n",
    "}).Select(r => new {\n",
    "    r.sale_ymd,\n",
    "    r.amount,\n",
    "    r.befor_ymd,\n",
    "    befor_amount = day_sales_amount.GetValueOrDefault(r.befor_ymd)?.sum_amount,\n",
    "    diff_amount = r.amount - day_sales_amount.GetValueOrDefault(r.befor_ymd)?.sum_amount ?? 0,\n",
    "}).Take(10).DisplayTable()"
   ]
  },
  {
   "cell_type": "markdown",
   "metadata": {},
   "source": [
    "---\n",
    "> P-042: レシート明細データフレーム（df_receipt）の売上金額（amount）を日付（sales_ymd）ごとに集計し、各日付のデータに対し、１日前、２日前、３日前のデータを結合せよ。結果は10件表示すればよい。"
   ]
  },
  {
   "cell_type": "code",
   "execution_count": 161,
   "metadata": {
    "dotnet_interactive": {
     "language": "csharp"
    }
   },
   "outputs": [
    {
     "ename": "Error",
     "evalue": "(2,46): error CS1660: ラムダ式 はデリゲート型ではないため、'string' 型に変換できません",
     "output_type": "error",
     "traceback": [
      "(2,46): error CS1660: ラムダ式 はデリゲート型ではないため、'string' 型に変換できません"
     ]
    }
   ],
   "source": [
    "// 日付毎に集計して 売上金額の 合計を計算\n",
    "var sales_ymd_to_amount = df_receipt.GroupBy(r => r.sales_ymd).Select(r => new {\n",
    "    sales_ymd = r.Key,\n",
    "    amount = r.Sum(t => t.amount),\n",
    "}).ToDictionary(r => r.sales_ymd); // 日付をキーに検索できるように Dictionary 変換\n",
    "//display(sales_ymd_to_amount);\n",
    "\n",
    "// 日付加減算処理\n",
    "string yyyymmdd_add_day(String yyyymmdd, int add_days) {\n",
    "    DateTime tm = DateTime.Parse(yyyymmdd.Substring(0,4) + \"/\" + yyyymmdd.Substring(4,2) + \"/\" + yyyymmdd.Substring(6));\n",
    "    tm = tm.AddDays(add_days);\n",
    "    return tm.ToString(\"yyyyMMdd\");\n",
    "}\n",
    "\n",
    "sales_ymd_to_amount.Values\n",
    ".OrderBy(r => r.sales_ymd)    // データを日付順に並び替え\n",
    ".Select(r => new {\n",
    "    // 1日前、2日前、3日前の計算\n",
    "    sales_ymd = r.sales_ymd,\n",
    "    amount = r.amount,\n",
    "    lag_ymd_1 = yyyymmdd_add_day(r.sales_ymd, -1),\n",
    "    lag_ymd_2 = yyyymmdd_add_day(r.sales_ymd, -2),\n",
    "    lag_ymd_3 = yyyymmdd_add_day(r.sales_ymd, -3),\n",
    "}).Select(r => new {\n",
    "    // 指定の日の 売上金額 設定\n",
    "    sales_ymd = r.sales_ymd,\n",
    "    amount = r.amount,\n",
    "    lag_ymd_1 = r.lag_ymd_1,\n",
    "    lag_amount_1 = sales_ymd_to_amount.GetValueOrDefault(r.lag_ymd_1)?.amount,\n",
    "    lag_ymd_2 = r.lag_ymd_2,\n",
    "    lag_amount_2 = sales_ymd_to_amount.GetValueOrDefault(r.lag_ymd_2)?.amount,\n",
    "    lag_ymd_3 = r.lag_ymd_3,\n",
    "    lag_amount_3 = sales_ymd_to_amount.GetValueOrDefault(r.lag_ymd_3)?.amount,\n",
    "}).DisplayTable()"
   ]
  },
  {
   "cell_type": "markdown",
   "metadata": {},
   "source": [
    "---\n",
    "> P-043： レシート明細データフレーム（df_receipt）と顧客データフレーム（df_customer）を結合し、性別（gender）と年代（ageから計算）ごとに売上金額（amount）を合計した売上サマリデータフレーム（df_sales_summary）を作成せよ。性別は0が男性、1が女性、9が不明を表すものとする。\n",
    ">\n",
    "> ただし、項目構成は年代、女性の売上金額、男性の売上金額、性別不明の売上金額の4項目とすること（縦に年代、横に性別のクロス集計）。また、年代は10歳ごとの階級とすること。"
   ]
  },
  {
   "cell_type": "code",
   "execution_count": 162,
   "metadata": {
    "dotnet_interactive": {
     "language": "csharp"
    }
   },
   "outputs": [
    {
     "ename": "Error",
     "evalue": "(9,31): error CS1936: ソース型 'DataFrame' のクエリ パターンの実装が見つかりませんでした。'GroupJoin' が見つかりません。",
     "output_type": "error",
     "traceback": [
      "(9,31): error CS1936: ソース型 'DataFrame' のクエリ パターンの実装が見つかりませんでした。'GroupJoin' が見つかりません。"
     ]
    }
   ],
   "source": [
    "string gender_cd_to_name(string gender_cd) {\n",
    "    switch(gender_cd) {\n",
    "        case \"0\": return \"男性\";\n",
    "        case \"1\": return \"女性\";\n",
    "        case \"9\": return \"不明\";\n",
    "        default: return null;\n",
    "    }\n",
    "}\n",
    "var list = from df_receipt in df_receipt\n",
    "    join df_customer in df_customer on df_receipt.customer_id equals df_customer.customer_id into df_receipt_cusomer\n",
    "    from df_data in df_receipt_cusomer\n",
    "    select new {\n",
    "        df_receipt_customer_id = df_receipt.customer_id,\n",
    "        df_receipt.amount,\n",
    "        df_data?.customer_id,\n",
    "        df_data?.age,\n",
    "        gender_cd = df_data?.gender_cd,\n",
    "        era = (df_data?.age ?? 0) / 10 * 10,\n",
    "    };\n",
    "\n",
    "var list_sum = list\n",
    "    .GroupBy(r => r.era) // 世代でグループ化\n",
    "    .Select(r => new {\n",
    "        era = r.Key,\n",
    "        male = r.Where(t => t.gender_cd == \"0\").Sum(r => r.amount),\n",
    "        female = r.Where(t => t.gender_cd == \"1\").Sum(r => r.amount),\n",
    "        unknown = r.Where(t => t.gender_cd == \"9\").Sum(r => r.amount),\n",
    "        null_data = r.Where(t => t.gender_cd == null).Sum(r => r.amount),\n",
    "    }).OrderBy(r => r.era).ToList();\n",
    "\n",
    "list_sum.DisplayTable();"
   ]
  },
  {
   "cell_type": "markdown",
   "metadata": {},
   "source": [
    "---\n",
    "> P-044： 前設問で作成した売上サマリデータフレーム（df_sales_summary）は性別の売上を横持ちさせたものであった。このデータフレームから性別を縦持ちさせ、年代、性別コード、売上金額の3項目に変換せよ。ただし、性別コードは男性を'00'、女性を'01'、不明を'99'とする。"
   ]
  },
  {
   "cell_type": "code",
   "execution_count": 163,
   "metadata": {
    "dotnet_interactive": {
     "language": "csharp"
    }
   },
   "outputs": [
    {
     "ename": "Error",
     "evalue": "(10,31): error CS1936: ソース型 'DataFrame' のクエリ パターンの実装が見つかりませんでした。'GroupJoin' が見つかりません。",
     "output_type": "error",
     "traceback": [
      "(10,31): error CS1936: ソース型 'DataFrame' のクエリ パターンの実装が見つかりませんでした。'GroupJoin' が見つかりません。"
     ]
    }
   ],
   "source": [
    "string gender_cd_convert(string gender_cd) {\n",
    "        switch(gender_cd) {\n",
    "            case \"0\": return \"00\";\n",
    "            case \"1\": return \"01\";\n",
    "            case \"9\": return \"99\";\n",
    "            default: return null;\n",
    "        }\n",
    "    }\n",
    "\n",
    "var list = from df_receipt in df_receipt\n",
    "    join df_customer in df_customer on df_receipt.customer_id equals df_customer.customer_id into df_receipt_cusomer\n",
    "    from df_data in df_receipt_cusomer\n",
    "    select new {\n",
    "        df_receipt.amount,\n",
    "        gender_cd = gender_cd_convert(df_data?.gender_cd),\n",
    "        era = (df_data?.age ?? 0) / 10 * 10,\n",
    "    };\n",
    "\n",
    "list.GroupBy(r => new { r.era, r.gender_cd})\n",
    "    .Select(r => new { era = r.Key.era, gender_cd = r.Key.gender_cd, sum_amount = r.Sum(t => t.amount)})\n",
    "    .OrderBy(r => r.gender_cd).ThenBy(r => r.era).DisplayTable()"
   ]
  },
  {
   "cell_type": "markdown",
   "metadata": {},
   "source": [
    "---\n",
    "> P-045: 顧客データフレーム（df_customer）の生年月日（birth_day）は日付型（Date）でデータを保有している。これをYYYYMMDD形式の文字列に変換し、顧客ID（customer_id）とともに抽出せよ。データは10件を抽出すれば良い。"
   ]
  },
  {
   "cell_type": "code",
   "execution_count": 164,
   "metadata": {
    "dotnet_interactive": {
     "language": "csharp"
    }
   },
   "outputs": [
    {
     "ename": "Error",
     "evalue": "(1,13): error CS1061: 'DataFrame' に 'Select' の定義が含まれておらず、型 'DataFrame' の最初の引数を受け付けるアクセス可能な拡張メソッド 'Select' が見つかりませんでした。using ディレクティブまたはアセンブリ参照が不足していないことを確認してください",
     "output_type": "error",
     "traceback": [
      "(1,13): error CS1061: 'DataFrame' に 'Select' の定義が含まれておらず、型 'DataFrame' の最初の引数を受け付けるアクセス可能な拡張メソッド 'Select' が見つかりませんでした。using ディレクティブまたはアセンブリ参照が不足していないことを確認してください"
     ]
    }
   ],
   "source": [
    "df_customer.Select(r => new {\n",
    "    r.customer_id,\n",
    "    birth_day = r.birth_day?.ToString(\"yyyyMMdd\"),\n",
    "}).Take(10).DisplayTable()"
   ]
  },
  {
   "cell_type": "markdown",
   "metadata": {},
   "source": [
    "---\n",
    "> P-046: 顧客データフレーム（df_customer）の申し込み日（application_date）はYYYYMMDD形式の文字列型でデータを保有している。これを日付型（dateやdatetime）に変換し、顧客ID（customer_id）とともに抽出せよ。データは10件を抽出すれば良い。"
   ]
  },
  {
   "cell_type": "code",
   "execution_count": 165,
   "metadata": {
    "dotnet_interactive": {
     "language": "csharp"
    }
   },
   "outputs": [
    {
     "ename": "Error",
     "evalue": "(6,13): error CS1061: 'DataFrame' に 'Select' の定義が含まれておらず、型 'DataFrame' の最初の引数を受け付けるアクセス可能な拡張メソッド 'Select' が見つかりませんでした。using ディレクティブまたはアセンブリ参照が不足していないことを確認してください",
     "output_type": "error",
     "traceback": [
      "(6,13): error CS1061: 'DataFrame' に 'Select' の定義が含まれておらず、型 'DataFrame' の最初の引数を受け付けるアクセス可能な拡張メソッド 'Select' が見つかりませんでした。using ディレクティブまたはアセンブリ参照が不足していないことを確認してください"
     ]
    }
   ],
   "source": [
    "\n",
    "DateTime ?yyyymmdd_to_date(string yyyymmdd) {\n",
    "    if (yyyymmdd == null) return null;\n",
    "    return DateTime.Parse(yyyymmdd.Substring(0,4) + \"/\" + yyyymmdd.Substring(4,2) + \"/\" + yyyymmdd.Substring(4,2));\n",
    "}\n",
    "df_customer.Select(r => new {\n",
    "    r.customer_id,\n",
    "    application_date = yyyymmdd_to_date(r.application_date),\n",
    "}).Take(5).DisplayTable()"
   ]
  },
  {
   "cell_type": "markdown",
   "metadata": {},
   "source": [
    "---\n",
    "> P-047: レシート明細データフレーム（df_receipt）の売上日（sales_ymd）はYYYYMMDD形式の数値型でデータを保有している。これを日付型（dateやdatetime）に変換し、レシート番号(receipt_no)、レシートサブ番号（receipt_sub_no）とともに抽出せよ。データは10件を抽出すれば良い。"
   ]
  },
  {
   "cell_type": "code",
   "execution_count": 166,
   "metadata": {
    "dotnet_interactive": {
     "language": "csharp"
    }
   },
   "outputs": [
    {
     "ename": "Error",
     "evalue": "(6,12): error CS1061: 'DataFrame' に 'Select' の定義が含まれておらず、型 'DataFrame' の最初の引数を受け付けるアクセス可能な拡張メソッド 'Select' が見つかりませんでした。using ディレクティブまたはアセンブリ参照が不足していないことを確認してください",
     "output_type": "error",
     "traceback": [
      "(6,12): error CS1061: 'DataFrame' に 'Select' の定義が含まれておらず、型 'DataFrame' の最初の引数を受け付けるアクセス可能な拡張メソッド 'Select' が見つかりませんでした。using ディレクティブまたはアセンブリ参照が不足していないことを確認してください"
     ]
    }
   ],
   "source": [
    "DateTime ?yyyymmdd_to_date(string yyyymmdd) {\n",
    "    if (yyyymmdd == null) return null;\n",
    "    return DateTime.Parse(yyyymmdd.Substring(0,4) + \"/\" + yyyymmdd.Substring(4,2) + \"/\" + yyyymmdd.Substring(6));\n",
    "}\n",
    "\n",
    "df_receipt.Select(r => new {\n",
    "    r.receipt_no,\n",
    "    r.receipt_sub_no,\n",
    "    sales_ymd = yyyymmdd_to_date(r.sales_ymd),\n",
    "}).Take(10).DisplayTable()"
   ]
  },
  {
   "cell_type": "markdown",
   "metadata": {},
   "source": [
    "---\n",
    "> P-048: レシート明細データフレーム（df_receipt）の売上エポック秒（sales_epoch）は数値型のUNIX秒でデータを保有している。これを日付型（dateやdatetime）に変換し、レシート番号(receipt_no)、レシートサブ番号（receipt_sub_no）とともに抽出せよ。データは10件を抽出すれば良い。"
   ]
  },
  {
   "cell_type": "code",
   "execution_count": 167,
   "metadata": {
    "dotnet_interactive": {
     "language": "csharp"
    }
   },
   "outputs": [
    {
     "ename": "Error",
     "evalue": "(7,12): error CS1061: 'DataFrame' に 'Select' の定義が含まれておらず、型 'DataFrame' の最初の引数を受け付けるアクセス可能な拡張メソッド 'Select' が見つかりませんでした。using ディレクティブまたはアセンブリ参照が不足していないことを確認してください",
     "output_type": "error",
     "traceback": [
      "(7,12): error CS1061: 'DataFrame' に 'Select' の定義が含まれておらず、型 'DataFrame' の最初の引数を受け付けるアクセス可能な拡張メソッド 'Select' が見つかりませんでした。using ディレクティブまたはアセンブリ参照が不足していないことを確認してください"
     ]
    }
   ],
   "source": [
    "// df_receipt.Where(r => r.sales_epoch == null).Count()\n",
    "// null は 0 件\n",
    "DateTime epoch_to_date(int? epoch) {\n",
    "    return DateTime.UnixEpoch.AddSeconds(epoch ?? 0);\n",
    "}\n",
    "\n",
    "df_receipt.Select(r => new {\n",
    "    r.receipt_no,\n",
    "    r.receipt_sub_no,\n",
    "    sales_ymd = epoch_to_date(r.sales_epoch),\n",
    "}).Take(10).DisplayTable()"
   ]
  },
  {
   "cell_type": "markdown",
   "metadata": {},
   "source": [
    "---\n",
    "> P-049: レシート明細データフレーム（df_receipt）の売上エポック秒（sales_epoch）を日付型（timestamp型）に変換し、\"年\"だけ取り出してレシート番号(receipt_no)、レシートサブ番号（receipt_sub_no）とともに抽出せよ。データは10件を抽出すれば良い。"
   ]
  },
  {
   "cell_type": "code",
   "execution_count": 168,
   "metadata": {
    "dotnet_interactive": {
     "language": "csharp"
    }
   },
   "outputs": [
    {
     "ename": "Error",
     "evalue": "(1,12): error CS1061: 'DataFrame' に 'Select' の定義が含まれておらず、型 'DataFrame' の最初の引数を受け付けるアクセス可能な拡張メソッド 'Select' が見つかりませんでした。using ディレクティブまたはアセンブリ参照が不足していないことを確認してください",
     "output_type": "error",
     "traceback": [
      "(1,12): error CS1061: 'DataFrame' に 'Select' の定義が含まれておらず、型 'DataFrame' の最初の引数を受け付けるアクセス可能な拡張メソッド 'Select' が見つかりませんでした。using ディレクティブまたはアセンブリ参照が不足していないことを確認してください"
     ]
    }
   ],
   "source": [
    "df_receipt.Select(r => new {\n",
    "    r.receipt_no,\n",
    "    r.receipt_sub_no,\n",
    "    sales_year = epoch_to_date(r.sales_epoch).Year,\n",
    "}).Take(10).DisplayTable()"
   ]
  },
  {
   "cell_type": "markdown",
   "metadata": {},
   "source": [
    "---\n",
    "> P-050: レシート明細データフレーム（df_receipt）の売上エポック秒（sales_epoch）を日付型（timestamp型）に変換し、\"月\"だけ取り出してレシート番号(receipt_no)、レシートサブ番号（receipt_sub_no）とともに抽出せよ。なお、\"月\"は0埋め2桁で取り出すこと。データは10件を抽出すれば良い。"
   ]
  },
  {
   "cell_type": "code",
   "execution_count": 169,
   "metadata": {
    "dotnet_interactive": {
     "language": "csharp"
    }
   },
   "outputs": [
    {
     "ename": "Error",
     "evalue": "(1,12): error CS1061: 'DataFrame' に 'Select' の定義が含まれておらず、型 'DataFrame' の最初の引数を受け付けるアクセス可能な拡張メソッド 'Select' が見つかりませんでした。using ディレクティブまたはアセンブリ参照が不足していないことを確認してください",
     "output_type": "error",
     "traceback": [
      "(1,12): error CS1061: 'DataFrame' に 'Select' の定義が含まれておらず、型 'DataFrame' の最初の引数を受け付けるアクセス可能な拡張メソッド 'Select' が見つかりませんでした。using ディレクティブまたはアセンブリ参照が不足していないことを確認してください"
     ]
    }
   ],
   "source": [
    "df_receipt.Select(r => new {\n",
    "    r.receipt_no,\n",
    "    r.receipt_sub_no,\n",
    "    sales_month = epoch_to_date(r.sales_epoch).Month.ToString(\"D2\"),\n",
    "}).Take(10).DisplayTable()"
   ]
  },
  {
   "cell_type": "markdown",
   "metadata": {},
   "source": [
    "---\n",
    "> P-051: レシート明細データフレーム（df_receipt）の売上エポック秒（sales_epoch）を日付型（timestamp型）に変換し、\"日\"だけ取り出してレシート番号(receipt_no)、レシートサブ番号（receipt_sub_no）とともに抽出せよ。なお、\"日\"は0埋め2桁で取り出すこと。データは10件を抽出すれば良い。"
   ]
  },
  {
   "cell_type": "code",
   "execution_count": 170,
   "metadata": {
    "dotnet_interactive": {
     "language": "csharp"
    }
   },
   "outputs": [
    {
     "ename": "Error",
     "evalue": "(1,12): error CS1061: 'DataFrame' に 'Select' の定義が含まれておらず、型 'DataFrame' の最初の引数を受け付けるアクセス可能な拡張メソッド 'Select' が見つかりませんでした。using ディレクティブまたはアセンブリ参照が不足していないことを確認してください",
     "output_type": "error",
     "traceback": [
      "(1,12): error CS1061: 'DataFrame' に 'Select' の定義が含まれておらず、型 'DataFrame' の最初の引数を受け付けるアクセス可能な拡張メソッド 'Select' が見つかりませんでした。using ディレクティブまたはアセンブリ参照が不足していないことを確認してください"
     ]
    }
   ],
   "source": [
    "df_receipt.Select(r => new {\n",
    "    r.receipt_no,\n",
    "    r.receipt_sub_no,\n",
    "    sales_month = epoch_to_date(r.sales_epoch).Day.ToString(\"D2\"),\n",
    "}).Take(10).DisplayTable()"
   ]
  },
  {
   "cell_type": "markdown",
   "metadata": {},
   "source": [
    "---\n",
    "> P-052: レシート明細データフレーム（df_receipt）の売上金額（amount）を顧客ID（customer_id）ごとに合計の上、売上金額合計に対して2000円以下を0、2000円超を1に2値化し、顧客ID、売上金額合計とともに10件表示せよ。ただし、顧客IDが\"Z\"から始まるのものは非会員を表すため、除外して計算すること。"
   ]
  },
  {
   "cell_type": "code",
   "execution_count": 171,
   "metadata": {
    "dotnet_interactive": {
     "language": "csharp"
    }
   },
   "outputs": [
    {
     "ename": "Error",
     "evalue": "(2,6): error CS1061: 'DataFrame' に 'Where' の定義が含まれておらず、型 'DataFrame' の最初の引数を受け付けるアクセス可能な拡張メソッド 'Where' が見つかりませんでした。using ディレクティブまたはアセンブリ参照が不足していないことを確認してください",
     "output_type": "error",
     "traceback": [
      "(2,6): error CS1061: 'DataFrame' に 'Where' の定義が含まれておらず、型 'DataFrame' の最初の引数を受け付けるアクセス可能な拡張メソッド 'Where' が見つかりませんでした。using ディレクティブまたはアセンブリ参照が不足していないことを確認してください"
     ]
    }
   ],
   "source": [
    "df_receipt\n",
    "    .Where(r => !r.customer_id.StartsWith(\"Z\")) // 顧客ID が Z から始まるデータは除外\n",
    "    .GroupBy(r => r.customer_id)\n",
    "    .Select(r => new {\n",
    "        cusomer_id = r.Key,\n",
    "        sum_amount = r.Sum(t => t.amount)\n",
    "    })\n",
    "    .Select(r => new {\n",
    "        r.cusomer_id,\n",
    "        r.sum_amount,\n",
    "        bit_amount = r.sum_amount <= 2000 ? 0 : 1,\n",
    "    })\n",
    "    .OrderBy(r => r.cusomer_id).Take(10).DisplayTable()"
   ]
  },
  {
   "cell_type": "markdown",
   "metadata": {},
   "source": [
    "---\n",
    "> P-053: 顧客データフレーム（df_customer）の郵便番号（postal_cd）に対し、東京（先頭3桁が100〜209のもの）を1、それ以外のものを0に２値化せよ。さらにレシート明細データフレーム（df_receipt）と結合し、全期間において買い物実績のある顧客数を、作成した2値ごとにカウントせよ。"
   ]
  },
  {
   "cell_type": "code",
   "execution_count": 172,
   "metadata": {
    "dotnet_interactive": {
     "language": "csharp"
    }
   },
   "outputs": [
    {
     "ename": "Error",
     "evalue": "(15,34): error CS1061: 'DataFrame' に 'Select' の定義が含まれておらず、型 'DataFrame' の最初の引数を受け付けるアクセス可能な拡張メソッド 'Select' が見つかりませんでした。using ディレクティブまたはアセンブリ参照が不足していないことを確認してください\r\n(20,12): error CS1061: 'DataFrame' に 'Select' の定義が含まれておらず、型 'DataFrame' の最初の引数を受け付けるアクセス可能な拡張メソッド 'Select' が見つかりませんでした。using ディレクティブまたはアセンブリ参照が不足していないことを確認してください",
     "output_type": "error",
     "traceback": [
      "(15,34): error CS1061: 'DataFrame' に 'Select' の定義が含まれておらず、型 'DataFrame' の最初の引数を受け付けるアクセス可能な拡張メソッド 'Select' が見つかりませんでした。using ディレクティブまたはアセンブリ参照が不足していないことを確認してください\r\n",
      "(20,12): error CS1061: 'DataFrame' に 'Select' の定義が含まれておらず、型 'DataFrame' の最初の引数を受け付けるアクセス可能な拡張メソッド 'Select' が見つかりませんでした。using ディレクティブまたはアセンブリ参照が不足していないことを確認してください"
     ]
    }
   ],
   "source": [
    "// 郵便番号先頭3桁を 分類\n",
    "string bit_postal_cd(string postal_cd) {\n",
    "    if (postal_cd.Length < 3) return \"0\";\n",
    "    string postal_3 = postal_cd.Substring(0,3);\n",
    "    int posCode;\n",
    "    if (int.TryParse(postal_3, out posCode)) {\n",
    "        if (100 <= posCode && posCode <= 209) {\n",
    "            return \"1\";\n",
    "        }\n",
    "    }\n",
    "    return \"0\";\n",
    "}\n",
    "\n",
    "// カスタマーID 毎に 住所コードからフラグ判定\n",
    "var postal_flg_dic = df_customer.Select(r => new {\n",
    "    postal_flg = bit_postal_cd(r.postal_cd),\n",
    "    r.customer_id,\n",
    "}).ToDictionary(r => r.customer_id);\n",
    "\n",
    "df_receipt.Select(r => r.customer_id).Distinct()\n",
    "    .Select(cusomer_id => new {\n",
    "        cusomer_id = cusomer_id,\n",
    "        postal_flg = postal_flg_dic.GetValueOrDefault(cusomer_id)?.postal_flg,\n",
    "    })\n",
    "    .GroupBy(r => r.postal_flg)\n",
    "    .Select(r => new {\n",
    "        postal_flg = r.Key,\n",
    "        sum_customer_id = r.Count()\n",
    "    }).DisplayTable()"
   ]
  },
  {
   "cell_type": "markdown",
   "metadata": {},
   "source": [
    "---\n",
    "> P-054: 顧客データデータフレーム（df_customer）の住所（address）は、埼玉県、千葉県、東京都、神奈川県のいずれかとなっている。都道府県毎にコード値を作成し、顧客ID、住所とともに抽出せよ。値は埼玉県を11、千葉県を12、東京都を13、神奈川県を14とすること。結果は10件表示させれば良い。"
   ]
  },
  {
   "cell_type": "code",
   "execution_count": 173,
   "metadata": {
    "dotnet_interactive": {
     "language": "csharp"
    }
   },
   "outputs": [
    {
     "ename": "Error",
     "evalue": "(13,13): error CS1061: 'DataFrame' に 'Select' の定義が含まれておらず、型 'DataFrame' の最初の引数を受け付けるアクセス可能な拡張メソッド 'Select' が見つかりませんでした。using ディレクティブまたはアセンブリ参照が不足していないことを確認してください",
     "output_type": "error",
     "traceback": [
      "(13,13): error CS1061: 'DataFrame' に 'Select' の定義が含まれておらず、型 'DataFrame' の最初の引数を受け付けるアクセス可能な拡張メソッド 'Select' が見つかりませんでした。using ディレクティブまたはアセンブリ参照が不足していないことを確認してください"
     ]
    }
   ],
   "source": [
    "//pd.concat([df_customer[['customer_id', 'address']], df_customer['address'].str[0:3].map({'埼玉県': '11',\n",
    "//                                                                           '千葉県':'12', \n",
    "//                                                                           '東京都':'13', \n",
    "//                                                                           '神奈川':'14'})], axis=1).head(10)\n",
    "string addressToCode(string address) {\n",
    "    if (address.StartsWith(\"埼玉県\")) return \"11\";\n",
    "    if (address.StartsWith(\"千葉県\")) return \"12\";\n",
    "    if (address.StartsWith(\"東京都\")) return \"13\";\n",
    "    if (address.StartsWith(\"神奈川県\")) return \"14\";\n",
    "    else return \"\";\n",
    "}\n",
    "\n",
    "df_customer.Select(r => new {\n",
    "    r.customer_id,\n",
    "    r.address,\n",
    "    address_code = addressToCode(r.address),\n",
    "}).Take(10).DisplayTable()"
   ]
  },
  {
   "cell_type": "markdown",
   "metadata": {},
   "source": [
    "---\n",
    "> P-055: レシート明細データフレーム（df_receipt）の売上金額（amount）を顧客ID（customer_id）ごとに合計し、その合計金額の四分位点を求めよ。その上で、顧客ごとの売上金額合計に対して以下の基準でカテゴリ値を作成し、顧客ID、売上金額と合計ともに表示せよ。カテゴリ値は上から順に1〜4とする。結果は10件表示させれば良い。\n",
    ">\n",
    "> - 最小値以上第一四分位未満\n",
    "> - 第一四分位以上第二四分位未満\n",
    "> - 第二四分位以上第三四分位未満\n",
    "> - 第三四分位以上"
   ]
  },
  {
   "cell_type": "code",
   "execution_count": 174,
   "metadata": {
    "dotnet_interactive": {
     "language": "csharp"
    }
   },
   "outputs": [
    {
     "ename": "Error",
     "evalue": "(1,7): error CS0246: 型または名前空間の名前 'MathNet' が見つかりませんでした (using ディレクティブまたはアセンブリ参照が指定されていることを確認してください)\r\n(4,33): error CS1660: ラムダ式 はデリゲート型ではないため、'string' 型に変換できません\r\n(9,13): error CS0103: 現在のコンテキストに 'Statistics' という名前は存在しません\r\n(10,13): error CS0103: 現在のコンテキストに 'Statistics' という名前は存在しません\r\n(11,13): error CS0103: 現在のコンテキストに 'Statistics' という名前は存在しません",
     "output_type": "error",
     "traceback": [
      "(1,7): error CS0246: 型または名前空間の名前 'MathNet' が見つかりませんでした (using ディレクティブまたはアセンブリ参照が指定されていることを確認してください)\r\n",
      "(4,33): error CS1660: ラムダ式 はデリゲート型ではないため、'string' 型に変換できません\r\n",
      "(9,13): error CS0103: 現在のコンテキストに 'Statistics' という名前は存在しません\r\n",
      "(10,13): error CS0103: 現在のコンテキストに 'Statistics' という名前は存在しません\r\n",
      "(11,13): error CS0103: 現在のコンテキストに 'Statistics' という名前は存在しません"
     ]
    }
   ],
   "source": [
    "using MathNet.Numerics.Statistics;\n",
    "\n",
    "// 顧客ID 毎の 売上金額合計\n",
    "var df_sum = df_receipt.GroupBy(r => r.customer_id)\n",
    "    .Select(r => new { customer_id = r.Key, sum_amount = (double) r.Sum(t => t.amount)});\n",
    "\n",
    "// 分位点を求める\n",
    "var pct = new {\n",
    "    pct25 = Statistics.Quantile(df_sum.Select(r => r.sum_amount), 0.25),\n",
    "    pct50 = Statistics.Quantile(df_sum.Select(r => r.sum_amount), 0.5),\n",
    "    pct75 = Statistics.Quantile(df_sum.Select(r => r.sum_amount), 0.75),\n",
    "};\n",
    "display(pct);\n",
    "// 分位点のカテゴリ計算\n",
    "int amountCategory(double amount) {\n",
    "    if (amount < pct.pct25) return 1;\n",
    "    if (amount < pct.pct50) return 2;\n",
    "    if (amount < pct.pct75) return 3;\n",
    "    return 4;\n",
    "}\n",
    "// 集計\n",
    "df_sum.Select(r => new {\n",
    "    r.customer_id,\n",
    "    r.sum_amount,\n",
    "    amount_category = amountCategory(r.sum_amount),\n",
    "}).OrderBy(r => r.customer_id).Take(10).DisplayTable()"
   ]
  },
  {
   "cell_type": "markdown",
   "metadata": {},
   "source": [
    "---\n",
    "> P-056: 顧客データフレーム（df_customer）の年齢（age）をもとに10歳刻みで年代を算出し、顧客ID（customer_id）、生年月日（birth_day）とともに抽出せよ。ただし、60歳以上は全て60歳代とすること。年代を表すカテゴリ名は任意とする。先頭10件を表示させればよい。"
   ]
  },
  {
   "cell_type": "code",
   "execution_count": 175,
   "metadata": {
    "dotnet_interactive": {
     "language": "csharp"
    }
   },
   "outputs": [
    {
     "ename": "Error",
     "evalue": "(7,13): error CS1061: 'DataFrame' に 'Select' の定義が含まれておらず、型 'DataFrame' の最初の引数を受け付けるアクセス可能な拡張メソッド 'Select' が見つかりませんでした。using ディレクティブまたはアセンブリ参照が不足していないことを確認してください",
     "output_type": "error",
     "traceback": [
      "(7,13): error CS1061: 'DataFrame' に 'Select' の定義が含まれておらず、型 'DataFrame' の最初の引数を受け付けるアクセス可能な拡張メソッド 'Select' が見つかりませんでした。using ディレクティブまたはアセンブリ参照が不足していないことを確認してください"
     ]
    }
   ],
   "source": [
    "int? ageCategory(int? age) {\n",
    "    if (age == null) return null;\n",
    "    if (age >= 60) return 60;\n",
    "    return ((int) age / 10) * 10;\n",
    "}\n",
    "\n",
    "df_customer.Select(r => new {\n",
    "    r.customer_id,\n",
    "    r.birth_day,\n",
    "    era = ageCategory(r.age),\n",
    "}).Take(10).DisplayTable()"
   ]
  },
  {
   "cell_type": "markdown",
   "metadata": {},
   "source": [
    "---\n",
    "> P-057: 前問題の抽出結果と性別（gender）を組み合わせ、新たに性別×年代の組み合わせを表すカテゴリデータを作成せよ。組み合わせを表すカテゴリの値は任意とする。先頭10件を表示させればよい。"
   ]
  },
  {
   "cell_type": "code",
   "execution_count": 176,
   "metadata": {
    "dotnet_interactive": {
     "language": "csharp"
    }
   },
   "outputs": [
    {
     "ename": "Error",
     "evalue": "(7,13): error CS1061: 'DataFrame' に 'Select' の定義が含まれておらず、型 'DataFrame' の最初の引数を受け付けるアクセス可能な拡張メソッド 'Select' が見つかりませんでした。using ディレクティブまたはアセンブリ参照が不足していないことを確認してください",
     "output_type": "error",
     "traceback": [
      "(7,13): error CS1061: 'DataFrame' に 'Select' の定義が含まれておらず、型 'DataFrame' の最初の引数を受け付けるアクセス可能な拡張メソッド 'Select' が見つかりませんでした。using ディレクティブまたはアセンブリ参照が不足していないことを確認してください"
     ]
    }
   ],
   "source": [
    "int? ageCategory(int? age) {\n",
    "    if (age == null) return null;\n",
    "    if (age >= 60) return 60;\n",
    "    return ((int) age / 10) * 10;\n",
    "}\n",
    "\n",
    "df_customer.Select(r => new {\n",
    "    r.customer_id,\n",
    "    r.birth_day,\n",
    "    r.gender_cd,\n",
    "    age = ageCategory(r.age),\n",
    "}).Select(r => new {\n",
    "    r.customer_id,\n",
    "    r.birth_day,\n",
    "    r.age,\n",
    "    gender_era_cd = r.gender_cd + \"_\" + r.age ,\n",
    "}).Take(10).DisplayTable()"
   ]
  },
  {
   "cell_type": "markdown",
   "metadata": {},
   "source": [
    "---\n",
    "> P-058: 顧客データフレーム（df_customer）の性別コード（gender_cd）をダミー変数化し、顧客ID（customer_id）とともに抽出せよ。結果は10件表示させれば良い。"
   ]
  },
  {
   "cell_type": "code",
   "execution_count": 177,
   "metadata": {
    "dotnet_interactive": {
     "language": "csharp"
    }
   },
   "outputs": [
    {
     "ename": "Error",
     "evalue": "(1,13): error CS1061: 'DataFrame' に 'Select' の定義が含まれておらず、型 'DataFrame' の最初の引数を受け付けるアクセス可能な拡張メソッド 'Select' が見つかりませんでした。using ディレクティブまたはアセンブリ参照が不足していないことを確認してください",
     "output_type": "error",
     "traceback": [
      "(1,13): error CS1061: 'DataFrame' に 'Select' の定義が含まれておらず、型 'DataFrame' の最初の引数を受け付けるアクセス可能な拡張メソッド 'Select' が見つかりませんでした。using ディレクティブまたはアセンブリ参照が不足していないことを確認してください"
     ]
    }
   ],
   "source": [
    "df_customer.Select(r => new {\n",
    "    r.customer_id,\n",
    "    gender_cd_0 = r.gender_cd == \"0\" ? \"1\" : \"0\",\n",
    "    gender_cd_1 = r.gender_cd == \"1\" ? \"1\" : \"0\",\n",
    "    gender_cd_9 = r.gender_cd == \"9\" ? \"1\" : \"0\",\n",
    "}).Take(10).DisplayTable()"
   ]
  },
  {
   "cell_type": "markdown",
   "metadata": {},
   "source": [
    "---\n",
    "> P-059: レシート明細データフレーム（df_receipt）の売上金額（amount）を顧客ID（customer_id）ごとに合計し、合計した売上金額を平均0、標準偏差1に標準化して顧客ID、売上金額合計とともに表示せよ。標準化に使用する標準偏差は、不偏標準偏差と標本標準偏差のどちらでも良いものとする。ただし、顧客IDが\"Z\"から始まるのものは非会員を表すため、除外して計算すること。結果は10件表示させれば良い。"
   ]
  },
  {
   "cell_type": "code",
   "execution_count": 178,
   "metadata": {
    "dotnet_interactive": {
     "language": "csharp"
    }
   },
   "outputs": [
    {
     "ename": "Error",
     "evalue": "(1,7): error CS0246: 型または名前空間の名前 'MathNet' が見つかりませんでした (using ディレクティブまたはアセンブリ参照が指定されていることを確認してください)\r\n(3,25): error CS1061: 'DataFrame' に 'Where' の定義が含まれておらず、型 'DataFrame' の最初の引数を受け付けるアクセス可能な拡張メソッド 'Where' が見つかりませんでした。using ディレクティブまたはアセンブリ参照が不足していないことを確認してください",
     "output_type": "error",
     "traceback": [
      "(1,7): error CS0246: 型または名前空間の名前 'MathNet' が見つかりませんでした (using ディレクティブまたはアセンブリ参照が指定されていることを確認してください)\r\n",
      "(3,25): error CS1061: 'DataFrame' に 'Where' の定義が含まれておらず、型 'DataFrame' の最初の引数を受け付けるアクセス可能な拡張メソッド 'Where' が見つかりませんでした。using ディレクティブまたはアセンブリ参照が不足していないことを確認してください"
     ]
    }
   ],
   "source": [
    "using MathNet.Numerics.Statistics;\n",
    "\n",
    "var df_sum = df_receipt.Where(r => ! r.customer_id.StartsWith(\"Z\"))\n",
    "    .GroupBy(r => r.customer_id)\n",
    "    .Select(r => new {\n",
    "        customer_id = r.Key,\n",
    "        sum_amount = r.Sum(t => t.amount),\n",
    "    }).ToList();\n",
    "\n",
    "// 平均と 標準偏差を求める\n",
    "var def = new {\n",
    "    avg = df_sum.Select(r => (double) r.sum_amount).Average(),\n",
    "    st_dev = df_sum.Select(r => (double) r.sum_amount).StandardDeviation(),\n",
    "};\n",
    "\n",
    "var df_sum2 = df_sum.Select(r => new {\n",
    "    r.customer_id,\n",
    "    // 平均0、標準偏差1に標準化するために 計算\n",
    "    normalized_amount = (r.sum_amount - def.avg ) / def.st_dev \n",
    "});\n",
    "\n",
    "df_sum2.OrderBy(r => r.customer_id).Take(10).DisplayTable()\n"
   ]
  },
  {
   "cell_type": "markdown",
   "metadata": {},
   "source": [
    "---\n",
    "> P-060: レシート明細データフレーム（df_receipt）の売上金額（amount）を顧客ID（customer_id）ごとに合計し、合計した売上金額を最小値0、最大値1に正規化して顧客ID、売上金額合計とともに表示せよ。ただし、顧客IDが\"Z\"から始まるのものは非会員を表すため、除外して計算すること。結果は10件表示させれば良い。"
   ]
  },
  {
   "cell_type": "code",
   "execution_count": 179,
   "metadata": {
    "dotnet_interactive": {
     "language": "csharp"
    }
   },
   "outputs": [
    {
     "ename": "Error",
     "evalue": "(1,7): error CS0246: 型または名前空間の名前 'MathNet' が見つかりませんでした (using ディレクティブまたはアセンブリ参照が指定されていることを確認してください)\r\n(3,25): error CS1061: 'DataFrame' に 'Where' の定義が含まれておらず、型 'DataFrame' の最初の引数を受け付けるアクセス可能な拡張メソッド 'Where' が見つかりませんでした。using ディレクティブまたはアセンブリ参照が不足していないことを確認してください",
     "output_type": "error",
     "traceback": [
      "(1,7): error CS0246: 型または名前空間の名前 'MathNet' が見つかりませんでした (using ディレクティブまたはアセンブリ参照が指定されていることを確認してください)\r\n",
      "(3,25): error CS1061: 'DataFrame' に 'Where' の定義が含まれておらず、型 'DataFrame' の最初の引数を受け付けるアクセス可能な拡張メソッド 'Where' が見つかりませんでした。using ディレクティブまたはアセンブリ参照が不足していないことを確認してください"
     ]
    }
   ],
   "source": [
    "using MathNet.Numerics.Statistics;\n",
    "\n",
    "var df_sum = df_receipt.Where(r => ! r.customer_id.StartsWith(\"Z\"))\n",
    "    .GroupBy(r => r.customer_id)\n",
    "    .Select(r => new {\n",
    "        customer_id = r.Key,\n",
    "        sum_amount = r.Sum(t => t.amount),\n",
    "    }).ToList();\n",
    "\n",
    "// 最大と最小を求める\n",
    "var def = new {\n",
    "    max = df_sum.Select(r => (double) r.sum_amount).Max(),\n",
    "    min = df_sum.Select(r => (double) r.sum_amount).Min(),\n",
    "};\n",
    "\n",
    "var df_sum2 = df_sum.Select(r => new {\n",
    "    r.customer_id,\n",
    "    // 最小値0、最大値1に正規化\n",
    "    normalized_amount = (r.sum_amount - def.min ) / ( def.max - def.min) ,\n",
    "});\n",
    "\n",
    "df_sum2.OrderBy(r => r.customer_id).Take(10).DisplayTable()"
   ]
  },
  {
   "cell_type": "markdown",
   "metadata": {},
   "source": [
    "---\n",
    "> P-061: レシート明細データフレーム（df_receipt）の売上金額（amount）を顧客ID（customer_id）ごとに合計し、合計した売上金額を常用対数化（底=10）して顧客ID、売上金額合計とともに表示せよ。ただし、顧客IDが\"Z\"から始まるのものは非会員を表すため、除外して計算すること。結果は10件表示させれば良い。"
   ]
  },
  {
   "cell_type": "code",
   "execution_count": 180,
   "metadata": {
    "dotnet_interactive": {
     "language": "csharp"
    }
   },
   "outputs": [
    {
     "ename": "Error",
     "evalue": "(2,6): error CS1061: 'DataFrame' に 'Where' の定義が含まれておらず、型 'DataFrame' の最初の引数を受け付けるアクセス可能な拡張メソッド 'Where' が見つかりませんでした。using ディレクティブまたはアセンブリ参照が不足していないことを確認してください",
     "output_type": "error",
     "traceback": [
      "(2,6): error CS1061: 'DataFrame' に 'Where' の定義が含まれておらず、型 'DataFrame' の最初の引数を受け付けるアクセス可能な拡張メソッド 'Where' が見つかりませんでした。using ディレクティブまたはアセンブリ参照が不足していないことを確認してください"
     ]
    }
   ],
   "source": [
    "df_receipt\n",
    "    .Where(r => !r.customer_id.StartsWith(\"Z\")) // 対象外を除外\n",
    "    .GroupBy(r => r.customer_id) // 顧客ID で集計\n",
    "    .Select(r => new {\n",
    "        customer_id = r.Key,\n",
    "        sum_amount = r.Sum(t => t.amount) // 売上金額を合計\n",
    "    })\n",
    "    .Select(r => new {\n",
    "        r.customer_id,\n",
    "        r.sum_amount,\n",
    "        amount_log10 = Math.Log10((double)r.sum_amount), // Log （底 = 10) の計算\n",
    "    }).OrderBy(r => r.customer_id).Take(10).DisplayTable() // 結果を10件表示"
   ]
  },
  {
   "cell_type": "markdown",
   "metadata": {},
   "source": [
    "---\n",
    "> P-062: レシート明細データフレーム（df_receipt）の売上金額（amount）を顧客ID（customer_id）ごとに合計し、合計した売上金額を自然対数化(底=e）して顧客ID、売上金額合計とともに表示せよ。ただし、顧客IDが\"Z\"から始まるのものは非会員を表すため、除外して計算すること。結果は10件表示させれば良い。"
   ]
  },
  {
   "cell_type": "code",
   "execution_count": 181,
   "metadata": {
    "dotnet_interactive": {
     "language": "csharp"
    }
   },
   "outputs": [
    {
     "ename": "Error",
     "evalue": "(2,6): error CS1061: 'DataFrame' に 'Where' の定義が含まれておらず、型 'DataFrame' の最初の引数を受け付けるアクセス可能な拡張メソッド 'Where' が見つかりませんでした。using ディレクティブまたはアセンブリ参照が不足していないことを確認してください",
     "output_type": "error",
     "traceback": [
      "(2,6): error CS1061: 'DataFrame' に 'Where' の定義が含まれておらず、型 'DataFrame' の最初の引数を受け付けるアクセス可能な拡張メソッド 'Where' が見つかりませんでした。using ディレクティブまたはアセンブリ参照が不足していないことを確認してください"
     ]
    }
   ],
   "source": [
    "df_receipt\n",
    "    .Where(r => !r.customer_id.StartsWith(\"Z\")) // 対象外を除外\n",
    "    .GroupBy(r => r.customer_id) // 顧客ID で集計\n",
    "    .Select(r => new {\n",
    "        customer_id = r.Key,\n",
    "        sum_amount = r.Sum(t => t.amount) // 売上金額を合計\n",
    "    })\n",
    "    .Select(r => new {\n",
    "        r.customer_id,\n",
    "        r.sum_amount,\n",
    "        amount_log10 = Math.Log((double)r.sum_amount), // Log （底 = e) の計算\n",
    "    }).OrderBy(r => r.customer_id).Take(10).DisplayTable() // 結果を10件表示\n",
    "\n",
    "    // 回答例では 対数計算の時に +1 していた。 Log(0) は マイナス無限大になることの回避だと思うが・・ あまり良いアイデアだとは思わない。"
   ]
  },
  {
   "cell_type": "markdown",
   "metadata": {},
   "source": [
    "---\n",
    "> P-063: 商品データフレーム（df_product）の単価（unit_price）と原価（unit_cost）から、各商品の利益額を算出せよ。結果は10件表示させれば良い。"
   ]
  },
  {
   "cell_type": "code",
   "execution_count": 182,
   "metadata": {
    "dotnet_interactive": {
     "language": "csharp"
    }
   },
   "outputs": [
    {
     "ename": "Error",
     "evalue": "(1,12): error CS1061: 'DataFrame' に 'Select' の定義が含まれておらず、型 'DataFrame' の最初の引数を受け付けるアクセス可能な拡張メソッド 'Select' が見つかりませんでした。using ディレクティブまたはアセンブリ参照が不足していないことを確認してください",
     "output_type": "error",
     "traceback": [
      "(1,12): error CS1061: 'DataFrame' に 'Select' の定義が含まれておらず、型 'DataFrame' の最初の引数を受け付けるアクセス可能な拡張メソッド 'Select' が見つかりませんでした。using ディレクティブまたはアセンブリ参照が不足していないことを確認してください"
     ]
    }
   ],
   "source": [
    "df_product.Select(r => new {\n",
    "    r.product_cd,\n",
    "    r.category_major_cd,\n",
    "    r.category_medium_cd,\n",
    "    r.category_small_cd,\n",
    "    r.unit_price,\n",
    "    r.unit_cost,\n",
    "    unit_profit = r.unit_price - r.unit_cost,\n",
    "}).Take(10).DisplayTable()"
   ]
  },
  {
   "cell_type": "markdown",
   "metadata": {},
   "source": [
    "---\n",
    "> P-064: 商品データフレーム（df_product）の単価（unit_price）と原価（unit_cost）から、各商品の利益率の全体平均を算出せよ。\n",
    "ただし、単価と原価にはNULLが存在することに注意せよ。"
   ]
  },
  {
   "cell_type": "code",
   "execution_count": 183,
   "metadata": {
    "dotnet_interactive": {
     "language": "csharp"
    }
   },
   "outputs": [
    {
     "ename": "Error",
     "evalue": "(2,2): error CS1061: 'DataFrame' に 'Where' の定義が含まれておらず、型 'DataFrame' の最初の引数を受け付けるアクセス可能な拡張メソッド 'Where' が見つかりませんでした。using ディレクティブまたはアセンブリ参照が不足していないことを確認してください",
     "output_type": "error",
     "traceback": [
      "(2,2): error CS1061: 'DataFrame' に 'Where' の定義が含まれておらず、型 'DataFrame' の最初の引数を受け付けるアクセス可能な拡張メソッド 'Where' が見つかりませんでした。using ディレクティブまたはアセンブリ参照が不足していないことを確認してください"
     ]
    }
   ],
   "source": [
    "df_product\n",
    ".Where(r => r.unit_cost != null && r.unit_price != null)\n",
    ".Select(r => new {\n",
    "    r.product_cd,\n",
    "    unit_profit_rate = (double) (r.unit_price - r.unit_cost) / r.unit_price,\n",
    "})\n",
    ".Average(r => r.unit_profit_rate)"
   ]
  },
  {
   "cell_type": "markdown",
   "metadata": {},
   "source": [
    "---\n",
    "> P-065: 商品データフレーム（df_product）の各商品について、利益率が30%となる新たな単価を求めよ。ただし、1円未満は切り捨てること。そして結果を10件表示させ、利益率がおよそ30％付近であることを確認せよ。ただし、単価（unit_price）と原価（unit_cost）にはNULLが存在することに注意せよ。"
   ]
  },
  {
   "cell_type": "code",
   "execution_count": 184,
   "metadata": {
    "dotnet_interactive": {
     "language": "csharp"
    }
   },
   "outputs": [
    {
     "ename": "Error",
     "evalue": "(3,2): error CS1061: 'DataFrame' に 'Where' の定義が含まれておらず、型 'DataFrame' の最初の引数を受け付けるアクセス可能な拡張メソッド 'Where' が見つかりませんでした。using ディレクティブまたはアセンブリ参照が不足していないことを確認してください",
     "output_type": "error",
     "traceback": [
      "(3,2): error CS1061: 'DataFrame' に 'Where' の定義が含まれておらず、型 'DataFrame' の最初の引数を受け付けるアクセス可能な拡張メソッド 'Where' が見つかりませんでした。using ディレクティブまたはアセンブリ参照が不足していないことを確認してください"
     ]
    }
   ],
   "source": [
    "var new_df = \n",
    "df_product\n",
    ".Where(r => r.unit_cost != null)\n",
    ".Select(r => new {\n",
    "    r.product_cd,\n",
    "    r.unit_cost,\n",
    "    new_price = Math.Floor((r.unit_cost ?? 0) / 0.7) // 小数点以下切り捨て\n",
    "});\n",
    "\n",
    "new_df\n",
    ".Select(r => new {\n",
    "    r.product_cd,\n",
    "    r.new_price,\n",
    "    r.unit_cost,\n",
    "    unit_profit_rate = (double) (r.new_price - r.unit_cost) / r.new_price,\n",
    "}).Take(10).DisplayTable()"
   ]
  },
  {
   "cell_type": "markdown",
   "metadata": {},
   "source": [
    "---\n",
    "> P-066: 商品データフレーム（df_product）の各商品について、利益率が30%となる新たな単価を求めよ。今回は、1円未満を四捨五入すること（0.5については偶数方向の丸めで良い）。そして結果を10件表示させ、利益率がおよそ30％付近であることを確認せよ。ただし、単価（unit_price）と原価（unit_cost）にはNULLが存在することに注意せよ。"
   ]
  },
  {
   "cell_type": "code",
   "execution_count": 185,
   "metadata": {
    "dotnet_interactive": {
     "language": "csharp"
    }
   },
   "outputs": [
    {
     "ename": "Error",
     "evalue": "(3,2): error CS1061: 'DataFrame' に 'Where' の定義が含まれておらず、型 'DataFrame' の最初の引数を受け付けるアクセス可能な拡張メソッド 'Where' が見つかりませんでした。using ディレクティブまたはアセンブリ参照が不足していないことを確認してください",
     "output_type": "error",
     "traceback": [
      "(3,2): error CS1061: 'DataFrame' に 'Where' の定義が含まれておらず、型 'DataFrame' の最初の引数を受け付けるアクセス可能な拡張メソッド 'Where' が見つかりませんでした。using ディレクティブまたはアセンブリ参照が不足していないことを確認してください"
     ]
    }
   ],
   "source": [
    "var new_df = \n",
    "df_product\n",
    ".Where(r => r.unit_cost != null)\n",
    ".Select(r => new {\n",
    "    r.product_cd,\n",
    "    r.unit_cost,\n",
    "    new_price = Math.Round((r.unit_cost ?? 0) / 0.7 ) // 1円未満を四捨五入 ( 明示的に指定しない場合は 偶数丸め )\n",
    "    // https://docs.microsoft.com/ja-jp/dotnet/api/system.math.round?view=net-5.0#System_Math_Round_System_Decimal_\n",
    "});\n",
    "\n",
    "new_df\n",
    ".Select(r => new {\n",
    "    r.product_cd,\n",
    "    r.new_price,\n",
    "    r.unit_cost,\n",
    "    unit_profit_rate = (double) (r.new_price - r.unit_cost) / r.new_price,\n",
    "}).Take(10).DisplayTable()"
   ]
  },
  {
   "cell_type": "markdown",
   "metadata": {},
   "source": [
    "---\n",
    "> P-067: 商品データフレーム（df_product）の各商品について、利益率が30%となる新たな単価を求めよ。今回は、1円未満を切り上げること。そして結果を10件表示させ、利益率がおよそ30％付近であることを確認せよ。ただし、単価（unit_price）と原価（unit_cost）にはNULLが存在することに注意せよ。"
   ]
  },
  {
   "cell_type": "code",
   "execution_count": 186,
   "metadata": {
    "dotnet_interactive": {
     "language": "csharp"
    }
   },
   "outputs": [
    {
     "ename": "Error",
     "evalue": "(3,2): error CS1061: 'DataFrame' に 'Where' の定義が含まれておらず、型 'DataFrame' の最初の引数を受け付けるアクセス可能な拡張メソッド 'Where' が見つかりませんでした。using ディレクティブまたはアセンブリ参照が不足していないことを確認してください",
     "output_type": "error",
     "traceback": [
      "(3,2): error CS1061: 'DataFrame' に 'Where' の定義が含まれておらず、型 'DataFrame' の最初の引数を受け付けるアクセス可能な拡張メソッド 'Where' が見つかりませんでした。using ディレクティブまたはアセンブリ参照が不足していないことを確認してください"
     ]
    }
   ],
   "source": [
    "var new_df = \n",
    "df_product\n",
    ".Where(r => r.unit_cost != null)\n",
    ".Select(r => new {\n",
    "    r.product_cd,\n",
    "    r.unit_cost,\n",
    "    new_price = Math.Ceiling((r.unit_cost ?? 0) / 0.7 ) // 1円未満を切り上げ( 正の大きい方へ 丸め )\n",
    "    // https://docs.microsoft.com/ja-jp/dotnet/api/system.math.ceiling?view=net-5.0#System_Math_Ceiling_System_Double_\n",
    "});\n",
    "\n",
    "new_df\n",
    ".Select(r => new {\n",
    "    r.product_cd,\n",
    "    r.new_price,\n",
    "    r.unit_cost,\n",
    "    unit_profit_rate = (double) (r.new_price - r.unit_cost) / r.new_price,\n",
    "}).Take(10).DisplayTable()"
   ]
  },
  {
   "cell_type": "markdown",
   "metadata": {},
   "source": [
    "---\n",
    "> P-068: 商品データフレーム（df_product）の各商品について、消費税率10%の税込み金額を求めよ。 1円未満の端数は切り捨てとし、結果は10件表示すれば良い。ただし、単価（unit_price）にはNULLが存在することに注意せよ。"
   ]
  },
  {
   "cell_type": "code",
   "execution_count": 187,
   "metadata": {
    "dotnet_interactive": {
     "language": "csharp"
    }
   },
   "outputs": [
    {
     "ename": "Error",
     "evalue": "(1,12): error CS1061: 'DataFrame' に 'Select' の定義が含まれておらず、型 'DataFrame' の最初の引数を受け付けるアクセス可能な拡張メソッド 'Select' が見つかりませんでした。using ディレクティブまたはアセンブリ参照が不足していないことを確認してください",
     "output_type": "error",
     "traceback": [
      "(1,12): error CS1061: 'DataFrame' に 'Select' の定義が含まれておらず、型 'DataFrame' の最初の引数を受け付けるアクセス可能な拡張メソッド 'Select' が見つかりませんでした。using ディレクティブまたはアセンブリ参照が不足していないことを確認してください"
     ]
    }
   ],
   "source": [
    "df_product.Select(r => new {\n",
    "    r.product_cd,\n",
    "    r.unit_price,\n",
    "    price_tax = ( r.unit_price != null ? Math.Floor(r.unit_price.Value * 1.1 ) : (double?) null) \n",
    "}).Take(10).DisplayTable()"
   ]
  },
  {
   "cell_type": "markdown",
   "metadata": {},
   "source": [
    "---\n",
    "> P-069: レシート明細データフレーム（df_receipt）と商品データフレーム（df_product）を結合し、顧客毎に全商品の売上金額合計と、カテゴリ大区分（category_major_cd）が\"07\"（瓶詰缶詰）の売上金額合計を計算の上、両者の比率を求めよ。抽出対象はカテゴリ大区分\"07\"（瓶詰缶詰）の購入実績がある顧客のみとし、結果は10件表示させればよい。"
   ]
  },
  {
   "cell_type": "code",
   "execution_count": 188,
   "metadata": {
    "dotnet_interactive": {
     "language": "csharp"
    }
   },
   "outputs": [
    {
     "ename": "Error",
     "evalue": "(2,41): error CS1660: ラムダ式 はデリゲート型ではないため、'string' 型に変換できません\r\n(10,38): error CS1660: クエリ式 はデリゲート型ではないため、'string' 型に変換できません\r\n(10,67): error CS1660: クエリ式 はデリゲート型ではないため、'string' 型に変換できません\r\n(10,5): error CS1660: クエリ式 はデリゲート型ではないため、'JoinAlgorithm' 型に変換できません",
     "output_type": "error",
     "traceback": [
      "(2,41): error CS1660: ラムダ式 はデリゲート型ではないため、'string' 型に変換できません\r\n",
      "(10,38): error CS1660: クエリ式 はデリゲート型ではないため、'string' 型に変換できません\r\n",
      "(10,67): error CS1660: クエリ式 はデリゲート型ではないため、'string' 型に変換できません\r\n",
      "(10,5): error CS1660: クエリ式 はデリゲート型ではないため、'JoinAlgorithm' 型に変換できません"
     ]
    }
   ],
   "source": [
    "// 顧客毎の全商品の売上金額合計\n",
    "var df_cust_amount = df_receipt.GroupBy(r => r.customer_id)\n",
    "    .Select(r => new {\n",
    "        customer_id = r.Key,\n",
    "        sum_amount = r.Sum(t => t.amount)\n",
    "    }).ToDictionary(r => r.customer_id);\n",
    "\n",
    "// 顧客毎の カテゴリ大分類７ の 売上金額合計\n",
    "var df_cat7_receipt = from df_receipt in df_receipt \n",
    "    join df_product in df_product on df_receipt.product_cd equals df_product.product_cd\n",
    "    where df_product.category_major_cd == \"07\"\n",
    "    select new {\n",
    "        df_receipt.customer_id,\n",
    "        df_receipt.amount\n",
    "    };\n",
    "var df_cat7_amount = df_cat7_receipt.GroupBy(r => r.customer_id)\n",
    "    .Select(r => new {\n",
    "        customer_id = r.Key,\n",
    "        sum_amount = r.Sum(t => t.amount)\n",
    "    }).ToDictionary(r => r.customer_id);\n",
    "\n",
    "// 抽出対象顧客一覧\n",
    "var custno_list = df_cat7_amount.Keys.OrderBy(r => r).ToList();\n",
    "\n",
    "// 結果出力\n",
    "custno_list.Select(customer_id => new {\n",
    "    customer_id = customer_id,\n",
    "    amount_all = df_cust_amount.GetValueOrDefault(customer_id)?.sum_amount,\n",
    "    amount_cat_7 = df_cat7_amount.GetValueOrDefault(customer_id)?.sum_amount,\n",
    "}).Select(r => new {\n",
    "    r.customer_id,\n",
    "    r.amount_all,\n",
    "    r.amount_cat_7,\n",
    "    amount_rate = (double) r.amount_cat_7 / r.amount_all,\n",
    "}).Take(10).DisplayTable()"
   ]
  },
  {
   "cell_type": "markdown",
   "metadata": {},
   "source": [
    "---\n",
    "> P-070: レシート明細データフレーム（df_receipt）の売上日（sales_ymd）に対し、顧客データフレーム（df_customer）の会員申込日（application_date）からの経過日数を計算し、顧客ID（customer_id）、売上日、会員申込日とともに表示せよ。結果は10件表示させれば良い（なお、sales_ymdは数値、application_dateは文字列でデータを保持している点に注意）。"
   ]
  },
  {
   "cell_type": "code",
   "execution_count": 189,
   "metadata": {
    "dotnet_interactive": {
     "language": "csharp"
    }
   },
   "outputs": [
    {
     "ename": "Error",
     "evalue": "(26,40): error CS1660: クエリ式 はデリゲート型ではないため、'string' 型に変換できません\r\n(26,70): error CS1660: クエリ式 はデリゲート型ではないため、'string' 型に変換できません\r\n(27,12): error CS1660: クエリ式 はデリゲート型ではないため、'JoinAlgorithm' 型に変換できません\r\n(36,7): error CS1061: 'DataFrame' に 'Take' の定義が含まれておらず、型 'DataFrame' の最初の引数を受け付けるアクセス可能な拡張メソッド 'Take' が見つかりませんでした。using ディレクティブまたはアセンブリ参照が不足していないことを確認してください",
     "output_type": "error",
     "traceback": [
      "(26,40): error CS1660: クエリ式 はデリゲート型ではないため、'string' 型に変換できません\r\n",
      "(26,70): error CS1660: クエリ式 はデリゲート型ではないため、'string' 型に変換できません\r\n",
      "(27,12): error CS1660: クエリ式 はデリゲート型ではないため、'JoinAlgorithm' 型に変換できません\r\n",
      "(36,7): error CS1061: 'DataFrame' に 'Take' の定義が含まれておらず、型 'DataFrame' の最初の引数を受け付けるアクセス可能な拡張メソッド 'Take' が見つかりませんでした。using ディレクティブまたはアセンブリ参照が不足していないことを確認してください"
     ]
    }
   ],
   "source": [
    "// YYYYMMDD 形式の日付を DateTime 型に変換する\n",
    "DateTime ?YYYYMMDDToDateTime(string yyyymmdd) {\n",
    "    if (yyyymmdd != null && yyyymmdd.Length == 8) {\n",
    "        return new DateTime(\n",
    "            int.Parse(yyyymmdd.Substring(0,4)),\n",
    "            int.Parse(yyyymmdd.Substring(4,2)),\n",
    "            int.Parse(yyyymmdd.Substring(6)));\n",
    "    } else {\n",
    "        return null;\n",
    "    }\n",
    "}\n",
    "// ２つの日付の差の日を計算\n",
    "int? DiffDate(string yyyymmdd1 , string yyyymmdd2) {\n",
    "    DateTime ?t1 = YYYYMMDDToDateTime(yyyymmdd1);\n",
    "    DateTime ?t2 = YYYYMMDDToDateTime(yyyymmdd2);\n",
    "    if (t1 != null && t2 != null) {\n",
    "        int diffDay = (int) t2.Value.Subtract(t1.Value).TotalDays;\n",
    "        return Math.Abs(diffDay);\n",
    "    } else {\n",
    "        return null;\n",
    "    }\n",
    "}\n",
    "\n",
    "// レシート明細 join 顧客 \n",
    "var query = from df_receipt in df_receipt\n",
    "    join df_customer in df_customer on df_receipt.customer_id equals df_customer.customer_id\n",
    "    select new {\n",
    "        df_receipt.customer_id,\n",
    "        df_receipt.sales_ymd,\n",
    "        df_customer.application_date,\n",
    "        // 経過した日を求める\n",
    "        elapsed_date = DiffDate(df_receipt.sales_ymd, df_customer.application_date),\n",
    "    };\n",
    "\n",
    "// 結果の表示\n",
    "query.Take(10).DisplayTable()"
   ]
  },
  {
   "cell_type": "markdown",
   "metadata": {},
   "source": [
    "---\n",
    "> P-071: レシート明細データフレーム（df_receipt）の売上日（sales_ymd）に対し、顧客データフレーム（df_customer）の会員申込日（application_date）からの経過月数を計算し、顧客ID（customer_id）、売上日、会員申込日とともに表示せよ。結果は10件表示させれば良い（なお、sales_ymdは数値、application_dateは文字列でデータを保持している点に注意）。1ヶ月未満は切り捨てること。"
   ]
  },
  {
   "cell_type": "code",
   "execution_count": 190,
   "metadata": {
    "dotnet_interactive": {
     "language": "csharp"
    }
   },
   "outputs": [
    {
     "ename": "Error",
     "evalue": "(44,40): error CS1660: クエリ式 はデリゲート型ではないため、'string' 型に変換できません\r\n(44,70): error CS1660: クエリ式 はデリゲート型ではないため、'string' 型に変換できません\r\n(45,12): error CS1660: クエリ式 はデリゲート型ではないため、'JoinAlgorithm' 型に変換できません\r\n(53,7): error CS1061: 'DataFrame' に 'Take' の定義が含まれておらず、型 'DataFrame' の最初の引数を受け付けるアクセス可能な拡張メソッド 'Take' が見つかりませんでした。using ディレクティブまたはアセンブリ参照が不足していないことを確認してください",
     "output_type": "error",
     "traceback": [
      "(44,40): error CS1660: クエリ式 はデリゲート型ではないため、'string' 型に変換できません\r\n",
      "(44,70): error CS1660: クエリ式 はデリゲート型ではないため、'string' 型に変換できません\r\n",
      "(45,12): error CS1660: クエリ式 はデリゲート型ではないため、'JoinAlgorithm' 型に変換できません\r\n",
      "(53,7): error CS1061: 'DataFrame' に 'Take' の定義が含まれておらず、型 'DataFrame' の最初の引数を受け付けるアクセス可能な拡張メソッド 'Take' が見つかりませんでした。using ディレクティブまたはアセンブリ参照が不足していないことを確認してください"
     ]
    }
   ],
   "source": [
    "DateTime ?YYYYMMDDToDateTime(string yyyymmdd) {\n",
    "    if (yyyymmdd != null && yyyymmdd.Length == 8) {\n",
    "        return new DateTime(\n",
    "            int.Parse(yyyymmdd.Substring(0,4)),\n",
    "            int.Parse(yyyymmdd.Substring(4,2)),\n",
    "            int.Parse(yyyymmdd.Substring(6)));\n",
    "    } else {\n",
    "        return null;\n",
    "    }\n",
    "}\n",
    "// ２つの日付の差の月を計算\n",
    "int? DiffMonth(string yyyymmdd1 , string yyyymmdd2) {\n",
    "    DateTime ?t1 = YYYYMMDDToDateTime(yyyymmdd1);\n",
    "    DateTime ?t2 = YYYYMMDDToDateTime(yyyymmdd2);\n",
    "    if (t1 != null && t2 != null) {\n",
    "        if (t1.Value > t2.Value) {\n",
    "            (t1,t2) = (t2,t1); // 値の入れ替え\n",
    "        }\n",
    "        int diff_month = 0;\n",
    "#if false\n",
    "        // 29日30日31日 の扱いを工夫\n",
    "        while (t1.Value.AddMonths(1) <= t2.Value) {\n",
    "            t1 = t1.Value.AddMonths(1);\n",
    "            diff_month++;\n",
    "        }\n",
    "#else\n",
    "        // ２つの日付の月の差\n",
    "        int month1 = t1.Value.Year * 12 + t1.Value.Month;\n",
    "        int month2 = t2.Value.Year * 12 + t2.Value.Month;\n",
    "        diff_month = month2 - month1;\n",
    "        // 日数の大小関係を見て 月を減らす\n",
    "        if (t1.Value.Day > t2.Value.Day) {\n",
    "            diff_month --;\n",
    "        }\n",
    "#endif\n",
    "        return diff_month;\n",
    "    } else {\n",
    "        return null;\n",
    "    }\n",
    "}\n",
    "\n",
    "// レシート明細 join 顧客 \n",
    "var query = from df_receipt in df_receipt\n",
    "    join df_customer in df_customer on df_receipt.customer_id equals df_customer.customer_id\n",
    "    select new {\n",
    "        df_receipt.customer_id,\n",
    "        df_receipt.sales_ymd,\n",
    "        df_customer.application_date,\n",
    "        // 経過した日を求める\n",
    "        elapsed_month = DiffMonth(df_receipt.sales_ymd, df_customer.application_date),\n",
    "    };\n",
    "\n",
    "query.Take(10).DisplayTable()\n",
    "// 考察：２つの日付の 月の差 を計算する場合、月末の扱いが 多少異なる"
   ]
  },
  {
   "cell_type": "markdown",
   "metadata": {},
   "source": [
    "---\n",
    "> P-072: レシート明細データフレーム（df_receipt）の売上日（sales_ymd）に対し、顧客データフレーム（df_customer）の会員申込日（application_date）からの経過年数を計算し、顧客ID（customer_id）、売上日、会員申込日とともに表示せよ。結果は10件表示させれば良い。（なお、sales_ymdは数値、application_dateは文字列でデータを保持している点に注意）。1年未満は切り捨てること。"
   ]
  },
  {
   "cell_type": "code",
   "execution_count": 191,
   "metadata": {
    "dotnet_interactive": {
     "language": "csharp"
    }
   },
   "outputs": [
    {
     "ename": "Error",
     "evalue": "(35,40): error CS1660: クエリ式 はデリゲート型ではないため、'string' 型に変換できません\r\n(35,70): error CS1660: クエリ式 はデリゲート型ではないため、'string' 型に変換できません\r\n(36,12): error CS1660: クエリ式 はデリゲート型ではないため、'JoinAlgorithm' 型に変換できません\r\n(44,7): error CS1061: 'DataFrame' に 'Take' の定義が含まれておらず、型 'DataFrame' の最初の引数を受け付けるアクセス可能な拡張メソッド 'Take' が見つかりませんでした。using ディレクティブまたはアセンブリ参照が不足していないことを確認してください",
     "output_type": "error",
     "traceback": [
      "(35,40): error CS1660: クエリ式 はデリゲート型ではないため、'string' 型に変換できません\r\n",
      "(35,70): error CS1660: クエリ式 はデリゲート型ではないため、'string' 型に変換できません\r\n",
      "(36,12): error CS1660: クエリ式 はデリゲート型ではないため、'JoinAlgorithm' 型に変換できません\r\n",
      "(44,7): error CS1061: 'DataFrame' に 'Take' の定義が含まれておらず、型 'DataFrame' の最初の引数を受け付けるアクセス可能な拡張メソッド 'Take' が見つかりませんでした。using ディレクティブまたはアセンブリ参照が不足していないことを確認してください"
     ]
    }
   ],
   "source": [
    "DateTime ?YYYYMMDDToDateTime(string yyyymmdd) {\n",
    "    if (yyyymmdd != null && yyyymmdd.Length == 8) {\n",
    "        return new DateTime(\n",
    "            int.Parse(yyyymmdd.Substring(0,4)),\n",
    "            int.Parse(yyyymmdd.Substring(4,2)),\n",
    "            int.Parse(yyyymmdd.Substring(6)));\n",
    "    } else {\n",
    "        return null;\n",
    "    }\n",
    "}\n",
    "// ２つの日付の差の月を計算\n",
    "int? DiffYear(string yyyymmdd1 , string yyyymmdd2) {\n",
    "    DateTime ?t1 = YYYYMMDDToDateTime(yyyymmdd1);\n",
    "    DateTime ?t2 = YYYYMMDDToDateTime(yyyymmdd2);\n",
    "    if (t1 != null && t2 != null) {\n",
    "        if (t1.Value > t2.Value) {\n",
    "            (t1,t2) = (t2,t1); // 値の入れ替え\n",
    "        }\n",
    "        int diff_year = t2.Value.Year - t1.Value.Year;\n",
    "        // ２つの日付の月の差\n",
    "        int mmdd1 = t1.Value.Month * 100 + t1.Value.Day;\n",
    "        int mmdd2 = t2.Value.Month * 100 + t2.Value.Day;\n",
    "        // 1年未満の場合：１減らす\n",
    "        if (mmdd1> mmdd2) {\n",
    "            diff_year --;\n",
    "        }\n",
    "        return diff_year;\n",
    "    } else {\n",
    "        return null;\n",
    "    }\n",
    "}\n",
    "\n",
    "// レシート明細 join 顧客 \n",
    "var query = from df_receipt in df_receipt\n",
    "    join df_customer in df_customer on df_receipt.customer_id equals df_customer.customer_id\n",
    "    select new {\n",
    "        df_receipt.customer_id,\n",
    "        df_receipt.sales_ymd,\n",
    "        df_customer.application_date,\n",
    "        // 経過した年を求める：1年未満は切り捨て\n",
    "        elapsed_year = DiffYear(df_receipt.sales_ymd, df_customer.application_date),\n",
    "    };\n",
    "\n",
    "query.Take(10).DisplayTable()"
   ]
  },
  {
   "cell_type": "markdown",
   "metadata": {},
   "source": [
    "---\n",
    "> P-073: レシート明細データフレーム（df_receipt）の売上日（sales_ymd）に対し、顧客データフレーム（df_customer）の会員申込日（application_date）からのエポック秒による経過時間を計算し、顧客ID（customer_id）、売上日、会員申込日とともに表示せよ。結果は10件表示させれば良い（なお、sales_ymdは数値、application_dateは文字列でデータを保持している点に注意）。なお、時間情報は保有していないため各日付は0時0分0秒を表すものとする。"
   ]
  },
  {
   "cell_type": "code",
   "execution_count": 192,
   "metadata": {
    "dotnet_interactive": {
     "language": "csharp"
    }
   },
   "outputs": [
    {
     "ename": "Error",
     "evalue": "(28,40): error CS1660: クエリ式 はデリゲート型ではないため、'string' 型に変換できません\r\n(28,70): error CS1660: クエリ式 はデリゲート型ではないため、'string' 型に変換できません\r\n(29,12): error CS1660: クエリ式 はデリゲート型ではないため、'JoinAlgorithm' 型に変換できません\r\n(37,7): error CS1061: 'DataFrame' に 'Take' の定義が含まれておらず、型 'DataFrame' の最初の引数を受け付けるアクセス可能な拡張メソッド 'Take' が見つかりませんでした。using ディレクティブまたはアセンブリ参照が不足していないことを確認してください",
     "output_type": "error",
     "traceback": [
      "(28,40): error CS1660: クエリ式 はデリゲート型ではないため、'string' 型に変換できません\r\n",
      "(28,70): error CS1660: クエリ式 はデリゲート型ではないため、'string' 型に変換できません\r\n",
      "(29,12): error CS1660: クエリ式 はデリゲート型ではないため、'JoinAlgorithm' 型に変換できません\r\n",
      "(37,7): error CS1061: 'DataFrame' に 'Take' の定義が含まれておらず、型 'DataFrame' の最初の引数を受け付けるアクセス可能な拡張メソッド 'Take' が見つかりませんでした。using ディレクティブまたはアセンブリ参照が不足していないことを確認してください"
     ]
    }
   ],
   "source": [
    "DateTime ?YYYYMMDDToDateTime(string yyyymmdd) {\n",
    "    if (yyyymmdd != null && yyyymmdd.Length == 8) {\n",
    "        return new DateTime(\n",
    "            int.Parse(yyyymmdd.Substring(0,4)),\n",
    "            int.Parse(yyyymmdd.Substring(4,2)),\n",
    "            int.Parse(yyyymmdd.Substring(6)));\n",
    "    } else {\n",
    "        return null;\n",
    "    }\n",
    "}\n",
    "// ２つの日付の差の秒を計算\n",
    "double? DiffSeconds(string yyyymmdd1 , string yyyymmdd2) {\n",
    "    DateTime ?t1 = YYYYMMDDToDateTime(yyyymmdd1);\n",
    "    DateTime ?t2 = YYYYMMDDToDateTime(yyyymmdd2);\n",
    "    if (t1 != null && t2 != null) {\n",
    "        if (t1.Value > t2.Value) {\n",
    "            (t1,t2) = (t2,t1); // 値の入れ替え\n",
    "        }\n",
    "        double diffSeconds = t2.Value.Subtract(t1.Value).TotalSeconds;\n",
    "        return diffSeconds;\n",
    "    } else {\n",
    "        return null;\n",
    "    }\n",
    "}\n",
    "\n",
    "// レシート明細 join 顧客 \n",
    "var query = from df_receipt in df_receipt\n",
    "    join df_customer in df_customer on df_receipt.customer_id equals df_customer.customer_id\n",
    "    select new {\n",
    "        df_receipt.customer_id,\n",
    "        df_receipt.sales_ymd,\n",
    "        df_customer.application_date,\n",
    "        // 経過した秒を求める\n",
    "        elapsed_seconds = DiffSeconds(df_receipt.sales_ymd, df_customer.application_date),\n",
    "    };\n",
    "\n",
    "query.Take(10).DisplayTable()"
   ]
  },
  {
   "cell_type": "markdown",
   "metadata": {},
   "source": [
    "---\n",
    "> P-074: レシート明細データフレーム（df_receipt）の売上日（sales_ymd）に対し、当該週の月曜日からの経過日数を計算し、売上日、当該週の月曜日付とともに表示せよ。結果は10件表示させれば良い（なお、sales_ymdは数値でデータを保持している点に注意）。"
   ]
  },
  {
   "cell_type": "code",
   "execution_count": 193,
   "metadata": {
    "dotnet_interactive": {
     "language": "csharp"
    }
   },
   "outputs": [
    {
     "ename": "Error",
     "evalue": "(27,12): error CS1061: 'DataFrame' に 'Select' の定義が含まれておらず、型 'DataFrame' の最初の引数を受け付けるアクセス可能な拡張メソッド 'Select' が見つかりませんでした。using ディレクティブまたはアセンブリ参照が不足していないことを確認してください",
     "output_type": "error",
     "traceback": [
      "(27,12): error CS1061: 'DataFrame' に 'Select' の定義が含まれておらず、型 'DataFrame' の最初の引数を受け付けるアクセス可能な拡張メソッド 'Select' が見つかりませんでした。using ディレクティブまたはアセンブリ参照が不足していないことを確認してください"
     ]
    }
   ],
   "source": [
    "// 該当週の月曜日 と その日からの経過日数を求める\n",
    "static (DateTime, int) DiffMonday(this DateTime tm) {\n",
    "    // 曜日によって 月曜日の日付と 月曜日からの経過日数を求める\n",
    "    var diff = tm.DayOfWeek switch {\n",
    "        // 月曜日(1)の場合0\n",
    "        DayOfWeek.Monday => (tm , 0),\n",
    "        // 日曜日(0)の場合は 6日前の日 、 1日 経過\n",
    "        DayOfWeek.Sunday => (tm.AddDays(-6) , 1),\n",
    "        // 火曜(2) の場合は 月曜は 1日前 (DayOfWeek - 1) , 経過日数は dayOfWeek - 1\n",
    "        // 水(3) ～土(6) も同様の計算となる\n",
    "        _ => ( tm.AddDays(- ((int) tm.DayOfWeek - 1)), (int) tm.DayOfWeek - 1)\n",
    "    };\n",
    "\n",
    "    return diff;\n",
    "}\n",
    "DateTime ?YYYYMMDDToDateTime(string yyyymmdd) {\n",
    "    if (yyyymmdd != null && yyyymmdd.Length == 8) {\n",
    "        return new DateTime(\n",
    "            int.Parse(yyyymmdd.Substring(0,4)),\n",
    "            int.Parse(yyyymmdd.Substring(4,2)),\n",
    "            int.Parse(yyyymmdd.Substring(6)));\n",
    "    } else {\n",
    "        return null;\n",
    "    }\n",
    "}\n",
    "\n",
    "df_receipt.Select(r => new {\n",
    "    r.customer_id,\n",
    "    r.sales_ymd,\n",
    "    diff_monday = YYYYMMDDToDateTime(r.sales_ymd)?.DiffMonday(),\n",
    "}).Select(r => new {\n",
    "    r.customer_id,\n",
    "    r.sales_ymd,\n",
    "    monday = r.diff_monday?.Item1,\n",
    "    elapsed_weekday = r.diff_monday?.Item2 + \" days\",\n",
    "}).Take(10).DisplayTable()"
   ]
  },
  {
   "cell_type": "markdown",
   "metadata": {},
   "source": [
    "---\n",
    "> P-075: 顧客データフレーム（df_customer）からランダムに1%のデータを抽出し、先頭から10件データを抽出せよ。"
   ]
  },
  {
   "cell_type": "code",
   "execution_count": 194,
   "metadata": {
    "dotnet_interactive": {
     "language": "csharp"
    }
   },
   "outputs": [
    {
     "ename": "Error",
     "evalue": "(15,13): error CS1061: 'DataFrame' に 'GetRandumItems' の定義が含まれておらず、型 'DataFrame' の最初の引数を受け付けるアクセス可能な拡張メソッド 'GetRandumItems' が見つかりませんでした。using ディレクティブまたはアセンブリ参照が不足していないことを確認してください",
     "output_type": "error",
     "traceback": [
      "(15,13): error CS1061: 'DataFrame' に 'GetRandumItems' の定義が含まれておらず、型 'DataFrame' の最初の引数を受け付けるアクセス可能な拡張メソッド 'GetRandumItems' が見つかりませんでした。using ディレクティブまたはアセンブリ参照が不足していないことを確認してください"
     ]
    }
   ],
   "source": [
    "static IEnumerable<T> GetRandumItems<T>(this IEnumerable<T> items, double getRate) {\n",
    "    // 全要素の中から ランダムにデータをピックアップして \n",
    "    // 指定のデータ件数を取得する\n",
    "    int count = items.Count();\n",
    "    // 最大データ取得件数：合計 * 取得データ率 : 1.0 ですべて 0.1 で 10％ \n",
    "    int get_count = (int)(getRate * count);\n",
    "    Random r = new Random();\n",
    "    for(int i=0;i<get_count;i++) {\n",
    "        int rand_i = r.Next(count);\n",
    "        T item = items.ElementAt(rand_i);\n",
    "        yield return item;\n",
    "    }\n",
    "}\n",
    "\n",
    "df_customer.GetRandumItems(0.01).Take(10).DisplayTable()"
   ]
  },
  {
   "cell_type": "markdown",
   "metadata": {},
   "source": [
    "---\n",
    "> P-076: 顧客データフレーム（df_customer）から性別（gender_cd）の割合に基づきランダムに10%のデータを層化抽出データし、性別ごとに件数を集計せよ。"
   ]
  },
  {
   "cell_type": "code",
   "execution_count": 195,
   "metadata": {
    "dotnet_interactive": {
     "language": "csharp"
    }
   },
   "outputs": [
    {
     "ename": "Error",
     "evalue": "(17,42): error CS1660: ラムダ式 はデリゲート型ではないため、'string' 型に変換できません\r\n(25,47): error CS1061: 'DataFrame' に 'Where' の定義が含まれておらず、型 'DataFrame' の最初の引数を受け付けるアクセス可能な拡張メソッド 'Where' が見つかりませんでした。using ディレクティブまたはアセンブリ参照が不足していないことを確認してください\r\n(26,47): error CS1061: 'DataFrame' に 'Where' の定義が含まれておらず、型 'DataFrame' の最初の引数を受け付けるアクセス可能な拡張メソッド 'Where' が見つかりませんでした。using ディレクティブまたはアセンブリ参照が不足していないことを確認してください\r\n(27,47): error CS1061: 'DataFrame' に 'Where' の定義が含まれておらず、型 'DataFrame' の最初の引数を受け付けるアクセス可能な拡張メソッド 'Where' が見つかりませんでした。using ディレクティブまたはアセンブリ参照が不足していないことを確認してください\r\n(16,27): error CS1061: 'DataFrame' に 'Count' の定義が含まれておらず、型 'DataFrame' の最初の引数を受け付けるアクセス可能な拡張メソッド 'Count' が見つかりませんでした。using ディレクティブまたはアセンブリ参照が不足していないことを確認してください",
     "output_type": "error",
     "traceback": [
      "(17,42): error CS1660: ラムダ式 はデリゲート型ではないため、'string' 型に変換できません\r\n",
      "(25,47): error CS1061: 'DataFrame' に 'Where' の定義が含まれておらず、型 'DataFrame' の最初の引数を受け付けるアクセス可能な拡張メソッド 'Where' が見つかりませんでした。using ディレクティブまたはアセンブリ参照が不足していないことを確認してください\r\n",
      "(26,47): error CS1061: 'DataFrame' に 'Where' の定義が含まれておらず、型 'DataFrame' の最初の引数を受け付けるアクセス可能な拡張メソッド 'Where' が見つかりませんでした。using ディレクティブまたはアセンブリ参照が不足していないことを確認してください\r\n",
      "(27,47): error CS1061: 'DataFrame' に 'Where' の定義が含まれておらず、型 'DataFrame' の最初の引数を受け付けるアクセス可能な拡張メソッド 'Where' が見つかりませんでした。using ディレクティブまたはアセンブリ参照が不足していないことを確認してください\r\n",
      "(16,27): error CS1061: 'DataFrame' に 'Count' の定義が含まれておらず、型 'DataFrame' の最初の引数を受け付けるアクセス可能な拡張メソッド 'Count' が見つかりませんでした。using ディレクティブまたはアセンブリ参照が不足していないことを確認してください"
     ]
    }
   ],
   "source": [
    "// 取得件数を指定して ランダムにデータ抽出\n",
    "static IEnumerable<T> GetRandumItemsByNum<T>(this IList<T> items, int getCount) {\n",
    "    // 全要素の中から ランダムにデータをピックアップして \n",
    "    // 指定のデータ件数を取得する\n",
    "    int count = items.Count();\n",
    "    Random r = new Random();\n",
    "    // 指定の件数だけ取得する\n",
    "    for(int i=0;i<getCount;i++) {\n",
    "        int rand_i = r.Next(count);\n",
    "        T item = items[rand_i];\n",
    "        yield return item;\n",
    "    }\n",
    "}\n",
    "\n",
    "// 性別 毎の 数と 率を表示\n",
    "int dataNum = df_customer.Count();\n",
    "var df_gender_rate = df_customer.GroupBy(r => r.gender_cd).Select(r => new {\n",
    "    gender_cd = r.Key,\n",
    "    gender_count = r.Count(),\n",
    "    gender_rate = (double) r.Count() / dataNum,\n",
    "    get_count = (int) (r.Count() * 0.1 )\n",
    "}).ToDictionary(r => r.gender_cd);\n",
    "display(df_gender_rate);\n",
    "// 指定の比率で ランダムにデータ抽出\n",
    "var df_customer_sample_gender_0 = df_customer.Where(r => r.gender_cd == \"0\").ToList().GetRandumItemsByNum(df_gender_rate[\"0\"].get_count).ToList();\n",
    "var df_customer_sample_gender_1 = df_customer.Where(r => r.gender_cd == \"1\").ToList().GetRandumItemsByNum(df_gender_rate[\"1\"].get_count).ToList();\n",
    "var df_customer_sample_gender_9 = df_customer.Where(r => r.gender_cd == \"9\").ToList().GetRandumItemsByNum(df_gender_rate[\"9\"].get_count).ToList();\n",
    "// ※ ToList しないと リストの内容を確認するときにランダムの値を取得しようとして処理速度\n",
    "\n",
    "display(new {\n",
    "    count_0 = df_customer_sample_gender_0.Count(),\n",
    "    count_1 = df_customer_sample_gender_1.Count(),\n",
    "    count_9 = df_customer_sample_gender_9.Count(),\n",
    "});\n",
    "\n",
    "// 重複なくデータ連結するのは Union を利用\n",
    "// Union の場合 重複していると判断されたデータが削除される\n",
    "var df_customer_sample_gender = df_customer_sample_gender_0\n",
    "    .Concat(df_customer_sample_gender_1)\n",
    "    .Concat(df_customer_sample_gender_9);\n",
    "\n",
    "// Union は重複データを削除してしまう。\n",
    "var df_customer_sample_gender2 = df_customer_sample_gender_0\n",
    "    .Union(df_customer_sample_gender_1)\n",
    "    .Union(df_customer_sample_gender_9);\n",
    "\n",
    "display(df_customer_sample_gender2.Count());\n",
    "display(df_customer_sample_gender.Count());\n",
    "\n",
    "display(html(b(\"ランダムに抽出しているため 同じデータを2回取得する場合がある\")));\n",
    "display(new {\n",
    "    gender_0_データ件数 = df_customer_sample_gender_0.Count(),\n",
    "    gender_0_重複なし_データ件数 = df_customer_sample_gender_0.Distinct().Count(),\n",
    "})"
   ]
  },
  {
   "cell_type": "code",
   "execution_count": 196,
   "metadata": {
    "dotnet_interactive": {
     "language": "csharp"
    }
   },
   "outputs": [
    {
     "ename": "Error",
     "evalue": "(7,13): error CS0103: 現在のコンテキストに 'df_customer_sample_gender_0' という名前は存在しません\r\n(16,13): error CS0103: 現在のコンテキストに 'df_customer_sample_gender_1' という名前は存在しません",
     "output_type": "error",
     "traceback": [
      "(7,13): error CS0103: 現在のコンテキストに 'df_customer_sample_gender_0' という名前は存在しません\r\n",
      "(16,13): error CS0103: 現在のコンテキストに 'df_customer_sample_gender_1' という名前は存在しません"
     ]
    }
   ],
   "source": [
    "using XPlot.Plotly;\n",
    "using System.Linq;\n",
    "\n",
    "display(Chart.Plot(\n",
    "    new Box()\n",
    "    {\n",
    "        y = df_customer_sample_gender_0.Select(r => r.age).ToList(),\n",
    "        boxpoints = \"all\",\n",
    "        jitter = 0.3,\n",
    "        pointpos = -1.8\n",
    "    }\n",
    "));\n",
    "display(Chart.Plot(\n",
    "    new Box()\n",
    "    {\n",
    "        y = df_customer_sample_gender_1.Select(r => r.age).ToList(),\n",
    "        boxpoints = \"all\",\n",
    "        jitter = 0.3,\n",
    "        pointpos = -1.8\n",
    "    }\n",
    "));"
   ]
  },
  {
   "cell_type": "markdown",
   "metadata": {},
   "source": [
    "上記のグラフが実行された結果 このような画像が表示されます。\n",
    "\n",
    "![画像](./p-076.png)\n",
    "\n",
    "![画像](./p-076-2.png)"
   ]
  },
  {
   "cell_type": "markdown",
   "metadata": {},
   "source": [
    "---\n",
    "> P-077: レシート明細データフレーム（df_receipt）の売上金額（amount）を顧客単位に合計し、合計した売上金額の外れ値を抽出せよ。ただし、顧客IDが\"Z\"から始まるのものは非会員を表すため、除外して計算すること。なお、ここでは外れ値を平均から3σ以上離れたものとする。結果は10件表示させれば良い。"
   ]
  },
  {
   "cell_type": "code",
   "execution_count": 197,
   "metadata": {
    "dotnet_interactive": {
     "language": "csharp"
    }
   },
   "outputs": [
    {
     "ename": "Error",
     "evalue": "(6,25): error CS1061: 'DataFrame' に 'Where' の定義が含まれておらず、型 'DataFrame' の最初の引数を受け付けるアクセス可能な拡張メソッド 'Where' が見つかりませんでした。using ディレクティブまたはアセンブリ参照が不足していないことを確認してください\r\n(30,9): error CS0103: 現在のコンテキストに 'Chart' という名前は存在しません\r\n(31,9): error CS0246: 型または名前空間の名前 'Box' が見つかりませんでした (using ディレクティブまたはアセンブリ参照が指定されていることを確認してください)",
     "output_type": "error",
     "traceback": [
      "(6,25): error CS1061: 'DataFrame' に 'Where' の定義が含まれておらず、型 'DataFrame' の最初の引数を受け付けるアクセス可能な拡張メソッド 'Where' が見つかりませんでした。using ディレクティブまたはアセンブリ参照が不足していないことを確認してください\r\n",
      "(30,9): error CS0103: 現在のコンテキストに 'Chart' という名前は存在しません\r\n",
      "(31,9): error CS0246: 型または名前空間の名前 'Box' が見つかりませんでした (using ディレクティブまたはアセンブリ参照が指定されていることを確認してください)"
     ]
    }
   ],
   "source": [
    "//# skleanのpreprocessing.scaleを利用するため、標本標準偏差で計算されている\n",
    "//df_sales_amount = df_receipt.query('not customer_id.str.startswith(\"Z\")', engine='python'). \\\n",
    "//    groupby('customer_id').agg({'amount':'sum'}).reset_index()\n",
    "//df_sales_amount['amount_ss'] = preprocessing.scale(df_sales_amount['amount'])\n",
    "//df_sales_amount.query('abs(amount_ss) >= 3').head(10)\n",
    "var df_tmp = df_receipt.Where(r => ! r.customer_id.StartsWith(\"Z\"))\n",
    "    .GroupBy(r => r.customer_id)\n",
    "    .Select(r => new {\n",
    "        customer_id = r.Key,\n",
    "        sum_amount = r.Sum(t => t.amount),\n",
    "    }).ToList();\n",
    "var dataList = df_tmp\n",
    "    .Select(r => (double) r.sum_amount).ToList();\n",
    "\n",
    "// 3σ（サン・シグマ） : 標準正規分布の 99.7％ 信頼区間 の間から 外れている値を抽出する。\n",
    "var average = dataList.Median();\n",
    "var stdDev = dataList.StandardDeviation(); // 標準偏差\n",
    "var diffArea = new {\n",
    "    average,\n",
    "    stdDev, // 標準偏差\n",
    "    min = average - stdDev ,\n",
    "    max = average + stdDev ,\n",
    "    min_3 = average - stdDev  * 3, // 3σ の 下限値\n",
    "    max_3 = average + stdDev  * 3, // 3σ の 上限値\n",
    "};\n",
    "// 値の表示\n",
    "display(diffArea);\n",
    "\n",
    "// 散布状態の表示\n",
    "display(Chart.Plot(\n",
    "    new Box()\n",
    "    {\n",
    "        y = dataList,\n",
    "        boxpoints = \"all\",\n",
    "        jitter = 0.3,\n",
    "        pointpos = -1.8\n",
    "    }  \n",
    "));\n",
    "\n",
    "df_tmp.Where(r => r.sum_amount < diffArea.min_3 || diffArea.max_3 < r.sum_amount)\n",
    "    .Take(10).DisplayTable()\n",
    "// 結果 "
   ]
  },
  {
   "cell_type": "markdown",
   "metadata": {},
   "source": [
    "![P-077](p-077.png)"
   ]
  },
  {
   "cell_type": "markdown",
   "metadata": {},
   "source": [
    "---\n",
    "> P-078: レシート明細データフレーム（df_receipt）の売上金額（amount）を顧客単位に合計し、合計した売上金額の外れ値を抽出せよ。ただし、顧客IDが\"Z\"から始まるのものは非会員を表すため、除外して計算すること。なお、ここでは外れ値を第一四分位と第三四分位の差であるIQRを用いて、「第一四分位数-1.5×IQR」よりも下回るもの、または「第三四分位数+1.5×IQR」を超えるものとする。結果は10件表示させれば良い。"
   ]
  },
  {
   "cell_type": "code",
   "execution_count": 198,
   "metadata": {
    "dotnet_interactive": {
     "language": "csharp"
    }
   },
   "outputs": [
    {
     "ename": "Error",
     "evalue": "(1,34): error CS1061: 'DataFrame' に 'Where' の定義が含まれておらず、型 'DataFrame' の最初の引数を受け付けるアクセス可能な拡張メソッド 'Where' が見つかりませんでした。using ディレクティブまたはアセンブリ参照が不足していないことを確認してください",
     "output_type": "error",
     "traceback": [
      "(1,34): error CS1061: 'DataFrame' に 'Where' の定義が含まれておらず、型 'DataFrame' の最初の引数を受け付けるアクセス可能な拡張メソッド 'Where' が見つかりませんでした。using ディレクティブまたはアセンブリ参照が不足していないことを確認してください"
     ]
    }
   ],
   "source": [
    "var df_sales_amount = df_receipt.Where(r => !r.customer_id.StartsWith(\"Z\"))\n",
    "    .GroupBy(r => r.customer_id)\n",
    "    .Select(r => new {\n",
    "        customer_id = r.Key,\n",
    "        sum_amount = (double) r.Sum(t => t.amount),\n",
    "    });\n",
    "\n",
    "// https://numerics.mathdotnet.com/api/MathNet.Numerics.Statistics/Statistics.htm#Percentile\n",
    "double pct25 = df_sales_amount.Select(r => r.sum_amount).Percentile(25);\n",
    "double pct75 = df_sales_amount.Select(r => r.sum_amount).Percentile(75);\n",
    "double iqr = pct75 - pct25;\n",
    "double amount_low = pct25 - (iqr * 1.5);\n",
    "double amount_hight = pct75 + (iqr * 1.5);\n",
    "\n",
    "// 結果表示\n",
    "df_sales_amount\n",
    "    .Where(r => r.sum_amount < amount_low || amount_hight < r.sum_amount)\n",
    "    .Take(10).DisplayTable()"
   ]
  },
  {
   "cell_type": "markdown",
   "metadata": {},
   "source": [
    "---\n",
    "> P-079: 商品データフレーム（df_product）の各項目に対し、欠損数を確認せよ。"
   ]
  },
  {
   "cell_type": "code",
   "execution_count": 199,
   "metadata": {
    "dotnet_interactive": {
     "language": "csharp"
    }
   },
   "outputs": [
    {
     "ename": "Error",
     "evalue": "(2,34): error CS1061: 'DataFrame' に 'Where' の定義が含まれておらず、型 'DataFrame' の最初の引数を受け付けるアクセス可能な拡張メソッド 'Where' が見つかりませんでした。using ディレクティブまたはアセンブリ参照が不足していないことを確認してください\r\n(3,36): error CS1061: 'DataFrame' に 'Where' の定義が含まれておらず、型 'DataFrame' の最初の引数を受け付けるアクセス可能な拡張メソッド 'Where' が見つかりませんでした。using ディレクティブまたはアセンブリ参照が不足していないことを確認してください\r\n(4,37): error CS1061: 'DataFrame' に 'Where' の定義が含まれておらず、型 'DataFrame' の最初の引数を受け付けるアクセス可能な拡張メソッド 'Where' が見つかりませんでした。using ディレクティブまたはアセンブリ参照が不足していないことを確認してください\r\n(5,36): error CS1061: 'DataFrame' に 'Where' の定義が含まれておらず、型 'DataFrame' の最初の引数を受け付けるアクセス可能な拡張メソッド 'Where' が見つかりませんでした。using ディレクティブまたはアセンブリ参照が不足していないことを確認してください\r\n(6,29): error CS1061: 'DataFrame' に 'Where' の定義が含まれておらず、型 'DataFrame' の最初の引数を受け付けるアクセス可能な拡張メソッド 'Where' が見つかりませんでした。using ディレクティブまたはアセンブリ参照が不足していないことを確認してください\r\n(7,28): error CS1061: 'DataFrame' に 'Where' の定義が含まれておらず、型 'DataFrame' の最初の引数を受け付けるアクセス可能な拡張メソッド 'Where' が見つかりませんでした。using ディレクティブまたはアセンブリ参照が不足していないことを確認してください",
     "output_type": "error",
     "traceback": [
      "(2,34): error CS1061: 'DataFrame' に 'Where' の定義が含まれておらず、型 'DataFrame' の最初の引数を受け付けるアクセス可能な拡張メソッド 'Where' が見つかりませんでした。using ディレクティブまたはアセンブリ参照が不足していないことを確認してください\r\n",
      "(3,36): error CS1061: 'DataFrame' に 'Where' の定義が含まれておらず、型 'DataFrame' の最初の引数を受け付けるアクセス可能な拡張メソッド 'Where' が見つかりませんでした。using ディレクティブまたはアセンブリ参照が不足していないことを確認してください\r\n",
      "(4,37): error CS1061: 'DataFrame' に 'Where' の定義が含まれておらず、型 'DataFrame' の最初の引数を受け付けるアクセス可能な拡張メソッド 'Where' が見つかりませんでした。using ディレクティブまたはアセンブリ参照が不足していないことを確認してください\r\n",
      "(5,36): error CS1061: 'DataFrame' に 'Where' の定義が含まれておらず、型 'DataFrame' の最初の引数を受け付けるアクセス可能な拡張メソッド 'Where' が見つかりませんでした。using ディレクティブまたはアセンブリ参照が不足していないことを確認してください\r\n",
      "(6,29): error CS1061: 'DataFrame' に 'Where' の定義が含まれておらず、型 'DataFrame' の最初の引数を受け付けるアクセス可能な拡張メソッド 'Where' が見つかりませんでした。using ディレクティブまたはアセンブリ参照が不足していないことを確認してください\r\n",
      "(7,28): error CS1061: 'DataFrame' に 'Where' の定義が含まれておらず、型 'DataFrame' の最初の引数を受け付けるアクセス可能な拡張メソッド 'Where' が見つかりませんでした。using ディレクティブまたはアセンブリ参照が不足していないことを確認してください"
     ]
    }
   ],
   "source": [
    "var nullCount = new {\n",
    "    product_cd_null = df_product.Where(r => r.product_cd == null).Count(),\n",
    "    category_major_cd = df_product.Where(r => r.category_major_cd == null).Count(),\n",
    "    category_medium_cd = df_product.Where(r => r.category_medium_cd == null).Count(),\n",
    "    category_small_cd = df_product.Where(r => r.category_small_cd == null).Count(),\n",
    "    unit_price = df_product.Where(r => r.unit_price == null).Count(),\n",
    "    unit_cost = df_product.Where(r => r.unit_cost == null).Count(),\n",
    "};\n",
    "\n",
    "nullCount"
   ]
  },
  {
   "cell_type": "markdown",
   "metadata": {},
   "source": [
    "---\n",
    "> P-080: 商品データフレーム（df_product）のいずれかの項目に欠損が発生しているレコードを全て削除した新たなdf_product_1を作成せよ。なお、削除前後の件数を表示させ、前設問で確認した件数だけ減少していることも確認すること。"
   ]
  },
  {
   "cell_type": "code",
   "execution_count": 200,
   "metadata": {
    "dotnet_interactive": {
     "language": "csharp"
    }
   },
   "outputs": [
    {
     "ename": "Error",
     "evalue": "(13,31): error CS1061: 'DataFrame' に 'Where' の定義が含まれておらず、型 'DataFrame' の最初の引数を受け付けるアクセス可能な拡張メソッド 'Where' が見つかりませんでした。using ディレクティブまたはアセンブリ参照が不足していないことを確認してください\r\n(16,28): error CS1061: 'DataFrame' に 'Count' の定義が含まれておらず、型 'DataFrame' の最初の引数を受け付けるアクセス可能な拡張メソッド 'Count' が見つかりませんでした。using ディレクティブまたはアセンブリ参照が不足していないことを確認してください",
     "output_type": "error",
     "traceback": [
      "(13,31): error CS1061: 'DataFrame' に 'Where' の定義が含まれておらず、型 'DataFrame' の最初の引数を受け付けるアクセス可能な拡張メソッド 'Where' が見つかりませんでした。using ディレクティブまたはアセンブリ参照が不足していないことを確認してください\r\n",
      "(16,28): error CS1061: 'DataFrame' に 'Count' の定義が含まれておらず、型 'DataFrame' の最初の引数を受け付けるアクセス可能な拡張メソッド 'Count' が見つかりませんでした。using ディレクティブまたはアセンブリ参照が不足していないことを確認してください"
     ]
    }
   ],
   "source": [
    "// いずれかの値が null の場合に true を返す\n",
    "bool AnyIsNull(Product c) {\n",
    "    if (c.product_cd == null) return true;\n",
    "    if (c.category_major_cd == null) return true;\n",
    "    if (c.category_medium_cd == null) return true;\n",
    "    if (c.category_small_cd == null) return true;\n",
    "    if (c.unit_cost == null) return true;\n",
    "    if (c.unit_price == null) return true;\n",
    "    return false;\n",
    "}\n",
    "\n",
    "// 欠損の無い物を注sh津\n",
    "var df_product_1 = df_product.Where(r => ! AnyIsNull(r)).ToList();\n",
    "\n",
    "new {\n",
    "    count_削除前 = df_product.Count(),\n",
    "    count_削除後 = df_product_1.Count(),\n",
    "}"
   ]
  },
  {
   "cell_type": "code",
   "execution_count": 201,
   "metadata": {
    "dotnet_interactive": {
     "language": "csharp"
    }
   },
   "outputs": [
    {
     "ename": "Error",
     "evalue": "(13,12): error CS1061: 'DataFrame' に 'Where' の定義が含まれておらず、型 'DataFrame' の最初の引数を受け付けるアクセス可能な拡張メソッド 'Where' が見つかりませんでした。using ディレクティブまたはアセンブリ参照が不足していないことを確認してください",
     "output_type": "error",
     "traceback": [
      "(13,12): error CS1061: 'DataFrame' に 'Where' の定義が含まれておらず、型 'DataFrame' の最初の引数を受け付けるアクセス可能な拡張メソッド 'Where' が見つかりませんでした。using ディレクティブまたはアセンブリ参照が不足していないことを確認してください"
     ]
    }
   ],
   "source": [
    "// いずれかの値が null の場合に true を返す\n",
    "bool AnyIsNull(Product c) {\n",
    "    if (c.product_cd == null) return true;\n",
    "    if (c.category_major_cd == null) return true;\n",
    "    if (c.category_medium_cd == null) return true;\n",
    "    if (c.category_small_cd == null) return true;\n",
    "    if (c.unit_cost == null) return true;\n",
    "    if (c.unit_price == null) return true;\n",
    "    return false;\n",
    "}\n",
    "\n",
    "// null となっているデータを確認のため表示： 7件の null は 同じレコードで発生\n",
    "df_product.Where(r => AnyIsNull(r)).ToList().DisplayTable()"
   ]
  },
  {
   "cell_type": "markdown",
   "metadata": {},
   "source": [
    "---\n",
    "> P-081: 単価（unit_price）と原価（unit_cost）の欠損値について、それぞれの平均値で補完した新たなdf_product_2を作成せよ。なお、平均値について1円未満は四捨五入とし、0.5については偶数寄せでかまわない。補完実施後、各項目について欠損が生じていないことも確認すること。"
   ]
  },
  {
   "cell_type": "code",
   "execution_count": 202,
   "metadata": {
    "dotnet_interactive": {
     "language": "csharp"
    }
   },
   "outputs": [
    {
     "ename": "Error",
     "evalue": "(14,50): error CS1061: 'DataFrame' に 'Where' の定義が含まれておらず、型 'DataFrame' の最初の引数を受け付けるアクセス可能な拡張メソッド 'Where' が見つかりませんでした。using ディレクティブまたはアセンブリ参照が不足していないことを確認してください\r\n(15,49): error CS1061: 'DataFrame' に 'Where' の定義が含まれておらず、型 'DataFrame' の最初の引数を受け付けるアクセス可能な拡張メソッド 'Where' が見つかりませんでした。using ディレクティブまたはアセンブリ参照が不足していないことを確認してください\r\n(17,31): error CS1061: 'DataFrame' に 'Select' の定義が含まれておらず、型 'DataFrame' の最初の引数を受け付けるアクセス可能な拡張メソッド 'Select' が見つかりませんでした。using ディレクティブまたはアセンブリ参照が不足していないことを確認してください",
     "output_type": "error",
     "traceback": [
      "(14,50): error CS1061: 'DataFrame' に 'Where' の定義が含まれておらず、型 'DataFrame' の最初の引数を受け付けるアクセス可能な拡張メソッド 'Where' が見つかりませんでした。using ディレクティブまたはアセンブリ参照が不足していないことを確認してください\r\n",
      "(15,49): error CS1061: 'DataFrame' に 'Where' の定義が含まれておらず、型 'DataFrame' の最初の引数を受け付けるアクセス可能な拡張メソッド 'Where' が見つかりませんでした。using ディレクティブまたはアセンブリ参照が不足していないことを確認してください\r\n",
      "(17,31): error CS1061: 'DataFrame' に 'Select' の定義が含まれておらず、型 'DataFrame' の最初の引数を受け付けるアクセス可能な拡張メソッド 'Select' が見つかりませんでした。using ディレクティブまたはアセンブリ参照が不足していないことを確認してください"
     ]
    }
   ],
   "source": [
    "// いずれかの値が null の場合に true を返す\n",
    "bool AnyIsNull(Product c) {\n",
    "    if (c.product_cd == null) return true;\n",
    "    if (c.category_major_cd == null) return true;\n",
    "    if (c.category_medium_cd == null) return true;\n",
    "    if (c.category_small_cd == null) return true;\n",
    "    if (c.unit_cost == null) return true;\n",
    "    if (c.unit_price == null) return true;\n",
    "    return false;\n",
    "}\n",
    "\n",
    "// https://docs.microsoft.com/ja-jp/dotnet/api/system.math.round?view=net-5.0 \n",
    "// Math.Round : 偶数丸め\n",
    "var fix_unit_price = (int) Math.Round(df_product.Where(r => r.unit_price != null).Average(r => r.unit_price.Value));\n",
    "var fix_unit_cost = (int) Math.Round(df_product.Where(r => r.unit_cost != null).Average(r => r.unit_cost.Value));\n",
    "\n",
    "var df_product_2 = df_product.Select(r => new Product() {\n",
    "    product_cd = r.product_cd,\n",
    "    category_major_cd = r.category_major_cd,\n",
    "    category_medium_cd = r.category_medium_cd,\n",
    "    category_small_cd = r.category_small_cd,\n",
    "    unit_price = r.unit_price ?? fix_unit_price,\n",
    "    unit_cost = r.unit_cost ?? fix_unit_cost,\n",
    "});\n",
    "\n",
    "// null が存在しない事の確認\n",
    "df_product_2.Where(r => AnyIsNull(r)).Count()\n"
   ]
  },
  {
   "cell_type": "markdown",
   "metadata": {},
   "source": [
    "---\n",
    "> P-082: 単価（unit_price）と原価（unit_cost）の欠損値について、それぞれの中央値で補完した新たなdf_product_3を作成せよ。なお、中央値について1円未満は四捨五入とし、0.5については偶数寄せでかまわない。補完実施後、各項目について欠損が生じていないことも確認すること。"
   ]
  },
  {
   "cell_type": "code",
   "execution_count": 203,
   "metadata": {
    "dotnet_interactive": {
     "language": "csharp"
    }
   },
   "outputs": [
    {
     "ename": "Error",
     "evalue": "(3,7): error CS0246: 型または名前空間の名前 'MathNet' が見つかりませんでした (using ディレクティブまたはアセンブリ参照が指定されていることを確認してください)\r\n(8,50): error CS1061: 'DataFrame' に 'Where' の定義が含まれておらず、型 'DataFrame' の最初の引数を受け付けるアクセス可能な拡張メソッド 'Where' が見つかりませんでした。using ディレクティブまたはアセンブリ参照が不足していないことを確認してください\r\n(9,49): error CS1061: 'DataFrame' に 'Where' の定義が含まれておらず、型 'DataFrame' の最初の引数を受け付けるアクセス可能な拡張メソッド 'Where' が見つかりませんでした。using ディレクティブまたはアセンブリ参照が不足していないことを確認してください\r\n(11,31): error CS1061: 'DataFrame' に 'Select' の定義が含まれておらず、型 'DataFrame' の最初の引数を受け付けるアクセス可能な拡張メソッド 'Select' が見つかりませんでした。using ディレクティブまたはアセンブリ参照が不足していないことを確認してください",
     "output_type": "error",
     "traceback": [
      "(3,7): error CS0246: 型または名前空間の名前 'MathNet' が見つかりませんでした (using ディレクティブまたはアセンブリ参照が指定されていることを確認してください)\r\n",
      "(8,50): error CS1061: 'DataFrame' に 'Where' の定義が含まれておらず、型 'DataFrame' の最初の引数を受け付けるアクセス可能な拡張メソッド 'Where' が見つかりませんでした。using ディレクティブまたはアセンブリ参照が不足していないことを確認してください\r\n",
      "(9,49): error CS1061: 'DataFrame' に 'Where' の定義が含まれておらず、型 'DataFrame' の最初の引数を受け付けるアクセス可能な拡張メソッド 'Where' が見つかりませんでした。using ディレクティブまたはアセンブリ参照が不足していないことを確認してください\r\n",
      "(11,31): error CS1061: 'DataFrame' に 'Select' の定義が含まれておらず、型 'DataFrame' の最初の引数を受け付けるアクセス可能な拡張メソッド 'Select' が見つかりませんでした。using ディレクティブまたはアセンブリ参照が不足していないことを確認してください"
     ]
    }
   ],
   "source": [
    "// 中央値 : Median \n",
    "//https://numerics.mathdotnet.com/api/MathNet.Numerics.Statistics/Statistics.htm#Median\n",
    "using MathNet.Numerics.Statistics;\n",
    "\n",
    "// https://docs.microsoft.com/ja-jp/dotnet/api/system.math.round?view=net-5.0 \n",
    "// Math.Round : 偶数丸め\n",
    "\n",
    "var fix_unit_price = (int) Math.Round(df_product.Where(r => r.unit_price != null).Select(r => (double) r.unit_price).Median());\n",
    "var fix_unit_cost = (int) Math.Round(df_product.Where(r => r.unit_cost != null).Select(r => (double) r.unit_cost).Median());\n",
    "\n",
    "var df_product_2 = df_product.Select(r => new Product() { // AnyIsNull で判定するため 厳密な型に合わせる\n",
    "    product_cd = r.product_cd,\n",
    "    category_major_cd = r.category_major_cd,\n",
    "    category_medium_cd = r.category_medium_cd,\n",
    "    category_small_cd = r.category_small_cd,\n",
    "    unit_price = r.unit_price ?? fix_unit_price,\n",
    "    unit_cost = r.unit_cost ?? fix_unit_cost,\n",
    "});\n",
    "\n",
    "// いずれかの値が null の場合に true を返す\n",
    "bool AnyIsNull(Product c) {\n",
    "    if (c.product_cd == null) return true;\n",
    "    if (c.category_major_cd == null) return true;\n",
    "    if (c.category_medium_cd == null) return true;\n",
    "    if (c.category_small_cd == null) return true;\n",
    "    if (c.unit_cost == null) return true;\n",
    "    if (c.unit_price == null) return true;\n",
    "    return false;\n",
    "}\n",
    "\n",
    "// null が存在しない事の確認\n",
    "df_product_2.Where(r => AnyIsNull(r)).Count()"
   ]
  },
  {
   "cell_type": "markdown",
   "metadata": {},
   "source": [
    "---\n",
    "> P-083: 単価（unit_price）と原価（unit_cost）の欠損値について、各商品の小区分（category_small_cd）ごとに算出した中央値で補完した新たなdf_product_4を作成せよ。なお、中央値について1円未満は四捨五入とし、0.5については偶数寄せでかまわない。補完実施後、各項目について欠損が生じていないことも確認すること。"
   ]
  },
  {
   "cell_type": "code",
   "execution_count": 204,
   "metadata": {
    "dotnet_interactive": {
     "language": "csharp"
    }
   },
   "outputs": [
    {
     "ename": "Error",
     "evalue": "(1,7): error CS0246: 型または名前空間の名前 'MathNet' が見つかりませんでした (using ディレクティブまたはアセンブリ参照が指定されていることを確認してください)\r\n(3,37): error CS1660: ラムダ式 はデリゲート型ではないため、'string' 型に変換できません\r\n(14,30): error CS1061: 'DataFrame' に 'Select' の定義が含まれておらず、型 'DataFrame' の最初の引数を受け付けるアクセス可能な拡張メソッド 'Select' が見つかりませんでした。using ディレクティブまたはアセンブリ参照が不足していないことを確認してください",
     "output_type": "error",
     "traceback": [
      "(1,7): error CS0246: 型または名前空間の名前 'MathNet' が見つかりませんでした (using ディレクティブまたはアセンブリ参照が指定されていることを確認してください)\r\n",
      "(3,37): error CS1660: ラムダ式 はデリゲート型ではないため、'string' 型に変換できません\r\n",
      "(14,30): error CS1061: 'DataFrame' に 'Select' の定義が含まれておらず、型 'DataFrame' の最初の引数を受け付けるアクセス可能な拡張メソッド 'Select' が見つかりませんでした。using ディレクティブまたはアセンブリ参照が不足していないことを確認してください"
     ]
    }
   ],
   "source": [
    "using MathNet.Numerics.Statistics;\n",
    "\n",
    "var median_tmp = df_product.GroupBy(r => r.category_small_cd)\n",
    "    .Select(r => new {\n",
    "        category_small_cd = r.Key,\n",
    "        median_unit_price = r.Where(t => t.unit_price != null).Select(t => (double) t.unit_price).Median(),\n",
    "        median_unit_cost = r.Where(t => t.unit_cost != null).Select(t => (double) t.unit_cost).Median(),\n",
    "    })\n",
    "    .ToDictionary(r => r.category_small_cd);\n",
    "\n",
    "display(\"category_small_cd 毎の中央値\");\n",
    "median_tmp.Take(20).DisplayTable();\n",
    "\n",
    "var df_product4 = df_product.Select(r => new Product() {\n",
    "    product_cd = r.product_cd,\n",
    "    category_major_cd = r.category_major_cd,\n",
    "    category_medium_cd = r.category_medium_cd,\n",
    "    category_small_cd = r.category_small_cd,\n",
    "    unit_price = r.unit_price ?? (int) Math.Round(median_tmp[r.category_small_cd].median_unit_price),\n",
    "    unit_cost = r.unit_cost ?? (int) Math.Round(median_tmp[r.category_small_cd].median_unit_cost),\n",
    "});\n",
    "\n",
    "display(\"df_product4 の 表示\");\n",
    "df_product4.Take(20).DisplayTable();\n",
    "\n",
    "// いずれかの値が null の場合に true を返す\n",
    "bool AnyIsNull(Product c) {\n",
    "    if (c.product_cd == null) return true;\n",
    "    if (c.category_major_cd == null) return true;\n",
    "    if (c.category_medium_cd == null) return true;\n",
    "    if (c.category_small_cd == null) return true;\n",
    "    if (c.unit_cost == null) return true;\n",
    "    if (c.unit_price == null) return true;\n",
    "    return false;\n",
    "}\n",
    "\n",
    "display($\"いずれか null の データ件数 { df_product4.Where(r => AnyIsNull(r)).Count() }\");"
   ]
  },
  {
   "cell_type": "markdown",
   "metadata": {},
   "source": [
    "---\n",
    "> P-084: 顧客データフレーム（df_customer）の全顧客に対し、全期間の売上金額に占める2019年売上金額の割合を計算せよ。ただし、販売実績のない場合は0として扱うこと。そして計算した割合が0超のものを抽出せよ。 結果は10件表示させれば良い。また、作成したデータにNAやNANが存在しないことを確認せよ。"
   ]
  },
  {
   "cell_type": "code",
   "execution_count": 205,
   "metadata": {
    "dotnet_interactive": {
     "language": "csharp"
    }
   },
   "outputs": [
    {
     "ename": "Error",
     "evalue": "(6,27): error CS1061: 'DataFrame' に 'Where' の定義が含まれておらず、型 'DataFrame' の最初の引数を受け付けるアクセス可能な拡張メソッド 'Where' が見つかりませんでした。using ディレクティブまたはアセンブリ参照が不足していないことを確認してください\r\n(14,10): error CS1660: ラムダ式 はデリゲート型ではないため、'string' 型に変換できません",
     "output_type": "error",
     "traceback": [
      "(6,27): error CS1061: 'DataFrame' に 'Where' の定義が含まれておらず、型 'DataFrame' の最初の引数を受け付けるアクセス可能な拡張メソッド 'Where' が見つかりませんでした。using ディレクティブまたはアセンブリ参照が不足していないことを確認してください\r\n",
      "(14,10): error CS1660: ラムダ式 はデリゲート型ではないため、'string' 型に変換できません"
     ]
    }
   ],
   "source": [
    "// 顧客データフレーム（df_customer）の全顧客に対し、全期間の売上金額に占める2019年売上金額の割合を計算せよ。\n",
    "// ただし、販売実績のない場合は0として扱うこと。そして計算した割合が0超のものを抽出せよ。 \n",
    "// 結果は10件表示させれば良い。また、作成したデータにNAやNANが存在しないことを確認せよ。\n",
    "\n",
    "// 対象となる顧客は 2019年度に売上のある顧客\n",
    "var df_tmp_1 = df_receipt.Where(r => r.sales_ymd.Substring(0,4) == \"2019\")\n",
    "    .GroupBy(r => r.customer_id)\n",
    "    .Select(r => new {\n",
    "        customer_id = r.Key,\n",
    "        sum_amount_2019 = r.Sum(t => t.amount),\n",
    "    });\n",
    "// 全期間の顧客毎の売り上げ\n",
    "var df_sum_amount_dic = df_receipt\n",
    ".GroupBy(r => r.customer_id)\n",
    ".Select(r => new {\n",
    "    customer_id = r.Key,\n",
    "    sum_amount = r.Sum(t => t.amount ?? 0),\n",
    "}).ToDictionary(r => r.customer_id);\n",
    "\n",
    "// 割合を計算する\n",
    "var df_ans = df_tmp_1\n",
    "    .Where(r => r.sum_amount_2019 > 0)  // 2019年に0以上の売り上げがある人\n",
    "    .Select(r => new {\n",
    "    r.customer_id,\n",
    "    r.sum_amount_2019,\n",
    "    rate_amount = (double) r.sum_amount_2019 / df_sum_amount_dic[r.customer_id].sum_amount,\n",
    "}).OrderBy(r => r.customer_id).ToList();\n",
    "\n",
    "// NA や NAN が無い事を確認する\n",
    "var null_count = df_ans.Where(r => r.sum_amount_2019 == null).Count();\n",
    "\n",
    "df_ans.Take(10).DisplayTable();\n",
    "display($\"Null の件数 { null_count }\")"
   ]
  },
  {
   "cell_type": "markdown",
   "metadata": {},
   "source": [
    "---\n",
    "> P-085: 顧客データフレーム（df_customer）の全顧客に対し、郵便番号（postal_cd）を用いて経度緯度変換用データフレーム（df_geocode）を紐付け、新たなdf_customer_1を作成せよ。ただし、複数紐づく場合は経度（longitude）、緯度（latitude）それぞれ平均を算出すること。"
   ]
  },
  {
   "cell_type": "code",
   "execution_count": 206,
   "metadata": {
    "dotnet_interactive": {
     "language": "csharp"
    }
   },
   "outputs": [
    {
     "ename": "Error",
     "evalue": "(2,45): error CS1660: ラムダ式 はデリゲート型ではないため、'string' 型に変換できません\r\n(10,33): error CS1061: 'DataFrame' に 'Select' の定義が含まれておらず、型 'DataFrame' の最初の引数を受け付けるアクセス可能な拡張メソッド 'Select' が見つかりませんでした。using ディレクティブまたはアセンブリ参照が不足していないことを確認してください",
     "output_type": "error",
     "traceback": [
      "(2,45): error CS1660: ラムダ式 はデリゲート型ではないため、'string' 型に変換できません\r\n",
      "(10,33): error CS1061: 'DataFrame' に 'Select' の定義が含まれておらず、型 'DataFrame' の最初の引数を受け付けるアクセス可能な拡張メソッド 'Select' が見つかりませんでした。using ディレクティブまたはアセンブリ参照が不足していないことを確認してください"
     ]
    }
   ],
   "source": [
    "// 郵便番号と それに紐づく 経度（longitude）、緯度（latitude） の平均の値 : 郵便番号をキーに検索できる Dictionary 型データ\n",
    "var df_geocode_avg_dic = df_geocode.GroupBy(r => r.postal_cd)\n",
    "    .Select(r => new {\n",
    "        postal_cd = r.Key,\n",
    "        m_longitude = r.Average(t => t.longitude),\n",
    "        m_latitude = r.Average(t => t.latitude),\n",
    "    })\n",
    "    .ToDictionary(r => r.postal_cd);\n",
    "\n",
    "var df_customer_1 = df_customer.Select(r => new {\n",
    "    r.customer_id,\n",
    "    r.customer_name,\n",
    "    r.gender_cd,\n",
    "    r.gender,\n",
    "    r.birth_day,\n",
    "    r.age,\n",
    "    r.postal_cd,\n",
    "    r.address,\n",
    "    r.application_store_cd,\n",
    "    r.application_date,\n",
    "    r.status_cd,\n",
    "    m_longitude = df_geocode_avg_dic[r.postal_cd].m_longitude,\n",
    "    m_latitude = df_geocode_avg_dic[r.postal_cd].m_latitude,\n",
    "}).ToList();\n",
    "\n",
    "df_customer_1.DisplayTable();\n",
    "\n",
    "// customer_id\tcustomer_name\tgender_cd\tgender\tbirth_day\tage\tpostal_cd\taddress\tapplication_store_cd\tapplication_date\tstatus_cd\tage_group\tm_longitude\tm_latitude"
   ]
  },
  {
   "cell_type": "markdown",
   "metadata": {},
   "source": [
    "---\n",
    "> P-086: 前設問で作成した緯度経度つき顧客データフレーム（df_customer_1）に対し、申込み店舗コード（application_store_cd）をキーに店舗データフレーム（df_store）と結合せよ。そして申込み店舗の緯度（latitude）・経度情報（longitude)と顧客の緯度・経度を用いて距離（km）を求め、顧客ID（customer_id）、顧客住所（address）、店舗住所（address）とともに表示せよ。計算式は簡易式で良いものとするが、その他精度の高い方式を利用したライブラリを利用してもかまわない。結果は10件表示すれば良い。"
   ]
  },
  {
   "cell_type": "markdown",
   "metadata": {},
   "source": [
    "```\n",
    "緯度（ラジアン）：\\phi \\\\\n",
    "経度（ラジアン）：\\lambda \\\\\n",
    "距離L = 6371 * arccos(sin \\phi_1 * sin \\phi_2\n",
    "+ cos \\phi_1 * cos \\phi_2 * cos(\\lambda_1 − \\lambda_2))\n",
    "```"
   ]
  },
  {
   "cell_type": "code",
   "execution_count": 207,
   "metadata": {
    "dotnet_interactive": {
     "language": "csharp"
    }
   },
   "outputs": [
    {
     "ename": "Error",
     "evalue": "(1,29): error CS1061: 'DataFrame' に 'ToDictionary' の定義が含まれておらず、型 'DataFrame' の最初の引数を受け付けるアクセス可能な拡張メソッド 'ToDictionary' が見つかりませんでした。using ディレクティブまたはアセンブリ参照が不足していないことを確認してください\r\n(26,1): error CS0103: 現在のコンテキストに 'df_customer_1' という名前は存在しません",
     "output_type": "error",
     "traceback": [
      "(1,29): error CS1061: 'DataFrame' に 'ToDictionary' の定義が含まれておらず、型 'DataFrame' の最初の引数を受け付けるアクセス可能な拡張メソッド 'ToDictionary' が見つかりませんでした。using ディレクティブまたはアセンブリ参照が不足していないことを確認してください\r\n",
      "(26,1): error CS0103: 現在のコンテキストに 'df_customer_1' という名前は存在しません"
     ]
    }
   ],
   "source": [
    "var df_store_dic = df_store.ToDictionary(r => r.store_cd);\n",
    "\n",
    "//def calc_distance(x1, y1, x2, y2):\n",
    "//    x1_r = np.radians(x1)\n",
    "//    x2_r = np.radians(x2)\n",
    "//    y1_r = np.radians(y1)\n",
    "//    y2_r = np.radians(y2)\n",
    "//    return 6371 * np.arccos(np.sin(y1_r) * np.sin(y2_r) \n",
    "//                            + np.cos(y1_r) * np.cos(y2_r) \n",
    "//                            * np.cos(x1_r - x2_r))\n",
    "//    return distance\n",
    "double DegreeToRadian(double deg) {\n",
    "    return Math.PI * deg / 180.0;\n",
    "}\n",
    "double CalcDistance(double x1, double y1, double x2, double y2) {\n",
    "    double x1_r = DegreeToRadian(x1);\n",
    "    double x2_r = DegreeToRadian(x2);\n",
    "    double y1_r = DegreeToRadian(y1);\n",
    "    double y2_r = DegreeToRadian(y2);\n",
    "\n",
    "    return 6371 * Math.Acos(Math.Sin(y1_r) * Math.Sin(y2_r) \n",
    "                    + Math.Cos(y1_r) * Math.Cos(y2_r) \n",
    "                        * Math.Cos(x1_r - x2_r));\n",
    "}\n",
    "\n",
    "df_customer_1.Select(r => new {\n",
    "    r.customer_id,\n",
    "    r.address,\n",
    "    store_address = df_store_dic[r.application_store_cd].address,\n",
    "    //r.m_latitude,\n",
    "    //r.m_longitude,\n",
    "    //application_store_latitude = df_store_dic[r.application_store_cd].latitude,\n",
    "    //application_store_longitude = df_store_dic[r.application_store_cd].longitude,\n",
    "    distance = CalcDistance((double) r.m_longitude, (double) r.m_latitude, (double) df_store_dic[r.application_store_cd].longitude, (double) df_store_dic[r.application_store_cd].latitude),\n",
    "}).Take(10).DisplayTable()"
   ]
  },
  {
   "cell_type": "markdown",
   "metadata": {},
   "source": [
    "---\n",
    "> P-087:  顧客データフレーム（df_customer）では、異なる店舗での申込みなどにより同一顧客が複数登録されている。名前（customer_name）と郵便番号（postal_cd）が同じ顧客は同一顧客とみなし、1顧客1レコードとなるように名寄せした名寄顧客データフレーム（df_customer_u）を作成せよ。ただし、同一顧客に対しては売上金額合計が最も高いものを残すものとし、売上金額合計が同一もしくは売上実績の無い顧客については顧客ID（customer_id）の番号が小さいものを残すこととする。"
   ]
  },
  {
   "cell_type": "code",
   "execution_count": 208,
   "metadata": {
    "dotnet_interactive": {
     "language": "csharp"
    }
   },
   "outputs": [
    {
     "ename": "Error",
     "evalue": "(8,40): error CS1660: ラムダ式 はデリゲート型ではないため、'string' 型に変換できません\r\n(14,6): error CS1061: 'DataFrame' に 'Select' の定義が含まれておらず、型 'DataFrame' の最初の引数を受け付けるアクセス可能な拡張メソッド 'Select' が見つかりませんでした。using ディレクティブまたはアセンブリ参照が不足していないことを確認してください\r\n(27,13): error CS1061: 'DataFrame' に 'Count' の定義が含まれておらず、型 'DataFrame' の最初の引数を受け付けるアクセス可能な拡張メソッド 'Count' が見つかりませんでした。using ディレクティブまたはアセンブリ参照が不足していないことを確認してください",
     "output_type": "error",
     "traceback": [
      "(8,40): error CS1660: ラムダ式 はデリゲート型ではないため、'string' 型に変換できません\r\n",
      "(14,6): error CS1061: 'DataFrame' に 'Select' の定義が含まれておらず、型 'DataFrame' の最初の引数を受け付けるアクセス可能な拡張メソッド 'Select' が見つかりませんでした。using ディレクティブまたはアセンブリ参照が不足していないことを確認してください\r\n",
      "(27,13): error CS1061: 'DataFrame' に 'Count' の定義が含まれておらず、型 'DataFrame' の最初の引数を受け付けるアクセス可能な拡張メソッド 'Count' が見つかりませんでした。using ディレクティブまたはアセンブリ参照が不足していないことを確認してください"
     ]
    }
   ],
   "source": [
    "//df_tmp = df_receipt.groupby('customer_id').agg({'amount':sum}).reset_index()\n",
    "//df_customer_u = pd.merge(df_customer, df_tmp, how='left', on='customer_id').sort_values(['amount', 'customer_id']\n",
    "//                                                                                        , ascending=[False, True])\n",
    "//df_customer_u.drop_duplicates(subset=['customer_name', 'postal_cd'], keep='first', inplace=True)\n",
    "//\n",
    "//print('減少数: ', len(df_customer) - len(df_customer_u))\n",
    "// 顧客ID 毎の売上金額の計算\n",
    "var df_amount_dic = df_receipt.GroupBy(r => r.customer_id).Select(r => new {\n",
    "    customer_id = r.Key,\n",
    "    sum_amount = r.Sum(t => t.amount),\n",
    "}).ToDictionary(r => r.customer_id);\n",
    "\n",
    "var df_customer_u = df_customer\n",
    "    .Select(r => new {\n",
    "        r.customer_id,\n",
    "        nayose_key = r.customer_name + \"\\t\" + r.postal_cd,\n",
    "        sum_amount = df_amount_dic.GetValueOrDefault(r.customer_id)?.sum_amount ?? 0,\n",
    "    })\n",
    "    .GroupBy(r => r.nayose_key)\n",
    "    .Select(r => new {\n",
    "        nayose_key = r.Key,\n",
    "        customer_id = r.OrderByDescending(t => t.sum_amount).FirstOrDefault()?.customer_id,\n",
    "    })\n",
    "    .ToList();\n",
    "\n",
    "// 現象数をカウント\n",
    "df_customer.Count() - df_customer_u.Count()"
   ]
  },
  {
   "cell_type": "markdown",
   "metadata": {},
   "source": [
    "---\n",
    "> P-088: 前設問で作成したデータを元に、顧客データフレームに統合名寄IDを付与したデータフレーム（df_customer_n）を作成せよ。ただし、統合名寄IDは以下の仕様で付与するものとする。\n",
    ">\n",
    "> - 重複していない顧客：顧客ID（customer_id）を設定\n",
    "> - 重複している顧客：前設問で抽出したレコードの顧客IDを設定"
   ]
  },
  {
   "cell_type": "code",
   "execution_count": 209,
   "metadata": {
    "dotnet_interactive": {
     "language": "csharp"
    }
   },
   "outputs": [
    {
     "ename": "Error",
     "evalue": "(6,30): error CS0103: 現在のコンテキストに 'df_customer_u' という名前は存在しません\r\n(8,33): error CS1061: 'DataFrame' に 'Select' の定義が含まれておらず、型 'DataFrame' の最初の引数を受け付けるアクセス可能な拡張メソッド 'Select' が見つかりませんでした。using ディレクティブまたはアセンブリ参照が不足していないことを確認してください",
     "output_type": "error",
     "traceback": [
      "(6,30): error CS0103: 現在のコンテキストに 'df_customer_u' という名前は存在しません\r\n",
      "(8,33): error CS1061: 'DataFrame' に 'Select' の定義が含まれておらず、型 'DataFrame' の最初の引数を受け付けるアクセス可能な拡張メソッド 'Select' が見つかりませんでした。using ディレクティブまたはアセンブリ参照が不足していないことを確認してください"
     ]
    }
   ],
   "source": [
    "//df_customer_n = pd.merge(df_customer, df_customer_u[['customer_name', 'postal_cd', 'customer_id']],\n",
    "//                        how='inner', on =['customer_name', 'postal_cd'])\n",
    "//df_customer_n.rename(columns={'customer_id_x':'customer_id', 'customer_id_y':'integration_id'}, inplace=True)\n",
    "//\n",
    "//print('ID数の差', len(df_customer_n['customer_id'].unique()) - len(df_customer_n['integration_id'].unique()))\n",
    "var nayose_customer_id_dic = df_customer_u.ToDictionary(r => r.nayose_key);\n",
    "\n",
    "var df_customer_n = df_customer.Select(r => new {\n",
    "    customer_id = nayose_customer_id_dic[r.customer_name + \"\\t\" + r.postal_cd].customer_id,\n",
    "    r.customer_name,\n",
    "    r.gender_cd, r.gender,\n",
    "    r.postal_cd,r.address,\n",
    "    r.age,\n",
    "    r.application_date,\n",
    "    r.application_store_cd,\n",
    "    r.birth_day,\n",
    "    r.status_cd,\n",
    "});\n",
    "\n",
    "df_customer_n.Take(10).DisplayTable()"
   ]
  },
  {
   "cell_type": "markdown",
   "metadata": {},
   "source": [
    "---\n",
    "> P-089: 売上実績のある顧客に対し、予測モデル構築のため学習用データとテスト用データに分割したい。それぞれ8:2の割合でランダムにデータを分割せよ。"
   ]
  },
  {
   "cell_type": "code",
   "execution_count": 210,
   "metadata": {
    "dotnet_interactive": {
     "language": "csharp"
    }
   },
   "outputs": [
    {
     "ename": "Error",
     "evalue": "(28,40): error CS1660: クエリ式 はデリゲート型ではないため、'string' 型に変換できません\r\n(28,70): error CS1660: クエリ式 はデリゲート型ではないため、'string' 型に変換できません\r\n(29,12): error CS1660: クエリ式 はデリゲート型ではないため、'JoinAlgorithm' 型に変換できません\r\n(32,36): error CS1061: 'DataFrame' に 'Distinct' の定義が含まれておらず、型 'DataFrame' の最初の引数を受け付けるアクセス可能な拡張メソッド 'Distinct' が見つかりませんでした。using ディレクティブまたはアセンブリ参照が不足していないことを確認してください\r\n(42,37): error CS1061: 'DataFrame' に 'Where' の定義が含まれておらず、型 'DataFrame' の最初の引数を受け付けるアクセス可能な拡張メソッド 'Where' が見つかりませんでした。using ディレクティブまたはアセンブリ参照が不足していないことを確認してください\r\n(44,36): error CS1061: 'DataFrame' に 'Where' の定義が含まれておらず、型 'DataFrame' の最初の引数を受け付けるアクセス可能な拡張メソッド 'Where' が見つかりませんでした。using ディレクティブまたはアセンブリ参照が不足していないことを確認してください",
     "output_type": "error",
     "traceback": [
      "(28,40): error CS1660: クエリ式 はデリゲート型ではないため、'string' 型に変換できません\r\n",
      "(28,70): error CS1660: クエリ式 はデリゲート型ではないため、'string' 型に変換できません\r\n",
      "(29,12): error CS1660: クエリ式 はデリゲート型ではないため、'JoinAlgorithm' 型に変換できません\r\n",
      "(32,36): error CS1061: 'DataFrame' に 'Distinct' の定義が含まれておらず、型 'DataFrame' の最初の引数を受け付けるアクセス可能な拡張メソッド 'Distinct' が見つかりませんでした。using ディレクティブまたはアセンブリ参照が不足していないことを確認してください\r\n",
      "(42,37): error CS1061: 'DataFrame' に 'Where' の定義が含まれておらず、型 'DataFrame' の最初の引数を受け付けるアクセス可能な拡張メソッド 'Where' が見つかりませんでした。using ディレクティブまたはアセンブリ参照が不足していないことを確認してください\r\n",
      "(44,36): error CS1061: 'DataFrame' に 'Where' の定義が含まれておらず、型 'DataFrame' の最初の引数を受け付けるアクセス可能な拡張メソッド 'Where' が見つかりませんでした。using ディレクティブまたはアセンブリ参照が不足していないことを確認してください"
     ]
    }
   ],
   "source": [
    "// df_tmp = pd.merge(df_customer, df_receipt['customer_id'], how='inner', on='customer_id')\n",
    "// df_train, df_test = train_test_split(df_tmp, test_size=0.2, random_state=71)\n",
    "// print('学習データ割合: ', len(df_train) / len(df_tmp))\n",
    "// print('テストデータ割合: ', len(df_test) / len(df_tmp))\n",
    "\n",
    "\n",
    "// 指定の件数になるまでデータを抽出する\n",
    "static HashSet<string> GetListRandum(List<string> items, int getSize) {\n",
    "    // 全要素の中から ランダムにデータをピックアップして \n",
    "    // 指定のデータ件数になるまで繰り返す\n",
    "    Random r = new Random();\n",
    "    int count = items.Count();\n",
    "    if (count < getSize) {\n",
    "        getSize = count;\n",
    "    }\n",
    "    HashSet<string> ansSet = new HashSet<string>();\n",
    "    while(ansSet.Count < getSize) {\n",
    "        var ix = r.Next(count);\n",
    "        string id = items[ix];\n",
    "        ansSet.Add(id);\n",
    "    }\n",
    "\n",
    "    return ansSet;\n",
    "}\n",
    "\n",
    "// 売上実績のある顧客の抽出\n",
    "var query_cust = from df_receipt in df_receipt \n",
    "    join df_customer in df_customer on df_receipt.customer_id equals df_customer.customer_id\n",
    "    select df_customer.customer_id;\n",
    "\n",
    "// 対象となる顧客\n",
    "var targetCustmerList = query_cust.Distinct().ToList();\n",
    "int pct20 = (int) (targetCustmerList.Count() * 0.2);\n",
    "// 20％ に含まれる人\n",
    "var df_cusomer_20 = GetListRandum(targetCustmerList, pct20);\n",
    "// 残りの 80% \n",
    "var df_cusomer_80 = targetCustmerList.Except(df_cusomer_20).ToHashSet();\n",
    "\n",
    "//print(nrow(df_customer_train))\n",
    "//print(nrow(df_customer_test))\n",
    "// 80% の人が含まれている\n",
    "var df_customer_train = df_customer.Where(r => df_cusomer_80.Contains(r.customer_id)).ToList();\n",
    "// 20% の人が含まれている\n",
    "var df_customer_test = df_customer.Where(r => df_cusomer_20.Contains(r.customer_id)).ToList();\n",
    "\n",
    "new {\n",
    "    train_size = df_customer_train.Count(),\n",
    "    test_size = df_customer_test.Count(),\n",
    "}"
   ]
  },
  {
   "cell_type": "markdown",
   "metadata": {},
   "source": [
    "---\n",
    "> P-090: レシート明細データフレーム（df_receipt）は2017年1月1日〜2019年10月31日までのデータを有している。売上金額（amount）を月次で集計し、学習用に12ヶ月、テスト用に6ヶ月のモデル構築用データを3セット作成せよ。"
   ]
  },
  {
   "cell_type": "code",
   "execution_count": 211,
   "metadata": {
    "dotnet_interactive": {
     "language": "csharp"
    }
   },
   "outputs": [
    {
     "ename": "Error",
     "evalue": "(16,22): error CS1061: 'DataFrame' に 'Max' の定義が含まれておらず、型 'DataFrame' の最初の引数を受け付けるアクセス可能な拡張メソッド 'Max' が見つかりませんでした。using ディレクティブまたはアセンブリ参照が不足していないことを確認してください\r\n(17,22): error CS1061: 'DataFrame' に 'Min' の定義が含まれておらず、型 'DataFrame' の最初の引数を受け付けるアクセス可能な拡張メソッド 'Min' が見つかりませんでした。using ディレクティブまたはアセンブリ参照が不足していないことを確認してください",
     "output_type": "error",
     "traceback": [
      "(16,22): error CS1061: 'DataFrame' に 'Max' の定義が含まれておらず、型 'DataFrame' の最初の引数を受け付けるアクセス可能な拡張メソッド 'Max' が見つかりませんでした。using ディレクティブまたはアセンブリ参照が不足していないことを確認してください\r\n",
      "(17,22): error CS1061: 'DataFrame' に 'Min' の定義が含まれておらず、型 'DataFrame' の最初の引数を受け付けるアクセス可能な拡張メソッド 'Min' が見つかりませんでした。using ディレクティブまたはアセンブリ参照が不足していないことを確認してください"
     ]
    }
   ],
   "source": [
    "//df_tmp = df_receipt[['sales_ymd', 'amount']].copy()\n",
    "//df_tmp['sales_ym'] = df_tmp['sales_ymd'].astype('str').str[0:6]\n",
    "//df_tmp = df_tmp.groupby('sales_ym').agg({'amount':'sum'}).reset_index()\n",
    "\n",
    "//# 関数化することで長期間データに対する多数のデータセットもループなどで処理できるようにする\n",
    "//def split_data(df, train_size, test_size, slide_window, start_point):\n",
    "//    train_start = start_point * slide_window\n",
    "//    test_start = train_start + train_size\n",
    "//    return df[train_start : test_start], df[test_start : test_start + test_size]\n",
    "\n",
    "//df_train_1, df_test_1 = split_data(df_tmp, train_size=12, test_size=6, slide_window=6, start_point=0)\n",
    "//df_train_2, df_test_2 = split_data(df_tmp, train_size=12, test_size=6, slide_window=6, start_point=1)\n",
    "//df_train_3, df_test_3 = split_data(df_tmp, train_size=12, test_size=6, slide_window=6, start_point=2)\n",
    "\n",
    "new {\n",
    "    max = df_receipt.Max(r => r.sales_ymd),\n",
    "    min = df_receipt.Min(r => r.sales_ymd),\n",
    "}"
   ]
  },
  {
   "cell_type": "markdown",
   "metadata": {},
   "source": [
    "---\n",
    "> P-091: 顧客データフレーム（df_customer）の各顧客に対し、売上実績のある顧客数と売上実績のない顧客数が1:1となるようにアンダーサンプリングで抽出せよ。"
   ]
  },
  {
   "cell_type": "code",
   "execution_count": 212,
   "metadata": {
    "dotnet_interactive": {
     "language": "csharp"
    }
   },
   "outputs": [
    {
     "ename": "Error",
     "evalue": "(2,37): error CS1660: ラムダ式 はデリゲート型ではないため、'string' 型に変換できません\r\n(8,34): error CS1061: 'DataFrame' に 'Where' の定義が含まれておらず、型 'DataFrame' の最初の引数を受け付けるアクセス可能な拡張メソッド 'Where' が見つかりませんでした。using ディレクティブまたはアセンブリ参照が不足していないことを確認してください\r\n(10,38): error CS1061: 'DataFrame' に 'Where' の定義が含まれておらず、型 'DataFrame' の最初の引数を受け付けるアクセス可能な拡張メソッド 'Where' が見つかりませんでした。using ディレクティブまたはアセンブリ参照が不足していないことを確認してください",
     "output_type": "error",
     "traceback": [
      "(2,37): error CS1660: ラムダ式 はデリゲート型ではないため、'string' 型に変換できません\r\n",
      "(8,34): error CS1061: 'DataFrame' に 'Where' の定義が含まれておらず、型 'DataFrame' の最初の引数を受け付けるアクセス可能な拡張メソッド 'Where' が見つかりませんでした。using ディレクティブまたはアセンブリ参照が不足していないことを確認してください\r\n",
      "(10,38): error CS1061: 'DataFrame' に 'Where' の定義が含まれておらず、型 'DataFrame' の最初の引数を受け付けるアクセス可能な拡張メソッド 'Where' が見つかりませんでした。using ディレクティブまたはアセンブリ参照が不足していないことを確認してください"
     ]
    }
   ],
   "source": [
    "// 顧客単位の売り上げを計算\n",
    "var cus_amount = df_receipt.GroupBy(r => r.customer_id).Select(r => new {\n",
    "    customer_id = r.Key,\n",
    "    sum_amount = r.Sum(t => t.amount),\n",
    "}).ToDictionary(r => r.customer_id);\n",
    "\n",
    "// 売上実績のある顧客\n",
    "var amount_customer = df_receipt.Where(r => r.amount > 0).Select(r => r.customer_id).Distinct().ToHashSet();\n",
    "// 売上実績のない顧客\n",
    "var no_amount_customer = df_customer.Where(r => ! amount_customer.Contains(r.customer_id)).Select(r => r.customer_id).ToHashSet();\n",
    "\n",
    "display(amount_customer.Count());\n",
    "\n",
    "int get_n = Math.Min(amount_customer.Count(), no_amount_customer.Count());\n",
    "// 条件を指定してランダムにデータ件数抽出\n",
    "\n",
    "// 指定の件数になるまでデータを抽出する\n",
    "static HashSet<string> GetListRandumOrAll(HashSet<string> items, int getSize) {\n",
    "    // 求める件数より多い場合はすべてを返す\n",
    "    if (getSize >= items.Count) {\n",
    "        return items;\n",
    "    }\n",
    "    // 全要素の中から ランダムにデータをピックアップして \n",
    "    // 指定のデータ件数になるまで繰り返す\n",
    "    Random r = new Random();\n",
    "    int count = items.Count();\n",
    "    if (count < getSize) {\n",
    "        getSize = count;\n",
    "    }\n",
    "    HashSet<string> ansSet = new HashSet<string>();\n",
    "    var list = items.ToList();\n",
    "    while(ansSet.Count < getSize) {\n",
    "        var ix = r.Next(count);\n",
    "        string id = list[ix];\n",
    "        ansSet.Add(id);\n",
    "    }\n",
    "\n",
    "    return ansSet;\n",
    "}\n",
    "\n",
    "var sample_amount_cust_id = GetListRandumOrAll(amount_customer, get_n);\n",
    "var sample_no_amount_cust_id = GetListRandumOrAll(no_amount_customer, get_n);\n",
    "\n",
    "display(new {\n",
    "    売上実績のある顧客_件数 = sample_amount_cust_id.Count(),\n",
    "    売上実績のない顧客_件数 = sample_no_amount_cust_id.Count()\n",
    "});"
   ]
  },
  {
   "cell_type": "markdown",
   "metadata": {},
   "source": [
    "---\n",
    "> P-092: 顧客データフレーム（df_customer）では、性別に関する情報が非正規化の状態で保持されている。これを第三正規化せよ。"
   ]
  },
  {
   "cell_type": "code",
   "execution_count": 213,
   "metadata": {
    "dotnet_interactive": {
     "language": "csharp"
    }
   },
   "outputs": [
    {
     "ename": "Error",
     "evalue": "(21,37): error CS1660: ラムダ式 はデリゲート型ではないため、'string' 型に変換できません\r\n(28,33): error CS1061: 'DataFrame' に 'Select' の定義が含まれておらず、型 'DataFrame' の最初の引数を受け付けるアクセス可能な拡張メソッド 'Select' が見つかりませんでした。using ディレクティブまたはアセンブリ参照が不足していないことを確認してください",
     "output_type": "error",
     "traceback": [
      "(21,37): error CS1660: ラムダ式 はデリゲート型ではないため、'string' 型に変換できません\r\n",
      "(28,33): error CS1061: 'DataFrame' に 'Select' の定義が含まれておらず、型 'DataFrame' の最初の引数を受け付けるアクセス可能な拡張メソッド 'Select' が見つかりませんでした。using ディレクティブまたはアセンブリ参照が不足していないことを確認してください"
     ]
    }
   ],
   "source": [
    "public record Gender {\n",
    "    public string gender_cd {get; init;}\n",
    "    public string gender {get;init;}\n",
    "}\n",
    "\n",
    "public class CustomerS\n",
    "{\n",
    "    public string customer_id { get; init; }\n",
    "    public string customer_name { get; init; }\n",
    "    public DateTime? birth_day { get; init; }\n",
    "    public int? age { get; init; }\n",
    "    public string postal_cd { get; init; }\n",
    "    public string address { get; init; }\n",
    "    public string application_store_cd { get; init; }\n",
    "    public string application_date { get; init; }\n",
    "    public string status_cd { get; init; }\n",
    "\n",
    "    public Gender gender {get;init;}\n",
    "}\n",
    "\n",
    "var df_gender = df_customer.GroupBy(r => r.gender_cd)\n",
    "    .Select(r => new Gender() {\n",
    "        gender_cd = r.Key,\n",
    "        gender = r.Select(t => t.gender).FirstOrDefault(),\n",
    "    })\n",
    "    .ToDictionary(r => r.gender_cd);\n",
    "\n",
    "var df_customer_s = df_customer.Select(r => new CustomerS() {\n",
    "    customer_id = r.customer_id,\n",
    "    customer_name = r.customer_name,\n",
    "    birth_day = r.birth_day,\n",
    "    age = r.age,\n",
    "    address = r.address,\n",
    "    postal_cd = r.postal_cd,\n",
    "    application_store_cd = r.application_store_cd,\n",
    "    application_date = r.application_date,\n",
    "    status_cd = r.status_cd,\n",
    "    gender = df_gender.GetValueOrDefault(r.gender_cd),\n",
    "}).ToList();\n",
    "\n",
    "df_customer_s.DisplayTable()"
   ]
  },
  {
   "cell_type": "markdown",
   "metadata": {},
   "source": [
    "---\n",
    "> P-093: 商品データフレーム（df_product）では各カテゴリのコード値だけを保有し、カテゴリ名は保有していない。カテゴリデータフレーム（df_category）と組み合わせて非正規化し、カテゴリ名を保有した新たな商品データフレームを作成せよ。"
   ]
  },
  {
   "cell_type": "code",
   "execution_count": 214,
   "metadata": {
    "dotnet_interactive": {
     "language": "csharp"
    }
   },
   "outputs": [
    {
     "ename": "Error",
     "evalue": "(18,16): error CS1660: クエリ式 はデリゲート型ではないため、'string' 型に変換できません\r\n(18,53): error CS1660: クエリ式 はデリゲート型ではないため、'string' 型に変換できません\r\n(19,20): error CS1660: クエリ式 はデリゲート型ではないため、'JoinAlgorithm' 型に変換できません\r\n(31,29): error CS1061: 'DataFrame' に 'ToList' の定義が含まれておらず、型 'DataFrame' の最初の引数を受け付けるアクセス可能な拡張メソッド 'ToList' が見つかりませんでした。using ディレクティブまたはアセンブリ参照が不足していないことを確認してください",
     "output_type": "error",
     "traceback": [
      "(18,16): error CS1660: クエリ式 はデリゲート型ではないため、'string' 型に変換できません\r\n",
      "(18,53): error CS1660: クエリ式 はデリゲート型ではないため、'string' 型に変換できません\r\n",
      "(19,20): error CS1660: クエリ式 はデリゲート型ではないため、'JoinAlgorithm' 型に変換できません\r\n",
      "(31,29): error CS1061: 'DataFrame' に 'ToList' の定義が含まれておらず、型 'DataFrame' の最初の引数を受け付けるアクセス可能な拡張メソッド 'ToList' が見つかりませんでした。using ディレクティブまたはアセンブリ参照が不足していないことを確認してください"
     ]
    }
   ],
   "source": [
    "/// Prodoct と Category の 項目を 持つクラス\n",
    "public class ProductFull\n",
    "{\n",
    "    public string product_cd { get; set; }\n",
    "    public string category_major_cd { get; set; }\n",
    "    public string category_major_name { get; set; }\n",
    "    public string category_medium_cd { get; set; }\n",
    "    public string category_medium_name { get; set; }\n",
    "    public string category_small_cd { get; set; }\n",
    "    public string category_small_name { get; set; }\n",
    "    public int? unit_price { get; set; }\n",
    "    public int? unit_cost { get; set; }\n",
    "}\n",
    "\n",
    "// category_small_cd で Join した結合データを作成\n",
    "var query = from df_category in df_category \n",
    "            join df_product in df_product \n",
    "            on df_category.category_small_cd equals df_product.category_small_cd\n",
    "            select new ProductFull() {\n",
    "                product_cd = df_product.product_cd,\n",
    "                category_major_cd = df_product.category_major_cd,\n",
    "                category_medium_cd = df_product.category_medium_cd,\n",
    "                category_small_cd = df_product.category_small_cd,\n",
    "                unit_price = df_product.unit_price,\n",
    "                unit_cost = df_product.unit_cost,\n",
    "                category_major_name = df_category.category_major_name,\n",
    "                category_medium_name = df_category.category_medium_name,\n",
    "                category_small_name = df_category.category_small_name,\n",
    "            };\n",
    "\n",
    "var df_product_full = query.ToList();\n",
    "\n",
    "df_product_full.DisplayTable();"
   ]
  },
  {
   "cell_type": "markdown",
   "metadata": {},
   "source": [
    "---\n",
    "> P-094: 先に作成したカテゴリ名付き商品データを以下の仕様でファイル出力せよ。なお、出力先のパスはdata配下とする。\n",
    ">\n",
    "> - ファイル形式はCSV（カンマ区切り）\n",
    "> - ヘッダ有り\n",
    "> - 文字コードはUTF-8"
   ]
  },
  {
   "cell_type": "code",
   "execution_count": 215,
   "metadata": {
    "dotnet_interactive": {
     "language": "csharp"
    }
   },
   "outputs": [
    {
     "ename": "Error",
     "evalue": "(4,8): error CS0246: 型または名前空間の名前 'CsvWriter' が見つかりませんでした (using ディレクティブまたはアセンブリ参照が指定されていることを確認してください)\r\n(4,28): error CS0246: 型または名前空間の名前 'CsvWriter' が見つかりませんでした (using ディレクティブまたはアセンブリ参照が指定されていることを確認してください)\r\n(4,42): error CS0103: 現在のコンテキストに 'CultureInfo' という名前は存在しません\r\n(6,22): error CS0103: 現在のコンテキストに 'df_product_full' という名前は存在しません",
     "output_type": "error",
     "traceback": [
      "(4,8): error CS0246: 型または名前空間の名前 'CsvWriter' が見つかりませんでした (using ディレクティブまたはアセンブリ参照が指定されていることを確認してください)\r\n",
      "(4,28): error CS0246: 型または名前空間の名前 'CsvWriter' が見つかりませんでした (using ディレクティブまたはアセンブリ参照が指定されていることを確認してください)\r\n",
      "(4,42): error CS0103: 現在のコンテキストに 'CultureInfo' という名前は存在しません\r\n",
      "(6,22): error CS0103: 現在のコンテキストに 'df_product_full' という名前は存在しません"
     ]
    }
   ],
   "source": [
    "using System.IO;\n",
    "\n",
    "using (StreamWriter sw = new StreamWriter(@\"P_df_product_full_UTF-8_header.csv\"))\n",
    "using (CsvWriter csv = new CsvWriter(sw, CultureInfo.InvariantCulture))\n",
    "{\n",
    "    csv.WriteRecords(df_product_full);\n",
    "}"
   ]
  },
  {
   "cell_type": "markdown",
   "metadata": {},
   "source": [
    "---\n",
    "> P-095: 先に作成したカテゴリ名付き商品データを以下の仕様でファイル出力せよ。なお、出力先のパスはdata配下とする。\n",
    ">\n",
    "> - ファイル形式はCSV（カンマ区切り）\n",
    "> - ヘッダ有り\n",
    "> - 文字コードはCP932"
   ]
  },
  {
   "cell_type": "code",
   "execution_count": 216,
   "metadata": {
    "dotnet_interactive": {
     "language": "csharp"
    }
   },
   "outputs": [
    {
     "data": {
      "text/html": [
       "<div><div></div><div></div><div><strong>Installed Packages</strong><ul><li><span>System.Text.Encoding.CodePages, 8.0.0</span></li></ul></div></div>"
      ]
     },
     "metadata": {},
     "output_type": "display_data"
    }
   ],
   "source": [
    "#r \"nuget:System.Text.Encoding.CodePages\"\n",
    "\n",
    "using System.Text;\n",
    "Encoding.RegisterProvider(CodePagesEncodingProvider.Instance);"
   ]
  },
  {
   "cell_type": "code",
   "execution_count": 217,
   "metadata": {
    "dotnet_interactive": {
     "language": "csharp"
    }
   },
   "outputs": [
    {
     "ename": "Error",
     "evalue": "(5,8): error CS0246: 型または名前空間の名前 'CsvWriter' が見つかりませんでした (using ディレクティブまたはアセンブリ参照が指定されていることを確認してください)\r\n(5,28): error CS0246: 型または名前空間の名前 'CsvWriter' が見つかりませんでした (using ディレクティブまたはアセンブリ参照が指定されていることを確認してください)\r\n(5,42): error CS0103: 現在のコンテキストに 'CultureInfo' という名前は存在しません\r\n(8,22): error CS0103: 現在のコンテキストに 'df_product_full' という名前は存在しません",
     "output_type": "error",
     "traceback": [
      "(5,8): error CS0246: 型または名前空間の名前 'CsvWriter' が見つかりませんでした (using ディレクティブまたはアセンブリ参照が指定されていることを確認してください)\r\n",
      "(5,28): error CS0246: 型または名前空間の名前 'CsvWriter' が見つかりませんでした (using ディレクティブまたはアセンブリ参照が指定されていることを確認してください)\r\n",
      "(5,42): error CS0103: 現在のコンテキストに 'CultureInfo' という名前は存在しません\r\n",
      "(8,22): error CS0103: 現在のコンテキストに 'df_product_full' という名前は存在しません"
     ]
    }
   ],
   "source": [
    "using System.IO;\n",
    "using System.Text;\n",
    "\n",
    "using (StreamWriter sw = new StreamWriter(@\"P_df_product_full_CP932_header.csv\", false, Encoding.GetEncoding(\"Shift_JIS\")))\n",
    "using (CsvWriter csv = new CsvWriter(sw, CultureInfo.InvariantCulture))\n",
    "{\n",
    "    csv.Configuration.HasHeaderRecord = true;\n",
    "    csv.WriteRecords(df_product_full);\n",
    "}"
   ]
  },
  {
   "cell_type": "markdown",
   "metadata": {},
   "source": [
    "---\n",
    "> P-096: 先に作成したカテゴリ名付き商品データを以下の仕様でファイル出力せよ。なお、出力先のパスはdata配下とする。\n",
    ">\n",
    "> - ファイル形式はCSV（カンマ区切り）\n",
    "> - ヘッダ無し\n",
    "> - 文字コードはUTF-8"
   ]
  },
  {
   "cell_type": "code",
   "execution_count": 218,
   "metadata": {
    "dotnet_interactive": {
     "language": "csharp"
    }
   },
   "outputs": [
    {
     "ename": "Error",
     "evalue": "(4,8): error CS0246: 型または名前空間の名前 'CsvWriter' が見つかりませんでした (using ディレクティブまたはアセンブリ参照が指定されていることを確認してください)\r\n(4,28): error CS0246: 型または名前空間の名前 'CsvWriter' が見つかりませんでした (using ディレクティブまたはアセンブリ参照が指定されていることを確認してください)\r\n(4,42): error CS0103: 現在のコンテキストに 'CultureInfo' という名前は存在しません\r\n(7,22): error CS0103: 現在のコンテキストに 'df_product_full' という名前は存在しません",
     "output_type": "error",
     "traceback": [
      "(4,8): error CS0246: 型または名前空間の名前 'CsvWriter' が見つかりませんでした (using ディレクティブまたはアセンブリ参照が指定されていることを確認してください)\r\n",
      "(4,28): error CS0246: 型または名前空間の名前 'CsvWriter' が見つかりませんでした (using ディレクティブまたはアセンブリ参照が指定されていることを確認してください)\r\n",
      "(4,42): error CS0103: 現在のコンテキストに 'CultureInfo' という名前は存在しません\r\n",
      "(7,22): error CS0103: 現在のコンテキストに 'df_product_full' という名前は存在しません"
     ]
    }
   ],
   "source": [
    "using System.IO;\n",
    "\n",
    "using (StreamWriter sw = new StreamWriter(@\"P_df_product_full_UTF-8_noh.csv\"))\n",
    "using (CsvWriter csv = new CsvWriter(sw, CultureInfo.InvariantCulture))\n",
    "{\n",
    "    csv.Configuration.HasHeaderRecord = false;\n",
    "    csv.WriteRecords(df_product_full);\n",
    "}"
   ]
  },
  {
   "cell_type": "markdown",
   "metadata": {},
   "source": [
    "---\n",
    "> P-097: 先に作成した以下形式のファイルを読み込み、データフレームを作成せよ。また、先頭10件を表示させ、正しくとりまれていることを確認せよ。\n",
    ">\n",
    "> - ファイル形式はCSV（カンマ区切り）\n",
    "> - ヘッダ有り\n",
    "> - 文字コードはUTF-8"
   ]
  },
  {
   "cell_type": "code",
   "execution_count": 219,
   "metadata": {
    "dotnet_interactive": {
     "language": "csharp"
    }
   },
   "outputs": [
    {
     "ename": "Error",
     "evalue": "(2,6): error CS0246: 型または名前空間の名前 'ProductFull' が見つかりませんでした (using ディレクティブまたはアセンブリ参照が指定されていることを確認してください)\r\n(3,25): error CS0246: 型または名前空間の名前 'StreamReader' が見つかりませんでした (using ディレクティブまたはアセンブリ参照が指定されていることを確認してください)\r\n(4,26): error CS0246: 型または名前空間の名前 'CsvReader' が見つかりませんでした (using ディレクティブまたはアセンブリ参照が指定されていることを確認してください)\r\n(4,44): error CS0103: 現在のコンテキストに 'CultureInfo' という名前は存在しません\r\n(7,38): error CS0246: 型または名前空間の名前 'ProductFull' が見つかりませんでした (using ディレクティブまたはアセンブリ参照が指定されていることを確認してください)",
     "output_type": "error",
     "traceback": [
      "(2,6): error CS0246: 型または名前空間の名前 'ProductFull' が見つかりませんでした (using ディレクティブまたはアセンブリ参照が指定されていることを確認してください)\r\n",
      "(3,25): error CS0246: 型または名前空間の名前 'StreamReader' が見つかりませんでした (using ディレクティブまたはアセンブリ参照が指定されていることを確認してください)\r\n",
      "(4,26): error CS0246: 型または名前空間の名前 'CsvReader' が見つかりませんでした (using ディレクティブまたはアセンブリ参照が指定されていることを確認してください)\r\n",
      "(4,44): error CS0103: 現在のコンテキストに 'CultureInfo' という名前は存在しません\r\n",
      "(7,38): error CS0246: 型または名前空間の名前 'ProductFull' が見つかりませんでした (using ディレクティブまたはアセンブリ参照が指定されていることを確認してください)"
     ]
    }
   ],
   "source": [
    "var fileName = \"P_df_product_full_UTF-8_header.csv\";\n",
    "List<ProductFull> ans097;\n",
    "using (var reader = new StreamReader(fileName))\n",
    "    using (var csv = new CsvReader(reader, CultureInfo.InvariantCulture))\n",
    "    {\n",
    "        csv.Configuration.HasHeaderRecord = true;\n",
    "        var records = csv.GetRecords<ProductFull>();\n",
    "        ans097 = records.ToList();\n",
    "    }\n",
    "\n",
    "ans097.Take(10).DisplayTable()"
   ]
  },
  {
   "cell_type": "markdown",
   "metadata": {},
   "source": [
    "---\n",
    "> P-098: 先に作成した以下形式のファイルを読み込み、データフレームを作成せよ。また、先頭10件を表示させ、正しくとりまれていることを確認せよ。\n",
    ">\n",
    "> - ファイル形式はCSV（カンマ区切り）\n",
    "> - ヘッダ無し\n",
    "> - 文字コードはUTF-8"
   ]
  },
  {
   "cell_type": "code",
   "execution_count": 220,
   "metadata": {
    "dotnet_interactive": {
     "language": "csharp"
    }
   },
   "outputs": [
    {
     "ename": "Error",
     "evalue": "(2,6): error CS0246: 型または名前空間の名前 'ProductFull' が見つかりませんでした (using ディレクティブまたはアセンブリ参照が指定されていることを確認してください)\r\n(3,25): error CS0246: 型または名前空間の名前 'StreamReader' が見つかりませんでした (using ディレクティブまたはアセンブリ参照が指定されていることを確認してください)\r\n(4,26): error CS0246: 型または名前空間の名前 'CsvReader' が見つかりませんでした (using ディレクティブまたはアセンブリ参照が指定されていることを確認してください)\r\n(4,44): error CS0103: 現在のコンテキストに 'CultureInfo' という名前は存在しません\r\n(7,38): error CS0246: 型または名前空間の名前 'ProductFull' が見つかりませんでした (using ディレクティブまたはアセンブリ参照が指定されていることを確認してください)",
     "output_type": "error",
     "traceback": [
      "(2,6): error CS0246: 型または名前空間の名前 'ProductFull' が見つかりませんでした (using ディレクティブまたはアセンブリ参照が指定されていることを確認してください)\r\n",
      "(3,25): error CS0246: 型または名前空間の名前 'StreamReader' が見つかりませんでした (using ディレクティブまたはアセンブリ参照が指定されていることを確認してください)\r\n",
      "(4,26): error CS0246: 型または名前空間の名前 'CsvReader' が見つかりませんでした (using ディレクティブまたはアセンブリ参照が指定されていることを確認してください)\r\n",
      "(4,44): error CS0103: 現在のコンテキストに 'CultureInfo' という名前は存在しません\r\n",
      "(7,38): error CS0246: 型または名前空間の名前 'ProductFull' が見つかりませんでした (using ディレクティブまたはアセンブリ参照が指定されていることを確認してください)"
     ]
    }
   ],
   "source": [
    "var fileName = \"P_df_product_full_UTF-8_noh.csv\";\n",
    "List<ProductFull> ans098;\n",
    "using (var reader = new StreamReader(fileName))\n",
    "    using (var csv = new CsvReader(reader, CultureInfo.InvariantCulture))\n",
    "    {\n",
    "        csv.Configuration.HasHeaderRecord = false;\n",
    "        var records = csv.GetRecords<ProductFull>();\n",
    "        ans098 = records.ToList();\n",
    "    }\n",
    "\n",
    "ans098.Take(10).DisplayTable()"
   ]
  },
  {
   "cell_type": "markdown",
   "metadata": {},
   "source": [
    "---\n",
    "> P-099: 先に作成したカテゴリ名付き商品データを以下の仕様でファイル出力せよ。なお、出力先のパスはdata配下とする。\n",
    ">\n",
    "> - ファイル形式はTSV（タブ区切り）\n",
    "> - ヘッダ有り\n",
    "> - 文字コードはUTF-8"
   ]
  },
  {
   "cell_type": "code",
   "execution_count": 221,
   "metadata": {
    "dotnet_interactive": {
     "language": "csharp"
    }
   },
   "outputs": [
    {
     "ename": "Error",
     "evalue": "(4,7): error CS0246: 型または名前空間の名前 'CsvHelper' が見つかりませんでした (using ディレクティブまたはアセンブリ参照が指定されていることを確認してください)\r\n(7,1): error CS0246: 型または名前空間の名前 'CsvConfiguration' が見つかりませんでした (using ディレクティブまたはアセンブリ参照が指定されていることを確認してください)\r\n(7,29): error CS0246: 型または名前空間の名前 'CsvConfiguration' が見つかりませんでした (using ディレクティブまたはアセンブリ参照が指定されていることを確認してください)\r\n(7,46): error CS0103: 現在のコンテキストに 'CultureInfo' という名前は存在しません\r\n(13,8): error CS0246: 型または名前空間の名前 'CsvWriter' が見つかりませんでした (using ディレクティブまたはアセンブリ参照が指定されていることを確認してください)\r\n(13,28): error CS0246: 型または名前空間の名前 'CsvWriter' が見つかりませんでした (using ディレクティブまたはアセンブリ参照が指定されていることを確認してください)\r\n(15,22): error CS0103: 現在のコンテキストに 'df_product_full' という名前は存在しません",
     "output_type": "error",
     "traceback": [
      "(4,7): error CS0246: 型または名前空間の名前 'CsvHelper' が見つかりませんでした (using ディレクティブまたはアセンブリ参照が指定されていることを確認してください)\r\n",
      "(7,1): error CS0246: 型または名前空間の名前 'CsvConfiguration' が見つかりませんでした (using ディレクティブまたはアセンブリ参照が指定されていることを確認してください)\r\n",
      "(7,29): error CS0246: 型または名前空間の名前 'CsvConfiguration' が見つかりませんでした (using ディレクティブまたはアセンブリ参照が指定されていることを確認してください)\r\n",
      "(7,46): error CS0103: 現在のコンテキストに 'CultureInfo' という名前は存在しません\r\n",
      "(13,8): error CS0246: 型または名前空間の名前 'CsvWriter' が見つかりませんでした (using ディレクティブまたはアセンブリ参照が指定されていることを確認してください)\r\n",
      "(13,28): error CS0246: 型または名前空間の名前 'CsvWriter' が見つかりませんでした (using ディレクティブまたはアセンブリ参照が指定されていることを確認してください)\r\n",
      "(15,22): error CS0103: 現在のコンテキストに 'df_product_full' という名前は存在しません"
     ]
    }
   ],
   "source": [
    "//df_product_full.to_csv('../data/P_df_product_full_UTF-8_header.tsv', sep='\\t', encoding='UTF-8', index=False)\n",
    "\n",
    "using System.IO;\n",
    "using CsvHelper.Configuration;\n",
    "\n",
    "// CSV 出力定義（タブ区切り）\n",
    "CsvConfiguration conf = new CsvConfiguration(CultureInfo.InvariantCulture)\n",
    "{\n",
    "    Delimiter = \"\\t\"\n",
    "};\n",
    "\n",
    "using (StreamWriter sw = new StreamWriter(@\"P_df_product_full_UTF-8_header.tsv\"))\n",
    "using (CsvWriter csv = new CsvWriter(sw, conf))\n",
    "{\n",
    "    csv.WriteRecords(df_product_full);\n",
    "}"
   ]
  },
  {
   "cell_type": "markdown",
   "metadata": {},
   "source": [
    "---\n",
    "> P-100: 先に作成した以下形式のファイルを読み込み、データフレームを作成せよ。また、先頭10件を表示させ、正しくとりまれていることを確認せよ。\n",
    ">\n",
    "> - ファイル形式はTSV（タブ区切り）\n",
    "> - ヘッダ有り\n",
    "> - 文字コードはUTF-8"
   ]
  },
  {
   "cell_type": "code",
   "execution_count": 222,
   "metadata": {
    "dotnet_interactive": {
     "language": "csharp"
    }
   },
   "outputs": [
    {
     "ename": "Error",
     "evalue": "(2,7): error CS0246: 型または名前空間の名前 'CsvHelper' が見つかりませんでした (using ディレクティブまたはアセンブリ参照が指定されていることを確認してください)\r\n(8,1): error CS0246: 型または名前空間の名前 'CsvConfiguration' が見つかりませんでした (using ディレクティブまたはアセンブリ参照が指定されていることを確認してください)\r\n(13,6): error CS0246: 型または名前空間の名前 'ProductFull' が見つかりませんでした (using ディレクティブまたはアセンブリ参照が指定されていることを確認してください)\r\n(8,29): error CS0246: 型または名前空間の名前 'CsvConfiguration' が見つかりませんでした (using ディレクティブまたはアセンブリ参照が指定されていることを確認してください)\r\n(8,46): error CS0103: 現在のコンテキストに 'CultureInfo' という名前は存在しません\r\n(15,26): error CS0246: 型または名前空間の名前 'CsvReader' が見つかりませんでした (using ディレクティブまたはアセンブリ参照が指定されていることを確認してください)\r\n(17,38): error CS0246: 型または名前空間の名前 'ProductFull' が見つかりませんでした (using ディレクティブまたはアセンブリ参照が指定されていることを確認してください)",
     "output_type": "error",
     "traceback": [
      "(2,7): error CS0246: 型または名前空間の名前 'CsvHelper' が見つかりませんでした (using ディレクティブまたはアセンブリ参照が指定されていることを確認してください)\r\n",
      "(8,1): error CS0246: 型または名前空間の名前 'CsvConfiguration' が見つかりませんでした (using ディレクティブまたはアセンブリ参照が指定されていることを確認してください)\r\n",
      "(13,6): error CS0246: 型または名前空間の名前 'ProductFull' が見つかりませんでした (using ディレクティブまたはアセンブリ参照が指定されていることを確認してください)\r\n",
      "(8,29): error CS0246: 型または名前空間の名前 'CsvConfiguration' が見つかりませんでした (using ディレクティブまたはアセンブリ参照が指定されていることを確認してください)\r\n",
      "(8,46): error CS0103: 現在のコンテキストに 'CultureInfo' という名前は存在しません\r\n",
      "(15,26): error CS0246: 型または名前空間の名前 'CsvReader' が見つかりませんでした (using ディレクティブまたはアセンブリ参照が指定されていることを確認してください)\r\n",
      "(17,38): error CS0246: 型または名前空間の名前 'ProductFull' が見つかりませんでした (using ディレクティブまたはアセンブリ参照が指定されていることを確認してください)"
     ]
    }
   ],
   "source": [
    "using System.IO;\n",
    "using CsvHelper.Configuration;\n",
    "\n",
    "//df_tmp = pd.read_table('../data/P_df_product_full_UTF-8_header.tsv', encoding='UTF-8')\n",
    "var fileName = \"P_df_product_full_UTF-8_header.tsv\";\n",
    "\n",
    "// CSV 読み込み定義\n",
    "CsvConfiguration conf = new CsvConfiguration(CultureInfo.InvariantCulture)\n",
    "{\n",
    "    Delimiter = \"\\t\"\n",
    "};\n",
    "\n",
    "List<ProductFull> ans100;\n",
    "using (var reader = new StreamReader(fileName))\n",
    "    using (var csv = new CsvReader(reader, conf))\n",
    "    {\n",
    "        var records = csv.GetRecords<ProductFull>();\n",
    "        ans100 = records.ToList();\n",
    "    }\n",
    "\n",
    "ans100.Take(10).DisplayTable()"
   ]
  },
  {
   "cell_type": "markdown",
   "metadata": {},
   "source": [
    "# これで１００本終わりです。おつかれさまでした！"
   ]
  }
 ],
 "metadata": {
  "kernelspec": {
   "display_name": ".NET (C#)",
   "language": "C#",
   "name": ".net-csharp"
  },
  "language_info": {
   "file_extension": ".ps1",
   "mimetype": "text/x-powershell",
   "name": "polyglot-notebook",
   "pygments_lexer": "powershell",
   "version": "7.0"
  },
  "polyglot_notebook": {
   "kernelInfo": {
    "defaultKernelName": "csharp",
    "items": [
     {
      "aliases": [],
      "name": "csharp"
     },
     {
      "aliases": [],
      "name": "powershell"
     }
    ]
   }
  }
 },
 "nbformat": 4,
 "nbformat_minor": 4
}
